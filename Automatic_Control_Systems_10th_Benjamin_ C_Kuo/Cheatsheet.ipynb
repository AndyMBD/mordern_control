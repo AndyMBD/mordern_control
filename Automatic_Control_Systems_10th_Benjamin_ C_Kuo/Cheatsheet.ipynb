{
 "cells": [
  {
   "cell_type": "markdown",
   "metadata": {},
   "source": [
    "# The Jupyter notebook cheat sheet\n",
    "This document will be available to you during tests and exams"
   ]
  },
  {
   "cell_type": "markdown",
   "metadata": {},
   "source": [
    "## Table of Contents\n",
    "\n",
    "[Numeric](#Numeric)\n",
    "\n",
    "[Basic plotting functions](#Basic-plotting-functions)\n",
    "\n",
    "[Symbolic manipulation](#Symbolic-manipulation)\n",
    "\n",
    "[Equation solving](#Equation-solving)\n",
    "\n",
    "[Matrix math](#Matrix-math)"
   ]
  },
  {
   "cell_type": "code",
   "execution_count": 1,
   "metadata": {},
   "outputs": [],
   "source": [
    "import tbcontrol\n",
    "tbcontrol.expectversion('0.1.2')"
   ]
  },
  {
   "cell_type": "markdown",
   "metadata": {},
   "source": [
    "## Numeric "
   ]
  },
  {
   "cell_type": "code",
   "execution_count": 2,
   "metadata": {},
   "outputs": [],
   "source": [
    "import numpy\n",
    "import scipy"
   ]
  },
  {
   "cell_type": "code",
   "execution_count": 3,
   "metadata": {},
   "outputs": [],
   "source": [
    "a = numpy.array([1, 2, 3])"
   ]
  },
  {
   "cell_type": "code",
   "execution_count": 4,
   "metadata": {},
   "outputs": [],
   "source": [
    "t = numpy.linspace(0, 10)"
   ]
  },
  {
   "cell_type": "markdown",
   "metadata": {},
   "source": [
    "## Basic plotting functions"
   ]
  },
  {
   "cell_type": "code",
   "execution_count": 5,
   "metadata": {},
   "outputs": [],
   "source": [
    "import matplotlib.pyplot as plt\n",
    "%matplotlib inline"
   ]
  },
  {
   "cell_type": "code",
   "execution_count": 6,
   "metadata": {},
   "outputs": [
    {
     "data": {
      "image/png": "[encoded data removed]",
      "text/plain": [
       "<Figure size 432x288 with 6 Axes>"
      ]
     },
     "metadata": {
      "needs_background": "light"
     },
     "output_type": "display_data"
    }
   ],
   "source": [
    "plotfuncs = [plt.plot, \n",
    "             plt.stem,\n",
    "             plt.scatter, \n",
    "             plt.semilogx, \n",
    "             plt.semilogy, \n",
    "             plt.loglog]\n",
    "\n",
    "for i, func in enumerate(plotfuncs, 1):\n",
    "    plt.subplot(2, 3, i)\n",
    "    func([1, 2, 3], [2, 1, 2])\n",
    "    plt.title(func.__name__)\n",
    "plt.tight_layout()"
   ]
  },
  {
   "cell_type": "markdown",
   "metadata": {},
   "source": [
    "## Symbolic manipulation"
   ]
  },
  {
   "cell_type": "markdown",
   "metadata": {},
   "source": [
    "### Imports"
   ]
  },
  {
   "cell_type": "code",
   "execution_count": 7,
   "metadata": {},
   "outputs": [],
   "source": [
    "import sympy\n",
    "sympy.init_printing()"
   ]
  },
  {
   "cell_type": "markdown",
   "metadata": {},
   "source": [
    "Symbol definitions"
   ]
  },
  {
   "cell_type": "code",
   "execution_count": 8,
   "metadata": {},
   "outputs": [],
   "source": [
    "s = sympy.Symbol('s')  # A single symbol\n",
    "tau, K_c = sympy.symbols('tau K_c', positive=True) # we can use real=True or complex=True for other kinds of variables"
   ]
  },
  {
   "cell_type": "markdown",
   "metadata": {},
   "source": [
    "Example controller and system"
   ]
  },
  {
   "cell_type": "code",
   "execution_count": 9,
   "metadata": {},
   "outputs": [],
   "source": [
    "Gc = K_c*((tau*s + 1) / (tau*s))\n",
    "GvGpGm = 5 / ((10*s + 1)**2)"
   ]
  },
  {
   "cell_type": "markdown",
   "metadata": {},
   "source": [
    "### Working with rational functions and polynomials"
   ]
  },
  {
   "cell_type": "markdown",
   "metadata": {},
   "source": [
    "We often want nice rational functions, but sympy doesn't make expressions rational by default"
   ]
  },
  {
   "cell_type": "code",
   "execution_count": 10,
   "metadata": {},
   "outputs": [
    {
     "data": {
      "image/png": "[encoded data removed]",
      "text/latex": [
       "$\\displaystyle \\frac{5 K_{c} \\left(s \\tau + 1\\right)}{s \\tau \\left(10 s + 1\\right)^{2}} + 1$"
      ],
      "text/plain": [
       "5⋅K_c⋅(s⋅τ + 1)    \n",
       "─────────────── + 1\n",
       "              2    \n",
       "s⋅τ⋅(10⋅s + 1)     "
      ]
     },
     "execution_count": 10,
     "metadata": {},
     "output_type": "execute_result"
    }
   ],
   "source": [
    "chareq = GvGpGm*Gc + 1\n",
    "chareq"
   ]
  },
  {
   "cell_type": "markdown",
   "metadata": {},
   "source": [
    "The `cancel` function forces this to be a fraction. `collect` collects terms."
   ]
  },
  {
   "cell_type": "code",
   "execution_count": 11,
   "metadata": {},
   "outputs": [
    {
     "data": {
      "image/png": "[encoded data removed]",
      "text/latex": [
       "$\\displaystyle \\frac{5 K_{c} + 100 s^{3} \\tau + 20 s^{2} \\tau + s \\left(5 K_{c} \\tau + \\tau\\right)}{100 s^{3} \\tau + 20 s^{2} \\tau + s \\tau}$"
      ],
      "text/plain": [
       "             3         2                    \n",
       "5⋅K_c + 100⋅s ⋅τ + 20⋅s ⋅τ + s⋅(5⋅K_c⋅τ + τ)\n",
       "────────────────────────────────────────────\n",
       "               3         2                  \n",
       "          100⋅s ⋅τ + 20⋅s ⋅τ + s⋅τ          "
      ]
     },
     "execution_count": 11,
     "metadata": {},
     "output_type": "execute_result"
    }
   ],
   "source": [
    "chareq = chareq.cancel().collect(s)\n",
    "chareq"
   ]
  },
  {
   "cell_type": "markdown",
   "metadata": {},
   "source": [
    "In some cases we can factor equations:"
   ]
  },
  {
   "cell_type": "code",
   "execution_count": 12,
   "metadata": {},
   "outputs": [
    {
     "data": {
      "image/png": "[encoded data removed]",
      "text/latex": [
       "$\\displaystyle \\frac{5 K_{c} + 100 s^{3} \\tau + 20 s^{2} \\tau + s \\left(5 K_{c} \\tau + \\tau\\right)}{s \\tau \\left(10 s + 1\\right)^{2}}$"
      ],
      "text/plain": [
       "             3         2                    \n",
       "5⋅K_c + 100⋅s ⋅τ + 20⋅s ⋅τ + s⋅(5⋅K_c⋅τ + τ)\n",
       "────────────────────────────────────────────\n",
       "                            2               \n",
       "              s⋅τ⋅(10⋅s + 1)                "
      ]
     },
     "execution_count": 12,
     "metadata": {},
     "output_type": "execute_result"
    }
   ],
   "source": [
    "chareq.factor(s)"
   ]
  },
  {
   "cell_type": "markdown",
   "metadata": {},
   "source": [
    "Obtain the numerator and denominator:"
   ]
  },
  {
   "cell_type": "code",
   "execution_count": 13,
   "metadata": {},
   "outputs": [
    {
     "data": {
      "image/png": "[encoded data removed]",
      "text/latex": [
       "$\\displaystyle \\left( 5 K_{c} + 100 s^{3} \\tau + 20 s^{2} \\tau + s \\left(5 K_{c} \\tau + \\tau\\right), \\  100 s^{3} \\tau + 20 s^{2} \\tau + s \\tau\\right)$"
      ],
      "text/plain": [
       "⎛             3         2                           3         2        ⎞\n",
       "⎝5⋅K_c + 100⋅s ⋅τ + 20⋅s ⋅τ + s⋅(5⋅K_c⋅τ + τ), 100⋅s ⋅τ + 20⋅s ⋅τ + s⋅τ⎠"
      ]
     },
     "execution_count": 13,
     "metadata": {},
     "output_type": "execute_result"
    }
   ],
   "source": [
    "sympy.numer(chareq), sympy.denom(chareq)"
   ]
  },
  {
   "cell_type": "markdown",
   "metadata": {},
   "source": [
    "If you want them both, you can use"
   ]
  },
  {
   "cell_type": "code",
   "execution_count": 14,
   "metadata": {},
   "outputs": [
    {
     "data": {
      "image/png": "[encoded data removed]",
      "text/latex": [
       "$\\displaystyle \\left( 5 K_{c} + 100 s^{3} \\tau + 20 s^{2} \\tau + s \\left(5 K_{c} \\tau + \\tau\\right), \\  100 s^{3} \\tau + 20 s^{2} \\tau + s \\tau\\right)$"
      ],
      "text/plain": [
       "⎛             3         2                           3         2        ⎞\n",
       "⎝5⋅K_c + 100⋅s ⋅τ + 20⋅s ⋅τ + s⋅(5⋅K_c⋅τ + τ), 100⋅s ⋅τ + 20⋅s ⋅τ + s⋅τ⎠"
      ]
     },
     "execution_count": 14,
     "metadata": {},
     "output_type": "execute_result"
    }
   ],
   "source": [
    "chareq.as_numer_denom()"
   ]
  },
  {
   "cell_type": "markdown",
   "metadata": {},
   "source": [
    "Convert to polynomial in s"
   ]
  },
  {
   "cell_type": "code",
   "execution_count": 41,
   "metadata": {},
   "outputs": [
    {
     "data": {
      "image/png": "[encoded data removed]",
      "text/latex": [
       "$\\displaystyle \\operatorname{Poly}{\\left( 100 \\tau s^{3} + 20 \\tau s^{2} + \\left(5 K_{c} \\tau + \\tau\\right) s + 5 K_{c}, s, domain=\\mathbb{Z}\\left[K_{c}, \\tau\\right] \\right)}$"
      ],
      "text/plain": [
       "Poly(100*tau*s**3 + 20*tau*s**2 + (5*K_c*tau + tau)*s + 5*K_c, s, domain='ZZ[K\n",
       "_c,tau]')"
      ]
     },
     "execution_count": 41,
     "metadata": {},
     "output_type": "execute_result"
    }
   ],
   "source": [
    "numer = sympy.poly(sympy.numer(chareq), s)\n",
    "numer"
   ]
  },
  {
   "cell_type": "markdown",
   "metadata": {},
   "source": [
    "Once we have a polynomial, it is easy to obtain coefficients:"
   ]
  },
  {
   "cell_type": "code",
   "execution_count": 16,
   "metadata": {},
   "outputs": [
    {
     "data": {
      "image/png": "[encoded data removed]",
      "text/latex": [
       "$\\displaystyle \\left[ 100 \\tau, \\  20 \\tau, \\  5 K_{c} \\tau + \\tau, \\  5 K_{c}\\right]$"
      ],
      "text/plain": [
       "[100⋅τ, 20⋅τ, 5⋅K_c⋅τ + τ, 5⋅K_c]"
      ]
     },
     "execution_count": 16,
     "metadata": {},
     "output_type": "execute_result"
    }
   ],
   "source": [
    "numer.all_coeffs()"
   ]
  },
  {
   "cell_type": "markdown",
   "metadata": {},
   "source": [
    "Calculate the Routh Array"
   ]
  },
  {
   "cell_type": "code",
   "execution_count": 17,
   "metadata": {},
   "outputs": [],
   "source": [
    "from tbcontrol.symbolic import routh"
   ]
  },
  {
   "cell_type": "code",
   "execution_count": 18,
   "metadata": {},
   "outputs": [
    {
     "data": {
      "image/png": "[encoded data removed]",
      "text/latex": [
       "$\\displaystyle \\left[\\begin{matrix}100 \\tau & 5 K_{c} \\tau + \\tau\\\\20 \\tau & 5 K_{c}\\\\5 K_{c} \\tau - 25 K_{c} + \\tau & 0\\\\5 K_{c} & 0\\end{matrix}\\right]$"
      ],
      "text/plain": [
       "⎡       100⋅τ          5⋅K_c⋅τ + τ⎤\n",
       "⎢                                 ⎥\n",
       "⎢        20⋅τ             5⋅K_c   ⎥\n",
       "⎢                                 ⎥\n",
       "⎢5⋅K_c⋅τ - 25⋅K_c + τ       0     ⎥\n",
       "⎢                                 ⎥\n",
       "⎣       5⋅K_c               0     ⎦"
      ]
     },
     "execution_count": 18,
     "metadata": {},
     "output_type": "execute_result"
    }
   ],
   "source": [
    "routh(numer)"
   ]
  },
  {
   "cell_type": "markdown",
   "metadata": {},
   "source": [
    "To get a function which can be used numerically, use `lambdify`:"
   ]
  },
  {
   "cell_type": "code",
   "execution_count": 42,
   "metadata": {},
   "outputs": [
    {
     "data": {
      "text/plain": [
       "<function _lambdifygenerated(K_c, tau)>"
      ]
     },
     "execution_count": 42,
     "metadata": {},
     "output_type": "execute_result"
    }
   ],
   "source": [
    "f = sympy.lambdify((K_c, tau), K_c + tau)\n",
    "f"
   ]
  },
  {
   "cell_type": "code",
   "execution_count": 20,
   "metadata": {},
   "outputs": [
    {
     "data": {
      "image/png": "[encoded data removed]",
      "text/latex": [
       "$\\displaystyle 3$"
      ],
      "text/plain": [
       "3"
      ]
     },
     "execution_count": 20,
     "metadata": {},
     "output_type": "execute_result"
    }
   ],
   "source": [
    "f(1, 2)"
   ]
  },
  {
   "cell_type": "markdown",
   "metadata": {},
   "source": [
    "### Functions useful for discrete systems"
   ]
  },
  {
   "cell_type": "code",
   "execution_count": 21,
   "metadata": {},
   "outputs": [],
   "source": [
    "z, q = sympy.symbols('z, q')"
   ]
  },
  {
   "cell_type": "code",
   "execution_count": 22,
   "metadata": {},
   "outputs": [
    {
     "data": {
      "image/png": "[encoded data removed]",
      "text/latex": [
       "$\\displaystyle \\frac{1}{z \\left(1 - \\frac{1}{z}\\right)}$"
      ],
      "text/plain": [
       "    1    \n",
       "─────────\n",
       "  ⎛    1⎞\n",
       "z⋅⎜1 - ─⎟\n",
       "  ⎝    z⎠"
      ]
     },
     "execution_count": 22,
     "metadata": {},
     "output_type": "execute_result"
    }
   ],
   "source": [
    "Gz = z**-1/(1 - z**-1)\n",
    "Gz"
   ]
  },
  {
   "cell_type": "markdown",
   "metadata": {},
   "source": [
    "Write in terms of positive powers of $z$:"
   ]
  },
  {
   "cell_type": "code",
   "execution_count": 23,
   "metadata": {},
   "outputs": [
    {
     "data": {
      "image/png": "[encoded data removed]",
      "text/latex": [
       "$\\displaystyle \\frac{1}{z - 1}$"
      ],
      "text/plain": [
       "  1  \n",
       "─────\n",
       "z - 1"
      ]
     },
     "execution_count": 23,
     "metadata": {},
     "output_type": "execute_result"
    }
   ],
   "source": [
    "Gz.cancel()"
   ]
  },
  {
   "cell_type": "markdown",
   "metadata": {},
   "source": [
    "Write in terms of negative powers of $z$:"
   ]
  },
  {
   "cell_type": "code",
   "execution_count": 24,
   "metadata": {},
   "outputs": [
    {
     "data": {
      "image/png": "[encoded data removed]",
      "text/latex": [
       "$\\displaystyle - \\frac{q}{q - 1}$"
      ],
      "text/plain": [
       " -q  \n",
       "─────\n",
       "q - 1"
      ]
     },
     "execution_count": 24,
     "metadata": {},
     "output_type": "execute_result"
    }
   ],
   "source": [
    "Gz.subs({z: q**-1}).cancel()"
   ]
  },
  {
   "cell_type": "markdown",
   "metadata": {},
   "source": [
    "Inversion of the $z$ transform"
   ]
  },
  {
   "cell_type": "code",
   "execution_count": 25,
   "metadata": {},
   "outputs": [],
   "source": [
    "from tbcontrol.symbolic import sampledvalues"
   ]
  },
  {
   "cell_type": "code",
   "execution_count": 26,
   "metadata": {},
   "outputs": [
    {
     "data": {
      "image/png": "[encoded data removed]",
      "text/latex": [
       "$\\displaystyle \\left[ 0, \\  1, \\  1, \\  1, \\  1, \\  1, \\  1, \\  1, \\  1, \\  1\\right]$"
      ],
      "text/plain": [
       "[0, 1, 1, 1, 1, 1, 1, 1, 1, 1]"
      ]
     },
     "execution_count": 26,
     "metadata": {},
     "output_type": "execute_result"
    }
   ],
   "source": [
    "sampledvalues(Gz, z, 10)"
   ]
  },
  {
   "cell_type": "markdown",
   "metadata": {},
   "source": [
    "## Equation solving"
   ]
  },
  {
   "cell_type": "markdown",
   "metadata": {},
   "source": [
    "### Symbolic"
   ]
  },
  {
   "cell_type": "code",
   "execution_count": 27,
   "metadata": {},
   "outputs": [
    {
     "data": {
      "image/png": "[encoded data removed]",
      "text/latex": [
       "$\\displaystyle \\left\\{ x : - a, \\  y : a + 2, \\  z : -2\\right\\}$"
      ],
      "text/plain": [
       "{x: -a, y: a + 2, z: -2}"
      ]
     },
     "execution_count": 27,
     "metadata": {},
     "output_type": "execute_result"
    }
   ],
   "source": [
    "x, y, z, a = sympy.symbols('x, y, z, a')\n",
    "residuals = [x + y - 2, y + z - a, x + y + z]\n",
    "unknowns = [x, y, z]\n",
    "sympy.solve(residuals, unknowns)"
   ]
  },
  {
   "cell_type": "markdown",
   "metadata": {},
   "source": [
    "### Numeric sympy"
   ]
  },
  {
   "cell_type": "code",
   "execution_count": 28,
   "metadata": {},
   "outputs": [
    {
     "data": {
      "image/png": "[encoded data removed]",
      "text/latex": [
       "$\\displaystyle \\left[\\begin{matrix}-2.21910714891375\\\\2.21910714891375\\end{matrix}\\right]$"
      ],
      "text/plain": [
       "⎡-2.21910714891375⎤\n",
       "⎢                 ⎥\n",
       "⎣2.21910714891375 ⎦"
      ]
     },
     "execution_count": 28,
     "metadata": {},
     "output_type": "execute_result"
    }
   ],
   "source": [
    "residuals = [2*x**2 - 2*y**2, sympy.sin(x) + sympy.log(y)]\n",
    "unknowns = [x, y]\n",
    "sympy.nsolve(residuals, unknowns, [1, 3])"
   ]
  },
  {
   "cell_type": "markdown",
   "metadata": {},
   "source": [
    "### Numeric"
   ]
  },
  {
   "cell_type": "code",
   "execution_count": 29,
   "metadata": {},
   "outputs": [],
   "source": [
    "import scipy.optimize"
   ]
  },
  {
   "cell_type": "code",
   "execution_count": 30,
   "metadata": {},
   "outputs": [],
   "source": [
    "def residuals(unknowns):\n",
    "    x, y = unknowns\n",
    "    return [2*x**2 - 2*y**2, numpy.sin(x) + numpy.log(y)]"
   ]
  },
  {
   "cell_type": "code",
   "execution_count": 31,
   "metadata": {},
   "outputs": [],
   "source": [
    "starting_point = [1, 3]"
   ]
  },
  {
   "cell_type": "code",
   "execution_count": 32,
   "metadata": {},
   "outputs": [
    {
     "data": {
      "image/png": "[encoded data removed]",
      "text/latex": [
       "$\\displaystyle \\left[ -16, \\  1.94008327347601\\right]$"
      ],
      "text/plain": [
       "[-16, 1.9400832734760063]"
      ]
     },
     "execution_count": 32,
     "metadata": {},
     "output_type": "execute_result"
    }
   ],
   "source": [
    "residuals(starting_point)"
   ]
  },
  {
   "cell_type": "code",
   "execution_count": 33,
   "metadata": {},
   "outputs": [
    {
     "data": {
      "text/plain": [
       "array([-2.21910715,  2.21910715])"
      ]
     },
     "execution_count": 33,
     "metadata": {},
     "output_type": "execute_result"
    }
   ],
   "source": [
    "scipy.optimize.fsolve(residuals, starting_point)"
   ]
  },
  {
   "cell_type": "markdown",
   "metadata": {},
   "source": [
    "## Matrix math "
   ]
  },
  {
   "cell_type": "markdown",
   "metadata": {},
   "source": [
    "### Symbolic"
   ]
  },
  {
   "cell_type": "code",
   "execution_count": 34,
   "metadata": {},
   "outputs": [],
   "source": [
    "G11, G12, G21, G22 = sympy.symbols('G11, G12, G21, G22')"
   ]
  },
  {
   "cell_type": "markdown",
   "metadata": {},
   "source": [
    "Creation"
   ]
  },
  {
   "cell_type": "code",
   "execution_count": 35,
   "metadata": {},
   "outputs": [
    {
     "data": {
      "image/png": "[encoded data removed]",
      "text/latex": [
       "$\\displaystyle \\left[\\begin{matrix}G_{11} & G_{12}\\\\G_{21} & G_{22}\\end{matrix}\\right]$"
      ],
      "text/plain": [
       "⎡G₁₁  G₁₂⎤\n",
       "⎢        ⎥\n",
       "⎣G₂₁  G₂₂⎦"
      ]
     },
     "execution_count": 35,
     "metadata": {},
     "output_type": "execute_result"
    }
   ],
   "source": [
    "G = sympy.Matrix([[G11, G12], [G21, G22]])\n",
    "G"
   ]
  },
  {
   "cell_type": "markdown",
   "metadata": {},
   "source": [
    "Determinant, inverse, transpose"
   ]
  },
  {
   "cell_type": "code",
   "execution_count": 36,
   "metadata": {},
   "outputs": [
    {
     "data": {
      "image/png": "[encoded data removed]",
      "text/latex": [
       "$\\displaystyle \\left( G_{11} G_{22} - G_{12} G_{21}, \\  \\left[\\begin{matrix}\\frac{G_{22}}{G_{11} G_{22} - G_{12} G_{21}} & - \\frac{G_{12}}{G_{11} G_{22} - G_{12} G_{21}}\\\\- \\frac{G_{21}}{G_{11} G_{22} - G_{12} G_{21}} & \\frac{G_{11}}{G_{11} G_{22} - G_{12} G_{21}}\\end{matrix}\\right], \\  \\left[\\begin{matrix}G_{11} & G_{21}\\\\G_{12} & G_{22}\\end{matrix}\\right]\\right)$"
      ],
      "text/plain": [
       "⎛                   ⎡       G₂₂               -G₁₂       ⎤            ⎞\n",
       "⎜                   ⎢─────────────────  ─────────────────⎥            ⎟\n",
       "⎜                   ⎢G₁₁⋅G₂₂ - G₁₂⋅G₂₁  G₁₁⋅G₂₂ - G₁₂⋅G₂₁⎥  ⎡G₁₁  G₂₁⎤⎟\n",
       "⎜G₁₁⋅G₂₂ - G₁₂⋅G₂₁, ⎢                                    ⎥, ⎢        ⎥⎟\n",
       "⎜                   ⎢      -G₂₁                G₁₁       ⎥  ⎣G₁₂  G₂₂⎦⎟\n",
       "⎜                   ⎢─────────────────  ─────────────────⎥            ⎟\n",
       "⎝                   ⎣G₁₁⋅G₂₂ - G₁₂⋅G₂₁  G₁₁⋅G₂₂ - G₁₂⋅G₂₁⎦            ⎠"
      ]
     },
     "execution_count": 36,
     "metadata": {},
     "output_type": "execute_result"
    }
   ],
   "source": [
    "G.det(), G.inv(), G.T"
   ]
  },
  {
   "cell_type": "markdown",
   "metadata": {},
   "source": [
    "Math operations: Multiplication, addition, elementwise multiplication:"
   ]
  },
  {
   "cell_type": "code",
   "execution_count": 37,
   "metadata": {},
   "outputs": [
    {
     "data": {
      "image/png": "[encoded data removed]",
      "text/latex": [
       "$\\displaystyle \\left( \\left[\\begin{matrix}G_{11}^{2} + G_{12} G_{21} & G_{11} G_{12} + G_{12} G_{22}\\\\G_{11} G_{21} + G_{21} G_{22} & G_{12} G_{21} + G_{22}^{2}\\end{matrix}\\right], \\  \\left[\\begin{matrix}2 G_{11} & 2 G_{12}\\\\2 G_{21} & 2 G_{22}\\end{matrix}\\right], \\  \\left[\\begin{matrix}G_{11}^{2} & G_{12}^{2}\\\\G_{21}^{2} & G_{22}^{2}\\end{matrix}\\right]\\right)$"
      ],
      "text/plain": [
       "⎛⎡    2                               ⎤                  ⎡   2     2⎤⎞\n",
       "⎜⎢ G₁₁  + G₁₂⋅G₂₁    G₁₁⋅G₁₂ + G₁₂⋅G₂₂⎥  ⎡2⋅G₁₁  2⋅G₁₂⎤  ⎢G₁₁   G₁₂ ⎥⎟\n",
       "⎜⎢                                    ⎥, ⎢            ⎥, ⎢          ⎥⎟\n",
       "⎜⎢                                 2  ⎥  ⎣2⋅G₂₁  2⋅G₂₂⎦  ⎢   2     2⎥⎟\n",
       "⎝⎣G₁₁⋅G₂₁ + G₂₁⋅G₂₂   G₁₂⋅G₂₁ + G₂₂   ⎦                  ⎣G₂₁   G₂₂ ⎦⎠"
      ]
     },
     "execution_count": 37,
     "metadata": {},
     "output_type": "execute_result"
    }
   ],
   "source": [
    "G*G, G+G, G.multiply_elementwise(G)"
   ]
  },
  {
   "cell_type": "markdown",
   "metadata": {},
   "source": [
    "### Numeric"
   ]
  },
  {
   "cell_type": "markdown",
   "metadata": {},
   "source": [
    "Creation"
   ]
  },
  {
   "cell_type": "code",
   "execution_count": 38,
   "metadata": {},
   "outputs": [],
   "source": [
    "G = numpy.matrix([[1, 2], [3, 4]])"
   ]
  },
  {
   "cell_type": "markdown",
   "metadata": {},
   "source": [
    "Determinant, inverse, transpose"
   ]
  },
  {
   "cell_type": "code",
   "execution_count": 39,
   "metadata": {},
   "outputs": [
    {
     "data": {
      "text/plain": [
       "(-2.0000000000000004,\n",
       " matrix([[-2. ,  1. ],\n",
       "         [ 1.5, -0.5]]),\n",
       " matrix([[1, 3],\n",
       "         [2, 4]]))"
      ]
     },
     "execution_count": 39,
     "metadata": {},
     "output_type": "execute_result"
    }
   ],
   "source": [
    "numpy.linalg.det(G), G.I, G.T"
   ]
  },
  {
   "cell_type": "markdown",
   "metadata": {},
   "source": [
    "Math operations: Multiplication, addition, elementwise multiplication:"
   ]
  },
  {
   "cell_type": "code",
   "execution_count": 40,
   "metadata": {},
   "outputs": [
    {
     "data": {
      "text/plain": [
       "(matrix([[ 7, 10],\n",
       "         [15, 22]]),\n",
       " matrix([[2, 4],\n",
       "         [6, 8]]),\n",
       " array([[ 1,  4],\n",
       "        [ 9, 16]]))"
      ]
     },
     "execution_count": 40,
     "metadata": {},
     "output_type": "execute_result"
    }
   ],
   "source": [
    "G*G, G+G, G.A*G.A"
   ]
  },
  {
   "cell_type": "code",
   "execution_count": null,
   "metadata": {},
   "outputs": [],
   "source": []
  }
 ],
 "metadata": {
  "anaconda-cloud": {},
  "kernelspec": {
   "display_name": "Python 3",
   "language": "python",
   "name": "python3"
  },
  "language_info": {
   "codemirror_mode": {
    "name": "ipython",
    "version": 3
   },
   "file_extension": ".py",
   "mimetype": "text/x-python",
   "name": "python",
   "nbconvert_exporter": "python",
   "pygments_lexer": "ipython3",
   "version": "3.10.5"
  }
 },
 "nbformat": 4,
 "nbformat_minor": 2
}
