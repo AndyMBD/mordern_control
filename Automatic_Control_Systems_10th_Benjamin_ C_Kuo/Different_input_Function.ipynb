{
 "cells": [
  {
   "cell_type": "markdown",
   "metadata": {},
   "source": [
    "# Different input function"
   ]
  },
  {
   "cell_type": "markdown",
   "metadata": {},
   "source": [
    "## initial symbol defination"
   ]
  },
  {
   "cell_type": "code",
   "execution_count": 38,
   "metadata": {},
   "outputs": [],
   "source": [
    "from IPython.core.interactiveshell import InteractiveShell\n",
    "InteractiveShell.ast_node_interactivity = \"all\" \n",
    "import sympy as sym\n",
    "from matplotlib import pyplot as plt\n",
    "import numpy as np\n",
    "\n",
    "sym.init_printing()\n",
    "\n",
    "R,t, s = sym.symbols('R,t, s')\n"
   ]
  },
  {
   "cell_type": "markdown",
   "metadata": {},
   "source": [
    "## Step input function"
   ]
  },
  {
   "cell_type": "code",
   "execution_count": 39,
   "metadata": {},
   "outputs": [
    {
     "data": {
      "image/png": "[encoded data removed]",
      "text/latex": [
       "$\\displaystyle R \\theta\\left(t\\right)$"
      ],
      "text/plain": [
       "R⋅θ(t)"
      ]
     },
     "execution_count": 39,
     "metadata": {},
     "output_type": "execute_result"
    }
   ],
   "source": [
    "t_offset = sym.symbols('t_offset')\n",
    "f=R*sym.Heaviside(t)\n",
    "f"
   ]
  },
  {
   "cell_type": "code",
   "execution_count": 40,
   "metadata": {},
   "outputs": [
    {
     "data": {
      "image/png": "[encoded data removed]",
      "text/latex": [
       "$\\displaystyle 10 \\theta\\left(t\\right)$"
      ],
      "text/plain": [
       "10⋅θ(t)"
      ]
     },
     "execution_count": 40,
     "metadata": {},
     "output_type": "execute_result"
    }
   ],
   "source": [
    "f_subs=f.subs({R:10})\n",
    "f_subs"
   ]
  },
  {
   "cell_type": "code",
   "execution_count": 44,
   "metadata": {},
   "outputs": [
    {
     "ename": "TypeError",
     "evalue": "'NoneType' object is not iterable",
     "output_type": "error",
     "traceback": [
      "\u001b[1;31m---------------------------------------------------------------------------\u001b[0m",
      "\u001b[1;31mTypeError\u001b[0m                                 Traceback (most recent call last)",
      "\u001b[1;32mc:\\Users\\j4000774\\Desktop\\Modern_Control_Theory\\Automatic_Control_Systems_10th_Benjamin_ C_Kuo\\Different_input_Function.ipynb Cell 7\u001b[0m in \u001b[0;36m5\n\u001b[0;32m      <a href='vscode-notebook-cell:/c%3A/Users/j4000774/Desktop/Modern_Control_Theory/Automatic_Control_Systems_10th_Benjamin_%20C_Kuo/Different_input_Function.ipynb#W1sZmlsZQ%3D%3D?line=2'>3</a>\u001b[0m t_delta\u001b[39m=\u001b[39m\u001b[39m0.01\u001b[39m\n\u001b[0;32m      <a href='vscode-notebook-cell:/c%3A/Users/j4000774/Desktop/Modern_Control_Theory/Automatic_Control_Systems_10th_Benjamin_%20C_Kuo/Different_input_Function.ipynb#W1sZmlsZQ%3D%3D?line=3'>4</a>\u001b[0m t\u001b[39m=\u001b[39mnp\u001b[39m.\u001b[39marange(t_start,t_stop,t_delta)\n\u001b[1;32m----> <a href='vscode-notebook-cell:/c%3A/Users/j4000774/Desktop/Modern_Control_Theory/Automatic_Control_Systems_10th_Benjamin_%20C_Kuo/Different_input_Function.ipynb#W1sZmlsZQ%3D%3D?line=4'>5</a>\u001b[0m sym\u001b[39m.\u001b[39;49mplot(t,f_subs)\n",
      "File \u001b[1;32mc:\\Users\\j4000774\\AppData\\Local\\Programs\\Python\\Python310\\lib\\site-packages\\sympy\\plotting\\plot.py:1850\u001b[0m, in \u001b[0;36mplot\u001b[1;34m(show, *args, **kwargs)\u001b[0m\n\u001b[0;32m   1848\u001b[0m series \u001b[39m=\u001b[39m []\n\u001b[0;32m   1849\u001b[0m plot_expr \u001b[39m=\u001b[39m check_arguments(args, \u001b[39m1\u001b[39m, \u001b[39m1\u001b[39m)\n\u001b[1;32m-> 1850\u001b[0m series \u001b[39m=\u001b[39m [LineOver1DRangeSeries(\u001b[39m*\u001b[39marg, \u001b[39m*\u001b[39m\u001b[39m*\u001b[39mkwargs) \u001b[39mfor\u001b[39;00m arg \u001b[39min\u001b[39;00m plot_expr]\n\u001b[0;32m   1852\u001b[0m plots \u001b[39m=\u001b[39m Plot(\u001b[39m*\u001b[39mseries, \u001b[39m*\u001b[39m\u001b[39m*\u001b[39mkwargs)\n\u001b[0;32m   1853\u001b[0m \u001b[39mif\u001b[39;00m show:\n",
      "\u001b[1;31mTypeError\u001b[0m: 'NoneType' object is not iterable"
     ]
    }
   ],
   "source": [
    "t_start=0\n",
    "t_stop=10\n",
    "t_delta=0.01\n",
    "t=np.arange(t_start,t_stop,t_delta)\n",
    "sym.plot(t,f_subs)"
   ]
  },
  {
   "cell_type": "code",
   "execution_count": 13,
   "metadata": {},
   "outputs": [],
   "source": [
    "t, s = sympy.symbols('t, s')\n",
    "a = sympy.symbols('a', real=True, positive=True)"
   ]
  },
  {
   "cell_type": "markdown",
   "metadata": {},
   "source": [
    "## function defination"
   ]
  },
  {
   "cell_type": "code",
   "execution_count": 16,
   "metadata": {},
   "outputs": [
    {
     "data": {
      "image/png": "[encoded data removed]",
      "text/latex": [
       "$\\displaystyle e^{- a t}$"
      ],
      "text/plain": [
       " -a⋅t\n",
       "ℯ    "
      ]
     },
     "execution_count": 16,
     "metadata": {},
     "output_type": "execute_result"
    }
   ],
   "source": [
    "f = sympy.exp(-a*t)\n",
    "f"
   ]
  },
  {
   "cell_type": "markdown",
   "metadata": {},
   "source": [
    "## Integrate"
   ]
  },
  {
   "cell_type": "code",
   "execution_count": 18,
   "metadata": {},
   "outputs": [
    {
     "data": {
      "image/png": "[encoded data removed]",
      "text/latex": [
       "$\\displaystyle \\begin{cases} \\frac{1}{s \\left(\\frac{a}{s} + 1\\right)} & \\text{for}\\: \\left|{\\arg{\\left(s \\right)}}\\right| \\leq \\frac{\\pi}{2} \\\\\\int\\limits_{0}^{\\infty} e^{- a t} e^{- s t}\\, dt & \\text{otherwise} \\end{cases}$"
      ],
      "text/plain": [
       "⎧       1                         π\n",
       "⎪   ─────────      for │arg(s)│ ≤ ─\n",
       "⎪     ⎛a    ⎞                     2\n",
       "⎪   s⋅⎜─ + 1⎟                      \n",
       "⎪     ⎝s    ⎠                      \n",
       "⎪                                  \n",
       "⎨∞                                 \n",
       "⎪⌠                                 \n",
       "⎪⎮  -a⋅t  -s⋅t                     \n",
       "⎪⎮ ℯ    ⋅ℯ     dt     otherwise    \n",
       "⎪⌡                                 \n",
       "⎪0                                 \n",
       "⎩                                  "
      ]
     },
     "execution_count": 18,
     "metadata": {},
     "output_type": "execute_result"
    }
   ],
   "source": [
    "sympy.integrate(f*sympy.exp(-s*t), (t, 0, sympy.oo))"
   ]
  },
  {
   "cell_type": "markdown",
   "metadata": {},
   "source": [
    "## Laplace Transfer"
   ]
  },
  {
   "cell_type": "code",
   "execution_count": 17,
   "metadata": {},
   "outputs": [
    {
     "data": {
      "image/png": "[encoded data removed]",
      "text/latex": [
       "$\\displaystyle \\left( \\frac{1}{a + s}, \\  - a, \\  \\text{True}\\right)$"
      ],
      "text/plain": [
       "⎛  1            ⎞\n",
       "⎜─────, -a, True⎟\n",
       "⎝a + s          ⎠"
      ]
     },
     "execution_count": 17,
     "metadata": {},
     "output_type": "execute_result"
    }
   ],
   "source": [
    "\n",
    "sympy.laplace_transform(f, t, s)"
   ]
  }
 ],
 "metadata": {
  "kernelspec": {
   "display_name": "Python 3",
   "language": "python",
   "name": "python3"
  },
  "language_info": {
   "codemirror_mode": {
    "name": "ipython",
    "version": 3
   },
   "file_extension": ".py",
   "mimetype": "text/x-python",
   "name": "python",
   "nbconvert_exporter": "python",
   "pygments_lexer": "ipython3",
   "version": "3.10.5"
  },
  "orig_nbformat": 4
 },
 "nbformat": 4,
 "nbformat_minor": 2
}
