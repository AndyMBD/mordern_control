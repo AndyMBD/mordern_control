{
 "cells": [
  {
   "cell_type": "markdown",
   "metadata": {},
   "source": [
    "# Continues to Discrete"
   ]
  },
  {
   "cell_type": "markdown",
   "metadata": {},
   "source": [
    "Ye's talk sporder 99,100"
   ]
  },
  {
   "cell_type": "markdown",
   "metadata": {},
   "source": [
    "\n",
    "Backward Euler's Integrator  \n",
    "$\\frac{1}{s}->T\\frac{Z}{Z-1}$  \n",
    "Bilinear Euler's Integrator  (Tustin)  \n",
    "$\\frac{1}{s}->\\frac{T}{2}\\frac{Z+1}{Z-1}$  \n",
    "['zoh', 'bilinear', 'euler', 'backward_diff', 'foh', 'impulse']:"
   ]
  },
  {
   "cell_type": "markdown",
   "metadata": {},
   "source": [
    "##  C2D sympy control SCIPY"
   ]
  },
  {
   "cell_type": "markdown",
   "metadata": {},
   "source": [
    "### sympy backward_diff and bilinear"
   ]
  },
  {
   "cell_type": "code",
   "execution_count": 61,
   "metadata": {},
   "outputs": [],
   "source": [
    "from IPython.core.interactiveshell import InteractiveShell\n",
    "InteractiveShell.ast_node_interactivity = 'all'\n",
    "import numpy as np\n",
    "import matplotlib.pyplot as plt"
   ]
  },
  {
   "cell_type": "code",
   "execution_count": 62,
   "metadata": {},
   "outputs": [
    {
     "data": {
      "text/latex": [
       "$\\displaystyle \\frac{1}{s}$"
      ],
      "text/plain": [
       "TransferFunction(1, s, s)"
      ]
     },
     "execution_count": 62,
     "metadata": {},
     "output_type": "execute_result"
    },
    {
     "data": {
      "text/plain": [
       "[T, 0]"
      ]
     },
     "execution_count": 62,
     "metadata": {},
     "output_type": "execute_result"
    },
    {
     "data": {
      "text/plain": [
       "[1, -1]"
      ]
     },
     "execution_count": 62,
     "metadata": {},
     "output_type": "execute_result"
    },
    {
     "data": {
      "text/plain": [
       "[T, T]"
      ]
     },
     "execution_count": 62,
     "metadata": {},
     "output_type": "execute_result"
    },
    {
     "data": {
      "text/plain": [
       "[2, -2]"
      ]
     },
     "execution_count": 62,
     "metadata": {},
     "output_type": "execute_result"
    }
   ],
   "source": [
    "from sympy.physics.control.lti import TransferFunction, backward_diff,bilinear\n",
    "# from sympy.physics.control.lti import \n",
    "from sympy.abc import s, L, R, T\n",
    "tf = TransferFunction(1, s, s)\n",
    "tf\n",
    "numZ, denZ = backward_diff(tf, T)\n",
    "numZ\n",
    "denZ\n",
    "\n",
    "numZ, denZ = bilinear(tf, T)\n",
    "numZ\n",
    "denZ\n",
    "\n"
   ]
  },
  {
   "cell_type": "markdown",
   "metadata": {},
   "source": [
    "### control backward_diff and bilinear"
   ]
  },
  {
   "cell_type": "code",
   "execution_count": 63,
   "metadata": {},
   "outputs": [
    {
     "name": "stdout",
     "output_type": "stream",
     "text": [
      "Continues\n"
     ]
    },
    {
     "data": {
      "text/latex": [
       "$$\\frac{1}{s + 1}$$"
      ],
      "text/plain": [
       "TransferFunction(array([1]), array([1, 1]))"
      ]
     },
     "execution_count": 63,
     "metadata": {},
     "output_type": "execute_result"
    },
    {
     "name": "stdout",
     "output_type": "stream",
     "text": [
      "sysd_zoh\n"
     ]
    },
    {
     "data": {
      "text/latex": [
       "$$\\frac{0.1813}{z - 0.8187}\\quad dt = 0.2$$"
      ],
      "text/plain": [
       "TransferFunction(array([0.18126925]), array([ 1.        , -0.81873075]), 0.2)"
      ]
     },
     "execution_count": 63,
     "metadata": {},
     "output_type": "execute_result"
    },
    {
     "name": "stdout",
     "output_type": "stream",
     "text": [
      "sysd_bilinear\n"
     ]
    },
    {
     "data": {
      "text/latex": [
       "$$\\frac{0.09091 z + 0.09091}{z - 0.8182}\\quad dt = 0.2$$"
      ],
      "text/plain": [
       "TransferFunction(array([0.09090909, 0.09090909]), array([ 1.        , -0.81818182]), 0.2)"
      ]
     },
     "execution_count": 63,
     "metadata": {},
     "output_type": "execute_result"
    },
    {
     "name": "stdout",
     "output_type": "stream",
     "text": [
      "sysd_euler\n"
     ]
    },
    {
     "data": {
      "text/latex": [
       "$$\\frac{0.2}{z - 0.8}\\quad dt = 0.2$$"
      ],
      "text/plain": [
       "TransferFunction(array([0.2]), array([ 1. , -0.8]), 0.2)"
      ]
     },
     "execution_count": 63,
     "metadata": {},
     "output_type": "execute_result"
    },
    {
     "name": "stdout",
     "output_type": "stream",
     "text": [
      "sysd_backward_diff\n"
     ]
    },
    {
     "data": {
      "text/latex": [
       "$$\\frac{0.1667 z}{z - 0.8333}\\quad dt = 0.2$$"
      ],
      "text/plain": [
       "TransferFunction(array([0.16666667, 0.        ]), array([ 1.        , -0.83333333]), 0.2)"
      ]
     },
     "execution_count": 63,
     "metadata": {},
     "output_type": "execute_result"
    },
    {
     "name": "stdout",
     "output_type": "stream",
     "text": [
      "sysd_foh\n"
     ]
    },
    {
     "data": {
      "text/latex": [
       "$$\\frac{0.09365 z + 0.08762}{z - 0.8187}\\quad dt = 0.2$$"
      ],
      "text/plain": [
       "TransferFunction(array([0.09365377, 0.08761548]), array([ 1.        , -0.81873075]), 0.2)"
      ]
     },
     "execution_count": 63,
     "metadata": {},
     "output_type": "execute_result"
    },
    {
     "name": "stdout",
     "output_type": "stream",
     "text": [
      "sysd_impulse\n"
     ]
    },
    {
     "data": {
      "text/latex": [
       "$$\\frac{0.2 z + 1.11 \\times 10^{-16}}{z - 0.8187}\\quad dt = 0.2$$"
      ],
      "text/plain": [
       "TransferFunction(array([2.00000000e-01, 1.11022302e-16]), array([ 1.        , -0.81873075]), 0.2)"
      ]
     },
     "execution_count": 63,
     "metadata": {},
     "output_type": "execute_result"
    }
   ],
   "source": [
    "import control as ct\n",
    "sys = ct.tf(1, [1, 1])\n",
    "print(\"Continues\")\n",
    "sys\n",
    "delta_t=0.2\n",
    "# \"gbt\", \"bilinear\", \"euler\", \"backward_diff\",\n",
    "#                   \"zoh\", \"matched\"\n",
    "# 'zoh', 'bilinear', 'euler', 'backward_diff', 'foh', 'impulse'\n",
    "sysd_zoh = sys.sample(delta_t, method='zoh')\n",
    "print(\"sysd_zoh\")\n",
    "sysd_zoh\n",
    "sysd_bilinear = sys.sample(delta_t, method='bilinear')\n",
    "print(\"sysd_bilinear\")\n",
    "sysd_bilinear\n",
    "sysd_euler = sys.sample(delta_t, method='euler')\n",
    "print(\"sysd_euler\")\n",
    "sysd_euler\n",
    "sysd_backward_diff = sys.sample(delta_t, method='backward_diff')\n",
    "print(\"sysd_backward_diff\")\n",
    "sysd_backward_diff\n",
    "sysd_foh = sys.sample(delta_t, method='foh')\n",
    "print(\"sysd_foh\")\n",
    "sysd_foh\n",
    "sysd_impulse = sys.sample(delta_t, method='impulse')\n",
    "print(\"sysd_impulse\")\n",
    "sysd_impulse\n"
   ]
  },
  {
   "cell_type": "code",
   "execution_count": 64,
   "metadata": {},
   "outputs": [
    {
     "data": {
      "image/png": "[encoded data removed]",
      "text/plain": [
       "<Figure size 1080x720 with 1 Axes>"
      ]
     },
     "metadata": {
      "needs_background": "light"
     },
     "output_type": "display_data"
    }
   ],
   "source": [
    "plt.figure(figsize=(15,10))\n",
    "\n",
    "t,step=ct.step_response(sys)\n",
    "plt.plot(t,step)\n",
    "t,zoh=ct.step_response(sysd_zoh)\n",
    "plt.step(t,zoh)\n",
    "t,bilinear=ct.step_response(sysd_bilinear)\n",
    "plt.step(t,bilinear)\n",
    "t,euler=ct.step_response(sysd_euler)\n",
    "plt.step(t,euler)\n",
    "t,backward_diff=ct.step_response(sysd_backward_diff)\n",
    "plt.step(t,backward_diff)\n",
    "t,foh=ct.step_response(sysd_foh)\n",
    "plt.step(t,foh)\n",
    "t,impulse=ct.step_response(sysd_impulse)\n",
    "plt.step(t,impulse)\n",
    "plt.legend({'sysd_zoh','sysd_bilinear','sysd_euler','sysd_backward_diff','sysd_foh','sysd_impulse'})\n",
    "# left=0\n",
    "# right=5\n",
    "plt.xlim(left=0,right=5)\n",
    "plt.grid()\n",
    "plt.show();"
   ]
  },
  {
   "cell_type": "markdown",
   "metadata": {},
   "source": [
    "### SCIPY C2D"
   ]
  },
  {
   "cell_type": "code",
   "execution_count": 65,
   "metadata": {},
   "outputs": [
    {
     "name": "stderr",
     "output_type": "stream",
     "text": [
      "c:\\Users\\j4000774\\AppData\\Local\\Programs\\Python\\Python310\\lib\\site-packages\\scipy\\signal\\_filter_design.py:1746: BadCoefficients: Badly conditioned filter coefficients (numerator): the results may be meaningless\n",
      "  warnings.warn(\"Badly conditioned filter coefficients (numerator): the \"\n"
     ]
    },
    {
     "data": {
      "image/png": "[encoded data removed]",
      "text/plain": [
       "<Figure size 1080x720 with 1 Axes>"
      ]
     },
     "metadata": {
      "needs_background": "light"
     },
     "output_type": "display_data"
    }
   ],
   "source": [
    "\n",
    "from scipy.signal import cont2discrete, lti, dlti, dstep\n",
    "# Define a continuous state-space system.\n",
    "num=[1]\n",
    "den=[1,1]\n",
    "\n",
    "l_system = lti(num,den)\n",
    "t, x = l_system.step(T=np.linspace(0, 5, 1000))\n",
    "fig=plt.figure(figsize=(15,10))\n",
    "ax = fig.subplots()\n",
    "ax.plot(t, x, label='Continuous', linewidth=3)\n",
    "# Transform it to a discrete state-space system using several methods.\n",
    "\n",
    "dt = 0.1\n",
    "for method in ['zoh', 'bilinear', 'euler', 'backward_diff', 'foh', 'impulse']:\n",
    "   d_system = cont2discrete((num,den), dt, method=method)\n",
    "   # d_system = cont2discrete((A, B, C, D), dt, method=method)\n",
    "   s, x_d = dstep(d_system)\n",
    "   ax.step(s, np.squeeze(x_d), label=method, where='post')\n",
    "ax.axis([t[0], t[-1], x[0], 1.4])\n",
    "ax.legend(loc='best')\n",
    "fig.tight_layout()\n",
    "plt.grid()\n",
    "plt.show();"
   ]
  },
  {
   "cell_type": "markdown",
   "metadata": {},
   "source": [
    "## Discert Bode different"
   ]
  },
  {
   "cell_type": "code",
   "execution_count": 66,
   "metadata": {},
   "outputs": [
    {
     "name": "stdout",
     "output_type": "stream",
     "text": [
      "sysd_zoh\n",
      "sysd_bilinear\n",
      "sysd_euler\n",
      "sysd_backward_diff\n",
      "sysd_foh\n"
     ]
    },
    {
     "data": {
      "image/png": "[encoded data removed]",
      "text/plain": [
       "<Figure size 1080x720 with 2 Axes>"
      ]
     },
     "metadata": {
      "needs_background": "light"
     },
     "output_type": "display_data"
    }
   ],
   "source": [
    "# 1 define a gain 10 transfer function\n",
    "k=10\n",
    "num=[1]\n",
    "den=[1,0]\n",
    "sys=ct.TransferFunction(num,den)\n",
    "sys\n",
    "# 2 check difference discrete impect to bode\n",
    "\n",
    "delta_t=0.001\n",
    "# \"gbt\", \"bilinear\", \"euler\", \"backward_diff\",\n",
    "#                   \"zoh\", \"matched\"\n",
    "# 'zoh', 'bilinear', 'euler', 'backward_diff', 'foh', 'impulse'\n",
    "sysd_zoh = sys.sample(delta_t, method='zoh')\n",
    "print(\"sysd_zoh\")\n",
    "sysd_zoh\n",
    "\n",
    "sysd_bilinear = sys.sample(delta_t, method='bilinear')\n",
    "print(\"sysd_bilinear\")\n",
    "sysd_bilinear\n",
    "\n",
    "sysd_euler = sys.sample(delta_t, method='euler')\n",
    "print(\"sysd_euler\")\n",
    "sysd_euler\n",
    "\n",
    "sysd_backward_diff = sys.sample(delta_t, method='backward_diff')\n",
    "print(\"sysd_backward_diff\")\n",
    "sysd_backward_diff\n",
    "\n",
    "sysd_foh = sys.sample(delta_t, method='foh')\n",
    "print(\"sysd_foh\")\n",
    "sysd_foh\n",
    "# sysd_impulse = sys.sample(delta_t, method='impulse')\n",
    "# print(\"sysd_impulse\")\n",
    "# sysd_impulse\n",
    "# roots,gains=ct.root_locus(G)\n",
    "# Omega range define in Hz\n",
    "omega_Range_Hz_min=2\n",
    "omega_Range_Hz_max=5000\n",
    "omega_Range_rad=[2*np.pi*omega_Range_Hz_min,2*np.pi*omega_Range_Hz_max]\n",
    "# omega_Range_rad=[omega_Range_Hz_min,omega_Range_Hz_max]\n",
    "plt.figure(figsize=(15,10))\n",
    "# omega,mag,phase=ct.bode_plot(sysd_euler,Hz ='false',omega_limits=omega_Range_rad)\n",
    "omega,mag,phase=ct.bode_plot(sysd_backward_diff)\n",
    "omega,mag,phase=ct.bode_plot(sysd_bilinear)\n",
    "plt.legend((\"sysd_backward_diff\",\"sysd_bilinear\"))\n",
    "plt.show();\n",
    "# plt.title(\"sysd_bilinear\")\n",
    "# as we can compare the bode phase the sysd_backward_diff can give phase compensate for system"
   ]
  },
  {
   "cell_type": "code",
   "execution_count": 67,
   "metadata": {},
   "outputs": [
    {
     "data": {
      "text/plain": [
       "[<matplotlib.lines.Line2D at 0x28a5f3848b0>]"
      ]
     },
     "execution_count": 67,
     "metadata": {},
     "output_type": "execute_result"
    },
    {
     "data": {
      "text/plain": [
       "[<matplotlib.lines.Line2D at 0x28a5f3869e0>]"
      ]
     },
     "execution_count": 67,
     "metadata": {},
     "output_type": "execute_result"
    },
    {
     "data": {
      "text/plain": [
       "<matplotlib.legend.Legend at 0x28a5f387010>"
      ]
     },
     "execution_count": 67,
     "metadata": {},
     "output_type": "execute_result"
    },
    {
     "data": {
      "text/plain": [
       "Text(0.5, 0, 'Frequency [Hz]')"
      ]
     },
     "execution_count": 67,
     "metadata": {},
     "output_type": "execute_result"
    },
    {
     "data": {
      "text/plain": [
       "Text(0, 0.5, 'Magnitude [dB]')"
      ]
     },
     "execution_count": 67,
     "metadata": {},
     "output_type": "execute_result"
    },
    {
     "data": {
      "image/png": "[encoded data removed]",
      "text/plain": [
       "<Figure size 432x288 with 1 Axes>"
      ]
     },
     "metadata": {
      "needs_background": "light"
     },
     "output_type": "display_data"
    }
   ],
   "source": [
    "from scipy import signal\n",
    "import matplotlib.pyplot as plt\n",
    "import numpy as np\n",
    "fs = 100\n",
    "bf = 2 * np.pi * np.array([7, 13])\n",
    "\n",
    "filts = signal.lti(*signal.butter(4, bf, btype='bandpass',\n",
    "                                  analog=True))\n",
    "filtz = signal.lti(*signal.bilinear(filts.num, filts.den, fs))\n",
    "\n",
    "wz, hz = signal.freqz(filtz.num, filtz.den)\n",
    "ws, hs = signal.freqs(filts.num, filts.den, worN=fs*wz)\n",
    "\n",
    "\n",
    "plt.semilogx(wz*fs/(2*np.pi), 20*np.log10(np.abs(hz).clip(1e-15)),\n",
    "             label=r'$|H_z(e^{j \\omega})|$')\n",
    "plt.semilogx(wz*fs/(2*np.pi), 20*np.log10(np.abs(hs).clip(1e-15)),\n",
    "             label=r'$|H(j \\omega)|$')\n",
    "plt.legend()\n",
    "plt.xlabel('Frequency [Hz]')\n",
    "plt.ylabel('Magnitude [dB]')\n",
    "plt.grid(True)"
   ]
  },
  {
   "cell_type": "code",
   "execution_count": 68,
   "metadata": {},
   "outputs": [
    {
     "data": {
      "text/latex": [
       "$$\\frac{1}{s}$$"
      ],
      "text/plain": [
       "TransferFunction(array([1]), array([1, 0]))"
      ]
     },
     "execution_count": 68,
     "metadata": {},
     "output_type": "execute_result"
    },
    {
     "name": "stdout",
     "output_type": "stream",
     "text": [
      "zoh\n"
     ]
    },
    {
     "data": {
      "text/latex": [
       "$$\\frac{2}{z - 1}\\quad dt = 2$$"
      ],
      "text/plain": [
       "TransferFunction(array([2.]), array([ 1., -1.]), 2)"
      ]
     },
     "execution_count": 68,
     "metadata": {},
     "output_type": "execute_result"
    },
    {
     "name": "stdout",
     "output_type": "stream",
     "text": [
      "bilinear\n"
     ]
    },
    {
     "data": {
      "text/latex": [
       "$$\\frac{z + 1}{z - 1}\\quad dt = 2$$"
      ],
      "text/plain": [
       "TransferFunction(array([1., 1.]), array([ 1., -1.]), 2)"
      ]
     },
     "execution_count": 68,
     "metadata": {},
     "output_type": "execute_result"
    },
    {
     "name": "stdout",
     "output_type": "stream",
     "text": [
      "euler\n"
     ]
    },
    {
     "data": {
      "text/latex": [
       "$$\\frac{1}{z - 1}\\quad dt = 1$$"
      ],
      "text/plain": [
       "TransferFunction(array([1.]), array([ 1., -1.]), 1)"
      ]
     },
     "execution_count": 68,
     "metadata": {},
     "output_type": "execute_result"
    },
    {
     "name": "stdout",
     "output_type": "stream",
     "text": [
      "backward_diff\n"
     ]
    },
    {
     "data": {
      "text/latex": [
       "$$\\frac{z}{z - 1}\\quad dt = 1$$"
      ],
      "text/plain": [
       "TransferFunction(array([1., 0.]), array([ 1., -1.]), 1)"
      ]
     },
     "execution_count": 68,
     "metadata": {},
     "output_type": "execute_result"
    },
    {
     "name": "stdout",
     "output_type": "stream",
     "text": [
      "foh\n"
     ]
    },
    {
     "data": {
      "text/latex": [
       "$$\\frac{0.5 z + 0.5}{z - 1}\\quad dt = 1$$"
      ],
      "text/plain": [
       "TransferFunction(array([0.5, 0.5]), array([ 1., -1.]), 1)"
      ]
     },
     "execution_count": 68,
     "metadata": {},
     "output_type": "execute_result"
    },
    {
     "name": "stdout",
     "output_type": "stream",
     "text": [
      "impulse\n"
     ]
    },
    {
     "data": {
      "text/latex": [
       "$$\\frac{z}{z - 1}\\quad dt = 1$$"
      ],
      "text/plain": [
       "TransferFunction(array([1., 0.]), array([ 1., -1.]), 1)"
      ]
     },
     "execution_count": 68,
     "metadata": {},
     "output_type": "execute_result"
    }
   ],
   "source": [
    "#C2d METHOD 'zoh', 'bilinear', 'euler', 'backward_diff', 'foh', 'impulse'\n",
    "s = ct.TransferFunction.s\n",
    "\n",
    "G=1/s\n",
    "G\n",
    "# Ts=1\n",
    "G_Z=ct.c2d(G,Ts=2,method='zoh')\n",
    "print(\"zoh\")\n",
    "G_Z\n",
    "\n",
    "G_Z=ct.c2d(G,Ts=2,method='bilinear')\n",
    "print(\"bilinear\")\n",
    "G_Z\n",
    "\n",
    "G_Z=ct.c2d(G,Ts=1,method='euler')\n",
    "print(\"euler\")\n",
    "G_Z\n",
    "\n",
    "\n",
    "G_Z=ct.c2d(G,Ts=1,method='backward_diff')\n",
    "print(\"backward_diff\")\n",
    "G_Z\n",
    "\n",
    "G_Z=ct.c2d(G,Ts=1,method='foh')\n",
    "print(\"foh\")\n",
    "G_Z\n",
    "\n",
    "G_Z=ct.c2d(G,Ts=1,method='impulse')\n",
    "print(\"impulse\")\n",
    "G_Z"
   ]
  },
  {
   "cell_type": "code",
   "execution_count": 69,
   "metadata": {},
   "outputs": [
    {
     "data": {
      "text/latex": [
       "$\\displaystyle \\frac{1}{s}$"
      ],
      "text/plain": [
       "TransferFunction(1, s, s)"
      ]
     },
     "execution_count": 69,
     "metadata": {},
     "output_type": "execute_result"
    },
    {
     "data": {
      "text/plain": [
       "[T, T]"
      ]
     },
     "execution_count": 69,
     "metadata": {},
     "output_type": "execute_result"
    },
    {
     "data": {
      "text/plain": [
       "[2, -2]"
      ]
     },
     "execution_count": 69,
     "metadata": {},
     "output_type": "execute_result"
    },
    {
     "data": {
      "text/plain": [
       "[T, 0]"
      ]
     },
     "execution_count": 69,
     "metadata": {},
     "output_type": "execute_result"
    },
    {
     "data": {
      "text/plain": [
       "[1, -1]"
      ]
     },
     "execution_count": 69,
     "metadata": {},
     "output_type": "execute_result"
    }
   ],
   "source": [
    "from sympy.physics.control.lti import TransferFunction, backward_diff,bilinear\n",
    "# from sympy.physics.control.lti import \n",
    "from sympy.abc import s, L, R, T\n",
    "tf = TransferFunction(1, s, s)\n",
    "tf\n",
    "numZ, denZ = bilinear(tf, T)\n",
    "numZ\n",
    "denZ\n",
    "\n",
    "numZ, denZ = backward_diff(tf, T)\n",
    "numZ\n",
    "denZ"
   ]
  },
  {
   "cell_type": "code",
   "execution_count": 70,
   "metadata": {},
   "outputs": [],
   "source": [
    "from sympy.physics.control.lti import TransferFunction"
   ]
  },
  {
   "cell_type": "markdown",
   "metadata": {},
   "source": [
    "## compare ZOH and forward Eular difference"
   ]
  }
 ],
 "metadata": {
  "kernelspec": {
   "display_name": "Python 3",
   "language": "python",
   "name": "python3"
  },
  "language_info": {
   "codemirror_mode": {
    "name": "ipython",
    "version": 3
   },
   "file_extension": ".py",
   "mimetype": "text/x-python",
   "name": "python",
   "nbconvert_exporter": "python",
   "pygments_lexer": "ipython3",
   "version": "3.10.5"
  },
  "orig_nbformat": 4
 },
 "nbformat": 4,
 "nbformat_minor": 2
}
