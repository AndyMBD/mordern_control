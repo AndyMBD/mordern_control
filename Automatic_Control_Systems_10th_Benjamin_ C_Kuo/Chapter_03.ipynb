{
 "cells": [
  {
   "cell_type": "markdown",
   "metadata": {},
   "source": [
    "# Chapter 03"
   ]
  },
  {
   "cell_type": "code",
   "execution_count": 18,
   "metadata": {},
   "outputs": [],
   "source": [
    "from IPython.core.interactiveshell import InteractiveShell\n",
    "InteractiveShell.ast_node_interactivity = \"all\" \n",
    "import sympy\n",
    "sympy.init_printing()"
   ]
  },
  {
   "cell_type": "code",
   "execution_count": 19,
   "metadata": {},
   "outputs": [],
   "source": [
    "import matplotlib.pyplot as plt\n",
    "%matplotlib inline"
   ]
  },
  {
   "cell_type": "markdown",
   "metadata": {},
   "source": [
    "## 3.3"
   ]
  },
  {
   "cell_type": "markdown",
   "metadata": {},
   "source": [
    "### 3.3.1"
   ]
  },
  {
   "cell_type": "code",
   "execution_count": 26,
   "metadata": {},
   "outputs": [],
   "source": [
    "t, s = sympy.symbols('t, s')\n",
    "a = sympy.symbols('a', real=True, positive=True)"
   ]
  },
  {
   "cell_type": "code",
   "execution_count": 33,
   "metadata": {},
   "outputs": [
    {
     "name": "stdout",
     "output_type": "stream",
     "text": [
      "f1= -1/(s + 1)\n"
     ]
    },
    {
     "data": {
      "image/png": "[encoded data removed]",
      "text/latex": [
       "$\\displaystyle - \\frac{1}{s + 1}$"
      ],
      "text/plain": [
       " -1  \n",
       "─────\n",
       "s + 1"
      ]
     },
     "execution_count": 33,
     "metadata": {},
     "output_type": "execute_result"
    },
    {
     "name": "stdout",
     "output_type": "stream",
     "text": [
      "L_f1= (-1/(s*(s + 1)), 0, True)\n"
     ]
    },
    {
     "data": {
      "image/png": "[encoded data removed]",
      "text/latex": [
       "$\\displaystyle \\left( - \\frac{1}{s \\left(s + 1\\right)}, \\  0, \\  \\text{True}\\right)$"
      ],
      "text/plain": [
       "⎛   -1             ⎞\n",
       "⎜─────────, 0, True⎟\n",
       "⎝s⋅(s + 1)         ⎠"
      ]
     },
     "execution_count": 33,
     "metadata": {},
     "output_type": "execute_result"
    },
    {
     "name": "stdout",
     "output_type": "stream",
     "text": [
      "InvL_1= -exp(-t)*Heaviside(t)\n"
     ]
    },
    {
     "data": {
      "image/png": "[encoded data removed]",
      "text/latex": [
       "$\\displaystyle - e^{- t} \\theta\\left(t\\right)$"
      ],
      "text/plain": [
       "  -t     \n",
       "-ℯ  ⋅θ(t)"
      ]
     },
     "execution_count": 33,
     "metadata": {},
     "output_type": "execute_result"
    }
   ],
   "source": [
    "f1=-1/(s+1)\n",
    "print(\"f1=\",f1)\n",
    "f1\n",
    "L_f1=sympy.laplace_transform(f1,t,s)\n",
    "print(\"L_f1=\",L_f1)\n",
    "L_f1\n",
    "InvL_1=sympy.inverse_laplace_transform(f1,s,t)\n",
    "print(\"InvL_1=\",InvL_1)\n",
    "InvL_1"
   ]
  },
  {
   "cell_type": "code",
   "execution_count": 32,
   "metadata": {},
   "outputs": [
    {
     "name": "stdout",
     "output_type": "stream",
     "text": [
      "f2= 7/(s + 2)\n"
     ]
    },
    {
     "data": {
      "image/png": "[encoded data removed]",
      "text/latex": [
       "$\\displaystyle \\frac{7}{s + 2}$"
      ],
      "text/plain": [
       "  7  \n",
       "─────\n",
       "s + 2"
      ]
     },
     "execution_count": 32,
     "metadata": {},
     "output_type": "execute_result"
    },
    {
     "name": "stdout",
     "output_type": "stream",
     "text": [
      "L_f2= (7/(s*(s + 2)), 0, True)\n"
     ]
    },
    {
     "data": {
      "image/png": "[encoded data removed]",
      "text/latex": [
       "$\\displaystyle \\left( \\frac{7}{s \\left(s + 2\\right)}, \\  0, \\  \\text{True}\\right)$"
      ],
      "text/plain": [
       "⎛    7             ⎞\n",
       "⎜─────────, 0, True⎟\n",
       "⎝s⋅(s + 2)         ⎠"
      ]
     },
     "execution_count": 32,
     "metadata": {},
     "output_type": "execute_result"
    },
    {
     "name": "stdout",
     "output_type": "stream",
     "text": [
      "g2= 7*exp(-2*t)*Heaviside(t)\n"
     ]
    },
    {
     "data": {
      "image/png": "[encoded data removed]",
      "text/latex": [
       "$\\displaystyle 7 e^{- 2 t} \\theta\\left(t\\right)$"
      ],
      "text/plain": [
       "   -2⋅t     \n",
       "7⋅ℯ    ⋅θ(t)"
      ]
     },
     "execution_count": 32,
     "metadata": {},
     "output_type": "execute_result"
    }
   ],
   "source": [
    "f2=7/(s+2)\n",
    "print(\"f2=\",f2)\n",
    "f2\n",
    "L_f2=sympy.laplace_transform(f2,t,s)\n",
    "print(\"L_f2=\",L_f2)\n",
    "L_f2\n",
    "g2=sympy.inverse_laplace_transform(f2,s,t)\n",
    "print(\"g2=\",g2)\n",
    "g2"
   ]
  },
  {
   "cell_type": "markdown",
   "metadata": {},
   "source": [
    "### 3.2.6"
   ]
  },
  {
   "cell_type": "markdown",
   "metadata": {},
   "source": [
    "### 3.2.6"
   ]
  },
  {
   "cell_type": "code",
   "execution_count": null,
   "metadata": {},
   "outputs": [
    {
     "data": {
      "text/latex": [
       "$$\\frac{10 s + 20}{s^4 + 7 s^3 + 15 s^2 + 9 s}$$"
      ],
      "text/plain": [
       "TransferFunction(array([10, 20]), array([ 1,  7, 15,  9,  0]))"
      ]
     },
     "execution_count": 13,
     "metadata": {},
     "output_type": "execute_result"
    },
    {
     "data": {
      "image/png": "[encoded data removed]",
      "text/latex": [
       "$\\displaystyle \\infty$"
      ],
      "text/plain": [
       "inf"
      ]
     },
     "execution_count": 13,
     "metadata": {},
     "output_type": "execute_result"
    },
    {
     "data": {
      "text/plain": [
       "array([-3.00000005+0.j, -2.99999995+0.j, -1.        +0.j,  0.        +0.j])"
      ]
     },
     "execution_count": 13,
     "metadata": {},
     "output_type": "execute_result"
    },
    {
     "data": {
      "text/plain": [
       "array([-2.+0.j])"
      ]
     },
     "execution_count": 13,
     "metadata": {},
     "output_type": "execute_result"
    }
   ],
   "source": [
    "import control as ct\n",
    "s = ct.TransferFunction.s\n",
    "num=10*(s+2)\n",
    "den=s*(s+1)*(s+3)**2\n",
    "# G=ct.TransferFunction(num,den)\n",
    "G=ct.tf(num/den)\n",
    "G\n",
    "G.dcgain()\n",
    "G.poles()\n",
    "G.zeros()"
   ]
  },
  {
   "cell_type": "markdown",
   "metadata": {},
   "source": [
    "### 3.4.4"
   ]
  },
  {
   "cell_type": "code",
   "execution_count": null,
   "metadata": {},
   "outputs": [
    {
     "data": {
      "text/latex": [
       "$$\\frac{1000}{s^2 + 34.5 s + 1000}$$"
      ],
      "text/plain": [
       "TransferFunction(array([1000]), array([   1. ,   34.5, 1000. ]))"
      ]
     },
     "execution_count": 14,
     "metadata": {},
     "output_type": "execute_result"
    },
    {
     "data": {
      "text/plain": [
       "[<matplotlib.lines.Line2D at 0x27564b070b0>]"
      ]
     },
     "execution_count": 14,
     "metadata": {},
     "output_type": "execute_result"
    },
    {
     "data": {
      "text/plain": [
       "<matplotlib.lines.Line2D at 0x27564b86660>"
      ]
     },
     "execution_count": 14,
     "metadata": {},
     "output_type": "execute_result"
    },
    {
     "data": {
      "image/png": "[encoded data removed]",
      "text/plain": [
       "<Figure size 640x480 with 1 Axes>"
      ]
     },
     "metadata": {},
     "output_type": "display_data"
    }
   ],
   "source": [
    "num=[1000]\n",
    "den=[1,34.5,1000]\n",
    "G=ct.tf(num,den)\n",
    "G\n",
    "time,step_reponse=ct.step_response(G)\n",
    "plt.plot(time,step_reponse)\n",
    "plt.axhline(y=1, color=\"red\", linestyle=\"--\")\n",
    "plt.grid()\n",
    "# step_reponse\n"
   ]
  },
  {
   "cell_type": "markdown",
   "metadata": {},
   "source": [
    "### 3.5.1"
   ]
  },
  {
   "cell_type": "code",
   "execution_count": null,
   "metadata": {},
   "outputs": [
    {
     "data": {
      "text/latex": [
       "$$\\frac{1000}{s^2 + 34.5 s + 1000}$$"
      ],
      "text/plain": [
       "TransferFunction(array([1000]), array([   1. ,   34.5, 1000. ]))"
      ]
     },
     "execution_count": 15,
     "metadata": {},
     "output_type": "execute_result"
    },
    {
     "data": {
      "text/plain": [
       "[<matplotlib.lines.Line2D at 0x27566c88da0>]"
      ]
     },
     "execution_count": 15,
     "metadata": {},
     "output_type": "execute_result"
    },
    {
     "data": {
      "text/plain": [
       "<matplotlib.lines.Line2D at 0x27566bea6f0>"
      ]
     },
     "execution_count": 15,
     "metadata": {},
     "output_type": "execute_result"
    },
    {
     "data": {
      "image/png": "[encoded data removed]",
      "text/plain": [
       "<Figure size 640x480 with 1 Axes>"
      ]
     },
     "metadata": {},
     "output_type": "display_data"
    }
   ],
   "source": [
    "num=[1000]\n",
    "den=[1,34.5,1000]\n",
    "G=ct.tf(num,den)\n",
    "G\n",
    "time,impulse=ct.impulse_response(G)\n",
    "plt.plot(time,impulse)\n",
    "plt.axhline(y=0, color=\"red\", linestyle=\"--\")"
   ]
  },
  {
   "cell_type": "markdown",
   "metadata": {},
   "source": [
    "### 3.8.1"
   ]
  },
  {
   "cell_type": "code",
   "execution_count": null,
   "metadata": {},
   "outputs": [
    {
     "data": {
      "text/plain": [
       "[<matplotlib.lines.Line2D at 0x27566c89220>]"
      ]
     },
     "execution_count": 16,
     "metadata": {},
     "output_type": "execute_result"
    },
    {
     "data": {
      "text/plain": [
       "[<matplotlib.lines.Line2D at 0x27568e51100>]"
      ]
     },
     "execution_count": 16,
     "metadata": {},
     "output_type": "execute_result"
    },
    {
     "data": {
      "text/plain": [
       "<matplotlib.legend.Legend at 0x27566caa9f0>"
      ]
     },
     "execution_count": 16,
     "metadata": {},
     "output_type": "execute_result"
    },
    {
     "data": {
      "image/png": "[encoded data removed]",
      "text/plain": [
       "<Figure size 640x480 with 1 Axes>"
      ]
     },
     "metadata": {},
     "output_type": "display_data"
    }
   ],
   "source": [
    "import numpy as np\n",
    "R=1;L=1;C=1\n",
    "t=np.arange(0,30,0.02)\n",
    "num1=[1]\n",
    "den1=[L*C,R*C,1]\n",
    "num2=[C,0]\n",
    "den2=[L*C,R*C,1]\n",
    "G1=ct.tf(num1,den1)\n",
    "G2=ct.tf(num2,den2)\n",
    "time,G1_step=ct.step_response(G1,t)\n",
    "time,G2_step=ct.step_response(G2,t)\n",
    "plt.plot(time,G1_step,'--',label='G1')\n",
    "plt.plot(time,G2_step,'-.',label='G2')\n",
    "plt.legend()"
   ]
  }
 ],
 "metadata": {
  "kernelspec": {
   "display_name": "Python 3",
   "language": "python",
   "name": "python3"
  },
  "language_info": {
   "codemirror_mode": {
    "name": "ipython",
    "version": 3
   },
   "file_extension": ".py",
   "mimetype": "text/x-python",
   "name": "python",
   "nbconvert_exporter": "python",
   "pygments_lexer": "ipython3",
   "version": "3.12.1"
  },
  "orig_nbformat": 4
 },
 "nbformat": 4,
 "nbformat_minor": 2
}
