{
 "cells": [
  {
   "cell_type": "markdown",
   "metadata": {},
   "source": [
    "# Continues to Discrete"
   ]
  },
  {
   "cell_type": "code",
   "execution_count": 10,
   "metadata": {},
   "outputs": [],
   "source": [
    "from IPython.core.interactiveshell import InteractiveShell\n",
    "InteractiveShell.ast_node_interactivity = 'all'"
   ]
  },
  {
   "cell_type": "markdown",
   "metadata": {},
   "source": [
    "## SCIPY C2D"
   ]
  },
  {
   "cell_type": "code",
   "execution_count": 11,
   "metadata": {},
   "outputs": [
    {
     "data": {
      "text/plain": [
       "[<matplotlib.lines.Line2D at 0x234ff312830>]"
      ]
     },
     "execution_count": 11,
     "metadata": {},
     "output_type": "execute_result"
    },
    {
     "name": "stderr",
     "output_type": "stream",
     "text": [
      "c:\\Users\\j4000774\\AppData\\Local\\Programs\\Python\\Python310\\lib\\site-packages\\scipy\\signal\\_filter_design.py:1746: BadCoefficients: Badly conditioned filter coefficients (numerator): the results may be meaningless\n",
      "  warnings.warn(\"Badly conditioned filter coefficients (numerator): the \"\n"
     ]
    },
    {
     "data": {
      "text/plain": [
       "[<matplotlib.lines.Line2D at 0x234ff312a40>]"
      ]
     },
     "execution_count": 11,
     "metadata": {},
     "output_type": "execute_result"
    },
    {
     "data": {
      "text/plain": [
       "[<matplotlib.lines.Line2D at 0x234ff312cb0>]"
      ]
     },
     "execution_count": 11,
     "metadata": {},
     "output_type": "execute_result"
    },
    {
     "data": {
      "text/plain": [
       "[<matplotlib.lines.Line2D at 0x234ff312f80>]"
      ]
     },
     "execution_count": 11,
     "metadata": {},
     "output_type": "execute_result"
    },
    {
     "data": {
      "text/plain": [
       "[<matplotlib.lines.Line2D at 0x234ff322b90>]"
      ]
     },
     "execution_count": 11,
     "metadata": {},
     "output_type": "execute_result"
    },
    {
     "data": {
      "text/plain": [
       "[<matplotlib.lines.Line2D at 0x234ff323430>]"
      ]
     },
     "execution_count": 11,
     "metadata": {},
     "output_type": "execute_result"
    },
    {
     "data": {
      "text/plain": [
       "[<matplotlib.lines.Line2D at 0x234ff3236d0>]"
      ]
     },
     "execution_count": 11,
     "metadata": {},
     "output_type": "execute_result"
    },
    {
     "data": {
      "text/plain": [
       "(0.0, 5.0, 0.0, 1.4)"
      ]
     },
     "execution_count": 11,
     "metadata": {},
     "output_type": "execute_result"
    },
    {
     "data": {
      "text/plain": [
       "<matplotlib.legend.Legend at 0x234f1483e50>"
      ]
     },
     "execution_count": 11,
     "metadata": {},
     "output_type": "execute_result"
    },
    {
     "data": {
      "image/png": "[encoded data removed]",
      "text/plain": [
       "<Figure size 432x288 with 1 Axes>"
      ]
     },
     "metadata": {
      "needs_background": "light"
     },
     "output_type": "display_data"
    }
   ],
   "source": [
    "import numpy as np\n",
    "import matplotlib.pyplot as plt\n",
    "from scipy.signal import cont2discrete, lti, dlti, dstep\n",
    "# Define a continuous state-space system.\n",
    "num=[1]\n",
    "den=[1,1]\n",
    "A = np.array([[0, 1],[-10., -3]])\n",
    "B = np.array([[0],[10.]])\n",
    "C = np.array([[1., 0]])\n",
    "D = np.array([[0.]])\n",
    "# l_system = lti(A, B, C, D)\n",
    "l_system = lti(num,den)\n",
    "t, x = l_system.step(T=np.linspace(0, 5, 1000))\n",
    "fig, ax = plt.subplots()\n",
    "ax.plot(t, x, label='Continuous', linewidth=3)\n",
    "# Transform it to a discrete state-space system using several methods.\n",
    "\n",
    "dt = 0.1\n",
    "for method in ['zoh', 'bilinear', 'euler', 'backward_diff', 'foh', 'impulse']:\n",
    "   d_system = cont2discrete((num,den), dt, method=method)\n",
    "   # d_system = cont2discrete((A, B, C, D), dt, method=method)\n",
    "   s, x_d = dstep(d_system)\n",
    "   ax.step(s, np.squeeze(x_d), label=method, where='post')\n",
    "ax.axis([t[0], t[-1], x[0], 1.4])\n",
    "ax.legend(loc='best')\n",
    "fig.tight_layout()\n",
    "plt.grid()\n",
    "plt.show()"
   ]
  },
  {
   "cell_type": "markdown",
   "metadata": {},
   "source": [
    "## Control C2D"
   ]
  },
  {
   "cell_type": "code",
   "execution_count": 12,
   "metadata": {},
   "outputs": [
    {
     "name": "stdout",
     "output_type": "stream",
     "text": [
      "Continues\n"
     ]
    },
    {
     "data": {
      "text/latex": [
       "$$\\frac{1}{s + 1}$$"
      ],
      "text/plain": [
       "TransferFunction(array([1]), array([1, 1]))"
      ]
     },
     "execution_count": 12,
     "metadata": {},
     "output_type": "execute_result"
    },
    {
     "name": "stdout",
     "output_type": "stream",
     "text": [
      "sysd_zoh\n"
     ]
    },
    {
     "data": {
      "text/latex": [
       "$$\\frac{0.1813}{z - 0.8187}\\quad dt = 0.2$$"
      ],
      "text/plain": [
       "TransferFunction(array([0.18126925]), array([ 1.        , -0.81873075]), 0.2)"
      ]
     },
     "execution_count": 12,
     "metadata": {},
     "output_type": "execute_result"
    },
    {
     "name": "stdout",
     "output_type": "stream",
     "text": [
      "sysd_bilinear\n"
     ]
    },
    {
     "data": {
      "text/latex": [
       "$$\\frac{0.09091 z + 0.09091}{z - 0.8182}\\quad dt = 0.2$$"
      ],
      "text/plain": [
       "TransferFunction(array([0.09090909, 0.09090909]), array([ 1.        , -0.81818182]), 0.2)"
      ]
     },
     "execution_count": 12,
     "metadata": {},
     "output_type": "execute_result"
    },
    {
     "name": "stdout",
     "output_type": "stream",
     "text": [
      "sysd_euler\n"
     ]
    },
    {
     "data": {
      "text/latex": [
       "$$\\frac{0.2}{z - 0.8}\\quad dt = 0.2$$"
      ],
      "text/plain": [
       "TransferFunction(array([0.2]), array([ 1. , -0.8]), 0.2)"
      ]
     },
     "execution_count": 12,
     "metadata": {},
     "output_type": "execute_result"
    },
    {
     "name": "stdout",
     "output_type": "stream",
     "text": [
      "sysd_backward_diff\n"
     ]
    },
    {
     "data": {
      "text/latex": [
       "$$\\frac{0.1667 z}{z - 0.8333}\\quad dt = 0.2$$"
      ],
      "text/plain": [
       "TransferFunction(array([0.16666667, 0.        ]), array([ 1.        , -0.83333333]), 0.2)"
      ]
     },
     "execution_count": 12,
     "metadata": {},
     "output_type": "execute_result"
    },
    {
     "name": "stdout",
     "output_type": "stream",
     "text": [
      "sysd_foh\n"
     ]
    },
    {
     "data": {
      "text/latex": [
       "$$\\frac{0.09365 z + 0.08762}{z - 0.8187}\\quad dt = 0.2$$"
      ],
      "text/plain": [
       "TransferFunction(array([0.09365377, 0.08761548]), array([ 1.        , -0.81873075]), 0.2)"
      ]
     },
     "execution_count": 12,
     "metadata": {},
     "output_type": "execute_result"
    },
    {
     "name": "stdout",
     "output_type": "stream",
     "text": [
      "sysd_impulse\n"
     ]
    },
    {
     "data": {
      "text/latex": [
       "$$\\frac{0.2 z + 1.11 \\times 10^{-16}}{z - 0.8187}\\quad dt = 0.2$$"
      ],
      "text/plain": [
       "TransferFunction(array([2.00000000e-01, 1.11022302e-16]), array([ 1.        , -0.81873075]), 0.2)"
      ]
     },
     "execution_count": 12,
     "metadata": {},
     "output_type": "execute_result"
    }
   ],
   "source": [
    "import control as ct\n",
    "sys = ct.tf(1, [1, 1])\n",
    "print(\"Continues\")\n",
    "sys\n",
    "delta_t=0.2\n",
    "# \"gbt\", \"bilinear\", \"euler\", \"backward_diff\",\n",
    "#                   \"zoh\", \"matched\"\n",
    "# 'zoh', 'bilinear', 'euler', 'backward_diff', 'foh', 'impulse'\n",
    "sysd_zoh = sys.sample(delta_t, method='zoh')\n",
    "print(\"sysd_zoh\")\n",
    "sysd_zoh\n",
    "sysd_bilinear = sys.sample(delta_t, method='bilinear')\n",
    "print(\"sysd_bilinear\")\n",
    "sysd_bilinear\n",
    "sysd_euler = sys.sample(delta_t, method='euler')\n",
    "print(\"sysd_euler\")\n",
    "sysd_euler\n",
    "sysd_backward_diff = sys.sample(delta_t, method='backward_diff')\n",
    "print(\"sysd_backward_diff\")\n",
    "sysd_backward_diff\n",
    "sysd_foh = sys.sample(delta_t, method='foh')\n",
    "print(\"sysd_foh\")\n",
    "sysd_foh\n",
    "sysd_impulse = sys.sample(delta_t, method='impulse')\n",
    "print(\"sysd_impulse\")\n",
    "sysd_impulse\n"
   ]
  },
  {
   "cell_type": "code",
   "execution_count": 13,
   "metadata": {},
   "outputs": [
    {
     "data": {
      "text/plain": [
       "[<matplotlib.lines.Line2D at 0x234fff63010>]"
      ]
     },
     "execution_count": 13,
     "metadata": {},
     "output_type": "execute_result"
    },
    {
     "data": {
      "text/plain": [
       "[<matplotlib.lines.Line2D at 0x234fff63220>]"
      ]
     },
     "execution_count": 13,
     "metadata": {},
     "output_type": "execute_result"
    },
    {
     "data": {
      "text/plain": [
       "[<matplotlib.lines.Line2D at 0x234fff63610>]"
      ]
     },
     "execution_count": 13,
     "metadata": {},
     "output_type": "execute_result"
    },
    {
     "data": {
      "text/plain": [
       "[<matplotlib.lines.Line2D at 0x234fff62110>]"
      ]
     },
     "execution_count": 13,
     "metadata": {},
     "output_type": "execute_result"
    },
    {
     "data": {
      "text/plain": [
       "[<matplotlib.lines.Line2D at 0x234fff63a30>]"
      ]
     },
     "execution_count": 13,
     "metadata": {},
     "output_type": "execute_result"
    },
    {
     "data": {
      "text/plain": [
       "[<matplotlib.lines.Line2D at 0x234fff63bb0>]"
      ]
     },
     "execution_count": 13,
     "metadata": {},
     "output_type": "execute_result"
    },
    {
     "data": {
      "text/plain": [
       "[<matplotlib.lines.Line2D at 0x234fff63f70>]"
      ]
     },
     "execution_count": 13,
     "metadata": {},
     "output_type": "execute_result"
    },
    {
     "data": {
      "text/plain": [
       "<matplotlib.legend.Legend at 0x234ff326860>"
      ]
     },
     "execution_count": 13,
     "metadata": {},
     "output_type": "execute_result"
    },
    {
     "data": {
      "text/plain": [
       "(0.0, 5.0)"
      ]
     },
     "execution_count": 13,
     "metadata": {},
     "output_type": "execute_result"
    },
    {
     "data": {
      "image/png": "[encoded data removed]",
      "text/plain": [
       "<Figure size 432x288 with 1 Axes>"
      ]
     },
     "metadata": {
      "needs_background": "light"
     },
     "output_type": "display_data"
    }
   ],
   "source": [
    "t,step=ct.step_response(sys)\n",
    "plt.plot(t,step)\n",
    "t,zoh=ct.step_response(sysd_zoh)\n",
    "plt.step(t,zoh)\n",
    "t,bilinear=ct.step_response(sysd_bilinear)\n",
    "plt.step(t,bilinear)\n",
    "t,euler=ct.step_response(sysd_euler)\n",
    "plt.step(t,euler)\n",
    "t,backward_diff=ct.step_response(sysd_backward_diff)\n",
    "plt.step(t,backward_diff)\n",
    "t,foh=ct.step_response(sysd_foh)\n",
    "plt.step(t,foh)\n",
    "t,impulse=ct.step_response(sysd_impulse)\n",
    "plt.step(t,impulse)\n",
    "plt.legend({'sysd_zoh','sysd_bilinear','sysd_euler','sysd_backward_diff','sysd_foh','sysd_impulse'})\n",
    "# left=0\n",
    "# right=5\n",
    "plt.xlim(left=0,right=5)\n",
    "plt.grid()\n",
    "plt.show()"
   ]
  },
  {
   "cell_type": "code",
   "execution_count": 14,
   "metadata": {},
   "outputs": [
    {
     "data": {
      "text/plain": [
       "[<matplotlib.lines.Line2D at 0x23486ff4610>]"
      ]
     },
     "execution_count": 14,
     "metadata": {},
     "output_type": "execute_result"
    },
    {
     "data": {
      "text/plain": [
       "<matplotlib.lines.Line2D at 0x234ff3083d0>"
      ]
     },
     "execution_count": 14,
     "metadata": {},
     "output_type": "execute_result"
    },
    {
     "data": {
      "text/plain": [
       "Text(600, 0.6, 'frequencies higher than half\\nthe sampling rate\\nalias to lower frequencies')"
      ]
     },
     "execution_count": 14,
     "metadata": {},
     "output_type": "execute_result"
    },
    {
     "data": {
      "text/plain": [
       "Text(0.5, 0, 'Input frequency [Hz]')"
      ]
     },
     "execution_count": 14,
     "metadata": {},
     "output_type": "execute_result"
    },
    {
     "data": {
      "text/plain": [
       "Text(0, 0.5, 'Magnitude H(s)')"
      ]
     },
     "execution_count": 14,
     "metadata": {},
     "output_type": "execute_result"
    },
    {
     "data": {
      "text/plain": [
       "Text(0.5, 1.0, 'The zero-order hold transfer function')"
      ]
     },
     "execution_count": 14,
     "metadata": {},
     "output_type": "execute_result"
    },
    {
     "data": {
      "image/png": "[encoded data removed]",
      "text/plain": [
       "<Figure size 432x288 with 1 Axes>"
      ]
     },
     "metadata": {
      "needs_background": "light"
     },
     "output_type": "display_data"
    }
   ],
   "source": [
    "import numpy as np\n",
    "import matplotlib.pyplot as plt\n",
    "\n",
    "f = np.linspace(1, 3000, 1000)\n",
    "w = 2*np.pi*f\n",
    "s = 1j*w\n",
    "T = 0.001\n",
    "H_s = (1-np.exp(-s*T))/(s*T)\n",
    "mag = np.abs(H_s)\n",
    "phase = np.angle(H_s, deg=True)\n",
    "\n",
    "plt.plot(f, mag)\n",
    "plt.axvline(x=500, color='k')\n",
    "plt.annotate('frequencies higher than half\\nthe sampling rate\\nalias to lower frequencies', \n",
    "             xy=(3000,0.68), xytext=(600, 0.6), arrowprops=dict(facecolor='black', shrink=0.05))\n",
    "plt.xlabel('Input frequency [Hz]')\n",
    "plt.ylabel('Magnitude H(s)')\n",
    "plt.title('The zero-order hold transfer function')\n",
    "plt.grid()\n",
    "plt.show()"
   ]
  },
  {
   "cell_type": "code",
   "execution_count": 15,
   "metadata": {},
   "outputs": [
    {
     "data": {
      "image/png": "[encoded data removed]",
      "text/plain": [
       "<Figure size 432x288 with 1 Axes>"
      ]
     },
     "metadata": {
      "needs_background": "light"
     },
     "output_type": "display_data"
    }
   ],
   "source": [
    "num=[1]\n",
    "den=[1,1]\n",
    "G=ct.tf(num,den)\n",
    "\n",
    "roots,gains=ct.root_locus(G)\n"
   ]
  },
  {
   "cell_type": "code",
   "execution_count": 16,
   "metadata": {},
   "outputs": [
    {
     "data": {
      "text/latex": [
       "$$\\frac{s}{s + 1}$$"
      ],
      "text/plain": [
       "TransferFunction(array([1, 0]), array([1, 1]))"
      ]
     },
     "execution_count": 16,
     "metadata": {},
     "output_type": "execute_result"
    },
    {
     "data": {
      "image/png": "[encoded data removed]",
      "text/plain": [
       "<Figure size 432x288 with 1 Axes>"
      ]
     },
     "metadata": {
      "needs_background": "light"
     },
     "output_type": "display_data"
    }
   ],
   "source": [
    "s = ct.TransferFunction.s\n",
    "num=s\n",
    "den=s+1\n",
    "G=num/den\n",
    "G\n",
    "\n",
    "# ct.step_response(G).plot()\n",
    "# response.plot()\n",
    "roots,gains=ct.root_locus(G)\n"
   ]
  },
  {
   "cell_type": "code",
   "execution_count": 17,
   "metadata": {},
   "outputs": [
    {
     "data": {
      "text/plain": [
       "[<matplotlib.lines.Line2D at 0x234870834c0>]"
      ]
     },
     "execution_count": 17,
     "metadata": {},
     "output_type": "execute_result"
    },
    {
     "data": {
      "text/plain": [
       "[<matplotlib.lines.Line2D at 0x23487083790>]"
      ]
     },
     "execution_count": 17,
     "metadata": {},
     "output_type": "execute_result"
    },
    {
     "data": {
      "text/plain": [
       "<matplotlib.legend.Legend at 0x234870833d0>"
      ]
     },
     "execution_count": 17,
     "metadata": {},
     "output_type": "execute_result"
    },
    {
     "data": {
      "text/plain": [
       "Text(0.5, 0, 'Frequency [Hz]')"
      ]
     },
     "execution_count": 17,
     "metadata": {},
     "output_type": "execute_result"
    },
    {
     "data": {
      "text/plain": [
       "Text(0, 0.5, 'Magnitude [dB]')"
      ]
     },
     "execution_count": 17,
     "metadata": {},
     "output_type": "execute_result"
    },
    {
     "data": {
      "image/png": "[encoded data removed]",
      "text/plain": [
       "<Figure size 432x288 with 1 Axes>"
      ]
     },
     "metadata": {
      "needs_background": "light"
     },
     "output_type": "display_data"
    }
   ],
   "source": [
    "from scipy import signal\n",
    "import matplotlib.pyplot as plt\n",
    "import numpy as np\n",
    "fs = 100\n",
    "bf = 2 * np.pi * np.array([7, 13])\n",
    "\n",
    "filts = signal.lti(*signal.butter(4, bf, btype='bandpass',\n",
    "                                  analog=True))\n",
    "filtz = signal.lti(*signal.bilinear(filts.num, filts.den, fs))\n",
    "\n",
    "wz, hz = signal.freqz(filtz.num, filtz.den)\n",
    "ws, hs = signal.freqs(filts.num, filts.den, worN=fs*wz)\n",
    "\n",
    "\n",
    "plt.semilogx(wz*fs/(2*np.pi), 20*np.log10(np.abs(hz).clip(1e-15)),\n",
    "             label=r'$|H_z(e^{j \\omega})|$')\n",
    "plt.semilogx(wz*fs/(2*np.pi), 20*np.log10(np.abs(hs).clip(1e-15)),\n",
    "             label=r'$|H(j \\omega)|$')\n",
    "plt.legend()\n",
    "plt.xlabel('Frequency [Hz]')\n",
    "plt.ylabel('Magnitude [dB]')\n",
    "plt.grid(True)"
   ]
  },
  {
   "cell_type": "code",
   "execution_count": 23,
   "metadata": {},
   "outputs": [
    {
     "data": {
      "text/latex": [
       "$$\\frac{1}{s}$$"
      ],
      "text/plain": [
       "TransferFunction(array([1]), array([1, 0]))"
      ]
     },
     "execution_count": 23,
     "metadata": {},
     "output_type": "execute_result"
    },
    {
     "name": "stdout",
     "output_type": "stream",
     "text": [
      "zoh\n"
     ]
    },
    {
     "data": {
      "text/latex": [
       "$$\\frac{2}{z - 1}\\quad dt = 2$$"
      ],
      "text/plain": [
       "TransferFunction(array([2.]), array([ 1., -1.]), 2)"
      ]
     },
     "execution_count": 23,
     "metadata": {},
     "output_type": "execute_result"
    },
    {
     "name": "stdout",
     "output_type": "stream",
     "text": [
      "bilinear\n"
     ]
    },
    {
     "data": {
      "text/latex": [
       "$$\\frac{z + 1}{z - 1}\\quad dt = 2$$"
      ],
      "text/plain": [
       "TransferFunction(array([1., 1.]), array([ 1., -1.]), 2)"
      ]
     },
     "execution_count": 23,
     "metadata": {},
     "output_type": "execute_result"
    },
    {
     "name": "stdout",
     "output_type": "stream",
     "text": [
      "euler\n"
     ]
    },
    {
     "data": {
      "text/latex": [
       "$$\\frac{1}{z - 1}\\quad dt = 1$$"
      ],
      "text/plain": [
       "TransferFunction(array([1.]), array([ 1., -1.]), 1)"
      ]
     },
     "execution_count": 23,
     "metadata": {},
     "output_type": "execute_result"
    },
    {
     "name": "stdout",
     "output_type": "stream",
     "text": [
      "backward_diff\n"
     ]
    },
    {
     "data": {
      "text/latex": [
       "$$\\frac{z}{z - 1}\\quad dt = 1$$"
      ],
      "text/plain": [
       "TransferFunction(array([1., 0.]), array([ 1., -1.]), 1)"
      ]
     },
     "execution_count": 23,
     "metadata": {},
     "output_type": "execute_result"
    },
    {
     "name": "stdout",
     "output_type": "stream",
     "text": [
      "foh\n"
     ]
    },
    {
     "data": {
      "text/latex": [
       "$$\\frac{0.5 z + 0.5}{z - 1}\\quad dt = 1$$"
      ],
      "text/plain": [
       "TransferFunction(array([0.5, 0.5]), array([ 1., -1.]), 1)"
      ]
     },
     "execution_count": 23,
     "metadata": {},
     "output_type": "execute_result"
    },
    {
     "name": "stdout",
     "output_type": "stream",
     "text": [
      "impulse\n"
     ]
    },
    {
     "data": {
      "text/latex": [
       "$$\\frac{z}{z - 1}\\quad dt = 1$$"
      ],
      "text/plain": [
       "TransferFunction(array([1., 0.]), array([ 1., -1.]), 1)"
      ]
     },
     "execution_count": 23,
     "metadata": {},
     "output_type": "execute_result"
    }
   ],
   "source": [
    "#C2d METHOD 'zoh', 'bilinear', 'euler', 'backward_diff', 'foh', 'impulse'\n",
    "s = ct.TransferFunction.s\n",
    "\n",
    "G=1/s\n",
    "G\n",
    "# Ts=1\n",
    "G_Z=ct.c2d(G,Ts=2,method='zoh')\n",
    "print(\"zoh\")\n",
    "G_Z\n",
    "\n",
    "G_Z=ct.c2d(G,Ts=2,method='bilinear')\n",
    "print(\"bilinear\")\n",
    "G_Z\n",
    "\n",
    "G_Z=ct.c2d(G,Ts=1,method='euler')\n",
    "print(\"euler\")\n",
    "G_Z\n",
    "\n",
    "\n",
    "G_Z=ct.c2d(G,Ts=1,method='backward_diff')\n",
    "print(\"backward_diff\")\n",
    "G_Z\n",
    "\n",
    "G_Z=ct.c2d(G,Ts=1,method='foh')\n",
    "print(\"foh\")\n",
    "G_Z\n",
    "\n",
    "G_Z=ct.c2d(G,Ts=1,method='impulse')\n",
    "print(\"impulse\")\n",
    "G_Z"
   ]
  },
  {
   "cell_type": "code",
   "execution_count": 19,
   "metadata": {},
   "outputs": [
    {
     "data": {
      "text/latex": [
       "$\\displaystyle \\frac{1}{s}$"
      ],
      "text/plain": [
       "TransferFunction(1, s, s)"
      ]
     },
     "execution_count": 19,
     "metadata": {},
     "output_type": "execute_result"
    },
    {
     "data": {
      "text/plain": [
       "[T, T]"
      ]
     },
     "execution_count": 19,
     "metadata": {},
     "output_type": "execute_result"
    },
    {
     "data": {
      "text/plain": [
       "[2, -2]"
      ]
     },
     "execution_count": 19,
     "metadata": {},
     "output_type": "execute_result"
    },
    {
     "data": {
      "text/plain": [
       "[T, 0]"
      ]
     },
     "execution_count": 19,
     "metadata": {},
     "output_type": "execute_result"
    },
    {
     "data": {
      "text/plain": [
       "[1, -1]"
      ]
     },
     "execution_count": 19,
     "metadata": {},
     "output_type": "execute_result"
    }
   ],
   "source": [
    "from sympy.physics.control.lti import TransferFunction, backward_diff,bilinear\n",
    "# from sympy.physics.control.lti import \n",
    "from sympy.abc import s, L, R, T\n",
    "tf = TransferFunction(1, s, s)\n",
    "tf\n",
    "numZ, denZ = bilinear(tf, T)\n",
    "numZ\n",
    "denZ\n",
    "\n",
    "numZ, denZ = backward_diff(tf, T)\n",
    "numZ\n",
    "denZ"
   ]
  },
  {
   "cell_type": "code",
   "execution_count": 20,
   "metadata": {},
   "outputs": [],
   "source": [
    "from sympy.physics.control.lti import TransferFunction"
   ]
  }
 ],
 "metadata": {
  "kernelspec": {
   "display_name": "Python 3",
   "language": "python",
   "name": "python3"
  },
  "language_info": {
   "codemirror_mode": {
    "name": "ipython",
    "version": 3
   },
   "file_extension": ".py",
   "mimetype": "text/x-python",
   "name": "python",
   "nbconvert_exporter": "python",
   "pygments_lexer": "ipython3",
   "version": "3.10.5"
  },
  "orig_nbformat": 4
 },
 "nbformat": 4,
 "nbformat_minor": 2
}
