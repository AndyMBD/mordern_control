{
 "cells": [
  {
   "cell_type": "code",
   "execution_count": 143,
   "metadata": {},
   "outputs": [],
   "source": [
    "from IPython.core.interactiveshell import InteractiveShell\n",
    "InteractiveShell.ast_node_interactivity = \"all\" \n",
    "import sympy as sym\n",
    "import numpy as np\n",
    "import pandas as pd\n",
    "import control as ct\n",
    "from scipy import signal\n",
    "from matplotlib import pyplot as plt"
   ]
  },
  {
   "cell_type": "code",
   "execution_count": 144,
   "metadata": {},
   "outputs": [
    {
     "data": {
      "text/latex": [
       "$\\displaystyle \\frac{\\omega^{2}}{\\omega^{2} + 2 \\omega s \\zeta + s^{2}}$"
      ],
      "text/plain": [
       "omega**2/(omega**2 + 2*omega*s*zeta + s**2)"
      ]
     },
     "execution_count": 144,
     "metadata": {},
     "output_type": "execute_result"
    }
   ],
   "source": [
    "s,zeta,omega=sym.symbols('s,zeta,omega')\n",
    "G=omega**2/(s**2+2*zeta*omega*s+omega**2)\n",
    "G"
   ]
  },
  {
   "cell_type": "code",
   "execution_count": 145,
   "metadata": {},
   "outputs": [
    {
     "data": {
      "text/latex": [
       "$\\displaystyle \\frac{100}{s^{2} + 20 s + 100}$"
      ],
      "text/plain": [
       "100/(s**2 + 20*s + 100)"
      ]
     },
     "execution_count": 145,
     "metadata": {},
     "output_type": "execute_result"
    },
    {
     "data": {
      "text/plain": [
       "sympy.core.mul.Mul"
      ]
     },
     "execution_count": 145,
     "metadata": {},
     "output_type": "execute_result"
    }
   ],
   "source": [
    "G_subs=G.subs({zeta:1,omega:10})\n",
    "G_subs\n",
    "type(G_subs)"
   ]
  },
  {
   "cell_type": "code",
   "execution_count": 146,
   "metadata": {},
   "outputs": [
    {
     "data": {
      "text/latex": [
       "$\\displaystyle \\operatorname{Poly}{\\left( 100 \\frac{1}{s^{2} + 20 s + 100}, \\frac{1}{s^{2} + 20 s + 100}, domain=\\mathbb{Z} \\right)}$"
      ],
      "text/plain": [
       "Poly(100*(1/(s**2 + 20*s + 100)), 1/(s**2 + 20*s + 100), domain='ZZ')"
      ]
     },
     "execution_count": 146,
     "metadata": {},
     "output_type": "execute_result"
    }
   ],
   "source": [
    "G_subs.as_poly()"
   ]
  },
  {
   "cell_type": "code",
   "execution_count": 147,
   "metadata": {},
   "outputs": [
    {
     "name": "stdout",
     "output_type": "stream",
     "text": [
      "分子: 100\n",
      "分母: s**2 + 20*s + 100\n"
     ]
    },
    {
     "data": {
      "text/plain": [
       "[100]"
      ]
     },
     "execution_count": 147,
     "metadata": {},
     "output_type": "execute_result"
    },
    {
     "data": {
      "text/plain": [
       "[1, 20, 100]"
      ]
     },
     "execution_count": 147,
     "metadata": {},
     "output_type": "execute_result"
    },
    {
     "data": {
      "text/plain": [
       "list"
      ]
     },
     "execution_count": 147,
     "metadata": {},
     "output_type": "execute_result"
    },
    {
     "data": {
      "text/plain": [
       "list"
      ]
     },
     "execution_count": 147,
     "metadata": {},
     "output_type": "execute_result"
    }
   ],
   "source": [
    "G_subs_numerator = sym.ratsimp(G_subs).as_numer_denom()[0]\n",
    "G_subs_denominator = sym.ratsimp(G_subs).as_numer_denom()[1]\n",
    "\n",
    "print(\"分子:\", G_subs_numerator)\n",
    "print(\"分母:\", G_subs_denominator)\n",
    "num=sym.Poly(G_subs_numerator, s).all_coeffs()\n",
    "num\n",
    "den=sym.Poly(G_subs_denominator, s).all_coeffs()\n",
    "den\n",
    "type(num)\n",
    "type(den)\n",
    "# num"
   ]
  },
  {
   "cell_type": "code",
   "execution_count": 148,
   "metadata": {},
   "outputs": [
    {
     "data": {
      "text/latex": [
       "$$\\frac{100}{s^2 + 20 s + 100}$$"
      ],
      "text/plain": [
       "TransferFunction(array([100.]), array([  1.,  20., 100.]))"
      ]
     },
     "execution_count": 148,
     "metadata": {},
     "output_type": "execute_result"
    }
   ],
   "source": [
    "a=np.asarray(num)\n",
    "b=np.asarray(den)\n",
    "a=a.astype(np.float64)\n",
    "b=b.astype(np.float64)\n",
    "\n",
    "ct.tf(a,b)"
   ]
  },
  {
   "cell_type": "code",
   "execution_count": 149,
   "metadata": {},
   "outputs": [
    {
     "ename": "AttributeError",
     "evalue": "Line2D.set() got an unexpected keyword argument 'legends'",
     "output_type": "error",
     "traceback": [
      "\u001b[1;31m---------------------------------------------------------------------------\u001b[0m",
      "\u001b[1;31mAttributeError\u001b[0m                            Traceback (most recent call last)",
      "Cell \u001b[1;32mIn[149], line 10\u001b[0m\n\u001b[0;32m      7\u001b[0m \u001b[39mfor\u001b[39;00m psi \u001b[39min\u001b[39;00m psiList:\n\u001b[0;32m      8\u001b[0m     sysTfList\u001b[39m.\u001b[39mappend(ct\u001b[39m.\u001b[39mtf([\u001b[39m1\u001b[39m],[\u001b[39m1\u001b[39m,\u001b[39m2\u001b[39m\u001b[39m*\u001b[39mpsi,\u001b[39m1\u001b[39m]))\n\u001b[1;32m---> 10\u001b[0m mag,phase,omega\u001b[39m=\u001b[39mct\u001b[39m.\u001b[39;49mbode(sysTfList,omega\u001b[39m=\u001b[39;49mnp\u001b[39m.\u001b[39;49mlogspace(start\u001b[39m=\u001b[39;49m\u001b[39m-\u001b[39;49m\u001b[39m1\u001b[39;49m,stop\u001b[39m=\u001b[39;49m\u001b[39m1\u001b[39;49m,num\u001b[39m=\u001b[39;49m\u001b[39m200\u001b[39;49m),dB\u001b[39m=\u001b[39;49m\u001b[39mTrue\u001b[39;49;00m,deg\u001b[39m=\u001b[39;49m\u001b[39mFalse\u001b[39;49;00m,\n\u001b[0;32m     11\u001b[0m                           legends\u001b[39m=\u001b[39;49m[\u001b[39m'\u001b[39;49m\u001b[39m0.05\u001b[39;49m\u001b[39m'\u001b[39;49m,\u001b[39m'\u001b[39;49m\u001b[39m0.2\u001b[39;49m\u001b[39m'\u001b[39;49m,\u001b[39m'\u001b[39;49m\u001b[39m0.5\u001b[39;49m\u001b[39m'\u001b[39;49m,\u001b[39m'\u001b[39;49m\u001b[39m0.707\u001b[39;49m\u001b[39m'\u001b[39;49m,\u001b[39m'\u001b[39;49m\u001b[39m1.0\u001b[39;49m\u001b[39m'\u001b[39;49m])\n\u001b[0;32m     13\u001b[0m plt\u001b[39m.\u001b[39mshow()\n",
      "File \u001b[1;32mc:\\Users\\j4000774\\AppData\\Local\\Programs\\Python\\Python312\\Lib\\site-packages\\control\\freqplot.py:354\u001b[0m, in \u001b[0;36mbode_plot\u001b[1;34m(syslist, omega, plot, omega_limits, omega_num, margins, method, *args, **kwargs)\u001b[0m\n\u001b[0;32m    349\u001b[0m \u001b[39m#\u001b[39;00m\n\u001b[0;32m    350\u001b[0m \u001b[39m# Magnitude plot\u001b[39;00m\n\u001b[0;32m    351\u001b[0m \u001b[39m#\u001b[39;00m\n\u001b[0;32m    353\u001b[0m \u001b[39mif\u001b[39;00m dB:\n\u001b[1;32m--> 354\u001b[0m     ax_mag\u001b[39m.\u001b[39;49msemilogx(omega_plot, \u001b[39m20\u001b[39;49m \u001b[39m*\u001b[39;49m np\u001b[39m.\u001b[39;49mlog10(mag_plot),\n\u001b[0;32m    355\u001b[0m                     \u001b[39m*\u001b[39;49margs, \u001b[39m*\u001b[39;49m\u001b[39m*\u001b[39;49mkwargs)\n\u001b[0;32m    356\u001b[0m \u001b[39melse\u001b[39;00m:\n\u001b[0;32m    357\u001b[0m     ax_mag\u001b[39m.\u001b[39mloglog(omega_plot, mag_plot, \u001b[39m*\u001b[39margs, \u001b[39m*\u001b[39m\u001b[39m*\u001b[39mkwargs)\n",
      "File \u001b[1;32mc:\\Users\\j4000774\\AppData\\Local\\Programs\\Python\\Python312\\Lib\\site-packages\\matplotlib\\axes\\_axes.py:1909\u001b[0m, in \u001b[0;36mAxes.semilogx\u001b[1;34m(self, *args, **kwargs)\u001b[0m\n\u001b[0;32m   1905\u001b[0m d \u001b[39m=\u001b[39m {k: v \u001b[39mfor\u001b[39;00m k, v \u001b[39min\u001b[39;00m kwargs\u001b[39m.\u001b[39mitems()\n\u001b[0;32m   1906\u001b[0m      \u001b[39mif\u001b[39;00m k \u001b[39min\u001b[39;00m [\u001b[39m'\u001b[39m\u001b[39mbase\u001b[39m\u001b[39m'\u001b[39m, \u001b[39m'\u001b[39m\u001b[39msubs\u001b[39m\u001b[39m'\u001b[39m, \u001b[39m'\u001b[39m\u001b[39mnonpositive\u001b[39m\u001b[39m'\u001b[39m,\n\u001b[0;32m   1907\u001b[0m               \u001b[39m'\u001b[39m\u001b[39mbasex\u001b[39m\u001b[39m'\u001b[39m, \u001b[39m'\u001b[39m\u001b[39msubsx\u001b[39m\u001b[39m'\u001b[39m, \u001b[39m'\u001b[39m\u001b[39mnonposx\u001b[39m\u001b[39m'\u001b[39m]}\n\u001b[0;32m   1908\u001b[0m \u001b[39mself\u001b[39m\u001b[39m.\u001b[39mset_xscale(\u001b[39m'\u001b[39m\u001b[39mlog\u001b[39m\u001b[39m'\u001b[39m, \u001b[39m*\u001b[39m\u001b[39m*\u001b[39md)\n\u001b[1;32m-> 1909\u001b[0m \u001b[39mreturn\u001b[39;00m \u001b[39mself\u001b[39;49m\u001b[39m.\u001b[39;49mplot(\n\u001b[0;32m   1910\u001b[0m     \u001b[39m*\u001b[39;49margs, \u001b[39m*\u001b[39;49m\u001b[39m*\u001b[39;49m{k: v \u001b[39mfor\u001b[39;49;00m k, v \u001b[39min\u001b[39;49;00m kwargs\u001b[39m.\u001b[39;49mitems() \u001b[39mif\u001b[39;49;00m k \u001b[39mnot\u001b[39;49;00m \u001b[39min\u001b[39;49;00m d})\n",
      "File \u001b[1;32mc:\\Users\\j4000774\\AppData\\Local\\Programs\\Python\\Python312\\Lib\\site-packages\\matplotlib\\axes\\_axes.py:1721\u001b[0m, in \u001b[0;36mAxes.plot\u001b[1;34m(self, scalex, scaley, data, *args, **kwargs)\u001b[0m\n\u001b[0;32m   1478\u001b[0m \u001b[39m\u001b[39m\u001b[39m\"\"\"\u001b[39;00m\n\u001b[0;32m   1479\u001b[0m \u001b[39mPlot y versus x as lines and/or markers.\u001b[39;00m\n\u001b[0;32m   1480\u001b[0m \n\u001b[1;32m   (...)\u001b[0m\n\u001b[0;32m   1718\u001b[0m \u001b[39m(``'green'``) or hex strings (``'#008000'``).\u001b[39;00m\n\u001b[0;32m   1719\u001b[0m \u001b[39m\"\"\"\u001b[39;00m\n\u001b[0;32m   1720\u001b[0m kwargs \u001b[39m=\u001b[39m cbook\u001b[39m.\u001b[39mnormalize_kwargs(kwargs, mlines\u001b[39m.\u001b[39mLine2D)\n\u001b[1;32m-> 1721\u001b[0m lines \u001b[39m=\u001b[39m [\u001b[39m*\u001b[39m\u001b[39mself\u001b[39m\u001b[39m.\u001b[39m_get_lines(\u001b[39mself\u001b[39m, \u001b[39m*\u001b[39margs, data\u001b[39m=\u001b[39mdata, \u001b[39m*\u001b[39m\u001b[39m*\u001b[39mkwargs)]\n\u001b[0;32m   1722\u001b[0m \u001b[39mfor\u001b[39;00m line \u001b[39min\u001b[39;00m lines:\n\u001b[0;32m   1723\u001b[0m     \u001b[39mself\u001b[39m\u001b[39m.\u001b[39madd_line(line)\n",
      "File \u001b[1;32mc:\\Users\\j4000774\\AppData\\Local\\Programs\\Python\\Python312\\Lib\\site-packages\\matplotlib\\axes\\_base.py:303\u001b[0m, in \u001b[0;36m_process_plot_var_args.__call__\u001b[1;34m(self, axes, data, *args, **kwargs)\u001b[0m\n\u001b[0;32m    301\u001b[0m     this \u001b[39m+\u001b[39m\u001b[39m=\u001b[39m args[\u001b[39m0\u001b[39m],\n\u001b[0;32m    302\u001b[0m     args \u001b[39m=\u001b[39m args[\u001b[39m1\u001b[39m:]\n\u001b[1;32m--> 303\u001b[0m \u001b[39myield from\u001b[39;00m \u001b[39mself\u001b[39;49m\u001b[39m.\u001b[39;49m_plot_args(\n\u001b[0;32m    304\u001b[0m     axes, this, kwargs, ambiguous_fmt_datakey\u001b[39m=\u001b[39;49mambiguous_fmt_datakey)\n",
      "File \u001b[1;32mc:\\Users\\j4000774\\AppData\\Local\\Programs\\Python\\Python312\\Lib\\site-packages\\matplotlib\\axes\\_base.py:539\u001b[0m, in \u001b[0;36m_process_plot_var_args._plot_args\u001b[1;34m(self, axes, tup, kwargs, return_kwargs, ambiguous_fmt_datakey)\u001b[0m\n\u001b[0;32m    537\u001b[0m     \u001b[39mreturn\u001b[39;00m \u001b[39mlist\u001b[39m(result)\n\u001b[0;32m    538\u001b[0m \u001b[39melse\u001b[39;00m:\n\u001b[1;32m--> 539\u001b[0m     \u001b[39mreturn\u001b[39;00m [l[\u001b[39m0\u001b[39;49m] \u001b[39mfor\u001b[39;49;00m l \u001b[39min\u001b[39;49;00m result]\n",
      "File \u001b[1;32mc:\\Users\\j4000774\\AppData\\Local\\Programs\\Python\\Python312\\Lib\\site-packages\\matplotlib\\axes\\_base.py:532\u001b[0m, in \u001b[0;36m<genexpr>\u001b[1;34m(.0)\u001b[0m\n\u001b[0;32m    529\u001b[0m \u001b[39melse\u001b[39;00m:\n\u001b[0;32m    530\u001b[0m     labels \u001b[39m=\u001b[39m [label] \u001b[39m*\u001b[39m n_datasets\n\u001b[1;32m--> 532\u001b[0m result \u001b[39m=\u001b[39m (make_artist(axes, x[:, j \u001b[39m%\u001b[39;49m ncx], y[:, j \u001b[39m%\u001b[39;49m ncy], kw,\n\u001b[0;32m    533\u001b[0m                       {\u001b[39m*\u001b[39;49m\u001b[39m*\u001b[39;49mkwargs, \u001b[39m'\u001b[39;49m\u001b[39mlabel\u001b[39;49m\u001b[39m'\u001b[39;49m: label})\n\u001b[0;32m    534\u001b[0m           \u001b[39mfor\u001b[39;00m j, label \u001b[39min\u001b[39;00m \u001b[39menumerate\u001b[39m(labels))\n\u001b[0;32m    536\u001b[0m \u001b[39mif\u001b[39;00m return_kwargs:\n\u001b[0;32m    537\u001b[0m     \u001b[39mreturn\u001b[39;00m \u001b[39mlist\u001b[39m(result)\n",
      "File \u001b[1;32mc:\\Users\\j4000774\\AppData\\Local\\Programs\\Python\\Python312\\Lib\\site-packages\\matplotlib\\axes\\_base.py:346\u001b[0m, in \u001b[0;36m_process_plot_var_args._makeline\u001b[1;34m(self, axes, x, y, kw, kwargs)\u001b[0m\n\u001b[0;32m    344\u001b[0m default_dict \u001b[39m=\u001b[39m \u001b[39mself\u001b[39m\u001b[39m.\u001b[39m_getdefaults(\u001b[39mset\u001b[39m(), kw)\n\u001b[0;32m    345\u001b[0m \u001b[39mself\u001b[39m\u001b[39m.\u001b[39m_setdefaults(default_dict, kw)\n\u001b[1;32m--> 346\u001b[0m seg \u001b[39m=\u001b[39m mlines\u001b[39m.\u001b[39;49mLine2D(x, y, \u001b[39m*\u001b[39;49m\u001b[39m*\u001b[39;49mkw)\n\u001b[0;32m    347\u001b[0m \u001b[39mreturn\u001b[39;00m seg, kw\n",
      "File \u001b[1;32mc:\\Users\\j4000774\\AppData\\Local\\Programs\\Python\\Python312\\Lib\\site-packages\\matplotlib\\lines.py:407\u001b[0m, in \u001b[0;36mLine2D.__init__\u001b[1;34m(self, xdata, ydata, linewidth, linestyle, color, gapcolor, marker, markersize, markeredgewidth, markeredgecolor, markerfacecolor, markerfacecoloralt, fillstyle, antialiased, dash_capstyle, solid_capstyle, dash_joinstyle, solid_joinstyle, pickradius, drawstyle, markevery, **kwargs)\u001b[0m\n\u001b[0;32m    403\u001b[0m \u001b[39mself\u001b[39m\u001b[39m.\u001b[39mset_markeredgewidth(markeredgewidth)\n\u001b[0;32m    405\u001b[0m \u001b[39m# update kwargs before updating data to give the caller a\u001b[39;00m\n\u001b[0;32m    406\u001b[0m \u001b[39m# chance to init axes (and hence unit support)\u001b[39;00m\n\u001b[1;32m--> 407\u001b[0m \u001b[39mself\u001b[39;49m\u001b[39m.\u001b[39;49m_internal_update(kwargs)\n\u001b[0;32m    408\u001b[0m \u001b[39mself\u001b[39m\u001b[39m.\u001b[39mpickradius \u001b[39m=\u001b[39m pickradius\n\u001b[0;32m    409\u001b[0m \u001b[39mself\u001b[39m\u001b[39m.\u001b[39mind_offset \u001b[39m=\u001b[39m \u001b[39m0\u001b[39m\n",
      "File \u001b[1;32mc:\\Users\\j4000774\\AppData\\Local\\Programs\\Python\\Python312\\Lib\\site-packages\\matplotlib\\artist.py:1219\u001b[0m, in \u001b[0;36mArtist._internal_update\u001b[1;34m(self, kwargs)\u001b[0m\n\u001b[0;32m   1212\u001b[0m \u001b[39mdef\u001b[39;00m \u001b[39m_internal_update\u001b[39m(\u001b[39mself\u001b[39m, kwargs):\n\u001b[0;32m   1213\u001b[0m \u001b[39m    \u001b[39m\u001b[39m\"\"\"\u001b[39;00m\n\u001b[0;32m   1214\u001b[0m \u001b[39m    Update artist properties without prenormalizing them, but generating\u001b[39;00m\n\u001b[0;32m   1215\u001b[0m \u001b[39m    errors as if calling `set`.\u001b[39;00m\n\u001b[0;32m   1216\u001b[0m \n\u001b[0;32m   1217\u001b[0m \u001b[39m    The lack of prenormalization is to maintain backcompatibility.\u001b[39;00m\n\u001b[0;32m   1218\u001b[0m \u001b[39m    \"\"\"\u001b[39;00m\n\u001b[1;32m-> 1219\u001b[0m     \u001b[39mreturn\u001b[39;00m \u001b[39mself\u001b[39;49m\u001b[39m.\u001b[39;49m_update_props(\n\u001b[0;32m   1220\u001b[0m         kwargs, \u001b[39m\"\u001b[39;49m\u001b[39m{cls.__name__}\u001b[39;49;00m\u001b[39m.set() got an unexpected keyword argument \u001b[39;49m\u001b[39m\"\u001b[39;49m\n\u001b[0;32m   1221\u001b[0m         \u001b[39m\"\u001b[39;49m\u001b[39m{prop_name!r}\u001b[39;49;00m\u001b[39m\"\u001b[39;49m)\n",
      "File \u001b[1;32mc:\\Users\\j4000774\\AppData\\Local\\Programs\\Python\\Python312\\Lib\\site-packages\\matplotlib\\artist.py:1193\u001b[0m, in \u001b[0;36mArtist._update_props\u001b[1;34m(self, props, errfmt)\u001b[0m\n\u001b[0;32m   1191\u001b[0m             func \u001b[39m=\u001b[39m \u001b[39mgetattr\u001b[39m(\u001b[39mself\u001b[39m, \u001b[39mf\u001b[39m\u001b[39m\"\u001b[39m\u001b[39mset_\u001b[39m\u001b[39m{\u001b[39;00mk\u001b[39m}\u001b[39;00m\u001b[39m\"\u001b[39m, \u001b[39mNone\u001b[39;00m)\n\u001b[0;32m   1192\u001b[0m             \u001b[39mif\u001b[39;00m \u001b[39mnot\u001b[39;00m \u001b[39mcallable\u001b[39m(func):\n\u001b[1;32m-> 1193\u001b[0m                 \u001b[39mraise\u001b[39;00m \u001b[39mAttributeError\u001b[39;00m(\n\u001b[0;32m   1194\u001b[0m                     errfmt\u001b[39m.\u001b[39mformat(\u001b[39mcls\u001b[39m\u001b[39m=\u001b[39m\u001b[39mtype\u001b[39m(\u001b[39mself\u001b[39m), prop_name\u001b[39m=\u001b[39mk))\n\u001b[0;32m   1195\u001b[0m             ret\u001b[39m.\u001b[39mappend(func(v))\n\u001b[0;32m   1196\u001b[0m \u001b[39mif\u001b[39;00m ret:\n",
      "\u001b[1;31mAttributeError\u001b[0m: Line2D.set() got an unexpected keyword argument 'legends'"
     ]
    },
    {
     "data": {
      "image/png": "[encoded data removed]",
      "text/plain": [
       "<Figure size 640x480 with 2 Axes>"
      ]
     },
     "metadata": {},
     "output_type": "display_data"
    }
   ],
   "source": [
    "import control as ct\n",
    "import matplotlib.pyplot as plt\n",
    "import math\n",
    "import numpy as np\n",
    "psiList = [0.05,0.2,0.5,0.707,1.0]\n",
    "sysTfList=[]\n",
    "for psi in psiList:\n",
    "    sysTfList.append(ct.tf([1],[1,2*psi,1]))\n",
    "\n",
    "mag,phase,omega=ct.bode(sysTfList,omega=np.logspace(start=-1,stop=1,num=200),dB=True,deg=False,\n",
    "                          legends=['0.05','0.2','0.5','0.707','1.0'])\n",
    "\n",
    "plt.show()\n",
    "\n"
   ]
  },
  {
   "cell_type": "markdown",
   "metadata": {},
   "source": [
    "## Plot Zero Pole"
   ]
  },
  {
   "cell_type": "code",
   "execution_count": 150,
   "metadata": {},
   "outputs": [
    {
     "ename": "NameError",
     "evalue": "name 'z' is not defined",
     "output_type": "error",
     "traceback": [
      "\u001b[1;31m---------------------------------------------------------------------------\u001b[0m",
      "\u001b[1;31mNameError\u001b[0m                                 Traceback (most recent call last)",
      "Cell \u001b[1;32mIn[150], line 2\u001b[0m\n\u001b[0;32m      1\u001b[0m \u001b[39m# from sympy.physics.control.control_plots import pole_zero_plot\u001b[39;00m\n\u001b[1;32m----> 2\u001b[0m plt\u001b[39m.\u001b[39mplot(z\u001b[39m.\u001b[39mreal,z\u001b[39m.\u001b[39mimag,\u001b[39m'\u001b[39m\u001b[39mo\u001b[39m\u001b[39m'\u001b[39m,color\u001b[39m=\u001b[39m\u001b[39m'\u001b[39m\u001b[39mblack\u001b[39m\u001b[39m'\u001b[39m,label\u001b[39m=\u001b[39m\u001b[39m'\u001b[39m\u001b[39mzero\u001b[39m\u001b[39m'\u001b[39m)\n\u001b[0;32m      3\u001b[0m plt\u001b[39m.\u001b[39mplot(p\u001b[39m.\u001b[39mreal,p\u001b[39m.\u001b[39mimag,\u001b[39m'\u001b[39m\u001b[39mx\u001b[39m\u001b[39m'\u001b[39m,color\u001b[39m=\u001b[39m\u001b[39m'\u001b[39m\u001b[39mred\u001b[39m\u001b[39m'\u001b[39m,label\u001b[39m=\u001b[39m\u001b[39m'\u001b[39m\u001b[39mpoles\u001b[39m\u001b[39m'\u001b[39m)\n\u001b[0;32m      4\u001b[0m plt\u001b[39m.\u001b[39maxhline(\u001b[39m0\u001b[39m)\n",
      "\u001b[1;31mNameError\u001b[0m: name 'z' is not defined"
     ]
    }
   ],
   "source": [
    "\n",
    "# from sympy.physics.control.control_plots import pole_zero_plot\n",
    "plt.plot(z.real,z.imag,'o',color='black',label='zero')\n",
    "plt.plot(p.real,p.imag,'x',color='red',label='poles')\n",
    "plt.axhline(0)\n",
    "plt.axvline(0)\n",
    "plt.grid()\n",
    "plt.legend()\n",
    "# sym.pole_zero_plot"
   ]
  },
  {
   "cell_type": "markdown",
   "metadata": {},
   "source": [
    "## Step Response"
   ]
  },
  {
   "cell_type": "code",
   "execution_count": null,
   "metadata": {},
   "outputs": [
    {
     "ename": "NameError",
     "evalue": "name 'G' is not defined",
     "output_type": "error",
     "traceback": [
      "\u001b[1;31m---------------------------------------------------------------------------\u001b[0m",
      "\u001b[1;31mNameError\u001b[0m                                 Traceback (most recent call last)",
      "\u001b[1;32mc:\\Users\\j4000774\\Desktop\\Modern_Control_Theory\\Automatic_Control_Systems_10th_Benjamin_ C_Kuo\\Second_Step_Reponse.ipynb Cell 8\u001b[0m in \u001b[0;36m1\n\u001b[1;32m----> <a href='vscode-notebook-cell:/c%3A/Users/j4000774/Desktop/Modern_Control_Theory/Automatic_Control_Systems_10th_Benjamin_%20C_Kuo/Second_Step_Reponse.ipynb#X10sZmlsZQ%3D%3D?line=0'>1</a>\u001b[0m G\n\u001b[0;32m      <a href='vscode-notebook-cell:/c%3A/Users/j4000774/Desktop/Modern_Control_Theory/Automatic_Control_Systems_10th_Benjamin_%20C_Kuo/Second_Step_Reponse.ipynb#X10sZmlsZQ%3D%3D?line=1'>2</a>\u001b[0m t, y \u001b[39m=\u001b[39m signal\u001b[39m.\u001b[39mstep(G)\n\u001b[0;32m      <a href='vscode-notebook-cell:/c%3A/Users/j4000774/Desktop/Modern_Control_Theory/Automatic_Control_Systems_10th_Benjamin_%20C_Kuo/Second_Step_Reponse.ipynb#X10sZmlsZQ%3D%3D?line=2'>3</a>\u001b[0m plt\u001b[39m.\u001b[39mplot(t, y)\n",
      "\u001b[1;31mNameError\u001b[0m: name 'G' is not defined"
     ]
    }
   ],
   "source": [
    "G\n",
    "t, y = signal.step(G)\n",
    "plt.plot(t, y)\n",
    "plt.xlabel('Time [s]')\n",
    "plt.ylabel('Amplitude')\n",
    "plt.title('Step response for G')\n",
    "plt.grid()"
   ]
  },
  {
   "cell_type": "markdown",
   "metadata": {},
   "source": [
    "## Bode Plot"
   ]
  },
  {
   "cell_type": "code",
   "execution_count": null,
   "metadata": {},
   "outputs": [
    {
     "ename": "TypeError",
     "evalue": "scipy.signal._ltisys.lti() argument after * must be an iterable, not Mul",
     "output_type": "error",
     "traceback": [
      "\u001b[1;31m---------------------------------------------------------------------------\u001b[0m",
      "\u001b[1;31mTypeError\u001b[0m                                 Traceback (most recent call last)",
      "Cell \u001b[1;32mIn[134], line 1\u001b[0m\n\u001b[1;32m----> 1\u001b[0m w, mag, phase \u001b[39m=\u001b[39m signal\u001b[39m.\u001b[39;49mbode(G)\n\u001b[0;32m      2\u001b[0m plt\u001b[39m.\u001b[39mfigure()\n\u001b[0;32m      3\u001b[0m plt\u001b[39m.\u001b[39msemilogx(w, mag)    \u001b[39m# Bode magnitude plot\u001b[39;00m\n",
      "File \u001b[1;32mc:\\Users\\j4000774\\AppData\\Local\\Programs\\Python\\Python312\\Lib\\site-packages\\scipy\\signal\\_ltisys.py:2624\u001b[0m, in \u001b[0;36mbode\u001b[1;34m(system, w, n)\u001b[0m\n\u001b[0;32m   2568\u001b[0m \u001b[39mdef\u001b[39;00m \u001b[39mbode\u001b[39m(system, w\u001b[39m=\u001b[39m\u001b[39mNone\u001b[39;00m, n\u001b[39m=\u001b[39m\u001b[39m100\u001b[39m):\n\u001b[0;32m   2569\u001b[0m \u001b[39m    \u001b[39m\u001b[39m\"\"\"\u001b[39;00m\n\u001b[0;32m   2570\u001b[0m \u001b[39m    Calculate Bode magnitude and phase data of a continuous-time system.\u001b[39;00m\n\u001b[0;32m   2571\u001b[0m \n\u001b[1;32m   (...)\u001b[0m\n\u001b[0;32m   2622\u001b[0m \n\u001b[0;32m   2623\u001b[0m \u001b[39m    \"\"\"\u001b[39;00m\n\u001b[1;32m-> 2624\u001b[0m     w, y \u001b[39m=\u001b[39m freqresp(system, w\u001b[39m=\u001b[39;49mw, n\u001b[39m=\u001b[39;49mn)\n\u001b[0;32m   2626\u001b[0m     mag \u001b[39m=\u001b[39m \u001b[39m20.0\u001b[39m \u001b[39m*\u001b[39m numpy\u001b[39m.\u001b[39mlog10(\u001b[39mabs\u001b[39m(y))\n\u001b[0;32m   2627\u001b[0m     phase \u001b[39m=\u001b[39m numpy\u001b[39m.\u001b[39munwrap(numpy\u001b[39m.\u001b[39marctan2(y\u001b[39m.\u001b[39mimag, y\u001b[39m.\u001b[39mreal)) \u001b[39m*\u001b[39m \u001b[39m180.0\u001b[39m \u001b[39m/\u001b[39m numpy\u001b[39m.\u001b[39mpi\n",
      "File \u001b[1;32mc:\\Users\\j4000774\\AppData\\Local\\Programs\\Python\\Python312\\Lib\\site-packages\\scipy\\signal\\_ltisys.py:2695\u001b[0m, in \u001b[0;36mfreqresp\u001b[1;34m(system, w, n)\u001b[0m\n\u001b[0;32m   2692\u001b[0m     \u001b[39mraise\u001b[39;00m \u001b[39mAttributeError\u001b[39;00m(\u001b[39m'\u001b[39m\u001b[39mfreqresp can only be used with continuous-time \u001b[39m\u001b[39m'\u001b[39m\n\u001b[0;32m   2693\u001b[0m                          \u001b[39m'\u001b[39m\u001b[39msystems.\u001b[39m\u001b[39m'\u001b[39m)\n\u001b[0;32m   2694\u001b[0m \u001b[39melse\u001b[39;00m:\n\u001b[1;32m-> 2695\u001b[0m     sys \u001b[39m=\u001b[39m lti(\u001b[39m*\u001b[39;49msystem)\u001b[39m.\u001b[39m_as_zpk()\n\u001b[0;32m   2697\u001b[0m \u001b[39mif\u001b[39;00m sys\u001b[39m.\u001b[39minputs \u001b[39m!=\u001b[39m \u001b[39m1\u001b[39m \u001b[39mor\u001b[39;00m sys\u001b[39m.\u001b[39moutputs \u001b[39m!=\u001b[39m \u001b[39m1\u001b[39m:\n\u001b[0;32m   2698\u001b[0m     \u001b[39mraise\u001b[39;00m \u001b[39mValueError\u001b[39;00m(\u001b[39m\"\u001b[39m\u001b[39mfreqresp() requires a SISO (single input, single \u001b[39m\u001b[39m\"\u001b[39m\n\u001b[0;32m   2699\u001b[0m                      \u001b[39m\"\u001b[39m\u001b[39moutput) system.\u001b[39m\u001b[39m\"\u001b[39m)\n",
      "\u001b[1;31mTypeError\u001b[0m: scipy.signal._ltisys.lti() argument after * must be an iterable, not Mul"
     ]
    }
   ],
   "source": [
    "w, mag, phase = signal.bode(G)\n",
    "plt.figure()\n",
    "plt.semilogx(w, mag)    # Bode magnitude plot\n",
    "plt.grid()\n",
    "plt.figure()\n",
    "plt.semilogx(w, phase)  # Bode phase plot\n",
    "plt.grid()\n",
    "plt.show()"
   ]
  },
  {
   "cell_type": "code",
   "execution_count": 153,
   "metadata": {},
   "outputs": [
    {
     "data": {
      "text/plain": [
       "512.0"
      ]
     },
     "execution_count": 153,
     "metadata": {},
     "output_type": "execute_result"
    },
    {
     "ename": "TypeError",
     "evalue": "unsupported operand type(s) for &: 'float' and 'int'",
     "output_type": "error",
     "traceback": [
      "\u001b[1;31m---------------------------------------------------------------------------\u001b[0m",
      "\u001b[1;31mTypeError\u001b[0m                                 Traceback (most recent call last)",
      "Cell \u001b[1;32mIn[153], line 10\u001b[0m\n\u001b[0;32m      8\u001b[0m U180_270 \u001b[39m=\u001b[39m \u001b[39m0x0000\u001b[39m\n\u001b[0;32m      9\u001b[0m U270_360 \u001b[39m=\u001b[39m \u001b[39m0x0100\u001b[39m\n\u001b[1;32m---> 10\u001b[0m h_index\u001b[39m&\u001b[39;49mSIN_MASK\n",
      "\u001b[1;31mTypeError\u001b[0m: unsupported operand type(s) for &: 'float' and 'int'"
     ]
    }
   ],
   "source": [
    "h_angle=0\n",
    "h_index=(h_angle+32768)/64\n",
    "h_index\n",
    "sin_mask = 0x200\n",
    "SIN_MASK = 0x0300\n",
    "U0_90    = 0x0200\n",
    "U90_180  = 0x0300\n",
    "U180_270 = 0x0000\n",
    "U270_360 = 0x0100\n",
    "h_index&SIN_MASK"
   ]
  }
 ],
 "metadata": {
  "kernelspec": {
   "display_name": "Python 3",
   "language": "python",
   "name": "python3"
  },
  "language_info": {
   "codemirror_mode": {
    "name": "ipython",
    "version": 3
   },
   "file_extension": ".py",
   "mimetype": "text/x-python",
   "name": "python",
   "nbconvert_exporter": "python",
   "pygments_lexer": "ipython3",
   "version": "3.12.1"
  },
  "orig_nbformat": 4
 },
 "nbformat": 4,
 "nbformat_minor": 2
}
