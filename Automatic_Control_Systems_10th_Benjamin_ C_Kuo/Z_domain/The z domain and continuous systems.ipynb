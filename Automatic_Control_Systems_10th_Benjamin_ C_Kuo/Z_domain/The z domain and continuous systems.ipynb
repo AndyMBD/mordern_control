{
 "cells": [
  {
   "cell_type": "code",
   "execution_count": 1,
   "metadata": {},
   "outputs": [],
   "source": [
    "import sympy\n",
    "sympy.init_printing()\n",
    "import matplotlib.pyplot as plt\n",
    "%matplotlib inline\n",
    "import tbcontrol\n",
    "tbcontrol.expectversion('0.1.3')"
   ]
  },
  {
   "cell_type": "markdown",
   "metadata": {},
   "source": [
    "There is a difference between the $z$ transform of an impulse response and the equivalent z transform of a continuous system with a hold element."
   ]
  },
  {
   "cell_type": "markdown",
   "metadata": {},
   "source": [
    "Let's consider the system \n",
    "\n",
    "$$G(s) = \\frac{K}{s + r}$$"
   ]
  },
  {
   "cell_type": "code",
   "execution_count": 2,
   "metadata": {},
   "outputs": [],
   "source": [
    "s, z, q = sympy.symbols('s, z, q')\n",
    "K, r, t = sympy.symbols('K, r, t', real=True)\n",
    "Dt = sympy.Symbol(r'\\Delta t', positive=True)"
   ]
  },
  {
   "cell_type": "code",
   "execution_count": 3,
   "metadata": {},
   "outputs": [],
   "source": [
    "G = K/(s + r)"
   ]
  },
  {
   "cell_type": "markdown",
   "metadata": {},
   "source": [
    "The _impulse response_ of this system is simply the inverse laplace transform:"
   ]
  },
  {
   "cell_type": "code",
   "execution_count": 4,
   "metadata": {},
   "outputs": [],
   "source": [
    "import tbcontrol.symbolic"
   ]
  },
  {
   "cell_type": "code",
   "execution_count": 5,
   "metadata": {},
   "outputs": [
    {
     "data": {
      "image/png": "[encoded data removed]",
      "text/latex": [
       "$\\displaystyle K e^{- r t} \\theta\\left(t\\right)$"
      ],
      "text/plain": [
       "   -r⋅t     \n",
       "K⋅ℯ    ⋅θ(t)"
      ]
     },
     "execution_count": 5,
     "metadata": {},
     "output_type": "execute_result"
    }
   ],
   "source": [
    "gt = sympy.inverse_laplace_transform(G, s, t)\n",
    "gt"
   ]
  },
  {
   "cell_type": "markdown",
   "metadata": {},
   "source": [
    "The $z$ transform of this function of time, sampled at a sampling rate of $\\Delta t$ can be read off the table as"
   ]
  },
  {
   "cell_type": "code",
   "execution_count": 6,
   "metadata": {},
   "outputs": [],
   "source": [
    "b = sympy.exp(-r*Dt)\n",
    "Gz = K/(1 - b*z**-1)"
   ]
  },
  {
   "cell_type": "markdown",
   "metadata": {},
   "source": [
    "Let's choose values and plot the response."
   ]
  },
  {
   "cell_type": "code",
   "execution_count": 7,
   "metadata": {},
   "outputs": [],
   "source": [
    "parameters = {K: 3, r: 0.25, Dt: 2}"
   ]
  },
  {
   "cell_type": "code",
   "execution_count": 8,
   "metadata": {},
   "outputs": [],
   "source": [
    "import numpy"
   ]
  },
  {
   "cell_type": "code",
   "execution_count": 9,
   "metadata": {},
   "outputs": [],
   "source": [
    "ts = numpy.linspace(0, 20)"
   ]
  },
  {
   "cell_type": "code",
   "execution_count": 10,
   "metadata": {},
   "outputs": [],
   "source": [
    "terms = 10"
   ]
  },
  {
   "cell_type": "code",
   "execution_count": 11,
   "metadata": {},
   "outputs": [],
   "source": [
    "def plot_discrete(Gz, N, Dt):\n",
    "    ts = [Dt*n for n in range(N)]\n",
    "    values = tbcontrol.symbolic.sampledvalues(Gz.subs(parameters), z, N)\n",
    "    plt.stem(ts, values)"
   ]
  },
  {
   "cell_type": "code",
   "execution_count": 12,
   "metadata": {},
   "outputs": [],
   "source": [
    "def values(expression, ts):\n",
    "    return tbcontrol.symbolic.evaluate_at_times(expression.subs(parameters), t, ts)"
   ]
  },
  {
   "cell_type": "code",
   "execution_count": 13,
   "metadata": {},
   "outputs": [
    {
     "data": {
      "image/png": "[encoded data removed]",
      "text/plain": [
       "<Figure size 640x480 with 1 Axes>"
      ]
     },
     "metadata": {},
     "output_type": "display_data"
    }
   ],
   "source": [
    "plt.plot(ts, values(gt, ts))\n",
    "plot_discrete(Gz, terms, parameters[Dt])"
   ]
  },
  {
   "cell_type": "markdown",
   "metadata": {},
   "source": [
    "But the value in Table 17.1 is"
   ]
  },
  {
   "cell_type": "code",
   "execution_count": 14,
   "metadata": {},
   "outputs": [],
   "source": [
    "a1 = -b\n",
    "b1 = K/r*(1 - b)\n",
    "Gz_seborg = (b1 * z**-1)/(1 + a1*z**-1)"
   ]
  },
  {
   "cell_type": "code",
   "execution_count": 15,
   "metadata": {},
   "outputs": [
    {
     "data": {
      "image/png": "[encoded data removed]",
      "text/latex": [
       "$\\displaystyle \\frac{K \\left(1 - e^{- \\Delta t r}\\right)}{r z \\left(1 - \\frac{e^{- \\Delta t r}}{z}\\right)}$"
      ],
      "text/plain": [
       "   ⎛     -\\Delta t⋅r⎞ \n",
       " K⋅⎝1 - ℯ           ⎠ \n",
       "──────────────────────\n",
       "    ⎛     -\\Delta t⋅r⎞\n",
       "    ⎜    ℯ           ⎟\n",
       "r⋅z⋅⎜1 - ────────────⎟\n",
       "    ⎝         z      ⎠"
      ]
     },
     "execution_count": 15,
     "metadata": {},
     "output_type": "execute_result"
    }
   ],
   "source": [
    "Gz_seborg"
   ]
  },
  {
   "cell_type": "markdown",
   "metadata": {},
   "source": [
    "That's clearly not the same as the discrete transform in the datasheet. What is going on?"
   ]
  },
  {
   "cell_type": "markdown",
   "metadata": {},
   "source": [
    "The values in the table in seborg are the z transform of the transfer function _with a hold element_!"
   ]
  },
  {
   "cell_type": "markdown",
   "metadata": {},
   "source": [
    "The z-transform of this combination can be written $\\mathcal{Z}\\{H(s)G(s)\\}$. Remember, $H(s) = \\frac{1}{s}(1 - e^{-\\Delta t s})$. Now we can show\n",
    "\n",
    "\\begin{align}\n",
    "\\mathcal{Z}\\left\\{{H(s)G(s)}\\right\\} &= \n",
    "                             \\mathcal{Z}\\left\\{\\frac{1}{s}(1 - e^{-Ts})G(s)\\right\\} \\\\\n",
    "                          &= \\mathcal{Z}\\left\\{\\underbrace{\\frac{G(s)}{s}}_{F(s)}(1 - e^{-Ts})\\right\\} \\\\\n",
    "                           &= \\mathcal{Z}\\left\\{F(s) - F(s)e^{-Ts}\\right\\} \\\\\n",
    "                          &= \\mathcal{Z}\\left\\{F(s)\\right\\} - \\mathcal{Z}\\left\\{F(s)e^{-Ts}\\right\\} \\\\\n",
    "                          &= F(z) - F(z)z^{-1} \\\\\n",
    "                          &= F(z)(1 - z^{-1})\n",
    "\\end{align}\n",
    "So the z transform we're looking for will be $F(z)(1 - z^{-1})$ with $F(z)$ being the transform on the right of the table of $\\frac{1}{s}G(s)$."
   ]
  },
  {
   "cell_type": "markdown",
   "metadata": {},
   "source": [
    "To remind ourselves,"
   ]
  },
  {
   "cell_type": "code",
   "execution_count": 16,
   "metadata": {},
   "outputs": [
    {
     "data": {
      "image/png": "[encoded data removed]",
      "text/latex": [
       "$\\displaystyle \\frac{K}{r + s}$"
      ],
      "text/plain": [
       "  K  \n",
       "─────\n",
       "r + s"
      ]
     },
     "execution_count": 16,
     "metadata": {},
     "output_type": "execute_result"
    }
   ],
   "source": [
    "G"
   ]
  },
  {
   "cell_type": "markdown",
   "metadata": {},
   "source": [
    "So we're looking for"
   ]
  },
  {
   "cell_type": "code",
   "execution_count": 17,
   "metadata": {},
   "outputs": [
    {
     "data": {
      "image/png": "[encoded data removed]",
      "text/latex": [
       "$\\displaystyle \\frac{K}{s \\left(r + s\\right)}$"
      ],
      "text/plain": [
       "    K    \n",
       "─────────\n",
       "s⋅(r + s)"
      ]
     },
     "execution_count": 17,
     "metadata": {},
     "output_type": "execute_result"
    }
   ],
   "source": [
    "(G/s)"
   ]
  },
  {
   "cell_type": "markdown",
   "metadata": {},
   "source": [
    "So we should see the same response if we plot this:\n"
   ]
  },
  {
   "cell_type": "markdown",
   "metadata": {},
   "source": [
    "There is an element in the table for \n",
    "\n",
    "$$ \\frac{a}{s(s + a)} $$ \n",
    "\n",
    "which is the same as what we want but multiplied by $a$. We should be able to use the associated $z$ transform:"
   ]
  },
  {
   "cell_type": "code",
   "execution_count": 18,
   "metadata": {},
   "outputs": [],
   "source": [
    "a = r"
   ]
  },
  {
   "cell_type": "code",
   "execution_count": 19,
   "metadata": {},
   "outputs": [],
   "source": [
    "table_value = (1 - b)*z**-1/((1 - z**-1)*(1 - b*z**-1))"
   ]
  },
  {
   "cell_type": "code",
   "execution_count": 20,
   "metadata": {},
   "outputs": [],
   "source": [
    "Fz = K * table_value / a"
   ]
  },
  {
   "cell_type": "code",
   "execution_count": 21,
   "metadata": {},
   "outputs": [
    {
     "data": {
      "text/plain": [
       "True"
      ]
     },
     "execution_count": 21,
     "metadata": {},
     "output_type": "execute_result"
    }
   ],
   "source": [
    "Fz * (1 - z**-1) == Gz_seborg"
   ]
  },
  {
   "cell_type": "code",
   "execution_count": 22,
   "metadata": {},
   "outputs": [],
   "source": [
    "response = sympy.inverse_laplace_transform(G/s, s, t)"
   ]
  },
  {
   "cell_type": "code",
   "execution_count": 23,
   "metadata": {},
   "outputs": [
    {
     "data": {
      "text/plain": [
       "[<matplotlib.lines.Line2D at 0x10945f18b60>]"
      ]
     },
     "execution_count": 23,
     "metadata": {},
     "output_type": "execute_result"
    },
    {
     "data": {
      "image/png": "[encoded data removed]",
      "text/plain": [
       "<Figure size 640x480 with 1 Axes>"
      ]
     },
     "metadata": {},
     "output_type": "display_data"
    }
   ],
   "source": [
    "plot_discrete(Gz_seborg, terms, parameters[Dt])\n",
    "plt.plot(ts, values(response - response.subs(t, t-parameters[Dt]), ts))"
   ]
  },
  {
   "cell_type": "code",
   "execution_count": null,
   "metadata": {},
   "outputs": [],
   "source": []
  }
 ],
 "metadata": {
  "kernelspec": {
   "display_name": "Python 3",
   "language": "python",
   "name": "python3"
  },
  "language_info": {
   "codemirror_mode": {
    "name": "ipython",
    "version": 3
   },
   "file_extension": ".py",
   "mimetype": "text/x-python",
   "name": "python",
   "nbconvert_exporter": "python",
   "pygments_lexer": "ipython3",
   "version": "3.12.1"
  }
 },
 "nbformat": 4,
 "nbformat_minor": 2
}
