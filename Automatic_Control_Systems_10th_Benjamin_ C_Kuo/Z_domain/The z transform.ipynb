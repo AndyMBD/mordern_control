{
 "cells": [
  {
   "cell_type": "markdown",
   "metadata": {},
   "source": [
    "# The $z$-transform\n",
    "\n",
    "This notebook shows some techniques for dealing with discrete systems analytically using the $z$ transform"
   ]
  },
  {
   "cell_type": "code",
   "execution_count": 1,
   "metadata": {},
   "outputs": [],
   "source": [
    "import sympy\n",
    "sympy.init_printing()"
   ]
  },
  {
   "cell_type": "code",
   "execution_count": 2,
   "metadata": {},
   "outputs": [],
   "source": [
    "import tbcontrol\n",
    "tbcontrol.expectversion('0.1.2')"
   ]
  },
  {
   "cell_type": "code",
   "execution_count": 3,
   "metadata": {},
   "outputs": [
    {
     "name": "stderr",
     "output_type": "stream",
     "text": [
      "<>:3: SyntaxWarning: invalid escape sequence '\\D'\n",
      "<>:3: SyntaxWarning: invalid escape sequence '\\D'\n",
      "C:\\Users\\j4000774\\AppData\\Local\\Temp\\ipykernel_13244\\4155996822.py:3: SyntaxWarning: invalid escape sequence '\\D'\n",
      "  Dt = sympy.Symbol('\\Delta t', positive=True)\n"
     ]
    }
   ],
   "source": [
    "s, z = sympy.symbols('s, z')\n",
    "k = sympy.Symbol('k', integer=True)\n",
    "Dt = sympy.Symbol('\\Delta t', positive=True)"
   ]
  },
  {
   "cell_type": "markdown",
   "metadata": {},
   "source": [
    "## Definition\n",
    "The $z$ transform of a sampled signal ($f^*(t)$) is defined as follows:\n",
    "\n",
    "$$\\mathcal{Z}[f^*(t)] = \\sum_{k=0}^{\\infty} f(k \\Delta t) z^{-k}$$\n",
    "\n",
    "**Note** The notation is often abused, so you may also encounter \n",
    "* $\\mathcal{Z}[f(t)]$, which should be interpreted as having the sampling implied\n",
    "* $\\mathcal{Z}[F(s)]$, which implies that you should first calculate the inverse Laplace and then sample, so something like $\\mathcal{Z}[F(s)]=\\mathcal{Z}[\\mathcal{L}^{-1}[F(s)]]=\\mathcal{Z}[f(t)]$\n",
    "* Seborg et al use $\\mathcal{Z}[{F(s)}]$ to mean the transfer function of $F(s)$ with a sample and zero order hold in front of it, which in these notebooks will be expressed as $\\mathcal{Z}[{H(s)F(s)}]$."
   ]
  },
  {
   "cell_type": "markdown",
   "metadata": {},
   "source": [
    "## Direct calculation in SymPy"
   ]
  },
  {
   "cell_type": "markdown",
   "metadata": {},
   "source": [
    "For a unit step, $f(t)=1$ and we can obtain the $z$ transform as an infinte series as follows:"
   ]
  },
  {
   "cell_type": "code",
   "execution_count": 4,
   "metadata": {},
   "outputs": [
    {
     "data": {
      "image/png": "[encoded data removed]",
      "text/latex": [
       "$\\displaystyle \\sum_{k=0}^{\\infty} z^{- k}$"
      ],
      "text/plain": [
       "  ∞      \n",
       " ___     \n",
       " ╲       \n",
       "  ╲    -k\n",
       "  ╱   z  \n",
       " ╱       \n",
       " ‾‾‾     \n",
       "k = 0    "
      ]
     },
     "execution_count": 4,
     "metadata": {},
     "output_type": "execute_result"
    }
   ],
   "source": [
    "unitstep = sympy.Sum(1 * z**-k, (k, 0, sympy.oo))\n",
    "unitstep"
   ]
  },
  {
   "cell_type": "markdown",
   "metadata": {},
   "source": [
    "Sympy can recognise this infinite series as a geometric series, and under certain conditions for convergence, it can find a finite representation:"
   ]
  },
  {
   "cell_type": "code",
   "execution_count": 5,
   "metadata": {},
   "outputs": [
    {
     "data": {
      "image/png": "[encoded data removed]",
      "text/latex": [
       "$\\displaystyle \\begin{cases} \\frac{1}{1 - \\frac{1}{z}} & \\text{for}\\: \\frac{1}{\\left|{z}\\right|} < 1 \\\\\\sum_{k=0}^{\\infty} z^{- k} & \\text{otherwise} \\end{cases}$"
      ],
      "text/plain": [
       "⎧    1           1     \n",
       "⎪  ─────    for ─── < 1\n",
       "⎪      1        │z│    \n",
       "⎪  1 - ─               \n",
       "⎪      z               \n",
       "⎪                      \n",
       "⎪  ∞                   \n",
       "⎨ ___                  \n",
       "⎪ ╲                    \n",
       "⎪  ╲    -k             \n",
       "⎪  ╱   z     otherwise \n",
       "⎪ ╱                    \n",
       "⎪ ‾‾‾                  \n",
       "⎪k = 0                 \n",
       "⎩                      "
      ]
     },
     "execution_count": 5,
     "metadata": {},
     "output_type": "execute_result"
    }
   ],
   "source": [
    "shortform = unitstep.doit()\n",
    "shortform"
   ]
  },
  {
   "cell_type": "markdown",
   "metadata": {},
   "source": [
    "To extract the first case solution, we use `args`:"
   ]
  },
  {
   "cell_type": "code",
   "execution_count": 6,
   "metadata": {},
   "outputs": [
    {
     "data": {
      "image/png": "[encoded data removed]",
      "text/latex": [
       "$\\displaystyle \\frac{1}{1 - \\frac{1}{z}}$"
      ],
      "text/plain": [
       "  1  \n",
       "─────\n",
       "    1\n",
       "1 - ─\n",
       "    z"
      ]
     },
     "execution_count": 6,
     "metadata": {},
     "output_type": "execute_result"
    }
   ],
   "source": [
    "uz = shortform.args[0][0]\n",
    "uz"
   ]
  },
  {
   "cell_type": "markdown",
   "metadata": {},
   "source": [
    "Notice what has happened here: we have taken the infinite series and written it in a compact form. You should always keep in mind that these two forms are equivalent."
   ]
  },
  {
   "cell_type": "markdown",
   "metadata": {},
   "source": [
    "## Transfer functions from difference equations\n",
    "For a first order difference equation (the discrete equivalent of a first order differential equation):\n",
    "\n",
    "$$ y(k) + a_1 y(k - 1) = b_1 u(k - 1) $$\n",
    "\n",
    "If we interpret $z^{-n}$ as an $n$ time step delay, can write \n",
    "\n",
    "$$\\mathcal{Z}[y(k - n)] = Y(z)z^{-n}$$ \n",
    "\n",
    "This transforms our difference equation to \n",
    "\n",
    "$$Y(z) + a_1 z^{-1} Y(z) = b_1 z^{-1} U(z)$$\n",
    "\n",
    "Leading to a discrete transfer function:\n",
    "\n",
    "$$G(z) = \\frac{Y(z)}{U(z)} = \\frac{b_1 z^{-1}}{1 + a_1 z^{-1}}$$"
   ]
  },
  {
   "cell_type": "markdown",
   "metadata": {},
   "source": [
    "Unfortunately, sympy simplifies this expression using positive powers of $z$"
   ]
  },
  {
   "cell_type": "code",
   "execution_count": 7,
   "metadata": {},
   "outputs": [],
   "source": [
    "a1, b1 = sympy.symbols('a1, b1')"
   ]
  },
  {
   "cell_type": "code",
   "execution_count": 8,
   "metadata": {},
   "outputs": [
    {
     "data": {
      "image/png": "[encoded data removed]",
      "text/latex": [
       "$\\displaystyle \\frac{b_{1}}{a_{1} + z}$"
      ],
      "text/plain": [
       "  b₁  \n",
       "──────\n",
       "a₁ + z"
      ]
     },
     "execution_count": 8,
     "metadata": {},
     "output_type": "execute_result"
    }
   ],
   "source": [
    "Gz = b1*z**-1/(1 + a1*z**-1)\n",
    "Gz.cancel()"
   ]
  },
  {
   "cell_type": "markdown",
   "metadata": {},
   "source": [
    "Since I have not found an easy way to get sympy to report negative powers of $z$, I find it convenient to define\n",
    "\n",
    "$$q = z^{-1}$$"
   ]
  },
  {
   "cell_type": "code",
   "execution_count": 9,
   "metadata": {},
   "outputs": [],
   "source": [
    "q = sympy.symbols('q')"
   ]
  },
  {
   "cell_type": "code",
   "execution_count": 10,
   "metadata": {},
   "outputs": [],
   "source": [
    "def qsubs(fz):\n",
    "    return fz.subs({z: q**-1})"
   ]
  },
  {
   "cell_type": "code",
   "execution_count": 11,
   "metadata": {},
   "outputs": [
    {
     "data": {
      "image/png": "[encoded data removed]",
      "text/latex": [
       "$\\displaystyle \\frac{b_{1} q}{a_{1} q + 1}$"
      ],
      "text/plain": [
       "  b₁⋅q  \n",
       "────────\n",
       "a₁⋅q + 1"
      ]
     },
     "execution_count": 11,
     "metadata": {},
     "output_type": "execute_result"
    }
   ],
   "source": [
    "qsubs(Gz)"
   ]
  },
  {
   "cell_type": "markdown",
   "metadata": {},
   "source": [
    "## Responses and inversion"
   ]
  },
  {
   "cell_type": "markdown",
   "metadata": {},
   "source": [
    "To find the response of this system to the unit input, we can multiply the input and the transfer function. Note that this is equivalent to convolution of the polinomial coefficients."
   ]
  },
  {
   "cell_type": "code",
   "execution_count": 12,
   "metadata": {},
   "outputs": [
    {
     "data": {
      "image/png": "[encoded data removed]",
      "text/latex": [
       "$\\displaystyle \\frac{b_{1} q}{\\left(1 - q\\right) \\left(a_{1} q + 1\\right)}$"
      ],
      "text/plain": [
       "       b₁⋅q       \n",
       "──────────────────\n",
       "(1 - q)⋅(a₁⋅q + 1)"
      ]
     },
     "execution_count": 12,
     "metadata": {},
     "output_type": "execute_result"
    }
   ],
   "source": [
    "yz = Gz*uz\n",
    "qsubs(yz)"
   ]
  },
  {
   "cell_type": "markdown",
   "metadata": {},
   "source": [
    "Let's evaluate that with numeric values for the coefficients:"
   ]
  },
  {
   "cell_type": "code",
   "execution_count": 13,
   "metadata": {},
   "outputs": [],
   "source": [
    "K = 2 # The worked version in the textbook uses 2 even though the text says 20\n",
    "tau = 1"
   ]
  },
  {
   "cell_type": "code",
   "execution_count": 14,
   "metadata": {},
   "outputs": [],
   "source": [
    "Dt = 1"
   ]
  },
  {
   "cell_type": "code",
   "execution_count": 15,
   "metadata": {},
   "outputs": [],
   "source": [
    "parameters = {a1: -sympy.exp(-Dt/tau),\n",
    "              b1: K*(1 -  sympy.exp(-Dt/tau))\n",
    "             }\n",
    "stepresponse = yz.subs(parameters)"
   ]
  },
  {
   "cell_type": "markdown",
   "metadata": {},
   "source": [
    "Remember that the $z$ transform was defined using the values of the sampled signal at the sampling points. \n",
    "\n",
    "$$\\mathcal{Z}[f^*(t)] = \\sum_{k=0}^{\\infty} f(k \\Delta t) z^{-k} = f(0) + f(\\Delta t)z^{-1} + f(2\\Delta t)z^{-2} + \\cdots$$\n",
    "\n",
    "To obtain the values of the response at the sampling points (also called inverting the $z$ transform), we need to expand the polynomial. We can do this using Taylor series. Sympy has a `Poly` class which can extract all the coefficients of the polynomial easily."
   ]
  },
  {
   "cell_type": "code",
   "execution_count": 16,
   "metadata": {},
   "outputs": [],
   "source": [
    "N = 10"
   ]
  },
  {
   "cell_type": "code",
   "execution_count": 17,
   "metadata": {},
   "outputs": [
    {
     "data": {
      "image/png": "[encoded data removed]",
      "text/latex": [
       "$\\displaystyle \\operatorname{Poly}{\\left( 1.99975318039183 q^{9} + 1.99932907474419 q^{8} + 1.99817623606889 q^{7} + 1.99504249564667 q^{6} + 1.98652410600183 q^{5} + 1.96336872222253 q^{4} + 1.90042586326427 q^{3} + 1.72932943352677 q^{2} + 1.26424111765712 q, q, domain=\\mathbb{R} \\right)}$"
      ],
      "text/plain": [
       "Poly(1.99975318039183*q**9 + 1.99932907474419*q**8 + 1.99817623606889*q**7 + 1\n",
       ".99504249564667*q**6 + 1.98652410600183*q**5 + 1.96336872222253*q**4 + 1.90042\n",
       "586326427*q**3 + 1.72932943352677*q**2 + 1.26424111765712*q, q, domain='RR')"
      ]
     },
     "execution_count": 17,
     "metadata": {},
     "output_type": "execute_result"
    }
   ],
   "source": [
    "qpoly = sympy.Poly(qsubs(stepresponse).series(q, 0, N).removeO(), q)\n",
    "qpoly"
   ]
  },
  {
   "cell_type": "code",
   "execution_count": 18,
   "metadata": {},
   "outputs": [
    {
     "data": {
      "image/png": "[encoded data removed]",
      "text/latex": [
       "$\\displaystyle \\left[ 1.99975318039183, \\  1.99932907474419, \\  1.99817623606889, \\  1.99504249564667, \\  1.98652410600183, \\  1.96336872222253, \\  1.90042586326427, \\  1.72932943352677, \\  1.26424111765712, \\  0.0\\right]$"
      ],
      "text/plain": [
       "[1.99975318039183, 1.99932907474419, 1.99817623606889, 1.99504249564667, 1.986\n",
       "52410600183, 1.96336872222253, 1.90042586326427, 1.72932943352677, 1.264241117\n",
       "65712, 0.0]"
      ]
     },
     "execution_count": 18,
     "metadata": {},
     "output_type": "execute_result"
    }
   ],
   "source": [
    "qpoly.all_coeffs()"
   ]
  },
  {
   "cell_type": "markdown",
   "metadata": {},
   "source": [
    "Notice that the coefficients are returned in decreasing orders of $q$, but we want them in increasing orders to plot them."
   ]
  },
  {
   "cell_type": "code",
   "execution_count": 19,
   "metadata": {},
   "outputs": [],
   "source": [
    "responses = list(reversed(qpoly.all_coeffs()))"
   ]
  },
  {
   "cell_type": "markdown",
   "metadata": {},
   "source": [
    "We'll be using this operation quite a lot so there's a nice function in `tbcontrol.symbolic` that does the same thing:"
   ]
  },
  {
   "cell_type": "code",
   "execution_count": 20,
   "metadata": {},
   "outputs": [],
   "source": [
    "import tbcontrol.symbolic"
   ]
  },
  {
   "cell_type": "code",
   "execution_count": 21,
   "metadata": {},
   "outputs": [],
   "source": [
    "responses = tbcontrol.symbolic.sampledvalues(stepresponse, z, N)"
   ]
  },
  {
   "cell_type": "code",
   "execution_count": 22,
   "metadata": {},
   "outputs": [],
   "source": [
    "import matplotlib.pyplot as plt\n",
    "import numpy"
   ]
  },
  {
   "cell_type": "code",
   "execution_count": 23,
   "metadata": {},
   "outputs": [],
   "source": [
    "%matplotlib inline"
   ]
  },
  {
   "cell_type": "markdown",
   "metadata": {},
   "source": [
    "We'll compare the values we obtained above with the step response of a continuous first order system with the same parameters:"
   ]
  },
  {
   "cell_type": "code",
   "execution_count": 24,
   "metadata": {},
   "outputs": [],
   "source": [
    "sampledt = Dt*numpy.arange(N)"
   ]
  },
  {
   "cell_type": "code",
   "execution_count": 25,
   "metadata": {},
   "outputs": [],
   "source": [
    "smootht = numpy.linspace(0, Dt*N)"
   ]
  },
  {
   "cell_type": "code",
   "execution_count": 26,
   "metadata": {},
   "outputs": [],
   "source": [
    "analytic_firstorder = K*(1 - numpy.exp(-smootht/tau))"
   ]
  },
  {
   "cell_type": "code",
   "execution_count": 27,
   "metadata": {},
   "outputs": [
    {
     "data": {
      "text/plain": [
       "[<matplotlib.lines.Line2D at 0x28cd21110d0>]"
      ]
     },
     "execution_count": 27,
     "metadata": {},
     "output_type": "execute_result"
    },
    {
     "data": {
      "image/png": "[encoded data removed]",
      "text/plain": [
       "<Figure size 640x480 with 1 Axes>"
      ]
     },
     "metadata": {},
     "output_type": "display_data"
    }
   ],
   "source": [
    "plt.stem(sampledt, numpy.array(responses, dtype=float))\n",
    "plt.plot(smootht, analytic_firstorder)"
   ]
  },
  {
   "cell_type": "markdown",
   "metadata": {},
   "source": [
    "## Calculation using scipy\n",
    "\n",
    "We can get the same values without going through the symbolic steps by using the `scipy.signal` library."
   ]
  },
  {
   "cell_type": "code",
   "execution_count": 28,
   "metadata": {},
   "outputs": [],
   "source": [
    "import scipy.signal"
   ]
  },
  {
   "cell_type": "code",
   "execution_count": 29,
   "metadata": {},
   "outputs": [],
   "source": [
    "a1 = -numpy.exp(-Dt/tau)\n",
    "b1 = K*(1 - numpy.exp(-Dt/tau))"
   ]
  },
  {
   "cell_type": "markdown",
   "metadata": {},
   "source": [
    "Note this uses the transfer function in terms of $z$ (not $z^{-1}$)."
   ]
  },
  {
   "cell_type": "code",
   "execution_count": 30,
   "metadata": {},
   "outputs": [
    {
     "data": {
      "image/png": "[encoded data removed]",
      "text/latex": [
       "$\\displaystyle \\frac{b_{1}}{a_{1} + z}$"
      ],
      "text/plain": [
       "  b₁  \n",
       "──────\n",
       "a₁ + z"
      ]
     },
     "execution_count": 30,
     "metadata": {},
     "output_type": "execute_result"
    }
   ],
   "source": [
    "Gz.expand()"
   ]
  },
  {
   "cell_type": "code",
   "execution_count": 31,
   "metadata": {},
   "outputs": [],
   "source": [
    "Gdiscrete = scipy.signal.dlti(b1, [1, a1], dt=1)"
   ]
  },
  {
   "cell_type": "code",
   "execution_count": 32,
   "metadata": {},
   "outputs": [],
   "source": [
    "_, response = Gdiscrete.step(n=N)"
   ]
  },
  {
   "cell_type": "code",
   "execution_count": 33,
   "metadata": {},
   "outputs": [
    {
     "data": {
      "text/plain": [
       "[<matplotlib.lines.Line2D at 0x28ce3dc1940>]"
      ]
     },
     "execution_count": 33,
     "metadata": {},
     "output_type": "execute_result"
    },
    {
     "data": {
      "image/png": "[encoded data removed]",
      "text/plain": [
       "<Figure size 640x480 with 1 Axes>"
      ]
     },
     "metadata": {},
     "output_type": "display_data"
    }
   ],
   "source": [
    "plt.stem(sampledt, numpy.squeeze(response))\n",
    "plt.plot(smootht, analytic_firstorder)"
   ]
  },
  {
   "cell_type": "markdown",
   "metadata": {},
   "source": [
    "## Calculation using the control libary"
   ]
  },
  {
   "cell_type": "code",
   "execution_count": 34,
   "metadata": {},
   "outputs": [],
   "source": [
    "import control"
   ]
  },
  {
   "cell_type": "markdown",
   "metadata": {},
   "source": [
    "Explicitly creating the discrete time transfer function"
   ]
  },
  {
   "cell_type": "code",
   "execution_count": 35,
   "metadata": {},
   "outputs": [],
   "source": [
    "G = control.tf(b1, [1, a1], 1)"
   ]
  },
  {
   "cell_type": "code",
   "execution_count": 36,
   "metadata": {},
   "outputs": [
    {
     "data": {
      "text/latex": [
       "$$\\frac{1.264}{z - 0.3679}\\quad dt = 1$$"
      ],
      "text/plain": [
       "TransferFunction(array([1.26424112]), array([ 1.        , -0.36787944]), 1)"
      ]
     },
     "execution_count": 36,
     "metadata": {},
     "output_type": "execute_result"
    }
   ],
   "source": [
    "G"
   ]
  },
  {
   "cell_type": "markdown",
   "metadata": {},
   "source": [
    "The discrete-time transfer function can also be sampled from the continuous transfer function"
   ]
  },
  {
   "cell_type": "code",
   "execution_count": 37,
   "metadata": {},
   "outputs": [],
   "source": [
    "G_continuous = control.tf(K, [tau, 1])"
   ]
  },
  {
   "cell_type": "code",
   "execution_count": 38,
   "metadata": {},
   "outputs": [
    {
     "data": {
      "text/latex": [
       "$$\\frac{2}{s + 1}$$"
      ],
      "text/plain": [
       "TransferFunction(array([2]), array([1, 1]))"
      ]
     },
     "execution_count": 38,
     "metadata": {},
     "output_type": "execute_result"
    }
   ],
   "source": [
    "G_continuous"
   ]
  },
  {
   "cell_type": "code",
   "execution_count": 39,
   "metadata": {},
   "outputs": [],
   "source": [
    "G_discrete = G_continuous.sample(1)"
   ]
  },
  {
   "cell_type": "code",
   "execution_count": 40,
   "metadata": {
    "scrolled": true
   },
   "outputs": [
    {
     "data": {
      "text/latex": [
       "$$\\frac{1.264}{z - 0.3679}\\quad dt = 1$$"
      ],
      "text/plain": [
       "TransferFunction(array([1.26424112]), array([ 1.        , -0.36787944]), 1)"
      ]
     },
     "execution_count": 40,
     "metadata": {},
     "output_type": "execute_result"
    }
   ],
   "source": [
    "G_discrete"
   ]
  },
  {
   "cell_type": "markdown",
   "metadata": {},
   "source": [
    "We continue with the explisitl transfer function (which is identical to the sampled one)"
   ]
  },
  {
   "cell_type": "code",
   "execution_count": 41,
   "metadata": {},
   "outputs": [],
   "source": [
    "sampledt, response = control.step_response(G)"
   ]
  },
  {
   "cell_type": "code",
   "execution_count": 42,
   "metadata": {},
   "outputs": [
    {
     "data": {
      "text/plain": [
       "[<matplotlib.lines.Line2D at 0x28ce3f864e0>]"
      ]
     },
     "execution_count": 42,
     "metadata": {},
     "output_type": "execute_result"
    },
    {
     "data": {
      "image/png": "[encoded data removed]",
      "text/plain": [
       "<Figure size 640x480 with 1 Axes>"
      ]
     },
     "metadata": {},
     "output_type": "display_data"
    }
   ],
   "source": [
    "plt.stem(sampledt, numpy.squeeze(response))\n",
    "plt.plot(smootht, analytic_firstorder)"
   ]
  },
  {
   "cell_type": "markdown",
   "metadata": {},
   "source": [
    "I have found it useful to define"
   ]
  },
  {
   "cell_type": "code",
   "execution_count": 43,
   "metadata": {},
   "outputs": [],
   "source": [
    "z = control.tf([1, 0], 1, 1)"
   ]
  },
  {
   "cell_type": "code",
   "execution_count": 44,
   "metadata": {},
   "outputs": [
    {
     "data": {
      "text/latex": [
       "$$\\frac{z}{1}\\quad dt = 1$$"
      ],
      "text/plain": [
       "TransferFunction(array([1, 0]), array([1]), 1)"
      ]
     },
     "execution_count": 44,
     "metadata": {},
     "output_type": "execute_result"
    }
   ],
   "source": [
    "z"
   ]
  },
  {
   "cell_type": "markdown",
   "metadata": {},
   "source": [
    "This allows us to do calculations in a relatively straightforward way:"
   ]
  },
  {
   "cell_type": "code",
   "execution_count": 45,
   "metadata": {},
   "outputs": [],
   "source": [
    "step = 1/(1 - z**-1)"
   ]
  },
  {
   "cell_type": "code",
   "execution_count": 46,
   "metadata": {},
   "outputs": [
    {
     "data": {
      "text/latex": [
       "$$\\frac{z}{z - 1}\\quad dt = 1$$"
      ],
      "text/plain": [
       "TransferFunction(array([1, 0]), array([ 1, -1]), 1)"
      ]
     },
     "execution_count": 46,
     "metadata": {},
     "output_type": "execute_result"
    }
   ],
   "source": [
    "step"
   ]
  },
  {
   "cell_type": "markdown",
   "metadata": {},
   "source": [
    "If we remember that the inversion of the signal is the same as an impulse response, we can also get the same result as follows:"
   ]
  },
  {
   "cell_type": "code",
   "execution_count": 47,
   "metadata": {},
   "outputs": [],
   "source": [
    "sampledt, response = control.impulse_response(G*step)"
   ]
  },
  {
   "cell_type": "code",
   "execution_count": 48,
   "metadata": {},
   "outputs": [
    {
     "data": {
      "text/plain": [
       "[<matplotlib.lines.Line2D at 0x28ce3feb680>]"
      ]
     },
     "execution_count": 48,
     "metadata": {},
     "output_type": "execute_result"
    },
    {
     "data": {
      "image/png": "[encoded data removed]",
      "text/plain": [
       "<Figure size 640x480 with 1 Axes>"
      ]
     },
     "metadata": {},
     "output_type": "display_data"
    }
   ],
   "source": [
    "plt.stem(sampledt, numpy.squeeze(response))\n",
    "plt.plot(smootht, analytic_firstorder)"
   ]
  },
  {
   "cell_type": "markdown",
   "metadata": {},
   "source": [
    "The control library also has the capability of sampling a state space system."
   ]
  },
  {
   "cell_type": "code",
   "execution_count": 49,
   "metadata": {},
   "outputs": [],
   "source": [
    "Gss = control.ss(G_continuous)"
   ]
  },
  {
   "cell_type": "code",
   "execution_count": 50,
   "metadata": {},
   "outputs": [
    {
     "data": {
      "text/latex": [
       "$$\n",
       "\\left(\\begin{array}{rll|rll}\n",
       "-1\\phantom{.}&\\hspace{-1em}&\\hspace{-1em}\\phantom{\\cdot}&1\\phantom{.}&\\hspace{-1em}&\\hspace{-1em}\\phantom{\\cdot}\\\\\n",
       "\\hline\n",
       "2\\phantom{.}&\\hspace{-1em}&\\hspace{-1em}\\phantom{\\cdot}&0\\phantom{.}&\\hspace{-1em}&\\hspace{-1em}\\phantom{\\cdot}\\\\\n",
       "\\end{array}\\right)\n",
       "$$"
      ],
      "text/plain": [
       "<LinearIOSystem:sys[3]:['u[0]']->['y[0]']>"
      ]
     },
     "execution_count": 50,
     "metadata": {},
     "output_type": "execute_result"
    }
   ],
   "source": [
    "Gss"
   ]
  },
  {
   "cell_type": "markdown",
   "metadata": {},
   "source": [
    "Sampling a continuous state space representation will result in a discrete-time state space representation of the system."
   ]
  },
  {
   "cell_type": "code",
   "execution_count": 51,
   "metadata": {
    "scrolled": true
   },
   "outputs": [
    {
     "data": {
      "text/latex": [
       "$$\n",
       "\\left(\\begin{array}{rll|rll}\n",
       "0.&\\hspace{-1em}368&\\hspace{-1em}\\phantom{\\cdot}&0.&\\hspace{-1em}632&\\hspace{-1em}\\phantom{\\cdot}\\\\\n",
       "\\hline\n",
       "2\\phantom{.}&\\hspace{-1em}&\\hspace{-1em}\\phantom{\\cdot}&0\\phantom{.}&\\hspace{-1em}&\\hspace{-1em}\\phantom{\\cdot}\\\\\n",
       "\\end{array}\\right)~,~dt=1\n",
       "$$"
      ],
      "text/plain": [
       "<LinearIOSystem:sys[3]$sampled:['u[0]']->['y[0]']>"
      ]
     },
     "execution_count": 51,
     "metadata": {},
     "output_type": "execute_result"
    }
   ],
   "source": [
    "Gss.sample(1)"
   ]
  },
  {
   "cell_type": "markdown",
   "metadata": {},
   "source": [
    "Note that MIMO functionality in the `control` library depends on the `slycot` module. In it's current revision MIMO systems cannot be `sampled`. However you can `sample` the individual SISO systems from a transfer function matrix, and then build the discrete-time transfer function matrix, which can be converted to a state-space representation."
   ]
  }
 ],
 "metadata": {
  "kernelspec": {
   "display_name": "Python 3",
   "language": "python",
   "name": "python3"
  },
  "language_info": {
   "codemirror_mode": {
    "name": "ipython",
    "version": 3
   },
   "file_extension": ".py",
   "mimetype": "text/x-python",
   "name": "python",
   "nbconvert_exporter": "python",
   "pygments_lexer": "ipython3",
   "version": "3.12.1"
  }
 },
 "nbformat": 4,
 "nbformat_minor": 2
}
