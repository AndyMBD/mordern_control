{
 "cells": [
  {
   "attachments": {},
   "cell_type": "markdown",
   "metadata": {},
   "source": [
    "# check-controllability-and-observability\n",
    "\n",
    "Example to check the controllability and the observability of a state space system.\n",
    "RMM, 6 Sep 2010\n"
   ]
  },
  {
   "cell_type": "code",
   "execution_count": 24,
   "metadata": {},
   "outputs": [
    {
     "data": {
      "text/plain": [
       "'Wc = '"
      ]
     },
     "metadata": {},
     "output_type": "display_data"
    },
    {
     "data": {
      "text/plain": [
       "matrix([[ 0.       ,  0.996    ,  2.24064  ],\n",
       "        [ 0.004    , -0.24064  ,  0.7935424],\n",
       "        [ 1.       ,  1.004    ,  1.75936  ]])"
      ]
     },
     "metadata": {},
     "output_type": "display_data"
    },
    {
     "data": {
      "text/plain": [
       "'Wo = '"
      ]
     },
     "metadata": {},
     "output_type": "display_data"
    },
    {
     "data": {
      "text/plain": [
       "matrix([[1.00000000e+00, 0.00000000e+00, 1.00000000e+00],\n",
       "        [2.00000000e+00, 0.00000000e+00, 2.00000000e+00],\n",
       "        [4.00000000e+00, 1.11022302e-16, 4.00000000e+00]])"
      ]
     },
     "metadata": {},
     "output_type": "display_data"
    }
   ],
   "source": [
    "import numpy as np  # Load the scipy functions\n",
    "import control as ct  # Load the controls systems library\n",
    "from sympy import Matrix\n",
    "\n",
    "# Parameters defining the system\n",
    "\n",
    "m = 250.0  # system mass\n",
    "k = 40.0   # spring constant\n",
    "b = 60.0   # damping constant\n",
    "\n",
    "# System matrices\n",
    "A = np.array([[1, -1, 1.],\n",
    "             [1, -k/m, -b/m],\n",
    "             [1, 1, 1]])\n",
    "\n",
    "B = np.array([[0],\n",
    "             [1/m],\n",
    "             [1]])\n",
    "\n",
    "C = np.array([[1., 0, 1.]])\n",
    "\n",
    "sys = ct.ss(A, B, C, 0)\n",
    "\n",
    "# Check controllability\n",
    "Wc = ct.ctrb(A, B)\n",
    "display(\"Wc = \", Wc)\n",
    "# np.linalg.matrix_rank(Wc)\n",
    "\n",
    "# Check Observability\n",
    "Wo = ct.obsv(A, C)\n",
    "display(\"Wo = \", Wo)"
   ]
  },
  {
   "cell_type": "code",
   "execution_count": 18,
   "metadata": {},
   "outputs": [
    {
     "data": {
      "text/plain": [
       "'m'"
      ]
     },
     "metadata": {},
     "output_type": "display_data"
    },
    {
     "data": {
      "text/latex": [
       "$\\displaystyle \\left[\\begin{matrix}5 & 4 & 2 & 1\\\\0 & 1 & -1 & -1\\\\-1 & -1 & 3 & 0\\\\1 & 1 & -1 & 2\\end{matrix}\\right]$"
      ],
      "text/plain": [
       "Matrix([\n",
       "[ 5,  4,  2,  1],\n",
       "[ 0,  1, -1, -1],\n",
       "[-1, -1,  3,  0],\n",
       "[ 1,  1, -1,  2]])"
      ]
     },
     "metadata": {},
     "output_type": "display_data"
    },
    {
     "data": {
      "text/plain": [
       "'m_a'"
      ]
     },
     "metadata": {},
     "output_type": "display_data"
    },
    {
     "data": {
      "text/plain": [
       "matrix([[ 5,  4,  2,  1],\n",
       "        [ 0,  1, -1, -1],\n",
       "        [-1, -1,  3,  0],\n",
       "        [ 1,  1, -1,  2]])"
      ]
     },
     "metadata": {},
     "output_type": "display_data"
    }
   ],
   "source": [
    "\n",
    "a = np.array([[5, 4, 2, 1], [0, 1, -1, -1], [-1, -1, 3, 0], [1, 1, -1, 2]])\n",
    "m = Matrix(a)\n",
    "display(\"m\")\n",
    "display(m)\n",
    "m_a=np.mat(a)\n",
    "display('m_a')\n",
    "display(m_a)\n",
    "\n",
    "\n"
   ]
  },
  {
   "cell_type": "code",
   "execution_count": 19,
   "metadata": {},
   "outputs": [
    {
     "data": {
      "text/latex": [
       "$\\displaystyle \\left[\\begin{matrix}1 & 0 & 0 & 0\\\\0 & 2 & 0 & 0\\\\0 & 0 & 4 & 1\\\\0 & 0 & 0 & 4\\end{matrix}\\right]$"
      ],
      "text/plain": [
       "Matrix([\n",
       "[1, 0, 0, 0],\n",
       "[0, 2, 0, 0],\n",
       "[0, 0, 4, 1],\n",
       "[0, 0, 0, 4]])"
      ]
     },
     "metadata": {},
     "output_type": "display_data"
    },
    {
     "data": {
      "text/plain": [
       "sympy.matrices.dense.MutableDenseMatrix"
      ]
     },
     "metadata": {},
     "output_type": "display_data"
    },
    {
     "data": {
      "text/latex": [
       "$\\displaystyle \\left[\\begin{matrix}-1 & 1 & 1 & 1\\\\1 & -1 & 0 & 0\\\\0 & 0 & -1 & 0\\\\0 & 1 & 1 & 0\\end{matrix}\\right]$"
      ],
      "text/plain": [
       "Matrix([\n",
       "[-1,  1,  1, 1],\n",
       "[ 1, -1,  0, 0],\n",
       "[ 0,  0, -1, 0],\n",
       "[ 0,  1,  1, 0]])"
      ]
     },
     "metadata": {},
     "output_type": "display_data"
    }
   ],
   "source": [
    "P, J = m.jordan_form()\n",
    "display(J)\n",
    "display(type(J))\n",
    "display(P)\n",
    "# J_J=m_a.jordan\n",
    "# display(J_J)\n",
    "\n"
   ]
  },
  {
   "cell_type": "code",
   "execution_count": 32,
   "metadata": {},
   "outputs": [
    {
     "data": {
      "text/latex": [
       "$$\n",
       "\\left(\\begin{array}{rllrll|rll}\n",
       "-3\\phantom{.}&\\hspace{-1em}&\\hspace{-1em}\\phantom{\\cdot}&-2\\phantom{.}&\\hspace{-1em}&\\hspace{-1em}\\phantom{\\cdot}&1\\phantom{.}&\\hspace{-1em}&\\hspace{-1em}\\phantom{\\cdot}\\\\\n",
       "1\\phantom{.}&\\hspace{-1em}&\\hspace{-1em}\\phantom{\\cdot}&0\\phantom{.}&\\hspace{-1em}&\\hspace{-1em}\\phantom{\\cdot}&0\\phantom{.}&\\hspace{-1em}&\\hspace{-1em}\\phantom{\\cdot}\\\\\n",
       "\\hline\n",
       "0\\phantom{.}&\\hspace{-1em}&\\hspace{-1em}\\phantom{\\cdot}&1\\phantom{.}&\\hspace{-1em}&\\hspace{-1em}\\phantom{\\cdot}&0\\phantom{.}&\\hspace{-1em}&\\hspace{-1em}\\phantom{\\cdot}\\\\\n",
       "\\end{array}\\right)\n",
       "$$"
      ],
      "text/plain": [
       "StateSpace(array([[-3., -2.],\n",
       "       [ 1.,  0.]]), array([[1.],\n",
       "       [0.]]), array([[0., 1.]]), array([[0.]]))"
      ]
     },
     "metadata": {},
     "output_type": "display_data"
    },
    {
     "data": {
      "text/plain": [
       "matrix([[-3., -2.],\n",
       "        [ 1.,  0.]])"
      ]
     },
     "metadata": {},
     "output_type": "display_data"
    },
    {
     "data": {
      "text/plain": [
       "matrix([[1.],\n",
       "        [0.]])"
      ]
     },
     "metadata": {},
     "output_type": "display_data"
    },
    {
     "data": {
      "text/plain": [
       "matrix([[0., 1.]])"
      ]
     },
     "metadata": {},
     "output_type": "display_data"
    },
    {
     "data": {
      "text/plain": [
       "matrix([[0.]])"
      ]
     },
     "metadata": {},
     "output_type": "display_data"
    },
    {
     "data": {
      "text/plain": [
       "matrix([[-3.,  1.],\n",
       "        [-2.,  0.]])"
      ]
     },
     "metadata": {},
     "output_type": "display_data"
    },
    {
     "data": {
      "text/plain": [
       "matrix([[0.],\n",
       "        [1.]])"
      ]
     },
     "metadata": {},
     "output_type": "display_data"
    },
    {
     "data": {
      "text/plain": [
       "matrix([[1., 0.]])"
      ]
     },
     "metadata": {},
     "output_type": "display_data"
    },
    {
     "data": {
      "text/plain": [
       "matrix([[0.]])"
      ]
     },
     "metadata": {},
     "output_type": "display_data"
    }
   ],
   "source": [
    "Gs = ct.tf2ss([1], [1, 3, 2])\n",
    "display(Gs)\n",
    "Gc, T = ct.canonical_form(Gs)  # default reachable\n",
    "display(Gc.A)\n",
    "display(Gc.B)\n",
    "display(Gc.C)\n",
    "display(Gc.D)\n",
    "Gc, T = ct.canonical_form(Gs, 'observable')\n",
    "display(Gc.A)\n",
    "display(Gc.B)\n",
    "display(Gc.C)\n",
    "display(Gc.D)\n",
    "# Gc, T = ct.canonical_form(Gs, 'modal')\n",
    "# display(Gc.A)\n",
    "# display(Gc.B)\n",
    "# display(Gc.C)\n",
    "# display(Gc.D)"
   ]
  }
 ],
 "metadata": {
  "kernelspec": {
   "display_name": "Python 3",
   "language": "python",
   "name": "python3"
  },
  "language_info": {
   "codemirror_mode": {
    "name": "ipython",
    "version": 3
   },
   "file_extension": ".py",
   "mimetype": "text/x-python",
   "name": "python",
   "nbconvert_exporter": "python",
   "pygments_lexer": "ipython3",
   "version": "3.10.5"
  },
  "orig_nbformat": 4
 },
 "nbformat": 4,
 "nbformat_minor": 2
}
