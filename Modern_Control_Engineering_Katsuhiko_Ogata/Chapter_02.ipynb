{
 "cells": [
  {
   "attachments": {},
   "cell_type": "markdown",
   "metadata": {},
   "source": [
    "# Chapter 2 Mathematical Modeling of Control Systems"
   ]
  },
  {
   "attachments": {},
   "cell_type": "markdown",
   "metadata": {},
   "source": [
    "## Obtaining Cascaded, Parallel, and Feedback (Closed-Loop) Transfer Functions with MATLAB"
   ]
  },
  {
   "attachments": {},
   "cell_type": "markdown",
   "metadata": {},
   "source": [
    "*   series(sys1, sys2)\tReturn the series connection sys2 * sys1 for –> sys1 –> sys2 –>.\n",
    "*   parallel(sys1, sys2)\tReturn the parallel connection sys1 + sys2.\n",
    "*   feedback(sys1[, sys2, sign])\tFeedback interconnection between two I/O systems.\n",
    "*   negate(sys)\tReturn the negative of a system."
   ]
  },
  {
   "attachments": {},
   "cell_type": "markdown",
   "metadata": {},
   "source": [
    "$G_1(s)=\\frac{10}{s^2+2s+10}$  \n",
    "\n",
    "$G_2(s)=\\frac{5}{s+5}$  \n",
    "\n",
    "$G_1(s)G_2(s)=\\frac{10}{s^2+2s+10}*\\frac{5}{s+5}$  "
   ]
  },
  {
   "cell_type": "code",
   "execution_count": 2,
   "metadata": {},
   "outputs": [],
   "source": [
    "import numpy as np # arrays\n",
    "import matplotlib.pyplot as plt # plots \n",
    "%config InlineBackend.figure_format='retina' # high-res plots\n",
    "\n",
    "import control as ct # control systems library"
   ]
  },
  {
   "cell_type": "code",
   "execution_count": 3,
   "metadata": {},
   "outputs": [
    {
     "name": "stdout",
     "output_type": "stream",
     "text": [
      "G_1=\n"
     ]
    },
    {
     "data": {
      "text/latex": [
       "$$\\frac{10}{s^2 + 2 s + 10}$$"
      ],
      "text/plain": [
       "TransferFunction(array([10]), array([ 1,  2, 10]))"
      ]
     },
     "metadata": {},
     "output_type": "display_data"
    },
    {
     "name": "stdout",
     "output_type": "stream",
     "text": [
      "G_2=\n"
     ]
    },
    {
     "data": {
      "text/latex": [
       "$$\\frac{5}{s + 5}$$"
      ],
      "text/plain": [
       "TransferFunction(array([5]), array([1, 5]))"
      ]
     },
     "metadata": {},
     "output_type": "display_data"
    }
   ],
   "source": [
    "num_1=[10]\n",
    "den_1=[1, 2, 10]\n",
    "G_1=ct.tf(num_1,den_1)\n",
    "print(\"G_1=\")\n",
    "display(G_1)\n",
    "# print(\"G_1=\",G_1)\n",
    "\n",
    "num_2=[5]\n",
    "den_2=[1, 5]\n",
    "G_2=ct.tf(num_2,den_2)\n",
    "print(\"G_2=\")\n",
    "display(G_2)"
   ]
  },
  {
   "cell_type": "code",
   "execution_count": 4,
   "metadata": {},
   "outputs": [
    {
     "name": "stdout",
     "output_type": "stream",
     "text": [
      "G_1_serial_G_2=\n"
     ]
    },
    {
     "data": {
      "text/latex": [
       "$$\\frac{50}{s^3 + 7 s^2 + 20 s + 50}$$"
      ],
      "text/plain": [
       "TransferFunction(array([50]), array([ 1,  7, 20, 50]))"
      ]
     },
     "metadata": {},
     "output_type": "display_data"
    }
   ],
   "source": [
    "G_1_serial_G_2=ct.series(G_1,G_2)\n",
    "print(\"G_1_serial_G_2=\")\n",
    "display(G_1_serial_G_2)"
   ]
  },
  {
   "cell_type": "code",
   "execution_count": 5,
   "metadata": {},
   "outputs": [
    {
     "name": "stdout",
     "output_type": "stream",
     "text": [
      "G_1_parallel_G_2=\n"
     ]
    },
    {
     "data": {
      "text/latex": [
       "$$\\frac{5 s^2 + 20 s + 100}{s^3 + 7 s^2 + 20 s + 50}$$"
      ],
      "text/plain": [
       "TransferFunction(array([  5,  20, 100]), array([ 1,  7, 20, 50]))"
      ]
     },
     "metadata": {},
     "output_type": "display_data"
    }
   ],
   "source": [
    "G_1_parallel_G_2=ct.parallel(G_1,G_2)\n",
    "print(\"G_1_parallel_G_2=\")\n",
    "display(G_1_parallel_G_2)"
   ]
  },
  {
   "cell_type": "code",
   "execution_count": 6,
   "metadata": {},
   "outputs": [
    {
     "name": "stdout",
     "output_type": "stream",
     "text": [
      "G_1_feedback_G_2=\n"
     ]
    },
    {
     "data": {
      "text/latex": [
       "$$\\frac{10 s + 50}{s^3 + 7 s^2 + 20 s + 100}$$"
      ],
      "text/plain": [
       "TransferFunction(array([10, 50]), array([  1,   7,  20, 100]))"
      ]
     },
     "metadata": {},
     "output_type": "display_data"
    }
   ],
   "source": [
    "G_1_feedback_G_2=ct.feedback(G_1,G_2)\n",
    "print(\"G_1_feedback_G_2=\")\n",
    "display(G_1_feedback_G_2)"
   ]
  },
  {
   "attachments": {},
   "cell_type": "markdown",
   "metadata": {},
   "source": [
    "MATLAB Program 2–2 page 41"
   ]
  },
  {
   "cell_type": "code",
   "execution_count": 7,
   "metadata": {},
   "outputs": [
    {
     "data": {
      "text/latex": [
       "$$\\frac{1}{s^3 + 14 s^2 + 56 s + 160}$$"
      ],
      "text/plain": [
       "TransferFunction(array([1]), array([  1,  14,  56, 160]))"
      ]
     },
     "metadata": {},
     "output_type": "display_data"
    },
    {
     "data": {
      "text/latex": [
       "$$\n",
       "\\left(\\begin{array}{rllrllrll|rll}\n",
       "-14\\phantom{.}&\\hspace{-1em}&\\hspace{-1em}\\phantom{\\cdot}&-56\\phantom{.}&\\hspace{-1em}&\\hspace{-1em}\\phantom{\\cdot}&-160\\phantom{.}&\\hspace{-1em}&\\hspace{-1em}\\phantom{\\cdot}&1\\phantom{.}&\\hspace{-1em}&\\hspace{-1em}\\phantom{\\cdot}\\\\\n",
       "1\\phantom{.}&\\hspace{-1em}&\\hspace{-1em}\\phantom{\\cdot}&0\\phantom{.}&\\hspace{-1em}&\\hspace{-1em}\\phantom{\\cdot}&0\\phantom{.}&\\hspace{-1em}&\\hspace{-1em}\\phantom{\\cdot}&0\\phantom{.}&\\hspace{-1em}&\\hspace{-1em}\\phantom{\\cdot}\\\\\n",
       "0\\phantom{.}&\\hspace{-1em}&\\hspace{-1em}\\phantom{\\cdot}&1\\phantom{.}&\\hspace{-1em}&\\hspace{-1em}\\phantom{\\cdot}&0\\phantom{.}&\\hspace{-1em}&\\hspace{-1em}\\phantom{\\cdot}&0\\phantom{.}&\\hspace{-1em}&\\hspace{-1em}\\phantom{\\cdot}\\\\\n",
       "\\hline\n",
       "0\\phantom{.}&\\hspace{-1em}&\\hspace{-1em}\\phantom{\\cdot}&0\\phantom{.}&\\hspace{-1em}&\\hspace{-1em}\\phantom{\\cdot}&1\\phantom{.}&\\hspace{-1em}&\\hspace{-1em}\\phantom{\\cdot}&0\\phantom{.}&\\hspace{-1em}&\\hspace{-1em}\\phantom{\\cdot}\\\\\n",
       "\\end{array}\\right)\n",
       "$$"
      ],
      "text/plain": [
       "StateSpace(array([[ -14.,  -56., -160.],\n",
       "       [   1.,    0.,    0.],\n",
       "       [   0.,    1.,    0.]]), array([[1.],\n",
       "       [0.],\n",
       "       [0.]]), array([[0., 0., 1.]]), array([[0.]]))"
      ]
     },
     "metadata": {},
     "output_type": "display_data"
    },
    {
     "data": {
      "text/plain": [
       "array([[ -14.,  -56., -160.],\n",
       "       [   1.,    0.,    0.],\n",
       "       [   0.,    1.,    0.]])"
      ]
     },
     "metadata": {},
     "output_type": "display_data"
    },
    {
     "data": {
      "text/plain": [
       "array([[1.],\n",
       "       [0.],\n",
       "       [0.]])"
      ]
     },
     "metadata": {},
     "output_type": "display_data"
    },
    {
     "data": {
      "text/plain": [
       "array([[0., 0., 1.]])"
      ]
     },
     "metadata": {},
     "output_type": "display_data"
    },
    {
     "data": {
      "text/plain": [
       "array([[0.]])"
      ]
     },
     "metadata": {},
     "output_type": "display_data"
    }
   ],
   "source": [
    "num_3=[1]\n",
    "den_3=[1,14,56,160]\n",
    "G_3=ct.tf(num_3,den_3)\n",
    "display(G_3)\n",
    "G_3_SS=ct.tf2ss(G_3)\n",
    "display(G_3_SS)\n",
    "[A,B,C,D]=ct.ssdata(G_3_SS)\n",
    "display(A,B,C,D)\n"
   ]
  },
  {
   "cell_type": "code",
   "execution_count": 8,
   "metadata": {},
   "outputs": [
    {
     "data": {
      "text/latex": [
       "$$\n",
       "\\left(\\begin{array}{rllrllrll|rll}\n",
       "-14\\phantom{.}&\\hspace{-1em}&\\hspace{-1em}\\phantom{\\cdot}&-56\\phantom{.}&\\hspace{-1em}&\\hspace{-1em}\\phantom{\\cdot}&-160\\phantom{.}&\\hspace{-1em}&\\hspace{-1em}\\phantom{\\cdot}&1\\phantom{.}&\\hspace{-1em}&\\hspace{-1em}\\phantom{\\cdot}\\\\\n",
       "1\\phantom{.}&\\hspace{-1em}&\\hspace{-1em}\\phantom{\\cdot}&0\\phantom{.}&\\hspace{-1em}&\\hspace{-1em}\\phantom{\\cdot}&0\\phantom{.}&\\hspace{-1em}&\\hspace{-1em}\\phantom{\\cdot}&0\\phantom{.}&\\hspace{-1em}&\\hspace{-1em}\\phantom{\\cdot}\\\\\n",
       "0\\phantom{.}&\\hspace{-1em}&\\hspace{-1em}\\phantom{\\cdot}&1\\phantom{.}&\\hspace{-1em}&\\hspace{-1em}\\phantom{\\cdot}&0\\phantom{.}&\\hspace{-1em}&\\hspace{-1em}\\phantom{\\cdot}&0\\phantom{.}&\\hspace{-1em}&\\hspace{-1em}\\phantom{\\cdot}\\\\\n",
       "\\hline\n",
       "0\\phantom{.}&\\hspace{-1em}&\\hspace{-1em}\\phantom{\\cdot}&0\\phantom{.}&\\hspace{-1em}&\\hspace{-1em}\\phantom{\\cdot}&1\\phantom{.}&\\hspace{-1em}&\\hspace{-1em}\\phantom{\\cdot}&0\\phantom{.}&\\hspace{-1em}&\\hspace{-1em}\\phantom{\\cdot}\\\\\n",
       "\\end{array}\\right)\n",
       "$$"
      ],
      "text/plain": [
       "StateSpace(array([[ -14.,  -56., -160.],\n",
       "       [   1.,    0.,    0.],\n",
       "       [   0.,    1.,    0.]]), array([[1.],\n",
       "       [0.],\n",
       "       [0.]]), array([[0., 0., 1.]]), array([[0.]]))"
      ]
     },
     "metadata": {},
     "output_type": "display_data"
    }
   ],
   "source": [
    "# num = [[[1., 2.], [3., 4.]], [[5., 6.], [7., 8.]]]\n",
    "# den = [[[9., 8., 7.], [6., 5., 4.]], [[3., 2., 1.], [-1., -2., -3.]]]\n",
    "sys1 = ct.tf2ss(num_3, den_3)\n",
    "display(sys1)\n",
    "# sys_tf = ct.tf(num, den)\n",
    "# sys2 = ct.tf2ss(sys_tf)"
   ]
  },
  {
   "attachments": {},
   "cell_type": "markdown",
   "metadata": {},
   "source": [
    "Python Calculate a little difference with matlab result"
   ]
  },
  {
   "cell_type": "code",
   "execution_count": 9,
   "metadata": {},
   "outputs": [
    {
     "name": "stdout",
     "output_type": "stream",
     "text": [
      "[[  0.   1.   0.]\n",
      " [  0.   0.   1.]\n",
      " [ -5. -25.  -5.]]\n",
      "[[   0.]\n",
      " [  25.]\n",
      " [-120.]]\n",
      "[1. 0. 0.]\n",
      "[0.]\n"
     ]
    },
    {
     "data": {
      "text/latex": [
       "$$\\frac{-1.776 \\times 10^{-15} s^2 + 25 s + 5}{s^3 + 5 s^2 + 25 s + 5}$$"
      ],
      "text/plain": [
       "TransferFunction(array([-1.77635684e-15,  2.50000000e+01,  5.00000000e+00]), array([ 1.,  5., 25.,  5.]))"
      ]
     },
     "metadata": {},
     "output_type": "display_data"
    },
    {
     "data": {
      "text/plain": [
       "[[[array([-1.77635684e-15,  2.50000000e+01,  5.00000000e+00])]],\n",
       " [[array([ 1.,  5., 25.,  5.])]]]"
      ]
     },
     "metadata": {},
     "output_type": "display_data"
    }
   ],
   "source": [
    "A = np.array([[0. ,1. ,0.],[0., 0., 1.] ,[-5., -25. ,-5.]])\n",
    "print(A)\n",
    "B = np.array([[0.], [25.] ,[-120.]])\n",
    "print(B)\n",
    "C = np.array([1., 0. ,0.])\n",
    "print(C)\n",
    "D = np.array([0.])\n",
    "print(D)\n",
    "G_4=ct.ss2tf(A,B,C,D)\n",
    "[num,den]=ct.tfdata(G_4)\n",
    "display(G_4)\n",
    "display([num,den])"
   ]
  },
  {
   "cell_type": "code",
   "execution_count": 10,
   "metadata": {},
   "outputs": [
    {
     "data": {
      "text/latex": [
       "$$\\frac{25 s + 5}{s^3 + 5 s^2 + 25 s + 5}$$"
      ],
      "text/plain": [
       "TransferFunction(array([25,  5]), array([ 1,  5, 25,  5]))"
      ]
     },
     "metadata": {},
     "output_type": "display_data"
    }
   ],
   "source": [
    "num=[25,5]\n",
    "den=[1,5,25,5]\n",
    "display(ct.tf(num,den))\n",
    "[A,B,C,D]=ct.ssdata(ct.tf2ss(num,den))\n"
   ]
  },
  {
   "cell_type": "code",
   "execution_count": 16,
   "metadata": {},
   "outputs": [
    {
     "name": "stdout",
     "output_type": "stream",
     "text": [
      "[[0, 1, 0], [0, 0, 1], [-5, -25, -5]]\n",
      "[[0], [25], [-120]]\n",
      "[1, 0, 0]\n",
      "[0]\n"
     ]
    },
    {
     "data": {
      "text/latex": [
       "$$\n",
       "\\left(\\begin{array}{rllrllrll|rll}\n",
       "0\\phantom{.}&\\hspace{-1em}&\\hspace{-1em}\\phantom{\\cdot}&1\\phantom{.}&\\hspace{-1em}&\\hspace{-1em}\\phantom{\\cdot}&0\\phantom{.}&\\hspace{-1em}&\\hspace{-1em}\\phantom{\\cdot}&0\\phantom{.}&\\hspace{-1em}&\\hspace{-1em}\\phantom{\\cdot}\\\\\n",
       "0\\phantom{.}&\\hspace{-1em}&\\hspace{-1em}\\phantom{\\cdot}&0\\phantom{.}&\\hspace{-1em}&\\hspace{-1em}\\phantom{\\cdot}&1\\phantom{.}&\\hspace{-1em}&\\hspace{-1em}\\phantom{\\cdot}&25\\phantom{.}&\\hspace{-1em}&\\hspace{-1em}\\phantom{\\cdot}\\\\\n",
       "-5\\phantom{.}&\\hspace{-1em}&\\hspace{-1em}\\phantom{\\cdot}&-25\\phantom{.}&\\hspace{-1em}&\\hspace{-1em}\\phantom{\\cdot}&-5\\phantom{.}&\\hspace{-1em}&\\hspace{-1em}\\phantom{\\cdot}&-120\\phantom{.}&\\hspace{-1em}&\\hspace{-1em}\\phantom{\\cdot}\\\\\n",
       "\\hline\n",
       "1\\phantom{.}&\\hspace{-1em}&\\hspace{-1em}\\phantom{\\cdot}&0\\phantom{.}&\\hspace{-1em}&\\hspace{-1em}\\phantom{\\cdot}&0\\phantom{.}&\\hspace{-1em}&\\hspace{-1em}\\phantom{\\cdot}&0\\phantom{.}&\\hspace{-1em}&\\hspace{-1em}\\phantom{\\cdot}\\\\\n",
       "\\end{array}\\right)\n",
       "$$"
      ],
      "text/plain": [
       "<LinearIOSystem:sys[28]:['u[0]']->['y[0]']>"
      ]
     },
     "metadata": {},
     "output_type": "display_data"
    },
    {
     "data": {
      "text/latex": [
       "$$\\frac{-1.776 \\times 10^{-15} s^2 + 25 s + 5}{s^3 + 5 s^2 + 25 s + 5}$$"
      ],
      "text/plain": [
       "TransferFunction(array([-1.77635684e-15,  2.50000000e+01,  5.00000000e+00]), array([ 1.,  5., 25.,  5.]))"
      ]
     },
     "metadata": {},
     "output_type": "display_data"
    }
   ],
   "source": [
    "A = [[0,1,0],[0,0, 1] ,[-5,-25,-5]]\n",
    "print(A)\n",
    "B = [[0], [25] ,[-120]]\n",
    "print(B)\n",
    "C = [1, 0 ,0]\n",
    "print(C)\n",
    "D = [0]\n",
    "print(D)\n",
    "G_4=ct.ss(A,B,C,D)\n",
    "display(G_4)\n",
    "[num,den]=ct.tfdata(G_4)\n",
    "G_5=ct.ss2tf(G_4)\n",
    "display(G_5)"
   ]
  },
  {
   "cell_type": "code",
   "execution_count": 12,
   "metadata": {},
   "outputs": [
    {
     "data": {
      "text/plain": [
       "(array([[ 0.00000000e+00, -1.77635684e-15,  2.50000000e+01,\n",
       "          5.00000000e+00]]),\n",
       " array([ 1.,  5., 25.,  5.]))"
      ]
     },
     "execution_count": 12,
     "metadata": {},
     "output_type": "execute_result"
    }
   ],
   "source": [
    "from scipy.signal import ss2tf\n",
    "ss2tf(A, B, C, D)"
   ]
  },
  {
   "cell_type": "code",
   "execution_count": 13,
   "metadata": {},
   "outputs": [
    {
     "data": {
      "text/plain": [
       "[[1.0, -2], [3, -4]]"
      ]
     },
     "metadata": {},
     "output_type": "display_data"
    },
    {
     "data": {
      "text/plain": [
       "[[5.0], [7]]"
      ]
     },
     "metadata": {},
     "output_type": "display_data"
    },
    {
     "data": {
      "text/plain": [
       "[[6.0, 8]]"
      ]
     },
     "metadata": {},
     "output_type": "display_data"
    },
    {
     "data": {
      "text/plain": [
       "[[9.0]]"
      ]
     },
     "metadata": {},
     "output_type": "display_data"
    },
    {
     "data": {
      "text/latex": [
       "$$\\frac{9 s^2 + 113 s + 118}{s^2 + 3 s + 2}$$"
      ],
      "text/plain": [
       "TransferFunction(array([  9., 113., 118.]), array([1., 3., 2.]))"
      ]
     },
     "metadata": {},
     "output_type": "display_data"
    },
    {
     "data": {
      "text/latex": [
       "$$\n",
       "\\left(\\begin{array}{rllrll|rll}\n",
       "1\\phantom{.}&\\hspace{-1em}&\\hspace{-1em}\\phantom{\\cdot}&-2\\phantom{.}&\\hspace{-1em}&\\hspace{-1em}\\phantom{\\cdot}&5\\phantom{.}&\\hspace{-1em}&\\hspace{-1em}\\phantom{\\cdot}\\\\\n",
       "3\\phantom{.}&\\hspace{-1em}&\\hspace{-1em}\\phantom{\\cdot}&-4\\phantom{.}&\\hspace{-1em}&\\hspace{-1em}\\phantom{\\cdot}&7\\phantom{.}&\\hspace{-1em}&\\hspace{-1em}\\phantom{\\cdot}\\\\\n",
       "\\hline\n",
       "6\\phantom{.}&\\hspace{-1em}&\\hspace{-1em}\\phantom{\\cdot}&8\\phantom{.}&\\hspace{-1em}&\\hspace{-1em}\\phantom{\\cdot}&9\\phantom{.}&\\hspace{-1em}&\\hspace{-1em}\\phantom{\\cdot}\\\\\n",
       "\\end{array}\\right)\n",
       "$$"
      ],
      "text/plain": [
       "<LinearIOSystem:sys[20]:['u[0]']->['y[0]']>"
      ]
     },
     "metadata": {},
     "output_type": "display_data"
    },
    {
     "data": {
      "text/latex": [
       "$$\\frac{9 s^2 + 113 s + 118}{s^2 + 3 s + 2}$$"
      ],
      "text/plain": [
       "TransferFunction(array([  9., 113., 118.]), array([1., 3., 2.]))"
      ]
     },
     "metadata": {},
     "output_type": "display_data"
    }
   ],
   "source": [
    "A = [[1., -2], [3, -4]]\n",
    "display(A)\n",
    "B = [[5.], [7]]\n",
    "display(B)\n",
    "C = [[6., 8]]\n",
    "display(C)\n",
    "D = [[9.]]\n",
    "display(D)\n",
    "sys1 = ct.ss2tf(A, B, C, D)\n",
    "display(sys1)\n",
    "sys_ss = ct.ss(A, B, C, D)\n",
    "display(sys_ss)\n",
    "sys2 = ct.ss2tf(sys_ss)\n",
    "display(sys2)"
   ]
  }
 ],
 "metadata": {
  "kernelspec": {
   "display_name": "Python 3",
   "language": "python",
   "name": "python3"
  },
  "language_info": {
   "codemirror_mode": {
    "name": "ipython",
    "version": 3
   },
   "file_extension": ".py",
   "mimetype": "text/x-python",
   "name": "python",
   "nbconvert_exporter": "python",
   "pygments_lexer": "ipython3",
   "version": "3.10.5"
  },
  "orig_nbformat": 4
 },
 "nbformat": 4,
 "nbformat_minor": 2
}
