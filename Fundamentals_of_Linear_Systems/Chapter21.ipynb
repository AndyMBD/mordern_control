{
 "cells": [
  {
   "cell_type": "markdown",
   "metadata": {},
   "source": [
    "# 2.1 Phasors - imaginary form of sine waves"
   ]
  },
  {
   "cell_type": "markdown",
   "metadata": {},
   "source": [
    "## 2.1.1 Imaginary numbers"
   ]
  },
  {
   "cell_type": "markdown",
   "metadata": {},
   "source": [
    "The imaginary number is the $\\sqrt{-1}$  \n",
    "  \n",
    "It can't be simplified anymore and there is nothing else you can do with it.  \n",
    "If you are using math that indeed ends up with a $\\sqrt{-1}$, then you have to keep it.  \n",
    "  \n",
    "For example, you may have an imaginary number that equals $-5\\sqrt{-1}$, or $21.7\\sqrt{-1}$  \n",
    "  \n",
    "Notice, $-5\\sqrt{-1}=-\\sqrt{-25}$"
   ]
  },
  {
   "cell_type": "markdown",
   "metadata": {},
   "source": [
    "So you can see, if you are doing math that ends up with $\\sqrt{-1}$,  \n",
    "you will be writing $\\sqrt{-1}$ an awful lot  \n",
    "  \n",
    "Because no one wants to wrtie out $\\sqrt{-1}$ all the time,  \n",
    "mathmeticians have made it easier by assigning a symbol to represent $\\sqrt{-1}$  \n",
    "  \n",
    "You are probably well aware that $i\\equiv\\sqrt{-1}$  \n",
    "  \n",
    "So instead of writing $-5\\sqrt{-1}$, or $21.7\\sqrt{-1}$, one can write $-5i$ or $21.7i$  \n",
    "  \n",
    "the shorthand is a little faster to write and a little easier to read"
   ]
  },
  {
   "cell_type": "markdown",
   "metadata": {},
   "source": [
    "Engineers, on the other hand, use the letter $i$ to mean current.  \n",
    "If $i$ is used for current and for the $\\sqrt{-1}$, things get confusing.  \n",
    "  \n",
    "So engineers define $\\sqrt{-1}$ differently,\n",
    "  \n",
    "for engineers, $j\\equiv\\sqrt{-1}$,  \n",
    "  \n",
    "Engineers write $-5j$ or $21.7j$ instead of $-5\\sqrt{-1}$, or $21.7\\sqrt{-1}$  \n",
    "  \n",
    "Of course multiplication is commutative, so $21.7\\sqrt{-1}=\\sqrt{-1}\\cdot21.7$,  \n",
    "  \n",
    "or $21.7j=j21.7$.  You may see imaginary numbers written in either order.  \n",
    "[imaginary numbers](https://en.wikipedia.org/wiki/Imaginary_number)"
   ]
  },
  {
   "cell_type": "markdown",
   "metadata": {},
   "source": [
    "## 2.1.2 Imaginary numbers in python"
   ]
  },
  {
   "cell_type": "code",
   "execution_count": 1,
   "metadata": {},
   "outputs": [
    {
     "name": "stdout",
     "output_type": "stream",
     "text": [
      "x = (-0-5j)\n",
      "<class 'complex'>\n"
     ]
    }
   ],
   "source": [
    "# In python, the imaginary number is a native data type\n",
    "# Python is a language for engineers, so the letter j is used rather than the letter i\n",
    "# Notice for the code below, no libraries were imported\n",
    "x = -5j\n",
    "print('x =',x)\n",
    "print(type(x))"
   ]
  },
  {
   "cell_type": "markdown",
   "metadata": {},
   "source": [
    "In the code cell above, we were able to define an imaginary number,  \n",
    "but notice the result is a data tye called complex, not imaginary,  \n",
    "and the numerical result is -0-5j, not -5j  \n",
    "  \n",
    "So why does it say complex and why does it add -0 to -5j?  \n",
    "Before we arrive at the answer, let's look at some more code"
   ]
  },
  {
   "cell_type": "code",
   "execution_count": 2,
   "metadata": {},
   "outputs": [
    {
     "name": "stdout",
     "output_type": "stream",
     "text": [
      "x = 21j\n",
      "x = 37\n"
     ]
    }
   ],
   "source": [
    "# Does commutativity work with python?\n",
    "x = 21j\n",
    "print('x =',x)\n",
    "# The assignemt above works fin\n",
    "# but what if you want to assign x = j21, to test commutativity\n",
    "# j21 is a variable name, just like x1 is a variable name\n",
    "j21 = 37\n",
    "x = j21\n",
    "print('x =',x)"
   ]
  },
  {
   "cell_type": "markdown",
   "metadata": {},
   "source": [
    "When the code cell above runs, you should see an error  \n",
    "The problem is that python thinks j21 is a variable name.  \n",
    "  \n",
    "For example you could say j21 = 37, just like you could say x1 = 4  \n",
    "  \n",
    "It's very similar to saying, x = j.  Python will think j is a variable, not an imaginary number"
   ]
  },
  {
   "cell_type": "code",
   "execution_count": 3,
   "metadata": {},
   "outputs": [
    {
     "name": "stdout",
     "output_type": "stream",
     "text": [
      "x = 21j\n",
      "<class 'complex'>\n",
      "x = 21j\n",
      "<class 'complex'>\n"
     ]
    }
   ],
   "source": [
    "# Commutativity correctly in python\n",
    "# You must use 1j, instead of j\n",
    "x = 21j\n",
    "print('x =',x)\n",
    "print(type(x))\n",
    "x = 1j * 21\n",
    "print('x =',x)\n",
    "print(type(x))"
   ]
  },
  {
   "cell_type": "markdown",
   "metadata": {},
   "source": [
    "## 2.1.3 Complex numbers"
   ]
  },
  {
   "cell_type": "markdown",
   "metadata": {},
   "source": [
    "Before we talk about complex numbers, let's make a quick graphic of a number line using imaginary numbers  \n",
    "  \n",
    "Imaginary numbers are just like real numbers, you can count them on a number line  \n",
    "![image1!](./images_s2/image_2_1_1.png)  \n",
    "  \n",
    "[Number line](https://en.wikipedia.org/wiki/Number_line)"
   ]
  },
  {
   "cell_type": "markdown",
   "metadata": {},
   "source": [
    "Complex numbers are real numbers added to imaginary numbers   \n",
    "  \n",
    "Again, there is nothing you can do to simplify $\\sqrt{-1}$,  \n",
    "so the complex number $5-\\sqrt{-25}$ can't be simplified anymore  \n",
    "  \n",
    "It's just $5-\\sqrt{-25}$. But, we can use shorthand to write this in a more pleasant way  \n",
    "  \n",
    "$5-\\sqrt{-25}=5-\\sqrt{25}\\sqrt{-1}=5-5\\sqrt{-1}=5-5j$  \n",
    "  \n",
    "$5-5j$ is a complex number,  \n",
    "  \n",
    "$5$ is a real number and $-5j$ is an imaginary number"
   ]
  },
  {
   "cell_type": "markdown",
   "metadata": {},
   "source": [
    "## 2.1.4 The complex plane"
   ]
  },
  {
   "cell_type": "markdown",
   "metadata": {},
   "source": [
    "The number line for the real numbers contains zero and the number line for imaginary numbers also contains zero  \n",
    "  \n",
    "The real and imaginary number lines cross at 0    \n",
    "We are going to make them cross at right angles to each other - orthogonal  \n",
    "![image2!](./images_s2/image_2_1_2.png)\n",
    "\n",
    "look at the definition of orthogonal. It means right angles, but is also means independendent variables.  \n",
    "The real numbers and imaginary numbers are independent of each other and form an orthogonal basis  \n",
    "[Orthogonal](https://en.wikipedia.org/wiki/Orthogonality)"
   ]
  },
  {
   "cell_type": "markdown",
   "metadata": {},
   "source": [
    "The drawing below shows the number lines crossing.  \n",
    "When viewed in three dimensions, the crossing number lines form a plane  \n",
    "  \n",
    "That plane is called the complex plane  \n",
    "![image3!](./images_s2/image_2_1_3.png)  "
   ]
  },
  {
   "cell_type": "markdown",
   "metadata": {},
   "source": [
    "For the next figure, lets rotate the complex plane so we are looking right at it  \n",
    "like its a piece of paper and we are looking down at that piece of paper lying on a table  \n",
    "![image4!](./images_s2/image_2_1_4.png)  \n",
    "The point $3+4j$ is graphed on the complex plane  "
   ]
  },
  {
   "cell_type": "markdown",
   "metadata": {},
   "source": [
    "Notice, because of the complex plane, complex numbers can be treated like vectors  \n",
    "  \n",
    "You say it like this, $3+4j$ is 3 in the positive real direction and 4 in the positive imaginary direction  \n",
    "  \n",
    "The real and imaginary axis replace the x and y axis from normal vector space  \n",
    "The figure below shows the \"vector\" $3+4j$ on the complex plane  \n",
    "![image5!](./images_s2/image_2_1_5.png)  \n",
    "[Complex numbers](https://en.wikipedia.org/wiki/Complex_number)"
   ]
  },
  {
   "cell_type": "markdown",
   "metadata": {},
   "source": [
    "## 2.1.5 Polar form of complex numbers"
   ]
  },
  {
   "cell_type": "markdown",
   "metadata": {},
   "source": [
    "A complex number can be written as a real number added to an imaginary number  \n",
    "this is called the rectangular or cartesian form of the complex number, $a+bj$  \n",
    "![image6!](./images_s2/image_2_1_6.png)  \n",
    "But, it can also be written as a magnitude and an angle, as in $r\\angle\\theta$\n",
    "\n",
    "The magnitude, r, is always a positive number  \n",
    "  \n",
    "From the diagram, you can see simple trigonometry and the Pythagorean theorem  \n",
    "is used to convert between the rectangular to polar forms  \n",
    "  \n",
    "$3+4j=5\\;\\angle53.1^\\circ$"
   ]
  },
  {
   "cell_type": "code",
   "execution_count": 4,
   "metadata": {},
   "outputs": [
    {
     "name": "stdout",
     "output_type": "stream",
     "text": [
      "magnitude of x = 5.0\n",
      "angle of x = 0.9272952180016122\n",
      "\n",
      "magnitude of x = 5.0\n",
      "angle of x = 53.13010235415598\n"
     ]
    }
   ],
   "source": [
    "import numpy as np\n",
    "\n",
    "# numpy can convert to polar form for you, the angle is in radians\n",
    "x = 3+4j\n",
    "print('magnitude of x =', np.abs(x))\n",
    "print ('angle of x =', np.angle(x))\n",
    "print()\n",
    "# if you want the angle in degrees\n",
    "print('magnitude of x =', np.abs(x))\n",
    "print ('angle of x =', np.angle(x, deg=True))"
   ]
  },
  {
   "cell_type": "markdown",
   "metadata": {},
   "source": [
    "## 2.1.6 Imaginary exponents"
   ]
  },
  {
   "cell_type": "markdown",
   "metadata": {},
   "source": [
    "We started Fundamentals of Linear Systems talking about the exponential function  \n",
    "and we saw that the solution to a first order differential equation is an exponontial  \n",
    "  \n",
    "Now that we have introduced imaginary numbers, the exponential function is not any less important  "
   ]
  },
  {
   "cell_type": "markdown",
   "metadata": {},
   "source": [
    "It's kind of easy to understand exponentials with real numbers, for example $e^2=e\\cdot e$  \n",
    "but what could $e^{2j}$ possibly mean?  \n",
    "  \n",
    "The most useful definition for us is the infinite series definition  \n",
    "[Definition of exponential](https://en.wikipedia.org/wiki/Characterizations_of_the_exponential_function)  \n",
    "  \n",
    "$$e^t=\\sum_{n=0}^{\\infty}\\frac{t^n}{n!}=1+t+\\frac{t^2}{2!}+\\frac{t^3}{3!}+\\frac{t^4}{4!}+\\frac{t^5}{5!}+\\cdots$$  \n",
    "  \n",
    "It's easy to see  \n",
    "  \n",
    "$$e^2=7.389\\approx1+2+\\frac{4}{2}+\\frac{8}{6}+\\frac{16}{24}+\\frac{32}{120}=7.267$$\n",
    "  \n",
    "and  \n",
    "  \n",
    "$$e^{2j}=-0.416+0.909j\\approx1+2j+\\frac{-4}{2}+\\frac{-8j}{6}+\\frac{16}{24}+\\frac{32j}{120}=-0.333+0.933j$$  \n",
    "  \n",
    "if you kept going to infinity, you'd get the exact answer  \n",
    "calculators and computers use the series to approximate the answer"
   ]
  },
  {
   "cell_type": "markdown",
   "metadata": {},
   "source": [
    "## 2.1.7 Euler's identity"
   ]
  },
  {
   "cell_type": "markdown",
   "metadata": {},
   "source": [
    "One of the most spectacular formulas in math, is called Euler's Identity  \n",
    "  \n",
    "$$e^{\\pi j}=-1$$  \n",
    "It's got everything, $e$, $\\pi$ and $j$.  It's even got 1 and a minus sign! \n",
    "  \n",
    "$$e^{\\pi j}=-1\\approx1+\\pi j+\\frac{-\\pi^2}{2}+\\frac{-\\pi^3j}{6}+\\frac{\\pi^4}{24}+\\frac{\\pi^5j}{120}=0.124+0.524j$$  \n",
    "  \n",
    "So the series doesn't converge rapidly.  You need a lot more terms, but if you went to infinity, you would get -1"
   ]
  },
  {
   "cell_type": "code",
   "execution_count": 5,
   "metadata": {},
   "outputs": [
    {
     "name": "stdout",
     "output_type": "stream",
     "text": [
      "(0.1239099258720886+0.5240439134171688j)\n"
     ]
    }
   ],
   "source": [
    "# try it in python\n",
    "t = np.pi*1j\n",
    "number_of_terms = 6\n",
    "exponential = 0\n",
    "for n in range(number_of_terms):\n",
    "    exponential += t**n/np.math.factorial(n)\n",
    "print(exponential)"
   ]
  },
  {
   "cell_type": "markdown",
   "metadata": {},
   "source": [
    "## 2.1.8 The unit circle"
   ]
  },
  {
   "cell_type": "markdown",
   "metadata": {},
   "source": [
    "If $e^{\\pi j}=-1$, \n",
    "  \n",
    "then $\\left(e^{\\pi j}\\right)^2=1$. Re-writing, $\\left(e^{\\pi j}\\right)^2=e^{2\\pi j}=1$  \n",
    "  \n",
    "Further, $\\sqrt{e^{\\pi j}}=\\sqrt{-1}$. Again, re-writing the same exact expression gives $\\left(e^{\\pi j}\\right)^{\\frac{1}{2}}=e^{\\frac{\\pi j}{2}}=j$  \n",
    "  \n",
    "Now, $j^3=j\\cdot j\\cdot j=-j$, so $\\left(e^{\\frac{\\pi j}{2}}\\right)^3=e^{\\frac{3\\pi j}{2}}=-j$  \n",
    "  \n",
    "And finally $e^0=1$  \n",
    "  \n",
    "so for exponents increasing by values of $\\frac{\\pi}{2}j$, from 0, $\\frac{\\pi}{2}j$, $\\pi j$, $\\frac{3\\pi}{2}j$, to $2\\pi j$  \n",
    "  \n",
    "The result goes from 1, j, -1, -j, and back to 1  \n",
    "  \n",
    "Let's graph those points on the complex plane"
   ]
  },
  {
   "cell_type": "code",
   "execution_count": 6,
   "metadata": {},
   "outputs": [
    {
     "data": {
      "image/png": "[encoded data removed]",
      "text/plain": [
       "<Figure size 432x288 with 1 Axes>"
      ]
     },
     "metadata": {
      "needs_background": "light"
     },
     "output_type": "display_data"
    }
   ],
   "source": [
    "import matplotlib.pyplot as plt\n",
    "\n",
    "exponential = []\n",
    "for t in [0, np.pi/2*1j, np.pi*1j, 3*np.pi/2*1j, 2*np.pi*1j]:\n",
    "    exponential.append(np.exp(t))\n",
    "exponential = np.array(exponential)\n",
    "plt.scatter(exponential.real, exponential.imag)\n",
    "plt.xlabel('real')\n",
    "plt.ylabel('imaginary')\n",
    "plt.title('Select points on the complex plane')\n",
    "plt.grid()"
   ]
  },
  {
   "cell_type": "markdown",
   "metadata": {},
   "source": [
    "It looks like the points land on a circle with radius equal to 1\n",
    "  \n",
    "Let's just take a bunch of points bewtween 0 and $2\\pi j$ and plot the values"
   ]
  },
  {
   "cell_type": "code",
   "execution_count": 7,
   "metadata": {},
   "outputs": [
    {
     "data": {
      "image/png": "[encoded data removed]",
      "text/plain": [
       "<Figure size 432x288 with 1 Axes>"
      ]
     },
     "metadata": {
      "needs_background": "light"
     },
     "output_type": "display_data"
    }
   ],
   "source": [
    "t = np.linspace(0, 2*np.pi, 100)\n",
    "exponential = np.exp(1j*t)\n",
    "plt.scatter(exponential.real, exponential.imag)\n",
    "plt.xlabel('real')\n",
    "plt.ylabel('imaginary')\n",
    "plt.title('Exponential points on the complex plane')\n",
    "plt.grid()"
   ]
  },
  {
   "cell_type": "markdown",
   "metadata": {},
   "source": [
    "Yep, it's definitely a unit circle  \n",
    "  \n",
    "Now lets plot the real and imaginary parts of the exponential  "
   ]
  },
  {
   "cell_type": "code",
   "execution_count": 8,
   "metadata": {},
   "outputs": [
    {
     "data": {
      "image/png": "[encoded data removed]",
      "text/plain": [
       "<Figure size 432x288 with 1 Axes>"
      ]
     },
     "metadata": {
      "needs_background": "light"
     },
     "output_type": "display_data"
    }
   ],
   "source": [
    "plt.plot(t, exponential.real)\n",
    "plt.plot(t, exponential.imag)\n",
    "plt.xlabel('t, angle in radians')\n",
    "plt.ylabel('exponential')\n",
    "plt.legend(['real','imag'])\n",
    "plt.title('The real and imaginary parts of the exponential')\n",
    "plt.grid()"
   ]
  },
  {
   "cell_type": "markdown",
   "metadata": {},
   "source": [
    "Unbelievable! Its sin and cos\n",
    "\n",
    "The real part is cos, and the imaginary part is sin"
   ]
  },
  {
   "cell_type": "markdown",
   "metadata": {},
   "source": [
    "By now, you must be suspicious that somehow complex exponentials are related to the sin and cos functions  \n",
    "  \n",
    "We just learned that the exponent is really an angle, so $e^{(30^\\circ j)}$ will equal $1\\;\\angle30^\\circ=0.866+0.5j$  \n",
    "  \n",
    "except we have to use radians not degrees, so $e^{(30^\\circ j)}$ must really be converted to radians; $e^{(\\frac{30\\pi}{180}j)}$  \n",
    "  \n",
    "Now we have a good way to convert from polar form to rectangular form"
   ]
  },
  {
   "cell_type": "code",
   "execution_count": 9,
   "metadata": {},
   "outputs": [
    {
     "name": "stdout",
     "output_type": "stream",
     "text": [
      "rectangular =  (0.8660254037844387+0.49999999999999994j)\n",
      "\n",
      "polar magnitude = 1.0\n",
      "polar angle = 29.999999999999996\n"
     ]
    }
   ],
   "source": [
    "# convert from polar to rectangular\n",
    "# enter 1 angle 30 degrees\n",
    "exponential = np.exp(1j*30*np.pi/180)\n",
    "print('rectangular = ', exponential)\n",
    "print()\n",
    "# and back again, rectagular to polar\n",
    "print('polar magnitude =', np.abs(exponential))\n",
    "print('polar angle =', np.angle(exponential, deg=True))"
   ]
  },
  {
   "cell_type": "markdown",
   "metadata": {},
   "source": [
    "## 2.1.9 Complex conjugates"
   ]
  },
  {
   "cell_type": "markdown",
   "metadata": {},
   "source": [
    "Let's graph two complex numbers on the complex plane  \n",
    "  \n",
    "$1\\;\\angle30^\\circ$ and $1\\;\\angle-30^\\circ$ or $0.866+0.5j$ and $0.866-0.5j$  \n",
    "  \n",
    "These two number are complex conjugates of each other  \n",
    "They have the opposite sign for the angle, or equivalently, the opposite sign for the imaginary part  \n",
    "  \n",
    "Symbolically, we use a superscripted asterisk to represent complex conjugates, such that  \n",
    "  \n",
    "$(1\\;\\angle30^\\circ)^*=1\\;\\angle-30^\\circ$ and $0.866+0.5j=(0.866-0.5j)^*$\n",
    "  \n",
    "[Complex conjugate](https://en.wikipedia.org/wiki/Complex_conjugate)  \n",
    "  \n",
    "![image7!](./images_s2/image_2_1_7.png)  "
   ]
  },
  {
   "cell_type": "markdown",
   "metadata": {},
   "source": [
    "Anytime you add complex conjugates together, you will get a real number  \n",
    "  \n",
    "$0.866+0.5j+0.866-0.5j=1.732$  \n",
    "  \n",
    "Anytime you subtract complex conjugates, you will get an imaginary number  \n",
    "  \n",
    "$0.866+0.5j-(0.866-0.5j)=j$  "
   ]
  },
  {
   "cell_type": "markdown",
   "metadata": {},
   "source": [
    "## 2.1.10 Euler's formula"
   ]
  },
  {
   "cell_type": "markdown",
   "metadata": {},
   "source": [
    "When we observed the functions; sin and cos above,  \n",
    "sin was the imaginary part and cos was the real part of the exponential  \n",
    "  \n",
    "Euler's forumla is about getting sin or cos without having to take the real or imaginary parts  \n",
    "  \n",
    "You can do it by adding two complex conjugates together  \n",
    "however, when you do, the answer will be two times too big, so you must remember to divide by two  \n",
    "  \n",
    "assume the angle, $\\phi$ is in radians\n",
    "  \n",
    "$$cos(\\phi)=\\frac{e^{\\phi j}+e^{-\\phi j}}{2}$$  \n",
    "  \n",
    "$$cos(30^\\circ)=\\frac{0.866+0.5j+0.866-0.5j}{2}=0.866$$\n",
    "  \n",
    "To get the sin function, we have to subtract the two exponentials,  \n",
    "you have to divide by 2 and by j to turn the answer into a real number \n",
    "  \n",
    "$$sin(\\phi)=\\frac{e^{\\phi j}-e^{-\\phi j}}{2j}$$  \n",
    "  \n",
    "$$sin(30^\\circ)=\\frac{0.866+0.5j-0.866+0.5j}{2j}=0.5$$"
   ]
  },
  {
   "cell_type": "markdown",
   "metadata": {},
   "source": [
    "So there is the big picture regarding what we are learning,  \n",
    "sin and cos are just two imaginary, complex conjugate exponentials, added (or subtracted) together!  \n",
    "  \n",
    "In Fundamentals of Linear Systems, we will always use the exponential form for sin and cos  \n",
    "so get ready, sin and cos are now imaginary exponentials"
   ]
  },
  {
   "cell_type": "markdown",
   "metadata": {},
   "source": [
    "## 2.1.11 The exponential form of a time dependent cosine wave"
   ]
  },
  {
   "cell_type": "markdown",
   "metadata": {},
   "source": [
    "In Fundamentals of Linear Systems, we are observing functions of time,  \n",
    "We need to write the exponential form to specify an arbitrary sin or cos wave as a function of time  \n",
    "  \n",
    "Consider the Euler formula for cos, \n",
    "  \n",
    "$$cos(\\phi)=\\frac{e^{\\phi j}+e^{-\\phi j}}{2}$$  \n",
    "  \n",
    "Let's replace the angle, $\\phi$ with a time dependent angle, $\\omega t$  \n",
    "  \n",
    "$\\omega$ is a frequency specified in radians per second, so as time increases,  \n",
    "$\\omega t$ is an angle in radians, that grows linearly  \n",
    "  \n",
    "$$cos(\\omega t)=\\frac{e^{j\\omega t}+e^{-j\\omega t}}{2}$$  "
   ]
  },
  {
   "cell_type": "markdown",
   "metadata": {},
   "source": [
    "Although we now have a time dependent expression for $cos(\\omega t)$,  \n",
    "We want to be able to describe a more general sin/cos wave  \n",
    "We want to consider a sin/cos wave with an arbitrary amplitude and phase shift  \n",
    "The equation we are interested in becomes\n",
    "  \n",
    "$$Acos(\\omega t+\\phi)=A\\left[\\frac{e^{(j\\omega t+\\phi)}+e^{-(j\\omega t+\\phi)}}{2}\\right]$$  \n",
    "  \n",
    "Re-write this same equation by factoring out the time independent part of the exponential term  \n",
    "  \n",
    "$$Acos(\\omega t+\\phi)=\\frac{Ae^{j\\phi}}{2}e^{j\\omega t}+\\frac{Ae^{-j\\phi}}{2}e^{-j\\omega t}$$  \n",
    "  \n",
    "For example, if $A=10$ and $\\phi=30^\\circ$, then  \n",
    "  \n",
    "$$10cos(\\omega t+30^\\circ)=(4.33+2.5j)e^{j\\omega t}+(4.33-2.5j)e^{-j\\omega t}$$  \n",
    "  \n",
    "For any moment in time, t; $e^{j\\omega t}$ and $e^{-j\\omega t}$ will be complex conjugates of each other  \n",
    "When you multiply and add the two terms together,  \n",
    "the answer will always return a single real number, equal to $10cos(\\omega t+30^\\circ)$  \n",
    "  \n",
    "For Fundamentals of Linear Systems, you need to be comfortable with complex numbers"
   ]
  },
  {
   "cell_type": "code",
   "execution_count": 10,
   "metadata": {},
   "outputs": [
    {
     "data": {
      "image/png": "[encoded data removed]",
      "text/plain": [
       "<Figure size 432x288 with 1 Axes>"
      ]
     },
     "metadata": {
      "needs_background": "light"
     },
     "output_type": "display_data"
    }
   ],
   "source": [
    "A = 10 # Amplitude\n",
    "phi = 30*np.pi/180 # Phase angle in radians\n",
    "w = 10 # Frequency in rad/s\n",
    "t = np.linspace(0, 1.0, 100) # choose a time array to last for one second\n",
    "exponential = (A*np.exp(1j*phi)/2)*np.exp(1j*w*t)+(A*np.exp(-1j*phi)/2)*np.exp(-1j*w*t)\n",
    "# when the two terms are added together, the sum is a real number, but\n",
    "# because of rounding errors there will be a very small imaginary part\n",
    "# you wouldn't notice it on the graph, but python will complain you are plotting a complex number\n",
    "# use .real to remove the warning\n",
    "plt.plot(t, exponential.real)\n",
    "plt.xlabel('t, time [s]')\n",
    "plt.ylabel('cosine')\n",
    "plt.title('The exponential form of cosine')\n",
    "plt.grid()"
   ]
  },
  {
   "cell_type": "markdown",
   "metadata": {},
   "source": [
    "## 2.1.12 Phasors  are \"vectors\" on the complex plane"
   ]
  },
  {
   "cell_type": "markdown",
   "metadata": {},
   "source": [
    "All sin or cos waves are now described by the equation  \n",
    "  \n",
    "$$A_mcos(\\omega t+\\phi)=\\frac{Ae^{j\\phi}}{2}e^{j\\omega t}+\\frac{Ae^{-j\\phi}}{2}e^{-j\\omega t}$$  \n",
    "  \n",
    "Define a phasor as  \n",
    "  \n",
    "$$Phasor=Ae^{j\\phi}\\quad and\\quad Phasor^*=Ae^{-j\\phi}$$\n",
    "  \n",
    "The phasor is a \"vector\" on the complex plane,  \n",
    "with magnitude, $A_m$, equal to the amplitude of the cos wave  \n",
    "and angle, $\\phi$, equal to the phase shift of the cos wave  \n",
    "In fact, the two phasors are complex conjugates of each other  \n",
    "  \n",
    "Substitution of the Phasors into the expression gives  \n",
    "  \n",
    "$$Acos(\\omega t+\\phi)=\\frac{Phasor}{2}e^{j\\omega t}+\\frac{Phasor^*}{2}e^{-j\\omega t}$$  \n",
    "  \n",
    "The magnitude of $e^{j\\omega t}$ is always one, so it does not change the length of the phasor  \n",
    "However, $e^{j\\omega t}$ and $e^{-j\\omega t}$ cause the two phasors to spin around the origin at a speed of $\\omega$,  \n",
    "in opposite directions  \n",
    "  \n",
    "![image8!](./images_s2/image_2_1_8.png)  \n",
    "  \n",
    "Add the two spinning phasors together (vectors on the complex plane), and you get a cos wave"
   ]
  },
  {
   "cell_type": "markdown",
   "metadata": {},
   "source": [
    "## 2.1.13 The single phasor as a phase shifted sin/cos wave"
   ]
  },
  {
   "cell_type": "markdown",
   "metadata": {},
   "source": [
    "Most of the time, math can be handled by paying attention to only one of the two counter-rotating phasors  \n",
    "  \n",
    "When we do this, we say the phase shifted sin/cos wave is  \n",
    "  \n",
    "$$Phasor=A\\;\\angle\\phi=Ae^{j\\phi}\\quad at\\quad\\omega\\; [rad/s]$$\n",
    "\n",
    "Thats all we need to describe an arbitrary sin/cos wave  \n",
    "And $A\\;\\angle\\phi$ is just the phasor, which can be drawn as a \"vector\" on the complex plane  "
   ]
  },
  {
   "cell_type": "markdown",
   "metadata": {},
   "source": [
    "You have to get used to seeing phasors on the comlpex plane and then saying, \"well that's a sin/cos wave\".  \n",
    "The drawing of the complex plane below shows a few examples  \n",
    "  \n",
    "Pay attention to sin and cos.  The sin phasor points down on the negative imaginary axis,  \n",
    "while the cos phasor points to the right on the positive real axis  \n",
    "  \n",
    "The drawing tells us the amplitude and the phase of each sin/cos wave, but it does not tell us the frequency  \n",
    "You have to specify the frequency separately  \n",
    "[Phasor](https://en.wikipedia.org/wiki/Phasor)\n",
    "  \n",
    "![image9!](./images_s2/image_2_1_9.png)  "
   ]
  },
  {
   "cell_type": "markdown",
   "metadata": {},
   "source": [
    "## 2.1.14 Expand the definition of s, $s=j\\omega$ for sin/cos waves"
   ]
  },
  {
   "cell_type": "markdown",
   "metadata": {},
   "source": [
    "We can re-define letter, $A$, to represent the entire complex phasor  \n",
    "  \n",
    "$$A=Phasor$$  \n",
    "such that  \n",
    "  \n",
    "$$A_mcos(\\omega t+\\phi)=\\frac{A}{2}e^{j\\omega t}+\\frac{A^*}{2}e^{-j\\omega t}$$  \n",
    "$A$, is a complex number (phasor) whose magnitude is equal to $A_m$ and angle is $\\phi$,  \n",
    "such that $A=A_m\\;\\angle\\phi$  \n",
    "\n",
    "Remember, in previous sections, we defined an exponetial as  \n",
    "  \n",
    "$$real\\;exponential\\;wave\\equiv Ae^{st}$$\n",
    "The real exponential wave is one exponential term  \n",
    "  \n",
    "If we define $s=j\\omega$, then the equation for a sin/cos wave becomes  \n",
    "  \n",
    "$$sin/cos\\;wave\\equiv\\frac{A}{2}e^{st}+\\frac{A^*}{2}e^{s^*t}$$  \n",
    "The sin/cos wave is two exponential terms added together  \n",
    "  \n",
    "$Ae^{st}$ is a generalized function  \n",
    "that can describe real exponentials or imaginary exponentials (sin/cos waves)  \n",
    "  \n",
    "$Ae^{st}$ is a real exponential wave when  \n",
    "$A$ is the real magnitude  \n",
    "$s$ is the real frequency in [Np/s]  \n",
    "  \n",
    "$Ae^{st}$ is a sin/cos wave when  \n",
    "$A$ is the complex magnitude and phase  \n",
    "$s$ is the imaginary frequency in [rad/s]"
   ]
  }
 ],
 "metadata": {
  "kernelspec": {
   "display_name": "Python 3",
   "language": "python",
   "name": "python3"
  },
  "language_info": {
   "codemirror_mode": {
    "name": "ipython",
    "version": 3
   },
   "file_extension": ".py",
   "mimetype": "text/x-python",
   "name": "python",
   "nbconvert_exporter": "python",
   "pygments_lexer": "ipython3",
   "version": "3.6.7"
  }
 },
 "nbformat": 4,
 "nbformat_minor": 4
}
