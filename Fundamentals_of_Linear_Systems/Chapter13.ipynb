{
 "cells": [
  {
   "cell_type": "markdown",
   "metadata": {},
   "source": [
    "# 1.3 A First-order physical system"
   ]
  },
  {
   "cell_type": "markdown",
   "metadata": {},
   "source": [
    "## 1.3.1 Mechanical Translational system"
   ]
  },
  {
   "cell_type": "markdown",
   "metadata": {},
   "source": [
    "In Fundamentals of Linear Systems, we want to consider physical systems.  \n",
    "The system you are most familiar with from physics class is the mechanical system associated with near earth gravity; a falling object."
   ]
  },
  {
   "cell_type": "markdown",
   "metadata": {},
   "source": [
    "The driving equation for this system comes from Newtons second law.  \n",
    "Assuming mass stays constant, $F=ma$\n",
    "  \n",
    "[Newton's laws](https://en.wikipedia.org/wiki/Newton%27s_laws_of_motion)"
   ]
  },
  {
   "cell_type": "markdown",
   "metadata": {},
   "source": [
    "We are going to write our system of equations using power conjugate variables  \n",
    "Power conjugate variables are a pair of variables whose product is power  \n",
    "  \n",
    "In the translational mechanical system, the power conjugate variables are force, $F$ and velocity, $v$  \n",
    "Consider the SI units  \n",
    "  \n",
    "$F$ in [N] times $v$ in [m/s].  $\\frac{N\\cdot m}{s}=\\frac{J}{s}=W$  \n",
    "  \n",
    "Force times velocity is power  "
   ]
  },
  {
   "cell_type": "markdown",
   "metadata": {},
   "source": [
    "Therefore, we will write Newton's second law as, $F=m\\frac{dv}{dt}$"
   ]
  },
  {
   "cell_type": "markdown",
   "metadata": {},
   "source": [
    "## 1.3.2 Falling object in near earth gravity"
   ]
  },
  {
   "cell_type": "markdown",
   "metadata": {},
   "source": [
    "Newton's inverse square law, $F=G\\frac{m_1\\cdot m_2}{r^2}$,  \n",
    "can be simplified in the near earth case.  \n",
    "  \n",
    "Assume $M_e$ is the earth's mass and $m$ is the object's mass  \n",
    "Assume $R_e$ is the earth's radius.  For objects near earth, $r$ is approximately $R_e$  \n",
    "  \n",
    "$F=\\frac{G\\cdot M_e}{R_e^2}m=\\frac{6.6743\\times10^{−11}\\cdot 5.9724\\times10^{24}}{(6.371\\times10^6)^2}m=9.81m$  \n",
    "  \n",
    "$F = mg$"
   ]
  },
  {
   "cell_type": "markdown",
   "metadata": {},
   "source": [
    "Substitue this into Newton's Law, $mg=m\\frac{dv}{dt}\\Rightarrow\\frac{dv}{dt}=g\\Rightarrow dv=gdt$\n",
    "  \n",
    "integrate both sides\n",
    "\n",
    "$\\int dv=\\int gdt\\Rightarrow v=gt+v_o$  \n",
    "  \n",
    "definition of velocity  \n",
    "  \n",
    "$v=\\frac{dx}{dt}\\Rightarrow dx=(gt+v_o)dt$  \n",
    "  \n",
    "integrate both sides again  \n",
    "  \n",
    "$\\int dx=\\int (gt+v_o)dt\\Rightarrow x=\\frac{1}{2}gt^2+v_ot+x_o$  \n",
    "  \n",
    "You should be very familiar with this equation from physics class!  "
   ]
  },
  {
   "cell_type": "markdown",
   "metadata": {},
   "source": [
    "In the case of zero inital conditions, $x_o=0$ and  $v_o=0$  \n",
    "when the object starts at x = 0 and with zero velocity  \n",
    "  \n",
    "$x=\\frac{1}{2}gt^2$"
   ]
  },
  {
   "cell_type": "markdown",
   "metadata": {},
   "source": [
    "## 1.3.3 Operational Transforms"
   ]
  },
  {
   "cell_type": "markdown",
   "metadata": {},
   "source": [
    "Certian operations can be expressed in the frequency domain  \n",
    "similar to how they are expressed in the time domain  \n",
    "  \n",
    "For example, you can take the derivative of a function, f(t)  \n",
    "You express this in the time domain as, the derivative of f(t) is $\\frac{df(t)}{dt}$  \n",
    "\n",
    "In the frequency domain, the function f(t) is transformed to F(s)  \n",
    "To take the derivative in the frequency domain, simply multiply by, s  \n",
    "You express this in the frequency domain as, the derivative of F(s) is sF(s)"
   ]
  },
  {
   "cell_type": "markdown",
   "metadata": {},
   "source": [
    "This means that the Laplace Transform of $\\frac{df(t)}{dt}$ is sF(s)  \n",
    "This assumes zero initial conditions.  If the initial conditions are not zero then  \n",
    "  \n",
    "$$\\mathcal{L}\\left\\{{\\frac{df(t)}{dt}}\\right\\}=sF(s)-f(0)$$"
   ]
  },
  {
   "cell_type": "markdown",
   "metadata": {},
   "source": [
    "Integrating in the frequency domain can be accomplished simply by dividing by s  \n",
    "  \n",
    "The operational transforms point out one great thing about the Laplace Transform:\n",
    "  \n",
    "${\\large Calculus\\;in\\;the\\;time\\;domain\\;is\\;Algebra\\;in\\;the\\;frequency\\;domain}$"
   ]
  },
  {
   "attachments": {},
   "cell_type": "markdown",
   "metadata": {},
   "source": [
    "The Laplace Transform is a linear transform, so  \n",
    "multiplication by a constant and addition,  \n",
    "behave exactly the same in the time domain as they do in the frequency domain  \n",
    "  \n",
    "The Table of Operational Transforms is shown below  \n",
    "![image1!](./images_s1/image_1_3_1.png)  "
   ]
  },
  {
   "cell_type": "markdown",
   "metadata": {},
   "source": [
    "## 1.3.4 The Laplace Transform of a physical system"
   ]
  },
  {
   "cell_type": "markdown",
   "metadata": {},
   "source": [
    "We described a physical system in the time domain given by the equation $F(t)=m\\frac{dv(t)}{dt}$,  \n",
    "where F(t) is the applied force and v(t) is the velocity  \n",
    "  \n",
    "If we convert this system to the frequency domain, F(t) will become F(s) and v(t) will become v(s)  \n",
    "\n",
    "Force and velocity did not change, they are the same signals in both domains.  \n",
    "It's their representation that changed.  \n",
    "In the frequency domain we view force as a function of frequency and velocity as a function of frequency  \n",
    "\n",
    "To take the derivative, assuming zero initial conditions, we simply multiply by s"
   ]
  },
  {
   "cell_type": "markdown",
   "metadata": {},
   "source": [
    "$$\\mathcal{L}\\left\\{{F(t)=m\\frac{dv(t)}{dt}}\\right\\}\\Rightarrow F(s)=m\\;sv(s)$$"
   ]
  },
  {
   "cell_type": "markdown",
   "metadata": {},
   "source": [
    "For our example of an object falling in near earth gravity, we showed F(t) is just a constant equal to mg.  \n",
    "  \n",
    "But we have to be careful, when we use the Laplace Transform, all signals must be one-sided  "
   ]
  },
  {
   "cell_type": "markdown",
   "metadata": {},
   "source": [
    "## 1.3.5 The Laplace Transform of physical signal"
   ]
  },
  {
   "attachments": {},
   "cell_type": "markdown",
   "metadata": {},
   "source": [
    "When we are holding a ball in the air, it does not move  \n",
    "This is because the force of gravity is balanced by a holding force  \n",
    "  \n",
    "In the figure below, $F_g$ is the force of gravity and $F_h$ is the holding force  \n",
    "  \n",
    "When we drop the ball at t = 0, we remove the holding force  \n",
    "![image2!](./images_s1/image_1_3_2.png)  "
   ]
  },
  {
   "attachments": {},
   "cell_type": "markdown",
   "metadata": {},
   "source": [
    "Because we let go of the ball at t = 0, the applied force, F(t) is a one-sided signal.  \n",
    "  \n",
    "In fact, it looks almost like u(t) as a function of time\n",
    "![image3!](./images_s1/image_1_3_3.png)  "
   ]
  },
  {
   "cell_type": "markdown",
   "metadata": {},
   "source": [
    "The function is not u(t), because the magnitude of the force is 9.81 m [N].  \n",
    "The magnitude of u(t) is 1  \n",
    "  \n",
    "We can multiply u(t) by a constant (9.81 m) to make the step function have a magnitude different than 1  \n",
    "  \n",
    "In this case, it is not the unit step function.  It is a step function."
   ]
  },
  {
   "cell_type": "markdown",
   "metadata": {},
   "source": [
    "We can write the force of gravity as $F(t)=mgu(t)$  \n",
    "  \n",
    "and the Laplace transform as  \n",
    "  \n",
    "$$\\mathcal{L}\\left\\{{F(t)=mgu(t)}\\right\\}\\Rightarrow F(s)=\\frac{mg}{s}$$  "
   ]
  },
  {
   "cell_type": "code",
   "execution_count": 1,
   "metadata": {},
   "outputs": [
    {
     "name": "stdout",
     "output_type": "stream",
     "text": [
      "u_s = 1/s\n",
      "u_t = Heaviside(t)\n"
     ]
    }
   ],
   "source": [
    "import sympy as sym\n",
    "\n",
    "# create symbols\n",
    "t, s = sym.symbols('t s')\n",
    "\n",
    "# define the unit step in time\n",
    "u_t = 1\n",
    "\n",
    "# take the laplace transform\n",
    "u_s = sym.laplace_transform(u_t, t, s, noconds=True)\n",
    "print('u_s =', u_s)\n",
    "\n",
    "# take the inverse Laplace transform\n",
    "u_t = sym.inverse_laplace_transform(u_s, s, t)\n",
    "print('u_t =', u_t)"
   ]
  },
  {
   "cell_type": "code",
   "execution_count": 2,
   "metadata": {},
   "outputs": [
    {
     "name": "stdout",
     "output_type": "stream",
     "text": [
      "F_t = g*m*Heaviside(t)\n",
      "F_s = g*m/s\n"
     ]
    }
   ],
   "source": [
    "# create more symbols\n",
    "m, g = sym.symbols('m g')\n",
    "\n",
    "# define an arbitrary step function\n",
    "F_t = m*g*sym.Heaviside(t)\n",
    "print('F_t =', F_t)\n",
    "\n",
    "# take the Laplace transform\n",
    "F_s = sym.laplace_transform(F_t, t, s, noconds=True)\n",
    "print('F_s =', F_s)"
   ]
  },
  {
   "cell_type": "markdown",
   "metadata": {},
   "source": [
    "## 1.3.6 Solving for signals using Laplace methods"
   ]
  },
  {
   "cell_type": "markdown",
   "metadata": {},
   "source": [
    "The process we are going to use in Fundamentals of Linear Systems has these steps:\n",
    "> 1. Determine the system of equations describing the physical system\n",
    "> 2. Determine the input signal as a function of time\n",
    "> 3. Transform to the frequency domain\n",
    "> 4. Solve for the signal of interest in the frequency domain ( calculus is algebra)\n",
    "> 5. Transform the signal of interest back to the time domain"
   ]
  },
  {
   "cell_type": "markdown",
   "metadata": {},
   "source": [
    "Newton's law\n",
    "1. $F(t) = m\\frac{dv(t)}{dt}$"
   ]
  },
  {
   "cell_type": "markdown",
   "metadata": {},
   "source": [
    "Letting go of a ball, the step response of gravity\n",
    "2. $F(t) = mgu(t)$"
   ]
  },
  {
   "cell_type": "markdown",
   "metadata": {},
   "source": [
    "Lookup the functions of t in the Laplace Transform table\n",
    "3. $F(s)=m\\;sv(s)$  \n",
    "$F(s)=\\frac{mg}{s}$  "
   ]
  },
  {
   "cell_type": "markdown",
   "metadata": {},
   "source": [
    "Set the forces equal and solve\n",
    "4. $\\frac{mg}{s}=m\\;sv(s)$  \n",
    "$v(s)=\\frac{g}{s^2}$"
   ]
  },
  {
   "cell_type": "markdown",
   "metadata": {},
   "source": [
    "Lookup the function of s in the Laplace Transform table\n",
    "5. $v(t)=gr(t)=gt\\;for\\;t>0$"
   ]
  },
  {
   "cell_type": "markdown",
   "metadata": {},
   "source": [
    "If you go back to our previous derivation that integrated the time domain equations  \n",
    "we arrived at the fomula for the velocity  \n",
    "  \n",
    "$v=gt+v_o$  \n",
    "  \n",
    "If we zero the intial conditions, then we have\n",
    "  \n",
    "$v=gt$  \n",
    "  \n",
    "exactly what we derived using the Laplace method in the frequency domain  \n",
    "The beauty of the Laplace method is that the calculus (integration) was accomplished by algebra"
   ]
  },
  {
   "cell_type": "markdown",
   "metadata": {},
   "source": [
    "## 1.3.7 Integrating functions in the frequency domain"
   ]
  },
  {
   "cell_type": "markdown",
   "metadata": {},
   "source": [
    "We have an expression for the velocity in the frequency domain  \n",
    "  \n",
    "$v(s)=\\frac{g}{s^2}$  \n",
    "  \n",
    "To get an expression for the position, we need to integrate; $x(t)=\\int v(t)dt$  \n",
    "  \n",
    "Look at the Table of Operational Transforms above  \n",
    "Integration in the frequency domain is simply dividing by s  \n",
    "  \n",
    "$x(s)=\\frac{v(s)}{s}=\\frac{g}{s^3}$  \n",
    "  \n",
    "Just look up our new frequency domain expression in a Table of Laplace Transforms to go back to the time domain"
   ]
  },
  {
   "cell_type": "markdown",
   "metadata": {},
   "source": [
    "Unfortunately our Laplace Table does not have $g\\cdot \\frac{1}{s^3}$ in the table"
   ]
  },
  {
   "cell_type": "markdown",
   "metadata": {},
   "source": [
    "We could find a bigger table on-line, or we can use sympy to find the Laplace transform"
   ]
  },
  {
   "cell_type": "code",
   "execution_count": 3,
   "metadata": {},
   "outputs": [
    {
     "name": "stdout",
     "output_type": "stream",
     "text": [
      "v_s = g/s**3\n",
      "v_t = g*t**2*Heaviside(t)/2\n"
     ]
    }
   ],
   "source": [
    "# define a function of s\n",
    "v_s = g/s**3\n",
    "print('v_s =', v_s)\n",
    "\n",
    "# take the inverse Laplace transform\n",
    "v_t = sym.inverse_laplace_transform(v_s, s, t)\n",
    "print('v_t =', v_t)"
   ]
  },
  {
   "cell_type": "markdown",
   "metadata": {},
   "source": [
    "Sympy gives us  \n",
    "  \n",
    "$x(t)=\\frac{1}{2}gt^2\\cdot u(t)$  \n",
    "  \n",
    "Great, we got the same equation for x(t) using the Laplace methods  \n",
    "as we did using calculus in the time domain shown above! \n",
    "  \n",
    "The $u(t)$ in the equation above is simply to take care of $t<0$  \n",
    "All signals must be one-sided and $\\frac{1}{2}gt^2$ is not zero for $t<0$  \n",
    "  \n",
    "This could also be handled by writing  \n",
    "  \n",
    "$x(t)=\\frac{1}{2}gt^2$ for $t>0$  "
   ]
  },
  {
   "cell_type": "markdown",
   "metadata": {},
   "source": [
    "Normally, you can't multiply two functions of time such as $\\frac{1}{2}gt^2$ and $u(t)$  \n",
    "Multiplying two signals together is a non-linear process and not allowed in Fundamentals of Linear systems  \n",
    "However, multiplication by a constant is linear and allowed.\n",
    "\n",
    "You must remember that u(t) is a constant for t > 0, that's why you can multiply by u(t)  \n",
    "u(t) is really 1 for t > 0"
   ]
  }
 ],
 "metadata": {
  "kernelspec": {
   "display_name": "Python 3",
   "language": "python",
   "name": "python3"
  },
  "language_info": {
   "codemirror_mode": {
    "name": "ipython",
    "version": 3
   },
   "file_extension": ".py",
   "mimetype": "text/x-python",
   "name": "python",
   "nbconvert_exporter": "python",
   "pygments_lexer": "ipython3",
   "version": "3.7.6"
  }
 },
 "nbformat": 4,
 "nbformat_minor": 4
}
