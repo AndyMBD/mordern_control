{
 "cells": [
  {
   "cell_type": "markdown",
   "metadata": {},
   "source": [
    "# 1.2 The Laplace Transform"
   ]
  },
  {
   "cell_type": "markdown",
   "metadata": {},
   "source": [
    "## 1.2.1 The Representation of signals - signals as a function of time"
   ]
  },
  {
   "cell_type": "markdown",
   "metadata": {},
   "source": [
    "Consider a signal that is a function of time.  \n",
    "It may look like this:  \n",
    "![image1!](./images_s1/image_1_2_1.png)  "
   ]
  },
  {
   "cell_type": "markdown",
   "metadata": {},
   "source": [
    "If you look at the graph at t = 12[s], the pump speed is 16.2[krpm],  \n",
    "and at t = 12.5[s], the pump speed is about 17.8[krpm].  "
   ]
  },
  {
   "cell_type": "markdown",
   "metadata": {},
   "source": [
    "The signal, pump speed, is represented as a function of time.  \n",
    "That means you can specify a time and then determine the value of the signal at that given moment in time."
   ]
  },
  {
   "cell_type": "markdown",
   "metadata": {},
   "source": [
    "## 1.2.2 The Representation of signals - signals as a function of frequency"
   ]
  },
  {
   "cell_type": "markdown",
   "metadata": {},
   "source": [
    "The figure below is a representation of the Pump Speed as a function of frequency  \n",
    "(It not an exact calculation, it's my guess with an explanation that follows)  \n",
    "![image2!](./images_s1/image_1_2_2.png)  "
   ]
  },
  {
   "cell_type": "markdown",
   "metadata": {},
   "source": [
    "It's very important to understand this is the same exact signal (pump speed),  \n",
    "but a different representation of that signal.  \n",
    "  \n",
    "Consider the pump speed versus time, shown in the first figure above.  \n",
    "There is a very strong repetition rate.  The wave repeats its shape 5 times in 5 seconds.  \n",
    "  \n",
    "Notice we counted something over a given period of time.  \n",
    "In other words, we specified a frequency."
   ]
  },
  {
   "cell_type": "markdown",
   "metadata": {},
   "source": [
    "Notice the wave is also made up of exponential decays.  \n",
    "The first decay is actually upside down. It decays from about 15.7[krpm] to 17.8[krpm].  \n",
    "It would keep decaying to a very high value when something happens  \n",
    "to make it change and decay in the other direction.  \n",
    "I would guess a switch is thrown to change the power applied to the pump.  \n",
    "  \n",
    "Let's estimate that initial decay as an exponential wave with a frequency of s = -20[Np/s]  "
   ]
  },
  {
   "cell_type": "markdown",
   "metadata": {},
   "source": [
    "There are two more decaying exponentials contained in the wave.  \n",
    "One that decays from 17.8[krpm] to 16.2[krpm]  \n",
    "The other decays from 16.2[krpm] to 15.7[krpm].  \n",
    "  \n",
    "We can estimate the frequency of each of these exponentials.  \n",
    "Let's guess the first has a frequency of -5[Np/s]  \n",
    "and the second is a little faster at s = -10[Np/s]"
   ]
  },
  {
   "cell_type": "markdown",
   "metadata": {},
   "source": [
    "## 1.2.3 The Laplace Transform"
   ]
  },
  {
   "cell_type": "markdown",
   "metadata": {},
   "source": [
    "The two graphs above show the same exact signal in two different representations.  \n",
    "(I did not perform the real Laplace Transform, I just guessed  \n",
    "The real Laplace Transform mathmatics is too difficult for us at this time,  \n",
    "for the signal shown in the figures.)  "
   ]
  },
  {
   "cell_type": "markdown",
   "metadata": {},
   "source": [
    "Assume we create a variable for pump speed named, $P_s$  \n",
    "We can express the pump speed as a function of time, like $P_s(t)$  \n",
    "Or we can express the same exact signal as a function of frequency, like $P_s(s)$"
   ]
  },
  {
   "cell_type": "markdown",
   "metadata": {},
   "source": [
    "The Laplace Transform is a mathematical tool that can be used to change the representation  \n",
    "![image3!](./images_s1/image_1_2_3.png)  \n",
    "[Laplace Transform](https://en.wikipedia.org/wiki/Laplace_transform)"
   ]
  },
  {
   "cell_type": "markdown",
   "metadata": {},
   "source": [
    "As we learn more about engineering, we will find that the frequency representation  \n",
    "of signals is much more informative than the time representation  "
   ]
  },
  {
   "cell_type": "markdown",
   "metadata": {},
   "source": [
    "## 1.2.4 Signal Domains"
   ]
  },
  {
   "cell_type": "markdown",
   "metadata": {},
   "source": [
    "You will often hear about signals represented in the time domain or the frequency domain  \n",
    "It's just language you need to get used to.  \n",
    "The Laplace Transform transforms signals to the frequency domain  \n",
    "and the Inverse Laplace Transform transforms signals back to the time domain\n",
    "  \n",
    "Any signal, like $P_s$, can be represented in either domain  \n",
    "$P_s(t)$ is the time domain representation, while $P_s(s)$ is the frequency domain representation  \n",
    "  \n",
    "[Time domain](https://en.wikipedia.org/wiki/Time_domain) &emsp;[Function domain](https://en.wikipedia.org/wiki/Domain_of_a_function) &emsp;[Frequency domain](https://en.wikipedia.org/wiki/Frequency_domain)"
   ]
  },
  {
   "cell_type": "markdown",
   "metadata": {},
   "source": [
    "## 1.2.5 Transforming the unit step function"
   ]
  },
  {
   "cell_type": "markdown",
   "metadata": {},
   "source": [
    "Previously we learned about the unit step, u(t)  \n",
    "u(t) is a one-sided exponential function with a frequency of s = 0[Np/s]  \n",
    "The unit step function is also called the Heaviside step function, named after Oliver Heaviside  \n",
    "  \n",
    "[Unit step function](https://en.wikipedia.org/wiki/Heaviside_step_function)"
   ]
  },
  {
   "cell_type": "markdown",
   "metadata": {},
   "source": [
    "The definition of the Laplace Transform is  \n",
    "$$F(s)=\\int_{0}^{\\infty}f(t)e^{-st}dt$$  \n",
    "The input to the Laplace Transform is the time domain representation of a function, f(t)  \n",
    "and that function is transformed to it's frequency domain representation, F(s)  \n",
    "  \n",
    "Notice, the policy in math is that the function name is  \n",
    "changed to a captial letter for the frequency domain representation  \n",
    "  \n",
    "However, in physics this is not always a good policy.  \n",
    "In Fundamentals of Linear Systems, we will not change the signal names to a capital letter  "
   ]
  },
  {
   "cell_type": "markdown",
   "metadata": {},
   "source": [
    "To transform the unit step, the function f(t) is u(t)  \n",
    "and our answer will be u(s), the frequency domain representation of u(t)  \n",
    "For t > 0, u(t) = 1.   \n",
    "  \n",
    "$$u(s)=\\int_{0}^{\\infty}u(t)e^{-st}dt=\\int_{0}^{\\infty}1e^{-st}dt$$  \n",
    "  \n",
    "When the integration is performed over time, the frequency s is considered a constant  \n",
    "  \n",
    "$$u(s)=\\int_{0}^{\\infty}e^{-st}dt=\\left[-\\frac{1}{s}e^{-st}\\right]_{t=0}^{t\\rightarrow\\infty}=\\left[0--\\frac{1}{s}\\right]=\\frac{1}{s}$$ "
   ]
  },
  {
   "cell_type": "markdown",
   "metadata": {},
   "source": [
    "That's it!, the frequency representation of u(t), is $u(s)=\\frac{1}{s}$  \n",
    "We write the Laplace Transform as a script capital L operator as shown below\n",
    "  \n",
    "$$\\mathcal{L}\\left\\{{u(t)}\\right\\}=\\frac{1}{s}$$\n",
    "  \n",
    "The inverse Laplace Transform, just goes back the other way  \n",
    "  \n",
    "$$\\mathcal{L}^{-1}\\left\\{{\\frac{1}{s}}\\right\\}=u(t)$$  \n",
    "  \n",
    "For Fundamentals of Linear Systems, we do not need to rely on performing the integral  \n",
    "Instead, we will have a table and simply look up the Laplace Transform"
   ]
  },
  {
   "cell_type": "markdown",
   "metadata": {},
   "source": [
    "Here is what our table of Laplace Transforms looks like now  \n",
    "![image4!](./images_s1/image_1_2_4.png)  "
   ]
  },
  {
   "cell_type": "code",
   "execution_count": 1,
   "metadata": {},
   "outputs": [
    {
     "data": {
      "image/png": "[encoded data removed]",
      "text/plain": [
       "<Figure size 432x288 with 1 Axes>"
      ]
     },
     "metadata": {
      "needs_background": "light"
     },
     "output_type": "display_data"
    }
   ],
   "source": [
    "#import libraries\n",
    "import numpy as np\n",
    "import matplotlib.pyplot as plt\n",
    "\n",
    "# create a time array\n",
    "t = np.linspace(-1, 1, 1000)\n",
    "\n",
    "#make the one-sided function u(t)\n",
    "u_t = np.exp(0*t)*(np.sign(t)+1)/2\n",
    "\n",
    "# plot the unit step function\n",
    "plt.plot(t, u_t)\n",
    "plt.xlabel('time [s]')\n",
    "plt.ylabel('u(t)')\n",
    "plt.title('The unit step function')\n",
    "plt.grid()"
   ]
  },
  {
   "cell_type": "code",
   "execution_count": 2,
   "metadata": {},
   "outputs": [
    {
     "data": {
      "image/png": "[encoded data removed]",
      "text/plain": [
       "<Figure size 432x288 with 1 Axes>"
      ]
     },
     "metadata": {
      "needs_background": "light"
     },
     "output_type": "display_data"
    }
   ],
   "source": [
    "# create a frequency array\n",
    "s = np.linspace(-1, 1, 50)\n",
    "\n",
    "# make the function u(s)\n",
    "u_s = 1/s\n",
    "\n",
    "# plot the unit step function as a function of frequency\n",
    "plt.plot(s, u_s)\n",
    "plt.xlabel('frequency, s [Np/s]')\n",
    "plt.ylabel('u(s)')\n",
    "plt.title('The unit step function as a function of frequency')\n",
    "plt.grid()"
   ]
  },
  {
   "cell_type": "markdown",
   "metadata": {},
   "source": [
    "Most of the time, when we plot functions of frequency, we only plot the magnitude and not the sign  \n",
    "If we want to plot the sign, we could plot that in a separate graph  \n",
    "  \n",
    "So often, the function of frequncy is shown as two graphs, a magnitude plot and a sign plot"
   ]
  },
  {
   "cell_type": "code",
   "execution_count": 3,
   "metadata": {},
   "outputs": [
    {
     "data": {
      "image/png": "[encoded data removed]",
      "text/plain": [
       "<Figure size 432x288 with 1 Axes>"
      ]
     },
     "metadata": {
      "needs_background": "light"
     },
     "output_type": "display_data"
    }
   ],
   "source": [
    "# create a frequency array\n",
    "s = np.linspace(-1, 1, 50)\n",
    "\n",
    "# make the magnitude of the function u(s)\n",
    "# in numpy, the magnitude is found using the abs function\n",
    "u_s = np.abs(1/s)\n",
    "\n",
    "# plot the unit step function as a function of frequency\n",
    "plt.plot(s, u_s)\n",
    "plt.xlabel('frequency, s [Np/s]')\n",
    "plt.ylabel('magnitude[u(s)]')\n",
    "plt.title('The unit step function as a function of frequency')\n",
    "plt.grid()"
   ]
  },
  {
   "cell_type": "markdown",
   "metadata": {},
   "source": [
    "Notice that for the unit step function, most of the energy is concentrated around s = 0  \n",
    "That makes a lot of sense, seeing the unit step is a one-sided exponential of the form $Ae^{st}$,  \n",
    "with A = 1 and s = 0  \n",
    "  \n",
    "In fact, if the unit step was two-sided, then there would only be energy right at s = 0.  \n",
    "u(s) would be zero at all frequencies except s = 0, where it would have infinite magnitude  \n",
    "  \n",
    "It's the step at t = 0 that causes the higher frequency energy around s = 0"
   ]
  },
  {
   "cell_type": "markdown",
   "metadata": {},
   "source": [
    "## 1.2.6 Transforming an exponential"
   ]
  },
  {
   "cell_type": "markdown",
   "metadata": {},
   "source": [
    "The unit step is the special case of the exponential, when s = 0 [Np/s]  \n",
    "  \n",
    "Let's transform a general exponential.  Assume s is a general constant, like s = a  \n",
    "In this case, a = 5 [Np/s] is a growing exponential and a = -5 [Np/s] is a decaying exponetial  "
   ]
  },
  {
   "cell_type": "markdown",
   "metadata": {},
   "source": [
    "To transform the exponential, assume $f(t)=e^{at}$    \n",
    "and our answer will be f(s), the frequency domain representation of $e^{at}$  \n",
    "  \n",
    "$$f(s)=\\int_{0}^{\\infty}e^{at}e^{-st}dt=\\int_{0}^{\\infty}e^{(a-s)t}dt$$  \n",
    "  \n",
    "For t > 0, u(t) = 1.   \n",
    "When the integration is performed over time, dt  \n",
    "the frequency s is considered a constant  \n",
    "  \n",
    "$$u(s)=\\int_{0}^{\\infty}e^{(a-s)t}dt=\\left[\\frac{1}{a-s}e^{(a-s)t}\\right]_{t=0}^{t\\rightarrow\\infty}=\\left[0-\\frac{1}{a-s}\\right]=\\frac{1}{s-a}$$ "
   ]
  },
  {
   "cell_type": "markdown",
   "metadata": {},
   "source": [
    "If we add this new transform to our table, we get the following  \n",
    "You should see in the table that a frequency of -a is used,  \n",
    "because passive physical systems decay rather than grow  \n",
    "![image5!](./images_s1/image_1_2_5.png)  "
   ]
  },
  {
   "cell_type": "markdown",
   "metadata": {},
   "source": [
    "Put in a = 0 for the frequency of the exponential  \n",
    "Notice the Laplace Transform of the exponential is consistent with the unit step  \n",
    "  \n",
    "The code below plots the magnitude of an exponential signal in the frequency domain "
   ]
  },
  {
   "cell_type": "code",
   "execution_count": 4,
   "metadata": {},
   "outputs": [
    {
     "data": {
      "image/png": "[encoded data removed]",
      "text/plain": [
       "<Figure size 432x288 with 1 Axes>"
      ]
     },
     "metadata": {
      "needs_background": "light"
     },
     "output_type": "display_data"
    }
   ],
   "source": [
    "# create a frequency array\n",
    "s = np.linspace(-10, 10, 51)\n",
    "\n",
    "# assume f(t) = e**-at\n",
    "# make the magnitude plot of the transformed function, f(s)\n",
    "# in numpy, the magnitude is found using the abs function\n",
    "a = 5 # decaying exponential [Np/s]\n",
    "f_s = np.abs(1/(s+a))\n",
    "\n",
    "# plot the exponential function as a function of frequency\n",
    "plt.plot(s, f_s)\n",
    "plt.xlabel('frequency, s [Np/s]')\n",
    "plt.ylabel('magnitude[f(s)]')\n",
    "plt.title('The one-sided exponential function as a function of frequency')\n",
    "plt.grid()"
   ]
  },
  {
   "cell_type": "markdown",
   "metadata": {},
   "source": [
    "Most of the signal's energy is at the frequency s = -a"
   ]
  },
  {
   "cell_type": "markdown",
   "metadata": {},
   "source": [
    "## 1.2.7 The Singularity functions"
   ]
  },
  {
   "cell_type": "markdown",
   "metadata": {},
   "source": [
    "An entire class of functions can be generated by continually integrating or differentiating the unit step  \n",
    "These are called the Singularity functions  \n",
    "We will look at only two more in the class of singularity functions; the integral and the derivative of the unit step  "
   ]
  },
  {
   "cell_type": "markdown",
   "metadata": {},
   "source": [
    "## 1.2.8 The unit impulse function"
   ]
  },
  {
   "cell_type": "markdown",
   "metadata": {},
   "source": [
    "The derivative of the unit step is called the unit impulse  \n",
    "The symbol for the unit impulse is $\\delta(t)$, so we can write  \n",
    "$$\\delta(t)=\\frac{du(t)}{dt}$$\n",
    "  \n",
    "In a symmetrical way, the integral of the unit impulse gives us the unit step  \n",
    "  \n",
    "$$u(t)=\\int_{-\\infty}^{t}\\delta(\\tau)d\\tau$$\n",
    "\n",
    "The unit impulse can be thought of as going to infinity at t = 0 and 0 everywhere else  \n",
    "  \n",
    "But it is very important to understand that the integral of the unit impulse over all time is equal to one!  \n",
    "It's not a rigourous definition of the unit impulse, but the integral of infinity equals one!\n",
    "  \n",
    "[Unit impulse function](https://en.wikipedia.org/wiki/Dirac_delta_function)"
   ]
  },
  {
   "cell_type": "markdown",
   "metadata": {},
   "source": [
    "![image6!](./images_s1/image_1_2_6.png)"
   ]
  },
  {
   "cell_type": "markdown",
   "metadata": {},
   "source": [
    "## 1.2.9 The unit ramp function"
   ]
  },
  {
   "cell_type": "markdown",
   "metadata": {},
   "source": [
    "The integral of the unit step is called the unit ramp  \n",
    "The symbol for the unit ramp is $r(t)$, so we can write  \n",
    "$$r(t)=\\int_{-\\infty}^{t}u(\\tau)d\\tau$$\n",
    "  \n",
    "In a symmetrical way, the derivative of the unit ramp gives us the unit step  \n",
    "  \n",
    "$$u(t)=\\frac{dr(t)}{dt}$$\n",
    "\n",
    "[Unit ramp function](https://en.wikipedia.org/wiki/Ramp_function)"
   ]
  },
  {
   "cell_type": "markdown",
   "metadata": {},
   "source": [
    "![image7!](./images_s1/image_1_2_7.png)"
   ]
  },
  {
   "cell_type": "markdown",
   "metadata": {},
   "source": [
    "## 1.2.10 The Laplace Transform of the singularity functions"
   ]
  },
  {
   "cell_type": "markdown",
   "metadata": {},
   "source": [
    "Let's expand our table of Laplace Transforms to include the singularity functions  \n",
    "![image8!](./images_s1/image_1_2_8.png)"
   ]
  }
 ],
 "metadata": {
  "kernelspec": {
   "display_name": "Python 3",
   "language": "python",
   "name": "python3"
  },
  "language_info": {
   "codemirror_mode": {
    "name": "ipython",
    "version": 3
   },
   "file_extension": ".py",
   "mimetype": "text/x-python",
   "name": "python",
   "nbconvert_exporter": "python",
   "pygments_lexer": "ipython3",
   "version": "3.10.5"
  }
 },
 "nbformat": 4,
 "nbformat_minor": 4
}
