{
 "cells": [
  {
   "cell_type": "markdown",
   "metadata": {},
   "source": [
    "# 3.5 State variable systems"
   ]
  },
  {
   "cell_type": "markdown",
   "metadata": {},
   "source": [
    "## 3.5.1 State variables - static versus dynamical systems"
   ]
  },
  {
   "cell_type": "markdown",
   "metadata": {},
   "source": [
    "In the systems we have been studying, the friction or drag term by itself  \n",
    "describes a static or memoryless system because its output depends upon the present input only  \n",
    "  \n",
    "Ohm's law is such a system, $V(t)=I(t)R$  \n",
    "Assume the resistance is $100\\Omega$ and the current is $20mA$ at $t=5s$; $I(5)=0.02A$  \n",
    "Then you know the voltage is 2V at $t=5s$; $V(5)=2V$  \n",
    "In order to calculate $V(5)$, we only need to know the current at $t=5s$\n",
    "  \n",
    "This is not true of the capacitor or inductor, these elements form a dynamical system with memory  \n",
    "The rule of the inductor states, $V(t)=L\\frac{dI(t)}{dt}$  \n",
    "Let's assume the inductance is 5H and the current is $20mA$ at $t=5s$  \n",
    "  \n",
    "If we try to use the rule of the inductor, we get $V(5)=5\\frac{d(0.02)}{dt}$  \n",
    "but we can't evaluate the derivative because we don't know the slope of the current at $t=5s$  \n",
    "You may want to say the derivative of a constant is zero,  \n",
    "but that presumes the current is not changing at that moment in time.  And we don't know that  \n",
    "  \n",
    "In order to compute the voltage across an inductor  \n",
    "we need more knowledge about the system than just the current, I, at a given moment in time  \n",
    "We say this system has memory  \n",
    "  \n",
    "The voltage across a capacitor, $V(t)=\\frac{1}{C}\\int I(t)dt$, is similiar  \n",
    "Knowing only the current at $t=5s$ will not tell us voltage at $t=5s$  \n",
    "[Dynamical system](https://en.wikipedia.org/wiki/Dynamical_system)  \n",
    "  \n",
    "A state variable is a variable that can store, or remember the current state of a dynamical system  \n",
    "[State variable](https://en.wikipedia.org/wiki/State_variable)  \n",
    "  \n",
    "Knowledge of the state variable at a given moment in time will allow us to compute the remaining system variables,  \n",
    "at that moment, and it will give a reference point to compute the future dynamics of the system  \n",
    "The state variables at $t=0$ define the initial conditions of a system  \n",
    "The initial conditions must always be specified in order to compute the remaining system varaibles as a function of time  \n",
    "You cannot uniquely determine the system variables, without the initial conditions,  \n",
    "even though we have been typically setting them equal to zero "
   ]
  },
  {
   "cell_type": "markdown",
   "metadata": {},
   "source": [
    "## 3.5.2 An example electronic system"
   ]
  },
  {
   "attachments": {},
   "cell_type": "markdown",
   "metadata": {},
   "source": [
    "In electronic systems, state variables are typically the currents through the inductors  \n",
    "and the voltages across the capacitors  \n",
    "  \n",
    "Consider the drawing of the second-order RC lowpass filter  \n",
    "![image1!](./images_s3/image_3_5_1.png)  \n",
    "Kirchhoff's current law tells us all the currents entering a node must equal zero  \n",
    "It's quite easy to see that $I_{R_2}=I_{C_2}$  "
   ]
  },
  {
   "cell_type": "markdown",
   "metadata": {},
   "source": [
    "For this system, let's define the voltages across the capacitors, $V_1$ and $V_2$ as the state variables  \n",
    "and use the Kirchhoff's current law equations to find the equations of the state variables  \n",
    "  \n",
    "First substitute the \"Ohm's law\", $V=IZ$, equations into the system  \n",
    "  \n",
    "$$\\frac{V_{in}-V_1}{R_1}-\\frac{V_1}{\\frac{1}{sC_1}}-\\frac{V_1-V_2}{R_2}=0\\qquad\\qquad and\\qquad\\qquad\\frac{V_1-V_2}{R_2}-\\frac{V_2}{\\frac{1}{sC_2}}=0$$  \n",
    "multiply through to remove fractions  \n",
    "  \n",
    "$$R_2(V_{in}-V_1)-sR_1R_2C_1V_1-R_1(V_1-V_2)=0\\qquad\\qquad and\\qquad\\qquad V_1-V_2-sR_2C_2V_2=0$$  \n",
    "  \n",
    "rearrange\n",
    "$$sR_1R_2C_1V_1=-(R_1+R_2)V_1+R_1V_2+R_2V_{in}\\qquad\\qquad and\\qquad\\qquad sR_2C_2V_2=V_1-V_2$$  \n",
    "  \n",
    "and finally divide to make the first coefficient equal s  \n",
    "  \n",
    "$$sV_1=\\frac{-(R_1+R_2)}{R_1R_2C_1}V_1+\\frac{1}{R_2C_1}V_2+\\frac{1}{R_1C_1}V_{in}\\qquad\\qquad and\\qquad\\qquad sV_2=\\frac{1}{R_2C_2}V_1-\\frac{1}{R_2C_2}V_2$$  \n",
    "  \n",
    "Let's just stop there, but we'll come back to this system later"
   ]
  },
  {
   "cell_type": "markdown",
   "metadata": {},
   "source": [
    "## 3.5.3 Populations dynamics"
   ]
  },
  {
   "attachments": {},
   "cell_type": "markdown",
   "metadata": {},
   "source": [
    "Population dynamics describes population as a dynamical system,  \n",
    "where the population is the state variable  \n",
    "[Population dynamics](https://en.wikipedia.org/wiki/Population_dynamics)  \n",
    "  \n",
    "Consider the population is a number of people, N.  The variable N is the state variable  \n",
    "We can create a system diagram as shown below  \n",
    "![image2!](./images_s3/image_3_5_2.png)  \n",
    "The green line in the diagram represents the growth of population  \n",
    "where, r, is the rate of growth\n",
    "We read this diagram as saying the green line is adding to the population at a constant rate,  \n",
    "so the change in population is proportional to the current population  \n",
    "  \n",
    "$$\\frac{dN}{dt}=rN$$  \n",
    "$rN$ is the number of babies being added to the population,  \n",
    "so r has the units of number of babies per person per unit time  \n",
    "  \n",
    "We can convert this to the frequency domain  \n",
    "  \n",
    "$$sN=rN\\Rightarrow (s-r)N=0\\qquad or\\qquad N=0$$  \n",
    "The model shows the population is zero because our initial condition (initial state) was zero  \n",
    "  \n",
    "If we include initial conditions, we will get a response  \n",
    "(lookup the operational transform for derivatives in the Laplace table to see how to include the initial condition)  \n",
    "  \n",
    "$$sN-N_0=rN\\Rightarrow N=\\frac{N_0}{s-r}$$  \n",
    "which, when converted back to the time domain is  \n",
    "  \n",
    "$$N=N_0e^{rt}$$  \n",
    "  \n",
    "or exponential growth"
   ]
  },
  {
   "cell_type": "markdown",
   "metadata": {},
   "source": [
    "## 3.5.4 Transfer functions can't contain initial conditions"
   ]
  },
  {
   "cell_type": "markdown",
   "metadata": {},
   "source": [
    "We learned previously that when included, initial conditions create an affine linearity  \n",
    "and such systems are not linear systems  \n",
    "Intitial conditions must come from an input source, typically an impulse function  \n",
    "  \n",
    "Let's define the variable, $u(t)$ to be the input to the system  \n",
    "The state equation becomes  \n",
    "  \n",
    "$$\\frac{dN(t)}{dt}=rN(t)+u(t)$$\n",
    "if we convert this to the frequency domain, we get  \n",
    "  \n",
    "$$sN(s)=rN(s)+u(s)$$  \n",
    "If the input is an impulse equal to the initial population, then $u(t)=N_0\\delta(t)\\Rightarrow u(s)=N_0$  \n",
    "  \n",
    "giving us the same exact equation we found above by specifying an initial condition  \n",
    "However, now we can write a transfer function  \n",
    "  \n",
    "$$H(s)=\\frac{N(s)}{u(s)}=\\frac{1}{s-r}$$  "
   ]
  },
  {
   "cell_type": "markdown",
   "metadata": {},
   "source": [
    "## 3.5.5 Writing the system as a matrix equation"
   ]
  },
  {
   "cell_type": "markdown",
   "metadata": {},
   "source": [
    "All of the terms we used so far have been scalar terms  \n",
    "so the matrices we write will all be 1x1 matrices, but the matrix notation will be more useful  \n",
    "as we move on to higher order systems  \n",
    "First order systems result in 1x1 matrices  \n",
    "  \n",
    "Consider the equation $sN=rN+u$  \n",
    "we will write the state variable as a 1x1 matrix, $\\begin{bmatrix}N\\end{bmatrix}$, \n",
    "the rate as a 1x1 matrix, $\\begin{bmatrix}r\\end{bmatrix}$, \n",
    "and the input as a 1x1 matrix,  $\\begin{bmatrix}u\\end{bmatrix}$  \n",
    "additionally, we will include a 1x1 coefficient matrix for the input, but we will use scalar mutliplication for s  \n",
    "The system equation becomes  \n",
    "$$s\\begin{bmatrix}N\\end{bmatrix}=\\begin{bmatrix}r\\end{bmatrix}\\begin{bmatrix}N\\end{bmatrix}+\\begin{bmatrix}1\\end{bmatrix}\\begin{bmatrix}u\\end{bmatrix}$$  \n",
    "This is a famous equation and is written in a generalized form, with generalized variables names  \n",
    "The form most often used is  \n",
    "  \n",
    "$$s\\begin{bmatrix}x\\end{bmatrix}=\\begin{bmatrix}A\\end{bmatrix}\\begin{bmatrix}x\\end{bmatrix}+\\begin{bmatrix}B\\end{bmatrix}\\begin{bmatrix}u\\end{bmatrix}$$  \n",
    "where x is a state variable matrix,  \n",
    "A and B are coefficient matrices,  \n",
    "and u is the input matrix  \n",
    "  \n",
    "This is such a common form, you typically do not use the matrix notation  \n",
    "One simply assumes you know the variables are matricies  \n",
    "  \n",
    "$$sx=Ax+Bu$$  \n",
    "in the time domain, this equation is often seen as  \n",
    "  \n",
    "$$\\dot x=Ax+Bu$$  "
   ]
  },
  {
   "cell_type": "markdown",
   "metadata": {},
   "source": [
    "## 3.5.6 A more complicated population model"
   ]
  },
  {
   "attachments": {},
   "cell_type": "markdown",
   "metadata": {},
   "source": [
    "The system shown below contains two states  \n",
    "  \n",
    "One state variable is the population, while the other is the  \n",
    "total number of number of people removed from the population by emmigration or death  \n",
    "The terms, $\\beta$ and $\\delta$, refer to the birth rate and removal rate  \n",
    "while the term, $\\epsilon$, is the rate of people emmigrating back to the population\n",
    "![image3!](./images_s3/image_3_5_3.png)  \n",
    "We can write the system equations as follows  \n",
    "  \n",
    "The change in population equals those added by birth or emmigration back minus those taken away by death or emmigration out  \n",
    "  \n",
    "$$\\frac{dN}{dt}=\\beta N-\\delta N+\\epsilon R$$  \n",
    "Notice, this still predicts exponential growth as long as the birth rate is greater than the removal rate and $\\epsilon=0$  \n",
    "  \n",
    "$$\\epsilon=0,\\;r\\equiv(\\beta-\\delta)\\Rightarrow\\frac{dN}{dt}=rN$$  \n",
    "For the second state variable, the change in the number removed is  \n",
    "  \n",
    "$$\\frac{dR}{dt}=\\delta N-\\epsilon R$$  \n",
    "Notice, this equation couples the two system equations  \n",
    "the two states depend on each other  \n",
    "  \n",
    "Converting to the s-domain yields  \n",
    "$$sN=rN+\\epsilon R\\qquad and\\qquad sR=\\delta N-\\epsilon R$$  \n",
    "we can write these two equations in matrix form  \n",
    "  \n",
    "$$s\\begin{bmatrix}N\\\\R\\end{bmatrix}=\\begin{bmatrix}r&\\epsilon\\\\\\delta&-\\epsilon\\end{bmatrix}\\begin{bmatrix}N\\\\R\\end{bmatrix}$$  \n",
    "Finally, we can start the population by adding an input to the system  \n",
    "  \n",
    "$$s\\begin{bmatrix}N\\\\R\\end{bmatrix}=\\begin{bmatrix}r&\\epsilon\\\\\\delta&-\\epsilon\\end{bmatrix}\\begin{bmatrix}N\\\\R\\end{bmatrix}+\\begin{bmatrix}1\\\\0\\end{bmatrix}\\begin{bmatrix}u\\end{bmatrix}$$"
   ]
  },
  {
   "cell_type": "markdown",
   "metadata": {},
   "source": [
    "## 3.5.7 Writing state variable systems in python"
   ]
  },
  {
   "cell_type": "markdown",
   "metadata": {},
   "source": [
    "The equation above, is great at describing the system, however,  \n",
    "it does not produce an independent equation for a state variable, N or R  \n",
    "  \n",
    "We need a new equation to independently extract the variable of interest  \n",
    "This is called the output equation and it's very simple, $N=N$  \n",
    "  \n",
    "$$N=\\begin{bmatrix}1&0\\end{bmatrix}\\begin{bmatrix}N\\\\R\\end{bmatrix}+\\begin{bmatrix}0\\end{bmatrix}$$  \n",
    "In the general form, the output equation for state variable system is  \n",
    "  \n",
    "$$y=\\begin{bmatrix}C\\end{bmatrix}\\begin{bmatrix}x\\end{bmatrix}+\\begin{bmatrix}D\\end{bmatrix}$$  \n",
    "overall, the state space equation is   \n",
    "  \n",
    "$$sx=Ax+Bu$$  \n",
    "$$y=Cx+D$$  \n",
    "  \n",
    "The example below enters the population model in state space form  \n",
    "  \n",
    "$A=\\begin{bmatrix}r&\\epsilon\\\\\\delta&-\\epsilon\\end{bmatrix}$  \n",
    "  \n",
    "$B=\\begin{bmatrix}1\\\\0\\end{bmatrix}$  \n",
    "  \n",
    "$C=\\begin{bmatrix}1&0\\end{bmatrix}$  \n",
    "  \n",
    "$D=\\begin{bmatrix}0\\end{bmatrix}$  "
   ]
  },
  {
   "cell_type": "code",
   "execution_count": 1,
   "metadata": {},
   "outputs": [
    {
     "data": {
      "image/png": "[encoded data removed]",
      "text/plain": [
       "<Figure size 432x288 with 1 Axes>"
      ]
     },
     "metadata": {
      "needs_background": "light"
     },
     "output_type": "display_data"
    }
   ],
   "source": [
    "import scipy.signal as sig\n",
    "import matplotlib.pyplot as plt\n",
    "\n",
    "# enter constants\n",
    "# for this example, let's not use SI units \n",
    "# we will use years for the time unit rather than seconds\n",
    "r = 0.025\n",
    "d = 0.0125\n",
    "e = 0.002\n",
    "\n",
    "# enter the state space matricies\n",
    "A = [[r, e],[d, -e]]\n",
    "B = [[1], [0]]\n",
    "C = [[1, 0]]\n",
    "D = [[0]]\n",
    "\n",
    "#create the lti object\n",
    "H_s = sig.lti(A, B, C, D)\n",
    "\n",
    "# Find the unit impulse response of the system\n",
    "# assumes the population starts with 1 person\n",
    "t, N = H_s.impulse()\n",
    "plt.plot(t, N)\n",
    "plt.xlabel('time [years]')\n",
    "plt.ylabel('Number of people')\n",
    "plt.title('Population model showing exponential growth')\n",
    "plt.grid()"
   ]
  },
  {
   "cell_type": "markdown",
   "metadata": {},
   "source": [
    "## 3.5.8 Finding the transfer function"
   ]
  },
  {
   "cell_type": "markdown",
   "metadata": {},
   "source": [
    "Of course, the population model predicts exponential growth,  \n",
    "because the rates entering the population are larger than the rates leaving  \n",
    "  \n",
    "But what if we want to wrtie a transfer function for the system?  \n",
    "We can write a transfer function for this system, by substitution  \n",
    "  \n",
    "For example, if we want a transfer function for the population, N, we first solve the bottom equation in the matrix for R  \n",
    "The matrix equation is repeated below so you can see the bottom equation is $sR=\\delta N-\\epsilon R$\n",
    "  \n",
    "$$s\\begin{bmatrix}N\\\\R\\end{bmatrix}=\\begin{bmatrix}r&\\epsilon\\\\\\delta&-\\epsilon\\end{bmatrix}\\begin{bmatrix}N\\\\R\\end{bmatrix}+\\begin{bmatrix}1\\\\0\\end{bmatrix}\\begin{bmatrix}u\\end{bmatrix}$$  \n",
    "solving for R gives  \n",
    "  \n",
    "$$R=\\frac{\\delta N}{s+\\epsilon}$$  \n",
    "then substitute into the top equation in the matrix  \n",
    "$$sN=rN+\\epsilon\\left(\\frac{\\delta N}{s+\\epsilon}\\right)+u$$  \n",
    "collecting terms  \n",
    "$$\\left(s-r-\\frac{\\epsilon\\delta}{s+\\epsilon}\\right)N=u$$  \n",
    "then writing the transfrer function  \n",
    "  \n",
    "$$H(s)=\\frac{N}{u}=\\frac{s+\\epsilon}{s^2+(\\epsilon-r)s-(\\epsilon r+\\epsilon\\delta)}$$\n",
    "  \n",
    "All of the algebra is a pain  \n",
    "But Python has a method to convert a state space representation to a transfer function  \n",
    "  \n",
    "[State space attributes and methods](https://docs.scipy.org/doc/scipy/reference/generated/scipy.signal.StateSpace.html#scipy.signal.StateSpace)  \n",
    "Scroll down to see the attributes and methods"
   ]
  },
  {
   "cell_type": "code",
   "execution_count": 2,
   "metadata": {},
   "outputs": [
    {
     "name": "stdout",
     "output_type": "stream",
     "text": [
      "TransferFunctionContinuous(\n",
      "array([1.   , 0.002]),\n",
      "array([ 1.0e+00, -2.3e-02, -7.5e-05]),\n",
      "dt: None\n",
      ")\n"
     ]
    },
    {
     "name": "stderr",
     "output_type": "stream",
     "text": [
      "C:\\Apps-SU\\Anaconda\\lib\\site-packages\\scipy\\signal\\filter_design.py:1622: BadCoefficients: Badly conditioned filter coefficients (numerator): the results may be meaningless\n",
      "  \"results may be meaningless\", BadCoefficients)\n"
     ]
    }
   ],
   "source": [
    "print(H_s.to_tf())"
   ]
  },
  {
   "cell_type": "markdown",
   "metadata": {},
   "source": [
    "For the trasfer function, Python returns  \n",
    "  \n",
    "$H(s)=\\frac{s+0.002}{s^2-0.023s-0.000075}$  \n",
    "  \n",
    "Plug the values for r, $\\delta$, and $\\epsilon$ into the transfer function to see for yourself  \n",
    "  \n",
    "Python warns us that our filter coefficients may blow up to infinity  \n",
    "of course they do, it's a population model, not a filter!  \n",
    "Python reports this warning for many valid systems, it's up to you as the engineer to decide  \n",
    "if the warning is valid or not  "
   ]
  },
  {
   "cell_type": "markdown",
   "metadata": {},
   "source": [
    "## 3.5.9 State space, transfer function, and zpk forms"
   ]
  },
  {
   "cell_type": "markdown",
   "metadata": {},
   "source": [
    "There are actually, three forms that Python allows for linear time invariant systems  \n",
    "We have just seen the state space representation and the transfer function  \n",
    "The third form is called zpk, for zeros, poles, and a constant gain \n",
    "  \n",
    "Python allows the lti system to be entered as any one of these  \n",
    "(2 parameters - transfer function, 3 parameters - zpk, 4 parameters - state space)   \n",
    "[lti system](https://docs.scipy.org/doc/scipy/reference/generated/scipy.signal.lti.html#scipy.signal.lti)  \n",
    "  \n",
    "The lti methods, also allow you to convert the system back and forth to any representation  \n",
    "  \n",
    "The code cell below converts the system to its zpk representation  \n",
    "  \n",
    "The second order system has two poles  \n",
    "The pole on the positive side of the real axis of the s-plane is causing the exponential growth"
   ]
  },
  {
   "cell_type": "code",
   "execution_count": 3,
   "metadata": {},
   "outputs": [
    {
     "name": "stdout",
     "output_type": "stream",
     "text": [
      "ZerosPolesGainContinuous(\n",
      "array([-0.002]),\n",
      "array([ 0.02589618, -0.00289618]),\n",
      "1.0,\n",
      "dt: None\n",
      ")\n"
     ]
    }
   ],
   "source": [
    "print(H_s.to_zpk())"
   ]
  },
  {
   "cell_type": "markdown",
   "metadata": {},
   "source": [
    "## 3.5.10 The interesting stuff is non-linear"
   ]
  },
  {
   "cell_type": "markdown",
   "metadata": {},
   "source": [
    "Of course, Fundamentals of Linear Systems is about linear systems  \n",
    "You need to understand linear systems and their limitations and value before you can study more complex systems  \n",
    "Linear systems can be solved explicitly  \n",
    "The solution in the time domain is the natural response -  \n",
    "a bunch of exponentials added together, plus the forced response  \n",
    "  \n",
    "Non-linear systems must be solved by linearization, numerically, or other means  \n",
    "  \n",
    "Let's look at some famous non-linear systems,  \n",
    "that you may learn to solve in your upper division courses  "
   ]
  },
  {
   "cell_type": "markdown",
   "metadata": {},
   "source": [
    "## 3.5.11 The Lotka–Volterra equations"
   ]
  },
  {
   "attachments": {},
   "cell_type": "markdown",
   "metadata": {},
   "source": [
    "The Lotka–Volterra equations  \n",
    "describe the famous preditor prey model    \n",
    "![image4!](./images_s3/image_3_5_4.png)  \n",
    "Notice, the rate at which rabbits are eaten by the foxes depends on the number of foxes  \n",
    "But the number eaten still depends on the population of rabbits as it did before  \n",
    "  \n",
    "Also, the birth rate for foxes depends on the number of rabbits  \n",
    "It's the population dependent rates that cause the system to be non-linear  \n",
    "A linear time invariant system must have constant rates  \n",
    "  \n",
    "[Lotka–Volterra equations](https://en.wikipedia.org/wiki/Lotka%E2%80%93Volterra_equations)  \n",
    "We can write the system equations from the state diagram  \n",
    "(we don't need the equations for the amount removed)  \n",
    "$$\\frac{dx}{dt}=\\alpha x-\\beta yx$$  \n",
    "$$\\frac{dy}{dt}=\\delta xy-\\gamma y$$  \n",
    "  \n",
    "It's the product of two signals, $x$ times $y$, that introduces the non-linearity  \n",
    "Unfortunately, we can't solve this system by the methods we are learning  "
   ]
  },
  {
   "cell_type": "markdown",
   "metadata": {},
   "source": [
    "## 3.5.12 The SIR model for infectious disease"
   ]
  },
  {
   "attachments": {},
   "cell_type": "markdown",
   "metadata": {},
   "source": [
    "A simple, but non-linear model for infectious disease is  \n",
    "[SIR Model](https://en.wikipedia.org/wiki/Compartmental_models_in_epidemiology)  \n",
    "![image5!](./images_s3/image_3_5_5.png)  \n",
    "The system equations are  \n",
    "  \n",
    "$$\\frac{dS}{dt}=-\\frac{\\beta}{N}IS$$  \n",
    "$$\\frac{dI}{dt}=\\frac{\\beta}{N}IS-\\gamma I$$  \n",
    "$$\\frac{dR}{dt}=\\gamma I$$  \n",
    "where, N is a constant equal to the total population  \n",
    "  \n",
    "Again, the rate depends on the number infected, and that causes the non-linearity  \n",
    "  \n",
    "If we simply assume the rate of infections is constant, equal to $\\frac{\\beta}{N}$,  \n",
    "then we can write a third-order state space matrix equation for the system  \n",
    "  \n",
    "$$s\\begin{bmatrix}S\\\\I\\\\R\\end{bmatrix}=\\begin{bmatrix}-\\frac{\\beta}{N}&0&0\\\\\\frac{\\beta}{N}&-\\gamma&0\\\\0&\\gamma&0\\end{bmatrix}\\begin{bmatrix}S\\\\I\\\\R\\end{bmatrix}+\\begin{bmatrix}N\\\\1\\\\0\\end{bmatrix}\\begin{bmatrix}u\\end{bmatrix}$$  \n",
    "The code cell below solves the system  "
   ]
  },
  {
   "cell_type": "code",
   "execution_count": 4,
   "metadata": {},
   "outputs": [
    {
     "data": {
      "image/png": "[encoded data removed]",
      "text/plain": [
       "<Figure size 432x288 with 1 Axes>"
      ]
     },
     "metadata": {
      "needs_background": "light"
     },
     "output_type": "display_data"
    }
   ],
   "source": [
    "import numpy as np\n",
    "\n",
    "# enter constants\n",
    "# use days for the time unit instead of seconds\n",
    "b = 5000 # interactions per person per day \n",
    "# this term must be higher than expected because the rate remains constant \n",
    "# and does not grow with infections as in the real non-linear model\n",
    "N = 100000 # total population\n",
    "g = 0.07 # 1/days (days a person remains contagious)\n",
    "\n",
    "# enter the state space matricies\n",
    "A = [[-b/N, 0, 0], [b/N, -g, 0], [0, g, 0]]\n",
    "B = [[N], [1], [0]]\n",
    "D = [[0]]\n",
    "\n",
    "# create the lti object for susceptible\n",
    "C = [[1, 0, 0]]\n",
    "S_s = sig.lti(A, B, C, D)\n",
    "\n",
    "# create the lti object for infectious\n",
    "C = [[0, 1, 0]]\n",
    "I_s = sig.lti(A, B, C, D)\n",
    "\n",
    "# create the lti object for recovered\n",
    "C = [[0, 0, 1]]\n",
    "R_s = sig.lti(A, B, C, D)\n",
    "\n",
    "# create a time array\n",
    "t = np.linspace(0, 100, 1000)\n",
    "\n",
    "# Find the unit impulse response of the system\n",
    "t, S = S_s.impulse(T=t)\n",
    "t, I = I_s.impulse(T=t)\n",
    "t, R = R_s.impulse(T=t)\n",
    "plt.plot(t, S)\n",
    "plt.plot(t, I)\n",
    "plt.plot(t, R)\n",
    "plt.xlabel('time [days]')\n",
    "plt.ylabel('Number of people')\n",
    "plt.legend(['Susceptible', 'Infectious', 'Recovered'])\n",
    "plt.title('Linear version of the SIR model')\n",
    "plt.grid()"
   ]
  },
  {
   "cell_type": "markdown",
   "metadata": {},
   "source": [
    "The plot above starts with one infected individual  \n",
    "and according to this model, the whole population is infected and recovers within 100 days  \n",
    "  \n",
    "This is a graph of the first wave of infections  \n",
    "Mathematically, this simple model cannot have complex poles  \n",
    "Complex poles induced from the non-linearity, which we did not include, can cause the second and subsequent waves"
   ]
  },
  {
   "cell_type": "markdown",
   "metadata": {},
   "source": [
    "## 3.5.13 Electronic systems"
   ]
  },
  {
   "cell_type": "markdown",
   "metadata": {},
   "source": [
    "In the beginning, we introduced an RC filter  \n",
    "We took the time to derive the equations,  \n",
    "but the algebra required to produce a transfer function is quite tediuos.  \n",
    "We don't have to do it. We can let python do it for us!  \n",
    "  \n",
    "The system equations are repeated here  \n",
    "\n",
    "$$sV_1=\\frac{-(R_1+R_2)}{R_1R_2C_1}V_1+\\frac{1}{R_2C_1}V_2+\\frac{1}{R_1C_1}V_{in}\\qquad\\qquad and\\qquad\\qquad sV_2=\\frac{1}{R_2C_2}V_1-\\frac{1}{R_2C_2}V_2$$  \n",
    "  \n",
    "You should recognize these as state space equations  \n",
    "\n",
    "The RC system is a second order system, but can be written as coupled first order differential equations  \n",
    "  \n",
    "High order systems (the transfer function)  \n",
    "can alway be represented as a system of coupled first order differential equations (the state space representation)\n",
    "  \n",
    "The code cells below calculate the transfer function, zeros and poles, and the Bode plot"
   ]
  },
  {
   "cell_type": "code",
   "execution_count": 5,
   "metadata": {},
   "outputs": [
    {
     "name": "stdout",
     "output_type": "stream",
     "text": [
      "TransferFunctionContinuous(\n",
      "array([1000000.]),\n",
      "array([1.00e+00, 1.02e+04, 1.00e+06]),\n",
      "dt: None\n",
      ")\n"
     ]
    },
    {
     "name": "stderr",
     "output_type": "stream",
     "text": [
      "C:\\Apps-SU\\Anaconda\\lib\\site-packages\\scipy\\signal\\filter_design.py:1622: BadCoefficients: Badly conditioned filter coefficients (numerator): the results may be meaningless\n",
      "  \"results may be meaningless\", BadCoefficients)\n"
     ]
    }
   ],
   "source": [
    "# enter constants\n",
    "R1 = 1e3 # Ohms\n",
    "C1 = 100e-9 # Farads\n",
    "R2 = 1e5 # Ohms\n",
    "C2 = 100e-9 # Farads\n",
    "\n",
    "# enter the state space matricies\n",
    "A = [[-(R1+R2)/(R1*R2*C2), 1/(R2*C1)], [1/(R2*C2), -1/(R2*C2)]]\n",
    "B = [[1/(R1*C1)], [0]]\n",
    "C = [[0, 1]]\n",
    "D = [[0]]\n",
    "\n",
    "# create the lti object for V2\n",
    "H_s = sig.lti(A, B, C, D)\n",
    "\n",
    "print(H_s.to_tf())"
   ]
  },
  {
   "cell_type": "code",
   "execution_count": 6,
   "metadata": {},
   "outputs": [
    {
     "name": "stdout",
     "output_type": "stream",
     "text": [
      "ZerosPolesGainContinuous(\n",
      "array([], dtype=float64),\n",
      "array([-10100.99990002,    -99.00009998]),\n",
      "1000000.0,\n",
      "dt: None\n",
      ")\n"
     ]
    }
   ],
   "source": [
    "print(H_s.to_zpk())"
   ]
  },
  {
   "cell_type": "code",
   "execution_count": 7,
   "metadata": {},
   "outputs": [
    {
     "data": {
      "image/png": "[encoded data removed]",
      "text/plain": [
       "<Figure size 432x288 with 1 Axes>"
      ]
     },
     "metadata": {
      "needs_background": "light"
     },
     "output_type": "display_data"
    }
   ],
   "source": [
    "# define  an array of frequencies\n",
    "w = np.linspace(-1, 6, 1000)\n",
    "w = 10**w\n",
    "w, mag, phase = H_s.bode(w=w)\n",
    "plt.plot(w, mag)\n",
    "plt.xscale('log')\n",
    "plt.xlabel('radial frequency [rad/s]')\n",
    "plt.ylabel('magnitude H(s) in dB')\n",
    "plt.title('Bode plot from state space representation')\n",
    "plt.grid()"
   ]
  }
 ],
 "metadata": {
  "kernelspec": {
   "display_name": "Python 3",
   "language": "python",
   "name": "python3"
  },
  "language_info": {
   "codemirror_mode": {
    "name": "ipython",
    "version": 3
   },
   "file_extension": ".py",
   "mimetype": "text/x-python",
   "name": "python",
   "nbconvert_exporter": "python",
   "pygments_lexer": "ipython3",
   "version": "3.7.6"
  }
 },
 "nbformat": 4,
 "nbformat_minor": 4
}
