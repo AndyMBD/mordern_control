{
 "cells": [
  {
   "cell_type": "markdown",
   "metadata": {},
   "source": [
    "# 2.2 Steady State Analysis - The phasor method"
   ]
  },
  {
   "cell_type": "markdown",
   "metadata": {},
   "source": [
    "## 2.2.1 Real frequencies and Imaginary frequencies"
   ]
  },
  {
   "attachments": {},
   "cell_type": "markdown",
   "metadata": {},
   "source": [
    "We learned that when $s$ is a real number it describes an exponential wave with frequency in [Np/s]  \n",
    "  \n",
    "We also learned that when $s$ is an imaginary number it describes a sin/cos wave with frequency in [rad/s]  \n",
    "  \n",
    "We learned that the time domain expression $Ae^{-at}$ transforms to $\\frac{A}{s+a}$ in the frequency domain  \n",
    "  \n",
    "So how do we transform sin/cos waves to the frquency domain?  \n",
    "It's very easy, just look it up in the Laplace transform table  \n",
    "  \n",
    "The table is repeated here for convenience  \n",
    "![image1!](./images_s2/image_2_2_1.png)  "
   ]
  },
  {
   "cell_type": "markdown",
   "metadata": {},
   "source": [
    "## 2.2.2 Transforming sin/cos into the frequency domain"
   ]
  },
  {
   "cell_type": "markdown",
   "metadata": {},
   "source": [
    "Our general equation for a single-sided sin/cos wave is  \n",
    "  \n",
    "$$sin/cos\\;wave\\equiv f(t)=\\frac{A}{2}e^{st}+\\frac{A^*}{2}e^{s^*t}$$  \n",
    "where $A$ is a phasor, or complex number, which describes the magnitude and phase of the sin/cos wave  \n",
    "and $s$ is an imaginary frequency in [rad/s]  \n",
    "  \n",
    "In order to transform the equation to the frequency domain, we must pick a specific frequency for $s$  \n",
    "In this case, $s=j\\omega$.  To match this with the table, $a=j\\omega$  \n",
    "The Laplace transform comes right from the table  \n",
    "  \n",
    "\n",
    "$$\\mathcal{L}\\left\\{\\frac{A}{2}e^{j\\omega t}+\\frac{A^*}{2}e^{-j\\omega t}\\right\\}=\\frac{\\frac{A}{2}}{s-j\\omega}+\\frac{\\frac{A^*}{2}}{s+j\\omega}$$  \n",
    "It doesn't matter if $A$ and $a$ are real, imaginary, or complex numbers,  \n",
    "they are numbers and the transform works just the same  \n",
    "  \n",
    "It is always easier to leave the Laplace transform in the form you see above  \n",
    "so that is what we will do for Fundamentals of Linear Systems  \n",
    "  \n",
    "Most people people like to write the trigonometric form of sin or cos  \n",
    "For cos, the phasor $A$ is a real number pointing to the right on the real axis  \n",
    "The phasor is $A_m\\;\\angle0^\\circ$, or simply $A_m$ is a real number   \n",
    "\n",
    "  \n",
    "$$\\mathcal{L}\\left\\{A_mcos(\\omega t)\\right\\}=\\frac{\\frac{A_m}{2}}{s-j\\omega}+\\frac{\\frac{A_m}{2}}{s+j\\omega}$$  \n",
    "make a common denominator  \n",
    "$$\\mathcal{L}\\left\\{A_mcos(\\omega t)\\right\\}=\\frac{\\frac{A_m(s+j\\omega)}{2}}{(s-j\\omega)(s+j\\omega)}+\\frac{\\frac{A_m(s-j\\omega)}{2}}{(s+j\\omega)(s-j\\omega)}$$  \n",
    "add the terms and simplify  \n",
    "$$\\mathcal{L}\\left\\{A_mcos(\\omega t)\\right\\}=\\frac{A_ms}{s^2+\\omega^2}$$  \n",
    "  \n",
    "For sin, the phasor $A$ is an imaginary number pointing down on the negative imaginary axis  \n",
    "A sin wave is phase shifted by $-90^\\circ$ from cos. The phasor is $A_m\\;\\angle-90^\\circ$  \n",
    "In this case, $A=-A_mj$ and $A^*=A_mj$  \n",
    "  \n",
    "$$\\mathcal{L}\\left\\{A_msin(\\omega t)\\right\\}=\\frac{\\frac{-A_mj}{2}}{s-j\\omega}+\\frac{\\frac{A_mj}{2}}{s+j\\omega}$$  \n",
    "make a common denominator  \n",
    "$$\\mathcal{L}\\left\\{A_msin(\\omega t)\\right\\}=\\frac{\\frac{-A_mj(s+j\\omega)}{2}}{(s-j\\omega)(s+j\\omega)}+\\frac{\\frac{A_mj(s-j\\omega)}{2}}{(s+j\\omega)(s-j\\omega)}$$  \n",
    "add the terms and simplify  \n",
    "$$\\mathcal{L}\\left\\{A_msin(\\omega t)\\right\\}=\\frac{A_m\\omega}{s^2+\\omega^2}$$  \n",
    "  \n",
    "That the Laplace transform of the trigonometric form of sin/cos,  \n",
    "however, it's easier to use the exponential form of sin/cos rather the trigonometric form  "
   ]
  },
  {
   "cell_type": "markdown",
   "metadata": {},
   "source": [
    "## 2.2.3 Drive a physical system with a sin/cos wave"
   ]
  },
  {
   "attachments": {},
   "cell_type": "markdown",
   "metadata": {},
   "source": [
    "Now that we can Transform sin/cos to the frequency domain  \n",
    "we can use a sin/cos wave as an input to a physical system  \n",
    "  \n",
    "Let's try it with a parallel R-C circuit  \n",
    "Thedrawing show the parallel R-C circuit and the transfer function  \n",
    "![image2!](./images_s2/image_2_2_2.png)  "
   ]
  },
  {
   "cell_type": "markdown",
   "metadata": {},
   "source": [
    "To solve for the voltage V, we will use the equation for the transfer function  \n",
    "  \n",
    "$$V(s)=H(s)I(s)$$  \n",
    "substitute the physical transfer function and the Laplace transform of the input signal to get  \n",
    "  \n",
    "$$V(s)=\\left[\\frac{\\frac{1}{C}}{s+\\frac{1}{RC}}\\right]\\cdot\\left[\\frac{\\frac{A}{2}}{s-a}+\\frac{\\frac{A^*}{2}}{s+a}\\right]$$"
   ]
  },
  {
   "cell_type": "markdown",
   "metadata": {},
   "source": [
    "Let's give the system some real numbers:  \n",
    "  \n",
    "assume the system has a time constant of 200ms, with R=20$k\\Omega$ and C=10$\\mu F$  \n",
    "that means the system has a natural frequency of 5 [Np/s]  \n",
    "assume the input is a sin wave with a magnitude of 5mA, making $A=-0.005j$ and $A^*=0.005j$  \n",
    "assume the frequency is 100 [rad/s], so that $a=100j$  \n",
    "  \n",
    "substitute the values, to get  \n",
    "  \n",
    "$$V(s)=\\left[\\frac{100k}{s+5}\\right]\\cdot\\left[\\frac{-j2.5m}{s-j100}+\\frac{j2.5m}{s+j100}\\right]$$  \n",
    "multiply this out to get  \n",
    "  \n",
    "$$V(s)=\\left[\\frac{-j250}{(s+5)(s-j100)}+\\frac{j250}{(s+5)(s+j100)}\\right]$$  \n",
    "make a common denominator  \n",
    "  \n",
    "$$V(s)=\\left[\\frac{-j250\\cdot(s+j100)+j250\\cdot(s-j100)}{(s+5)(s-j100)(s+j100)}\\right]$$  \n",
    "simplify  \n",
    "  \n",
    "$$V(s)=\\left[\\frac{50k}{(s+5)(s-j100)(s+j100)}\\right]$$  \n",
    "when the denominator is multiplied out, we get  \n",
    "  \n",
    "$$V(s)=\\frac{50k}{s^3+5s^2+10,000s+50,000}$$  \n",
    "However, we want to find the residues of the form  \n",
    "  \n",
    "$$V(s)=\\frac{R_0}{s+5}+\\frac{R_1}{s-100j}+\\frac{R_2}{s+100j}$$  \n",
    "use python to find the residues  "
   ]
  },
  {
   "cell_type": "code",
   "execution_count": 1,
   "metadata": {},
   "outputs": [
    {
     "name": "stdout",
     "output_type": "stream",
     "text": [
      "residues = [ 4.98753117+0.j         -2.49376559-0.12468828j -2.49376559+0.12468828j]\n",
      "poles = [-5.0000000e+00  +0.j  8.8817842e-16+100.j  8.8817842e-16-100.j]\n",
      "k = []\n"
     ]
    }
   ],
   "source": [
    "import scipy.signal as sig\n",
    "\n",
    "num = [50000]\n",
    "den = [1, 5, 10000, 50000]\n",
    "r, p, k = sig.residue(num, den)\n",
    "print('residues =', r)\n",
    "print('poles =', p)\n",
    "print('k =', k) # make sure k is empty"
   ]
  },
  {
   "cell_type": "markdown",
   "metadata": {},
   "source": [
    "There is some rounding error, but you can see the poles are at -5 [Np/s], 100j [rad/s], and -100j [rad/s]  \n",
    "It's import to observe the order, to get the correct order for the residues  \n",
    "We see  \n",
    "  \n",
    "$$V(s)=\\frac{5}{s+5}+\\frac{-2.5-0.125j}{s-100j}+\\frac{-2.5+0.125j}{s+100j}$$  \n",
    "It's really easy to transform this back into the time domain  \n",
    "  \n",
    "$$V(t)=5e^{-5t}+(-2.5-0.125j)e^{j100t}+(-2.5+0.125j)e^{-j100t}$$  \n",
    "The response is made up of the natural response, which matches the natural frequency of -5 [Np/s]  \n",
    "and a forced reponse which is the sin/cos wave made up of the two imaginary exponentials at $\\pm$100 [rad/s]  \n",
    "  \n",
    "Use python to plot the response"
   ]
  },
  {
   "cell_type": "code",
   "execution_count": 2,
   "metadata": {},
   "outputs": [
    {
     "data": {
      "image/png": "[encoded data removed]",
      "text/plain": [
       "<Figure size 432x288 with 1 Axes>"
      ]
     },
     "metadata": {
      "needs_background": "light"
     },
     "output_type": "display_data"
    }
   ],
   "source": [
    "import numpy as np\n",
    "import matplotlib.pyplot as plt\n",
    "\n",
    "t = np.linspace(0, 1.0, 1000) # choose a time array to last for one second\n",
    "V_t = r[0]*np.exp(p[0]*t) + r[1]*np.exp(p[1]*t) + r[2]*np.exp(p[2]*t) \n",
    "plt.plot(t, V_t.real)\n",
    "plt.xlabel('t, time [s]')\n",
    "plt.ylabel('Voltage [V]')\n",
    "plt.title('The response to a sin wave input')\n",
    "plt.grid()"
   ]
  },
  {
   "attachments": {},
   "cell_type": "markdown",
   "metadata": {},
   "source": [
    "You should study the figure.  You can see the natural response decay to zero, while the forced response remains for all time\n",
    "\n",
    "It's really never necessary to write the result in the traditional sin/cos form  \n",
    "it's more of a hastle than good, but it can be done... Only once!\n",
    "  \n",
    "The forced response is a sin/cos wave at 100 [rad/s] \n",
    "  \n",
    "$$forced\\;response=(-2.5-0.125j)e^{j100t}+(-2.5+0.125j)e^{-j100t}$$  \n",
    "so the phasor is $2\\times(-2.5-0.125j) = -5-0.25j$  \n",
    "  \n",
    "The figure below graphs the phasor on the complex plane  \n",
    "![image3!](./images_s2/image_2_2_3.png)  \n",
    "Remember that the cosine phasor has a phase shift of 0 and lies on the positive real axis  \n",
    "based on the phasor above, the sin/cos part of the signal should be a virtually upside down (negative) cosine wave  \n",
    "starting near the bottom valley at $t=0$, with an amplitude of 5 [V]"
   ]
  },
  {
   "cell_type": "markdown",
   "metadata": {},
   "source": [
    "## 2.2.4 The steady state"
   ]
  },
  {
   "attachments": {},
   "cell_type": "markdown",
   "metadata": {},
   "source": [
    "Steady state means the system is in an unchanging state  \n",
    "[Steady state](https://en.wikipedia.org/wiki/Steady_state)  \n",
    "  \n",
    "At $t=0$ the sources turn on and excites the natural response of the system  \n",
    "The system will respond at it's natural frequencies until the natural response decays to zero  \n",
    "Once the natural response decays, the only thing left is the forced response  \n",
    "In our example, we drove the system with a sin wave, so the forced response is a sin wave of the same frequency  \n",
    "  \n",
    "![image4!](./images_s2/image_2_2_4.png)  \n",
    "  \n",
    "Yes, it is possble for natural responses to grow indefinately and never decay to zero.  \n",
    "Systems such as oscillators, will continue to respond at their natural frequencies as long as energy is supplied  \n",
    "however, for Fundamentals of Linear Systems we will only consider stable systems  \n",
    "Systems whose natural response ultimately decays to zero.  "
   ]
  },
  {
   "cell_type": "markdown",
   "metadata": {},
   "source": [
    "## 2.2.5 The Phasor method for steady state analysis"
   ]
  },
  {
   "cell_type": "markdown",
   "metadata": {},
   "source": [
    "To calculate the response of our R-C circuit above, we used the Laplace method  \n",
    "The Phasor method is a simplification of the Laplace method used to find the steady state response  \n",
    "The Phasor method will not tell us what happens starting at $t=0$, it only gives us forced response  \n",
    "In fact, it gives us an answer as if the sin wave has been applied for all time from $-\\infty<t<+\\infty$  \n",
    "It ignores the excitation of the natural response at $t=0$.\n",
    "  \n",
    "To apply the Phasor method, start with the transfer function equation  \n",
    "  \n",
    "$$V(s)=H(s)I(s)$$  \n",
    "but, instead of using the Laplace transform for the input signal, use the input's Phasor  \n",
    "  \n",
    "$$output\\;phasor=H(j\\omega)\\cdot input\\;Phasor$$  \n",
    "Notice, we also have to replace s with the frequency of the input source  \n",
    "In our example, the input source had a frequency of $s=j100$  \n",
    "For sin/cos sources, the frequency will always be imaginary  \n",
    "  \n",
    "$$V(j100)=H(j100)\\cdot input\\;Phasor$$\n",
    "And that's it!  \n",
    "Let's see if it works for our previous example  \n",
    "In that example, the Phasor for the input signal was $A=-0.005j$  \n",
    "  \n",
    "$$V(j100)=\\left[\\frac{\\frac{1}{C}}{j100+\\frac{1}{RC}}\\right]\\cdot-0.005j$$  \n",
    "with R=20 $k\\Omega$ and C=10 $\\mu F$  \n",
    "\n",
    "$$V(j100)=\\left[\\frac{100k}{j100+5}\\right]\\cdot-0.005j$$ \n",
    "which can be calculated very easily"
   ]
  },
  {
   "cell_type": "code",
   "execution_count": 3,
   "metadata": {},
   "outputs": [
    {
     "name": "stdout",
     "output_type": "stream",
     "text": [
      "(-4.987531172069826-0.24937655860349128j)\n",
      "\n",
      "4.993761694389224\n",
      "-177.13759477388825\n"
     ]
    }
   ],
   "source": [
    "V_j100 = (100000/(100j+5))*-0.005j\n",
    "print(V_j100)\n",
    "print()\n",
    "# change this to polar form\n",
    "print(np.abs(V_j100))\n",
    "print(np.angle(V_j100, deg=True))"
   ]
  },
  {
   "cell_type": "markdown",
   "metadata": {},
   "source": [
    "Notice, this is the same Phasor for the output sine wave we calculated using the Laplace method  \n",
    "\n",
    "You can also see from the polar form of the output voltage Phasor, that the steady state response is  \n",
    "  \n",
    "$$V(j100)=4.99cos(100t-177.1^\\circ)$$  \n",
    "(This is a slightly different value because of how the numbers were rounded previously)  \n",
    "  \n",
    "You should be aware of the constraints to this method  \n",
    "* The transient response is not calculated\n",
    "* The answer is valid at only one frequency"
   ]
  },
  {
   "cell_type": "markdown",
   "metadata": {},
   "source": [
    "## 2.2.6 Steady state DC"
   ]
  },
  {
   "cell_type": "markdown",
   "metadata": {},
   "source": [
    "In the example above, we drove the system with a sin source  \n",
    "In that case, the steady state response is a sine wave and the analysis method  \n",
    "is called steady state AC.  AC stands for Alternating Current and is a traditional name for all sinusiodal responses  \n",
    "For steady state AC, the fequency of the the source is always $s=j\\omega$  \n",
    "  \n",
    "When you drive the system with a step source, the frequency is $s=0$  \n",
    "After the natural responce of the system decays to zero, the step source provides the steady state DC case  \n",
    "DC stands for Direct Current, which again is a traditional name for constant sources  \n",
    "  \n",
    "The Phasor method applies equally well for $s=j\\omega$ or $s=0$  "
   ]
  },
  {
   "cell_type": "markdown",
   "metadata": {},
   "source": [
    "Let's repeat the example for the same system, but this time using a 5mA step source  \n",
    "First, solve the problem using Laplace methods  \n",
    "  \n",
    "$$V(s)=H(s)I(s)$$  \n",
    "where H(s) is the transfer function and I(s) is the step input source  \n",
    "  \n",
    "$$V(s)=\\left[\\frac{100k}{s+5}\\right]\\cdot\\frac{0.005}{s}$$"
   ]
  },
  {
   "cell_type": "code",
   "execution_count": 4,
   "metadata": {},
   "outputs": [
    {
     "data": {
      "image/png": "[encoded data removed]",
      "text/plain": [
       "<Figure size 432x288 with 1 Axes>"
      ]
     },
     "metadata": {
      "needs_background": "light"
     },
     "output_type": "display_data"
    }
   ],
   "source": [
    "# previously for the sin source, we used the residues and poles to calculate the time dependent voltage\n",
    "# This time we will create an lti object\n",
    "# you can use either method for both the step response and the sin reponse as long as you find V(s)\n",
    "num = [500]\n",
    "den = [1, 5, 0] # don't forget the zero\n",
    "V_s = sig.lti(num, den)\n",
    "t, V_t = V_s.impulse(T=t)\n",
    "plt.plot(t, V_t)\n",
    "plt.xlabel('t, time [s]')\n",
    "plt.ylabel('Voltage [V]')\n",
    "plt.title('The response to a step input')\n",
    "plt.grid()"
   ]
  },
  {
   "cell_type": "markdown",
   "metadata": {},
   "source": [
    "You can see that the steady state DC voltage is 100V. This is easy to verify,  \n",
    "because when the capacitor stops filling with charge  \n",
    "all of the input current flows through the resistor, such that $V=IR$  \n",
    "and $5mA\\times20k\\Omega=100V$  \n",
    "  \n",
    "We can also verify it with the Phasor method  \n",
    "  \n",
    "$$V(j\\omega) = H(j\\omega)\\cdot input\\;Phasor$$  \n",
    "for steady state DC, $s=0$ and the Phasor is 5mA \n",
    "  \n",
    "$$V(0) = \\left[\\frac{100k}{0+5}\\right]\\cdot 0.005=100$$  \n",
    "This is telling us that the steady state voltage at a frequency of $s=0$ is 100V"
   ]
  }
 ],
 "metadata": {
  "kernelspec": {
   "display_name": "Python 3",
   "language": "python",
   "name": "python3"
  },
  "language_info": {
   "codemirror_mode": {
    "name": "ipython",
    "version": 3
   },
   "file_extension": ".py",
   "mimetype": "text/x-python",
   "name": "python",
   "nbconvert_exporter": "python",
   "pygments_lexer": "ipython3",
   "version": "3.10.5"
  }
 },
 "nbformat": 4,
 "nbformat_minor": 4
}
