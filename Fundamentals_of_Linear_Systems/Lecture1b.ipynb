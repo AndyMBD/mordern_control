{
 "cells": [
  {
   "cell_type": "markdown",
   "metadata": {},
   "source": [
    "# 1.1 One-sided Exponential functions"
   ]
  },
  {
   "cell_type": "markdown",
   "metadata": {},
   "source": [
    "## 1.1.1 The Independent variable"
   ]
  },
  {
   "cell_type": "markdown",
   "metadata": {},
   "source": [
    "Remember from all of the math classes you have taken, a function is represented as $y=f(x)$  \n",
    "  \n",
    "In this case, x is the independent variable and y is the dependent variable.  \n",
    "  \n",
    "[Independent variables](https://en.wikipedia.org/wiki/Dependent_and_independent_variables)"
   ]
  },
  {
   "cell_type": "markdown",
   "metadata": {},
   "source": [
    "For physics, we give special variable names to physical quantities.  \n",
    "  \n",
    "The variable name x typically refers to a spatial dimension.  \n",
    "In the SI system, x has the units of meters, [m]."
   ]
  },
  {
   "cell_type": "markdown",
   "metadata": {},
   "source": [
    "In Fundamentals of Linear Systems, we will focus on the independent variable, t.  \n",
    "\n",
    "In the physical world, t is for time and the units of seconds [s]."
   ]
  },
  {
   "cell_type": "markdown",
   "metadata": {},
   "source": [
    "In python, numerical values of the independent variable are often produced using NumPy (Numerical Python)  \n",
    "  \n",
    "numpy is a library of python methods that makes python very similar to MATLAB  \n",
    "  \n",
    "[arange](https://numpy.org/devdocs/reference/generated/numpy.arange.html?highlight=arange)  \n",
    "[linspace](https://numpy.org/devdocs/reference/generated/numpy.linspace.html)"
   ]
  },
  {
   "cell_type": "code",
   "execution_count": 1,
   "metadata": {},
   "outputs": [
    {
     "name": "stdout",
     "output_type": "stream",
     "text": [
      "x =\n",
      "[-2  0  2  4  6  8 10 12 14 16 18] \n",
      "\n",
      "t =\n",
      "[-10.  -5.   0.   5.  10.] \n",
      "\n",
      "<class 'numpy.ndarray'> <class 'numpy.ndarray'>\n"
     ]
    }
   ],
   "source": [
    "# import numpy.  The \"as np\" tag simply makes less typing when writing code using numpy\n",
    "import numpy as np\n",
    "\n",
    "# create a list of evenly spaced independent variable values by typing the spacing between values\n",
    "x = np.arange(-2, 20, 2)\n",
    "\n",
    "# create a list of evenly spaced independent variable values by typing how many values are wanted\n",
    "t = np.linspace(-10, 10, 5)\n",
    "\n",
    "# python allows you to print the values\n",
    "print('x =')\n",
    "print(x, '\\n')\n",
    "print('t =')\n",
    "print(t, '\\n')\n",
    "\n",
    "# check to see what data-type each variable is stored as (hint, it's not a Python list)\n",
    "print(type(x), type(t))"
   ]
  },
  {
   "cell_type": "markdown",
   "metadata": {},
   "source": [
    "## 1.1.2 Signals - the Dependent variable"
   ]
  },
  {
   "cell_type": "markdown",
   "metadata": {},
   "source": [
    "Most of the time we will consider an equation of the form $y=f(t)$  \n",
    "\n",
    "In this equation, y is the independent variable\n",
    "\n",
    "For Fundamentals of Linear Systems we will be considering physical models.  So our signals will be  \n",
    "force F(t), velocity v(t), torque $\\tau(t)$, radial velocity $\\omega(t)$, voltage V(t), current I(t), \n",
    "Temperature T(t), or power W(t), plus many others..."
   ]
  },
  {
   "cell_type": "code",
   "execution_count": 2,
   "metadata": {},
   "outputs": [
    {
     "name": "stdout",
     "output_type": "stream",
     "text": [
      "T_x =\n",
      "[  0  10  20  30  40  50  60  70  80  90 100] \n",
      "\n",
      "w_t =\n",
      "[10.  5.  0.  5. 10.] \n",
      "\n",
      "<class 'numpy.ndarray'> <class 'numpy.ndarray'>\n"
     ]
    }
   ],
   "source": [
    "# x and t have been defined in the previous code cell\n",
    "# therefore, we can use them to create a function, for example\n",
    "\n",
    "# assume a temperature is linearly dependent on the spatial variable x\n",
    "\n",
    "# I like to use the underscore to denote the independent varaible\n",
    "# so y_x = f(x) is like y(x) = f(x)\n",
    "T_x = 5*x + 10\n",
    "\n",
    "# assume the radial velocity is dependent on the absolute value of time\n",
    "w_t = np.abs(t)\n",
    "\n",
    "print('T_x =')\n",
    "print(T_x, '\\n')\n",
    "print('w_t =')\n",
    "print(w_t, '\\n')\n",
    "\n",
    "print(type(T_x), type(w_t))"
   ]
  },
  {
   "cell_type": "markdown",
   "metadata": {},
   "source": [
    "## 1.1.3 Plotting graphs"
   ]
  },
  {
   "cell_type": "markdown",
   "metadata": {},
   "source": [
    "In python, the library named matplotlib, introduces MATLAB styled plotting methods  \n",
    "[matplotlib](https://matplotlib.org/)  \n",
    "  \n",
    "The sub-library called pyplot is almost always used  \n",
    "[matplotlib.pyplot](https://matplotlib.org/3.2.1/api/_as_gen/matplotlib.pyplot.html)  "
   ]
  },
  {
   "cell_type": "code",
   "execution_count": 3,
   "metadata": {},
   "outputs": [
    {
     "data": {
      "text/plain": [
       "[<matplotlib.lines.Line2D at 0x1c2f1d975c8>]"
      ]
     },
     "execution_count": 3,
     "metadata": {},
     "output_type": "execute_result"
    },
    {
     "data": {
      "image/png": "[encoded data removed]",
      "text/plain": [
       "<Figure size 432x288 with 1 Axes>"
      ]
     },
     "metadata": {
      "needs_background": "light"
     },
     "output_type": "display_data"
    }
   ],
   "source": [
    "# import matplotlib.pyplot  The \"as plt\" tag simply makes less typing when producing graphs using pyplot\n",
    "import matplotlib.pyplot as plt\n",
    "plt.plot(x, T_x)"
   ]
  },
  {
   "cell_type": "markdown",
   "metadata": {},
   "source": [
    "We can also make the graph more fancy (readable) using labels"
   ]
  },
  {
   "cell_type": "code",
   "execution_count": 4,
   "metadata": {},
   "outputs": [
    {
     "data": {
      "image/png": "[encoded data removed]",
      "text/plain": [
       "<Figure size 432x288 with 1 Axes>"
      ]
     },
     "metadata": {
      "needs_background": "light"
     },
     "output_type": "display_data"
    }
   ],
   "source": [
    "plt.plot(t, w_t)\n",
    "plt.title('radial velocity versus time')\n",
    "plt.xlabel('time [s]')\n",
    "plt.ylabel('radial velocity [rad/s]')\n",
    "plt.grid()"
   ]
  },
  {
   "cell_type": "markdown",
   "metadata": {},
   "source": [
    "## 1.1.4 Raising to a power"
   ]
  },
  {
   "cell_type": "markdown",
   "metadata": {},
   "source": [
    "What is an exponential function?  \n",
    "\n",
    "$y = x^2$  \n",
    "$y = 10^x$  \n",
    "$y = e^x$"
   ]
  },
  {
   "cell_type": "markdown",
   "metadata": {},
   "source": [
    "The first equation in the list above is not an exponential function, it is a power function  \n",
    "If we take the log of both sides of the equation, we get $log(y)=2log(x)$  \n",
    "  \n",
    "Notice, if we graph this function on log-log paper,  \n",
    "we will get a straight line that goes through the log-log origin; $(10^0,10^0)$  "
   ]
  },
  {
   "cell_type": "markdown",
   "metadata": {},
   "source": [
    "The function, $y=100x^3$, when converted to log-log is $log(y)=3log(x)+log(100)$  \n",
    "Again, a straight line on log-log paper, but it does not go through the log-log origin  \n",
    "  \n",
    "You can't take the log(0), python will report -inf  \n",
    "You can't take the log(negative number), python will report nan (not a number)  "
   ]
  },
  {
   "cell_type": "code",
   "execution_count": 5,
   "metadata": {},
   "outputs": [
    {
     "data": {
      "image/png": "[encoded data removed]",
      "text/plain": [
       "<Figure size 432x288 with 1 Axes>"
      ]
     },
     "metadata": {
      "needs_background": "light"
     },
     "output_type": "display_data"
    }
   ],
   "source": [
    "# choose a new x array\n",
    "\n",
    "# be careful, if you go back and run a cell above this cell\n",
    "# x will be the new x array, not the old one!\n",
    "\n",
    "# you can re-run all cells starting from the top by choosing the tab called\n",
    "# kernal and then choosing Restart & Run All\n",
    "x = np.arange(1, 100, 0.01)\n",
    "\n",
    "# create a power function\n",
    "y1_x = x**2\n",
    "\n",
    "# create another power function\n",
    "y2_x = 100*x**3\n",
    "\n",
    "# plot both functions on log-log paper\n",
    "plt.plot(x, y1_x)\n",
    "plt.plot(x, y2_x)\n",
    "plt.title('Power Functions are straight lines on log-log paper')\n",
    "plt.xlabel('x')\n",
    "plt.ylabel('y')\n",
    "plt.legend(('y1','y2'))\n",
    "plt.loglog()\n",
    "plt.xlim([10**0,10**2])\n",
    "plt.ylim([10**0,10**8])\n",
    "plt.grid()"
   ]
  },
  {
   "cell_type": "markdown",
   "metadata": {},
   "source": [
    "## 1.1.5 Exponential Functions"
   ]
  },
  {
   "cell_type": "markdown",
   "metadata": {},
   "source": [
    "The last two functions in the list shown above are indeed exponential functions  \n",
    "  \n",
    "Take the log of both sides of $y=10^x$ and you get $log(y)=xlog(10)$  \n",
    "Notice, this is a straight line on semi-log paper  \n",
    "  \n",
    "But the function $y=e^x$ is also a straight line on semi-log paper; $log(y)=xlog(e)$ \n",
    "\n",
    "The base doesn't really matter.  You can alway write any exponential function in terms of any base  \n",
    "$y=e^x=10^{xlog(e)}\\approx10^{0.4343x}$  \n",
    "  \n",
    "In Fundamentals of Linear Systems, we will use the base of the natural logrithm"
   ]
  },
  {
   "cell_type": "code",
   "execution_count": 6,
   "metadata": {},
   "outputs": [
    {
     "data": {
      "image/png": "[encoded data removed]",
      "text/plain": [
       "<Figure size 432x288 with 1 Axes>"
      ]
     },
     "metadata": {
      "needs_background": "light"
     },
     "output_type": "display_data"
    }
   ],
   "source": [
    "# choose a new x array\n",
    "# we can choose negative values for x because this is a semi-log function\n",
    "x = np.arange(-2, 2, 0.01)\n",
    "\n",
    "# create an exponential function\n",
    "y1_x = np.exp(x)\n",
    "\n",
    "# create another exponential function\n",
    "# for numpy, log is really the natural log (ln) and log10 is the log base 10\n",
    "y2_x = 10**(x*np.log10(np.exp(1)))\n",
    "\n",
    "# plot both functions on semi-log paper\n",
    "plt.plot(x, y1_x)\n",
    "plt.plot(x, y2_x)\n",
    "plt.title('Exponential Functions are straight lines on semi-log paper')\n",
    "plt.xlabel('x')\n",
    "plt.ylabel('y')\n",
    "plt.legend(('y1','y2'))\n",
    "plt.semilogy()\n",
    "plt.xlim([-2,2])\n",
    "plt.ylim([10**-1,10**1])\n",
    "plt.grid()"
   ]
  },
  {
   "cell_type": "markdown",
   "metadata": {},
   "source": [
    "## 1.1.6 The frequency of an exponential signal, s"
   ]
  },
  {
   "cell_type": "markdown",
   "metadata": {},
   "source": [
    "One of the most important signals we will study in Fundamentals of Linear Systems  \n",
    "is the exponential function $y(t) = Ae^{st}$  \n",
    "  \n",
    "In this equation A and s are constants"
   ]
  },
  {
   "cell_type": "markdown",
   "metadata": {},
   "source": [
    "When one raises the base of the natural logrithm to an exponential,  \n",
    "the physical units of the exponent must be unitless\n",
    "  \n",
    "In our equations, t must have the SI units of seconds, [s]\n",
    "  \n",
    "Therefore, s must have the units of [1/s], which is a frequency "
   ]
  },
  {
   "cell_type": "code",
   "execution_count": 7,
   "metadata": {},
   "outputs": [
    {
     "data": {
      "image/png": "[encoded data removed]",
      "text/plain": [
       "<Figure size 432x288 with 1 Axes>"
      ]
     },
     "metadata": {
      "needs_background": "light"
     },
     "output_type": "display_data"
    }
   ],
   "source": [
    "# create a new time array\n",
    "t = np.linspace(-1, 1, 100)\n",
    "\n",
    "# create 3 exponential functions with frequencies of s equals -5, 10, and -2\n",
    "y1_t = np.exp(-5*t)\n",
    "y2_t = 0.01*np.exp(10*t)\n",
    "y3_t = -20*np.exp(-2*t)\n",
    "\n",
    "# plot the 3 lines on regular (linear-linear) paper\n",
    "plt.plot(t, y1_t)\n",
    "plt.plot(t, y2_t)\n",
    "plt.plot(t, y3_t)\n",
    "plt.xlabel('t')\n",
    "plt.ylabel('y')\n",
    "plt.legend(('y1','y2','y3'))\n",
    "plt.grid()"
   ]
  },
  {
   "cell_type": "markdown",
   "metadata": {},
   "source": [
    "## 1.1.7 What is frequency"
   ]
  },
  {
   "cell_type": "markdown",
   "metadata": {},
   "source": [
    "When you talk about a frequency, you talk about counting something during a time interval  \n",
    "\n",
    "For example, how frequently do you go to class?  I go to class 2 times per week.  \n",
    "Do you see, count how often something happens in a given amount of time"
   ]
  },
  {
   "cell_type": "markdown",
   "metadata": {},
   "source": [
    "But isn't frequency about sine waves?"
   ]
  },
  {
   "cell_type": "markdown",
   "metadata": {},
   "source": [
    "Yes of course sine waves have a frequency, but so do many other things  \n",
    "For a sine wave you count how many cycles happen in one second  \n",
    "When you count cycles per second, that unit is called hertz, [Hz]  \n",
    "![image1!](./images_s1/image_1_1_1.png)  \n",
    "[sine wave](https://en.wikipedia.org/wiki/Sine_wave)"
   ]
  },
  {
   "cell_type": "markdown",
   "metadata": {},
   "source": [
    "How frequently do you eat?  My frequency of dining is 4 times per day (including snacks)."
   ]
  },
  {
   "cell_type": "markdown",
   "metadata": {},
   "source": [
    "## 1.1.8 The Neper frequency"
   ]
  },
  {
   "cell_type": "markdown",
   "metadata": {},
   "source": [
    "What do you count when you measure the frequency of an exponential?  \n",
    "You count Nepers! The units of Neper is [Np].  So the Neper frequency has units of [Np/s]  \n",
    "[Neper](https://en.wikipedia.org/wiki/Neper)"
   ]
  },
  {
   "cell_type": "markdown",
   "metadata": {},
   "source": [
    "A Neper is a change by a factor of e  \n",
    "For example, at t = 0[s], $y=e^t$ has a value of 1  \n",
    "but at t = 1[s], $y=e^t$ has a value of e  \n",
    "  \n",
    "So y grew by one factor of e, because $1\\times{}e=e$  \n",
    "It grew by a factor of e in 1[s].  \n",
    "So this wave has a frequency of 1[Np/s]"
   ]
  },
  {
   "cell_type": "markdown",
   "metadata": {},
   "source": [
    "Another example is $y=2e^{-4t}$  \n",
    "at t = 0[s], y = 2  \n",
    "at t = 0.25[s], y = 0.7358  \n",
    "so y shrunk by a factor of e, because $2\\div{e}=0.7358$  \n",
    "  \n",
    "y shrunk by a factor of e in 0.25[s]  \n",
    "So this wave has a frequency of -1[Np] / 0.25[s], which is -4[Np/s]"
   ]
  },
  {
   "cell_type": "markdown",
   "metadata": {},
   "source": [
    "## 1.1.9 The frequency of an exponential is s, with the units of [Np/s]"
   ]
  },
  {
   "cell_type": "markdown",
   "metadata": {},
   "source": [
    "For the equation $y(t)=Ae^{st}$, s is the frequency of the exponential  \n",
    "If the frequency is negative, the exponential wave decays to 0 as $t\\rightarrow\\infty$  \n",
    "If the frequency is positive, the exponential wave grows to $\\infty$ as $t\\rightarrow\\infty$  \n",
    "high frequency waves grow or decay quickly  \n",
    "low frequency waves grow or decay more slowly (although the exponential function is highly non-linear rapidly decaying or growing function)"
   ]
  },
  {
   "cell_type": "markdown",
   "metadata": {},
   "source": [
    "The crazy thing about exponentials, is that is doesn't matter what 2 points you pick  \n",
    "For the example $y=2e^{-4t}$  \n",
    "  \n",
    "choose t = -0.25 seconds and t = 0.5 seconds  \n",
    "y(-0.25) = 5.4366 and y(0.5) = 0.2706, this is a change of 3 nepers  \n",
    "because $5.4366\\div{e}\\div{e}\\div{e} = 0.2706$  \n",
    "  \n",
    "y shrunk by 3 factors of e in 0.75[s]  \n",
    "so the frequency is -3[Np] / 0.75[s], which is -4[Np/s]"
   ]
  },
  {
   "cell_type": "markdown",
   "metadata": {},
   "source": [
    "## 1.1.10 The special case of s = 0, the DC case"
   ]
  },
  {
   "cell_type": "markdown",
   "metadata": {},
   "source": [
    "When the frequency is 0, the wave is a special case  \n",
    "A wave with the frequency s = 0 is often called DC, for direct current.  A name that is old as Edison.\n",
    "\n",
    "Take an example wave with the frequency s = 0, such as $y(t)=-20e^{0t}=-20$  \n",
    "The wave never changes, it's value is a constant value of -20  \n",
    "the same value for all time from $t\\rightarrow-\\infty$ to $t\\rightarrow\\infty$"
   ]
  },
  {
   "cell_type": "markdown",
   "metadata": {},
   "source": [
    "## 1.1.11 Two-sided and one-sided functions"
   ]
  },
  {
   "cell_type": "markdown",
   "metadata": {},
   "source": [
    "In Fundamentals of Linear Systems, we are going to be considering  \n",
    "one-sided equations rather than two-sided equations  \n",
    "  \n",
    "A one-sided equation is zero for all values of t < 0  \n",
    "So the equation in the previous example, $y(t)=-20e^{0t}$, as a one sided equation  \n",
    "for t < 0 and is -20 for t > 0.  But what goes on at t = 0?"
   ]
  },
  {
   "cell_type": "code",
   "execution_count": 10,
   "metadata": {},
   "outputs": [
    {
     "data": {
      "image/png": "[encoded data removed]",
      "text/plain": [
       "<Figure size 432x288 with 1 Axes>"
      ]
     },
     "metadata": {
      "needs_background": "light"
     },
     "output_type": "display_data"
    }
   ],
   "source": [
    "# create a new time array\n",
    "t = np.linspace(-1, 1, 1000)\n",
    "\n",
    "# make a one-sided function for s = 0\n",
    "y1_t = -20*np.exp(0*t)*(np.sign(t)+1)/2\n",
    "\n",
    "# make a two-sided exponential function for s = -2\n",
    "# plot this one as a dashed line\n",
    "y2_t = 5*np.exp(-2*t)\n",
    "\n",
    "# make a one-sided exponential function for s = -2\n",
    "y3_t = 5*np.exp(-2*t)*(np.sign(t)+1)/2\n",
    "\n",
    "# plot the 3 lines on regular (linear-linear) paper\n",
    "plt.plot(t, y1_t)\n",
    "plt.plot(t, y2_t, '--')\n",
    "plt.plot(t, y3_t)\n",
    "plt.xlabel('t')\n",
    "plt.ylabel('y')\n",
    "plt.legend(('y1','y2','y3'))\n",
    "plt.grid()"
   ]
  },
  {
   "cell_type": "markdown",
   "metadata": {},
   "source": [
    "Before, we were wondering what happens to a one-sided equation at t = 0  \n",
    "  \n",
    "The one-sided equation is undefined at t = 0.  \n",
    "Look at the one-sided lines in the figure above, they go straight up and down at t = 0  \n",
    "  \n",
    "There is not one unique value for y at t = 0, there are many values.  \n",
    "The wave with amplitude = -20 and s = 0, could be -10 at t = 0, but it aslo could be -15, or -19, or -2  \n",
    "You simply can't define what the value is"
   ]
  },
  {
   "cell_type": "markdown",
   "metadata": {},
   "source": [
    "## 1.1.12 The unit step function"
   ]
  },
  {
   "cell_type": "markdown",
   "metadata": {},
   "source": [
    "The unit step is a the special exponential function with s = 0  \n",
    "but it also has a magnitude or an amplitude of 1  \n",
    "\n",
    "Because the unit step is so widely used, it has a special funtion name  \n",
    "The unit step is defined as u(t)"
   ]
  },
  {
   "cell_type": "code",
   "execution_count": 9,
   "metadata": {},
   "outputs": [
    {
     "data": {
      "image/png": "[encoded data removed]",
      "text/plain": [
       "<Figure size 432x288 with 1 Axes>"
      ]
     },
     "metadata": {
      "needs_background": "light"
     },
     "output_type": "display_data"
    }
   ],
   "source": [
    "# make the unit step\n",
    "u_t = np.exp(0*t)*(np.sign(t)+1)/2\n",
    "\n",
    "# plot the unit step function\n",
    "plt.plot(t, u_t)\n",
    "plt.title('The unit step function')\n",
    "plt.grid()"
   ]
  },
  {
   "cell_type": "markdown",
   "metadata": {},
   "source": [
    "## 1.1.13 The values of time; $t=0^-$, $t=0$, and $t=0^+$"
   ]
  },
  {
   "cell_type": "markdown",
   "metadata": {},
   "source": [
    "$0^-$, $0$, and $0^+$ all occur at t = 0, they are all the same time  \n",
    "  \n",
    "You can read $0^-$ as t = 0 just before the event occurs  \n",
    "and $0^+$ as t = 0 just after the event occurs  \n",
    "  \n",
    "So for the unit step,  \n",
    "$u(0^-) = 0$  \n",
    "$u(0)$ is undefined, and  \n",
    "$u(0^+) = 1$"
   ]
  }
 ],
 "metadata": {
  "kernelspec": {
   "display_name": "Python 3",
   "language": "python",
   "name": "python3"
  },
  "language_info": {
   "codemirror_mode": {
    "name": "ipython",
    "version": 3
   },
   "file_extension": ".py",
   "mimetype": "text/x-python",
   "name": "python",
   "nbconvert_exporter": "python",
   "pygments_lexer": "ipython3",
   "version": "3.6.7"
  }
 },
 "nbformat": 4,
 "nbformat_minor": 4
}
