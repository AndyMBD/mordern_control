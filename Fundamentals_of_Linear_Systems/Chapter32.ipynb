{
 "cells": [
  {
   "cell_type": "markdown",
   "metadata": {},
   "source": [
    "# 3.2 Second-order responses"
   ]
  },
  {
   "cell_type": "markdown",
   "metadata": {},
   "source": [
    "## 3.2.1 Second order Translational Mechanical system"
   ]
  },
  {
   "cell_type": "markdown",
   "metadata": {},
   "source": [
    "Every differential relationship between power conjugate variables that is added to a system of equations  \n",
    "adds another order to the system  \n",
    "  \n",
    "The first order translational mechanical system included one differential relationship; Newton's law  \n",
    "recall  \n",
    "![image1!](./images_s3/image_3_2_1.png)  \n",
    "\n",
    "  \n",
    "$$F_i+F_a-F_g=0$$  \n",
    "where $F_i\\equiv inertial\\;force$, $F_a\\equiv air\\;drag$, and $F_g\\equiv gravity$  \n",
    "and  \n",
    "  \n",
    "$$m\\frac{dv}{dt}+bv=F_g$$  \n",
    "Rewritten in the frequency domain with zero initial conditions\n",
    "  \n",
    "$$smv(s)+bv(s)=F_g(s)$$"
   ]
  },
  {
   "cell_type": "markdown",
   "metadata": {},
   "source": [
    "## 3.2.2 Hooke's law"
   ]
  },
  {
   "cell_type": "markdown",
   "metadata": {},
   "source": [
    "Hooke's law is normally written as  \n",
    "$$F=kx$$  \n",
    "if we recast this equation using power conjugate variables, we get  \n",
    "$$F(t)=k\\int v(t)dt$$  \n",
    "The integral of velocity over time is the position  \n",
    "  \n",
    "Finally, transforming to the frequency domain gives  \n",
    "$$F(s)=k\\frac{v(s)}{s}$$"
   ]
  },
  {
   "cell_type": "markdown",
   "metadata": {},
   "source": [
    "## 3.2.3 Incorporating Hooke's law into the system"
   ]
  },
  {
   "cell_type": "markdown",
   "metadata": {},
   "source": [
    "Assume that we attach a bungy cord to the ball as shown in the figure below  \n",
    "Let's call the force, $F_s$ for \"spring force\", which will try to pull the ball up as the spring stretches\n",
    "\n",
    "![image2!](./images_s3/image_3_2_2.png)  \n",
    "  \n",
    "The system's equation becomes  \n",
    "  \n",
    "$$F_i+F_a+F_s-F_g=0$$  \n",
    "and  \n",
    "  \n",
    "$$m\\frac{dv}{dt}+bv+k\\int v(t)dt=F_g$$  \n",
    "Rewriting in the frequency domain with zero initial conditions\n",
    "  \n",
    "$$smv(s)+bv(s)+k\\frac{v(s)}{s}=F_g(s)$$"
   ]
  },
  {
   "cell_type": "markdown",
   "metadata": {},
   "source": [
    "## 3.2.4 Transfer function"
   ]
  },
  {
   "cell_type": "markdown",
   "metadata": {},
   "source": [
    "Now that we have the system equation in the frequency domain and calculus has become algebra,  \n",
    "it's easy to write the transfer function  \n",
    "  \n",
    "$$(sm+b+\\frac{k}{s})\\;v(s)=F_g(s)$$  \n",
    "multiply through by s and divide by m  \n",
    "  \n",
    "$$(s^2+\\frac{b}{m}s+\\frac{k}{m})\\;v(s)=\\frac{sF_g(s)}{m}$$  \n",
    "write as a polynomial in s, over a polynomial in s  \n",
    "  \n",
    "$$H(s)=\\frac{v(s)}{F_g(s)}=\\frac{\\frac{1}{m}s}{s^2+\\frac{b}{m}s+\\frac{k}{m}}$$  \n",
    "  \n",
    "That's the transfer function, and the graphical representation of the transfer function is  \n",
    "![image3!](./images_s3/image_3_2_3.png)  \n",
    "The transfer function is second order because the denominator is a second order polynomial  \n",
    "The second order polynomial has two roots, or the system has two natural frequencies  "
   ]
  },
  {
   "cell_type": "markdown",
   "metadata": {},
   "source": [
    "## 3.2.5 Example of a falling body attached to a bungy cord"
   ]
  },
  {
   "cell_type": "markdown",
   "metadata": {},
   "source": [
    "Recall we did this same problem previously, with no bungy cord attached  \n",
    "The force applied to the ball is due to gravity after you let go  \n",
    "![image4!](./images_s3/image_3_2_4.png)  \n",
    "  \n",
    "In the time domain, this input force is $F_g(t)=9.81m\\;u(t)$, where m is the mass of the ball  \n",
    "  \n",
    "To apply this force to the transfer function, transform it to the frequency domain, $F_g(s)=\\frac{9.81m}{s}$  \n",
    "  \n",
    "Let's perform the calculation using the symbolic library and then substitute the numerical values"
   ]
  },
  {
   "cell_type": "code",
   "execution_count": 1,
   "metadata": {},
   "outputs": [
    {
     "data": {
      "image/png": "[encoded data removed]",
      "text/latex": [
       "$\\displaystyle \\frac{s}{m \\left(\\frac{b s}{m} + \\frac{k}{m} + s^{2}\\right)}$"
      ],
      "text/plain": [
       "       s        \n",
       "────────────────\n",
       "  ⎛b⋅s   k    2⎞\n",
       "m⋅⎜─── + ─ + s ⎟\n",
       "  ⎝ m    m     ⎠"
      ]
     },
     "execution_count": 1,
     "metadata": {},
     "output_type": "execute_result"
    }
   ],
   "source": [
    "import sympy as sym\n",
    "sym.init_printing() # enables pretty printing for formulas\n",
    "\n",
    "# create symbols\n",
    "t, s, b, m, k = sym.symbols('t s b m k')\n",
    "\n",
    "# create the transfer function\n",
    "H_s = (s/m)/(s**2+b/m*s+k/m)\n",
    "\n",
    "# just type H_s for pretty printing\n",
    "H_s"
   ]
  },
  {
   "cell_type": "code",
   "execution_count": 2,
   "metadata": {},
   "outputs": [
    {
     "data": {
      "image/png": "[encoded data removed]",
      "text/latex": [
       "$\\displaystyle \\frac{9.81 m}{s}$"
      ],
      "text/plain": [
       "9.81⋅m\n",
       "──────\n",
       "  s   "
      ]
     },
     "execution_count": 2,
     "metadata": {},
     "output_type": "execute_result"
    }
   ],
   "source": [
    "# define the input Force\n",
    "Fg_t = 9.81*m*sym.Heaviside(t)\n",
    "Fg_s = sym.laplace_transform(Fg_t, t, s, noconds=True)\n",
    "Fg_s"
   ]
  },
  {
   "cell_type": "code",
   "execution_count": 3,
   "metadata": {},
   "outputs": [
    {
     "data": {
      "image/png": "[encoded data removed]",
      "text/latex": [
       "$\\displaystyle \\frac{9.81}{s^{2} + 0.5 s + 7.5}$"
      ],
      "text/plain": [
       "      9.81      \n",
       "────────────────\n",
       " 2              \n",
       "s  + 0.5⋅s + 7.5"
      ]
     },
     "execution_count": 3,
     "metadata": {},
     "output_type": "execute_result"
    }
   ],
   "source": [
    "# form the product\n",
    "v_s = H_s*Fg_s\n",
    "\n",
    "# enter the constants - all units must be SI units\n",
    "b_v = 0.1 # kg/s\n",
    "m_v = 0.2 # kg\n",
    "k_v = 1.5 # N/m (It takes 1.5N of force, about 1/3 pound to stretch the rubber band by 1m)\n",
    "\n",
    "# substitute the values  \n",
    "v_s_v = v_s.subs([(b, b_v), (m, m_v), (k, k_v)])\n",
    "v_s_v"
   ]
  },
  {
   "cell_type": "code",
   "execution_count": 4,
   "metadata": {},
   "outputs": [
    {
     "data": {
      "image/png": "[encoded data removed]",
      "text/plain": [
       "<Figure size 432x288 with 1 Axes>"
      ]
     },
     "metadata": {
      "needs_background": "light"
     },
     "output_type": "display_data"
    }
   ],
   "source": [
    "import numpy as np\n",
    "import scipy.signal as sig\n",
    "import matplotlib.pyplot as plt\n",
    "\n",
    "# create the lti system\n",
    "num, den = v_s_v.as_numer_denom()\n",
    "num = np.fromiter(num.as_poly(s).all_coeffs(), dtype=float)\n",
    "den = np.fromiter(den.as_poly(s).all_coeffs(), dtype=float)\n",
    "\n",
    "v_s = sig.lti(num, den)\n",
    "\n",
    "# create a time array\n",
    "t = np.linspace(0, 25, 1000)\n",
    "\n",
    "# use the impulse method to find the step response and plot it\n",
    "t, v_t = v_s.impulse(T=t)\n",
    "plt.plot(t, v_t)\n",
    "plt.xlabel('time, t [s]')\n",
    "plt.ylabel('v(s) [m/s]')\n",
    "plt.title('velocity versus time')\n",
    "plt.grid()"
   ]
  },
  {
   "cell_type": "markdown",
   "metadata": {},
   "source": [
    "You can see from the result, that the velocity increases when the ball is dropped  \n",
    "however, that causes the spring to stretch.  \n",
    "As the spring stretches it starts to slow the ball down, eventually reaching zero velocity  \n",
    "and then starts to pull the ball back up, reversing the sign of the velocity  \n",
    "  \n",
    "The ball bounces up and just like you would expect"
   ]
  },
  {
   "cell_type": "markdown",
   "metadata": {},
   "source": [
    "## 3.2.6 The shape of the response tells you the natural frequencies"
   ]
  },
  {
   "cell_type": "markdown",
   "metadata": {},
   "source": [
    "There it is, the shape we saw associated with complex frequencies  \n",
    "You should guess the poles of the system are complex poles of the form $s=\\alpha\\pm j\\omega$  \n",
    "where $\\alpha<0$, because it is decaying  \n",
    "  \n",
    "The rule of thumb is about five time constants for a real exponential to decay to steady state,  \n",
    "so I would estimate the time constant to be about 5 [seconds] or $\\alpha\\approx-\\frac{1}{5}=-0.2$ [Np/s]  \n",
    "  \n",
    "Each cycle of the sin/cos wave is $2\\pi$ [rad], and I estimate about $2\\frac{1}{4}$ cycles in 5 [seconds]  \n",
    "so $\\omega\\approx\\frac{2.25\\;cycles\\;\\cdot\\;2\\pi\\;\\frac{rad}{cycle}}{5\\;s}=2.8\\;\\frac{rad}{s}$  \n",
    "  \n",
    "giving us an estimated frequency of $s\\approx-0.2\\pm2.8\\;[\\frac{1}{s}]$  \n",
    "  \n",
    "Let's do the math and compare!"
   ]
  },
  {
   "cell_type": "code",
   "execution_count": 5,
   "metadata": {},
   "outputs": [
    {
     "name": "stdout",
     "output_type": "stream",
     "text": [
      "[-0.25+2.72717803j -0.25-2.72717803j]\n"
     ]
    }
   ],
   "source": [
    "# the poles of the system are an attribute of the lti object\n",
    "print(v_s.poles)"
   ]
  },
  {
   "cell_type": "markdown",
   "metadata": {},
   "source": [
    "Hey, not a bad guess!"
   ]
  },
  {
   "cell_type": "markdown",
   "metadata": {},
   "source": [
    "## 3.2.7 The natural reponse is two exponentials added together"
   ]
  },
  {
   "cell_type": "markdown",
   "metadata": {},
   "source": [
    "If we want to find the equation for the time dependent response, we can find the residues  \n",
    "remember,  \n",
    "  \n",
    "$$v(s)=\\frac{9.81}{s^2+0.5s+7.5}=\\frac{R_0}{s+0.25-j2.72}+\\frac{R_1}{s+0.25+j2.72}$$  \n",
    "where $R_0$ and $R_1$ can be found by partial fraction expansion  \n",
    "don't worry about the complex numbers, the process is exactly the same as if they were real numbers  \n",
    "  \n",
    "We will use python to the find the residues  "
   ]
  },
  {
   "cell_type": "code",
   "execution_count": 6,
   "metadata": {},
   "outputs": [
    {
     "name": "stdout",
     "output_type": "stream",
     "text": [
      "residues = [0.-1.79856245j 0.+1.79856245j]\n",
      "poles = [-0.25+2.72717803j -0.25-2.72717803j]\n",
      "make sure k is empty []\n"
     ]
    }
   ],
   "source": [
    "# we already defined a \"k\" term for the spring constant\n",
    "r, p, k0 = sig.residue(num, den)\n",
    "print('residues =', r)\n",
    "print('poles =', p)\n",
    "print('make sure k is empty', k0)"
   ]
  },
  {
   "cell_type": "markdown",
   "metadata": {},
   "source": [
    "so the equation for the velocity as a function of time is  \n",
    "  \n",
    "$v(t)=-1.8je^{(-0.25+j2.72)t}+1.8je^{(-0.25-j2.72)t}$ [m/s]  \n",
    "  \n",
    "Notice the phasor has a magnitude of 3.6, but is purely imaginary, pointing down on the complex plane  \n",
    "thus, this amount of phase shift makes the wave a true sin wave"
   ]
  },
  {
   "cell_type": "markdown",
   "metadata": {},
   "source": [
    "## 3.2.8 Plot the position as a function of time"
   ]
  },
  {
   "cell_type": "markdown",
   "metadata": {},
   "source": [
    "Because the function we found, $v(s)$, did not have initial conditions,  \n",
    "we can integrate by dividing by s  \n",
    "  \n",
    "The integral of velocity is the position, $x(s)=\\frac{v(s)}{s}$"
   ]
  },
  {
   "cell_type": "code",
   "execution_count": 7,
   "metadata": {},
   "outputs": [
    {
     "data": {
      "image/png": "[encoded data removed]",
      "text/latex": [
       "$\\displaystyle \\frac{9.81}{s \\left(s^{2} + 0.5 s + 7.5\\right)}$"
      ],
      "text/plain": [
       "        9.81        \n",
       "────────────────────\n",
       "  ⎛ 2              ⎞\n",
       "s⋅⎝s  + 0.5⋅s + 7.5⎠"
      ]
     },
     "execution_count": 7,
     "metadata": {},
     "output_type": "execute_result"
    }
   ],
   "source": [
    "# integrate the symbolic function for velocity\n",
    "x_s_v = v_s_v/s\n",
    "x_s_v"
   ]
  },
  {
   "cell_type": "code",
   "execution_count": 8,
   "metadata": {},
   "outputs": [
    {
     "data": {
      "image/png": "[encoded data removed]",
      "text/plain": [
       "<Figure size 432x288 with 1 Axes>"
      ]
     },
     "metadata": {
      "needs_background": "light"
     },
     "output_type": "display_data"
    }
   ],
   "source": [
    "# create the lti system\n",
    "num, den = x_s_v.as_numer_denom()\n",
    "num = np.fromiter(num.as_poly(s).all_coeffs(), dtype=float)\n",
    "den = np.fromiter(den.as_poly(s).all_coeffs(), dtype=float)\n",
    "\n",
    "x_s = sig.lti(num, den)\n",
    "\n",
    "# use the impulse method to find the step response and plot it\n",
    "t, x_t = x_s.impulse(T=t)\n",
    "plt.plot(t, x_t)\n",
    "plt.xlabel('time, t [s]')\n",
    "plt.ylabel('x(s) [m]')\n",
    "plt.title('position versus time')\n",
    "plt.grid()"
   ]
  },
  {
   "cell_type": "markdown",
   "metadata": {},
   "source": [
    "## 3.2.9 Use the phasor method to find the steady state DC value"
   ]
  },
  {
   "cell_type": "markdown",
   "metadata": {},
   "source": [
    "Position versus time looks exaclty as expected, you let go of the ball at a position of $x=0$  \n",
    "and the ball bounces up and down  \n",
    "  \n",
    "When it finally settles, it rests at position that has stretched the bungy cord  \n",
    "In this example, the bungy cord is stretched by just over a meter  \n",
    "  \n",
    "In fact, we can use the phasor method to find the DC steady state value for how much the bungy cord is stretched  \n",
    "start with the transfer function\n",
    "![image5!](./images_s3/image_3_2_5.png)  \n",
    "  \n",
    "write the phasor method  \n",
    "  \n",
    "$$phasor\\;x(s)=\\frac{\\frac{1}{m}}{s^2+\\frac{b}{m}s+\\frac{k}{m}}\\cdot phasor\\;input$$  \n",
    "and find $x$ at the frequency $s=0$  \n",
    "  \n",
    "The input is a step function is equal to $9.81m\\;u(t)$, but has a phasor magnitude of $9.81m$ at $s=0$  \n",
    "so  \n",
    "  \n",
    "$$phasor\\;x(0)=\\frac{\\frac{1}{m}}{0^2+\\frac{b}{m}0+\\frac{k}{m}}\\cdot9.81m$$  \n",
    "which simplifies to $\\frac{9.81m}{k}$, exactly where the force of gravity is balanced by the force of the spring  \n",
    "  \n",
    "For our example, $x(0)=\\frac{9.81\\cdot0.2}{1.5}=1.3$ [m]"
   ]
  },
  {
   "cell_type": "markdown",
   "metadata": {},
   "source": [
    "## 3.2.10 The \"ringing\" response"
   ]
  },
  {
   "cell_type": "markdown",
   "metadata": {},
   "source": [
    "When the poles are complex, the signal will \"ring\"  \n",
    "It is called \"ringing\" because it is the same signal a bell makes when you strike one with a hammer  \n",
    "In the case of ringing a bell, you are creating an impulse response of the system, where the bell is the system  \n",
    "  \n",
    "Of course, the bell rings with a specific frequency,  \n",
    "the $j\\omega$ part of the natural frequency of the bell, $s=\\alpha\\pm j\\omega$, produces the bell's tone  \n",
    "  \n",
    "The bell's volume gets quieter and quieter, as it rings longer and longer, and finally stops making sound  \n",
    "This is due to the $\\alpha$ part of the natural frequency of the bell  \n",
    "We know $\\alpha$ must be negative because the sound decays to zero, rather than growing louder and louder  \n",
    "  \n",
    "![image6!](./images_s3/image_3_2_6.png)  "
   ]
  },
  {
   "cell_type": "markdown",
   "metadata": {},
   "source": [
    "## 3.2.11 \"Damping\" associated with the response of a system"
   ]
  },
  {
   "cell_type": "markdown",
   "metadata": {},
   "source": [
    "A high quality bell rings for a long time, because it has poles that are very close to the imaginary axis  \n",
    "Friction, or \"damping\", causes a system response to decay  \n",
    "  \n",
    "Poles that land on the imaginary axis describe sin/cos waves that never decay, $\\alpha=0$  \n",
    "If there is no frcition, or no damping, the sytem response will never decay  \n",
    "  \n",
    "The transfer function for our second order system is  \n",
    "$$H(s)=\\frac{v(s)}{F_g(s)}=\\frac{\\frac{1}{m}s}{s^2+\\frac{b}{m}s+\\frac{k}{m}}$$  \n",
    "  \n",
    "The system is \"damped\" because of friction  \n",
    "For translational mechanical systems, friction is modeled as Stokes' drag, $F=bv$  \n",
    "  \n",
    "For all different type of systems, the direct relation between power conjugate variables produces the damping  \n",
    "For electrical systems, the damping term is the resistance, given by Ohm's law, $V=IR$"
   ]
  },
  {
   "cell_type": "markdown",
   "metadata": {},
   "source": [
    "For all second order systems, damping appears in s-term of the denominator of the transfer function  \n",
    "![image7!](./images_s3/image_3_2_7.png)  \n",
    "  \n",
    "The natural frequencies of the system, or the poles, are found from the roots of the denominator  \n",
    "In general, a second order system will have roots found from the quadratic equation  \n",
    "  \n",
    "rewrting the denominator in the general form of the quadratic equation and finding the roots  \n",
    "(the \"b\" in the quadratic equation is different than the \"b\" in Stokes' drag, don't confuse them)  \n",
    "  \n",
    "$$as^2+bs+c=0$$  \n",
    "gives us  \n",
    "$$s_{1,2}=\\frac{-b\\pm\\sqrt{b^2-4ac}}{2a}$$  \n",
    "$s_{1,2}$ are the natural frequencies of a second order system"
   ]
  },
  {
   "cell_type": "markdown",
   "metadata": {},
   "source": [
    "## 3.2.12 No damping, underdamped, critically damped, and overdamped"
   ]
  },
  {
   "cell_type": "markdown",
   "metadata": {},
   "source": [
    "The roots found from the quadratic equation can be imaginary, complex, real and equal, or real and different  \n",
    "  \n",
    "1. No damping  \n",
    "      $-b\\pm\\sqrt{b^2-4ac}=\\pm\\sqrt{-4ac}$ because $b=0$, roots are purely imaginary  \n",
    "2. underdamped  \n",
    "    $\\sqrt{b^2-4ac}<0$, roots are complex numbers and complex conjugates  \n",
    "3. crtically damped  \n",
    "    $\\sqrt{b^2-4ac}=0$, roots are real and equal  \n",
    "4. overdamped  \n",
    "    $\\sqrt{b^2-4ac}>0$, roots are real and different  \n",
    "  \n",
    "For the critically damped case $\\sqrt{b^2-4ac}=0\\Rightarrow b^2-4ac=0\\Rightarrow b^2=4ac\\Rightarrow b=2\\sqrt{ac}$,  \n",
    "  \n",
    "For our example system, $a=1$, $b=\\frac{b_{Stokes}}{m}$ and $c=\\frac{k}{m}$  \n",
    "or  \n",
    "$\\frac{b_{Stokes}}{m}=2\\sqrt{\\frac{k}{m}}\\Rightarrow 2\\sqrt{k\\cdot m}$  "
   ]
  },
  {
   "cell_type": "markdown",
   "metadata": {},
   "source": [
    "## 3.2.13 The magnitude of the natural frequency"
   ]
  },
  {
   "cell_type": "markdown",
   "metadata": {},
   "source": [
    "The poles, or natural frequencies, of the system are $s_{1,2}$  \n",
    "When the poles are plotted on the complex s-plane, they form a vector, or phasor, with real and imaginary parts  \n",
    "  \n",
    "The distance from the origin to the pole is the magnitude of the natural frequency, often called $\\omega_n$  \n",
    "It can be found with the Pythagorean theorem $\\omega_n=\\sqrt{s_{real}^2+s_{imaginary}^2}$  \n",
    "  \n",
    "For a second order system, if only the damping coefficent is changed,  \n",
    "the magnitude of the natural frequencies will not change  \n",
    "  \n",
    "The code cell below varies the Stokes' drag coefficent  \n",
    "and plots the location of the poles on the complex s-plane  "
   ]
  },
  {
   "cell_type": "code",
   "execution_count": 9,
   "metadata": {},
   "outputs": [
    {
     "data": {
      "image/png": "[encoded data removed]",
      "text/plain": [
       "<Figure size 432x288 with 1 Axes>"
      ]
     },
     "metadata": {
      "needs_background": "light"
     },
     "output_type": "display_data"
    }
   ],
   "source": [
    "# enter the constants - all units must be SI units\n",
    "m_v = 0.2 # kg\n",
    "k_v = 1.5 # N/m (It takes 1.5N of force, about 1/3 pound to stretch the rubber band by 1m)\n",
    "\n",
    "# vary the damping term for five different values of b\n",
    "# 1. no damping, 2. underdamped close to the imaginary axis, 3. underdamped, 4. critically damped, 5. overdamped\n",
    "for b_v in [0.0, 0.1, 0.75, 2*np.sqrt(k_v*m_v), 1.2]:\n",
    "    \n",
    "    # form the product\n",
    "    v_s = H_s*Fg_s\n",
    "    \n",
    "    # substitute the values  \n",
    "    v_s_v = v_s.subs([(b, b_v), (m, m_v), (k, k_v)])\n",
    "    \n",
    "    # create the lti system\n",
    "    num, den = v_s_v.as_numer_denom()\n",
    "    num = np.fromiter(num.as_poly(s).all_coeffs(), dtype=float)\n",
    "    den = np.fromiter(den.as_poly(s).all_coeffs(), dtype=float)\n",
    "    \n",
    "    v_s = sig.lti(num, den)\n",
    "\n",
    "    # plot the poles on the complex plane\n",
    "    plt.scatter(v_s.poles.real, v_s.poles.imag, marker='x')\n",
    "\n",
    "# plot a circle of radius sqrt(k/m) (magnitude of the natural frequency)\n",
    "theta = np.linspace(0, 2*np.pi, 100)\n",
    "circ = np.sqrt(k_v/m_v)*np.exp(1j*theta)\n",
    "plt.plot(circ.real, circ.imag, color = 'violet')\n",
    "\n",
    "plt.legend(['|wn|', 'b=0', 'b=0.1', 'b=0.75', 'critical', 'b=1.2'], loc='upper right')\n",
    "plt.xlim([-5,5])\n",
    "plt.ylim([-5,5])\n",
    "plt.axhline(0, color='black')\n",
    "plt.axvline(0, color='black')\n",
    "plt.title('s-plane')\n",
    "plt.grid()"
   ]
  },
  {
   "cell_type": "markdown",
   "metadata": {},
   "source": [
    "## 3.2.14 The response of no damping, underdamped, critically damped, and overdamped"
   ]
  },
  {
   "cell_type": "markdown",
   "metadata": {},
   "source": [
    "When you strike a bell with a hammer, it rings  \n",
    "however, if you dampen the sound by placing your finger on the bell you get a thud  \n",
    "  \n",
    "the \"ringing\" and the \"thud\" are impulse responses of the system  \n",
    "  \n",
    "In our example, we found the velocity due to a step reponse of gravity  \n",
    "when the ball was dropped in air  \n",
    "  \n",
    "For the translational mechanical system, the different damping regions  \n",
    "could be created experimentally by changing the medium that causes drag  \n",
    "  \n",
    "For example  \n",
    "  \n",
    "1. no damping, drop the ball in a vacuum with a perfect frictionless spring\n",
    "2. underdamped, drop the ball in air with a real bungy cord  \n",
    "3. underdamped, drop the ball in air with an old warn out bungy cord\n",
    "4. critically damped, drop the ball underwater in a swimming pool  \n",
    "5. overdamped, drop the ball in a big jar of honey, like Winnie the pooh\n",
    "  \n",
    "The code cell below, plots the responses due to the five cases of varying Stokes' drag  \n",
    "the responses correspond to the poles shown in the s-plane plot above  "
   ]
  },
  {
   "cell_type": "code",
   "execution_count": 10,
   "metadata": {},
   "outputs": [
    {
     "data": {
      "image/png": "[encoded data removed]",
      "text/plain": [
       "<Figure size 432x288 with 1 Axes>"
      ]
     },
     "metadata": {
      "needs_background": "light"
     },
     "output_type": "display_data"
    }
   ],
   "source": [
    "# create a time array\n",
    "t = np.linspace(0, 10, 1000)\n",
    "\n",
    "# enter the constants - all units must be SI units\n",
    "m_v = 0.2 # kg\n",
    "k_v = 1.5 # N/m (It takes 1.5N of force, about 1/3 pound to stretch the rubber band by 1m)\n",
    "\n",
    "# vary the damping term for five different values of b\n",
    "# 1. no damping, 2. underdamped close to the imaginary axis, 3. underdamped, 4. critically damped, 5. overdamped\n",
    "for b_v in [0.0, 0.1, 0.75, 2*np.sqrt(k_v*m_v), 1.2]:\n",
    "    \n",
    "    # form the product\n",
    "    v_s = H_s*Fg_s\n",
    "    \n",
    "    # substitute the values  \n",
    "    v_s_v = v_s.subs([(b, b_v), (m, m_v), (k, k_v)])\n",
    "    \n",
    "    # create the lti system\n",
    "    num, den = v_s_v.as_numer_denom()\n",
    "    num = np.fromiter(num.as_poly(s).all_coeffs(), dtype=float)\n",
    "    den = np.fromiter(den.as_poly(s).all_coeffs(), dtype=float)\n",
    "    \n",
    "    v_s = sig.lti(num, den)\n",
    "    \n",
    "    # use the impulse method to find the step response and plot it\n",
    "    t, v_t = v_s.impulse(T=t)\n",
    "\n",
    "    # plot the response\n",
    "    plt.plot(t, v_t)\n",
    "\n",
    "plt.legend(['b=0', 'b=0.1', 'b=0.75', 'critical', 'b=1.2'], loc='upper right')\n",
    "plt.xlabel('time, t [s]')\n",
    "plt.ylabel('v(s) [m/s]')\n",
    "plt.title('velocity versus time')\n",
    "plt.grid()"
   ]
  }
 ],
 "metadata": {
  "kernelspec": {
   "display_name": "Python 3",
   "language": "python",
   "name": "python3"
  },
  "language_info": {
   "codemirror_mode": {
    "name": "ipython",
    "version": 3
   },
   "file_extension": ".py",
   "mimetype": "text/x-python",
   "name": "python",
   "nbconvert_exporter": "python",
   "pygments_lexer": "ipython3",
   "version": "3.7.6"
  }
 },
 "nbformat": 4,
 "nbformat_minor": 4
}
