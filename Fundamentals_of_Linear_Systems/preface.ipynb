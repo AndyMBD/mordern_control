{
 "cells": [
  {
   "cell_type": "markdown",
   "metadata": {},
   "source": [
    "# Fundamentals of Linear Systems"
   ]
  },
  {
   "cell_type": "markdown",
   "metadata": {},
   "source": [
    "## Preface"
   ]
  },
  {
   "cell_type": "markdown",
   "metadata": {},
   "source": [
    "### The course"
   ]
  },
  {
   "cell_type": "markdown",
   "metadata": {},
   "source": [
    "The most important tool used by engineers today is the computer  \n",
    "For many years I had been working to add a little knowledge about computers  \n",
    "to the electrical engineering undergraduate program,  \n",
    "and finally in 2016 we were given permission to completely redesign the EE curriculum  \n",
    "Our goal was to give more knowledge about how to use computers in engineering for electrical engineering students  \n",
    "We made vast changes to the EE curriculum and some minor changes to the CE curriculum  \n",
    "As part of the curriculum changes, I also got permission to change our EE Fundamentals II course  \n",
    "  \n",
    "EE Fundamentals I and EE Fundamentals II have been mainstays for our college for many years  \n",
    "Indeed, these courses have been taught at most engineering schools for as long as I can remember  \n",
    "There are many books from many different publishers that support these courses  \n",
    "The content of the books is divided in half and taught as two courses in most colleges  \n",
    "  \n",
    "I was teaching those courses for many years  \n",
    "and I felt I wanted to do something about EE Fundamentals II from the moment I started teaching it  \n",
    "Students had a really hard time with EE Fundamentals II  \n",
    "The course typically starts with phasor analysis on circuits  \n",
    "The problem was, students in EE Fundamentals I never gained mastery knowledge of mesh and node analysis  \n",
    "Now they are being asked to perform mesh and node analysis with complex numbers  \n",
    "The algebra starts out overwhelming and quickly loses the students  \n",
    "Then, the material turns to power analysis, filter design, and Bode plots  \n",
    "Finally it ends with the Laplace transform and if algebra with complex numbers seems hard  \n",
    "try to make sense of mesh and node analysis when carrying around the independent variable, s  \n",
    "EE Fundamentals II was one of those courses were everybody did terrible and hoped for a great curve  \n",
    "  \n",
    "I felt the emphasis on circuit analysis and algebra,  \n",
    "took away from the concept of what it means to observe systems in the frequency domain  \n",
    "When I first started my PhD program at Rensselaer, I met Charles M Close  \n",
    "He was an emeritus faculty and came to campus one day  \n",
    "My advisor said I really needed to meet him because he thought Prof Close was great  \n",
    "He took me to the emeritus office and introduced us  \n",
    "When we headed back to our office, my advisor told me \"you have to get his book\"  \n",
    "So that's what I did.  I went to the library and took out his book  \n",
    "It turned out, the book really blew my mind, because it had a chapter describing how the Laplace method  \n",
    "really applies to all linear systems, not just circuits  \n",
    "Much of the Fundamentals of Linear Systems course is indebted to what I learned from that book  \n",
    "[The Analysis of Linear Circuits](https://www.amazon.com/Analysis-Linear-Circuits-Charles-Close/dp/0155026100/ref=sr_1_4?dchild=1&qid=1628795612&refinements=p_27%3ACharles+M+Close&s=books&sr=1-4)  \n",
    "  \n",
    "Because Fundamentals of Linear Systems does not require mesh or node analysis,  \n",
    "it no longer needs to be a follow up course to EE Funadamentals I  \n",
    "Students can now take the two courses in any order because EE Fundamentals I is not a prerequisite course  \n",
    "Prerequisite knowledge of Calculus I and corequisite knowledge Physics I are required for the course  \n",
    "  \n",
    "I wanted to make a course without the rigors of difficult algebra  \n",
    "a course that applied to all systems, not just circuits  \n",
    "and a course that would be useful to students here in the middle of the 21st century  \n",
    "After much thought and searching, I found the Jupyter system  \n",
    "Fundamentals of Linear Systems is based around Jupyter notebooks, Jupterhub, nbgrader, and now Jupyterbook  "
   ]
  },
  {
   "cell_type": "markdown",
   "metadata": {},
   "source": [
    "### The book"
   ]
  },
  {
   "cell_type": "markdown",
   "metadata": {},
   "source": [
    "This book is intended to support an introductory engineering course on linear systems  \n",
    "  \n",
    "The material is not specific to a particular field of engineering  \n",
    "and draws examples from various analogous systems  \n",
    "In this way the course is intended for a general engineering audience at the sophomore level  \n",
    "  \n",
    "The writing is set in a teaching framework, and as such,  \n",
    "the complete description of some foundational ideas are reserved to be expanded upon later  \n",
    "  \n",
    "Those readers who are familiar with linear systems may feel the knowledge is misleading or in error  \n",
    "Please consider the material is difficult to understand and hiding the entire picture from a student,  \n",
    "new to this material can be beneficial for their understanding\n",
    "\n",
    "The book is divided into four parts  \n",
    "Each part describes physical systems as how they relate to particular frequencies  \n",
    "  \n",
    "The first part of the book assumes the frequency, $s$, is a real number  \n",
    "We are limiting $s$ to values of $s=\\alpha+0j$ [Nepers/second]  \n",
    "As such, natrual responses are of the form of traditional growing or shrinking exponentials  \n",
    "and systems are limited to first order  \n",
    "  \n",
    "In part two, we stick with first order systems, but introduce imaginary exponentials, $s=0\\pm j\\omega$ [radians/second]  \n",
    "With frequencies described by imaginary complex conjugates, the exponential is now a sin/cos wave  \n",
    "We introduce the concept of steady-state and phasor analysis  \n",
    "  \n",
    "The third part of the book finally involves complex frequencies, $s=\\alpha\\pm j\\omega$ [1/s]  \n",
    "Second order systems are introduced and the s-plane is covered  \n",
    "  \n",
    "The last part of the book changes the frequency from $s$ to the discrete time frequency, $z$  \n",
    "The final concepts are about discrete time systems, the z-plane, and simple applications like digital filters  \n",
    "  \n",
    "You can see the book is organized as a story about frequencies  \n",
    "Each part focusing on a different set of frequency values  \n",
    "  \n",
    "Within each part of the book, the material is divided into six chapters, which makes a book with 24 chapters  \n",
    "It's not coincidence that 24 chapters and three midterm exams, makes a total of 27 classes  \n",
    "During our semester, there are 27 classes in a Monday/Wednesday or Tuesday/Thursday class format  \n",
    "The book was written from a teaching perspective  \n",
    "Each chapter is intended to be the material delivered in one 80 minute lecture  \n",
    "  \n",
    "With the incorporation of Jupyterhub and nbgrader, students are now assigned autograded questions to go with the reading  \n",
    "(many thanks to our students Renee Ding and Erik Olsen for setting each of these systems up)  \n",
    "The reading is due before each lecture, one chapter per lecture is required  \n",
    "  \n",
    "The references for the book are embedded links to only two sources  \n",
    "These sources are wikipedia and the Scipy organization's documentation  \n",
    "I realize it is controversial to use wikipedia as a reference,  \n",
    "especially with the invasive nature of misinformation on the internet  \n",
    "But to me, the wikipedia pages seemed well written and correct  \n",
    "  \n",
    "The first year the course was offered (Fall 2019), I did not have a text book  \n",
    "Although the second time the course was offered, it had to be online because of the pandemic,  \n",
    "I beleive the book greatly enhanced the experience for the students  \n",
    "The starting point of the book is really a rough draft  \n",
    "Updates will not take the form of revisions, it is very easy to make make continual improvements  \n",
    "Jennifer Graham has agreed to help as a co-author  \n",
    "and I expect the book and nbgrader questions to become much better over time, now that we have co-authors  \n",
    "  \n",
    "Duane Marcy  \n",
    "Syracuse, New York, 2021"
   ]
  }
 ],
 "metadata": {
  "kernelspec": {
   "display_name": "Python 3",
   "language": "python",
   "name": "python3"
  },
  "language_info": {
   "codemirror_mode": {
    "name": "ipython",
    "version": 3
   },
   "file_extension": ".py",
   "mimetype": "text/x-python",
   "name": "python",
   "nbconvert_exporter": "python",
   "pygments_lexer": "ipython3",
   "version": "3.7.6"
  }
 },
 "nbformat": 4,
 "nbformat_minor": 4
}
