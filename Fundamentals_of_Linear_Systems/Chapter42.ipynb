{
 "cells": [
  {
   "cell_type": "markdown",
   "metadata": {},
   "source": [
    "# 4.2 The z-transform"
   ]
  },
  {
   "cell_type": "markdown",
   "metadata": {},
   "source": [
    "## 4.2.1 Discrete time signals - review"
   ]
  },
  {
   "cell_type": "markdown",
   "metadata": {},
   "source": [
    "We know that 6 types of continuous time waves can be described by the frequency, $s$  \n",
    "along with the equation  \n",
    "  \n",
    "$$f(t)=\\frac{A}{2}e^{st}+\\frac{A^*}{2}e^{s^*t}$$  \n",
    "Similiarly, we learned the same 6 types of waves can be described in discrete time  \n",
    "by the normalized complex frequency, $z$, with the equation  \n",
    "  \n",
    "$$f[k]=\\frac{A}{2}z^k+\\frac{A^*}{2}z^{*k}$$  \n",
    "The continuous time waves and discrete time waves will have the same wave shape if  \n",
    "  \n",
    "$$z=e^{sT}$$  \n",
    "except the normalized frequency, $z$, can never describe a wave with a frequency greater than $\\frac{1}{2T}$  \n",
    "If the frequency $s$ is greater than half the sampling rate,  \n",
    "$z$ will automatically be the aliased frequency of the sampled continuous time wave  "
   ]
  },
  {
   "cell_type": "markdown",
   "metadata": {},
   "source": [
    "## 4.2.2 Mapping the s-plane to the z-plane"
   ]
  },
  {
   "cell_type": "markdown",
   "metadata": {},
   "source": [
    "Consider a continuous time cosine wave with a frequency of 100Hz, then $s=\\pm j2\\pi100=\\pm j628$  \n",
    "Let's also stick with a sampling rate of 1000 samples/second, or $T=1ms$  \n",
    "This gives us a discrete time frequency of $z=0.809\\pm0.588j$ from $z=e^{sT}$  \n",
    "  \n",
    "In the previous chapter, we saw that the frequency 900Hz, aliased to 100Hz  \n",
    "Put $s=\\pm j2\\pi900$ into $z=e^{sT}$ and you get the same discrete time frequency $z=0.809\\mp0.588j$  \n",
    "  \n",
    "The equation $z=e^{sT}$, automatically handles aliasing  \n",
    "  \n",
    "The figure below shows many values of frequency on the s-plane  \n",
    "Remember that sin/cos waves have a purely imaginary value of s, $s=\\pm j\\omega$, $\\alpha=0$  \n",
    "Most of the values on the s-plane in the figure below are imaginary (sin/cos waves),  \n",
    "starting at low frequencies and then getting bigger along the imaginary axis  \n",
    "The complex conjugate of the frequencies are also shown along the negative imaginary axis  \n",
    "The values are 100Hz, 200Hz, 350Hz, 500Hz, 900Hz, and 1150Hz, ($s=\\pm j628,\\pm j1257,\\pm j2199,\\pm j3142,\\pm j5655,\\pm j7266$)\n",
    "\n",
    "Given a sampling rate of 1000 samples/sec,  \n",
    "half the sampling rate (500Hz) and the sampling rate (1000Hz), are also marked on the imaginary axis  \n",
    "There are also two real frequencies marked at $s=\\pm500$ [Np/s]  \n",
    "  \n",
    "The second chart, on the right, shows the same frequencies mapped to the z-plane\n",
    "\n",
    "![image1!](./images_s4/image_4_2_1.png)  "
   ]
  },
  {
   "cell_type": "markdown",
   "metadata": {},
   "source": [
    "The key to the mapping between $s$ and $z$, is that the imaginary axis of the s-plane  \n",
    "gets wrapped around the unit circle  \n",
    "The circle drawn on the z-plane above has a radius of 1 and is known as the unit circle  \n",
    "  \n",
    "As the imaginary frequency $s$ increases beyond half the sampling rate, $\\big(s=\\frac{f_s}{2}$ or $z=-1\\big)$  \n",
    "the corresponding frequency z keeps looping back around the z-plane's unit circle  \n",
    "This is what creates the triangular looking aliasing graph shown previously  \n",
    "  \n",
    "Complex frequencies always come as complex conjugate pairs,  \n",
    "so the negative imaginary axis of the s-plane gets wrapped around the unit circle in the opposite direction  \n",
    "  \n",
    "This means the negative complex term of 900Hz loops back around and lands on the postive complex term of 100Hz  \n",
    "Similarly, the positive complex term of 900Hz loops back around and lands on the negative complex term of 100Hz  \n",
    "This is why the complex values for $z$, flip sign when comparing 100Hz and 900Hz  \n",
    "However, the order of the sign for the z frequencies doesn't matter because addition is communative  \n",
    "The equation, $f[k]=\\frac{A}{2}z^k+\\frac{A^*}{2}z^{*k}$, returns the same wave regardless of the order of the sign in the z terms  \n",
    "as long as the z terms are complex conjugates  \n",
    "  \n",
    "When the continuous time frequency reaches the sampling rate $\\big(s=f_s\\big)$, it aliases back to DC $\\big(z=1\\big)$  \n",
    "  \n",
    "DC frequencies ($s=0$) map to $z=1$ on the z-plane  \n",
    "The center of the z-plane, $z=0$, is actually $-\\infty$ of the real axis of the s-plane  \n",
    "\n",
    "The sin/cos waves are along the unit circle of the z-plane  \n",
    "  \n",
    "You can see from the two real frequencies included in the figure above, $s=\\pm500$ [Np/s]  \n",
    "Decaying exponential frequencies are inside the unit circle,  \n",
    "but growing exponential frequencies are outside the unit circle  "
   ]
  },
  {
   "cell_type": "markdown",
   "metadata": {},
   "source": [
    "## 4.2.3 The z-transform"
   ]
  },
  {
   "cell_type": "markdown",
   "metadata": {},
   "source": [
    "Recall the Laplace transform has to do with the representation of a signal  \n",
    "It changes a signal, or function of time, to the same exact signal represented as a function of frequency, $s$  \n",
    "where, $s$ is a complex number describing the frequency in $\\alpha$ [Np/s] $\\pm$ $j\\omega$ [rad/s]  \n",
    "For example, $u(t)$ is 1 for $t>0$ in the time domain, and is transformed to  \n",
    "$U(s)=\\frac{1}{s}$ in the frequency domain.  Same signal, different representation  \n",
    "  \n",
    "The z-transform is the discrete time counterpart to the Laplace transform  \n",
    "It transforms a discrete time set of numbers, to a complex normalized discrete time frequency  \n",
    "Time does not really come into play, because the frequency is unitless and the points are indexed,  \n",
    "none of the math for discrete time systems concerns itself with time  \n",
    "However, time is incorporated when a continuous time signal is sampled, or when the continuous time frequency, $s$,  \n",
    "is mapped to the discrete time frequency, $z$  \n",
    "In discrete time systems, time only influences the spacing of the samples  \n",
    "and has nothing to do with interpreting the samples themselves  \n",
    "  \n",
    "So the z-transform changes discrete time signals from the \"time\" domain (indexed domain)  \n",
    "to the same signal represented as a function of complex normalized frequency, $z$  \n",
    "A signal represented as a function of $z$ is said to be in the z-domain  \n",
    "![image2!](./images_s4/image_4_2_2.png)  "
   ]
  },
  {
   "cell_type": "markdown",
   "metadata": {},
   "source": [
    "To define the z-transform, let's compare it to the Laplace transform  \n",
    "The equations below repeat the types of waves described by frequencies $s$ or $z$,  \n",
    "along with the definition of the Laplace transform and the z-transform  \n",
    "  \n",
    "$$Continuous\\;time\\;wave\\qquad\\qquad\\qquad\\qquad Discrete\\;time\\;wave$$  \n",
    "  \n",
    "$$f(t)=\\frac{A}{2}e^{st}+\\frac{A^*}{2}e^{s^*t}\\qquad\\qquad\\qquad\\qquad f(k)=\\frac{A}{2}z^k+\\frac{A^*}{2}z^{*k}$$  \n",
    "  \n",
    "$$Laplace\\;transform\\qquad\\qquad\\qquad\\qquad z-transform$$  \n",
    "  \n",
    "$$F(s)=\\int_{0}^{\\infty}f(t)e^{-st}dt\\qquad\\qquad\\qquad\\qquad F(z)=\\sum_{k=0}^{\\infty}f[k]z^{-k}$$  \n",
    "  \n",
    "Given the mapping between the s-plane and the z-plane, $z=e^{sT}$, the two transforms are virtually the same  \n",
    "In fact, the z-transform is the Laplace transform of a set of discrete time samples  \n",
    "The Laplace transform is an integration because the signals are continuous and known for all values of time  \n",
    "while the z-transform is a summation, because the signals are only known at discrete moments in time  \n",
    "\n",
    "The purpose of the Laplace transform or the z-transform is to transform arbitrary signals,  \n",
    "not just the 6 types of waves described by the frequencies, $s$, or $z$, to the frequency domain  \n",
    "  \n",
    "Remember, signals must be one-sided for our transforms to work  \n",
    "If the signal existed as one of the 6 types of waves for all time from $-\\infty<t<+\\infty$,  \n",
    "then it would have energy at only that one single frequency, but turning the signal on at $t=0$,  \n",
    "introduces a band of frequencies in either the s-domain or z-domain  "
   ]
  },
  {
   "cell_type": "markdown",
   "metadata": {},
   "source": [
    "## 4.2.4 A simple example of the z-transform"
   ]
  },
  {
   "cell_type": "markdown",
   "metadata": {},
   "source": [
    "The z-transform is very easy to perform by hand, because it is a summation, not calculus  \n",
    "Consider the set of numbers that descibes the wave shown on the [Discrete time](https://en.wikipedia.org/wiki/Discrete_time_and_continuous_time) wikipedia page  \n",
    "  \n",
    "$$f[k]= [0, 620, 806, 566, 392, 544, 849, 969, 718, 424, 403, 544, 599, 435]$$  \n",
    "The summation is simple to write out  \n",
    "(the wikipedia page did not describe the signal past 13 samples)  \n",
    "  \n",
    "$$F(z)=\\sum_{k=0}^{13}f[k]z^{-k}= 0z^{-0}+620z^{-1}+806z^{-2}+566z^{-3}+392z^{-4}+544z^{-5}+849z^{-6}\\\\\n",
    "+969z^{-7}+718z^{-8}+424z^{-9}+403z^{-10}+544z^{-11}+599z^{-12}+435z^{-13}$$  \n",
    "It's that easy!  That's how you compute the z-transform  \n",
    "  \n",
    "Notice that every time you multiply by the unit delay, you delay to the next number in the list  \n",
    "$z^{-0}=1$ represents $t=0$, while $z^{-1}$ is a delay to the next sampled point in time  \n",
    "$z^{-1}\\times z^{-1}=z^{-2}$ is  a delay of two sample periods to the third point, and so on... \n",
    "  \n",
    "It may be confusing, but our graphs with time on the x-axis show a time delay  \n",
    "If a sin/cos wave from a function generator turns on at $t=0$, and completes one cycle at $t=1$[s],  \n",
    "we would graph this as a sin/cos wave along the positive x-axis  \n",
    "But, $t=1$[s] happens after $t=0$.  You have to delay, or wait, for 1 second to complete the cycle  \n",
    "so time graphed along the positive x-axis is actually delayed time, not time in the future  \n",
    "  \n",
    "It's like viewing the waves on an oscilloscope  \n",
    "Earlier time is to the left of the oscilloscope screen, while later time is to the right of the screen  "
   ]
  },
  {
   "cell_type": "markdown",
   "metadata": {},
   "source": [
    "## 4.2.5 The z-transform of the unit step"
   ]
  },
  {
   "cell_type": "markdown",
   "metadata": {},
   "source": [
    "The discrete time unit step function is defined at discrete points in time  \n",
    "Similiar to the continuous time unit step function, the symbol, u[k], is often used  \n",
    "(as opposed to u(t) for the continuous time version)  \n",
    "[Unit step](https://en.wikipedia.org/wiki/Heaviside_step_function)  \n",
    "  \n",
    "The discrete time function is written as an indexed set of values, u[k]  \n",
    "Brackets are used for the integer index, k, rather than parenthesis  \n",
    "The bracket conforms with computer software and indexing better than parenthesis  \n",
    "The figure below defines the unit step function  \n",
    "![image3!](./images_s4/image_4_2_3.png)  \n",
    "Again, the z-transform is very easy  \n",
    "  \n",
    "$$u(z)= 1z^{-0}+1z^{-1}+1z^{-2}+1z^{-3}+1z^{-4}+\\cdots$$  \n",
    "But the number of terms goes to infinity!"
   ]
  },
  {
   "cell_type": "markdown",
   "metadata": {},
   "source": [
    "As long as the magnitude of $z$ is less than or equal to 1, this series will converge  \n",
    "When an infinite series converges, you can write it as a single equation rather than a summation  \n",
    "[Infinite geometric series](https://en.wikipedia.org/wiki/Geometric_progression#Infinite_geometric_series\n",
    ")  \n",
    "  \n",
    "The wikipedia page about infinite geometric series shows  \n",
    "  \n",
    "$$\\sum_{k=0}^\\infty{ar^k}=\\frac{a}{1-r}$$  \n",
    "For the infinite series representing the unit step, $a=1$ and $r=z^{-1}$  \n",
    "  \n",
    "$$\\sum_{k=0}^\\infty{1\\left(z^{-1}\\right)^{k}}=\\frac{1}{1-z^{-1}}=\\frac{z}{z-1}$$  \n",
    "The z-transform is symbolized with a capital script $\\mathcal{Z}$  \n",
    "just as the Laplace transform is symbolized with a capital script $\\mathcal{L}$  \n",
    "therefore, we can write  \n",
    "  \n",
    "$$\\mathcal{Z}\\left\\{{u[k]}\\right\\}=\\frac{z}{z-1}$$\n",
    "The inverse z-transform, just goes back the other way  \n",
    "  \n",
    "$$\\mathcal{Z}^{-1}\\left\\{{\\frac{z}{z-1}}\\right\\}=u[k]$$  "
   ]
  },
  {
   "cell_type": "markdown",
   "metadata": {},
   "source": [
    "## 4.2.6 The z-transform tables"
   ]
  },
  {
   "cell_type": "markdown",
   "metadata": {},
   "source": [
    "Of course, for all the one-sided discrete time functions we are interested in,  \n",
    "we could compute the z-transform, just as we did for the discrete time unit step function above  \n",
    "  \n",
    "But, just as we did for the Laplace transform, we will simply look up the z-transforms in a table  \n",
    "  \n",
    "Our table of functional z-transforms is shown below  \n",
    "![image4!](./images_s4/image_4_2_4.png)  "
   ]
  },
  {
   "cell_type": "markdown",
   "metadata": {},
   "source": [
    "The operational transforms we are most concerned with are integration and differentiation  \n",
    "The fundamental theorum of calculus requires you to take a limit as $\\Delta t\\rightarrow0$ for differentiation  \n",
    "and it requires the function be continuous over time for integration  \n",
    "[Fundamental theorum of calculus](https://en.wikipedia.org/wiki/Fundamental_theorem_of_calculus)  \n",
    "  \n",
    "Neither of these conditions can be met for discrete time systems,  \n",
    "so, integration and differentiation cannot be defined for discrete time systems  \n",
    "  \n",
    "For discrete time systems we must define accumulation instead of integration  \n",
    "and differencing instead of differentiation  \n",
    "\n",
    "Our table of operational transforms becomes  \n",
    "![image5!](./images_s4/image_4_2_5.png)  "
   ]
  },
  {
   "cell_type": "markdown",
   "metadata": {},
   "source": [
    "## 4.2.7 The discrete time singularity functions"
   ]
  },
  {
   "cell_type": "markdown",
   "metadata": {},
   "source": [
    "Just as we have the continuous time signularity functions,  \n",
    "we can define discrete time singularity functions as well  \n",
    "  \n",
    "We have already looked at the discrete time unit step function  \n",
    "The diagram below shows the discrete time unit impulse, unit step, and unit ramp  \n",
    "![image6!](./images_s4/image_4_2_6.png)  "
   ]
  },
  {
   "cell_type": "markdown",
   "metadata": {},
   "source": [
    "### 4.2.7.1 Differencing the unit step"
   ]
  },
  {
   "cell_type": "markdown",
   "metadata": {},
   "source": [
    "When you apply the differencing equation to the discrete time unit step function,  \n",
    "you should get the discrete time unit impulse  \n",
    "just as you do when you take the derivative of the continuous time unit step to get the unit impulse  \n",
    "  \n",
    "You can see that \n",
    "> $k=-1$: $\\left(u[-1]-u[-2]\\right)=0-0=0$  \n",
    "$k=0$: $\\left(u[0]-u[-1]\\right)=1-0=1$  \n",
    "$k=1$: $\\left(u[1]-u[0]\\right)=1-1=0$  \n",
    "  \n",
    "For all other indices, $k<-1$ and $k>1$, the differencing equation will return a value of 0  \n",
    "so indeed, differencing the unit step gives you the unit impulse  \n",
    "  \n",
    "The operational z-transform for the difference of the unit step is  \n",
    "\n",
    "$$\\mathcal{Z}\\left\\{u[k]-u[k-1]\\right\\}=\\frac{z-1}{z}u(z)=\\left(\\frac{z-1}{z}\\right)\\left(\\frac{z}{z-1}\\right)=1$$  \n",
    "which is the z-transform of the unit impulse"
   ]
  },
  {
   "cell_type": "markdown",
   "metadata": {},
   "source": [
    "### 4.2.7.2 Accumulating the unit step"
   ]
  },
  {
   "cell_type": "markdown",
   "metadata": {},
   "source": [
    "In a similiar analogy to the continuous time singularity functions,  \n",
    "the accumulation of the unit step should return the unit ramp  \n",
    "  \n",
    "Consider some the of values found from accumulating the discrete time unit step  \n",
    "  \n",
    "> $n=0$: $\\sum_{k=0}^0{u[k]}=1$ \n",
    ">   \n",
    "> $n=1$: $\\sum_{k=0}^1{u[k]}=1+1=2$  \n",
    ">   \n",
    "> $n=2$: $\\sum_{k=0}^2{u[k]}=1+1+1=3$  \n",
    ">   \n",
    "> $n=3$: $\\sum_{k=0}^3{u[k]}=1+1+1+1=4$  \n",
    "  \n",
    "Although the result looks like the discrete time unit ramp, it starts one time step too early  \n",
    "  \n",
    "Consider the z-transform  \n",
    "  \n",
    "$$\\mathcal{Z}\\left\\{\\sum_{k=0}^n{u[k]}\\right\\}=\\frac{z}{z-1}u(z)=\\left(\\frac{z}{z-1}\\right)\\left(\\frac{z}{z-1}\\right)=\\frac{z^2}{(z-1)^2}$$  \n",
    "This is not the same as the z-transform for the unit ramp  \n",
    "However, accumulating the unit step moved the signal forward by one time unit compared to the unit ramp  \n",
    "  \n",
    "If we delay the z-transform we just found by 1 time step,  \n",
    "that means we multiply by $z^{-1}$ in the discrete time frequency domain  \n",
    "  \n",
    "$$\\mathcal{Z}\\left\\{\\sum_{k=0}^n{u[k-1]}\\right\\}=\\left(\\frac{z^2}{(z-1)^2}\\right)\\left(z^{-1}\\right)=\\frac{z}{(z-1)^2}$$  \n",
    "which is the z-transform of the discrete time unit ramp"
   ]
  },
  {
   "cell_type": "markdown",
   "metadata": {},
   "source": [
    "### 4.2.7.3 Accumulating the unit impulse"
   ]
  },
  {
   "cell_type": "markdown",
   "metadata": {},
   "source": [
    "Some examples of accumulating the unit impulse are  \n",
    "  \n",
    "> $n=0$: $\\sum_{k=0}^0{\\delta[k]}=1$ \n",
    ">   \n",
    "> $n=1$: $\\sum_{k=0}^1{\\delta[k]}=1+0=1$  \n",
    ">   \n",
    "> $n=2$: $\\sum_{k=0}^2{\\delta[k]}=1+0+0=1$  \n",
    ">   \n",
    "> $n=3$: $\\sum_{k=0}^3{\\delta[k]}=1+0+0+0=1$  \n",
    "  \n",
    "Of course, this is the discrete time unit step  \n",
    "  \n",
    "The z-transform is  \n",
    "  \n",
    "$$\\mathcal{Z}\\left\\{\\sum_{k=0}^n{\\delta[k]}\\right\\}=\\frac{z}{z-1}\\delta(z)=\\left(\\frac{z}{z-1}\\right)\\left(1\\right)=\\frac{z}{(z-1)}$$  \n",
    "which is the z-transform of the unit step"
   ]
  },
  {
   "cell_type": "markdown",
   "metadata": {},
   "source": [
    "### 4.2.7.4 Differencing the unit ramp"
   ]
  },
  {
   "cell_type": "markdown",
   "metadata": {},
   "source": [
    "Differencing the unit ramp  \n",
    "  \n",
    "> $k=0$: $r[0]-r[-1]=0-0=0$  \n",
    "$k=1$: $r[1]-r[0]=1-0=1$  \n",
    "$k=2$: $r[2]-r[1]=2-1=1$  \n",
    "$k=3$: $r[3]-r[2]=3-2=1$  \n",
    "  \n",
    "almost gives us the unit step,  \n",
    "but this time the function is moved forward by one time step as compared to the unit step  \n",
    "The transform below shifts the sequence forward by one time unit,  \n",
    "so therefore multiplies the transform by $z$ to account for the time shift  \n",
    "  \n",
    "$$\\mathcal{Z}\\left\\{r[k+1]-r[k]\\right\\}=\\frac{z-1}{z}r(z)z=\\left(\\frac{z-1}{z}\\right)\\left(\\frac{z}{(z-1)^2}\\right)z=\\frac{z}{z-1}$$  \n",
    "The time-shifted unit ramp transforms to the unit step"
   ]
  },
  {
   "cell_type": "markdown",
   "metadata": {},
   "source": [
    "## 4.2.8 Transforming an exponential"
   ]
  },
  {
   "cell_type": "markdown",
   "metadata": {},
   "source": [
    "Consider an example exponential wave, $f(t)=12e^{-4t}$. Let's find the z-transform  \n",
    "Because this is a continuous time wave, it must be sampled before we can take the z-transform  \n",
    "Assume a sampling rate of 20 samples/sec  \n",
    "  \n",
    "The code cell below plots the sampled wave  "
   ]
  },
  {
   "cell_type": "code",
   "execution_count": 1,
   "metadata": {},
   "outputs": [
    {
     "data": {
      "image/png": "[encoded data removed]",
      "text/plain": [
       "<Figure size 432x288 with 1 Axes>"
      ]
     },
     "metadata": {
      "needs_background": "light"
     },
     "output_type": "display_data"
    }
   ],
   "source": [
    "import numpy as np\n",
    "import matplotlib.pyplot as plt\n",
    "\n",
    "k = np.arange(0, 25, 1) # indices for sampled data\n",
    "T = 1/20 # sampling period\n",
    "kT = k*T\n",
    "f_k = 12*np.exp(-4*kT)\n",
    "\n",
    "plt.scatter(k, f_k)\n",
    "plt.xlabel('index, k')\n",
    "plt.ylabel('exponential function')\n",
    "plt.title('Sampled exponential function')\n",
    "plt.grid()"
   ]
  },
  {
   "cell_type": "markdown",
   "metadata": {},
   "source": [
    "To take the z-transform, the exponential equation must be written in terms of the index, $k$, rather than time, $t$  \n",
    "Assume a sampling period of $T=0.05$[s], (20 samples/sec)\n",
    "  \n",
    "$$f[k]\\equiv f(kT)=12e^{-4kT}=12\\left\\{\\left(e^{-4T}\\right)^k\\right\\}=12\\left(0.819^k\\right)$$  \n",
    "The z-transform is easy to write, just look it up in the table  \n",
    "  \n",
    "$$f(z)=\\frac{12z}{z-0.819}$$"
   ]
  },
  {
   "cell_type": "markdown",
   "metadata": {},
   "source": [
    "## 4.2.9 Transforming a sin/cos wave"
   ]
  },
  {
   "cell_type": "markdown",
   "metadata": {},
   "source": [
    "Again, we will take advantage that math is easier if you use complex numbers  \n",
    "Let's consider a phase shifted sine wave with frequency of 1[rad/s] ($s=j$) and a phasor of $7.07\\angle45^\\circ$  \n",
    "We will sample the wave at 2.5 samples/sec  \n",
    "  \n",
    "The code cell below plots the sampled points"
   ]
  },
  {
   "cell_type": "code",
   "execution_count": 2,
   "metadata": {},
   "outputs": [
    {
     "data": {
      "image/png": "[encoded data removed]",
      "text/plain": [
       "<Figure size 432x288 with 1 Axes>"
      ]
     },
     "metadata": {
      "needs_background": "light"
     },
     "output_type": "display_data"
    }
   ],
   "source": [
    "k = np.arange(0, 25, 1) # indices for sampled data\n",
    "T = 1/2.5 # sampling period\n",
    "kT = k*T\n",
    "f_k = (5+5j)/2*np.exp(1j*kT) + (5-5j)/2*np.exp(-1j*kT)\n",
    "\n",
    "plt.scatter(k, f_k.real)\n",
    "plt.xlabel('index, k')\n",
    "plt.ylabel('sin/cos wave')\n",
    "plt.title('Sampled sin/cos function')\n",
    "plt.grid()"
   ]
  },
  {
   "cell_type": "markdown",
   "metadata": {},
   "source": [
    "The equation of the sin/cos wave is  \n",
    "  \n",
    "$$f(t)=\\frac{5+j5}{2}e^{jt}+\\frac{5-j5}{2}e^{-jt}$$  \n",
    "We take advantage of linearity and transform both exponentials independently  \n",
    "rewrite the equation in its sampled form  \n",
    "  \n",
    "$$f[k]\\equiv f(kT)=\\frac{5+j5}{2}e^{jkT}+\\frac{5-j5}{2}e^{-jkT}=\\frac{5+j5}{2}(e^{jT})^k+\\frac{5-j5}{2}(e^{-jT})^k$$  \n",
    "Assume a sampling period of $T=0.4$[s], (2.5 samples/sec)  \n",
    "  \n",
    "$$f(k)=\\frac{5+j5}{2}(0.921+0.389j)^k+\\frac{5-j5}{2}(0.921-0.389j)^k$$  \n",
    "Look it up in the table  \n",
    "  \n",
    "$$f(z)=\\frac{(2.5+2.5j)z}{z-0.921-0.389j}+\\frac{(2.5-2.5j)z}{z-0.921+0.389j}$$  "
   ]
  }
 ],
 "metadata": {
  "kernelspec": {
   "display_name": "Python 3",
   "language": "python",
   "name": "python3"
  },
  "language_info": {
   "codemirror_mode": {
    "name": "ipython",
    "version": 3
   },
   "file_extension": ".py",
   "mimetype": "text/x-python",
   "name": "python",
   "nbconvert_exporter": "python",
   "pygments_lexer": "ipython3",
   "version": "3.7.6"
  }
 },
 "nbformat": 4,
 "nbformat_minor": 4
}
