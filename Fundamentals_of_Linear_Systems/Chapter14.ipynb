{
 "cells": [
  {
   "cell_type": "markdown",
   "metadata": {},
   "source": [
    "# 1.4 The transfer function"
   ]
  },
  {
   "cell_type": "markdown",
   "metadata": {},
   "source": [
    "## 1.4.1 Similarity between Gravity and Electricity"
   ]
  },
  {
   "cell_type": "markdown",
   "metadata": {},
   "source": [
    "Consider Newton's law of universal gravity  \n",
    "[Newton's law of universal gravity](https://en.wikipedia.org/wiki/Newton%27s_law_of_universal_gravitation)  \n",
    "  \n",
    "$$F=G\\frac{m_1m_2}{r^2}$$\n",
    "  \n",
    "and Coulomb's law  \n",
    "[Coulomb's law](https://en.wikipedia.org/wiki/Coulomb%27s_law)  \n",
    "  \n",
    "$$F=k_e\\frac{q_1q_2}{r^2}$$\n",
    "\n",
    "Look how similar gravity and electricy behave"
   ]
  },
  {
   "cell_type": "markdown",
   "metadata": {},
   "source": [
    "When we create equations for macroscopic systems that depend on gravity,  \n",
    "such as a ball falling in flat earth approximation, $F=m\\frac{dv}{dt}$,  \n",
    "we can make similar macroscopic systems of equations that depend on electricity  "
   ]
  },
  {
   "cell_type": "markdown",
   "metadata": {},
   "source": [
    "## 1.4.2 The mechanical-electrical analogy"
   ]
  },
  {
   "cell_type": "markdown",
   "metadata": {},
   "source": [
    "There are many ways to describe analagous systems  \n",
    "Let's consider a mechanical-electrical analogy where power-congugate variables are matched  \n",
    "[mechanical-electrical analogy](https://en.wikipedia.org/wiki/Mechanical–electrical_analogies)  "
   ]
  },
  {
   "cell_type": "markdown",
   "metadata": {},
   "source": [
    "We learned the power conjugate variables for mechanical systems are F and v  \n",
    "  \n",
    "If we multiply the units [N] x [m/s] = [W], we get power for the product."
   ]
  },
  {
   "cell_type": "markdown",
   "metadata": {},
   "source": [
    "The power conjugate variables for electricy are voltage and current, V and I.  \n",
    "  \n",
    "In Fundamentals of Linear Systems, we will make the distinction between voltage and velocity  \n",
    "by using upper case V for voltage and lower case v for velocity  "
   ]
  },
  {
   "cell_type": "markdown",
   "metadata": {},
   "source": [
    "Because voltage and current are power conjugate variables, their product should be power   \n",
    "[International System of Units](https://en.wikipedia.org/wiki/International_System_of_Units)  \n",
    "  \n",
    "[V] x [I] = [J/C] x [C/s] = [J/s] = [W]  \n",
    "  \n",
    "so indeed, V x I is power"
   ]
  },
  {
   "cell_type": "markdown",
   "metadata": {},
   "source": [
    "## 1.4.3 Analogous Systems"
   ]
  },
  {
   "cell_type": "markdown",
   "metadata": {},
   "source": [
    "Many types of systems, not just mechanical and electrical have analogous equations  \n",
    "All of the following systems can be written with analgous equations  \n",
    "In the list, the power conjugate variables are included, each of their products are power in [W]\n",
    "* translational mechanical; force, F, and velocity, v\n",
    "* rotational mechanical; torque, $\\tau$, and radial velocity, $\\omega$\n",
    "* electrical; voltage, V, and current, I\n",
    "* fluid flow; pressure, P, and volumetric flow, f\n",
    "* fluid flow in a gravitational field; head, gH, and mass flow, f\n",
    "* thermal; temperature, T, and heat flow, $\\dot{Q}$"
   ]
  },
  {
   "cell_type": "markdown",
   "metadata": {},
   "source": [
    "In Fundamentals of Linear Systems, we will consider the Impedance analogy  \n",
    "[Impedance analogy](https://en.wikipedia.org/wiki/Impedance_analogy)  \n",
    "  \n",
    "In the impedance analogy, one of the power conjugate variables is called the potential variable  \n",
    "The potential variable is also known as the across variable  \n",
    "  \n",
    "The other power conjugate varaible is called the flow variable  \n",
    "The flow variable is also known as the through variable  "
   ]
  },
  {
   "cell_type": "markdown",
   "metadata": {},
   "source": [
    "## 1.4.4 Impedance - the potential variable divided by flow variable"
   ]
  },
  {
   "cell_type": "markdown",
   "metadata": {},
   "source": [
    "The ratio of the potential variable and the flow variable is always an impedance  \n",
    "Consider the electrical system first  \n",
    "$$\\frac{V}{I} = R$$  \n",
    "The units for R, is [$\\Omega$]  \n",
    "Typically, this is written as  \n",
    "$$V=IR$$  \n",
    "which is the famous Ohm's law  \n",
    "[Ohm's law](https://en.wikipedia.org/wiki/Ohm%27s_law)"
   ]
  },
  {
   "cell_type": "markdown",
   "metadata": {},
   "source": [
    "In the mechanical analogy, the impedance is given by the ratio of force and velocity  \n",
    "  \n",
    "$$\\frac{F}{v}=b\\Rightarrow F=bv$$  \n",
    "  \n",
    "The term, b, is analagous to electrical impedance (resistance), R  \n",
    "b is a type of friction known as viscous drag and has the units [kg/s]  \n",
    "The linear ratio of force and velocity is known as Stokes' law  \n",
    "[Stokes' law](https://en.wikipedia.org/wiki/Stokes%27_law)"
   ]
  },
  {
   "cell_type": "markdown",
   "metadata": {},
   "source": [
    "##  1.4.5 The relationship between derivatives of power conjugate variables"
   ]
  },
  {
   "cell_type": "markdown",
   "metadata": {},
   "source": [
    "Physics is about describing the behavior of the world using math  \n",
    "In the physical world, many things depend on how something else changes  \n",
    "  \n",
    "Take for example, translational mechanical systems  \n",
    "The velocity depends on how the position changes, $v=\\frac{dx}{dt}$  \n",
    "  \n",
    "The acceleration depends on how the velocity changes,  $a=\\frac{dv}{dt}$ \n",
    "  \n",
    "And of course, applied force is proportional to how velocity changes,  $F=m\\frac{dv}{dt}$"
   ]
  },
  {
   "cell_type": "markdown",
   "metadata": {},
   "source": [
    "In this example, the power conjugate variable, F is proportional  \n",
    "to the derivative of the other power conjugate variable, v"
   ]
  },
  {
   "cell_type": "markdown",
   "metadata": {},
   "source": [
    "In the electrical analogy, where force is analogous to voltage and current is analogous to velocity  \n",
    "  \n",
    "The power conjugate variable, V is proportional  \n",
    "to the derivative of the other power conjugate variable, I  \n",
    "  \n",
    "$V = L\\frac{dI}{dt}$  \n"
   ]
  },
  {
   "cell_type": "markdown",
   "metadata": {},
   "source": [
    "## 1.4.6 Free body diagram and circuit diagram"
   ]
  },
  {
   "attachments": {},
   "cell_type": "markdown",
   "metadata": {},
   "source": [
    "For the mechanical-electrical analogy, the mechanical system is represented graphically as a free body diagram  \n",
    "and for the electrical system, the graphical representation is a circuit diagram  \n",
    "  \n",
    "Amazingly, the two drawings below represent analogous systems and have the same system of equations!  \n",
    "![image1!](./images_s1/image_1_4_1.png)  "
   ]
  },
  {
   "cell_type": "markdown",
   "metadata": {},
   "source": [
    "## 1.4.7 Air resistance and electrical resistance"
   ]
  },
  {
   "cell_type": "markdown",
   "metadata": {},
   "source": [
    "Let's consider a slightly more realistic system, even though it is a little more complicated  \n",
    "Let's assume when we drop the ball, it will \"feel\" some air resistance  \n",
    "  \n",
    "We are going to model the air resistance as linear stokes', or viscous, drag rather rather non-linear aerodynamic drag  "
   ]
  },
  {
   "cell_type": "markdown",
   "metadata": {},
   "source": [
    "While the equations $F=m\\frac{dv}{dt}$ and $V=L\\frac{dI}{dt}$ are lossless,  \n",
    "  \n",
    "the equations $F=bv$ and $V=IR$ causes losses to the system  \n",
    "\n",
    "When we speak about losses, we mean the system is losing energy  \n",
    "However, energy is conserved, so how can a system lose energy?  \n",
    "  \n",
    "In the case of mechanical resistance, mechnaical energy is transformed to heat energy  \n",
    "Likewise with electrical resistence.  The electrical energy is tranfromed to heat energy.  \n",
    "  \n",
    "In other words, when a spacecraft re-enters the atmosphere, it gets hot  \n",
    "and when you turn on the oven, it gets hot!"
   ]
  },
  {
   "attachments": {},
   "cell_type": "markdown",
   "metadata": {},
   "source": [
    "The free-body diagram and the circuit diagram below  \n",
    "are modified to include the effect of resistance on the systems  \n",
    "![image2!](./images_s1/image_1_4_2.png)  "
   ]
  },
  {
   "cell_type": "markdown",
   "metadata": {},
   "source": [
    "## 1.4.8 Writing a system of equations"
   ]
  },
  {
   "cell_type": "markdown",
   "metadata": {},
   "source": [
    "We will recast Newton's law according to d'Alembart's principle and consider $m\\frac{dv}{dt}$ as the inertial force  \n",
    "[d'Alembarts principle](https://en.wikipedia.org/wiki/D%27Alembert%27s_principle)  \n",
    "  \n",
    "For the electrical system, we will consider Kirchhoff's voltage law  \n",
    "[Kirchhoff's laws](https://en.wikipedia.org/wiki/Kirchhoff%27s_circuit_laws)  \n",
    "  \n",
    "Writing the two equations side by side gives us the following  \n",
    "  \n",
    "$$mechanical\\qquad\\qquad\\qquad\\qquad electrical$$  \n",
    "$$\\sum{F}=0\\qquad\\qquad\\qquad\\qquad\\sum{V}=0$$"
   ]
  },
  {
   "cell_type": "markdown",
   "metadata": {},
   "source": [
    "For the mechanical system, the forces are the applied force of gravity, $F_g$,  \n",
    "the force due to air resistance, $F_a$, and the inertial force, $F_i$  \n",
    "  \n",
    "For the electrical system , the voltages are the applied volage, V  \n",
    "the voltage across the resistor, $V_R$, and the voltage across the inductor, $V_L$  \n",
    "\n",
    "d'Alembart's principle and Kirchhoff's laws become  \n",
    "  \n",
    "$$F_i+F_a-F_g=0\\qquad\\qquad\\qquad\\qquad V_L+V_R-V=0$$"
   ]
  },
  {
   "cell_type": "markdown",
   "metadata": {},
   "source": [
    "By relating the power conjugate variables, as shown above,  \n",
    "we can re-write the equations as follows  \n",
    "  \n",
    "$$m\\frac{dv}{dt}+bv=F_g\\qquad\\qquad\\qquad\\qquad L\\frac{dI}{dt}+IR=V$$"
   ]
  },
  {
   "cell_type": "markdown",
   "metadata": {},
   "source": [
    "These equations are classic first order non-homogenous differential equations  \n",
    "Thats, what happens when you describe the physcial world in terms of math  \n",
    "  \n",
    "Because some quantities depend on how other quantities change,  \n",
    "you end up with differential equations  "
   ]
  },
  {
   "cell_type": "markdown",
   "metadata": {},
   "source": [
    "So yes, this course will be about differential equations  \n",
    "  \n",
    "But, no we don't don't need calculus  \n",
    "  \n",
    "We will change the systems to the frequency domain, where calculus becomes algebra!"
   ]
  },
  {
   "cell_type": "markdown",
   "metadata": {},
   "source": [
    "## 1.4.9 Transforming the system of equations to the frequency domain"
   ]
  },
  {
   "attachments": {},
   "cell_type": "markdown",
   "metadata": {},
   "source": [
    "Let's repeat our Laplace Transform Tables here  \n",
    "![image3!](./images_s1/image_1_4_3.png)  "
   ]
  },
  {
   "attachments": {},
   "cell_type": "markdown",
   "metadata": {},
   "source": [
    "![image4!](./images_s1/image_1_4_4.png)  "
   ]
  },
  {
   "cell_type": "markdown",
   "metadata": {},
   "source": [
    "Let's transform the first order differential equations to the frequency domain  \n",
    "  \n",
    "$$smv(s)+bv(s)=F_g(s)\\qquad\\qquad\\qquad\\qquad sLI(s)+RI(s)=V(s)$$  "
   ]
  },
  {
   "cell_type": "markdown",
   "metadata": {},
   "source": [
    "We can now simplify the equations because that is easy to do using algebra  \n",
    "  \n",
    "$$(sm+b)v(s)=F_g(s)\\qquad\\qquad\\qquad\\qquad (sL+R)I(s)=V(s)$$  \n",
    "  \n",
    "and that is our differential equations in the frequency domain"
   ]
  },
  {
   "cell_type": "markdown",
   "metadata": {},
   "source": [
    "## 1.4.10 The transfer function"
   ]
  },
  {
   "cell_type": "markdown",
   "metadata": {},
   "source": [
    "Before we move forward with our algebra, as a matter of convention and good practice  \n",
    "equations in the frequency domain are always written with the highest order s-term  \n",
    "with a coefficient od unity  \n",
    "  \n",
    "When we do that, the equations become  \n",
    "  \n",
    "$$(s+\\frac{b}{m})v(s)=\\frac{F_g(s)}{m}\\qquad\\qquad\\qquad\\qquad (s+\\frac{R}{L})I(s)=\\frac{V(s)}{L}$$"
   ]
  },
  {
   "cell_type": "markdown",
   "metadata": {},
   "source": [
    "When we represent signals in the frequency domain, we can take the ratio of two signals  \n",
    "In other words, divide the signals  \n",
    "  \n",
    "You can't do this in the time domain  \n",
    "  \n",
    "You can't take the current as a function of time and divide it by the voltage as a function of time  \n",
    "Division in the time domain is a highly non-linear process and the resulting signal has no meaning  \n",
    "  \n",
    "But it is perfectly valid to divide signals in the frequency domain"
   ]
  },
  {
   "cell_type": "markdown",
   "metadata": {},
   "source": [
    "Let's find the ratio of the signals in the frequency domain  \n",
    "  \n",
    "$$\\frac{v(s)}{F_g(s)}=\\frac{\\tfrac{1}{m}}{(s+\\tfrac{b}{m})}\\qquad\\qquad\\qquad\\qquad \\frac{I(s)}{V(s)}=\\frac{\\tfrac{1}{L}}{(s+\\tfrac{R}{L})}$$"
   ]
  },
  {
   "attachments": {},
   "cell_type": "markdown",
   "metadata": {},
   "source": [
    "When we write transfer functions, we like to define the signals as input and output signals  \n",
    "  \n",
    "We are trying to identify how a system responds to an input.  The response is the output signal.  \n",
    "  \n",
    "We can depict our two systems graphically as shown in the diagrams below  \n",
    "![image5!](./images_s1/image_1_4_5.png)  "
   ]
  },
  {
   "cell_type": "markdown",
   "metadata": {},
   "source": [
    "You can see in the graphical diagrams, that the transfer function is defined as H(s)  \n",
    "The symbol capital H, is used meaning hybrid. Hybrid is intended to mean the transfer function  \n",
    "transfers a signal of one type to a signal of a different type, like force to velocity or voltage to current,  \n",
    "In contrast, a transfer function could transfer one voltage signal to a different voltage signal, as in the case of a stereo amplifier  \n",
    "Technically, this is not a hybrid transfer function, although the usage is not that strict  \n",
    "We will call all transfer functions, H(s)... or G(s), P(s), etc.\n",
    "  \n",
    "The transfer function itself is a function of frequency and is defined as follows  \n",
    "  \n",
    "$$H(s)\\equiv\\frac{output signal\\;as\\;a\\;function\\;of\\;frequency}{input\\;signal\\;as\\;a\\;function\\;of\\;frequency}$$"
   ]
  },
  {
   "cell_type": "markdown",
   "metadata": {},
   "source": [
    "A transfer function only dependent on properties of the system  \n",
    "In the case of the systems described above, the transfer function only depends on m, b, L, and R  \n",
    "  \n",
    "A transfer function never depends on other signals"
   ]
  },
  {
   "cell_type": "markdown",
   "metadata": {},
   "source": [
    "## 1.4.11  Solving systems using transfer functions"
   ]
  },
  {
   "cell_type": "markdown",
   "metadata": {},
   "source": [
    "The transfer function is the ratio of an output signal to an input signal  \n",
    "  \n",
    "You typically know the input signal.  \n",
    "For example, when the ball is dropped, the force of gravity is applied  \n",
    "but, when t < 0, the force of gravity is cancelled by the holding force  \n",
    "  \n",
    "So the input to our mechanical system is a step function, or $F_g(t)=gm\\cdot u(t)$  "
   ]
  },
  {
   "cell_type": "markdown",
   "metadata": {},
   "source": [
    "We need to transform this to the frequency domain  \n",
    "  \n",
    "to use it with our transfer function, or $F_g(s)=\\frac{gm}{s}$"
   ]
  },
  {
   "cell_type": "markdown",
   "metadata": {},
   "source": [
    "The transfer function is defined as  \n",
    "$$H(s)=\\frac{v(s)}{F_g(s)}$$\n",
    "which is equal to  \n",
    "$$H(s)=\\frac{\\tfrac{1}{m}}{s+\\tfrac{b}{m}}$$"
   ]
  },
  {
   "cell_type": "markdown",
   "metadata": {},
   "source": [
    "We can compute the output simply from the transfer function  \n",
    "$$v(s)=H(s)F_g(s)$$"
   ]
  },
  {
   "cell_type": "markdown",
   "metadata": {},
   "source": [
    "Now we can simply substitute and solve for v(s)  \n",
    "$$v(s)=\\frac{\\tfrac{1}{m}}{s+\\tfrac{b}{m}}\\times\\frac{gm}{s}$$  \n",
    "  \n",
    "simplify  \n",
    "$$v(s)=\\frac{g}{s^s+\\tfrac{b}{m}s}$$"
   ]
  },
  {
   "cell_type": "markdown",
   "metadata": {},
   "source": [
    "If we assume no air drag, then b = 0  \n",
    "if we set b = 0, we get  \n",
    "$$v(s)=\\frac{g}{s^s}$$  \n",
    "or  \n",
    "$$v(t)=g\\cdot r(t)$$  \n",
    "the same result we saw before"
   ]
  },
  {
   "cell_type": "markdown",
   "metadata": {},
   "source": [
    "## 1.4.12 Solving linear time invariant systems with python"
   ]
  },
  {
   "cell_type": "markdown",
   "metadata": {},
   "source": [
    "When we define a transfer function, we are creating what is known as a liner time invariant system  \n",
    "A python library called SciPy, for Scientific Python,  has a built-in object  \n",
    "called lti that can be used for solving transfer functions  \n",
    "[lti system](https://en.wikipedia.org/wiki/Linear_time-invariant_system)"
   ]
  },
  {
   "cell_type": "markdown",
   "metadata": {},
   "source": [
    "A general transfer function is always of the form  \n",
    "$$H(s)=\\frac{polynomial\\;of\\;s}{polynomial\\;of\\;s}$$  \n",
    "the equation below is a general-form example of a transfer function  \n",
    "$$H(s)=\\frac{as^2+b}{s^3+cs^2+ds}$$  \n",
    "To enter this lti system in Python, one makes two lists  \n",
    "the lists are a list of the coefficients  \n",
    "  \n",
    "numerator = [a, 0, b]  \n",
    "denominator = [1, c, d, 0]  "
   ]
  },
  {
   "cell_type": "markdown",
   "metadata": {},
   "source": [
    "In our case we are going to enter a signal instead of a transfer function  \n",
    "we will use the lti object to solve for the system as a function of time  \n",
    "We are entering the following signal\n",
    "$$v(s)=\\frac{g}{s^s+\\tfrac{b}{m}s}$$"
   ]
  },
  {
   "cell_type": "code",
   "execution_count": 1,
   "metadata": {},
   "outputs": [],
   "source": [
    "import scipy.signal as sig\n",
    "import matplotlib.pyplot as plt\n",
    "\n",
    "# enter the constants - all units must be SI units\n",
    "g = 9.81 # m/s^2\n",
    "b = 0 # kg/s\n",
    "m = 0.2 # kg\n",
    "\n",
    "# create the numerator and denominator; don't forget the 0\n",
    "num = [g]\n",
    "den = [1, b/m, 0]"
   ]
  },
  {
   "cell_type": "markdown",
   "metadata": {},
   "source": [
    "You can create an lti system by passing in the numnerator and denominator  \n",
    "the documentation for the lti object is given here  \n",
    "[lti object](https://docs.scipy.org/doc/scipy/reference/generated/scipy.signal.lti.html#scipy.signal.lti)  \n",
    "  \n",
    "our transfer function is really a signal, so we will create an object called v_s"
   ]
  },
  {
   "cell_type": "code",
   "execution_count": 2,
   "metadata": {},
   "outputs": [
    {
     "name": "stdout",
     "output_type": "stream",
     "text": [
      "<class 'scipy.signal.ltisys.TransferFunctionContinuous'> \n",
      "\n",
      "TransferFunctionContinuous(\n",
      "array([9.81]),\n",
      "array([1., 0., 0.]),\n",
      "dt: None\n",
      ")\n"
     ]
    }
   ],
   "source": [
    "# create an lti system\n",
    "v_s = sig.lti(num, den)\n",
    "print(type(v_s),'\\n')\n",
    "print(v_s)"
   ]
  },
  {
   "cell_type": "markdown",
   "metadata": {},
   "source": [
    "The lti system has a built-in function to solve for the impulse response  \n",
    "  \n",
    "When you find the impulse response, you are telling Python to use the unit impulse as the input  \n",
    "  \n",
    "$$output(s)=H(s)input(s)$$  \n",
    "  \n",
    "but the Laplace Transfrom of the unit impulse is just 1, therefore  \n",
    "  \n",
    "$$output(s)=H(s)$$  \n",
    "  \n",
    "because we entered the coefficients for our signal v(s), the impulse response will return\n",
    "  \n",
    "$$output(s)=v(s)$$  \n",
    "[impulse](https://docs.scipy.org/doc/scipy/reference/generated/scipy.signal.impulse.html#scipy.signal.impulse)"
   ]
  },
  {
   "cell_type": "code",
   "execution_count": 3,
   "metadata": {},
   "outputs": [
    {
     "data": {
      "image/png": "[encoded data removed]",
      "text/plain": [
       "<Figure size 432x288 with 1 Axes>"
      ]
     },
     "metadata": {
      "needs_background": "light"
     },
     "output_type": "display_data"
    }
   ],
   "source": [
    "# use the impulse method to find the step response and plot it\n",
    "t, v_t = v_s.impulse()\n",
    "plt.plot(t, v_t)\n",
    "plt.xlabel('time, t [s]')\n",
    "plt.ylabel('v(s) [m/s]')\n",
    "plt.title('velocity versus time')\n",
    "plt.grid()"
   ]
  },
  {
   "cell_type": "markdown",
   "metadata": {},
   "source": [
    "As expected, we see the ramp function.  The slope of the ramp is g  \n",
    "Because there is no drag, the ball's speed keeps increasing forever as it drops thourhg space"
   ]
  },
  {
   "cell_type": "markdown",
   "metadata": {},
   "source": [
    "## 1.4.13 Adding drag causes a terminal velocity"
   ]
  },
  {
   "cell_type": "markdown",
   "metadata": {},
   "source": [
    "Let's see the effect of adding drag,  \n",
    "we will do this by making b > 0  \n",
    "\n",
    "Let's make b = 0.05[kg/s]  \n",
    "Don't forget, you have have to re-make the lti object"
   ]
  },
  {
   "cell_type": "code",
   "execution_count": 4,
   "metadata": {},
   "outputs": [
    {
     "name": "stdout",
     "output_type": "stream",
     "text": [
      "<class 'scipy.signal.ltisys.TransferFunctionContinuous'> \n",
      "\n",
      "TransferFunctionContinuous(\n",
      "array([9.81]),\n",
      "array([1. , 0.5, 0. ]),\n",
      "dt: None\n",
      ")\n"
     ]
    },
    {
     "data": {
      "image/png": "[encoded data removed]",
      "text/plain": [
       "<Figure size 432x288 with 1 Axes>"
      ]
     },
     "metadata": {
      "needs_background": "light"
     },
     "output_type": "display_data"
    }
   ],
   "source": [
    "# change the constants\n",
    "b = 0.1 # kg/s\n",
    "\n",
    "# create the numerator and denominator; don't forget the 0\n",
    "num = [g]\n",
    "den = [1, b/m, 0]\n",
    "\n",
    "# create an lti system\n",
    "v_s = sig.lti(num, den)\n",
    "print(type(v_s),'\\n')\n",
    "print(v_s)\n",
    "\n",
    "# find the impulse response and plot it\n",
    "t, v_t = v_s.impulse()\n",
    "plt.plot(t, v_t)\n",
    "plt.xlabel('time, t [s]')\n",
    "plt.ylabel('v(s) [m/s]')\n",
    "plt.title('velocity versus time')\n",
    "plt.grid()"
   ]
  }
 ],
 "metadata": {
  "kernelspec": {
   "display_name": "Python 3",
   "language": "python",
   "name": "python3"
  },
  "language_info": {
   "codemirror_mode": {
    "name": "ipython",
    "version": 3
   },
   "file_extension": ".py",
   "mimetype": "text/x-python",
   "name": "python",
   "nbconvert_exporter": "python",
   "pygments_lexer": "ipython3",
   "version": "3.7.6"
  }
 },
 "nbformat": 4,
 "nbformat_minor": 4
}
