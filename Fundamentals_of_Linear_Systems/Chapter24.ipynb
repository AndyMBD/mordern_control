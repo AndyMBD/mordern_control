{
 "cells": [
  {
   "cell_type": "markdown",
   "metadata": {},
   "source": [
    "# 2.4 First-order filters"
   ]
  },
  {
   "cell_type": "markdown",
   "metadata": {},
   "source": [
    "## 2.4.1 Impedance"
   ]
  },
  {
   "attachments": {},
   "cell_type": "markdown",
   "metadata": {},
   "source": [
    "Let's look at the two circuits we have studied so far  \n",
    "The series R-L circuit and the parallel R-C circuit  \n",
    "You have seen that these circuits are analogous to first order mechanical and flow systems respectively  \n",
    "Although what we are going to learn will apply equally to the analogous systems,   \n",
    "we want to concentrate on the electrical systems now  \n",
    "  \n",
    "![image1!](./images_s2/image_2_4_1.png)  "
   ]
  },
  {
   "cell_type": "markdown",
   "metadata": {},
   "source": [
    "For electrical systems, the power conjugate variables are V and I.  $V\\times I=Power\\;[W]$  \n",
    "  \n",
    "The inductor, resistor, and capacitor all have relationships between current and voltage  \n",
    "The relationships are derived using Maxwell's equations, but we will just list them here  \n",
    "  \n",
    "$$Inductor\\qquad\\qquad\\qquad Resistor\\qquad\\qquad\\qquad Capacitor$$  \n",
    "  \n",
    "$$V=L\\frac{dI}{dt}\\qquad\\qquad\\qquad V=IR\\qquad\\qquad\\qquad I=C\\frac{dV}{dt}$$  \n",
    "Transform these realtionships to the frquency domain  \n",
    "  \n",
    "$$V(s)=LsI(s)\\qquad\\qquad\\qquad V(s)=I(s)R\\qquad\\qquad\\qquad I(s)=CsV(s)$$  \n",
    "Write the frequency dependent ratio of voltage to current  \n",
    "This is actually the transfer function $\\frac{V(s)}{I(s)}$ for each circuit element  \n",
    "  \n",
    "$$\\frac{V(s)}{I(s)}=sL\\qquad\\qquad\\qquad \\frac{V(s)}{I(s)}=R\\qquad\\qquad\\qquad \\frac{V(s)}{I(s)}=\\frac{1}{sC}$$  \n",
    "We define the device transfer function as the impedance, Z  \n",
    "  \n",
    "$$Z=sL\\qquad\\qquad\\qquad Z=R\\qquad\\qquad\\qquad Z=\\frac{1}{sC}$$  \n",
    "Notice, the impedance is very similar to resistance  \n",
    "In fact, for circuit analysis, the rules for combining resistors in series and parallel, also applies to impedance  \n",
    "  \n",
    "Think of it like this; inductors, resistors and capacitors, all behave according to \"Ohm's law\" in the frequency domain  \n",
    "  \n",
    "$$V=IsL\\qquad\\qquad\\qquad V=IR\\qquad\\qquad\\qquad V=I\\left(\\frac{1}{sC}\\right)$$  \n",
    "or simply  \n",
    "  \n",
    "$$V=IZ$$  \n",
    "for every element"
   ]
  },
  {
   "cell_type": "markdown",
   "metadata": {},
   "source": [
    "## 2.4.2 Circuit analysis in the frequency domain"
   ]
  },
  {
   "attachments": {},
   "cell_type": "markdown",
   "metadata": {},
   "source": [
    "It won't be required for Fundamentals of Linear Systems,  \n",
    "but you can apply circuit analysis techniques such as mesh or node analysis to circuits, directly in the frequency domain.  \n",
    "Simply transform the circuit diagram to the frequency domain, element by element  \n",
    "  \n",
    "When the circuits above are transformed to the frequency domain they become  \n",
    "![image2!](./images_s2/image_2_4_2.png)  \n",
    "  \n",
    "Solve for any voltage or current you like, but be aware that all voltages and currents will be functions of s  \n",
    "If you want to know the time dependent solution, just use the inverse Laplace transform to go back to the time domain  \n",
    "  \n",
    "As a quick example, solve for the current in the series R-L circuit  \n",
    "The impedances combine just like resistors in series  \n",
    "so the total impedance is $Z_{total}=sL+R$  \n",
    "  \n",
    "The current is solved using \"Ohms's law\", $V=IZ_{total}$  \n",
    "  \n",
    "$$I=\\frac{V}{Z_{total}}=\\frac{V}{sL+R}$$  \n",
    "You can even find the transfer function $H(s)=\\frac{I}{V}$  \n",
    "  \n",
    "$$H(s)=\\frac{1}{sL+R}=\\frac{\\frac{1}{L}}{s+\\frac{R}{L}}$$  \n",
    "This is the transfer function we have been using all along  \n",
    "  \n",
    "In the parallel circuit, the impedances combine like resistors in parallel  \n",
    "You should be able to derive the transfer function for the parallel circuit as well  "
   ]
  },
  {
   "cell_type": "markdown",
   "metadata": {},
   "source": [
    "## 2.4.3 Steady state circuit analysis with the phasor method"
   ]
  },
  {
   "attachments": {},
   "cell_type": "markdown",
   "metadata": {},
   "source": [
    "The phasor method is a simplification of the Laplace method, which is only valid in the steady state and only at only one frequency.  \n",
    "  \n",
    "That frequency must represent a sin/cos wave; $s=j\\omega$, or a DC signal; $s=0$  \n",
    "  \n",
    "We can define the steady state AC impedance by substiting $s=j\\omega$  \n",
    "  \n",
    "$$Inductor\\qquad\\qquad\\qquad Resistor\\qquad\\qquad\\qquad Capacitor$$  \n",
    "    \n",
    "$$Z=j\\omega L\\qquad\\qquad\\qquad Z=R\\qquad\\qquad\\qquad Z=\\frac{1}{j\\omega C}$$  \n",
    "  \n",
    "The Phasor method only applies for systems driven by sin waves, so the source must now be sin/cos waves  \n",
    "When the circuits are transformed to to frequency domain using phasors, we can call it the Phasor domain  \n",
    "  \n",
    "![image3!](./images_s2/image_2_4_3.png)  \n",
    "  \n",
    "Using the Phasor simplification, all impedances, currents, and voltages are complex numbers  \n",
    "The complex voltages and currents are the phasor magnitude and phase of the sin/cos waves  \n",
    "Remember, the method is only valid at one frequency  "
   ]
  },
  {
   "attachments": {},
   "cell_type": "markdown",
   "metadata": {},
   "source": [
    "Let's repeat the example of the parallel R-C circuit with R=20$k\\Omega$ and C=10$\\mu F$,  \n",
    "with a 5mA sin source at the radial frequency $\\omega= 100$ [rad/s],  \n",
    "  \n",
    "We can draw the phasors and impedances directly on the circuit diagram  \n",
    "  \n",
    "![image4!](./images_s2/image_2_4_4.png)  \n",
    "  \n",
    "Somewhat unbelievably, but very conveniently, the SI units for $\\omega L$ and $\\frac{1}{\\omega C}$ are $\\Omega$s  \n",
    "Capacitors will always have a negative imaginary impedance  \n",
    "and Inductors will always have a positive imaginary impedance  \n",
    "Resistors always have a positive real impedance  \n",
    "  \n",
    "We can find the voltage by combining the impedances in parallel  \n",
    "  \n",
    "$$Z_{total}=\\frac{20k\\cdot-j1k}{20k-j1k}=49.9-997.5j\\;\\Omega$$  \n",
    "and then using Ohm's law  \n",
    "  \n",
    "$$V=IZ_{total}=-j5m\\cdot(49.9-997.5j)=-4.99-0.249j$$  \n",
    "and written as a sin wave\n",
    "  \n",
    "$$V(t)=4.99cos(100t-177.1)$$  \n",
    "again, exactly what we calculated earlier"
   ]
  },
  {
   "cell_type": "markdown",
   "metadata": {},
   "source": [
    "## 2.4.4 Steady state DC analysis"
   ]
  },
  {
   "attachments": {},
   "cell_type": "markdown",
   "metadata": {},
   "source": [
    "The last simplification we saw was for the DC steady state  \n",
    "If we define the impedances for $s=0$, we get  \n",
    "  \n",
    "$$Inductor\\qquad\\qquad\\qquad Resistor\\qquad\\qquad\\qquad Capacitor$$  \n",
    "    \n",
    "$$Z=0\\qquad\\qquad\\qquad Z=R\\qquad\\qquad\\qquad Z\\rightarrow\\infty$$  \n",
    "  \n",
    "In other words, inductors become short circuits and capacitors become open circuits  \n",
    "If we re-draw the circuits for steady state DC, they will look as follows  \n",
    "  \n",
    "![image5!](./images_s2/image_2_4_5.png)  \n",
    "  \n",
    "Under DC steady state conditions, the capacitors and inductors are effectively removed from the circuit"
   ]
  },
  {
   "cell_type": "markdown",
   "metadata": {},
   "source": [
    "## 2.4.5 The first order low-pass R-C filter"
   ]
  },
  {
   "attachments": {},
   "cell_type": "markdown",
   "metadata": {},
   "source": [
    "Now we can construct and solve many different types of circuits  \n",
    "The mechanical or flow analogues for all of the possible circuit configurations may not be so obvious  \n",
    "Although the analogous mechanical and flow counterparts to filters are used all the time,  \n",
    "the field of filter design is very strongly a circuit discipline.  Therefore we will only study electrical filters  \n",
    "  \n",
    "The first order low-pass R-C filter circuit is shown below  \n",
    "  \n",
    "![image6!](./images_s2/image_2_4_6.png)  \n",
    "  \n",
    "Notice, the transfer function has been defined on the circuit and it is a voltage transfer function  \n",
    "If you know the voltage divider rule, you can apply it directly using the impedances.  \n",
    "  \n",
    "Let's do a quick derivation in case you don't know it.  \n",
    "The current is  \n",
    "  \n",
    "$$I=\\frac{V_{in}}{Z_{total}}=\\frac{V_{in}}{R+\\frac{1}{sC}}$$ \n",
    "from Ohm's law  \n",
    "  \n",
    "$$V_{out}=IZ_C=\\frac{V_{in}}{R+\\frac{1}{sC}}\\cdot\\frac{1}{sC}$$  \n",
    "That's the voltage divider rule  \n",
    "  \n",
    "Let's solve for the transfer function and make the coefficient of s in the denominator equal 1  \n",
    "  \n",
    "$$H(s)=\\frac{V_{out}}{V_{in}}=\\frac{1}{sRC+1}=\\frac{\\frac{1}{RC}}{s+\\frac{1}{RC}}$$  \n",
    "We notice the magnitude of the natural frequency of this system is $\\frac{1}{RC}$"
   ]
  },
  {
   "cell_type": "markdown",
   "metadata": {},
   "source": [
    "When you study filter design, you are really most interested in the steady state AC response as a function of frequency  \n",
    "We learned that the Bode plot gives us exactly that information  \n",
    "  \n",
    "Let's try and example, with $R=1k\\Omega$ and $C=100nF$  \n",
    "and construct the magnitude Bode plot"
   ]
  },
  {
   "cell_type": "code",
   "execution_count": 1,
   "metadata": {},
   "outputs": [
    {
     "data": {
      "image/png": "[encoded data removed]",
      "text/plain": [
       "<Figure size 432x288 with 1 Axes>"
      ]
     },
     "metadata": {
      "needs_background": "light"
     },
     "output_type": "display_data"
    }
   ],
   "source": [
    "import scipy.signal as sig\n",
    "import numpy as np\n",
    "import matplotlib.pyplot as plt\n",
    "\n",
    "R = 1e3 # Ohms\n",
    "C = 100e-9 # Farads\n",
    "\n",
    "num = [1/(R*C)]\n",
    "den = [1, 1/(R*C)]\n",
    "H_s = sig.lti(num, den)\n",
    "\n",
    "# define  an array of frequencies so we can look at a larger range than the default\n",
    "w = np.linspace(1, 7, 1000)\n",
    "w = 10**w\n",
    "w, mag, phase = H_s.bode(w=w)\n",
    "plt.plot(w, mag)\n",
    "plt.xscale('log')\n",
    "plt.xlabel('radial frequency [rad/s]')\n",
    "plt.ylabel('magnitude H(s) in dB')\n",
    "plt.title('First order low-pass RC circuit')\n",
    "plt.grid()"
   ]
  },
  {
   "cell_type": "markdown",
   "metadata": {},
   "source": [
    "## 2.4.6 Frequency bands"
   ]
  },
  {
   "cell_type": "markdown",
   "metadata": {},
   "source": [
    "The term \"band\" refers to a group of frequencies  \n",
    "[Frequency bands in radio](https://en.wikipedia.org/wiki/Radio_spectrum)  \n",
    "  \n",
    "in the Bode plot you can see a clear division between  \n",
    "the band of frequencies from 10 [rad/s] to 10,000 [rad/s]  \n",
    "and the band of frequencies from 10,000[rad/s] to 10 million [rad/s]  \n",
    "\n",
    "The shape \"over flat then down\" is very apparent  \n",
    "\n",
    "The lower frequency band is \"over flat\"  \n",
    "while the higher frequency band is \"down\"  \n",
    "  \n",
    "This filter is called low-pass, because the band of low frequencies pass straight through the filter  \n",
    "The transfer function H(s) has a magnitude of 0 dB.  0 db means a gain of 1, so the signal goes through unimpeaded  \n",
    "  \n",
    "On the other hand, the band of high frequencies is blocked from passing through  \n",
    "The signal is blocked more and more as the frequency increases  \n",
    "  \n",
    "At $10^7\\;[rad/s]$ an input signal of 1V will come out only 1mV, because $H(s)=-60\\;dB$, which equals 0.001 and $V_{out}=H(s)V_{in}$"
   ]
  },
  {
   "cell_type": "markdown",
   "metadata": {},
   "source": [
    "## 2.4.7 The cut-off frequency"
   ]
  },
  {
   "cell_type": "markdown",
   "metadata": {},
   "source": [
    "The first order filter is not perfect.  If you are trying to filter out frequencies at $10^5\\;[rad/s]$,  \n",
    "they will only be reduced by a factor of 10  \n",
    "  \n",
    "The \"down\" portion of the Bode plot, in the high frequency band, has a slope of $-20\\;dB\\;per\\;decade$  \n",
    "That means every time you go over by a frequency 10 times higher, the filter will block the signal 10 times more  \n",
    "  \n",
    "First order systems always have a transfer function of the form $H(s)=\\frac{a}{s+a}$  \n",
    "  \n",
    "When $s<<a$, $H(s)\\approx1$. When $s>>a$, $H(s)\\approx\\frac{a}{s}$.  \n",
    "$\\frac{a}{s}$ has a slope of -1 on log-log paper, or $-20\\;dB\\;per\\;decade$   \n",
    "  \n",
    "For our example $a=\\frac{1}{RC}$, which is $10^4\\;[rad/s]$  \n",
    "Exactly the division between the low frequency and high frequency bands  \n",
    "  \n",
    "The cut-off frequency is found in the denominator of the transfer function  \n",
    "$\\omega_c$ is defined as the cut-off frequency and $\\omega_c=\\frac{1}{RC}$ for the first order R-C filter  \n",
    "  \n",
    "Take notice that for first order filters, $\\omega_c$ can also be defined by $\\omega_c=\\frac{1}{\\tau}$,  \n",
    "where $\\tau$ is the RC time constant\n",
    "\n",
    "It's a limitation of first order systems, the slope is always $-20\\;dB\\;per\\;decade$  \n",
    "  \n"
   ]
  },
  {
   "cell_type": "markdown",
   "metadata": {},
   "source": [
    "## 2.4.8 The first order high-pass R-C filter"
   ]
  },
  {
   "attachments": {},
   "cell_type": "markdown",
   "metadata": {},
   "source": [
    "To make a high-pass filter, simply switch R and C  \n",
    "  \n",
    " ![image7!](./images_s2/image_2_4_7.png)  \n",
    "   \n",
    " Use the voltage divider rule to find the transfer function  \n",
    "   \n",
    " $$V_{out}=\\frac{R}{R+\\frac{1}{sc}}\\cdot V_{in}$$\n",
    " and  \n",
    "   \n",
    " $$H(s)=\\frac{V_{out}}{V_{in}}=\\frac{sRC}{sRC+1}=\\frac{s}{s+\\frac{1}{RC}}$$\n",
    " Let's try this one with $R=100k\\Omega$ and $C=100nF$"
   ]
  },
  {
   "cell_type": "code",
   "execution_count": 2,
   "metadata": {},
   "outputs": [
    {
     "data": {
      "image/png": "[encoded data removed]",
      "text/plain": [
       "<Figure size 432x288 with 1 Axes>"
      ]
     },
     "metadata": {
      "needs_background": "light"
     },
     "output_type": "display_data"
    }
   ],
   "source": [
    "R = 1e5 # Ohms\n",
    "C = 100e-9 # Farads\n",
    "\n",
    "num = [1, 0] # don't forget the zero\n",
    "den = [1, 1/(R*C)]\n",
    "H_s = sig.lti(num, den)\n",
    "\n",
    "# define  an array of frequencies so we can look at a larger range than the default\n",
    "w = np.linspace(-1, 5, 1000)\n",
    "w = 10**w\n",
    "w, mag, phase = H_s.bode(w=w)\n",
    "plt.plot(w, mag)\n",
    "plt.xscale('log')\n",
    "plt.xlabel('radial frequency [rad/s]')\n",
    "plt.ylabel('magnitude H(s) in dB')\n",
    "plt.title('First order high-pass RC circuit')\n",
    "plt.grid()"
   ]
  },
  {
   "cell_type": "markdown",
   "metadata": {},
   "source": [
    "Here, the cut-off frequency is $\\omega_c=\\frac{1}{RC}=10^2\\;[rad/s]$  \n",
    "  \n",
    "The cut-off frequency is the same as the natural frequency of the system and one over the time constant  \n",
    "  \n",
    "The slope for a first-order high-pass filter is $+20dB\\;per\\;decade$ until the cut-off frequency"
   ]
  },
  {
   "cell_type": "markdown",
   "metadata": {},
   "source": [
    "## 2.4.9 The band-pass filter"
   ]
  },
  {
   "attachments": {},
   "cell_type": "markdown",
   "metadata": {},
   "source": [
    "You may get the idea that you could combine these two filters together  \n",
    "to block both the high and low frequencies, passing only the frequencies in the middle  \n",
    "  \n",
    "And yes, that works!  However, the circuit analysis is very difficult  \n",
    "and both resistor interact with both capacitors.  \n",
    "So it's not exactly the same as the two independent first order circuits  \n",
    "  \n",
    "You don't need to know how to solve this transfer function for Fundamentals of Linear Systems  \n",
    "If you have taken a circuits class, you should be able to find it  \n",
    "  \n",
    "The circuit is included just to show you the band-pass response.  \n",
    "The circuit diagram is shown below  \n",
    "  \n",
    "![image8!](./images_s2/image_2_4_8.png)  \n",
    "  \n",
    "and the transfer function is  \n",
    "  \n",
    "$$H(s)=\\frac{\\frac{s}{R_1C_1}}{s^2+s\\frac{R_1C_1+R_1C_2+R_2C_2}{R_1C_1R_2C_2}+\\frac{1}{R_1C_1R_2C_2}}$$  \n",
    "The code cell below computes the magnitude Bode plot for the circuit"
   ]
  },
  {
   "cell_type": "code",
   "execution_count": 3,
   "metadata": {},
   "outputs": [
    {
     "data": {
      "image/png": "[encoded data removed]",
      "text/plain": [
       "<Figure size 432x288 with 1 Axes>"
      ]
     },
     "metadata": {
      "needs_background": "light"
     },
     "output_type": "display_data"
    }
   ],
   "source": [
    "R1 = 1e3 # Ohms\n",
    "C1 = 100e-9 # Farads\n",
    "R2 = 1e5 # Ohms\n",
    "C2 = 100e-9 # Farads\n",
    "\n",
    "num = [1/(R1*C1), 0] # don't forget the zero\n",
    "den = [1, (R1*C1+R1*C2+R2*C2)/(R1*C1*R2*C2), 1/(R1*C1*R2*C2)]\n",
    "H_s = sig.lti(num, den)\n",
    "\n",
    "# define  an array of frequencies so we can look at a larger range than the default\n",
    "w = np.linspace(-1, 7, 1000)\n",
    "w = 10**w\n",
    "w, mag, phase = H_s.bode(w=w)\n",
    "plt.plot(w, mag)\n",
    "plt.xscale('log')\n",
    "plt.xlabel('radial frequency [rad/s]')\n",
    "plt.ylabel('magnitude H(s) in dB')\n",
    "plt.title('Cascaded first-order low-pass and high-pass RC circuit')\n",
    "plt.grid()"
   ]
  },
  {
   "cell_type": "markdown",
   "metadata": {},
   "source": [
    "Although the two cut-off frequencies have shifted a little bit, they are still close to $10^2$ and $10^4 [rad/s]$  \n",
    "  \n",
    "You can see low frequencies, those below 100 [rad/s], are blocked by the filter  \n",
    "and the high frequencies above 10,000 [rad/s] are also blocked by the filter  \n",
    "  \n",
    "Only the band of frequencies between 100 and 10,000 [rad/s] are passed by the filter,  \n",
    "thus, a band-pass filter  \n",
    "  \n",
    "The reality is that band-pass filters must be second order  \n",
    "The denominator of the transfer function is an order 2 polynomial of s,  \n",
    "thus it is a second order system... more on those later"
   ]
  }
 ],
 "metadata": {
  "kernelspec": {
   "display_name": "Python 3",
   "language": "python",
   "name": "python3"
  },
  "language_info": {
   "codemirror_mode": {
    "name": "ipython",
    "version": 3
   },
   "file_extension": ".py",
   "mimetype": "text/x-python",
   "name": "python",
   "nbconvert_exporter": "python",
   "pygments_lexer": "ipython3",
   "version": "3.7.6"
  }
 },
 "nbformat": 4,
 "nbformat_minor": 4
}
