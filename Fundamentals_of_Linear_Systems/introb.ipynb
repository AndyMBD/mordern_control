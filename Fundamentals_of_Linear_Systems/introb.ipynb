{
 "cells": [
  {
   "cell_type": "markdown",
   "metadata": {},
   "source": [
    "# Welcome to..."
   ]
  },
  {
   "cell_type": "markdown",
   "metadata": {},
   "source": [
    "Patti was here"
   ]
  },
  {
   "cell_type": "markdown",
   "metadata": {},
   "source": [
    "# Fundamentals of Linear Systems"
   ]
  },
  {
   "cell_type": "markdown",
   "metadata": {},
   "source": [
    "This book is intended to support an introductory engineering course on linear systems  \n",
    "  \n",
    "The material is not specific to a particular field of engineering  \n",
    "and draws examples from various analogous systems  \n",
    "In this way the course is intended for a general engineering audience at the sophomore level  \n",
    "  \n",
    "Prerequisite knowledge of Calculus I and Physics I are required for the course  \n",
    "  \n",
    "The writing is set in a teaching framework, and as such,  \n",
    "the complete description of some foundational ideas are reserved to be expanded upon later  \n",
    "  \n",
    "Those readers who are familiar with linear systems may feel the knowledge is misleading or in error  \n",
    "Please consider the material is difficult to understand and hiding the entire picture from a student,  \n",
    "new to this material can be beneficial for their understanding\n",
    "\n",
    "If you are new to the material, please be patient, the entire picture will ultimately be unveiled"
   ]
  }
 ],
 "metadata": {
  "kernelspec": {
   "display_name": "Python 3",
   "language": "python",
   "name": "python3"
  },
  "language_info": {
   "codemirror_mode": {
    "name": "ipython",
    "version": 3
   },
   "file_extension": ".py",
   "mimetype": "text/x-python",
   "name": "python",
   "nbconvert_exporter": "python",
   "pygments_lexer": "ipython3",
   "version": "3.6.7"
  }
 },
 "nbformat": 4,
 "nbformat_minor": 4
}
