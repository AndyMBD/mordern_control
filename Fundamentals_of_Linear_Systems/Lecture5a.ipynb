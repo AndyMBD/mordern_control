{
 "cells": [
  {
   "cell_type": "markdown",
   "metadata": {},
   "source": [
    "# 1.5 Linearity and initial conditions"
   ]
  },
  {
   "cell_type": "markdown",
   "metadata": {},
   "source": [
    "## 1.5.1 Summary of Linear Systems"
   ]
  },
  {
   "attachments": {},
   "cell_type": "markdown",
   "metadata": {},
   "source": [
    "Analogous Systems: Translational Mechanical and Electrical  \n",
    "![image1!](./images_s1/image_1_5_1.png)  "
   ]
  },
  {
   "cell_type": "markdown",
   "metadata": {},
   "source": [
    "Analogous quantities\n",
    "* Force is analogous to Voltage (potential variable)\n",
    "* velocity is analogous to Current (flow variable)\n",
    "* inertia is analogous to the inductor ($F=m\\frac{dv}{dt}\\quad V=L\\frac{dI}{dt}$)\n",
    "* viscous drag is analogous to resistance ($F=bv\\quad V=IR$)\n",
    "* the applied force is analogous to the applied voltage"
   ]
  },
  {
   "cell_type": "markdown",
   "metadata": {},
   "source": [
    "Analogous Differential equations in the time domain  \n",
    "  \n",
    "$$m\\frac{dv}{dt}+bv=F_g\\qquad\\qquad\\qquad\\qquad L\\frac{dI}{dt}+IR=V$$  \n",
    "  \n",
    "Analogous Differential equations in the frequency domain  \n",
    "  \n",
    "$$(sm+b)v(s)=F_g(s)\\qquad\\qquad\\qquad\\qquad (sL+R)I(s)=V(s)$$ "
   ]
  },
  {
   "attachments": {},
   "cell_type": "markdown",
   "metadata": {},
   "source": [
    "Analogous Transfer Functions  \n",
    "![image2!](./images_s1/image_1_5_2.png)  "
   ]
  },
  {
   "cell_type": "markdown",
   "metadata": {},
   "source": [
    "## 1.5.2 Initial conditions"
   ]
  },
  {
   "cell_type": "markdown",
   "metadata": {},
   "source": [
    "In all of the new methods we have been learning, we have ignored the issue of initial conditions,  \n",
    "by assuming they are always zero.  \n",
    "  \n",
    "Now is the time for us to address initial conditions.  \n",
    "  \n",
    "For our translational mechanical system, we have been dropping the ball at t = 0  \n",
    "But what if we want to throw the ball at t = 0?  \n",
    "  \n",
    "Throwing the ball gives it an initial velocity, an initial condition!"
   ]
  },
  {
   "cell_type": "markdown",
   "metadata": {},
   "source": [
    "For the electrical system, current is analogous to velocity  \n",
    "so the initial condition for the electrical system is an initial current  \n",
    "  \n",
    "Initial conditions are always specified in devices that store energy.  \n",
    "Energy stroage devices always relate one power conjugate variable to the derivative of the other  \n",
    "Energy is stored in the velocity as kinetic energy, $E=\\frac{1}{2}mv^2$  \n",
    "Analogously, magnetic energy is stored in an inductor, $E=\\frac{1}{2}LI^2$  "
   ]
  },
  {
   "cell_type": "markdown",
   "metadata": {},
   "source": [
    "Consider the rule for the inductor, $V_L(t)=L\\frac{dI(t)}{dt}$  \n",
    "\n",
    "Use the Laplace Transform Table to transform this equation; $V_L(s)=L\\left[sI(s)-I(0)\\right]$  \n",
    "In everything we have done so far, we have set $I(0)=0$, but now let's give it a value, an initial condition"
   ]
  },
  {
   "cell_type": "markdown",
   "metadata": {},
   "source": [
    "Re-writing the frequency domain equation gives  \n",
    "$$V_L(s)=sLI(s)-LI(0)$$  \n",
    "which is two voltages added together. In circuit's, two voltages added together  \n",
    "are circuits elements connected in series.  \n",
    "  \n",
    "The first voltage is proportional to the frequency and current; an inductor  \n",
    "The second voltage is independent of frequency; an impulse voltage source  \n",
    "(Look at the Laplace Table, an impulse tranforms to 1, 1 is a constant independent of frequency)"
   ]
  },
  {
   "attachments": {},
   "cell_type": "markdown",
   "metadata": {},
   "source": [
    "The initial condition is an impulse voltage source in series with the inductor  \n",
    "![image3!](./images_s1/image_1_5_3.png)  "
   ]
  },
  {
   "cell_type": "markdown",
   "metadata": {},
   "source": [
    "## 1.5.3 Add the initial condition to the system"
   ]
  },
  {
   "attachments": {},
   "cell_type": "markdown",
   "metadata": {},
   "source": [
    "The circuit diagram, including the initial condition is shown below  \n",
    "![image4!](./images_s1/image_1_5_4.png)  "
   ]
  },
  {
   "cell_type": "markdown",
   "metadata": {},
   "source": [
    "Use Kirchhoff's voltage law to write the system equation in the frequency domain  \n",
    "  \n",
    "$$\\sum V=0=-V(s)+sLI(s)-LI(0)+RI(s)$$  \n",
    "  \n",
    "which gives  \n",
    "  \n",
    "$$(sL+R)I(s)=V(s)+LI(0)$$  \n",
    "  \n",
    "The initial condition presents itself as an additional applied voltage source  "
   ]
  },
  {
   "cell_type": "markdown",
   "metadata": {},
   "source": [
    "## 1.5.4 Solution to an example system with an initial condition"
   ]
  },
  {
   "cell_type": "markdown",
   "metadata": {},
   "source": [
    "Let's define some properties of our system, so we can look at a solution  \n",
    "* R = 20$\\Omega$\n",
    "* L = 0.2H\n",
    "* initial current, $I(0^-)=-0.4A$\n",
    "* applied voltage is a 5V step source which turns on a $t=0$, $V(s)=\\frac{5}{s}$"
   ]
  },
  {
   "cell_type": "markdown",
   "metadata": {},
   "source": [
    "Substitute these into the system equation  \n",
    "  \n",
    "$$(0.2s+20)I(s)=\\frac{5}{s}-0.08$$  \n",
    "  \n",
    "solve for I(s)  \n",
    "  \n",
    "$$I(s)=\\frac{-0.08s+5}{s}\\times\\frac{1}{0.2s+20}$$  \n",
    "  \n",
    "multiply, and make the highest order coefficient of s in the denominator equal to unity  \n",
    "  \n",
    "$$I(s)=\\frac{-0.4s+25}{s(s+100)}$$  \n",
    "  \n",
    "This is our solution!  The current as a function of frequency"
   ]
  },
  {
   "cell_type": "markdown",
   "metadata": {},
   "source": [
    "## 1.5.5 Converting the solution back to the time domain"
   ]
  },
  {
   "cell_type": "markdown",
   "metadata": {},
   "source": [
    "To convert back to the time domain, we need to look up I(s) in the Laplace Table  \n",
    "  \n",
    "Unfortunately, $\\frac{-0.4s+25}{s(s+100)}$ is not in our table  \n",
    "  \n",
    "We need to see if we can put the formula for I(s) into a form that we can look up in our table"
   ]
  },
  {
   "cell_type": "markdown",
   "metadata": {},
   "source": [
    "If we put I(s) in the form  \n",
    "$$I(s)=\\frac{R_1}{s}+\\frac{R_2}{s+100}$$  \n",
    "then I(s) would be a step function added to an exponential  \n",
    "both terms are in our table!"
   ]
  },
  {
   "cell_type": "markdown",
   "metadata": {},
   "source": [
    "Take a look, if $R_1=0.25$ and $R_2=-0.65$  \n",
    "  \n",
    "then  \n",
    "$$I(s)=\\frac{0.25}{s}+\\frac{-0.65}{s+100}=\\frac{0.25(s+100)}{s(s+100)}+\\frac{-0.65s}{s(s+100)}$$  \n",
    "$s(s=100)$ is a common denominator, so we can add the numerators, to get  \n",
    "  \n",
    "$$I(s)=\\frac{-0.4s+25}{s(s+100)}$$  \n",
    "  \n",
    "That's it! But how did you know $R_1=0.25$ and $R_2=-0.65$?"
   ]
  },
  {
   "cell_type": "markdown",
   "metadata": {},
   "source": [
    "$R_1$ and $R_2$ are called the residues of the system  \n",
    "Their values tell us the strength of the step response and the exponential response  \n",
    "  \n",
    "Residues are found by a technique called partial fraction expansion  \n",
    "Partial fraction expansion is like finding the common denominator of the terms - but backwards  \n",
    "  \n",
    "There are many ways to find perform partial fraction expansion, including the residue method  \n",
    "  \n",
    "We will use the python library SciPy"
   ]
  },
  {
   "cell_type": "markdown",
   "metadata": {},
   "source": [
    "## 1.5.6 Finding the residues of a system"
   ]
  },
  {
   "cell_type": "markdown",
   "metadata": {},
   "source": [
    "Scipy.signal has a method called residue  The method returns the residues of the system as an array  \n",
    "You need to find the signal as a function of frequency and write it as a polynomial of s, over a polynomial of s  \n",
    "Then you have to pass the coefficients of the numerator and the denominator of the signal to the method,  \n",
    "just as you did to create an lti object  \n",
    "[residue](https://docs.scipy.org/doc/scipy-0.14.0/reference/generated/scipy.signal.residue.html#scipy.signal.residue)  "
   ]
  },
  {
   "cell_type": "markdown",
   "metadata": {},
   "source": [
    "The polynomial $5s^3+2s+10$ is a third order polynomial  \n",
    "The order matches the highest power of s  \n",
    "  \n",
    "The residue method will return an array with the same number of elements as the order of the polynomial in the denominator  \n",
    "In our example, the denominator is second order, so there should be two residues"
   ]
  },
  {
   "cell_type": "markdown",
   "metadata": {},
   "source": [
    "The number of residues will match the order of the denominator as long as the  \n",
    "order of the numerator is less than the denominator  \n",
    "  \n",
    "If the numerator has an equal or higher order than the denominator,  \n",
    "then the returned array, named \"k\", will not be empty  \n",
    "\"k\" returns the coefficients of a polynomial of s.  \n",
    "That polynomial must be added to the soution, if \"k\" is not empty  \n",
    "  \n",
    "This is a rather uncommon occurance in physical linear systems, but you should be aware that the residues  \n",
    "only give you the complete answer when the order of the polynomial in the numerator is less than the denominator"
   ]
  },
  {
   "cell_type": "code",
   "execution_count": 1,
   "metadata": {},
   "outputs": [
    {
     "name": "stdout",
     "output_type": "stream",
     "text": [
      "<class 'numpy.ndarray'>\n",
      "[ 0.25 -0.65]\n"
     ]
    }
   ],
   "source": [
    "import scipy.signal as sig\n",
    "import numpy as np\n",
    "import matplotlib.pyplot as plt\n",
    "\n",
    "# enter the numerator and the denominator of I(s), dont forget the zero!\n",
    "num = [-0.4, 25]\n",
    "den = [1, 100, 0]\n",
    "\n",
    "# compute the residues for I(s)\n",
    "r, p, k = sig.residue(num, den)\n",
    "\n",
    "print(type(r))\n",
    "print(r)"
   ]
  },
  {
   "cell_type": "markdown",
   "metadata": {},
   "source": [
    "In our example, the denominator was $s^2+100s$  \n",
    "If we let $s=-100$, then the denominator will become zero  \n",
    "When the denominator is zero, I(s) will have an infinite amount of energy at that frequency,  \n",
    "Because of the infinite response at $s=-100$, the frequency $s=-100$[Np/s] is called a \"pole\"  \n",
    "  \n",
    "For the R-L system we are studying, $s=-100$ is a pole of the system,  \n",
    "which is also known as the natural frequency of the system  \n",
    "That means, if this R-L circuit is driven by a $s=-100$[Np/s] frequency wave, the response would be very strong  \n",
    "  \n",
    "Even though we drove the system with a wave of $s=0$, it still excited the natural response of the system  "
   ]
  },
  {
   "cell_type": "markdown",
   "metadata": {},
   "source": [
    "The frequency $s=0$ also causes the demoniator of I(s) to equal 0 and causes I(s) to go to infinity  \n",
    "  \n",
    "This happens because we are indeed driving the circuit at $s=0$  \n",
    "The 5V step source causes a forced response at $s=0$  \n",
    "  \n",
    "In either case, $s=-100$ and $s=0$ are both poles of the signal I(s)  "
   ]
  },
  {
   "cell_type": "markdown",
   "metadata": {},
   "source": [
    "When we write the equation for I(s) as \n",
    "$$I(s)=\\frac{0.25}{s}+\\frac{-0.65}{s+100}$$  \n",
    "The term with $s$ in the denominator, represents the forced response, also called the particular response,  \n",
    "while the term with $s+100$ in the denominator, represents the natural response of the system"
   ]
  },
  {
   "cell_type": "code",
   "execution_count": 2,
   "metadata": {},
   "outputs": [
    {
     "name": "stdout",
     "output_type": "stream",
     "text": [
      "<class 'numpy.ndarray'>\n",
      "residues of I(s)  [ 0.25 -0.65]\n",
      "\n",
      "<class 'numpy.ndarray'>\n",
      "poles of I(s)  [   0. -100.]\n"
     ]
    }
   ],
   "source": [
    "print(type(r))\n",
    "print('residues of I(s) ',r)\n",
    "print()\n",
    "print(type(p))\n",
    "print('poles of I(s) ',p)"
   ]
  },
  {
   "cell_type": "markdown",
   "metadata": {},
   "source": [
    "You have to pay attention to which residue goes with which pole  \n",
    "Scipy.signal.residue always puts them in the same order  \n",
    "  \n",
    "Therefore, 0.25 is the residue for $s=0$  \n",
    "and -0.65 is the residue for $s=-100$"
   ]
  },
  {
   "cell_type": "markdown",
   "metadata": {},
   "source": [
    "## 1.5.7 Transforming the solution back to time"
   ]
  },
  {
   "cell_type": "markdown",
   "metadata": {},
   "source": [
    "After all that work, it's easy to transform I(s) back to the time domain  \n",
    "$$I(s)=\\frac{0.25}{s}+\\frac{-0.65}{s+100}$$  \n",
    "\n",
    "just look up the terms in the Laplace Table  \n",
    "$$I(t)=0.25-0.65e^{-100t}\\;for\\;t>0$$  \n",
    "If you put in $t=0$, then $I(0)=-0.4$, just what we gave for the initial condition"
   ]
  },
  {
   "cell_type": "markdown",
   "metadata": {},
   "source": [
    "We can also use Scipy to transform I(s) back to the time domain  \n",
    "We just need to create an lti signal for I(s)  "
   ]
  },
  {
   "cell_type": "code",
   "execution_count": 3,
   "metadata": {},
   "outputs": [
    {
     "data": {
      "image/png": "[encoded data removed]",
      "text/plain": [
       "<Figure size 432x288 with 1 Axes>"
      ]
     },
     "metadata": {
      "needs_background": "light"
     },
     "output_type": "display_data"
    }
   ],
   "source": [
    "# enter the numerator and the denominator of I(s), dont forget the zero!\n",
    "num = [-0.4, 25]\n",
    "den = [1, 100, 0]\n",
    "\n",
    "# create an lti signal\n",
    "I_s = sig.lti(num, den)\n",
    "\n",
    "# create a time array for the solution because the default time array is too long\n",
    "t = np.linspace(0, 0.1, 100)\n",
    "\n",
    "# use the impulse method to find the response\n",
    "t, I_t = I_s.impulse(T=t)\n",
    "\n",
    "# plot the results\n",
    "plt.plot(t, I_t)\n",
    "plt.xlabel('time, t [s]')\n",
    "plt.ylabel('current, I(t) [A]')\n",
    "plt.title('current versus time')\n",
    "plt.grid()"
   ]
  },
  {
   "cell_type": "markdown",
   "metadata": {},
   "source": [
    "## 1.5.8 Integrate to find the charge"
   ]
  },
  {
   "cell_type": "markdown",
   "metadata": {},
   "source": [
    "Current is defined as Coulombs per second; [A] = [C/s]  \n",
    "If we integrate the current over time, we should get how much charged has flowed through the circuit up to a given time  \n",
    "  \n",
    "Because the current starts out negative, charge flows up through the inductor, which we will call negative charge  \n",
    "when the current switched to positve current and starts flowing down through the inductor, we will start adding positive charge"
   ]
  },
  {
   "cell_type": "markdown",
   "metadata": {},
   "source": [
    "It's easy to integrate in the frequency domain. Simply divide by s!\n",
    "  \n",
    "$$q(s)=\\frac{-0.4s+25}{s(s+100)}\\times\\frac{1}{s}=\\frac{-0.4s+25}{s^3+100s^2}$$"
   ]
  },
  {
   "cell_type": "markdown",
   "metadata": {},
   "source": [
    "To solve this new equation for charge, we must make a new lti for charge using Scipy"
   ]
  },
  {
   "cell_type": "code",
   "execution_count": 4,
   "metadata": {},
   "outputs": [
    {
     "data": {
      "image/png": "[encoded data removed]",
      "text/plain": [
       "<Figure size 432x288 with 1 Axes>"
      ]
     },
     "metadata": {
      "needs_background": "light"
     },
     "output_type": "display_data"
    }
   ],
   "source": [
    "# enter the numerator and the denominator of Q(s), \n",
    "# dont forget to add another zero!\n",
    "num = [-0.4, 25]\n",
    "den = [1, 100, 0, 0]\n",
    "\n",
    "# create an lti signal\n",
    "q_s = sig.lti(num, den)\n",
    "\n",
    "# create a time array for the solution because the default time array is too long\n",
    "t = np.linspace(0, 0.1, 100)\n",
    "\n",
    "# use the impulse method to find the response\n",
    "t, q_t = q_s.impulse(T=t)\n",
    "\n",
    "# plot the results\n",
    "plt.plot(t, q_t)\n",
    "plt.xlabel('time, t [s]')\n",
    "plt.ylabel('charge, q(t) [C]')\n",
    "plt.title('charge versus time')\n",
    "plt.grid()"
   ]
  },
  {
   "cell_type": "markdown",
   "metadata": {},
   "source": [
    "## 1.5.9 lti \"linear time invariant\" systems"
   ]
  },
  {
   "cell_type": "markdown",
   "metadata": {},
   "source": [
    "Let's make sure we understand some of limitations involved in the material we are learning  \n",
    "All of the systems we will study in Fundamentals of Linear Systems must be linear time invariant systems  \n",
    "So what does linear time invariant mean?"
   ]
  },
  {
   "cell_type": "markdown",
   "metadata": {},
   "source": [
    "## 1.5.10Time invariance"
   ]
  },
  {
   "cell_type": "markdown",
   "metadata": {},
   "source": [
    "A time invariant system means that an applied input causes a corresponding output, regardless of when the input is applied  \n",
    "  \n",
    "You can show time invariance by appying an input, x(t) and a delayed input, x(t+dt)  \n",
    "and showing that the delayed output y(t+dt) exactly matches the original output except also delayed by the time dt  \n",
    "  \n",
    "For our purposes, time invariance means the system does not change with time.  \n",
    "Our example systems depended on m, b, L, and R.  It's these quantities that can't change over time  \n",
    "For example, a 100$\\Omega$ resistor must always remain 100 Ohms in a time invariant system  \n",
    "[Time invariance](https://en.wikipedia.org/wiki/Time-invariant_system)"
   ]
  },
  {
   "cell_type": "markdown",
   "metadata": {},
   "source": [
    "## 1.5.11 Linearity"
   ]
  },
  {
   "cell_type": "markdown",
   "metadata": {},
   "source": [
    "Linearity means a system has both homogeneity and additivity.  \n",
    "  \n",
    "Consider the system $y=mx$. Certainly, this must be linear  \n",
    "[Linearity](https://en.wikipedia.org/wiki/Linearity)"
   ]
  },
  {
   "cell_type": "markdown",
   "metadata": {},
   "source": [
    "### 1.5.11.1 Homogeneity"
   ]
  },
  {
   "cell_type": "markdown",
   "metadata": {},
   "source": [
    "Homogeneity means that if you scale x by a constant, you scale y by the same constant  \n",
    "In other words, if you substitute $ax_1$ for x, then y should scale by the factor a; or y should equal $ay_1$  \n",
    "a is an arbitrary constant  \n",
    "  \n",
    "It's easy to show $y=mx$ obeys homogeneity; put $x_1$ in the system and you get $y_1=mx_1$  \n",
    "Now put $ax_1$ in the system and you get $y=m(ax_1)$.  But $mx_1$ is $y_1$.  By substitution, $y=ay_1$  \n",
    "[Homogeneity](https://en.wikipedia.org/wiki/Homogeneous_function)"
   ]
  },
  {
   "cell_type": "markdown",
   "metadata": {},
   "source": [
    "### 1.5.11.2 Additivity"
   ]
  },
  {
   "cell_type": "markdown",
   "metadata": {},
   "source": [
    "Additivity means that if you add two different x values together, then y will also be the two y values added together  \n",
    "If you substitute $x_1+x_2$ for x, then y should also be $y_1+y_2$  \n",
    "  \n",
    "Let's show $y=mx$ obeys additivity;  \n",
    "again put $x_1$ in the system and you get $y_1=mx_1$. Put $x_2$ in the system and you get $y_2=mx_2$  \n",
    "Now put $x_1+x_2$ in the system and you get $y=m(x_1+x_2)$. But $mx_1$ is $y1$ and $mx_2$ is $y2$  \n",
    "By substitution, $y=y_1+y_2$  \n",
    "[Additivity](https://en.wikipedia.org/wiki/Additive_function)"
   ]
  },
  {
   "cell_type": "markdown",
   "metadata": {},
   "source": [
    "### 1.5.11.3 $y=mx$ is linear"
   ]
  },
  {
   "cell_type": "markdown",
   "metadata": {},
   "source": [
    "You can show both homogeneity and additivity at the same time  \n",
    "Let $x=ax_1+x_2$.  A homogenious and additive system will have $y=ay_1+y_2$  \n",
    "where $a$ is an arbitrary constant\n",
    "  \n",
    "Just like before, $y_1=mx_1$ and $y_2=mx_2$.  \n",
    "Put $x=ax_1+x_2$ into the system and you get $y=m(ax_1+x_2)$  \n",
    "From simple substitute, you see that $y=ay_1+y_2$"
   ]
  },
  {
   "cell_type": "markdown",
   "metadata": {},
   "source": [
    "### 1.5.11.4 $y=mx^2$ is a non-linear system, "
   ]
  },
  {
   "cell_type": "markdown",
   "metadata": {},
   "source": [
    "We should guess that $y=mx^2$ is non-linear, you can't multiply signals together    \n",
    "But let's show that's the case with our new definitions  \n",
    "Let $x=ax_1+x_2$.  For this system to be linear, $y=ay_1+y_2$  \n",
    "  \n",
    "From the definition of the system, $y_1=mx_1^2$ and $y_2=mx_2^2$  \n",
    "Substitute $x=ax_1+x_2$ into the system and you get $y=m(ax_1+x_2)^2$  \n",
    "expand the equation to get $y=ma^2x_1^2+2max_1x_2+mx_2^2$  \n",
    "  \n",
    "By substitution, we can write this in terms of $y_1$ and $y_2$; $y=a^2y_1+2a\\sqrt{y_1y_2}+y_2$  \n",
    "  \n",
    "Clearly $y\\neq ay_1+y_2$. $y=mx^2$ is non-linear"
   ]
  },
  {
   "cell_type": "markdown",
   "metadata": {},
   "source": [
    "### 1.5.11.5 $y=mx+b$ is not a linear system!  It's an affine linearity"
   ]
  },
  {
   "cell_type": "markdown",
   "metadata": {},
   "source": [
    "Try our definition of linearity with $y=mx+b$.  You would expect the equation of a line to be a linear system  \n",
    "Let $x=ax_1+x_2$.  For linearity, $y=ay_1+y_2$ \n",
    "  \n",
    "For this system, $y_1=mx_1+b$ and $y_2=mx_2+b$  \n",
    "Substitute $x=ax_1+x_2$ and you get $y=m(ax_1+x_2)+b$  \n",
    "By substitution, write this in terms of $y_1$ and $y_2$; $y=ay_1+y_2-ab$  \n",
    "  \n",
    "Amazingly $y\\neq ay_1+y_2$. $y=mx+b$ is not a linear system!  \n",
    "  \n",
    "In mathmatics, this type of linearity is called an affine linearity  \n",
    "which does not satisfy homogeneity or additivity  \n",
    "  \n",
    "[Affine linearity](https://en.wikipedia.org/wiki/Linearity): See the section on Linear polynomials"
   ]
  },
  {
   "cell_type": "markdown",
   "metadata": {},
   "source": [
    "## 1.5.12 Transfer functions cannot include initial conditions"
   ]
  },
  {
   "cell_type": "markdown",
   "metadata": {},
   "source": [
    "When we add initial conditions to our system, the system becomes an affine linearity  \n",
    "and it will not obey homogeneity or additivity.  \n",
    "\n",
    "We can still use the Laplace methods and lti objects to solve for signals with initial conditions  \n",
    "because the initial condition is treated as additional input signal  \n",
    "but we cannot define transfer functions with initial conditions  \n",
    "  \n",
    "Transfer functions describe lti systems and can never include initial conditions  "
   ]
  },
  {
   "cell_type": "markdown",
   "metadata": {},
   "source": [
    "Go back to our original equation describing the R-L circuit with an initial condition  \n",
    "  \n",
    "$$(sL+R)I(s)=V(s)+LI(0)$$ \n",
    "  \n",
    "You cannot define $H(s)=\\frac{I(s)}{V(s)}$ because you cannot separate the varaibles  \n",
    "  \n",
    "$$\\frac{I(s)}{V(s)}=\\frac{\\frac{1}{L}+\\frac{I(0)}{V(s)}}{s+\\frac{R}{L}}$$  \n",
    "  \n",
    "Not a transfer function!  V(s) is on both sides of the equation"
   ]
  }
 ],
 "metadata": {
  "kernelspec": {
   "display_name": "Python 3",
   "language": "python",
   "name": "python3"
  },
  "language_info": {
   "codemirror_mode": {
    "name": "ipython",
    "version": 3
   },
   "file_extension": ".py",
   "mimetype": "text/x-python",
   "name": "python",
   "nbconvert_exporter": "python",
   "pygments_lexer": "ipython3",
   "version": "3.7.6"
  }
 },
 "nbformat": 4,
 "nbformat_minor": 4
}
