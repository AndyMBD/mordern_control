{
 "cells": [
  {
   "cell_type": "markdown",
   "metadata": {},
   "source": [
    "# 1.6 Analogous systems"
   ]
  },
  {
   "cell_type": "markdown",
   "metadata": {},
   "source": [
    "## 1.6.1 Physical systems driven by the flow variable"
   ]
  },
  {
   "cell_type": "markdown",
   "metadata": {},
   "source": [
    "The previously studied systems were driven by the potential variable.  \n",
    "For example, the falling ball was driven by the force of gravity  \n",
    "and the R-L circuit was driven by a voltage source  "
   ]
  },
  {
   "cell_type": "markdown",
   "metadata": {},
   "source": [
    "Force is the translational mechanical system's potential variable  \n",
    "while velocity is that system's flow variable. Force times velocity is power  \n",
    "  \n",
    "Voltage is the electrical system's potential variable and current is its flow variable  \n",
    "Voltage time current is power  "
   ]
  },
  {
   "cell_type": "markdown",
   "metadata": {},
   "source": [
    "For the R-L circuit, the inductor formed a differential relationship  \n",
    "between voltage and current, given by  \n",
    "$$V_L=L\\frac{dI}{dt}$$  \n",
    "  \n",
    "in the frequency domain with zero initial conditions  \n",
    "$$V_L(s)=sLI(s)$$"
   ]
  },
  {
   "cell_type": "markdown",
   "metadata": {},
   "source": [
    "## 1.6.2 Capacitance"
   ]
  },
  {
   "cell_type": "markdown",
   "metadata": {},
   "source": [
    "You may be aware that electrical systems can have capacitors too  \n",
    "The rule for the capacitor is a completely symmetrical relationship when compared to the inductor  \n",
    "  \n",
    "The capacitor does to voltage what the inductor does to current, and vice-versa  "
   ]
  },
  {
   "cell_type": "markdown",
   "metadata": {},
   "source": [
    "Here are some of the symmetrical relations from physics concerning the capacitor and inductor  \n",
    "  \n",
    "Inductors store magnetic flux, $\\Phi_m$. Capacitors store charge, q  \n",
    "  \n",
    "These are related to the power conjugate variables  \n",
    "$$\\Phi_m=LI\\qquad\\qquad\\qquad\\qquad q=CV$$  \n",
    "  \n",
    "power conjugate variables are related to each other    \n",
    "$$V_L=L\\frac{dI}{dt}\\qquad\\qquad\\qquad\\qquad I_C=C\\frac{dV}{dt}$$  \n",
    "  \n",
    "The energy stored in the inductor and capacitor is\n",
    "$$E_L=\\frac{1}{2}LI^2\\qquad\\qquad\\qquad\\qquad E_C=\\frac{1}{2}CV^2$$  \n",
    "  \n",
    "You should be aware of the symmetry of the signals"
   ]
  },
  {
   "cell_type": "markdown",
   "metadata": {},
   "source": [
    "## 1.6.3 Filling a capacitor with charge"
   ]
  },
  {
   "attachments": {},
   "cell_type": "markdown",
   "metadata": {},
   "source": [
    "Think of a current source, like a pump  \n",
    "The current source pumps charge into the capacitor  \n",
    "as charge is pumped into the capacitor, it creates a voltage because, $q=CV$  \n",
    "![image1!](./images_s1/image_1_6_1.png)  "
   ]
  },
  {
   "cell_type": "markdown",
   "metadata": {},
   "source": [
    "Let's assume the current source is a step source  \n",
    "In other words, you turn on the current pump at t = 0  \n",
    "  \n",
    "We can solve for the voltage easily using the Laplace methods  \n",
    "The rule for the capacitor in the frequency domain, assuming zero initial conditions is  \n",
    "$$I(s)=CsV(s)$$  \n",
    "  \n",
    "If the current is a step source, then  \n",
    "$$I(s)=\\frac{I_o}{s}$$  \n",
    "  \n",
    "Settting these equal and solving for V, gives  \n",
    "$$V(s)=\\frac{\\frac{I_o}{C}}{s^2}$$"
   ]
  },
  {
   "attachments": {},
   "cell_type": "markdown",
   "metadata": {},
   "source": [
    "If you look at the Laplace table, you can see that the solution in the time domain is a ramp  \n",
    "  \n",
    "$$V(t)=\\frac{I_o}{C}r(t)$$  \n",
    "  \n",
    "This is just like dropping a ball with no air resistance,  \n",
    "For that system, when gravity is applied, the velocity increases linearly  \n",
    "For the capacitor, when the current source turns on, the voltage rises linearly  \n",
    "  \n",
    "Let's take this moment to consider the analogous gravitaional fluid flow system  \n",
    "![image2!](./images_s1/image_1_6_2.png)  \n",
    "This problem is just like filling your gas tank at the gas station  \n",
    "When you turn the pump on, the height of the gas in the gas tank increases linearly"
   ]
  },
  {
   "cell_type": "markdown",
   "metadata": {},
   "source": [
    "## 1.6.4 Adding loss to the system"
   ]
  },
  {
   "attachments": {},
   "cell_type": "markdown",
   "metadata": {},
   "source": [
    "Let's add loss to the system  \n",
    "In the case of the capacitor, a lossy element is a resistor in parallel  \n",
    "  \n",
    "In the case of the gravitaional fluid flow system, unfortunately it's a leak in your gas tank!  \n",
    "![image3!](./images_s1/image_1_6_3.png)  "
   ]
  },
  {
   "cell_type": "markdown",
   "metadata": {},
   "source": [
    "In the gravitational fluid flow system, the power conjugate varaibles are head, $\\Delta H$, and flow, $f$  \n",
    "Head is the change in height of the fuid.  However, the units will not be power conjugate  \n",
    "unless you multiply the head by g.  That makes sense, because gravity is driving the flow of fluid  \n",
    "The fuid flow must be a mass flow, such that $g\\Delta H\\times f=power$  \n",
    "  \n",
    "Here are the units: $\\left[\\frac{m}{s^2}\\right]\\left[m\\right]\\times\\left[\\frac{kg}{s}\\right]=\\left[\\frac{Nm}{s}\\right]=\\left[\\frac{J}{s}\\right]=\\left[W\\right]$"
   ]
  },
  {
   "cell_type": "markdown",
   "metadata": {},
   "source": [
    "Often when we think of fluid flow, we think of pressure as the driving force  \n",
    "Water flowing through a river, or generating power at Hoover dam is driven by gravity  \n",
    "  \n",
    "But you need air pressure to blow up a balloon, not gravity  \n",
    "Unfortunately, the balloon is a bad example because the size of the balloon, or its capacity to hold air, changes  \n",
    "The balloon is time-variant system. The capacitance, C, changes as a function of time  \n",
    "We can't solve the balloon with lti (linear time invariant) techniques  \n",
    "  \n",
    "Instead, let's say blowing up your car's tire with an air pump.  The car tire stays basically the same size  "
   ]
  },
  {
   "cell_type": "markdown",
   "metadata": {},
   "source": [
    "We can transform between the gravitaional fluid flow system and the pressure driven fluid flow systems pretty easily  \n",
    "  \n",
    "just mutliply the power conjugate variables by $\\frac{\\rho}{\\rho}$, where $\\rho$ is the density of the fluid  \n",
    "of course, density over density is equal to 1, so we aren't changing anything  \n",
    "\n",
    "$$\\frac{\\rho}{\\rho}\\times g\\Delta H\\times f=power$$  \n",
    "  \n",
    "$$\\rho g\\Delta H\\times\\frac{f}{\\rho}=pressure\\;change\\times volumetric\\;flow=\\Delta p\\times Q=power$$"
   ]
  },
  {
   "cell_type": "markdown",
   "metadata": {},
   "source": [
    "## 1.6.5 Find the transfer function for the systems"
   ]
  },
  {
   "cell_type": "markdown",
   "metadata": {},
   "source": [
    "To derive the system of equations for these physical systems, we need to use conservation laws  \n",
    "For the electrical system, charge is conserved and for the gravitional fluid flow system, fluid is conserved  \n",
    "The statement of conservation of charge is made by Kirchhoff's current law, $\\sum I=0$  \n",
    "  \n",
    "$$I-I_C-I_R=0\\qquad\\qquad\\qquad\\qquad flow_{in}-flow_{stored}-flow_{out}=0$$"
   ]
  },
  {
   "cell_type": "markdown",
   "metadata": {},
   "source": [
    "The equations below repreat the rule of the capacitor and the analogous equation for gravitational fluid flow  \n",
    "  \n",
    "$$I_C=C\\frac{dV}{dt}\\qquad\\qquad\\qquad\\qquad f_{stored}=C\\frac{d(g\\Delta H)}{dt}$$  \n",
    "  \n",
    "Transformed to the frequency domain with zero initial conditions  \n",
    "  \n",
    "$$I_C(s)=CsV(s)\\qquad\\qquad\\qquad\\qquad f_{stored}(s)=Csg\\Delta H(s))$$"
   ]
  },
  {
   "cell_type": "markdown",
   "metadata": {},
   "source": [
    "The current through the resistor is given by Ohm's law and the $flow_{out}$ is given by Poiseuille's law  \n",
    "[Poiseuille's law](https://en.wikipedia.org/wiki/Hagen–Poiseuille_equation)  \n",
    "These equations are the same in the time or frequency domain  \n",
    "  \n",
    "$$I_R(s)=\\frac{V(s)}{R}\\qquad\\qquad\\qquad\\qquad f_{out}(s)=\\frac{g\\Delta H(s)}{R}$$"
   ]
  },
  {
   "cell_type": "markdown",
   "metadata": {},
   "source": [
    "Substitute into the conservation laws  \n",
    "  \n",
    "$$I(s)-CsV(s)-\\frac{V(s)}{R}=0\\qquad\\qquad\\qquad\\qquad f_{in}(s)-Csg\\Delta H(s)-\\frac{g\\Delta H(s)}{R}=0$$  \n",
    "  \n",
    "solve for the potential variable  \n",
    "  \n",
    "$$(sRC+1)V(s)=RI(s)\\qquad\\qquad\\qquad\\qquad (sRC+1)g\\Delta H(s)=Rf_{in}(s)$$  \n",
    "  \n",
    "make the highest order coefficient of s equal to 1  \n",
    "  \n",
    "$$(s+\\frac{1}{RC})V(s)=\\frac{I(s)}{C}\\qquad\\qquad\\qquad\\qquad (s+\\frac{1}{RC})g\\Delta H(s)=\\frac{f_{in}(s)}{C}$$  \n",
    "  \n",
    "and divide  \n",
    "  \n",
    "$$V(s)=\\frac{\\frac{I(s)}{C}}{(s+\\frac{1}{RC})}\\qquad\\qquad\\qquad\\qquad g\\Delta H(s)=\\frac{\\frac{f_{in}(s)}{C}}{(s+\\frac{1}{RC})}$$"
   ]
  },
  {
   "attachments": {},
   "cell_type": "markdown",
   "metadata": {},
   "source": [
    "We can now write the equations as transfer functions  \n",
    "  \n",
    "$$H(s)=\\frac{V(s)}{I(s)}=\\frac{\\frac{1}{C}}{(s+\\frac{1}{RC})}\\qquad\\qquad\\qquad\\qquad H(s)= \\frac{g\\Delta H(s)}{f_{in}(s)}=\\frac{\\frac{1}{C}}{(s+\\frac{1}{RC})}$$  \n",
    "  \n",
    "In graphical form  \n",
    "![image4!](./images_s1/image_1_6_4.png)  "
   ]
  },
  {
   "cell_type": "markdown",
   "metadata": {},
   "source": [
    "## 1.6.6 The unit impulse response"
   ]
  },
  {
   "attachments": {},
   "cell_type": "markdown",
   "metadata": {},
   "source": [
    "Consider the electrical system and assume we drive the system with an impulse  \n",
    "An impulse of current is an amount of charge.  Let's review the impulse function  \n",
    "![image5!](./images_s1/image_1_6_5.png)  "
   ]
  },
  {
   "cell_type": "markdown",
   "metadata": {},
   "source": [
    "You can see a current impulse is a pulse of current that goes to infinity, but it lasts for zero time  \n",
    "  \n",
    "It's the crazy situation where the area, (base $\\times$ height) is $0\\cdot\\infty=1$!  \n",
    "When $I(t)=\\delta(t)$, the integral, $\\int{I(t)dt}$ equals 1  \n",
    "  \n",
    "The units of current is [C/s], so the integral of a unit impulse of current is 1 Coulomb of charge"
   ]
  },
  {
   "cell_type": "markdown",
   "metadata": {},
   "source": [
    "In the parallel R-C circuit, that 1 Coulomb is deposited on the capacitor at t = 0  \n",
    "In effect, giving the capacitor an initial condition  \n",
    "recall  \n",
    "$$H(s)=\\frac{V(s)}{I(s)}\\Rightarrow V(s)=H(s)I(s)$$  \n",
    "  \n",
    "Now let's transform $I(t)=\\delta(t)$ to $I(s)=1$. Just look it up in the table   \n",
    "  \n",
    "$$V(s)=H(s)$$  \n",
    "  \n",
    "we should also realize that \n",
    "  \n",
    "$$V(t)=\\mathcal{L}^{-1}\\left[H(s)\\right]=h(t)$$  \n",
    "  \n",
    "The inverse Laplace transform of the Transfer function is the unit impulse response, defined as $h(t)$ "
   ]
  },
  {
   "cell_type": "markdown",
   "metadata": {},
   "source": [
    "## 1.6.7 The solution to a lossy system is an exponential decay at the natural frequency"
   ]
  },
  {
   "cell_type": "markdown",
   "metadata": {},
   "source": [
    "Let's try an example, say $R=2k\\Omega$ and $C=400\\mu F$  \n",
    "we can solve for the unit impulse respose using SciPy and lti object"
   ]
  },
  {
   "cell_type": "code",
   "execution_count": 1,
   "metadata": {},
   "outputs": [
    {
     "data": {
      "image/png": "[encoded data removed]",
      "text/plain": [
       "<Figure size 432x288 with 1 Axes>"
      ]
     },
     "metadata": {
      "needs_background": "light"
     },
     "output_type": "display_data"
    }
   ],
   "source": [
    "import scipy.signal as sig\n",
    "import matplotlib.pyplot as plt\n",
    "\n",
    "# define the constants\n",
    "R = 2e3 # Ohms\n",
    "C = 400e-6 # Farads\n",
    "\n",
    "# enter the numerator and denominator of the transfer function\n",
    "num = [1/C]\n",
    "den = [1, 1/(R*C)]\n",
    "\n",
    "# create the lti object\n",
    "V_s = sig.lti(num, den)\n",
    "\n",
    "# find the unit impulse response\n",
    "t, V_t = V_s.impulse()\n",
    "\n",
    "# plot the results\n",
    "plt.plot(t, V_t)\n",
    "plt.xlabel('time, t [s]')\n",
    "plt.ylabel('voltage, V(t) [V]')\n",
    "plt.title('unit impulse response')\n",
    "plt.grid()"
   ]
  },
  {
   "cell_type": "markdown",
   "metadata": {},
   "source": [
    "Because $q=CV$, the 1 Coulomb of charge, corresponds to a voltage of, $V=\\frac{q}{C}$ = 2500V  \n",
    "  \n",
    "The natural frequency of the system is $s=-\\frac{1}{RC}$ = -1.25[Np/s]  \n",
    "  \n",
    "We can see this by plotting the residues and the poles of the system"
   ]
  },
  {
   "cell_type": "code",
   "execution_count": 2,
   "metadata": {},
   "outputs": [
    {
     "name": "stdout",
     "output_type": "stream",
     "text": [
      "residues of V(s)  [2500.]\n",
      "\n",
      "poles of V(s)  [-1.25]\n"
     ]
    }
   ],
   "source": [
    "# compute the poles and residues for V(s)\n",
    "r, p, k = sig.residue(num, den)\n",
    "\n",
    "print('residues of V(s) ',r)\n",
    "print()\n",
    "print('poles of V(s) ',p)"
   ]
  },
  {
   "cell_type": "markdown",
   "metadata": {},
   "source": [
    "You can see that the residues and poles come from  \n",
    "$$V(s)=\\frac{R_1}{s-p_1}=\\frac{2500}{s+1.25}$$  \n",
    "  \n",
    "which we know transforms to\n",
    "$$V(t)=2500e^{-1.25t}$$"
   ]
  },
  {
   "cell_type": "markdown",
   "metadata": {},
   "source": [
    "## 1.6.8 The unit step response"
   ]
  },
  {
   "cell_type": "markdown",
   "metadata": {},
   "source": [
    "If the input is $I(t)=1$ for t > 0, or $I(t)=u(t)$ then we are considering the unit step response  \n",
    "The tranform of $u(t)$ is $\\frac{1}{s}$, for our example  \n",
    "  \n",
    "$$V(s)=H(s)I(s)=\\frac{2500}{s+1.25}\\times\\frac{1}{s}$$  \n",
    "  \n",
    "Scipy has a method that can give us the unit step response, without having to multiply by $\\frac{1}{s}$  \n",
    "  \n",
    "This can get very confusing.  Scipy does not have a method that will give you an answer for an arbitrary step input  \n",
    "it can only give you the answer for a unit step input  \n",
    "If you want the result for an arbitrary step, you have to multiply by $\\frac{1}{s}$ yourself"
   ]
  },
  {
   "cell_type": "code",
   "execution_count": 3,
   "metadata": {},
   "outputs": [
    {
     "data": {
      "image/png": "[encoded data removed]",
      "text/plain": [
       "<Figure size 432x288 with 1 Axes>"
      ]
     },
     "metadata": {
      "needs_background": "light"
     },
     "output_type": "display_data"
    }
   ],
   "source": [
    "# find the unit step response\n",
    "t, V_t = V_s.step()\n",
    "\n",
    "# plot the results\n",
    "plt.plot(t, V_t)\n",
    "plt.xlabel('time, t [s]')\n",
    "plt.ylabel('voltage, V(t) [V]')\n",
    "plt.title('unit step response')\n",
    "plt.grid()"
   ]
  },
  {
   "cell_type": "markdown",
   "metadata": {},
   "source": [
    "This is still an exponential decay.  It is just decaying to a higher value than where it started  "
   ]
  },
  {
   "cell_type": "markdown",
   "metadata": {},
   "source": [
    "## 1.6.9 Arbitrary impulse and step responses"
   ]
  },
  {
   "cell_type": "markdown",
   "metadata": {},
   "source": [
    "The problem with SciPy is that it does not allow one to multiply functions,  \n",
    "so you can't do something like  \n",
    "$$V(s)=\\frac{100}{s^2+5s+100}\\times\\frac{5}{s}$$  \n",
    "which would be very convenient!  \n",
    "  \n",
    "On the other hand, SymPy allows us to do exactly that  \n",
    "But we need to learn how to go back and forth between SymPy and SciPy"
   ]
  },
  {
   "cell_type": "code",
   "execution_count": 4,
   "metadata": {},
   "outputs": [
    {
     "data": {
      "image/png": "[encoded data removed]",
      "text/latex": [
       "$\\displaystyle \\frac{1}{C \\left(s + \\frac{1}{C R}\\right)}$"
      ],
      "text/plain": [
       "     1     \n",
       "───────────\n",
       "  ⎛     1 ⎞\n",
       "C⋅⎜s + ───⎟\n",
       "  ⎝    C⋅R⎠"
      ]
     },
     "execution_count": 4,
     "metadata": {},
     "output_type": "execute_result"
    }
   ],
   "source": [
    "import sympy as sym\n",
    "sym.init_printing() # enables pretty printing for formulas\n",
    "\n",
    "# create symbols\n",
    "t, s, R, C = sym.symbols('t s R C')\n",
    "\n",
    "# create the transfer function\n",
    "H_s = (1/C)/(s+1/(R*C))\n",
    "\n",
    "# if you say print(H_s) you will get Python printing, not pretty printing\n",
    "# just type H_s for pretty printing\n",
    "H_s"
   ]
  },
  {
   "cell_type": "code",
   "execution_count": 5,
   "metadata": {},
   "outputs": [
    {
     "data": {
      "image/png": "[encoded data removed]",
      "text/latex": [
       "$\\displaystyle \\frac{0.005}{s}$"
      ],
      "text/plain": [
       "0.005\n",
       "─────\n",
       "  s  "
      ]
     },
     "execution_count": 5,
     "metadata": {},
     "output_type": "execute_result"
    }
   ],
   "source": [
    "# define an input current\n",
    "# we can define it in the time domain and then transform it to the frequency domain\n",
    "# Let's assume the input is a 5mA step source\n",
    "I_t = 0.005*sym.Heaviside(t)\n",
    "I_s = sym.laplace_transform(I_t, t, s, noconds=True)\n",
    "I_s"
   ]
  },
  {
   "cell_type": "code",
   "execution_count": 6,
   "metadata": {},
   "outputs": [
    {
     "data": {
      "image/png": "[encoded data removed]",
      "text/latex": [
       "$\\displaystyle \\frac{0.005}{C s \\left(s + \\frac{1}{C R}\\right)}$"
      ],
      "text/plain": [
       "    0.005    \n",
       "─────────────\n",
       "    ⎛     1 ⎞\n",
       "C⋅s⋅⎜s + ───⎟\n",
       "    ⎝    C⋅R⎠"
      ]
     },
     "execution_count": 6,
     "metadata": {},
     "output_type": "execute_result"
    }
   ],
   "source": [
    "# form the product\n",
    "V_s = H_s*I_s\n",
    "V_s"
   ]
  },
  {
   "cell_type": "code",
   "execution_count": 7,
   "metadata": {},
   "outputs": [
    {
     "data": {
      "image/png": "[encoded data removed]",
      "text/latex": [
       "$\\displaystyle \\frac{12.5}{s \\left(s + 1.25\\right)}$"
      ],
      "text/plain": [
       "    12.5    \n",
       "────────────\n",
       "s⋅(s + 1.25)"
      ]
     },
     "execution_count": 7,
     "metadata": {},
     "output_type": "execute_result"
    }
   ],
   "source": [
    "# substitute values for R and C \n",
    "V_s_v = V_s.subs([(R, 2e3), (C, 400e-6)])\n",
    "V_s_v"
   ]
  },
  {
   "cell_type": "code",
   "execution_count": 8,
   "metadata": {},
   "outputs": [
    {
     "data": {
      "image/png": "[encoded data removed]",
      "text/latex": [
       "$\\displaystyle 10.0 \\theta\\left(t\\right) - 10.0 e^{- 1.25 t} \\theta\\left(t\\right)$"
      ],
      "text/plain": [
       "                  -1.25⋅t     \n",
       "10.0⋅θ(t) - 10.0⋅ℯ       ⋅θ(t)"
      ]
     },
     "execution_count": 8,
     "metadata": {},
     "output_type": "execute_result"
    }
   ],
   "source": [
    "# if you want, you can take the inverse Laplace transform\n",
    "V_t_v = sym.inverse_laplace_transform(V_s_v, s, t)\n",
    "V_t_v"
   ]
  },
  {
   "cell_type": "markdown",
   "metadata": {},
   "source": [
    "SymPy pretty printing uses $\\theta(t)$ for u(t)  \n",
    "SymPy uses Heaviside(t) when you type it in  \n",
    "They are all the same; $u(t)=\\theta(t)=Heaviside(t)$"
   ]
  },
  {
   "cell_type": "code",
   "execution_count": 9,
   "metadata": {},
   "outputs": [
    {
     "name": "stdout",
     "output_type": "stream",
     "text": [
      "num = [12.5]\n",
      "den = [1.   1.25 0.  ]\n"
     ]
    }
   ],
   "source": [
    "import numpy as np\n",
    "\n",
    "# However, if you want to create an lti object from the SymPy transfer function, \n",
    "# you can do that too\n",
    "# create numpy arrays from the SymPy symbolic transfer function\n",
    "num, den = V_s_v.as_numer_denom()\n",
    "num = np.fromiter(num.as_poly(s).all_coeffs(), dtype=float)\n",
    "den = np.fromiter(den.as_poly(s).all_coeffs(), dtype=float)\n",
    "print('num =', num)\n",
    "print('den =', den)"
   ]
  },
  {
   "cell_type": "code",
   "execution_count": 10,
   "metadata": {},
   "outputs": [
    {
     "data": {
      "image/png": "[encoded data removed]",
      "text/plain": [
       "<Figure size 432x288 with 1 Axes>"
      ]
     },
     "metadata": {
      "needs_background": "light"
     },
     "output_type": "display_data"
    }
   ],
   "source": [
    "# create the lti object using the numpy arrays\n",
    "V_s_lti = sig.lti(num, den)\n",
    "\n",
    "# find the response and plot it\n",
    "t, V_t = V_s_lti.impulse()\n",
    "plt.plot(t, V_t)\n",
    "plt.xlabel('time, t [s]')\n",
    "plt.ylabel('V(t) V]')\n",
    "plt.title('Voltage versus time')\n",
    "plt.grid()"
   ]
  },
  {
   "cell_type": "markdown",
   "metadata": {},
   "source": [
    "## 1.6.10 Summary of the physical system studied so far"
   ]
  },
  {
   "cell_type": "markdown",
   "metadata": {},
   "source": [
    "In the discussions up to this point, we have shown four different types of systems  \n",
    "* Translational Mechanical - dropping a ball\n",
    "    * Source - Earth's gravity\n",
    "    * Storage element - Newton's law; $F=m\\frac{dv}{dt}$\n",
    "    * Lossy element - Stokes' law; $F=bv$\n",
    "* Electrical - series R-L circuit\n",
    "    * Source - Voltage source\n",
    "    * Storage element - Inductor; $V=L\\frac{dI}{dt}$\n",
    "    * Lossy element - Ohm's law; $V=IR$\n",
    "* Gravitaional flow - filling a leaky gas tank\n",
    "    * Source - Gas pump\n",
    "    * Storage element - Gas tank; $f=C\\frac{d(g\\Delta H)}{dt}$\n",
    "    * Lossy element - Poiseuille's law; $g\\Delta H=Rf$\n",
    "* Electrical - parallel R-C circuit\n",
    "    * Source - Current source\n",
    "    * Storage element - Capacitor; $I=C\\frac{dV}{dt}$\n",
    "    * Lossy element - Ohm's law; $V=IR$"
   ]
  },
  {
   "cell_type": "markdown",
   "metadata": {},
   "source": [
    "## 1.6.11 First order lti systems"
   ]
  },
  {
   "cell_type": "markdown",
   "metadata": {},
   "source": [
    "1. **Single storage element**  \n",
    "    Each of the four systems described above are first order lti systems  \n",
    "    In a practical sense, first order systems have only one storage element,  \n",
    "    we will learn higher order systems have more than one storage element  \n",
    "  \n",
    "2. **Response**  \n",
    "    First order systems have a linear response between the potential  \n",
    "    and flow variables of a power conjugate system  \n",
    "    Lossy first order systems have an exponentially decaying response  \n",
    "  \n",
    "3. **Differential relationship**  \n",
    "    Storage elements always relate a power conjugate variable to  \n",
    "    the derivative of the other power conjugate variable  \n",
    "    The derivative can be of the potential variable or flow variable  \n",
    "  \n",
    "4. **First order differential equation**  \n",
    "    A first order system is described by a first order differential equation in the time domain  \n",
    "    The differential equation can be transformed to the frequency domain using the Laplace transform  \n",
    "  \n",
    "5. **Transfer function**  \n",
    "    In the frequency domain, Algebra can be used to write a transfer function  \n",
    "    For first order systems,  \n",
    "    the Transfer function always has a first order polynomial of s in the denominator  \n",
    "  \n",
    "6. **Natural frequency of response**  \n",
    "    The root of the first order polynomial in the denominator is called a pole of the system  \n",
    "    The pole describes the system's natural frequency of response  \n",
    "  \n",
    "7. **Time constant**  \n",
    "    The reciprocal of the magnitude of the natural frequency is called the time constant"
   ]
  },
  {
   "cell_type": "markdown",
   "metadata": {},
   "source": [
    "## 1.6.12 Summary of many types of physical systems"
   ]
  },
  {
   "cell_type": "markdown",
   "metadata": {},
   "source": [
    "The table below shows a summary of six different types physical systems  \n",
    "Every type of system can have two storage elements,  \n",
    "but for first order systems, only one is included in the physical design  \n",
    "Therefore the table can describe 11 different first order systems  \n",
    "(Heat flow does not carry inertia because heat has no mass)  \n",
    "  \n",
    "The table is based on the impedance analogy for physical systems  \n",
    "[Impedance analogy](https://en.wikipedia.org/wiki/Impedance_analogy)"
   ]
  },
  {
   "attachments": {},
   "cell_type": "markdown",
   "metadata": {},
   "source": [
    "![image6!](./images_s1/image_1_6_6.png)  "
   ]
  },
  {
   "cell_type": "markdown",
   "metadata": {},
   "source": [
    "In the table there are 6 lossy element equations  \n",
    "The proportionality constant is either R or b in each of the systems  \n",
    "  \n",
    "Let's generalize these relationships and call the proportionality constant $R$ for resistance"
   ]
  },
  {
   "cell_type": "markdown",
   "metadata": {},
   "source": [
    "In the table, there are 11 storage element equations  \n",
    "The proportionality constant is either m, I, or L.  \n",
    "Let's generalize these relationships so the proportianlity constant  \n",
    "is called $X_L$ for inductive or inertial reactance.  \n",
    "\n",
    "Alternatively, the proportionality constant either 1/k or C.  \n",
    "Let's generalize these relationships so the proportianlity constant  \n",
    "is called $X_C$ for capacitive reactance."
   ]
  },
  {
   "cell_type": "markdown",
   "metadata": {},
   "source": [
    "Using our general proportionality constants, resistance R, and reactance, X  \n",
    "We can generate two different types of Transfer functions  \n",
    "  \n",
    "It should be noted that for each system, either  \n",
    "$\\frac{R}{X_L}$ has the units of frequency in [Np/s] or $\\frac{1}{R\\cdot X_C}$ has the units of frequency in [Np/s]  \n",
    "  \n",
    "Similiarly, the reciprocols have the untis of time  \n",
    "$\\frac{X_L}{R}$ has the units of time in [s] or $R\\cdot X_C$ has the units of time in [s]  "
   ]
  },
  {
   "attachments": {},
   "cell_type": "markdown",
   "metadata": {},
   "source": [
    "Generalized first order Transfer functions  \n",
    "![image7!](./images_s1/image_1_6_7.png)  "
   ]
  }
 ],
 "metadata": {
  "kernelspec": {
   "display_name": "Python 3",
   "language": "python",
   "name": "python3"
  },
  "language_info": {
   "codemirror_mode": {
    "name": "ipython",
    "version": 3
   },
   "file_extension": ".py",
   "mimetype": "text/x-python",
   "name": "python",
   "nbconvert_exporter": "python",
   "pygments_lexer": "ipython3",
   "version": "3.7.6"
  }
 },
 "nbformat": 4,
 "nbformat_minor": 4
}
