{
 "cells": [
  {
   "cell_type": "markdown",
   "metadata": {},
   "source": [
    "# 3.6 Convolution"
   ]
  },
  {
   "cell_type": "markdown",
   "metadata": {},
   "source": [
    "## 3.6.1 Review of the Laplace method"
   ]
  },
  {
   "cell_type": "markdown",
   "metadata": {},
   "source": [
    "The ultimate goal of the Laplace method is to find an output signal as a function of time  \n",
    "The process hinges on the Laplace transform, the Transfer function, and the equation  \n",
    "  \n",
    "$$y(s)=H(s)\\cdot x(s)$$  \n",
    "The key is multiplication in the frequency domain"
   ]
  },
  {
   "cell_type": "markdown",
   "metadata": {},
   "source": [
    "### 3.6.1.1 Find the Transfer function"
   ]
  },
  {
   "cell_type": "markdown",
   "metadata": {},
   "source": [
    "The drawing below includes some new information,  \n",
    "but also highlights the entire process of the Laplace transform method  \n",
    "  \n",
    "To start the Laplace transform method, we need to find the transfer function  \n",
    "It is found by writing the relationships between power conjugate variable in the frequency domain,  \n",
    "and then including them in a conservation law, such as Kirchhoff's laws or D'Alembart's principle  \n",
    "  \n",
    "In this specific drawing, the transfer function is highlighted in red as the starting point of the process  \n",
    "![image1!](./images_s3/image_3_6_1.png)  "
   ]
  },
  {
   "cell_type": "markdown",
   "metadata": {},
   "source": [
    "### 3.6.1.2 Transform the input"
   ]
  },
  {
   "cell_type": "markdown",
   "metadata": {},
   "source": [
    "The next step in the process, is to transform the input signal to the frequency domain  \n",
    "  \n",
    "Our input signals have been limited to the singularity functions; the impulse, step, and ramp  \n",
    "along with the exponential (real or imaginary for sin/cos waves)  \n",
    "Although any input signal for which you can find the Laplace transform will work for this step  \n",
    "  \n",
    "The drawing below shows the Laplace tranform of the input signal highlighted in red  \n",
    "![image2!](./images_s3/image_3_6_2.png)  "
   ]
  },
  {
   "cell_type": "markdown",
   "metadata": {},
   "source": [
    "### 3.6.1.3 Multiply in the frequency domain"
   ]
  },
  {
   "cell_type": "markdown",
   "metadata": {},
   "source": [
    "Once we have the transfer function and the input signal in the frequency domain,  \n",
    "we can multiply to find the output  \n",
    "  \n",
    "The drawing below highlights this portion of the Laplace method in red  \n",
    "![image3!](./images_s3/image_3_6_3.png)  "
   ]
  },
  {
   "cell_type": "markdown",
   "metadata": {},
   "source": [
    "### 3.6.1.4 Convert back to the time domain"
   ]
  },
  {
   "cell_type": "markdown",
   "metadata": {},
   "source": [
    "The final step in the process is to convert the output signal from the frequency domain  \n",
    "back to the time domain using the inverse laplace transform  \n",
    "  \n",
    "Once again, the final step is shown in red  \n",
    "![image4!](./images_s3/image_3_6_4.png)  "
   ]
  },
  {
   "cell_type": "markdown",
   "metadata": {},
   "source": [
    "## 3.6.2 Convolution in the time domain"
   ]
  },
  {
   "cell_type": "markdown",
   "metadata": {},
   "source": [
    "You can see in the drawing above, there is a way compute the output signal  \n",
    "completely in the time domain!  \n",
    "  \n",
    "So why don't we do that?  \n",
    "  \n",
    "It turns out that the frequency dependent knowledge of a system  \n",
    "is usually more important than calculating the output signal  \n",
    "  \n",
    "> Designing a filter or control system is about knowing the frequency response  \n",
    "In practice, you won't even know what the input signal is  \n",
    "\n",
    "> For example, the input signal may come from an accelerometer attached to an automobile bridge  \n",
    "All you want to do is condition the signal so you can make measurements with a microntroller  \n",
    "in order to detect if the bridge is maintaining it's safety requirements  \n",
    "In this example, you have no idea of what the actual input signal will be as a function of time  \n",
    "and the computation of the output signal as a function of time is unimportant,  \n",
    "but the design of the frequency response of the system is crucial  \n",
    "In other words, you must design the natural frequencies of the system so it performs properly\n",
    "  \n",
    "Beyond the frequency response being more important than the time response,  \n",
    "the calculation in the time domain involves calculus, not algebra  \n",
    "  \n",
    "> Convolution is an integration of time domain signals, it's not as simple as multiplication  \n",
    "you can't simply multiply signals in the time domain, that's a non-linear process  "
   ]
  },
  {
   "cell_type": "markdown",
   "metadata": {},
   "source": [
    "### 3.6.2.1. Find the unit impulse response"
   ]
  },
  {
   "cell_type": "markdown",
   "metadata": {},
   "source": [
    "The first step in the convolution method is to find the unit impulse response  \n",
    "  \n",
    "You should take a moment to reflect on the difference with the Laplace method  \n",
    "the convolution method requires a response as a function of time, not a set of differntial equations  \n",
    "In the Laplace method $H(s)$ is the frequency representaion of differential equations  \n",
    "  \n",
    "The unit impulse response is usually found by using the inverse Laplace transform of $H(s)$,  \n",
    "alternatively, you could measure the unit impulse response of a system in the lab  \n",
    "  \n",
    "Either way, the drawing below shows the starting point of the convolution method below  \n",
    "![image5!](./images_s3/image_3_6_5.png)  "
   ]
  },
  {
   "cell_type": "markdown",
   "metadata": {},
   "source": [
    "### 3.6.2.2 Perform the convolution integral"
   ]
  },
  {
   "cell_type": "markdown",
   "metadata": {},
   "source": [
    "The formula for the convolution integral is  \n",
    "[Convolution](https://en.wikipedia.org/wiki/Convolution)\n",
    "  \n",
    "$$y(t)=h(t)*x(t)=\\int_{-\\infty}^{\\infty} h(t-\\tau)x(\\tau)d\\tau$$  \n",
    "We will explain how to perform this integral a little later, but recognize it's not as simple  \n",
    "as muliplying the input signal and the impulse response  \n",
    "  \n",
    "Convolving in the time domain is similar to multiplying in the frequency domain  \n",
    "and in fact the convolution operation can be transformed to multiplication using the Laplace transform  \n",
    "  \n",
    "$$\\mathcal{L}\\left\\{{h(t)*x(t)}\\right\\}=H(s)\\cdot x(s)$$\n",
    "The symbol for convolution is an asterik, *  \n",
    "  \n",
    "The diagram below shows how the convolution operation is used to   \n",
    "complete the process of finding the output signal as a function of time  \n",
    "![image6!](./images_s3/image_3_6_6.png)  "
   ]
  },
  {
   "cell_type": "markdown",
   "metadata": {},
   "source": [
    "## 3.6.3 Performing convolution"
   ]
  },
  {
   "cell_type": "markdown",
   "metadata": {},
   "source": [
    "Traditionally, the process of convolving two signals was carried out on graph paper,  \n",
    "but today computers can perform the operation  \n",
    "  \n",
    "We will show you the graphical method, but will use Python to solve the actual integral  "
   ]
  },
  {
   "cell_type": "markdown",
   "metadata": {},
   "source": [
    "### 3.6.3.1 Find $h(t)$"
   ]
  },
  {
   "cell_type": "markdown",
   "metadata": {},
   "source": [
    "First, let's create a unit impulse response, $h(t)$  \n",
    "We will do this by starting with a simple transfer function  \n",
    "  \n",
    "$$H(s)=\\frac{3}{s+3}$$  \n",
    "Because we need to investigate the term $h(t-\\tau)$, we will find $h(t)$  \n",
    "by looking it up in the Laplace transform table  \n",
    "  \n",
    "$$h(t)=3e^{-3t}$$  \n",
    "  \n",
    "The code cell below plots $h(t)$ as a function of time"
   ]
  },
  {
   "cell_type": "code",
   "execution_count": 1,
   "metadata": {},
   "outputs": [
    {
     "data": {
      "image/png": "[encoded data removed]",
      "text/plain": [
       "<Figure size 432x288 with 1 Axes>"
      ]
     },
     "metadata": {
      "needs_background": "light"
     },
     "output_type": "display_data"
    }
   ],
   "source": [
    "import numpy as np\n",
    "import matplotlib.pyplot as plt\n",
    "\n",
    "def unit_impulse_response(t):\n",
    "    if t<0:\n",
    "        return 0\n",
    "    else:\n",
    "        return(3*np.exp(-3*t))\n",
    "\n",
    "t_axis = np.linspace(-1, 4, 1000)\n",
    "h_t = []\n",
    "for t in t_axis:\n",
    "    h_t.append(unit_impulse_response(t))\n",
    "\n",
    "plt.plot(t_axis, h_t)\n",
    "plt.ylim([-1,7])\n",
    "plt.xlabel('time [s]')\n",
    "plt.ylabel('h(t)')\n",
    "plt.title('Unit impulse response')\n",
    "plt.grid()"
   ]
  },
  {
   "cell_type": "markdown",
   "metadata": {},
   "source": [
    "### 3.6.3.2 Find $h(t-\\tau)$"
   ]
  },
  {
   "cell_type": "markdown",
   "metadata": {},
   "source": [
    "The convolution integral is repeated below  \n",
    "  \n",
    "$$y(t)=h(t)*x(t)=\\int_{-\\infty}^{\\infty} h(t-\\tau)x(\\tau)d\\tau$$  \n",
    "The integration is performed over the variable $\\tau$, not $t$  \n",
    "  \n",
    "This means that while this integral is calculated, $t$ remains constant  \n",
    "\n",
    "So what does the term $h(t-\\tau)$ mean?  \n",
    "  \n",
    "The easiest way to show it, is to make a graph of $h(t-\\tau)$, with t constant  \n",
    "In the code cell below, $t$ is held at a constant value of 2 seconds,  \n",
    "while $\\tau$ is varied across the entire time-axis"
   ]
  },
  {
   "cell_type": "code",
   "execution_count": 2,
   "metadata": {},
   "outputs": [
    {
     "data": {
      "image/png": "[encoded data removed]",
      "text/plain": [
       "<Figure size 432x288 with 1 Axes>"
      ]
     },
     "metadata": {
      "needs_background": "light"
     },
     "output_type": "display_data"
    }
   ],
   "source": [
    "h_t_m_tau = []\n",
    "t = 1.5\n",
    "for tau in t_axis:\n",
    "    h_t_m_tau.append(unit_impulse_response(t-tau))\n",
    "\n",
    "plt.plot(t_axis, h_t_m_tau)\n",
    "plt.ylim([-1,7])\n",
    "plt.xlabel('tau [s]')\n",
    "plt.ylabel('h(2-tau)')\n",
    "plt.title('Flipped horizontally and time shifted\\nUnit impulse response')\n",
    "plt.grid()"
   ]
  },
  {
   "cell_type": "markdown",
   "metadata": {},
   "source": [
    "The term $h(t-\\tau)$, flips the function horizontally around the $\\tau=0$ axis  \n",
    "and then shifts it along the axis by the amount of time, $t$. In this case, $t=1.5$ seconds"
   ]
  },
  {
   "cell_type": "markdown",
   "metadata": {},
   "source": [
    "### 3.6.3.3 Define $x(t)$ and change the variable to $x(\\tau)$"
   ]
  },
  {
   "cell_type": "markdown",
   "metadata": {},
   "source": [
    "Any function of time may be used for $x(t)$,  \n",
    "so for our example, we will use a pulse from 1 to 2 seconds  \n",
    "  \n",
    "Notice, you don't need to know how to take the Laplace transform of this function!  \n",
    "but you do need to change the variable from $t$ to $\\tau$  "
   ]
  },
  {
   "cell_type": "code",
   "execution_count": 3,
   "metadata": {},
   "outputs": [
    {
     "data": {
      "image/png": "[encoded data removed]",
      "text/plain": [
       "<Figure size 432x288 with 1 Axes>"
      ]
     },
     "metadata": {
      "needs_background": "light"
     },
     "output_type": "display_data"
    }
   ],
   "source": [
    "x_tau = np.zeros(1000)\n",
    "x_tau[400:599] = 2.0\n",
    "\n",
    "plt.plot(t_axis, x_tau)\n",
    "plt.ylim([-1,7])\n",
    "plt.xlabel('tau [s]')\n",
    "plt.ylabel('x(tau)')\n",
    "plt.title('Input signal')\n",
    "plt.grid()"
   ]
  },
  {
   "cell_type": "markdown",
   "metadata": {},
   "source": [
    "### 3.6.3.4 Find $h(t-\\tau)x(\\tau)$"
   ]
  },
  {
   "cell_type": "markdown",
   "metadata": {},
   "source": [
    "Before we integrate, we must first find the product of the input  \n",
    "with the flipped and time shifted transfer function  \n",
    "  \n",
    "The integral is the area under the curve  \n",
    "Pay attention to the time limits for the integral and the x-axis  \n",
    "the x-axis is $\\tau$, while time, $t$, is fixed at one value"
   ]
  },
  {
   "cell_type": "code",
   "execution_count": 4,
   "metadata": {},
   "outputs": [
    {
     "data": {
      "image/png": "[encoded data removed]",
      "text/plain": [
       "<Figure size 432x288 with 1 Axes>"
      ]
     },
     "metadata": {
      "needs_background": "light"
     },
     "output_type": "display_data"
    }
   ],
   "source": [
    "p = h_t_m_tau*x_tau\n",
    "\n",
    "plt.plot(t_axis, p, 'g')\n",
    "plt.fill(t_axis, p, 'g')\n",
    "plt.plot(t_axis, x_tau, 'b')\n",
    "plt.plot(t_axis, h_t_m_tau, 'r')\n",
    "\n",
    "plt.ylim([-1,7])\n",
    "plt.xlabel('tau [s]')\n",
    "plt.ylabel('Product term')\n",
    "plt.title('The product term in the convolution integral')\n",
    "plt.grid()"
   ]
  },
  {
   "cell_type": "markdown",
   "metadata": {},
   "source": [
    "### 3.6.3.5 Find $y(t)=\\int h(t-\\tau)x(\\tau)d\\tau$"
   ]
  },
  {
   "cell_type": "markdown",
   "metadata": {},
   "source": [
    "In our example, we are finding the output at time $t=1.5s$  \n",
    "The area of the green fill in the graph above gives us the answer  \n",
    "  \n",
    "$y(1.5)=1.554$"
   ]
  },
  {
   "cell_type": "code",
   "execution_count": 6,
   "metadata": {},
   "outputs": [
    {
     "name": "stdout",
     "output_type": "stream",
     "text": [
      "y(1.5) = 1.554394635767819\n"
     ]
    }
   ],
   "source": [
    "import scipy.integrate as integrate\n",
    "\n",
    "y_1_5 = integrate.simps(p, t_axis)\n",
    "print('y(1.5) =',y_1_5)"
   ]
  },
  {
   "cell_type": "markdown",
   "metadata": {},
   "source": [
    "### 3.6.3.6 Repeat at more values of $t$ to find $y(t)$"
   ]
  },
  {
   "cell_type": "code",
   "execution_count": 74,
   "metadata": {},
   "outputs": [
    {
     "data": {
      "image/png": "[encoded data removed]",
      "text/plain": [
       "<Figure size 504x504 with 4 Axes>"
      ]
     },
     "metadata": {
      "needs_background": "light"
     },
     "output_type": "display_data"
    }
   ],
   "source": [
    "p = [[], [], [], []]\n",
    "t = [0.0, 1.2, 1.8, 2.5]\n",
    "t_titles = ['t = 0', 't = 1.2', 't = 1.8', 't = 2.5']\n",
    "h_t_m_tau = [[], [], [], []]\n",
    "for n in range(4):\n",
    "    for tau in t_axis:\n",
    "        h_t_m_tau[n].append(unit_impulse_response(t[n]-tau))\n",
    "    p[n] = h_t_m_tau[n]*x_tau\n",
    "\n",
    "t_titles = ['t = 0', 't = 1.2', 't = 1.8', 't = 2.5']\n",
    "fig, ax = plt.subplots(4, constrained_layout=True, figsize=(7,7))\n",
    "\n",
    "for n in range(4):\n",
    "    ax[n].plot(t_axis, p[n], 'g')\n",
    "    ax[n].fill(t_axis, p[n], 'g')\n",
    "    ax[n].plot(t_axis, x_tau, 'b')\n",
    "    ax[n].plot(t_axis, h_t_m_tau[n], 'r')\n",
    "    ax[n].set_ylim([-1,6])\n",
    "    ax[n].set_title(t_titles[n])\n",
    "    ax[n].grid()"
   ]
  },
  {
   "cell_type": "markdown",
   "metadata": {},
   "source": [
    "## 3.6.4 Using Scipy to perform convolution"
   ]
  },
  {
   "cell_type": "markdown",
   "metadata": {},
   "source": [
    "The code cells above show you the steps in performing convolution, but \n",
    "as you may imagine, the steps are coded in a method provided by Scipy  \n",
    "[Convolve](https://docs.scipy.org/doc/scipy/reference/generated/scipy.signal.convolve.html#scipy.signal.convolve)\n",
    "  \n",
    "Convolution is communitive, $h(t)*x(t)=x(t)*h(t)$  \n",
    "so the order you put the functions in the method does not matter  \n",
    "  \n",
    "The code cell below uses Scipy to perform convolution  \n",
    "The values determined from the step-by-step method are superimposed on the graph  "
   ]
  },
  {
   "cell_type": "code",
   "execution_count": 73,
   "metadata": {},
   "outputs": [
    {
     "data": {
      "image/png": "[encoded data removed]",
      "text/plain": [
       "<Figure size 432x288 with 1 Axes>"
      ]
     },
     "metadata": {
      "needs_background": "light"
     },
     "output_type": "display_data"
    }
   ],
   "source": [
    "import scipy.signal as sig\n",
    "\n",
    "# it only takes one line of code to perform convolution!\n",
    "# the output needs to be scaled by the summation of all the values in h(t)\n",
    "# mode='same', causes the output array to be the same size as the input array\n",
    "y_t = sig.convolve(x_tau, h_t, mode='same')/sum(h_t)\n",
    "\n",
    "# for comparison, integrate the area under the curves\n",
    "# from the figures above\n",
    "y = []\n",
    "for n in range(4):\n",
    "    y.append(integrate.simps(p[n], t_axis))\n",
    "\n",
    "plt.plot(t_axis[300:], y_t[:700])\n",
    "plt.plot(t_axis, x_tau)\n",
    "plt.plot(t_axis, h_t)\n",
    "plt.scatter(t, y)\n",
    "plt.xlabel('time [s]')\n",
    "plt.title('Scipy convolution')\n",
    "plt.legend(['y(t)', 'x(t)', 'h(t)'])\n",
    "plt.grid()"
   ]
  },
  {
   "cell_type": "markdown",
   "metadata": {},
   "source": [
    "## 3.6.5 Convolution in Machine Learning"
   ]
  },
  {
   "cell_type": "markdown",
   "metadata": {},
   "source": [
    "A class of machine learning called convolutional neural networks (CNN),  \n",
    "gets its name from employing the convolution operation within its network layers  \n",
    "[Convolutional neural network](https://en.wikipedia.org/wiki/Convolutional_neural_network)\n",
    "  \n",
    "This type of machine learning is often applied to image recognition  \n",
    "It is essentially a filter that is \"trained\" or \"weighted\" to recognize a feature of interest  \n",
    "  \n",
    "Because it is applied to images, the filter is a two-dimensional spatial array  \n",
    "rather than a one-dimensional time array as we have seen  \n",
    "  \n",
    "Because images are large and many convolutions are required,  \n",
    "processing power is of the utmost importance  \n",
    "In such cases, the impulse response, $h(t)$,  \n",
    "of the filter is typically approximated by a very simple function  \n",
    "In convolutional neural networks, the filter is called a kernel  \n",
    "  \n",
    "The link below explains convolutional neural networks as applied to image processing  \n",
    "and includes a graphic showing the filter sliding across the image, just as we have shown in the graphs above  \n",
    "[CNN](https://towardsdatascience.com/a-comprehensive-guide-to-convolutional-neural-networks-the-eli5-way-3bd2b1164a53)  \n",
    "  \n",
    "A snapshot of that graphic is shown here  \n",
    "![image7!](./images_s3/image_3_6_7.png)  \n",
    "The 3x3 kernel can fit into 9 different places on the image  \n",
    "for each of the 9 places, the kernel is multiplied by the image data and then added up (integrated)  \n",
    "The answer goes into one of the 3x3 locations of the output signal...  \n",
    "it's convolution in action!"
   ]
  },
  {
   "cell_type": "markdown",
   "metadata": {},
   "source": [
    "## 3.6.6 Convolution versus the Laplace method"
   ]
  },
  {
   "cell_type": "markdown",
   "metadata": {},
   "source": [
    "Now we see there are two ways to do the same thing  \n",
    "Use convolution to perform the calculation completely in the time domain  \n",
    "or, use the Laplace method to perform the calculation  \n",
    "  \n",
    "Obviously, one path is computationally faster that the other  \n",
    "but it isn't obvious which one is faster  \n",
    "GPUs are currently being designed to foster better performance of the brute force convolutional method  \n",
    "  \n",
    "Scipy even provides a method to help you decide  \n",
    "(The method compares Convolution to the Fourier transfrom method  \n",
    "The Fourier transform method is very similar to the Laplace transform method  \n",
    "If you remember from the Fourier series discussion, the Fourier transform  \n",
    "converts the signal to the $s=j\\omega$ axis, rather than the s-plane as the Laplace transform does)  \n",
    "  \n",
    "The code cell below finds out which method is faster on your machine!"
   ]
  },
  {
   "cell_type": "code",
   "execution_count": 75,
   "metadata": {},
   "outputs": [
    {
     "name": "stdout",
     "output_type": "stream",
     "text": [
      "Which is faster, direct or fft? = direct\n"
     ]
    }
   ],
   "source": [
    "print('Which is faster, direct or fft? =', sig.choose_conv_method(x_tau, h_t, mode='same'))"
   ]
  }
 ],
 "metadata": {
  "kernelspec": {
   "display_name": "Python 3",
   "language": "python",
   "name": "python3"
  },
  "language_info": {
   "codemirror_mode": {
    "name": "ipython",
    "version": 3
   },
   "file_extension": ".py",
   "mimetype": "text/x-python",
   "name": "python",
   "nbconvert_exporter": "python",
   "pygments_lexer": "ipython3",
   "version": "3.7.6"
  }
 },
 "nbformat": 4,
 "nbformat_minor": 4
}
