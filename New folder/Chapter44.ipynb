{
 "cells": [
  {
   "cell_type": "markdown",
   "metadata": {},
   "source": [
    "# 4.4 Modelling Continuous time systems in Discrete time"
   ]
  },
  {
   "cell_type": "markdown",
   "metadata": {},
   "source": [
    "## 4.4.1 Converting H(s) to H(z) using $z=e^{sT}$"
   ]
  },
  {
   "cell_type": "markdown",
   "metadata": {},
   "source": [
    "The question you should have at this point in the reading, is how do we create discrete time transfer functions?  \n",
    "It was easy to derive transfer functions for continuous time systems  \n",
    "  \n",
    "We used relations between power conjugate variables, such as Newton's law, Hooke's law, or Stokes' law,  \n",
    "and substituted them into conservations laws, such as D'Alembert's principle, all in the frequency domain  \n",
    "  \n",
    "Instead of defining discrete time physics, we will simply convert continuous time systems to discrete time systems  \n",
    "And you already know how to make the conversion!  \n",
    "  \n",
    "$$z=e^{sT}$$  \n",
    "Say, for example, you derived a continuous time transfer function of  \n",
    "  \n",
    "$$H(s)=\\frac{10}{s+10}$$  \n",
    "solve the relationship between the frequencies s and z, for s  \n",
    "  \n",
    "$$s=\\frac{ln(z)}{T}$$  \n",
    "and substitue  \n",
    "  \n",
    "$$H(z)=\\frac{10}{\\frac{ln(z)}{T}+10}$$  \n",
    "That's it, we converted the continuous time transfer function to a discrete time transfer function  \n",
    "unfortunatley, the result is non-linear and unsable  \n",
    "  \n",
    "In order to use the relationship between frequencies, s and z, we need to make a linear approximation for $z=e^{sT}$  \n",
    "In our examples we will assume a sampling frequency of 20 sample/sec, or $T=0.05$[s]"
   ]
  },
  {
   "cell_type": "markdown",
   "metadata": {},
   "source": [
    "## 4.4.2 Approximating $z=e^{sT}$"
   ]
  },
  {
   "cell_type": "markdown",
   "metadata": {},
   "source": [
    "### 4.4.2.1 The Forward Euler or forward difference approximation"
   ]
  },
  {
   "cell_type": "markdown",
   "metadata": {},
   "source": [
    "The exponential function can be approximated by choosing a finite number of terms  \n",
    "from the infinite Taylor series expansion, specifically the Maclaurin series for exponentials  \n",
    "[Taylor series](https://en.wikipedia.org/wiki/Taylor_series)  \n",
    "  \n",
    "$$e^{sT}=\\sum_{n=0}^{\\infty}\\frac{(sT)^n}{n!}=1+sT+\\frac{(sT)^2}{2!}+\\frac{(sT)^3}{3!}+\\frac{(sT)^4}{4!}+\\cdots$$  \n",
    "  \n",
    "A first-order (linear) approximation from the Maclaurin series takes only the first two terms  \n",
    "  \n",
    "$$z=e^{sT}\\approx1+sT$$  \n",
    "solving for s  \n",
    "  \n",
    "$$s=\\frac{z-1}{T}$$  \n",
    "substitute this approximation into our example transfer function, $H(s)=\\frac{10}{s+10}$  \n",
    "  \n",
    "$$H(z)=\\frac{10}{\\left(\\frac{z-1}{T}\\right)+10}$$  \n",
    "write as a polynomial over a polynomial  \n",
    "  \n",
    "$$H(z)=\\frac{10T}{z-1+10T}$$  \n",
    "substitute our assumed sampling period, $T=0.05$[s]  \n",
    "  \n",
    "$$H(z)=\\frac{0.5}{z-0.5}$$  \n",
    "And there it is, we have a discrete time linear transfer function (polynomial of $z$ over a polynomial of $z$)  \n",
    "that will approximate the continuous time transfer function, $H(s)=\\frac{10}{s+10}$  "
   ]
  },
  {
   "cell_type": "markdown",
   "metadata": {},
   "source": [
    "### 4.4.2.2 The Backward Euler or backward difference approximation"
   ]
  },
  {
   "cell_type": "markdown",
   "metadata": {},
   "source": [
    "We can produce another first order approximation from the Maclaurin series expansion by noting that  \n",
    "  \n",
    "$$e^{sT}=\\frac{1}{e^{-sT}}=\\frac{1}{1-sT+\\frac{(-sT)^2}{2!}+\\frac{(-sT)^3}{3!}+\\frac{(-sT)^4}{4!}+\\cdots}$$  \n",
    "the first order approximation is  \n",
    "  \n",
    "$$z=e^{sT}\\approx\\frac{1}{1-sT}$$  \n",
    "solving for s  \n",
    "  \n",
    "$$s=\\frac{z-1}{zT}$$  \n",
    "substitute this approximation into our example transfer function, $H(s)=\\frac{10}{s+10}$  \n",
    "  \n",
    "$$H(z)=\\frac{10}{\\left(\\frac{z-1}{zT}\\right)+10}$$  \n",
    "write as a polynomial over a polynomial  \n",
    "  \n",
    "$$H(z)=\\frac{10zT}{z-1+10zT}$$  \n",
    "substitute our assumed sampling period, $T=0.05$[s]  \n",
    "  \n",
    "$$H(z)=\\frac{0.5z}{1.5z-1}=\\frac{0.33z}{z-0.67}$$"
   ]
  },
  {
   "cell_type": "markdown",
   "metadata": {},
   "source": [
    "### 4.4.2.3 The Bilinear approximation or Tustin's method"
   ]
  },
  {
   "cell_type": "markdown",
   "metadata": {},
   "source": [
    "The final first order approximation we can make from the Maclaurin series starts by noting  \n",
    "  \n",
    "$$e^{sT}=\\frac{e^{\\frac{sT}{2}}}{e^{-\\frac{sT}{2}}}=\\frac{1+\\frac{sT}{2}+\\frac{(\\frac{sT}{2})^2}{2!}+\\frac{(\\frac{sT}{2})^3}{3!}+\\frac{(\\frac{sT}{2})^4}{4!}+\\cdots}{1-\\frac{sT}{2}+\\frac{(-\\frac{sT}{2})^2}{2!}+\\frac{(-\\frac{sT}{2})^3}{3!}+\\frac{(-\\frac{sT}{2})^4}{4!}+\\cdots}$$  \n",
    "the first order approximation is  \n",
    "  \n",
    "$$z=e^{sT}\\approx\\frac{1+\\frac{sT}{2}}{1-\\frac{sT}{2}}=\\frac{2+sT}{2-sT}$$  \n",
    "solving for s  \n",
    "  \n",
    "$$s=\\frac{2}{T}\\frac{z-1}{z+1}$$  \n",
    "substitute this approximation into our example transfer function, $H(s)=\\frac{10}{s+10}$  \n",
    "  \n",
    "$$H(z)=\\frac{10}{\\left(\\frac{2}{T}\\frac{z-1}{z+1}\\right)+10}$$  \n",
    "write as a polynomial over a polynomial  \n",
    "  \n",
    "$$H(z)=\\frac{10zT+10T}{2z-2+10zT+10T}$$  \n",
    "substitute our assumed sampling period, $T=0.05$[s]  \n",
    "  \n",
    "$$H(z)=\\frac{0.5z+0.5}{2z-2+0.5z+0.5}=\\frac{0.5z+0.5}{2.5z-1.5}=\\frac{0.2z+0.2}{z-0.6}$$"
   ]
  },
  {
   "cell_type": "markdown",
   "metadata": {},
   "source": [
    "## 4.4.3 Creating discrete time transfer functions with Scipy"
   ]
  },
  {
   "cell_type": "markdown",
   "metadata": {},
   "source": [
    "In summary, we learned three different ways to write a first order approximation for $z=e^{sT}$  \n",
    "  \n",
    "The results, when applied to our example continuous time transfer function $H(s)=\\frac{10}{s+10}$ are  \n",
    "  \n",
    "$$H(z)=\\frac{0.5}{z-0.5}\\qquad or\\qquad H(z)=\\frac{0.33z}{z-0.67}\\qquad or\\qquad H(z)=\\frac{0.2z+0.2}{z-0.6}$$  \n",
    "so which one is right?  \n",
    "  \n",
    "They're all right!  \n",
    "They are just different approximations of the same thing  \n",
    "  \n",
    "The code cell below shows you how to create the same discrete time transfer functions using Scipy  \n",
    "[to_discrete](https://docs.scipy.org/doc/scipy/reference/generated/scipy.signal.lti.to_discrete.html#scipy.signal.lti.to_discrete)  \n",
    "  \n",
    "you must specify a sampling period for this method"
   ]
  },
  {
   "cell_type": "code",
   "execution_count": 1,
   "metadata": {},
   "outputs": [
    {
     "name": "stdout",
     "output_type": "stream",
     "text": [
      "Forward Euler\n",
      " TransferFunctionDiscrete(\n",
      "array([0.5]),\n",
      "array([ 1. , -0.5]),\n",
      "dt: 0.05\n",
      ")\n",
      "Backward Euler\n",
      " TransferFunctionDiscrete(\n",
      "array([3.33333333e-01, 5.55111512e-17]),\n",
      "array([ 1.        , -0.66666667]),\n",
      "dt: 0.05\n",
      ")\n",
      "Bilinear\n",
      " TransferFunctionDiscrete(\n",
      "array([0.2, 0.2]),\n",
      "array([ 1. , -0.6]),\n",
      "dt: 0.05\n",
      ")\n"
     ]
    },
    {
     "name": "stderr",
     "output_type": "stream",
     "text": [
      "/opt/tljh/user/lib/python3.6/site-packages/scipy/signal/filter_design.py:1622: BadCoefficients: Badly conditioned filter coefficients (numerator): the results may be meaningless\n",
      "  \"results may be meaningless\", BadCoefficients)\n"
     ]
    }
   ],
   "source": [
    "import numpy as np\n",
    "import matplotlib.pyplot as plt\n",
    "import scipy.signal as sig\n",
    "\n",
    "# enter the continuous time transfer function and create a continuous time lti system\n",
    "num = [10]\n",
    "den = [1, 10]\n",
    "H_s = sig.lti(num, den)\n",
    "\n",
    "# you must specify a sample period\n",
    "dt = 0.05\n",
    "\n",
    "# sometimes you will get a badly conditioned coefficients warning from Scipy\n",
    "# its just a warning not an error\n",
    "H_z_fe = H_s.to_discrete(dt=dt, method='euler')\n",
    "print('Forward Euler\\n', H_z_fe)\n",
    "H_z_be = H_s.to_discrete(dt=dt, method='backward_diff')\n",
    "print('Backward Euler\\n', H_z_be)\n",
    "H_z_b = H_s.to_discrete(dt=dt, method='bilinear')\n",
    "print('Bilinear\\n', H_z_b)"
   ]
  },
  {
   "cell_type": "markdown",
   "metadata": {},
   "source": [
    "## 4.4.4 Finding a discrete time output signal by hand"
   ]
  },
  {
   "cell_type": "markdown",
   "metadata": {},
   "source": [
    "$$H(z)\\equiv\\frac{y(z)}{x(z)}\\Rightarrow y(z)=H(z)x(z)$$\n",
    "  \n",
    "To find an output signal using the discrete time transfer function,  \n",
    "we must find the z-transform of an input signal  \n",
    "For our example input, let's choose a step function with a magnitude of 5, rather than the unit step  \n",
    "The Scipy method, step(), only finds the solution for a unit step  \n",
    "  \n",
    "$$x[k]=[5, 5, 5, \\cdots]$$  \n",
    "this transforms to  \n",
    "  \n",
    "$$x(z)=\\frac{5z}{z-1}$$  \n",
    "to find an output, we need a transfer function  \n",
    "we will choose the bilinear transfer function we found in the previous example  \n",
    "  \n",
    "$$H(z)=\\frac{0.2z+0.2}{z-0.6}$$\n",
    "from the transfer function  \n",
    "  \n",
    "$$y(z)=H(z)x(z)=\\left(\\frac{0.2z+0.2}{z-0.6}\\right)\\left(\\frac{5z}{z-1}\\right)$$  \n",
    "  \n",
    "$$y(z)=\\frac{z^2+z}{(z-0.6)(z-1)}=\\frac{z^2+z}{z^2-1.6z+0.6}$$  \n",
    "to transform this signal back to the time (or indexed) domain we just look it up in the z-transform table  \n",
    "unfortunately, this function is not in our table  \n",
    "  \n",
    "we need to perform partial fraction expansion  \n",
    "but before we do, we need to divide the output signal, $y(z)$, by $z$  \n",
    "  \n",
    "> **always divide by $z$ before performing partial fraction expansion**  \n",
    "  \n",
    "write the output signal in its factored form and find the residues  \n",
    "  \n",
    "$$\\frac{y(z)}{z}=\\frac{z+1}{z^2-1.6z+0.6}=\\frac{R_1}{z-0.6}+\\frac{R_2}{z-1}$$  \n",
    "as with continuous time systems, there are many ways to find the residues,  \n",
    "but we will use Scipy  \n",
    "[Residues](https://docs.scipy.org/doc/scipy/reference/generated/scipy.signal.residue.html#scipy.signal.residue)"
   ]
  },
  {
   "cell_type": "code",
   "execution_count": 5,
   "metadata": {},
   "outputs": [
    {
     "name": "stdout",
     "output_type": "stream",
     "text": [
      "residues = [-4.  5.]\n",
      "poles = [0.6 1. ]\n",
      "k= []\n"
     ]
    }
   ],
   "source": [
    "num = [1, 1]\n",
    "den = [1, -1.6, 0.6]\n",
    "\n",
    "r, p, k = sig.residue(num, den)\n",
    "print('residues =', r)\n",
    "print('poles =', p)\n",
    "print('k=', k)"
   ]
  },
  {
   "cell_type": "markdown",
   "metadata": {},
   "source": [
    "After we multiply $z$ back to the other side, we see the output signal becomes  \n",
    "  \n",
    "$$y(z)=\\frac{-4z}{z-0.6}+\\frac{5z}{z-1}$$  \n",
    "Now we can transform this back to the time (or indexed) domain simply by looking up the terms in the z-transform table  \n",
    "  \n",
    "$$y[k]=-4(0.6)^k+5u[k]$$  \n",
    "If we want to convert this to an exponential, we will have to consider the sampling rate  \n",
    "use  \n",
    "  \n",
    "$$e^{-\\sigma T}=0.6\\Rightarrow\\sigma=10.2$$  \n",
    "such that  \n",
    "  \n",
    "$$y[kT]=5-4e^{-10.2kT}\\quad or\\quad y(t)=5-4e^{-10.2t}\\quad for\\;t\\geq0$$  \n",
    "We know the continuous time system we modelled had a natural frequency of  10[Np/s],  \n",
    "but through the bilinear approximation, we see a natural frequency of 10.2[Np/s]  \n",
    "  \n",
    "Also notice, because of the discrete time bilinear approximation, the system starts at a value of 1.0, rather than 0.0  \n",
    "if we used a smaller sample period, the approximation would get closer to the continuous time solution  "
   ]
  },
  {
   "cell_type": "markdown",
   "metadata": {},
   "source": [
    "## 4.4.5 Finding an output signal with Scipy"
   ]
  },
  {
   "cell_type": "markdown",
   "metadata": {},
   "source": [
    "The code cell below creates a dlti system for the output signal,  \n",
    "and plots it for the first 10 time samples using the impulse method  \n",
    "it then compares the result to the continuous time solution  "
   ]
  },
  {
   "cell_type": "code",
   "execution_count": 6,
   "metadata": {},
   "outputs": [
    {
     "data": {
      "image/png": "[encoded data removed]",
      "text/plain": [
       "<Figure size 432x288 with 1 Axes>"
      ]
     },
     "metadata": {
      "needs_background": "light"
     },
     "output_type": "display_data"
    }
   ],
   "source": [
    "# create the solution for the bilinear approximation to a magnitude 5 step\n",
    "t1 = np.arange(0, 0.5, 0.05) # space the points at the sampling period\n",
    "\n",
    "# y(z) = (z^2+z)/(z^2-1.6z+0.6)\n",
    "num = [1, 1, 0] # don't forget the zero\n",
    "den = [1, -1.6, 0.6]\n",
    "\n",
    "y_z = sig.dlti(num, den, dt=0.05)\n",
    "t1, y_kT = y_z.impulse(t=t1)\n",
    "\n",
    "# create the solution for the continuous solution to a magnitude 5 step\n",
    "t2 = np.arange(0, 0.5, 0.001) # use more points for the continuous solution\n",
    "\n",
    "# y(s) = 50/(s^2+10s)\n",
    "num = [50]\n",
    "den = [1, 10, 0]\n",
    "\n",
    "y_s = sig.lti(num, den)\n",
    "t2, y_t = y_s.impulse(T=t2)\n",
    "\n",
    "plt.plot(t2, y_t)\n",
    "plt.scatter(t1, y_kT)\n",
    "plt.xlabel('time, t [s]')\n",
    "plt.ylabel('output')\n",
    "plt.ylim([-1,6])\n",
    "plt.legend(['continuous', 'bilinear'], loc='lower right')\n",
    "plt.title('A magnitude of 5 step response\\nbilinear approximation versus continuous solution')\n",
    "plt.grid()"
   ]
  }
 ],
 "metadata": {
  "kernelspec": {
   "display_name": "Python 3",
   "language": "python",
   "name": "python3"
  },
  "language_info": {
   "codemirror_mode": {
    "name": "ipython",
    "version": 3
   },
   "file_extension": ".py",
   "mimetype": "text/x-python",
   "name": "python",
   "nbconvert_exporter": "python",
   "pygments_lexer": "ipython3",
   "version": "3.6.7"
  }
 },
 "nbformat": 4,
 "nbformat_minor": 4
}
