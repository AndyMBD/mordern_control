{
 "cells": [
  {
   "cell_type": "markdown",
   "metadata": {},
   "source": [
    "# Why do we need the Routh Array\n",
    "\n",
    "In [a previous notebook](Stability%20analysis.ipynb) we showed that we can calculate the roots of the denominator of a closed loop transfer function to determine stability regions as a function of $K_c$. However, it became clear that analytic calculation of the roots would only work for lower-order systems. \n",
    "\n",
    "Using numeric methods seemed to work OK, but involved trial-and-error.\n",
    "\n",
    "Numeric root finding algorithms are also problematic. Consider finding the roots of $(1 + s)^{10}$. We can see that they should all be -1. Let's see how well `numpy.roots` does in finding them."
   ]
  },
  {
   "cell_type": "code",
   "execution_count": 1,
   "metadata": {},
   "outputs": [],
   "source": [
    "import numpy"
   ]
  },
  {
   "cell_type": "code",
   "execution_count": 2,
   "metadata": {},
   "outputs": [
    {
     "data": {
      "text/plain": [
       "array([-1., -1.])"
      ]
     },
     "execution_count": 2,
     "metadata": {},
     "output_type": "execute_result"
    }
   ],
   "source": [
    "numpy.roots([1, 2, 1])"
   ]
  },
  {
   "cell_type": "code",
   "execution_count": 3,
   "metadata": {},
   "outputs": [],
   "source": [
    "polynomial = [1]\n",
    "term = [1, 1]"
   ]
  },
  {
   "cell_type": "code",
   "execution_count": 4,
   "metadata": {},
   "outputs": [],
   "source": [
    "for i in range(10):\n",
    "    polynomial = numpy.convolve(polynomial, term)"
   ]
  },
  {
   "cell_type": "code",
   "execution_count": 5,
   "metadata": {},
   "outputs": [
    {
     "data": {
      "text/plain": [
       "array([  1,  10,  45, 120, 210, 252, 210, 120,  45,  10,   1])"
      ]
     },
     "execution_count": 5,
     "metadata": {},
     "output_type": "execute_result"
    }
   ],
   "source": [
    "polynomial"
   ]
  },
  {
   "cell_type": "code",
   "execution_count": 6,
   "metadata": {},
   "outputs": [
    {
     "data": {
      "text/plain": [
       "array([-1.0486659 +0.01614412j, -1.0486659 -0.01614412j,\n",
       "       -1.02925286+0.04166079j, -1.02925286-0.04166079j,\n",
       "       -0.99899397+0.05030124j, -0.99899397-0.05030124j,\n",
       "       -0.9701264 +0.03974754j, -0.9701264 -0.03974754j,\n",
       "       -0.95296087+0.01496287j, -0.95296087-0.01496287j])"
      ]
     },
     "execution_count": 6,
     "metadata": {},
     "output_type": "execute_result"
    }
   ],
   "source": [
    "roots = numpy.roots(polynomial)\n",
    "roots"
   ]
  },
  {
   "cell_type": "markdown",
   "metadata": {},
   "source": [
    "We're making up to 5% error and reporting non-negligable imaginary components, when we know the roots are actually real. So it's not that easy to make a call about the nature of the roots of high order polynomials by calculating them numerically. And it's not just because the algorithm isn't good enough. Evaluating one of the roots gives zero to many decimals. The problem is that computers use finite representations of these numbers."
   ]
  },
  {
   "cell_type": "code",
   "execution_count": 7,
   "metadata": {},
   "outputs": [
    {
     "data": {
      "text/plain": [
       "(-1.0769163338864018e-13+6.760217385881617e-15j)"
      ]
     },
     "execution_count": 7,
     "metadata": {},
     "output_type": "execute_result"
    }
   ],
   "source": [
    "numpy.polyval(polynomial, roots[0])"
   ]
  },
  {
   "cell_type": "markdown",
   "metadata": {},
   "source": [
    "# A better way"
   ]
  },
  {
   "cell_type": "markdown",
   "metadata": {},
   "source": [
    "The [Routh-Hurwitz stabilbility criterion](https://en.wikipedia.org/wiki/Routh%E2%80%93Hurwitz_stability_criterion) provides an efficient check of stability for closed loop systems which avoids calculating the roots of a higher-order polynomial and is therefore less error prone if we have numeric coefficients and actually possible if we have symbolic coefficients (recall we cannot calculate the roots analytically for orders higher than 4)."
   ]
  },
  {
   "cell_type": "code",
   "execution_count": 8,
   "metadata": {},
   "outputs": [],
   "source": [
    "import sympy\n",
    "\n",
    "sympy.init_printing()"
   ]
  },
  {
   "cell_type": "code",
   "execution_count": 9,
   "metadata": {},
   "outputs": [],
   "source": [
    "s = sympy.Symbol('s')"
   ]
  },
  {
   "cell_type": "code",
   "execution_count": 10,
   "metadata": {},
   "outputs": [],
   "source": [
    "a_0, a_1, a_2, a_3, a_4 = sympy.symbols('a_0:5')\n",
    "p = a_0 + a_1*s**1 + a_2*s**2 + a_3*s**3 + a_4*s**4"
   ]
  },
  {
   "cell_type": "markdown",
   "metadata": {},
   "source": [
    "Note that we have to convert the expression above to a `Poly` object to recover all the coefficients."
   ]
  },
  {
   "cell_type": "code",
   "execution_count": 11,
   "metadata": {},
   "outputs": [
    {
     "data": {
      "image/png": "[encoded data removed]",
      "text/latex": [
       "$$\\operatorname{Poly}{\\left( a_{4} s^{4} + a_{3} s^{3} + a_{2} s^{2} + a_{1} s + a_{0}, s, domain=\\mathbb{Z}\\left[a_{0}, a_{1}, a_{2}, a_{3}, a_{4}\\right] \\right)}$$"
      ],
      "text/plain": [
       "Poly(a_4*s**4 + a_3*s**3 + a_2*s**2 + a_1*s + a_0, s, domain='ZZ[a_0,a_1,a_2,a\n",
       "_3,a_4]')"
      ]
     },
     "execution_count": 11,
     "metadata": {},
     "output_type": "execute_result"
    }
   ],
   "source": [
    "p = sympy.Poly(p, s)\n",
    "p"
   ]
  },
  {
   "cell_type": "markdown",
   "metadata": {},
   "source": [
    "This function constructs the Routh array as given in Seborg."
   ]
  },
  {
   "cell_type": "code",
   "execution_count": 12,
   "metadata": {},
   "outputs": [],
   "source": [
    "from tbcontrol.symbolic import routh"
   ]
  },
  {
   "cell_type": "code",
   "execution_count": 13,
   "metadata": {},
   "outputs": [
    {
     "name": "stdout",
     "output_type": "stream",
     "text": [
      "Help on function routh in module tbcontrol.symbolic:\n",
      "\n",
      "routh(p)\n",
      "    Construct the Routh-Hurwitz array given a polynomial in s\n",
      "    \n",
      "    Input: p - a sympy.Poly object\n",
      "    Output: The Routh-Hurwitz array as a sympy.Matrix object\n",
      "\n"
     ]
    }
   ],
   "source": [
    "help(routh)"
   ]
  },
  {
   "cell_type": "code",
   "execution_count": 14,
   "metadata": {},
   "outputs": [
    {
     "data": {
      "text/latex": [
       "$$\\left[\\begin{matrix}a_{4} & a_{2} & a_{0}\\\\a_{3} & a_{1} & 0\\\\- \\frac{a_{1} a_{4}}{a_{3}} + a_{2} & a_{0} & 0\\\\\\frac{a_{0} a_{3}^{2} + a_{1} \\left(a_{1} a_{4} - a_{2} a_{3}\\right)}{a_{1} a_{4} - a_{2} a_{3}} & 0 & 0\\\\a_{0} & 0 & 0\\end{matrix}\\right]$$"
      ],
      "text/plain": [
       "⎡            a₄               a₂  a₀⎤\n",
       "⎢                                   ⎥\n",
       "⎢            a₃               a₁  0 ⎥\n",
       "⎢                                   ⎥\n",
       "⎢         a₁⋅a₄                     ⎥\n",
       "⎢       - ───── + a₂          a₀  0 ⎥\n",
       "⎢           a₃                      ⎥\n",
       "⎢                                   ⎥\n",
       "⎢     2                             ⎥\n",
       "⎢a₀⋅a₃  + a₁⋅(a₁⋅a₄ - a₂⋅a₃)        ⎥\n",
       "⎢───────────────────────────  0   0 ⎥\n",
       "⎢       a₁⋅a₄ - a₂⋅a₃               ⎥\n",
       "⎢                                   ⎥\n",
       "⎣            a₀               0   0 ⎦"
      ]
     },
     "execution_count": 14,
     "metadata": {},
     "output_type": "execute_result"
    }
   ],
   "source": [
    "routh(p)"
   ]
  },
  {
   "cell_type": "markdown",
   "metadata": {},
   "source": [
    "Let's try this on example 10.1"
   ]
  },
  {
   "cell_type": "code",
   "execution_count": 15,
   "metadata": {},
   "outputs": [],
   "source": [
    "K_c = sympy.Symbol('K_c')"
   ]
  },
  {
   "cell_type": "code",
   "execution_count": 16,
   "metadata": {},
   "outputs": [],
   "source": [
    "ce = 10*s**3 + 17*s**2 + 8*s + 1 + K_c"
   ]
  },
  {
   "cell_type": "code",
   "execution_count": 17,
   "metadata": {},
   "outputs": [
    {
     "data": {
      "text/latex": [
       "$$\\left[\\begin{matrix}10 & 8\\\\17 & K_{c} + 1\\\\- \\frac{10 K_{c}}{17} + \\frac{126}{17} & 0\\\\K_{c} + 1 & 0\\end{matrix}\\right]$$"
      ],
      "text/plain": [
       "⎡      10           8   ⎤\n",
       "⎢                       ⎥\n",
       "⎢      17        K_c + 1⎥\n",
       "⎢                       ⎥\n",
       "⎢  10⋅K_c   126         ⎥\n",
       "⎢- ────── + ───     0   ⎥\n",
       "⎢    17      17         ⎥\n",
       "⎢                       ⎥\n",
       "⎣   K_c + 1         0   ⎦"
      ]
     },
     "execution_count": 17,
     "metadata": {},
     "output_type": "execute_result"
    }
   ],
   "source": [
    "A = routh(sympy.Poly(ce, s))\n",
    "A"
   ]
  },
  {
   "cell_type": "markdown",
   "metadata": {},
   "source": [
    "For stability, the left hand column must have entries with all the same signs:"
   ]
  },
  {
   "cell_type": "code",
   "execution_count": 18,
   "metadata": {},
   "outputs": [
    {
     "data": {
      "image/png": "[encoded data removed]",
      "text/latex": [
       "$$-1 < K_{c} \\wedge K_{c} < \\frac{63}{5}$$"
      ],
      "text/plain": [
       "-1 < K_c ∧ K_c < 63/5"
      ]
     },
     "execution_count": 18,
     "metadata": {},
     "output_type": "execute_result"
    }
   ],
   "source": [
    "sympy.solve([e > 0 for e in A[:, 0]], K_c)"
   ]
  }
 ],
 "metadata": {
  "anaconda-cloud": {},
  "kernelspec": {
   "display_name": "Python 3",
   "language": "python",
   "name": "python3"
  },
  "language_info": {
   "codemirror_mode": {
    "name": "ipython",
    "version": 3
   },
   "file_extension": ".py",
   "mimetype": "text/x-python",
   "name": "python",
   "nbconvert_exporter": "python",
   "pygments_lexer": "ipython3",
   "version": "3.7.1"
  }
 },
 "nbformat": 4,
 "nbformat_minor": 1
}
