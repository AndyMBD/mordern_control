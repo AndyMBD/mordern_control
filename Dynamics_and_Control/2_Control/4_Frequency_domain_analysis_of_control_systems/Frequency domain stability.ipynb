{
 "cells": [
  {
   "cell_type": "markdown",
   "metadata": {},
   "source": [
    "# Stability in the frequency domain\n",
    "\n",
    "The frequency domain allows us to find the stability of closed loop systems using only open loop transfer functions and simple operations.\n",
    "\n",
    "This material is also covered in [this video](https://youtu.be/3eYU8qIkp64). The GeoGebra sheet is available [here](https://ggbm.at/cV8QmwXZ)."
   ]
  },
  {
   "cell_type": "code",
   "execution_count": 1,
   "metadata": {},
   "outputs": [],
   "source": [
    "import numpy\n",
    "from matplotlib import pyplot as plt\n",
    "%matplotlib inline"
   ]
  },
  {
   "cell_type": "markdown",
   "metadata": {},
   "source": [
    "Locating poles and zeros of a complex function\n",
    "-------------------------------\n",
    "\n",
    "Let's construct a complex transfer function by specifying the poles, zeros and gain separately."
   ]
  },
  {
   "cell_type": "code",
   "execution_count": 2,
   "metadata": {},
   "outputs": [],
   "source": [
    "zeros = [1]\n",
    "poles = [-1 + 1j, -1 - 1j]\n",
    "gain = 1"
   ]
  },
  {
   "cell_type": "code",
   "execution_count": 3,
   "metadata": {},
   "outputs": [],
   "source": [
    "from numpy.polynomial.polynomial import polyvalfromroots"
   ]
  },
  {
   "cell_type": "code",
   "execution_count": 4,
   "metadata": {},
   "outputs": [],
   "source": [
    "def G(s):\n",
    "    return gain*polyvalfromroots(s, zeros)/polyvalfromroots(s, poles)"
   ]
  },
  {
   "cell_type": "markdown",
   "metadata": {},
   "source": [
    "It will be useful for us to be able to plot a complex curve easily"
   ]
  },
  {
   "cell_type": "code",
   "execution_count": 5,
   "metadata": {},
   "outputs": [],
   "source": [
    "def plotcomplex(curve, color='blue', marker=None):\n",
    "    plt.plot(numpy.real(curve), numpy.imag(curve), color=color, marker=marker)"
   ]
  },
  {
   "cell_type": "code",
   "execution_count": 6,
   "metadata": {},
   "outputs": [],
   "source": [
    "def plotpz():\n",
    "    for p in poles:\n",
    "        plotcomplex(p, color='red', marker='x')\n",
    "    for z in zeros:\n",
    "        plotcomplex(z, color='red', marker='o')"
   ]
  },
  {
   "cell_type": "markdown",
   "metadata": {},
   "source": [
    "This function will change the axes to be a cross through the origin and have an equal aspect ratio (so that a circle appears as a circle)"
   ]
  },
  {
   "cell_type": "code",
   "execution_count": 7,
   "metadata": {},
   "outputs": [],
   "source": [
    "from tbcontrol.plotting import cross_axis"
   ]
  },
  {
   "cell_type": "markdown",
   "metadata": {},
   "source": [
    "Let's construct a circular contour and see how the image of the contour moves around as the contour moves around. The image is $G(s)$ as $s$ goes through a countour"
   ]
  },
  {
   "cell_type": "code",
   "execution_count": 8,
   "metadata": {},
   "outputs": [],
   "source": [
    "from ipywidgets import interact"
   ]
  },
  {
   "cell_type": "code",
   "execution_count": 9,
   "metadata": {},
   "outputs": [],
   "source": [
    "def plotsituation(contour):\n",
    "    plotcomplex(contour)\n",
    "    plotcomplex(G(contour), color='red')\n",
    "    plotpz()\n",
    "    cross_axis()"
   ]
  },
  {
   "cell_type": "code",
   "execution_count": 10,
   "metadata": {},
   "outputs": [],
   "source": [
    "theta = numpy.linspace(0, 2*numpy.pi, 1000)"
   ]
  },
  {
   "cell_type": "code",
   "execution_count": 11,
   "metadata": {},
   "outputs": [],
   "source": [
    "def argumentprinciple(centerreal=(-2., 2.), centerimag=(-2., 2.), radius=(0.5, 3)):\n",
    "    contour = radius*numpy.exp(1j*theta) + centerreal + 1j*centerimag\n",
    "    plotsituation(contour)    "
   ]
  },
  {
   "cell_type": "code",
   "execution_count": null,
   "metadata": {},
   "outputs": [],
   "source": [
    "interact(argumentprinciple)"
   ]
  },
  {
   "cell_type": "markdown",
   "metadata": {},
   "source": [
    "You should be able to verify the **Cauchy argument principle** using the interaction above:\n",
    "\n",
    "As $s$ describes a simple contour enclosing $N_p$ poles and $N_z$ zeros, the image $G(s)$ encircles the origin $w = N_z - N_p$ times. $w$ is the [winding number](https://en.wikipedia.org/wiki/Winding_number)."
   ]
  },
  {
   "cell_type": "markdown",
   "metadata": {},
   "source": [
    "Closed loop stability\n",
    "---------------------\n",
    "Normally we will be looking at transfer functions of the form\n",
    "\n",
    "$$\\frac{GK}{1 + GK}$$\n",
    "\n",
    "So we will want to check if the denominator of the above $(1 + GK)$ has roots in the RHP. To do this we can construct a special contour called the Nyquist D contour which encloses the whole of the RHP. It starts at the origin, then goes up to infinity, circles around at infinite distance from the origin in a clockwise direction, and then comes back up the imaginary axis.  For most functions, the part at infinity just maps $1 + GK$ to 1 as $GK$ goes to zero as s goes to infinity.\n",
    "\n",
    " "
   ]
  },
  {
   "cell_type": "code",
   "execution_count": null,
   "metadata": {},
   "outputs": [],
   "source": [
    "omega = numpy.logspace(-2, 2, 1000)\n",
    "Dcontour = numpy.concatenate([1j*omega, -1j*omega[::-1]]) # We're ignoring the infinite arc"
   ]
  },
  {
   "cell_type": "markdown",
   "metadata": {},
   "source": [
    "Let's assume that $K=1$ and check if our system will be closed loop stable"
   ]
  },
  {
   "cell_type": "code",
   "execution_count": null,
   "metadata": {},
   "outputs": [],
   "source": [
    "K = 1"
   ]
  },
  {
   "cell_type": "code",
   "execution_count": null,
   "metadata": {},
   "outputs": [],
   "source": [
    "plotcomplex(K*G(Dcontour) + 1)\n",
    "cross_axis(size=2)"
   ]
  },
  {
   "cell_type": "markdown",
   "metadata": {},
   "source": [
    "Counting encirclements of the origin of $1 + GK$ is the same as counting encirclements of $-1$ by $GK$:"
   ]
  },
  {
   "cell_type": "code",
   "execution_count": null,
   "metadata": {},
   "outputs": [],
   "source": [
    "def nyquistplot(K):\n",
    "    plotcomplex(K*G(Dcontour))\n",
    "    plotcomplex(-1, color='red', marker='o')\n",
    "    cross_axis(size=2)"
   ]
  },
  {
   "cell_type": "code",
   "execution_count": null,
   "metadata": {},
   "outputs": [],
   "source": [
    "nyquistplot(K=1)"
   ]
  },
  {
   "cell_type": "markdown",
   "metadata": {},
   "source": [
    "This enables us to reason easily about the effect of the controller gain on stability:"
   ]
  },
  {
   "cell_type": "code",
   "execution_count": null,
   "metadata": {},
   "outputs": [],
   "source": [
    "interact(nyquistplot, K=(0.5, 5.))"
   ]
  },
  {
   "cell_type": "markdown",
   "metadata": {},
   "source": [
    "Nyquist stability criterion\n",
    "---------------------------\n",
    "\n",
    "Let $N_P$ be the number of poles of KG(s) encircled by the D contour and $N_Z$ be the number of zeros of $1+KG(s)$ encircled by the D contour. $N_Z$ is the number of poles of the closed loop system in the right half plane. The resultant image shall encircle (clock-wise) the point $(-1+j0)$ $w$ times such that $w = N_Z - N_P$.\n",
    "\n",
    "For a stable $G$ this boils down to spotting when the Nyquist plot encircles the -1 point."
   ]
  },
  {
   "cell_type": "markdown",
   "metadata": {},
   "source": [
    "Bode stability criterion\n",
    "------------------------\n",
    "\n",
    "Nyquist plots are hard to draw by hand, though, so we often use the Bode stability criterion instead. This works by noticing that, in order for the Nyquist graph to encircle the -1 point, the phase angle must reach -180 ° and the magnitude must be bigger than 1. We can draw a Bode diagram and a Nyquist diagram next to each other to see the effect of changing gains."
   ]
  },
  {
   "cell_type": "code",
   "execution_count": null,
   "metadata": {},
   "outputs": [],
   "source": [
    "def bodeplot(K):\n",
    "    fig = plt.figure(figsize=(10,5))\n",
    "    \n",
    "    ax_gain = plt.subplot2grid((2, 2), (0, 0))\n",
    "    ax_phase = plt.subplot2grid((2, 2), (1, 0))\n",
    "    ax_complex = plt.subplot2grid((2, 2), (0, 1), rowspan=2)\n",
    "    \n",
    "    freqresp = K*G(1j*omega)\n",
    "    \n",
    "    ax_gain.loglog(omega, numpy.abs(freqresp))\n",
    "    ax_gain.axhline(1, color='orange')\n",
    "    ax_gain.set_ylim([0.1, 10])\n",
    "    ax_gain.set_ylabel('|G|')\n",
    "\n",
    "    ax_phase.semilogx(omega, numpy.unwrap(numpy.angle(freqresp)) - numpy.angle(freqresp[0])) # We know the angle should start at 0\n",
    "    ax_phase.axhline(-numpy.pi, color='green')\n",
    "    ax_phase.set_ylabel('∠G / rad')\n",
    "    ax_phase.set_xlabel('ω / (rad/s)')\n",
    "    \n",
    "    plt.sca(ax_complex)\n",
    "    nyquistplot(K)\n",
    "    \n",
    "    circle = numpy.exp(-1j*numpy.linspace(0, numpy.pi*2))\n",
    "    ax_complex.plot(circle.real, circle.imag, color='orange')\n",
    "    ax_complex.plot([-2, 0], [0, 0], color='green', linewidth=4, alpha=1, zorder=-1)"
   ]
  },
  {
   "cell_type": "code",
   "execution_count": null,
   "metadata": {},
   "outputs": [],
   "source": [
    "interact(bodeplot, K=(0.5, 5.))"
   ]
  },
  {
   "cell_type": "code",
   "execution_count": null,
   "metadata": {},
   "outputs": [],
   "source": []
  }
 ],
 "metadata": {
  "anaconda-cloud": {},
  "kernelspec": {
   "display_name": "Python 3",
   "language": "python",
   "name": "python3"
  },
  "language_info": {
   "codemirror_mode": {
    "name": "ipython",
    "version": 3
   },
   "file_extension": ".py",
   "mimetype": "text/x-python",
   "name": "python",
   "nbconvert_exporter": "python",
   "pygments_lexer": "ipython3",
   "version": "3.7.6"
  }
 },
 "nbformat": 4,
 "nbformat_minor": 1
}
