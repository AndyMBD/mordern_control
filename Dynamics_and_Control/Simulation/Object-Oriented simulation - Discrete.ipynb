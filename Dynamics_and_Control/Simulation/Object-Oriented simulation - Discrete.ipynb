{
 "cells": [
  {
   "cell_type": "markdown",
   "metadata": {},
   "source": [
    "A discrete controller class\n",
    "---------------------------\n",
    "\n",
    "Let's extend the example from our previous object-oriented simulation notebook to discrete controllers."
   ]
  },
  {
   "cell_type": "code",
   "execution_count": 1,
   "metadata": {
    "collapsed": true
   },
   "outputs": [],
   "source": [
    "import numpy\n",
    "import scipy.signal\n",
    "import matplotlib.pyplot as plt\n",
    "%matplotlib inline"
   ]
  },
  {
   "cell_type": "markdown",
   "metadata": {},
   "source": [
    "We start by defining a `class` for the tank system again:"
   ]
  },
  {
   "cell_type": "code",
   "execution_count": 2,
   "metadata": {
    "collapsed": false
   },
   "outputs": [],
   "source": [
    "class TankSystem:\n",
    "    def __init__(self, A, alpha, K, V, Fi):\n",
    "        \"\"\" This special function gets called when an object of this class is created\"\"\"\n",
    "        self.A = A\n",
    "        self.alpha = alpha\n",
    "        self.K = K\n",
    "        self.Fi = Fi\n",
    "        self.change_state(V)\n",
    "    \n",
    "    def f(self, x):\n",
    "        return self.alpha**(x - 1)\n",
    "    \n",
    "    def change_input(self, x):\n",
    "        self.Fo = self.K*self.f(x)*numpy.sqrt(self.h)\n",
    "        \n",
    "    def change_state(self, V):\n",
    "        self.state = self.V = V\n",
    "        self.output = self.h = self.V/self.A\n",
    "\n",
    "    def derivative(self, x):\n",
    "        self.change_input(x)\n",
    "        dVdt = self.Fi - self.Fo\n",
    "        return dVdt"
   ]
  },
  {
   "cell_type": "markdown",
   "metadata": {},
   "source": [
    "But this time we'll do a discrete controller:"
   ]
  },
  {
   "cell_type": "code",
   "execution_count": 3,
   "metadata": {
    "collapsed": true
   },
   "outputs": [],
   "source": [
    "class DiscreteController:\n",
    "    def __init__(self, DeltaT, Kc, tau_i, bias):\n",
    "        self.DeltaT = DeltaT\n",
    "        self.Kc = Kc\n",
    "        self.tau_i = tau_i\n",
    "        self.next_sample_time = 0\n",
    "        self.error_sum = 0\n",
    "        self.bias = self.output = bias\n",
    "        \n",
    "    def update(self, u, t):\n",
    "        if t >= self.next_sample_time:\n",
    "            self.error_sum += u\n",
    "            self.output = self.Kc*(u + 1/self.tau_i*self.error_sum)\n",
    "            self.next_sample_time += self.DeltaT"
   ]
  },
  {
   "cell_type": "markdown",
   "metadata": {},
   "source": [
    "I've changed the way we update the controller here to accomodate the fact that discrete controllers don't have states to integrate, so we don't need the `derivative` method. The way I've built this class requires that the `update` method be called with strictly ascending times in `t`. Note that this class corresponds very closely to a physical box. All the sampling is taking place inside the class and it is designed to be updated in a \"normal\" Euler integration loop. See how using classes makes the calculations which are about a particular physical object (the controller) stay together in the code rather than being spread out in lots of places?"
   ]
  },
  {
   "cell_type": "markdown",
   "metadata": {},
   "source": [
    "Of course, we still have to test that this works:"
   ]
  },
  {
   "cell_type": "code",
   "execution_count": 4,
   "metadata": {
    "collapsed": false
   },
   "outputs": [],
   "source": [
    "ts = numpy.linspace(0, 100, 1000)\n",
    "dt = ts[1]"
   ]
  },
  {
   "cell_type": "code",
   "execution_count": 5,
   "metadata": {
    "collapsed": true
   },
   "outputs": [],
   "source": [
    "sp = 1.3"
   ]
  },
  {
   "cell_type": "markdown",
   "metadata": {},
   "source": [
    "I've changed this function to use the new `update` methods, but otherwise it is similar to the previous one."
   ]
  },
  {
   "cell_type": "code",
   "execution_count": 6,
   "metadata": {
    "collapsed": false
   },
   "outputs": [],
   "source": [
    "def control_simulation_discrete(system, controller):\n",
    "    outputs = []\n",
    "    for t in ts:\n",
    "        system.change_input(controller.output)\n",
    "\n",
    "        e = sp - system.output\n",
    "\n",
    "        controller.update(e, t)\n",
    "\n",
    "        system.change_state(system.state + system.derivative(controller.output)*dt)\n",
    "\n",
    "        outputs.append(system.output)\n",
    "    return outputs"
   ]
  },
  {
   "cell_type": "code",
   "execution_count": 7,
   "metadata": {
    "collapsed": false
   },
   "outputs": [],
   "source": [
    "system = TankSystem(A=2, alpha=20, K=2, V=2, Fi=1)\n",
    "controller = DiscreteController(DeltaT=1, Kc=-1, tau_i=5, bias=0.7)"
   ]
  },
  {
   "cell_type": "code",
   "execution_count": 8,
   "metadata": {
    "collapsed": false
   },
   "outputs": [],
   "source": [
    "outputs = control_simulation_discrete(system, controller)"
   ]
  },
  {
   "cell_type": "code",
   "execution_count": 9,
   "metadata": {
    "collapsed": false
   },
   "outputs": [
    {
     "data": {
      "text/plain": [
       "[<matplotlib.lines.Line2D at 0x10cf877f0>]"
      ]
     },
     "execution_count": 9,
     "metadata": {},
     "output_type": "execute_result"
    },
    {
     "data": {
      "image/png": "[encoded data removed]",
      "text/plain": [
       "<matplotlib.figure.Figure at 0x10b2fdd30>"
      ]
     },
     "metadata": {},
     "output_type": "display_data"
    }
   ],
   "source": [
    "plt.plot(ts, outputs)"
   ]
  },
  {
   "cell_type": "markdown",
   "metadata": {},
   "source": [
    "We can still simulate different situations easily."
   ]
  },
  {
   "cell_type": "code",
   "execution_count": 10,
   "metadata": {
    "collapsed": false
   },
   "outputs": [
    {
     "data": {
      "image/png": "[encoded data removed]",
      "text/plain": [
       "<matplotlib.figure.Figure at 0x10cf514e0>"
      ]
     },
     "metadata": {},
     "output_type": "display_data"
    }
   ],
   "source": [
    "outputs = control_simulation_discrete(system=TankSystem(A=2, alpha=10, K=2, V=2, Fi=1), \n",
    "                                      controller=DiscreteController(DeltaT=1, Kc=-0.5, tau_i=5, bias=0.5))\n",
    "plt.plot(ts, outputs);"
   ]
  },
  {
   "cell_type": "code",
   "execution_count": null,
   "metadata": {
    "collapsed": true
   },
   "outputs": [],
   "source": []
  }
 ],
 "metadata": {
  "anaconda-cloud": {},
  "kernelspec": {
   "display_name": "Python [default]",
   "language": "python",
   "name": "python3"
  },
  "language_info": {
   "codemirror_mode": {
    "name": "ipython",
    "version": 3
   },
   "file_extension": ".py",
   "mimetype": "text/x-python",
   "name": "python",
   "nbconvert_exporter": "python",
   "pygments_lexer": "ipython3",
   "version": "3.5.2"
  }
 },
 "nbformat": 4,
 "nbformat_minor": 0
}
