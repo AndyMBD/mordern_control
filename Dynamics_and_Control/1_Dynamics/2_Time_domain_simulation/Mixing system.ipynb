{
 "cells": [
  {
   "cell_type": "markdown",
   "metadata": {},
   "source": [
    "## Mixing system\n",
    "\n",
    "Problem statement: The figure below shows a set of well-mixed mixing tanks. All the streams contain a binary mixture of substance X and substance Y. Steams A, B and C are fed into the system from an upstream process.\n",
    "\n",
    "Tanks 1 and 2 are drained by the force of gravity (assume flow is proportional to level), while the pump attached to the tank 3 output is sized such that the level in tank 3 does not affect the flowrate through the pump.\n",
    "\n",
    "You may assume that the valves in lines G, H, J and L can manipulate those flows directly.\n",
    "\n",
    "The density of substance X is ρX = 1000 kg/m3 and the density of substance Y is ρY = 800 kg/m3."
   ]
  },
  {
   "cell_type": "markdown",
   "metadata": {},
   "source": [
    "<img width=\"50%\" src=\"../../assets/mixing_tanks.png\">"
   ]
  },
  {
   "cell_type": "markdown",
   "metadata": {},
   "source": [
    "## Steady state calculation"
   ]
  },
  {
   "cell_type": "markdown",
   "metadata": {},
   "source": [
    "Find the steady state flow rates and compositions of all the streams given that\n",
    "3\n",
    "* Stream A is 1m3/h of substance X\n",
    "* Streams B and C are both 1m3/h of substance Y.\n",
    "* H=G,H=2J,J=2L."
   ]
  },
  {
   "cell_type": "markdown",
   "metadata": {},
   "source": [
    "### Flow rates"
   ]
  },
  {
   "cell_type": "code",
   "execution_count": 1,
   "metadata": {},
   "outputs": [],
   "source": [
    "ρx = 1000  # kg/m3\n",
    "ρy = 800  # kg/m3\n",
    "\n",
    "A = 1*ρx\n",
    "B = 1*ρy\n",
    "C = 1*ρy"
   ]
  },
  {
   "cell_type": "code",
   "execution_count": 2,
   "metadata": {},
   "outputs": [],
   "source": [
    "G = A + B + C"
   ]
  },
  {
   "cell_type": "code",
   "execution_count": 3,
   "metadata": {},
   "outputs": [],
   "source": [
    "H = G\n",
    "J = H/2\n",
    "L = J/2"
   ]
  },
  {
   "cell_type": "code",
   "execution_count": 4,
   "metadata": {},
   "outputs": [],
   "source": [
    "F = G + H"
   ]
  },
  {
   "cell_type": "code",
   "execution_count": 5,
   "metadata": {},
   "outputs": [],
   "source": [
    "D = A + L"
   ]
  },
  {
   "cell_type": "code",
   "execution_count": 6,
   "metadata": {},
   "outputs": [],
   "source": [
    "K = J - L\n",
    "I = H - J"
   ]
  },
  {
   "cell_type": "code",
   "execution_count": 7,
   "metadata": {},
   "outputs": [],
   "source": [
    "E = B + D + K"
   ]
  },
  {
   "cell_type": "code",
   "execution_count": 8,
   "metadata": {},
   "outputs": [
    {
     "data": {
      "text/plain": [
       "(1000,\n",
       " 800,\n",
       " 800,\n",
       " 1650.0,\n",
       " 3100.0,\n",
       " 5200,\n",
       " 2600,\n",
       " 2600,\n",
       " 1300.0,\n",
       " 1300.0,\n",
       " 650.0,\n",
       " 650.0)"
      ]
     },
     "execution_count": 8,
     "metadata": {},
     "output_type": "execute_result"
    }
   ],
   "source": [
    "A, B, C, D, E, F, G, H, I, J, K, L"
   ]
  },
  {
   "cell_type": "markdown",
   "metadata": {},
   "source": [
    "### Compositions"
   ]
  },
  {
   "cell_type": "code",
   "execution_count": 9,
   "metadata": {},
   "outputs": [],
   "source": [
    "xA = 1\n",
    "xB = 0\n",
    "xC = 0"
   ]
  },
  {
   "cell_type": "code",
   "execution_count": 10,
   "metadata": {},
   "outputs": [],
   "source": [
    "xG = (xA*A + xB*B + xC*C)/G"
   ]
  },
  {
   "cell_type": "code",
   "execution_count": 11,
   "metadata": {},
   "outputs": [],
   "source": [
    "x3 = xF = xH = xI = xJ = xK = xL = xG"
   ]
  },
  {
   "cell_type": "code",
   "execution_count": 12,
   "metadata": {},
   "outputs": [],
   "source": [
    "x1 = xD = (xA*A + xL*L)/D"
   ]
  },
  {
   "cell_type": "code",
   "execution_count": 13,
   "metadata": {},
   "outputs": [],
   "source": [
    "x2 = xE = (xB*B + xD*D + xK*K)/E"
   ]
  },
  {
   "cell_type": "markdown",
   "metadata": {},
   "source": [
    "## Design\n",
    "Assuming all three tanks are of constant cross-sectional area of 3m2, find out what the proportionality constants should be for tank 1 and 2 so that the steady state levels will be 1 m."
   ]
  },
  {
   "cell_type": "code",
   "execution_count": 14,
   "metadata": {},
   "outputs": [],
   "source": [
    "A1 = A2 = A3 = 3"
   ]
  },
  {
   "cell_type": "code",
   "execution_count": 15,
   "metadata": {},
   "outputs": [],
   "source": [
    "h1 = h2 = h3 = 1"
   ]
  },
  {
   "cell_type": "code",
   "execution_count": 16,
   "metadata": {},
   "outputs": [],
   "source": [
    "k1 = D/h1"
   ]
  },
  {
   "cell_type": "code",
   "execution_count": 17,
   "metadata": {},
   "outputs": [],
   "source": [
    "k2 = E/h2"
   ]
  },
  {
   "cell_type": "code",
   "execution_count": 18,
   "metadata": {},
   "outputs": [
    {
     "data": {
      "text/plain": [
       "(1650.0, 3100.0)"
      ]
     },
     "execution_count": 18,
     "metadata": {},
     "output_type": "execute_result"
    }
   ],
   "source": [
    "k1, k2"
   ]
  },
  {
   "cell_type": "markdown",
   "metadata": {},
   "source": [
    "## Dynamic simulation\n",
    "\n",
    "Now that you have all the parameters in your system, simulate the response of the system to a sudden increase in flow rate of A from 1 m3/h to 1.5 m3/h at time 0. You should start your simulation at steady state.\n",
    "\n",
    "Assume that the level in tank 3 is also 1 m at the initial conditions. Note that the steady state relationships between H, G, J and L will not hold over the whole simulation. Simply set them to their steady state values."
   ]
  },
  {
   "cell_type": "code",
   "execution_count": 19,
   "metadata": {},
   "outputs": [],
   "source": [
    "import scipy.integrate"
   ]
  },
  {
   "cell_type": "markdown",
   "metadata": {},
   "source": [
    "Our states will be the total masses and mass of X in each tank. Let's find the initial values at steady state first:"
   ]
  },
  {
   "cell_type": "markdown",
   "metadata": {},
   "source": [
    "Find volumes via tank geometry"
   ]
  },
  {
   "cell_type": "code",
   "execution_count": 20,
   "metadata": {},
   "outputs": [],
   "source": [
    "V1 = A1*h1\n",
    "V2 = A2*h2\n",
    "V3 = A3*h3"
   ]
  },
  {
   "cell_type": "markdown",
   "metadata": {},
   "source": [
    "Masses from volumes - assume ideal mixing"
   ]
  },
  {
   "cell_type": "code",
   "execution_count": 21,
   "metadata": {},
   "outputs": [],
   "source": [
    "M1 = V1/(x1/ρx + (1 - x1)/ρy)\n",
    "M2 = V2/(x2/ρx + (1 - x2)/ρy)\n",
    "M3 = V3/(x3/ρx + (1 - x3)/ρy)"
   ]
  },
  {
   "cell_type": "code",
   "execution_count": 22,
   "metadata": {},
   "outputs": [],
   "source": [
    "y0 = [M1, M2, M3, M1*x1, M2*x2, M3*x3]"
   ]
  },
  {
   "cell_type": "code",
   "execution_count": 23,
   "metadata": {},
   "outputs": [],
   "source": [
    "t = 0"
   ]
  },
  {
   "cell_type": "code",
   "execution_count": 24,
   "metadata": {},
   "outputs": [],
   "source": [
    "def dMdt(t, y):\n",
    "    M1, M2, M3, M1x1, M2x2, M3x3 = y\n",
    "\n",
    "    if t <= 0:\n",
    "        A = 1*ρx\n",
    "    else:\n",
    "        A = 1.5*ρx\n",
    "    \n",
    "    xD = x1 = M1x1/M1\n",
    "    xE = x2 = M2x2/M2\n",
    "    xF = x3 = M3x3/M3\n",
    "    \n",
    "    V1 = M1*(x1/ρx + (1 - x1)/ρy)\n",
    "    V2 = M2*(x2/ρx + (1 - x2)/ρy)\n",
    "    V3 = M3*(x3/ρx + (1 - x3)/ρy)\n",
    "\n",
    "    h1 = V1/A1\n",
    "    h2 = V2/A2\n",
    "    h3 = V3/A3\n",
    "\n",
    "    xH = xI = xJ = xK = xL = xG = x3\n",
    "    \n",
    "    D = k1*h1\n",
    "    E = k2*h2\n",
    "\n",
    "    dM1dt = A + L - D\n",
    "    dM2dt = B + D + K - E\n",
    "    dM3dt = C + E + I - F\n",
    "\n",
    "    dM1x1dt = xA*A + xL*L - xD*D\n",
    "    dM2x2dt = xB*B + xD*D + xK*K - xE*E\n",
    "    dM3x3dt = xC*C + xE*E + xI*I - xF*F\n",
    "\n",
    "    return dM1dt, dM2dt, dM3dt, dM1x1dt, dM2x2dt, dM3x3dt"
   ]
  },
  {
   "cell_type": "markdown",
   "metadata": {},
   "source": [
    "We expect t=0 to give zero derivatives"
   ]
  },
  {
   "cell_type": "code",
   "execution_count": 25,
   "metadata": {},
   "outputs": [
    {
     "data": {
      "text/plain": [
       "(0.0,\n",
       " 4.547473508864641e-13,\n",
       " 0.0,\n",
       " 0.0,\n",
       " 4.547473508864641e-13,\n",
       " -4.547473508864641e-13)"
      ]
     },
     "execution_count": 25,
     "metadata": {},
     "output_type": "execute_result"
    }
   ],
   "source": [
    "dMdt(0, y0)"
   ]
  },
  {
   "cell_type": "markdown",
   "metadata": {},
   "source": [
    "And for other times to give non-zero derivatives"
   ]
  },
  {
   "cell_type": "code",
   "execution_count": 26,
   "metadata": {},
   "outputs": [
    {
     "data": {
      "text/plain": [
       "(500.0,\n",
       " 4.547473508864641e-13,\n",
       " 0.0,\n",
       " 500.0,\n",
       " 4.547473508864641e-13,\n",
       " -4.547473508864641e-13)"
      ]
     },
     "execution_count": 26,
     "metadata": {},
     "output_type": "execute_result"
    }
   ],
   "source": [
    "dMdt(1, y0)"
   ]
  },
  {
   "cell_type": "code",
   "execution_count": 27,
   "metadata": {},
   "outputs": [],
   "source": [
    "sol = scipy.integrate.solve_ivp(dMdt, (0, 10), y0)"
   ]
  },
  {
   "cell_type": "code",
   "execution_count": 28,
   "metadata": {},
   "outputs": [
    {
     "data": {
      "text/plain": [
       "  message: 'The solver successfully reached the end of the integration interval.'\n",
       "     nfev: 68\n",
       "     njev: 0\n",
       "      nlu: 0\n",
       "      sol: None\n",
       "   status: 0\n",
       "  success: True\n",
       "        t: array([0.00000000e+00, 1.00000000e-04, 9.32930762e-04, 9.26223838e-03,\n",
       "       9.25553145e-02, 9.25486076e-01, 1.86268269e+00, 3.13373601e+00,\n",
       "       4.83441945e+00, 7.23515873e+00, 9.99326358e+00, 1.00000000e+01])\n",
       " t_events: None\n",
       "        y: array([[2828.57142857, 2828.61687016, 2829.03321934, 2833.18623756,\n",
       "        2873.68652849, 3191.18414035, 3411.4077485 , 3576.81492267,\n",
       "        3679.20042145, 3732.50482985, 3751.73742159, 3751.76206113],\n",
       "       [2657.14285714, 2657.14285827, 2657.14297442, 2657.1545728 ,\n",
       "        2658.2647728 , 2730.90792703, 2850.15605228, 2978.77726282,\n",
       "        3075.5278406 , 3130.61308859, 3150.4898384 , 3150.51308613],\n",
       "       [2600.        , 2600.        , 2600.00000004, 2600.00003725,\n",
       "        2600.0360844 , 2626.36069917, 2755.48727041, 3096.98554741,\n",
       "        3748.1911919 , 4840.17117488, 6180.11425868, 6183.43458116],\n",
       "       [2142.85714286, 2142.90258442, 2143.31893191, 2147.4717797 ,\n",
       "        2187.95586832, 2505.19417937, 2729.14975288, 2908.4244449 ,\n",
       "        3034.24936155, 3113.23792305, 3148.959073  , 3149.01344238],\n",
       "       [1285.71428571, 1285.71428686, 1285.71440471, 1285.72617038,\n",
       "        1286.84986914, 1359.78761856, 1480.91665298, 1618.72961343,\n",
       "        1733.52304584, 1810.12997441, 1844.51567419, 1844.56643364],\n",
       "       [1000.        , 1000.        , 1000.00000004, 1000.00004033,\n",
       "        1000.03821936, 1022.64243623, 1116.4204006 , 1327.1016063 ,\n",
       "        1689.48149947, 2263.4913374 , 2943.38602418, 2945.04374286]])"
      ]
     },
     "execution_count": 28,
     "metadata": {},
     "output_type": "execute_result"
    }
   ],
   "source": [
    "sol"
   ]
  },
  {
   "cell_type": "markdown",
   "metadata": {},
   "source": [
    "Plot the composition of stream G as well as the compositions and levels in all three tanks."
   ]
  },
  {
   "cell_type": "code",
   "execution_count": 29,
   "metadata": {},
   "outputs": [],
   "source": [
    "import matplotlib.pyplot as plt\n",
    "%matplotlib inline"
   ]
  },
  {
   "cell_type": "code",
   "execution_count": 30,
   "metadata": {},
   "outputs": [],
   "source": [
    "M1, M2, M3, M1x1, M2x2, M3x3 = sol.y"
   ]
  },
  {
   "cell_type": "code",
   "execution_count": 31,
   "metadata": {},
   "outputs": [],
   "source": [
    "x1 = M1x1/M1\n",
    "x2 = M2x2/M2\n",
    "x3 = M3x3/M3\n",
    "\n",
    "V1 = M1*(x1/ρx + (1 - x1)/ρy)\n",
    "V2 = M2*(x2/ρx + (1 - x2)/ρy)\n",
    "V3 = M3*(x3/ρx + (1 - x3)/ρy)\n",
    "\n",
    "h1 = V1/A1\n",
    "h2 = V2/A2\n",
    "h3 = V3/A3"
   ]
  },
  {
   "cell_type": "code",
   "execution_count": 32,
   "metadata": {},
   "outputs": [
    {
     "data": {
      "text/plain": [
       "<matplotlib.legend.Legend at 0x1519b93c50>"
      ]
     },
     "execution_count": 32,
     "metadata": {},
     "output_type": "execute_result"
    },
    {
     "data": {
      "image/png": "[encoded data removed]",
      "text/plain": [
       "<Figure size 432x288 with 1 Axes>"
      ]
     },
     "metadata": {
      "needs_background": "light"
     },
     "output_type": "display_data"
    }
   ],
   "source": [
    "plt.plot(sol.t, h1,\n",
    "         sol.t, h2, \n",
    "         sol.t, h3)\n",
    "plt.ylim(0, 2)\n",
    "plt.legend(['$h_1$', '$h_2$', '$h_3$'])"
   ]
  },
  {
   "cell_type": "code",
   "execution_count": 33,
   "metadata": {},
   "outputs": [
    {
     "data": {
      "text/plain": [
       "<matplotlib.legend.Legend at 0x1519bf0e10>"
      ]
     },
     "execution_count": 33,
     "metadata": {},
     "output_type": "execute_result"
    },
    {
     "data": {
      "image/png": "[encoded data removed]",
      "text/plain": [
       "<Figure size 432x288 with 1 Axes>"
      ]
     },
     "metadata": {
      "needs_background": "light"
     },
     "output_type": "display_data"
    }
   ],
   "source": [
    "plt.plot(sol.t, x1,\n",
    "         sol.t, x2, \n",
    "         sol.t, x3)\n",
    "plt.legend(['$x_1$', '$x_2$', '$x_3$'])"
   ]
  },
  {
   "cell_type": "code",
   "execution_count": null,
   "metadata": {},
   "outputs": [],
   "source": []
  }
 ],
 "metadata": {
  "kernelspec": {
   "display_name": "Python 3",
   "language": "python",
   "name": "python3"
  },
  "language_info": {
   "codemirror_mode": {
    "name": "ipython",
    "version": 3
   },
   "file_extension": ".py",
   "mimetype": "text/x-python",
   "name": "python",
   "nbconvert_exporter": "python",
   "pygments_lexer": "ipython3",
   "version": "3.7.3"
  }
 },
 "nbformat": 4,
 "nbformat_minor": 4
}
