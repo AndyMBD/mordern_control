{
 "cells": [
  {
   "cell_type": "markdown",
   "metadata": {},
   "source": [
    "# Fed Batch Bioreactor\n",
    "This model represents the fed batch bioreactor in section 2.4.9 of Seborg et al."
   ]
  },
  {
   "cell_type": "markdown",
   "metadata": {},
   "source": [
    "| Nr  | Symbol      | Name                                 |                Units|\n",
    "|-----|-------------|--------------------------------------|---------------------|\n",
    "| 1   | $\\mu_\\text{max}$ |   Maximum specific growth rate  |                1/hr |\n",
    "| 2   | $K_s$       |   Monod constant                     |                 g/L |\n",
    "| 3   | $Y_{X/S}$   |   Cell yield coefficient             |                   1 |\n",
    "| 4   | $Y_{P/S}$   |   Product yield coefficient          |                   1 |\n",
    "| 5   | $X$         |   Cell mass concentration            |                 g/L |\n",
    "| 6   | $S$         |   Substrate mass concentration       |                 g/L |\n",
    "| 7   | $V$         |   Volume                             |                   L |\n",
    "| 8   | $P$         |   Substrate mass concentration       |                 g/L |\n",
    "| 9   | $F$         |   Feed flow rate                     |                L/hr |\n",
    "| 10  | $S_f$       |   Substrate mass concentration       |                 g/L |\n",
    "| 11  | $\\mu$       |   Specific growth rate               |                1/hr |\n",
    "| 12  | $r_g$       |   Cell growth rate                   |        g /( L hr)   |\n",
    "| 13  | $r_p$       |   Product growth rate                |          g /( L hr) |  \n"
   ]
  },
  {
   "cell_type": "markdown",
   "metadata": {},
   "source": [
    "Model equations:\n",
    "    \n",
    "| Nr     | Equation                              | Inputs     | Outputs         | Parameters              |\n",
    "|--------|---------------------------------------|------------|-----------------|-------------------------|\n",
    "| 1      | $$r_g = \\mu X$$                       |      -     |        $r$, $\\mu$, $X$ |   -  |                    \n",
    "| 2      | $$\\mu = \\mu_{max} \\frac{S}{K_S + S}$$ |      -      | $S$             | $\\mu_\\text{max}$, $K_s$ |\n",
    "| 3      | $$r_p = Y_{P/X}r_G$$                  |      -      | $r_p$           | $Y_{P/X}$               |\n",
    "| 4      | $$\\frac{d(XV)}{dt} = Vr_g$$           |      -      | $V$             |   -                      |\n",
    "| 5      | $$\\frac{d(PV)}{dt} = Vr_p$$           |      -      | $P$             |    -                     |\n",
    "| 6      | $$\\frac{d(SV)}{dt} =  FS_f - Vr$$     | $F$, $S_f$ |  -               | $Y_{X/S}$               |\n",
    "| 7      | $$\\frac{dV}{dt} = F$$                 |      -      |  -               |    -                     |\n",
    "| Number | 7                                     | 2          | 7               | 4                       |\n"
   ]
  },
  {
   "cell_type": "markdown",
   "metadata": {},
   "source": [
    "Parameters"
   ]
  },
  {
   "cell_type": "code",
   "execution_count": 1,
   "metadata": {},
   "outputs": [],
   "source": [
    "mu_max = 0.2  # Maximum growth rate\n",
    "K_s = 1.0  # Monod constant\n",
    "Y_xs = 0.5 # Cell yield coefficient\n",
    "Y_px = 0.2  # Product yield coefficient"
   ]
  },
  {
   "cell_type": "markdown",
   "metadata": {},
   "source": [
    "States"
   ]
  },
  {
   "cell_type": "code",
   "execution_count": 2,
   "metadata": {},
   "outputs": [],
   "source": [
    "X = 0.05  # Concentration of the cells\n",
    "S = 10   # Concentration of the substrate\n",
    "P = 0   # Concentration of the product\n",
    "V = 1   # Reactor volume\n",
    "\n",
    "x0 = [X, S, P, V]  # State vector"
   ]
  },
  {
   "cell_type": "markdown",
   "metadata": {},
   "source": [
    "Inputs"
   ]
  },
  {
   "cell_type": "code",
   "execution_count": 3,
   "metadata": {},
   "outputs": [],
   "source": [
    "F = 0.05  # Feed rate\n",
    "S_f = 10  # Concentration of substrate in feed"
   ]
  },
  {
   "cell_type": "code",
   "execution_count": 4,
   "metadata": {},
   "outputs": [],
   "source": [
    "def dxdt(t, x):\n",
    "    [X, S, P, V] = x\n",
    "    \n",
    "    mu = mu_max * S / (K_s + S)\n",
    "    rg = mu * X\n",
    "    rp = Y_px * rg\n",
    "    dVdt = F\n",
    "    dXdt = 1/V*(V * rg - dVdt*X)\n",
    "    dPdt = 1/V*(V * rp - dVdt*P)\n",
    "    dSdt = 1/V*(F * S_f - 1 / Y_xs * V * rg - dVdt*S)\n",
    "\n",
    "    return [dXdt, dSdt, dPdt, dVdt]"
   ]
  },
  {
   "cell_type": "code",
   "execution_count": 5,
   "metadata": {},
   "outputs": [],
   "source": [
    "import scipy.integrate\n",
    "import numpy"
   ]
  },
  {
   "cell_type": "code",
   "execution_count": 6,
   "metadata": {},
   "outputs": [],
   "source": [
    "import matplotlib.pyplot as plt\n",
    "%matplotlib inline"
   ]
  },
  {
   "cell_type": "code",
   "execution_count": 7,
   "metadata": {},
   "outputs": [],
   "source": [
    "tspan = [0, 30]"
   ]
  },
  {
   "cell_type": "code",
   "execution_count": 8,
   "metadata": {},
   "outputs": [],
   "source": [
    "tsmooth = numpy.linspace(0, 30)"
   ]
  },
  {
   "cell_type": "code",
   "execution_count": 9,
   "metadata": {},
   "outputs": [],
   "source": [
    "Fs = [0.05, 0.02]"
   ]
  },
  {
   "cell_type": "code",
   "execution_count": 10,
   "metadata": {},
   "outputs": [],
   "source": [
    "results = []"
   ]
  },
  {
   "cell_type": "code",
   "execution_count": 11,
   "metadata": {},
   "outputs": [],
   "source": [
    "for F in Fs:\n",
    "    out = scipy.integrate.solve_ivp(dxdt, tspan, x0, t_eval=tsmooth)\n",
    "    results.append(out)"
   ]
  },
  {
   "cell_type": "code",
   "execution_count": 12,
   "metadata": {},
   "outputs": [],
   "source": [
    "names = ['X', 'S', 'P', 'V']\n",
    "units = {'X': 'g/L', 'S': 'g/L', 'P': 'g/L', 'V': 'L'}"
   ]
  },
  {
   "cell_type": "code",
   "execution_count": 13,
   "metadata": {},
   "outputs": [
    {
     "data": {
      "image/png": "[encoded data removed]",
      "text/plain": [
       "<Figure size 432x288 with 4 Axes>"
      ]
     },
     "metadata": {
      "needs_background": "light"
     },
     "output_type": "display_data"
    }
   ],
   "source": [
    "ax = {}\n",
    "\n",
    "fig, [[ax['X'], ax['P']], [ax['S'], ax['V']]] = plt.subplots(2, 2)\n",
    "\n",
    "for F, out in zip(Fs, results):\n",
    "    var = {name: y for name, y in zip(names, out.y)}\n",
    "    for name in names:\n",
    "        ax[name].plot(out.t, var[name])\n",
    "        ax[name].set_ylabel(f'{name} ({units[name]})')\n",
    "        ax[name].set_xlabel('Time (hr)')\n",
    "plt.tight_layout()"
   ]
  },
  {
   "cell_type": "code",
   "execution_count": null,
   "metadata": {},
   "outputs": [],
   "source": []
  }
 ],
 "metadata": {
  "kernelspec": {
   "display_name": "Python 3",
   "language": "python",
   "name": "python3"
  },
  "language_info": {
   "codemirror_mode": {
    "name": "ipython",
    "version": 3
   },
   "file_extension": ".py",
   "mimetype": "text/x-python",
   "name": "python",
   "nbconvert_exporter": "python",
   "pygments_lexer": "ipython3",
   "version": "3.7.3"
  }
 },
 "nbformat": 4,
 "nbformat_minor": 2
}
