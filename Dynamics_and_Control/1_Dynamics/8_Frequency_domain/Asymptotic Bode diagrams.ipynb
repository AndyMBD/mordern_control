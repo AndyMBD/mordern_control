{
 "cells": [
  {
   "cell_type": "markdown",
   "metadata": {},
   "source": [
    "## Asymptotic Bode diagrams\n",
    "\n",
    "One of the big advantages of Bode diagrams is that they are very easy to sketch out by hand (or, equivalently, to visualise mentally)."
   ]
  },
  {
   "cell_type": "code",
   "execution_count": 1,
   "metadata": {},
   "outputs": [],
   "source": [
    "import numpy\n",
    "import matplotlib.pyplot as plt\n",
    "%matplotlib inline"
   ]
  },
  {
   "cell_type": "code",
   "execution_count": 2,
   "metadata": {},
   "outputs": [],
   "source": [
    "omega = numpy.logspace(-2, 2, 1000)\n",
    "s = 1j*omega"
   ]
  },
  {
   "cell_type": "markdown",
   "metadata": {},
   "source": [
    "## Systems with real poles\n",
    "\n",
    "Let's study the bode diagrams of systems of the form\n",
    "\n",
    "$$\\frac{K}{(\\tau s + 1)^n}$$"
   ]
  },
  {
   "cell_type": "code",
   "execution_count": 3,
   "metadata": {},
   "outputs": [],
   "source": [
    "def annotated_bode(ax_gain, ax_phase, G, K, tau, order):\n",
    "    high_freq_asymptote = K/(tau*omega)**order\n",
    "    \n",
    "    # Gain part\n",
    "    ax_gain.loglog(omega, numpy.abs(G))\n",
    "    ax_gain.axhline(K, color='grey')  # Rule 1\n",
    "    ax_gain.loglog(omega, high_freq_asymptote, color='grey') # Rule 2\n",
    "    ax_gain.axvline(1/tau, color='grey')  # Rule 2\n",
    "    ax_gain.set_ylim([1e-2, 1e+1])\n",
    "    ax_gain.set_ylabel('|G|')\n",
    "\n",
    "    # Phase part\n",
    "    ax_phase.axhline(0, color='grey')  # Rule 3\n",
    "    ax_phase.semilogx(omega, numpy.unwrap(numpy.angle(G)))  \n",
    "    ax_phase.axhline(-numpy.pi/2*order, color='grey')  # Rule 4\n",
    "    ax_phase.axvline(1/tau, color='grey')  # Rule 5\n",
    "    ax_phase.set_ylim([-3*numpy.pi/2, 2*numpy.pi/2])\n",
    "    ax_phase.set_ylabel(r'$\\angle G$')"
   ]
  },
  {
   "cell_type": "code",
   "execution_count": 4,
   "metadata": {},
   "outputs": [],
   "source": [
    "def plotresponse(order=1, tau=1, K=1):\n",
    "    G = K/(tau*s + 1)**order\n",
    "    \n",
    "    fig, [ax_gain, ax_phase] = plt.subplots(2, 1)\n",
    "    annotated_bode(ax_gain, ax_phase, G, K, tau, order)"
   ]
  },
  {
   "cell_type": "code",
   "execution_count": 5,
   "metadata": {},
   "outputs": [],
   "source": [
    "from ipywidgets import interact"
   ]
  },
  {
   "cell_type": "code",
   "execution_count": 6,
   "metadata": {},
   "outputs": [
    {
     "data": {
      "application/vnd.jupyter.widget-view+json": {
       "model_id": "0a312237c6d1476d9824affe955b23cc",
       "version_major": 2,
       "version_minor": 0
      },
      "text/plain": [
       "interactive(children=(IntSlider(value=1, description='order', max=3, min=-2), FloatSlider(value=1.0, descripti…"
      ]
     },
     "metadata": {},
     "output_type": "display_data"
    }
   ],
   "source": [
    "interact(plotresponse, order=(-2, 3), tau=(0.1, 10), K=(-1., 2));"
   ]
  },
  {
   "cell_type": "markdown",
   "metadata": {},
   "source": [
    "We see that we can construct a reasonable approximation by knowing a couple of things\n",
    "\n",
    "1. The gain ($K$) of the system defines the low frequency asymptote of the gain graph\n",
    "2. The high frequency asymptote of the gain is $\\frac{K}{(\\omega\\tau)^n}$. Effectively, on a loglog scale, this means we have -n/decade slope above frequencies of around $1/\\tau$\n",
    "3. The low frequency phase asymptote is 0\n",
    "4. The high frequency phase asymptote is $-n\\pi/2$\n",
    "5. The phase curve has an inflection at $1/\\tau$"
   ]
  },
  {
   "cell_type": "markdown",
   "metadata": {},
   "source": [
    "## Systems with complex poles\n",
    "Systems with complex poles show uniique frequency response behaviour. We will focus on the second order system shown below:\n",
    "\n",
    "$$ G = \\frac{K}{\\tau^2 s^2  + 2\\tau\\zeta s + 1}$$"
   ]
  },
  {
   "cell_type": "code",
   "execution_count": 7,
   "metadata": {},
   "outputs": [],
   "source": [
    "def plotresponse(K=1, tau=1, zeta=1):\n",
    "    plt.figure(figsize=(15, 5))\n",
    "    order = 2\n",
    "    G = K/(tau**2*s**2 + 2*tau*zeta*s + 1)\n",
    "    \n",
    "    ax_gain = plt.subplot2grid((2, 2), (0, 0))\n",
    "    ax_phase = plt.subplot2grid((2, 2), (1, 0))\n",
    "    ax_complex = plt.subplot2grid((2, 2), (0, 1), rowspan=2)\n",
    "\n",
    "    annotated_bode(ax_gain, ax_phase, G, K, tau, order)\n",
    "    \n",
    "    # poles\n",
    "    poles = numpy.roots([tau**2, 2*tau*zeta, 1])\n",
    "    ax_complex.scatter(poles.real, poles.imag)\n",
    "    ax_complex.axhline(0)\n",
    "    ax_complex.axvline(0)\n",
    "    ax_complex.axis([-2, 2, -2, 2])"
   ]
  },
  {
   "cell_type": "code",
   "execution_count": 8,
   "metadata": {},
   "outputs": [
    {
     "data": {
      "application/vnd.jupyter.widget-view+json": {
       "model_id": "0d52c9d411ea4ec99ff02befcc62ee71",
       "version_major": 2,
       "version_minor": 0
      },
      "text/plain": [
       "interactive(children=(FloatSlider(value=1.0, description='K', max=2.0, min=0.1), FloatSlider(value=1.0, descri…"
      ]
     },
     "metadata": {},
     "output_type": "display_data"
    },
    {
     "data": {
      "text/plain": [
       "<function __main__.plotresponse(K=1, tau=1, zeta=1)>"
      ]
     },
     "execution_count": 8,
     "metadata": {},
     "output_type": "execute_result"
    }
   ],
   "source": [
    "interact(plotresponse, K=(0.1, 2), tau=(0.1, 2), zeta=(0., 1.1))"
   ]
  },
  {
   "cell_type": "markdown",
   "metadata": {},
   "source": [
    "We see that the rules from before still hold, except that we start seeing the so-called \"harmonic nose\" emerge when $\\zeta<\\sqrt{2}/2\\approx{0.7}$. The maximum of the nose occurs at the resonant frequency of\n",
    "\n",
    "$$\\omega_r = \\frac{\\sqrt{1 - 2\\zeta^2}}{\\tau}$$"
   ]
  },
  {
   "cell_type": "markdown",
   "metadata": {},
   "source": [
    "## Dead time\n",
    "\n",
    "The effect of dead time is to increase the phase lag indefinitely as a function of frequency. Delay has no effect on the gain of a system."
   ]
  },
  {
   "cell_type": "code",
   "execution_count": 9,
   "metadata": {},
   "outputs": [],
   "source": [
    "D = 1\n",
    "G = numpy.exp(-D*s)"
   ]
  },
  {
   "cell_type": "code",
   "execution_count": 10,
   "metadata": {},
   "outputs": [
    {
     "data": {
      "text/plain": [
       "[<matplotlib.lines.Line2D at 0x117a944e0>]"
      ]
     },
     "execution_count": 10,
     "metadata": {},
     "output_type": "execute_result"
    },
    {
     "data": {
      "image/png": "[encoded data removed]",
      "text/plain": [
       "<Figure size 432x288 with 1 Axes>"
      ]
     },
     "metadata": {},
     "output_type": "display_data"
    }
   ],
   "source": [
    "plt.semilogx(omega, numpy.unwrap(numpy.angle(G)))"
   ]
  }
 ],
 "metadata": {
  "kernelspec": {
   "display_name": "Python 3",
   "language": "python",
   "name": "python3"
  },
  "language_info": {
   "codemirror_mode": {
    "name": "ipython",
    "version": 3
   },
   "file_extension": ".py",
   "mimetype": "text/x-python",
   "name": "python",
   "nbconvert_exporter": "python",
   "pygments_lexer": "ipython3",
   "version": "3.6.5"
  }
 },
 "nbformat": 4,
 "nbformat_minor": 2
}
