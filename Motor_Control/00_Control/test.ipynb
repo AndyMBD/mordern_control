{
 "cells": [
  {
   "cell_type": "markdown",
   "id": "3ff50e99",
   "metadata": {},
   "source": [
    "# Python Simulate C Bit operation"
   ]
  },
  {
   "cell_type": "code",
   "execution_count": 4,
   "id": "1c04e004",
   "metadata": {},
   "outputs": [],
   "source": [
    "from IPython.core.interactiveshell import InteractiveShell\n",
    "InteractiveShell.ast_node_interactivity = \"all\""
   ]
  },
  {
   "cell_type": "code",
   "execution_count": 5,
   "id": "c6002adb",
   "metadata": {},
   "outputs": [
    {
     "data": {
      "text/plain": [
       "2"
      ]
     },
     "execution_count": 5,
     "metadata": {},
     "output_type": "execute_result"
    },
    {
     "data": {
      "text/plain": [
       "8"
      ]
     },
     "execution_count": 5,
     "metadata": {},
     "output_type": "execute_result"
    },
    {
     "data": {
      "text/plain": [
       "100"
      ]
     },
     "execution_count": 5,
     "metadata": {},
     "output_type": "execute_result"
    },
    {
     "data": {
      "text/plain": [
       "'2b'"
      ]
     },
     "execution_count": 5,
     "metadata": {},
     "output_type": "execute_result"
    }
   ],
   "source": [
    "import struct\n",
    "class myStruct:\n",
    "    _fields_ = [\n",
    "        (\"field_1\", \"2b\"), \n",
    "        (\"field_2\", \"4b\"), \n",
    "        (\"field_3\", \"6b\")\n",
    "        ]\n",
    "my_struct = myStruct()\n",
    "my_struct.field_1 = 2\n",
    "my_struct.field_2 = 8\n",
    "my_struct.field_3 = 100\n",
    "my_struct.field_1\n",
    "my_struct.field_2\n",
    "my_struct.field_3\n",
    "bytes_value =my_struct._fields_[0][1]\n",
    "bytes_value \n"
   ]
  },
  {
   "cell_type": "code",
   "execution_count": 11,
   "id": "b086ccd8",
   "metadata": {},
   "outputs": [
    {
     "data": {
      "text/plain": [
       "1"
      ]
     },
     "execution_count": 11,
     "metadata": {},
     "output_type": "execute_result"
    },
    {
     "data": {
      "text/plain": [
       "16"
      ]
     },
     "execution_count": 11,
     "metadata": {},
     "output_type": "execute_result"
    },
    {
     "data": {
      "text/plain": [
       "'0xdf'"
      ]
     },
     "execution_count": 11,
     "metadata": {},
     "output_type": "execute_result"
    },
    {
     "data": {
      "text/plain": [
       "'0b11011111'"
      ]
     },
     "execution_count": 11,
     "metadata": {},
     "output_type": "execute_result"
    }
   ],
   "source": [
    "# start with ob means binary\n",
    "a=0b1\n",
    "b=0x10\n",
    "a\n",
    "b\n",
    "a=0xff\n",
    "a&=~0x3c3c\n",
    "a|=0x1c\n",
    "hex(a)\n",
    "bin(a)"
   ]
  }
 ],
 "metadata": {
  "kernelspec": {
   "display_name": "Python 3",
   "language": "python",
   "name": "python3"
  },
  "language_info": {
   "codemirror_mode": {
    "name": "ipython",
    "version": 3
   },
   "file_extension": ".py",
   "mimetype": "text/x-python",
   "name": "python",
   "nbconvert_exporter": "python",
   "pygments_lexer": "ipython3",
   "version": "3.12.1"
  }
 },
 "nbformat": 4,
 "nbformat_minor": 5
}
