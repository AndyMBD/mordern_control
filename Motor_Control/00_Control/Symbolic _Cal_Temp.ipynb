{
 "cells": [
  {
   "cell_type": "code",
   "execution_count": 99,
   "metadata": {},
   "outputs": [
    {
     "data": {
      "text/latex": [
       "$\\displaystyle amplitude \\left(- \\left(-1\\right)^{\\frac{2}{3}} \\sin{\\left(\\pi \\left(2 freq t + \\frac{1}{6}\\right) \\right)} + \\sqrt[3]{-1} \\cos{\\left(\\pi \\left(2 freq t + \\frac{1}{3}\\right) \\right)} + \\cos{\\left(2 \\pi freq t \\right)}\\right)$"
      ],
      "text/plain": [
       "amplitude*(-(-1)**(2/3)*sin(pi*(2*freq*t + 1/6)) + (-1)**(1/3)*cos(pi*(2*freq*t + 1/3)) + cos(2*pi*freq*t))"
      ]
     },
     "execution_count": 99,
     "metadata": {},
     "output_type": "execute_result"
    }
   ],
   "source": [
    "import sympy\n",
    "from sympy import *\n",
    "import math\n",
    "import numpy as np\n",
    "# amplitude=1\n",
    "# freq=1/(2*np.pi)\n",
    "U_An,U_Bn,U_Cn,U_Vector,t=sympy.symbols('U_An U_Bn U_Cn U_Vector t')\n",
    "amplitude,freq=sympy.symbols('amplitude freq')\n",
    "U_An=amplitude*cos(2*pi*freq*t)#+amplitude#2*np.pi*freq*\n",
    "U_Bn=amplitude*cos(2*pi*freq*t+2*pi/3)#+amplitude\n",
    "U_Cn=amplitude*cos(2*pi*freq*t-2*pi/3)#+amplitude\n",
    "# U_Vector=U_An+U_Bn*exp(complex(0,2*pi/3))+U_Cn*exp(complex(0,-2*pi/3))\n",
    "U_Vector=U_An+U_Bn*exp(I*2*pi/3)+U_Cn*exp(-I*2*pi/3)\n",
    "# print(U_An)\n",
    "# print(U_Bn)\n",
    "# print(U_Cn)\n",
    "# simplify(U_Cn)\n",
    "simplify(U_Vector)\n",
    "# print(simplify(U_Vector))\n",
    "# U_An=cos(t)#+amplitude#2*np.pi*freq*\n",
    "# U_Bn=amplitude*np.cos(2*np.pi*freq*t+2*np.pi/3)#+amplitude\n",
    "# U_Cn=amplitude*np.cos(2*np.pi*freq*t-2*np.pi/3)#+amplitude\n",
    "# U_Vector=U_An+U_Bn*np.exp(complex(0,2*np.pi/3))+U_Bn*np.exp(complex(0,-2*np.pi/3))\n"
   ]
  },
  {
   "cell_type": "code",
   "execution_count": 89,
   "metadata": {},
   "outputs": [
    {
     "data": {
      "text/latex": [
       "$\\displaystyle -1$"
      ],
      "text/plain": [
       "-1"
      ]
     },
     "execution_count": 89,
     "metadata": {},
     "output_type": "execute_result"
    }
   ],
   "source": [
    "import sympy\n",
    "from sympy import *\n",
    "exp(I*pi)\n",
    "# eqn1=sympy.exp(sympy.I * 2*sympy.pi) + 1\n",
    "# print(eqn1)"
   ]
  }
 ],
 "metadata": {
  "kernelspec": {
   "display_name": "Python 3.10.5 64-bit",
   "language": "python",
   "name": "python3"
  },
  "language_info": {
   "codemirror_mode": {
    "name": "ipython",
    "version": 3
   },
   "file_extension": ".py",
   "mimetype": "text/x-python",
   "name": "python",
   "nbconvert_exporter": "python",
   "pygments_lexer": "ipython3",
   "version": "3.10.5"
  },
  "orig_nbformat": 4,
  "vscode": {
   "interpreter": {
    "hash": "08436e1dada134e6f143ad49e4eee140dcced4b0aa01ee837effa9e93d0a4d35"
   }
  }
 },
 "nbformat": 4,
 "nbformat_minor": 2
}
