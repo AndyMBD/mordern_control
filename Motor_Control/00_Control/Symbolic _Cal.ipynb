{
 "cells": [
  {
   "cell_type": "code",
   "execution_count": 4,
   "metadata": {},
   "outputs": [
    {
     "name": "stdout",
     "output_type": "stream",
     "text": [
      "2.8284271247461903\n",
      "2*sqrt(2)\n"
     ]
    },
    {
     "ename": "TypeError",
     "evalue": "loop of ufunc does not support argument 0 of type Mul which has no callable cos method",
     "output_type": "error",
     "traceback": [
      "\u001b[1;31m---------------------------------------------------------------------------\u001b[0m",
      "\u001b[1;31mAttributeError\u001b[0m                            Traceback (most recent call last)",
      "\u001b[1;31mAttributeError\u001b[0m: 'Mul' object has no attribute 'cos'",
      "\nThe above exception was the direct cause of the following exception:\n",
      "\u001b[1;31mTypeError\u001b[0m                                 Traceback (most recent call last)",
      "Cell \u001b[1;32mIn [4], line 8\u001b[0m\n\u001b[0;32m      6\u001b[0m freq\u001b[38;5;241m=\u001b[39m\u001b[38;5;241m1\u001b[39m\u001b[38;5;241m/\u001b[39m(\u001b[38;5;241m2\u001b[39m\u001b[38;5;241m*\u001b[39mnp\u001b[38;5;241m.\u001b[39mpi)\n\u001b[0;32m      7\u001b[0m U_An,U_Bn,U_Cn,U_Vector,t\u001b[38;5;241m=\u001b[39msympy\u001b[38;5;241m.\u001b[39msymbols(\u001b[38;5;124m'\u001b[39m\u001b[38;5;124mU_An,U_Bn,U_Cn,U_Vector,t\u001b[39m\u001b[38;5;124m'\u001b[39m)\n\u001b[1;32m----> 8\u001b[0m U_An\u001b[38;5;241m=\u001b[39mamplitude\u001b[38;5;241m*\u001b[39m\u001b[43mnp\u001b[49m\u001b[38;5;241;43m.\u001b[39;49m\u001b[43mcos\u001b[49m\u001b[43m(\u001b[49m\u001b[38;5;241;43m2\u001b[39;49m\u001b[38;5;241;43m*\u001b[39;49m\u001b[43mnp\u001b[49m\u001b[38;5;241;43m.\u001b[39;49m\u001b[43mpi\u001b[49m\u001b[38;5;241;43m*\u001b[39;49m\u001b[43mfreq\u001b[49m\u001b[38;5;241;43m*\u001b[39;49m\u001b[43mt\u001b[49m\u001b[43m)\u001b[49m\u001b[38;5;66;03m#+amplitude#2*np.pi*freq*\u001b[39;00m\n\u001b[0;32m      9\u001b[0m U_Bn\u001b[38;5;241m=\u001b[39mamplitude\u001b[38;5;241m*\u001b[39mnp\u001b[38;5;241m.\u001b[39mcos(\u001b[38;5;241m2\u001b[39m\u001b[38;5;241m*\u001b[39mnp\u001b[38;5;241m.\u001b[39mpi\u001b[38;5;241m*\u001b[39mfreq\u001b[38;5;241m*\u001b[39mt\u001b[38;5;241m+\u001b[39m\u001b[38;5;241m2\u001b[39m\u001b[38;5;241m*\u001b[39mnp\u001b[38;5;241m.\u001b[39mpi\u001b[38;5;241m/\u001b[39m\u001b[38;5;241m3\u001b[39m)\u001b[38;5;66;03m#+amplitude\u001b[39;00m\n\u001b[0;32m     10\u001b[0m U_Cn\u001b[38;5;241m=\u001b[39mamplitude\u001b[38;5;241m*\u001b[39mnp\u001b[38;5;241m.\u001b[39mcos(\u001b[38;5;241m2\u001b[39m\u001b[38;5;241m*\u001b[39mnp\u001b[38;5;241m.\u001b[39mpi\u001b[38;5;241m*\u001b[39mfreq\u001b[38;5;241m*\u001b[39mt\u001b[38;5;241m-\u001b[39m\u001b[38;5;241m2\u001b[39m\u001b[38;5;241m*\u001b[39mnp\u001b[38;5;241m.\u001b[39mpi\u001b[38;5;241m/\u001b[39m\u001b[38;5;241m3\u001b[39m)\u001b[38;5;66;03m#+amplitude\u001b[39;00m\n",
      "\u001b[1;31mTypeError\u001b[0m: loop of ufunc does not support argument 0 of type Mul which has no callable cos method"
     ]
    }
   ],
   "source": [
    "import sympy,math\n",
    "import numpy as np\n",
    "print(math.sqrt(8))\n",
    "print(sympy.sqrt(8))\n",
    "amplitude=1\n",
    "freq=1/(2*np.pi)\n",
    "U_An,U_Bn,U_Cn,U_Vector,t=sympy.symbols('U_An,U_Bn,U_Cn,U_Vector,t')\n",
    "U_An=amplitude*np.cos(2*np.pi*freq*t)#+amplitude#2*np.pi*freq*\n",
    "U_Bn=amplitude*np.cos(2*np.pi*freq*t+2*np.pi/3)#+amplitude\n",
    "U_Cn=amplitude*np.cos(2*np.pi*freq*t-2*np.pi/3)#+amplitude\n",
    "U_Vector=U_An+U_Bn*np.exp(complex(0,2*np.pi/3))+U_Bn*np.exp(complex(0,-2*np.pi/3))\n"
   ]
  },
  {
   "cell_type": "code",
   "execution_count": null,
   "metadata": {},
   "outputs": [],
   "source": [
    "import sympy,math\n",
    "import numpy as np\n",
    "print(math.sqrt(8))\n",
    "print(sympy.sqrt(8))"
   ]
  },
  {
   "cell_type": "code",
   "execution_count": 2,
   "metadata": {},
   "outputs": [
    {
     "name": "stdout",
     "output_type": "stream",
     "text": [
      "3*x + 3*y\n",
      "a=x + y. b=y*z0.\n"
     ]
    }
   ],
   "source": [
    "from sympy import *\n",
    "x = Symbol('x')\n",
    "y = Symbol('y')\n",
    "z0= Symbol('z0')\n",
    "k, m, n = symbols('k m n')\n",
    "eqn1=3*x+y*3\n",
    "print(eqn1)\n",
    "a = x + y\n",
    "b = y * z0\n",
    "print(\"a={}. b={}.\".format(a, b))"
   ]
  },
  {
   "cell_type": "code",
   "execution_count": 15,
   "metadata": {},
   "outputs": [
    {
     "name": "stdout",
     "output_type": "stream",
     "text": [
      "x*(x**3 + y + 8)\n",
      "x**4 + x*y + 8*x\n"
     ]
    }
   ],
   "source": [
    "from sympy import *\n",
    "x,y = symbols('x y')\n",
    "expr=x**4+x*y+8*x\n",
    "f_expr=factor(expr)\n",
    "e_expr=expand(f_expr)\n",
    "print(f_expr)\n",
    "print(e_expr)"
   ]
  },
  {
   "cell_type": "code",
   "execution_count": 17,
   "metadata": {},
   "outputs": [
    {
     "name": "stdout",
     "output_type": "stream",
     "text": [
      "-40*x**4*y**2\n"
     ]
    }
   ],
   "source": [
    "from sympy import *\n",
    "x,y = symbols('x y')\n",
    "expr=(2*x)**3*(-5*x*y**2)\n",
    "s_expr=simplify(expr)\n",
    "print(s_expr)"
   ]
  },
  {
   "cell_type": "code",
   "execution_count": 19,
   "metadata": {},
   "outputs": [
    {
     "name": "stdout",
     "output_type": "stream",
     "text": [
      "[13500]\n"
     ]
    }
   ],
   "source": [
    "from sympy import *\n",
    "x = Symbol('x')\n",
    "print(solve(6*x + 6*(x-2000)-150000,x))"
   ]
  },
  {
   "cell_type": "code",
   "execution_count": 21,
   "metadata": {},
   "outputs": [
    {
     "name": "stdout",
     "output_type": "stream",
     "text": [
      "{x: 6, y: 4}\n"
     ]
    }
   ],
   "source": [
    "from sympy import *\n",
    "x,y = symbols('x y')\n",
    "print(solve([x + y-10,2*x+y-16],[x,y]))"
   ]
  },
  {
   "cell_type": "code",
   "execution_count": 23,
   "metadata": {},
   "outputs": [
    {
     "name": "stdout",
     "output_type": "stream",
     "text": [
      "[(-b - sqrt(-4*a*c + b**2))/(2*a), (-b + sqrt(-4*a*c + b**2))/(2*a)]\n"
     ]
    }
   ],
   "source": [
    "from sympy import *\n",
    "x,y = symbols('x y')\n",
    "a,b,c=symbols('a b c')\n",
    "expr=a*x**2 + b*x + c\n",
    "s_expr=solve( expr, x)\n",
    "print(s_expr)"
   ]
  },
  {
   "cell_type": "code",
   "execution_count": 25,
   "metadata": {},
   "outputs": [
    {
     "name": "stdout",
     "output_type": "stream",
     "text": [
      "1\n"
     ]
    }
   ],
   "source": [
    "from sympy import *\n",
    "x, y, z = symbols('x y z')\n",
    "expr = sin(x)/x\n",
    "l_expr=limit(expr, x, 0)\n",
    "print(l_expr)\n"
   ]
  },
  {
   "cell_type": "code",
   "execution_count": 27,
   "metadata": {},
   "outputs": [
    {
     "name": "stdout",
     "output_type": "stream",
     "text": [
      "exp(x)*sin(x) + exp(x)*cos(x)\n",
      "2*exp(x)*cos(x)\n"
     ]
    }
   ],
   "source": [
    "from sympy import *\n",
    "x,y = symbols('x y')\n",
    "expr=sin(x)*exp(x)\n",
    "diff_expr=diff(expr, x)\n",
    "diff_expr2=diff(expr,x,2)\n",
    "print(diff_expr)\n",
    "print(diff_expr2)\n"
   ]
  },
  {
   "cell_type": "code",
   "execution_count": 29,
   "metadata": {},
   "outputs": [
    {
     "name": "stdout",
     "output_type": "stream",
     "text": [
      "exp(x)*sin(x)\n"
     ]
    }
   ],
   "source": [
    "from sympy import *\n",
    "x,y = symbols('x y')\n",
    "expr=exp(x)*sin(x) + exp(x)*cos(x)\n",
    "i_expr=integrate(expr,x)\n",
    "print(i_expr)"
   ]
  },
  {
   "cell_type": "code",
   "execution_count": 30,
   "metadata": {},
   "outputs": [
    {
     "name": "stdout",
     "output_type": "stream",
     "text": [
      "sqrt(2)*sqrt(pi)/2\n"
     ]
    }
   ],
   "source": [
    "from sympy import *\n",
    "x,y = symbols('x y')\n",
    "expr=sin(x**2)\n",
    "i_expr=integrate(expr, (x, -oo, oo))\n",
    "print(i_expr)"
   ]
  }
 ],
 "metadata": {
  "kernelspec": {
   "display_name": "Python 3.10.5 64-bit",
   "language": "python",
   "name": "python3"
  },
  "language_info": {
   "codemirror_mode": {
    "name": "ipython",
    "version": 3
   },
   "file_extension": ".py",
   "mimetype": "text/x-python",
   "name": "python",
   "nbconvert_exporter": "python",
   "pygments_lexer": "ipython3",
   "version": "3.10.5"
  },
  "orig_nbformat": 4,
  "vscode": {
   "interpreter": {
    "hash": "08436e1dada134e6f143ad49e4eee140dcced4b0aa01ee837effa9e93d0a4d35"
   }
  }
 },
 "nbformat": 4,
 "nbformat_minor": 2
}
