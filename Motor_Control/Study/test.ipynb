{
 "cells": [
  {
   "cell_type": "code",
   "execution_count": 2,
   "id": "4c31e341",
   "metadata": {},
   "outputs": [],
   "source": [
    "from IPython.core.interactiveshell import InteractiveShell\n",
    "InteractiveShell.ast_node_interactivity = \"all\""
   ]
  },
  {
   "cell_type": "code",
   "execution_count": 1,
   "id": "db706137",
   "metadata": {},
   "outputs": [
    {
     "name": "stdout",
     "output_type": "stream",
     "text": [
      "U_A =  0.6666666666666666\n",
      "U_B =  -0.33333333333333315\n",
      "U_C =  -0.33333333333333315\n",
      "U_m =  0.9999999999999999\n",
      "U_1 =  1.0\n",
      "U_2 =  0.3333333333333333\n"
     ]
    }
   ],
   "source": [
    "import numpy as np\n",
    "U_DC=1\n",
    "Angle=0\n",
    "U_A=2/3*U_DC*np.cos(Angle)\n",
    "U_B=2/3*U_DC*np.cos(Angle-2/3*np.pi)\n",
    "U_C=2/3*U_DC*np.cos(Angle+2/3*np.pi)\n",
    "U_m_ABC=U_A-U_B*np.cos(1/3*np.pi)-U_C*np.cos(1/3*np.pi)\n",
    "print(\"U_A = \",U_A)\n",
    "print(\"U_B = \",U_B)\n",
    "print(\"U_C = \",U_C)\n",
    "print(\"U_m = \",U_m_ABC)\n",
    "# U_ABC_Vector=\n",
    "U_1=2/3*U_DC\n",
    "U_2=2/3*U_DC*0.5\n",
    "# U_m_12=\n",
    "print(\"U_1 = \",3/2*U_1)\n",
    "print(\"U_2 = \",U_2)\n",
    "# print(\"U_m_12 = \",U_m_12)\n",
    "# U_12_Vector="
   ]
  },
  {
   "cell_type": "code",
   "execution_count": 14,
   "id": "41d85af3",
   "metadata": {},
   "outputs": [
    {
     "name": "stdout",
     "output_type": "stream",
     "text": [
      "current_ABC_Matrix\n"
     ]
    },
    {
     "data": {
      "text/latex": [
       "$\\displaystyle \\left[\\begin{matrix}i_{A}\\\\i_{B}\\\\i_{C}\\end{matrix}\\right]$"
      ],
      "text/plain": [
       "Matrix([\n",
       "[i_A],\n",
       "[i_B],\n",
       "[i_C]])"
      ]
     },
     "execution_count": 14,
     "metadata": {},
     "output_type": "execute_result"
    },
    {
     "name": "stdout",
     "output_type": "stream",
     "text": [
      "psi_m_Matrix\n"
     ]
    },
    {
     "data": {
      "text/latex": [
       "$\\displaystyle \\left[\\begin{matrix}\\psi_{M} \\cos{\\left(\\theta \\right)}\\\\- \\psi_{M} \\cos{\\left(\\theta + \\frac{\\pi}{3} \\right)}\\\\- \\psi_{M} \\sin{\\left(\\theta + \\frac{\\pi}{6} \\right)}\\end{matrix}\\right]$"
      ],
      "text/plain": [
       "Matrix([\n",
       "[        psi_M*cos(theta)],\n",
       "[-psi_M*cos(theta + pi/3)],\n",
       "[-psi_M*sin(theta + pi/6)]])"
      ]
     },
     "execution_count": 14,
     "metadata": {},
     "output_type": "execute_result"
    },
    {
     "data": {
      "text/latex": [
       "$\\displaystyle Ms_{0} + Ms_{2} \\cos{\\left(2 \\theta + \\frac{\\pi}{3} \\right)}$"
      ],
      "text/plain": [
       "Ms0 + Ms2*cos(2*theta + pi/3)"
      ]
     },
     "execution_count": 14,
     "metadata": {},
     "output_type": "execute_result"
    },
    {
     "data": {
      "text/latex": [
       "$\\displaystyle Ms_{0} + Ms_{2} \\cos{\\left(2 \\theta + \\frac{\\pi}{3} \\right)}$"
      ],
      "text/plain": [
       "Ms0 + Ms2*cos(2*theta + pi/3)"
      ]
     },
     "execution_count": 14,
     "metadata": {},
     "output_type": "execute_result"
    },
    {
     "data": {
      "text/latex": [
       "$\\displaystyle Ms_{0} - Ms_{2} \\cos{\\left(2 \\theta \\right)}$"
      ],
      "text/plain": [
       "Ms0 - Ms2*cos(2*theta)"
      ]
     },
     "execution_count": 14,
     "metadata": {},
     "output_type": "execute_result"
    },
    {
     "data": {
      "text/latex": [
       "$\\displaystyle Ms_{0} - Ms_{2} \\cos{\\left(2 \\theta \\right)}$"
      ],
      "text/plain": [
       "Ms0 - Ms2*cos(2*theta)"
      ]
     },
     "execution_count": 14,
     "metadata": {},
     "output_type": "execute_result"
    },
    {
     "data": {
      "text/latex": [
       "$\\displaystyle Ms_{0} + Ms_{2} \\sin{\\left(2 \\theta + \\frac{\\pi}{6} \\right)}$"
      ],
      "text/plain": [
       "Ms0 + Ms2*sin(2*theta + pi/6)"
      ]
     },
     "execution_count": 14,
     "metadata": {},
     "output_type": "execute_result"
    },
    {
     "data": {
      "text/latex": [
       "$\\displaystyle Ms_{0} + Ms_{2} \\sin{\\left(2 \\theta + \\frac{\\pi}{6} \\right)}$"
      ],
      "text/plain": [
       "Ms0 + Ms2*sin(2*theta + pi/6)"
      ]
     },
     "execution_count": 14,
     "metadata": {},
     "output_type": "execute_result"
    },
    {
     "name": "stdout",
     "output_type": "stream",
     "text": [
      "inductance_ABC_Matrix\n"
     ]
    },
    {
     "data": {
      "text/latex": [
       "$\\displaystyle \\left[\\begin{matrix}Ls_{0} - Ls_{2} \\cos{\\left(2 \\theta \\right)} & Ms_{0} + Ms_{2} \\cos{\\left(2 \\theta + \\frac{\\pi}{3} \\right)} & Ms_{0} + Ms_{2} \\sin{\\left(2 \\theta + \\frac{\\pi}{6} \\right)}\\\\Ms_{0} + Ms_{2} \\cos{\\left(2 \\theta + \\frac{\\pi}{3} \\right)} & Ls_{0} + Ls_{2} \\sin{\\left(2 \\theta + \\frac{\\pi}{6} \\right)} & Ms_{0} - Ms_{2} \\cos{\\left(2 \\theta \\right)}\\\\Ms_{0} + Ms_{2} \\sin{\\left(2 \\theta + \\frac{\\pi}{6} \\right)} & Ms_{0} - Ms_{2} \\cos{\\left(2 \\theta \\right)} & Ls_{0} + Ls_{2} \\cos{\\left(2 \\theta + \\frac{\\pi}{3} \\right)}\\end{matrix}\\right]$"
      ],
      "text/plain": [
       "Matrix([\n",
       "[       Ls0 - Ls2*cos(2*theta), Ms0 + Ms2*cos(2*theta + pi/3), Ms0 + Ms2*sin(2*theta + pi/6)],\n",
       "[Ms0 + Ms2*cos(2*theta + pi/3), Ls0 + Ls2*sin(2*theta + pi/6),        Ms0 - Ms2*cos(2*theta)],\n",
       "[Ms0 + Ms2*sin(2*theta + pi/6),        Ms0 - Ms2*cos(2*theta), Ls0 + Ls2*cos(2*theta + pi/3)]])"
      ]
     },
     "execution_count": 14,
     "metadata": {},
     "output_type": "execute_result"
    },
    {
     "name": "stdout",
     "output_type": "stream",
     "text": [
      "T_3s_2_2s\n"
     ]
    },
    {
     "data": {
      "text/latex": [
       "$\\displaystyle \\left[\\begin{matrix}0.666666666666667 & -0.333333333333333 & -0.333333333333333\\\\0 & 0.333333333333333 \\sqrt{3} & - 0.333333333333333 \\sqrt{3}\\end{matrix}\\right]$"
      ],
      "text/plain": [
       "Matrix([\n",
       "[0.666666666666667,        -0.333333333333333,         -0.333333333333333],\n",
       "[                0, 0.333333333333333*sqrt(3), -0.333333333333333*sqrt(3)]])"
      ]
     },
     "execution_count": 14,
     "metadata": {},
     "output_type": "execute_result"
    },
    {
     "data": {
      "text/latex": [
       "$\\displaystyle \\left[\\begin{matrix}1.0 Ls_{0} + 1.0 Ls_{2} \\sin^{2}{\\left(\\theta \\right)} - 0.5 Ls_{2} - 1.0 Ms_{0} + 2.0 Ms_{2} \\sin^{2}{\\left(\\theta \\right)} - 1.0 Ms_{2} & \\left(- 0.5 Ls_{2} - 1.0 Ms_{2}\\right) \\sin{\\left(2 \\theta \\right)}\\\\\\left(- 0.5 Ls_{2} - 1.0 Ms_{2}\\right) \\sin{\\left(2 \\theta \\right)} & 1.0 Ls_{0} - 1.0 Ls_{2} \\sin^{2}{\\left(\\theta \\right)} + 0.5 Ls_{2} - 1.0 Ms_{0} - 2.0 Ms_{2} \\sin^{2}{\\left(\\theta \\right)} + 1.0 Ms_{2}\\end{matrix}\\right]$"
      ],
      "text/plain": [
       "Matrix([\n",
       "[1.0*Ls0 + 1.0*Ls2*sin(theta)**2 - 0.5*Ls2 - 1.0*Ms0 + 2.0*Ms2*sin(theta)**2 - 1.0*Ms2,                                                     (-0.5*Ls2 - 1.0*Ms2)*sin(2*theta)],\n",
       "[                                                    (-0.5*Ls2 - 1.0*Ms2)*sin(2*theta), 1.0*Ls0 - 1.0*Ls2*sin(theta)**2 + 0.5*Ls2 - 1.0*Ms0 - 2.0*Ms2*sin(theta)**2 + 1.0*Ms2]])"
      ]
     },
     "execution_count": 14,
     "metadata": {},
     "output_type": "execute_result"
    },
    {
     "name": "stdout",
     "output_type": "stream",
     "text": [
      "T_Clark\n"
     ]
    },
    {
     "data": {
      "text/latex": [
       "$\\displaystyle \\left[\\begin{matrix}0.666666666666667 & -0.333333333333333 & -0.333333333333333\\\\0 & 0.333333333333333 \\sqrt{3} & - 0.333333333333333 \\sqrt{3}\\\\0.333333333333333 & 0.333333333333333 & 0.333333333333333\\end{matrix}\\right]$"
      ],
      "text/plain": [
       "Matrix([\n",
       "[0.666666666666667,        -0.333333333333333,         -0.333333333333333],\n",
       "[                0, 0.333333333333333*sqrt(3), -0.333333333333333*sqrt(3)],\n",
       "[0.333333333333333,         0.333333333333333,          0.333333333333333]])"
      ]
     },
     "execution_count": 14,
     "metadata": {},
     "output_type": "execute_result"
    },
    {
     "data": {
      "text/latex": [
       "$\\displaystyle \\left[\\begin{matrix}0.666666666666667 Ls_{0} + 1.33333333333333 Ls_{2} \\sin^{2}{\\left(\\theta \\right)} - 0.666666666666667 Ls_{2} - 0.666666666666667 Ms_{0} + 0.666666666666667 Ms_{2} \\sin^{2}{\\left(\\theta \\right)} - 0.333333333333333 Ms_{2} & - 0.333333333333333 Ls_{0} - 0.333333333333333 Ls_{2} \\sin{\\left(2 \\theta + \\frac{\\pi}{6} \\right)} + 0.333333333333333 Ms_{0} + 0.333333333333333 Ms_{2} \\cos{\\left(2 \\theta \\right)} + 0.666666666666667 Ms_{2} \\cos{\\left(2 \\theta + \\frac{\\pi}{3} \\right)} & - 0.333333333333333 Ls_{0} - 0.333333333333333 Ls_{2} \\cos{\\left(2 \\theta + \\frac{\\pi}{3} \\right)} + 0.333333333333333 Ms_{0} + 0.666666666666667 Ms_{2} \\sin{\\left(2 \\theta + \\frac{\\pi}{6} \\right)} + 0.333333333333333 Ms_{2} \\cos{\\left(2 \\theta \\right)}\\\\- 1.0 Ms_{2} \\sin{\\left(2 \\theta \\right)} & 0.333333333333333 \\sqrt{3} \\left(Ls_{0} + Ls_{2} \\sin{\\left(2 \\theta + \\frac{\\pi}{6} \\right)} - Ms_{0} + Ms_{2} \\cos{\\left(2 \\theta \\right)}\\right) & 0.333333333333333 \\sqrt{3} \\left(- Ls_{0} - Ls_{2} \\cos{\\left(2 \\theta + \\frac{\\pi}{3} \\right)} + Ms_{0} - Ms_{2} \\cos{\\left(2 \\theta \\right)}\\right)\\\\0.333333333333333 Ls_{0} + 0.666666666666667 Ls_{2} \\sin^{2}{\\left(\\theta \\right)} - 0.333333333333333 Ls_{2} + 0.666666666666667 Ms_{0} - 0.666666666666667 Ms_{2} \\sin^{2}{\\left(\\theta \\right)} + 0.333333333333333 Ms_{2} & 0.333333333333333 Ls_{0} + 0.333333333333333 Ls_{2} \\sin{\\left(2 \\theta + \\frac{\\pi}{6} \\right)} + 0.666666666666667 Ms_{0} - 0.333333333333333 Ms_{2} \\sin{\\left(2 \\theta + \\frac{\\pi}{6} \\right)} & 0.333333333333333 Ls_{0} + 0.333333333333333 Ls_{2} \\cos{\\left(2 \\theta + \\frac{\\pi}{3} \\right)} + 0.666666666666667 Ms_{0} - 0.333333333333333 Ms_{2} \\cos{\\left(2 \\theta + \\frac{\\pi}{3} \\right)}\\end{matrix}\\right]$"
      ],
      "text/plain": [
       "Matrix([\n",
       "[ 0.666666666666667*Ls0 + 1.33333333333333*Ls2*sin(theta)**2 - 0.666666666666667*Ls2 - 0.666666666666667*Ms0 + 0.666666666666667*Ms2*sin(theta)**2 - 0.333333333333333*Ms2, -0.333333333333333*Ls0 - 0.333333333333333*Ls2*sin(2*theta + pi/6) + 0.333333333333333*Ms0 + 0.333333333333333*Ms2*cos(2*theta) + 0.666666666666667*Ms2*cos(2*theta + pi/3), -0.333333333333333*Ls0 - 0.333333333333333*Ls2*cos(2*theta + pi/3) + 0.333333333333333*Ms0 + 0.666666666666667*Ms2*sin(2*theta + pi/6) + 0.333333333333333*Ms2*cos(2*theta)],\n",
       "[                                                                                                                                                    -1.0*Ms2*sin(2*theta),                                                                                          0.333333333333333*sqrt(3)*(Ls0 + Ls2*sin(2*theta + pi/6) - Ms0 + Ms2*cos(2*theta)),                                                                                         0.333333333333333*sqrt(3)*(-Ls0 - Ls2*cos(2*theta + pi/3) + Ms0 - Ms2*cos(2*theta))],\n",
       "[0.333333333333333*Ls0 + 0.666666666666667*Ls2*sin(theta)**2 - 0.333333333333333*Ls2 + 0.666666666666667*Ms0 - 0.666666666666667*Ms2*sin(theta)**2 + 0.333333333333333*Ms2,                                       0.333333333333333*Ls0 + 0.333333333333333*Ls2*sin(2*theta + pi/6) + 0.666666666666667*Ms0 - 0.333333333333333*Ms2*sin(2*theta + pi/6),                                       0.333333333333333*Ls0 + 0.333333333333333*Ls2*cos(2*theta + pi/3) + 0.666666666666667*Ms0 - 0.333333333333333*Ms2*cos(2*theta + pi/3)]])"
      ]
     },
     "execution_count": 14,
     "metadata": {},
     "output_type": "execute_result"
    },
    {
     "data": {
      "text/latex": [
       "$\\displaystyle \\left[\\begin{matrix}1.0 & 0\\\\0 & 1.0\\end{matrix}\\right]$"
      ],
      "text/plain": [
       "Matrix([\n",
       "[1.0,   0],\n",
       "[  0, 1.0]])"
      ]
     },
     "execution_count": 14,
     "metadata": {},
     "output_type": "execute_result"
    }
   ],
   "source": [
    "from sympy import symbols, Matrix, simplify, cos, pi, sqrt, pprint, pretty\n",
    "# from sympy import sin, sqrt, simplify, pprint, pretty, MatrixSymbol, Symbol, symbols, solve, trigsimp, expand\n",
    "\n",
    "# 定义符号变量\n",
    "Rs, theta = symbols('Rs theta')\n",
    "Ms0,Ms2, Ls0, Ls2= symbols('Ms0 Ms2 Ls0 Ls2')\n",
    "L_AA, L_BB, L_CC= symbols('L_AA L_BB L_CC')\n",
    "M_AB, M_AC, M_BA, M_BC, M_CA, M_CB= symbols('M_AB M_AC M_BA M_BC M_CA M_CB')\n",
    "i_A, i_B, i_C= symbols('i_A i_B i_C')\n",
    "psi_A, psi_B, psi_C, psi_M = symbols('psi_A psi_B psi_C psi_M')\n",
    "psi_ABC_Matrix = symbols('psi_ABC_Matrix')\n",
    "# current_ABC_Matrix = symbols('current_ABC_Matrix')\n",
    "current_ABC_Matrix=Matrix([i_A, i_B, i_C])\n",
    "print(\"current_ABC_Matrix\")\n",
    "current_ABC_Matrix\n",
    "psi_m_Matrix=psi_M*Matrix([cos(theta), cos(theta-2*pi/3), cos(theta+2*pi/3)])\n",
    "print(\"psi_m_Matrix\")\n",
    "psi_m_Matrix\n",
    "L_AA=Ls0-Ls2*cos(2*theta)\n",
    "L_BB=Ls0-Ls2*cos(2*(theta-2*pi/3))\n",
    "L_CC=Ls0-Ls2*cos(2*(theta+2*pi/3))\n",
    "M_AB=M_BA=Ms0-Ms2*cos(2*(theta+2*pi/3))\n",
    "M_BC=M_CB=Ms0-Ms2*cos(2*theta)\n",
    "M_CA=M_AC=Ms0-Ms2*cos(2*(theta-2*pi/3))\n",
    "M_AB\n",
    "M_BA\n",
    "M_BC\n",
    "M_CB\n",
    "M_CA\n",
    "M_AC\n",
    "inductance_ABC_Matrix=Matrix([\n",
    "    [L_AA, M_AB, M_AC],\n",
    "    [M_BA, L_BB, M_BC],\n",
    "    [M_CA, M_CB, L_CC]])\n",
    "print(\"inductance_ABC_Matrix\")\n",
    "inductance_ABC_Matrix\n",
    "# psi_ABC_Matrix=inductance_ABC_Matrix*current_ABC_Matrix+psi_m_Matrix\n",
    "# print(\"psi_ABC_Matrix\")\n",
    "# simplify( psi_ABC_Matrix)\n",
    "\n",
    "# 等幅值变换矩阵 Clark\n",
    "T_3s_2_2s = (2/3) * Matrix([\n",
    "    [1, -0.5, -0.5],\n",
    "    [0, sqrt(3)/2, -sqrt(3)/2]\n",
    "])\n",
    "print(\"T_3s_2_2s\")\n",
    "T_3s_2_2s\n",
    "# 等幅值变换矩阵 反Clark\n",
    "T_2s_2_3s = Matrix([\n",
    "    [1, 0],\n",
    "    [-0.5, sqrt(3)/2],\n",
    "    [-0.5, -sqrt(3)/2]\n",
    "])\n",
    "# 等幅值变换矩阵 反Clark\n",
    "inductance_alphabeta_Matrix=simplify(T_3s_2_2s*inductance_ABC_Matrix*T_2s_2_3s)\n",
    "inductance_alphabeta_Matrix\n",
    "T_Clark = (2/3) * Matrix([\n",
    "    [1, -0.5, -0.5],\n",
    "    [0, sqrt(3)/2, -sqrt(3)/2],\n",
    "    [1/2, 1/2, 1/2]\n",
    "])\n",
    "print(\"T_Clark\")\n",
    "T_Clark\n",
    "inductance_ABCalphabeta_Matrix=simplify(T_Clark*inductance_ABC_Matrix)\n",
    "inductance_ABCalphabeta_Matrix\n",
    "simplify(T_3s_2_2s*T_2s_2_3s)\n",
    "# # 电感矩阵\n",
    "# Ls = Matrix([\n",
    "#     [Ls0 + Ls2*cos(2*theta), Ms0 + Ls2*cos(2*(theta + 2*pi/3)), Ms0 + Ls2*cos(2*(theta - 2*pi/3))],\n",
    "#     [Ms0 + Ls2*cos(2*(theta + 2*pi/3)), Ls0 + Ls2*cos(2*(theta - 2*pi/3)), Ms0 + Ls2*cos(2*theta)],\n",
    "#     [Ms0 + Ls2*cos(2*(theta - 2*pi/3)), Ms0 + Ls2*cos(2*theta), Ls0 + Ls2*cos(2*(theta + 2*pi/3))]\n",
    "# ])\n",
    "# Ls\n",
    "# 电感矩阵化简\n",
    "# Ls_2s = simplify(T_3s_2_2s * Ls * T_2s_2_3s)\n",
    "# Ls_2s"
   ]
  },
  {
   "cell_type": "code",
   "execution_count": 4,
   "id": "c856e6ed",
   "metadata": {},
   "outputs": [
    {
     "name": "stdout",
     "output_type": "stream",
     "text": [
      "current_ABC_Matrix\n"
     ]
    },
    {
     "data": {
      "text/latex": [
       "$\\displaystyle \\left[\\begin{matrix}i_{A}\\\\i_{B}\\\\i_{C}\\end{matrix}\\right]$"
      ],
      "text/plain": [
       "Matrix([\n",
       "[i_A],\n",
       "[i_B],\n",
       "[i_C]])"
      ]
     },
     "execution_count": 4,
     "metadata": {},
     "output_type": "execute_result"
    },
    {
     "name": "stdout",
     "output_type": "stream",
     "text": [
      "psi_m_Matrix\n"
     ]
    },
    {
     "data": {
      "text/latex": [
       "$\\displaystyle \\left[\\begin{matrix}\\psi_{M} \\cos{\\left(\\theta \\right)}\\\\- \\psi_{M} \\cos{\\left(\\theta + \\frac{\\pi}{3} \\right)}\\\\- \\psi_{M} \\sin{\\left(\\theta + \\frac{\\pi}{6} \\right)}\\end{matrix}\\right]$"
      ],
      "text/plain": [
       "Matrix([\n",
       "[        psi_M*cos(theta)],\n",
       "[-psi_M*cos(theta + pi/3)],\n",
       "[-psi_M*sin(theta + pi/6)]])"
      ]
     },
     "execution_count": 4,
     "metadata": {},
     "output_type": "execute_result"
    },
    {
     "data": {
      "text/latex": [
       "$\\displaystyle Ms_{0} + Ms_{2} \\cos{\\left(2 \\theta + \\frac{\\pi}{3} \\right)}$"
      ],
      "text/plain": [
       "Ms0 + Ms2*cos(2*theta + pi/3)"
      ]
     },
     "execution_count": 4,
     "metadata": {},
     "output_type": "execute_result"
    },
    {
     "data": {
      "text/latex": [
       "$\\displaystyle Ms_{0} + Ms_{2} \\cos{\\left(2 \\theta + \\frac{\\pi}{3} \\right)}$"
      ],
      "text/plain": [
       "Ms0 + Ms2*cos(2*theta + pi/3)"
      ]
     },
     "execution_count": 4,
     "metadata": {},
     "output_type": "execute_result"
    },
    {
     "data": {
      "text/latex": [
       "$\\displaystyle Ms_{0} - Ms_{2} \\cos{\\left(2 \\theta \\right)}$"
      ],
      "text/plain": [
       "Ms0 - Ms2*cos(2*theta)"
      ]
     },
     "execution_count": 4,
     "metadata": {},
     "output_type": "execute_result"
    },
    {
     "data": {
      "text/latex": [
       "$\\displaystyle Ms_{0} - Ms_{2} \\cos{\\left(2 \\theta \\right)}$"
      ],
      "text/plain": [
       "Ms0 - Ms2*cos(2*theta)"
      ]
     },
     "execution_count": 4,
     "metadata": {},
     "output_type": "execute_result"
    },
    {
     "data": {
      "text/latex": [
       "$\\displaystyle Ms_{0} + Ms_{2} \\sin{\\left(2 \\theta + \\frac{\\pi}{6} \\right)}$"
      ],
      "text/plain": [
       "Ms0 + Ms2*sin(2*theta + pi/6)"
      ]
     },
     "execution_count": 4,
     "metadata": {},
     "output_type": "execute_result"
    },
    {
     "data": {
      "text/latex": [
       "$\\displaystyle Ms_{0} + Ms_{2} \\sin{\\left(2 \\theta + \\frac{\\pi}{6} \\right)}$"
      ],
      "text/plain": [
       "Ms0 + Ms2*sin(2*theta + pi/6)"
      ]
     },
     "execution_count": 4,
     "metadata": {},
     "output_type": "execute_result"
    },
    {
     "name": "stdout",
     "output_type": "stream",
     "text": [
      "inductance_ABC_Matrix\n"
     ]
    },
    {
     "data": {
      "text/latex": [
       "$\\displaystyle \\left[\\begin{matrix}Ls_{0} - Ls_{2} \\cos{\\left(2 \\theta \\right)} & Ms_{0} + Ms_{2} \\cos{\\left(2 \\theta + \\frac{\\pi}{3} \\right)} & Ms_{0} + Ms_{2} \\sin{\\left(2 \\theta + \\frac{\\pi}{6} \\right)}\\\\Ms_{0} + Ms_{2} \\cos{\\left(2 \\theta + \\frac{\\pi}{3} \\right)} & Ls_{0} + Ls_{2} \\sin{\\left(2 \\theta + \\frac{\\pi}{6} \\right)} & Ms_{0} - Ms_{2} \\cos{\\left(2 \\theta \\right)}\\\\Ms_{0} + Ms_{2} \\sin{\\left(2 \\theta + \\frac{\\pi}{6} \\right)} & Ms_{0} - Ms_{2} \\cos{\\left(2 \\theta \\right)} & Ls_{0} + Ls_{2} \\cos{\\left(2 \\theta + \\frac{\\pi}{3} \\right)}\\end{matrix}\\right]$"
      ],
      "text/plain": [
       "Matrix([\n",
       "[       Ls0 - Ls2*cos(2*theta), Ms0 + Ms2*cos(2*theta + pi/3), Ms0 + Ms2*sin(2*theta + pi/6)],\n",
       "[Ms0 + Ms2*cos(2*theta + pi/3), Ls0 + Ls2*sin(2*theta + pi/6),        Ms0 - Ms2*cos(2*theta)],\n",
       "[Ms0 + Ms2*sin(2*theta + pi/6),        Ms0 - Ms2*cos(2*theta), Ls0 + Ls2*cos(2*theta + pi/3)]])"
      ]
     },
     "execution_count": 4,
     "metadata": {},
     "output_type": "execute_result"
    },
    {
     "data": {
      "text/latex": [
       "$\\displaystyle \\left[\\begin{matrix}1.0 Ls_{0} + 1.0 Ls_{2} \\sin^{2}{\\left(\\theta \\right)} - 0.5 Ls_{2} - 1.0 Ms_{0} + 2.0 Ms_{2} \\sin^{2}{\\left(\\theta \\right)} - 1.0 Ms_{2} & \\left(- 0.5 Ls_{2} - 1.0 Ms_{2}\\right) \\sin{\\left(2 \\theta \\right)}\\\\\\left(- 0.5 Ls_{2} - 1.0 Ms_{2}\\right) \\sin{\\left(2 \\theta \\right)} & 1.0 Ls_{0} - 1.0 Ls_{2} \\sin^{2}{\\left(\\theta \\right)} + 0.5 Ls_{2} - 1.0 Ms_{0} - 2.0 Ms_{2} \\sin^{2}{\\left(\\theta \\right)} + 1.0 Ms_{2}\\end{matrix}\\right]$"
      ],
      "text/plain": [
       "Matrix([\n",
       "[1.0*Ls0 + 1.0*Ls2*sin(theta)**2 - 0.5*Ls2 - 1.0*Ms0 + 2.0*Ms2*sin(theta)**2 - 1.0*Ms2,                                                     (-0.5*Ls2 - 1.0*Ms2)*sin(2*theta)],\n",
       "[                                                    (-0.5*Ls2 - 1.0*Ms2)*sin(2*theta), 1.0*Ls0 - 1.0*Ls2*sin(theta)**2 + 0.5*Ls2 - 1.0*Ms0 - 2.0*Ms2*sin(theta)**2 + 1.0*Ms2]])"
      ]
     },
     "execution_count": 4,
     "metadata": {},
     "output_type": "execute_result"
    }
   ],
   "source": [
    "from sympy import symbols, Matrix, simplify, cos, pi, sqrt, pprint, pretty\n",
    "# from sympy import sin, sqrt, simplify, pprint, pretty, MatrixSymbol, Symbol, symbols, solve, trigsimp, expand\n",
    "\n",
    "# 定义符号变量\n",
    "Rs, theta = symbols('Rs theta')\n",
    "Ms0,Ms2, Ls0, Ls2= symbols('Ms0 Ms2 Ls0 Ls2')\n",
    "L_AA, L_BB, L_CC= symbols('L_AA L_BB L_CC')\n",
    "M_AB, M_AC, M_BA, M_BC, M_CA, M_CB= symbols('M_AB M_AC M_BA M_BC M_CA M_CB')\n",
    "i_A, i_B, i_C= symbols('i_A i_B i_C')\n",
    "psi_A, psi_B, psi_C, psi_M = symbols('psi_A psi_B psi_C psi_M')\n",
    "psi_ABC_Matrix = symbols('psi_ABC_Matrix')\n",
    "# current_ABC_Matrix = symbols('current_ABC_Matrix')\n",
    "current_ABC_Matrix=Matrix([i_A, i_B, i_C])\n",
    "print(\"current_ABC_Matrix\")\n",
    "current_ABC_Matrix\n",
    "psi_m_Matrix=psi_M*Matrix([cos(theta), cos(theta-2*pi/3), cos(theta+2*pi/3)])\n",
    "print(\"psi_m_Matrix\")\n",
    "psi_m_Matrix\n",
    "L_AA=Ls0-Ls2*cos(2*theta)\n",
    "L_BB=Ls0-Ls2*cos(2*(theta-2*pi/3))\n",
    "L_CC=Ls0-Ls2*cos(2*(theta+2*pi/3))\n",
    "M_AB=M_BA=Ms0-Ms2*cos(2*(theta+2*pi/3))\n",
    "M_BC=M_CB=Ms0-Ms2*cos(2*theta)\n",
    "M_CA=M_AC=Ms0-Ms2*cos(2*(theta-2*pi/3))\n",
    "M_AB\n",
    "M_BA\n",
    "M_BC\n",
    "M_CB\n",
    "M_CA\n",
    "M_AC\n",
    "inductance_ABC_Matrix=Matrix([\n",
    "    [L_AA, M_AB, M_AC],\n",
    "    [M_BA, L_BB, M_BC],\n",
    "    [M_CA, M_CB, L_CC]])\n",
    "print(\"inductance_ABC_Matrix\")\n",
    "inductance_ABC_Matrix\n",
    "# psi_ABC_Matrix=inductance_ABC_Matrix*current_ABC_Matrix+psi_m_Matrix\n",
    "# print(\"psi_ABC_Matrix\")\n",
    "# simplify( psi_ABC_Matrix)\n",
    "\n",
    "# 等幅值变换矩阵 Clark\n",
    "T_3s_2_2s = (2/3) * Matrix([\n",
    "    [1, -0.5, -0.5],\n",
    "    [0, sqrt(3)/2, -sqrt(3)/2]\n",
    "])\n",
    "\n",
    "# 等幅值变换矩阵 反Clark\n",
    "T_2s_2_3s = Matrix([\n",
    "    [1, 0],\n",
    "    [-0.5, sqrt(3)/2],\n",
    "    [-0.5, -sqrt(3)/2]\n",
    "])\n",
    "inductance_alphabeta_Matrix=simplify(T_3s_2_2s*inductance_ABC_Matrix*T_2s_2_3s)\n",
    "inductance_alphabeta_Matrix\n",
    "# # 电感矩阵\n",
    "# Ls = Matrix([\n",
    "#     [Ls0 + Ls2*cos(2*theta), Ms0 + Ls2*cos(2*(theta + 2*pi/3)), Ms0 + Ls2*cos(2*(theta - 2*pi/3))],\n",
    "#     [Ms0 + Ls2*cos(2*(theta + 2*pi/3)), Ls0 + Ls2*cos(2*(theta - 2*pi/3)), Ms0 + Ls2*cos(2*theta)],\n",
    "#     [Ms0 + Ls2*cos(2*(theta - 2*pi/3)), Ms0 + Ls2*cos(2*theta), Ls0 + Ls2*cos(2*(theta + 2*pi/3))]\n",
    "# ])\n",
    "# Ls\n",
    "# 电感矩阵化简\n",
    "# Ls_2s = simplify(T_3s_2_2s * Ls * T_2s_2_3s)\n",
    "# Ls_2s"
   ]
  },
  {
   "cell_type": "code",
   "execution_count": 5,
   "id": "660dbc30",
   "metadata": {},
   "outputs": [
    {
     "data": {
      "text/latex": [
       "$\\displaystyle 1.0 Ls_{0} + 1.0 Ls_{2} \\sin^{2}{\\left(\\theta \\right)} - 0.5 Ls_{2} - 1.0 Ms_{0} + 2.0 Ms_{2} \\sin^{2}{\\left(\\theta \\right)} - 1.0 Ms_{2}$"
      ],
      "text/plain": [
       "1.0*Ls0 + 1.0*Ls2*sin(theta)**2 - 0.5*Ls2 - 1.0*Ms0 + 2.0*Ms2*sin(theta)**2 - 1.0*Ms2"
      ]
     },
     "execution_count": 5,
     "metadata": {},
     "output_type": "execute_result"
    }
   ],
   "source": [
    "inductance_alphabeta_Matrix[0, 0]"
   ]
  },
  {
   "cell_type": "code",
   "execution_count": 6,
   "id": "0e0c1f80",
   "metadata": {},
   "outputs": [
    {
     "data": {
      "text/latex": [
       "$\\displaystyle y{\\left(x \\right)} = C_{1} \\sin{\\left(3 x \\right)} + C_{2} \\cos{\\left(3 x \\right)}$"
      ],
      "text/plain": [
       "Eq(y(x), C1*sin(3*x) + C2*cos(3*x))"
      ]
     },
     "execution_count": 6,
     "metadata": {},
     "output_type": "execute_result"
    }
   ],
   "source": [
    "from sympy import Function, dsolve, Derivative, checkodesol\n",
    "from sympy.abc import x\n",
    "y = Function('y')\n",
    "# Solve the ODE\n",
    "result = dsolve(Derivative(y(x), x, x) + 9*y(x), y(x))\n",
    "result\n"
   ]
  },
  {
   "cell_type": "code",
   "execution_count": 7,
   "id": "f3850313",
   "metadata": {},
   "outputs": [
    {
     "data": {
      "text/plain": [
       "(True, 0)"
      ]
     },
     "execution_count": 7,
     "metadata": {},
     "output_type": "execute_result"
    }
   ],
   "source": [
    "# Check that the solution is correct\n",
    "checkodesol(Derivative(y(x), x, x) + 9*y(x), result)\n"
   ]
  },
  {
   "cell_type": "code",
   "execution_count": 8,
   "id": "d75c845d",
   "metadata": {},
   "outputs": [
    {
     "data": {
      "text/plain": [
       "(9*y(x) + Derivative(y(x), (x, 2)), y(x))"
      ]
     },
     "execution_count": 8,
     "metadata": {},
     "output_type": "execute_result"
    }
   ],
   "source": [
    "Derivative(y(x), x, x) + 9*y(x), y(x)"
   ]
  },
  {
   "cell_type": "code",
   "execution_count": 9,
   "id": "a50cbcb4",
   "metadata": {},
   "outputs": [
    {
     "data": {
      "text/latex": [
       "$\\displaystyle - 2 \\sin{\\left(2 x \\right)}$"
      ],
      "text/plain": [
       "-2*sin(2*x)"
      ]
     },
     "execution_count": 9,
     "metadata": {},
     "output_type": "execute_result"
    }
   ],
   "source": [
    "from sympy import Derivative, Function, symbols, Subs\n",
    "from sympy import symbols, Function, cos, sin, dsolve\n",
    "from sympy.abc import x, y\n",
    "f, g = symbols('f g', cls=Function)\n",
    "Derivative(cos(2*x), x, evaluate=True)"
   ]
  },
  {
   "cell_type": "code",
   "execution_count": 10,
   "id": "2195f9c4",
   "metadata": {},
   "outputs": [
    {
     "data": {
      "text/latex": [
       "$\\displaystyle 2 x$"
      ],
      "text/plain": [
       "2*x"
      ]
     },
     "execution_count": 10,
     "metadata": {},
     "output_type": "execute_result"
    }
   ],
   "source": [
    "from sympy import Derivative, Function, symbols, Subs\n",
    "from sympy.abc import x, y\n",
    "f, g = symbols('f g', cls=Function)\n",
    "Derivative(x**2, x, evaluate=True)"
   ]
  },
  {
   "cell_type": "code",
   "execution_count": 11,
   "id": "f8c076ce",
   "metadata": {},
   "outputs": [
    {
     "data": {
      "text/latex": [
       "$\\displaystyle \\left[\\begin{matrix}1.0 Ls_{0} - 3.0 Ls_{2} \\sin^{2}{\\left(\\theta \\right)} + 1.5 Ls_{2} - 1.0 Ms_{0} & 1.5 Ls_{2} \\sin{\\left(2 \\theta \\right)}\\\\1.5 Ls_{2} \\sin{\\left(2 \\theta \\right)} & 1.0 Ls_{0} + 3.0 Ls_{2} \\sin^{2}{\\left(\\theta \\right)} - 1.5 Ls_{2} - 1.0 Ms_{0}\\end{matrix}\\right]$"
      ],
      "text/plain": [
       "Matrix([\n",
       "[1.0*Ls0 - 3.0*Ls2*sin(theta)**2 + 1.5*Ls2 - 1.0*Ms0,                                1.5*Ls2*sin(2*theta)],\n",
       "[                               1.5*Ls2*sin(2*theta), 1.0*Ls0 + 3.0*Ls2*sin(theta)**2 - 1.5*Ls2 - 1.0*Ms0]])"
      ]
     },
     "execution_count": 11,
     "metadata": {},
     "output_type": "execute_result"
    }
   ],
   "source": [
    "from sympy import symbols, Matrix, simplify, cos, pi, sqrt\n",
    "\n",
    "# 定义符号变量\n",
    "Rs, Ms0, Ls0, Ls2, theta = symbols('Rs Ms0 Ls0 Ls2 theta')\n",
    "\n",
    "# 等幅值变换矩阵 Clark\n",
    "T_3s_2_2s = (2/3) * Matrix([\n",
    "    [1, -0.5, -0.5],\n",
    "    [0, sqrt(3)/2, -sqrt(3)/2]\n",
    "])\n",
    "\n",
    "# 等幅值变换矩阵 反Clark\n",
    "T_2s_2_3s = Matrix([\n",
    "    [1, 0],\n",
    "    [-0.5, sqrt(3)/2],\n",
    "    [-0.5, -sqrt(3)/2]\n",
    "])\n",
    "\n",
    "# 电感矩阵\n",
    "Ls = Matrix([\n",
    "    [Ls0 + Ls2*cos(2*theta), Ms0 + Ls2*cos(2*(theta + 2*pi/3)), Ms0 + Ls2*cos(2*(theta - 2*pi/3))],\n",
    "    [Ms0 + Ls2*cos(2*(theta + 2*pi/3)), Ls0 + Ls2*cos(2*(theta - 2*pi/3)), Ms0 + Ls2*cos(2*theta)],\n",
    "    [Ms0 + Ls2*cos(2*(theta - 2*pi/3)), Ms0 + Ls2*cos(2*theta), Ls0 + Ls2*cos(2*(theta + 2*pi/3))]\n",
    "])\n",
    "\n",
    "# 电感矩阵化简\n",
    "Ls_2s = simplify(T_3s_2_2s * Ls * T_2s_2_3s)\n",
    "Ls_2s"
   ]
  },
  {
   "cell_type": "code",
   "execution_count": 12,
   "id": "354ac693",
   "metadata": {},
   "outputs": [
    {
     "data": {
      "text/latex": [
       "$\\displaystyle \\left[\\begin{matrix}0.666666666666667 & -0.333333333333333 & -0.333333333333333\\\\0 & 0.333333333333333 \\sqrt{3} & - 0.333333333333333 \\sqrt{3}\\end{matrix}\\right]$"
      ],
      "text/plain": [
       "Matrix([\n",
       "[0.666666666666667,        -0.333333333333333,         -0.333333333333333],\n",
       "[                0, 0.333333333333333*sqrt(3), -0.333333333333333*sqrt(3)]])"
      ]
     },
     "execution_count": 12,
     "metadata": {},
     "output_type": "execute_result"
    }
   ],
   "source": [
    "T_3s_2_2s"
   ]
  },
  {
   "cell_type": "code",
   "execution_count": 13,
   "id": "fc227d8a",
   "metadata": {},
   "outputs": [
    {
     "data": {
      "text/latex": [
       "$\\displaystyle \\left[\\begin{matrix}1.0 Ls_{0} - 3.0 Ls_{2} \\sin^{2}{\\left(\\theta \\right)} + 1.5 Ls_{2} - 1.0 Ms_{0} & 1.5 Ls_{2} \\sin{\\left(2 \\theta \\right)}\\\\1.5 Ls_{2} \\sin{\\left(2 \\theta \\right)} & 1.0 Ls_{0} + 3.0 Ls_{2} \\sin^{2}{\\left(\\theta \\right)} - 1.5 Ls_{2} - 1.0 Ms_{0}\\end{matrix}\\right]$"
      ],
      "text/plain": [
       "Matrix([\n",
       "[1.0*Ls0 - 3.0*Ls2*sin(theta)**2 + 1.5*Ls2 - 1.0*Ms0,                                1.5*Ls2*sin(2*theta)],\n",
       "[                               1.5*Ls2*sin(2*theta), 1.0*Ls0 + 3.0*Ls2*sin(theta)**2 - 1.5*Ls2 - 1.0*Ms0]])"
      ]
     },
     "execution_count": 13,
     "metadata": {},
     "output_type": "execute_result"
    }
   ],
   "source": [
    "from sympy import symbols, Matrix, simplify, cos, pi, sqrt\n",
    "\n",
    "# 定义符号变量\n",
    "Rs, Ms0, Ls0, Ls2, theta = symbols('Rs Ms0 Ls0 Ls2 theta')\n",
    "\n",
    "# 等幅值变换矩阵 Clark\n",
    "T_3s_2_2s = (2/3) * Matrix([\n",
    "    [1, -0.5, -0.5],\n",
    "    [0, sqrt(3)/2, -sqrt(3)/2]\n",
    "])\n",
    "\n",
    "# 等幅值变换矩阵 反Clark\n",
    "T_2s_2_3s = Matrix([\n",
    "    [1, 0],\n",
    "    [-0.5, sqrt(3)/2],\n",
    "    [-0.5, -sqrt(3)/2]\n",
    "])\n",
    "\n",
    "# 电感矩阵\n",
    "Ls = Matrix([\n",
    "    [Ls0 + Ls2*cos(2*theta), Ms0 + Ls2*cos(2*(theta + 2*pi/3)), Ms0 + Ls2*cos(2*(theta - 2*pi/3))],\n",
    "    [Ms0 + Ls2*cos(2*(theta + 2*pi/3)), Ls0 + Ls2*cos(2*(theta - 2*pi/3)), Ms0 + Ls2*cos(2*theta)],\n",
    "    [Ms0 + Ls2*cos(2*(theta - 2*pi/3)), Ms0 + Ls2*cos(2*theta), Ls0 + Ls2*cos(2*(theta + 2*pi/3))]\n",
    "])\n",
    "\n",
    "# 电感矩阵化简\n",
    "Ls_2s = simplify(T_3s_2_2s * Ls * T_2s_2_3s)\n",
    "Ls_2s"
   ]
  }
 ],
 "metadata": {
  "kernelspec": {
   "display_name": "Python 3",
   "language": "python",
   "name": "python3"
  },
  "language_info": {
   "codemirror_mode": {
    "name": "ipython",
    "version": 3
   },
   "file_extension": ".py",
   "mimetype": "text/x-python",
   "name": "python",
   "nbconvert_exporter": "python",
   "pygments_lexer": "ipython3",
   "version": "3.12.1"
  }
 },
 "nbformat": 4,
 "nbformat_minor": 5
}
