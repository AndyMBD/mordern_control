{
 "cells": [
  {
   "cell_type": "markdown",
   "metadata": {},
   "source": [
    "# PMSM Motor"
   ]
  },
  {
   "cell_type": "markdown",
   "metadata": {},
   "source": [
    "* Controlled Three-Phase Drives Prof. Dr.-Ing. Joachim Böcker\n",
    "* Paderborn University Power Electronics and Electrical Drives\n",
    "* Lecture Notes Last Update 2016-01-26"
   ]
  },
  {
   "cell_type": "markdown",
   "metadata": {},
   "source": [
    "## $\\alpha$ $\\beta$  axis\n",
    "\n",
    "\n",
    "\n"
   ]
  },
  {
   "cell_type": "markdown",
   "metadata": {},
   "source": [
    "### $\\alpha$ $\\beta$ Flux"
   ]
  },
  {
   "cell_type": "markdown",
   "metadata": {},
   "source": [
    "$\n",
    "\\Psi_{p}=2*N*r*l*b_p \\\\\n",
    "$\\\n",
    "$\n",
    "\\Psi_{p\\alpha }=\\Psi_{p} *\\cos(\\omega_{e}t ) \\\\\n",
    "\\Psi_{p\\beta } =\\Psi_{p} *\\sin(\\omega_{e}t ) \\\\\n",
    "$\\\n",
    "$\n",
    "\\Psi_{s\\alpha }=L_s*I_{\\alpha }+\\Psi_{p\\alpha } \\\\\n",
    "\\Psi_{s\\beta }=L_s*I_{\\beta }+\\Psi_{p\\beta }\\\\\n",
    "$\\\n",
    "$\n",
    "\\Psi_{s\\alpha }=L_s*I_{\\alpha }+\\Psi_{p} *\\cos(\\omega_{e}t ) \\\\\n",
    "\\Psi_{s\\beta } =L_s*I_{\\beta }+\\Psi_{p} *\\sin(\\omega_{e}t ) \\\\\n",
    "$"
   ]
  },
  {
   "cell_type": "markdown",
   "metadata": {},
   "source": [
    "### $\\alpha$ $\\beta$ Voltage"
   ]
  },
  {
   "cell_type": "markdown",
   "metadata": {},
   "source": [
    "$\n",
    "U_{\\alpha } =R_{s}*I_{\\alpha }+\\frac{\\mathrm{d} \\Psi_{s\\alpha }}{\\mathrm{d} t} \\\\\n",
    "U_{\\beta } =R_{s}*I_{\\beta }+\\frac{\\mathrm{d} \\Psi_{s\\beta }}{\\mathrm{d} t} \\\\\n",
    "$\\\n",
    "$\n",
    "U_{\\alpha } =R_{s}*I_{\\alpha }+L_{s}*\\frac{\\mathrm{d} I_{\\alpha }}{\\mathrm{d} t} -\\Psi_{p} \\omega_{e} *\\sin (\\omega_{e}t ) \\\\\n",
    "U_{\\beta  } =R_{s}*I_{\\beta  }+L_{s}*\\frac{\\mathrm{d} I_{\\beta  }}{\\mathrm{d} t} +\\Psi_{p} \\omega_{e} *\\cos(\\omega_{e}t ) \\\\\n",
    "$\\\n",
    "$\n",
    "\\theta=\\omega_{e}t \\\\\n",
    "$\\\n",
    "$\n",
    "U_{\\alpha } =R_{s}*I_{\\alpha }+L_{s}*\\frac{\\mathrm{d} I_{\\alpha }}{\\mathrm{d} t} -\\Psi_{p} \\omega_{e} *\\sin (\\theta ) \\\\\n",
    "U_{\\beta  } =R_{s}*I_{\\beta  }+L_{s}*\\frac{\\mathrm{d} I_{\\beta  }}{\\mathrm{d} t} +\\Psi_{p} \\omega_{e} *\\cos(\\theta ) \\\\\n",
    "$\n"
   ]
  },
  {
   "cell_type": "markdown",
   "metadata": {},
   "source": [
    "<img src=\"./Voltage_alpha_beta.png\">"
   ]
  },
  {
   "cell_type": "markdown",
   "metadata": {},
   "source": [
    "$\n",
    "e_{\\alpha } = -\\Psi_{p} \\omega_{e} *\\sin (\\theta ) \\\\\n",
    "e_{\\beta  } =\\Psi_{p} \\omega_{e} *\\cos(\\theta ) \\\\\n",
    "$\\\n",
    "$\n",
    "U_{\\alpha}=R_si_s+L_s\\frac{di_{\\alpha}}{dt}+e_{\\alpha } \\\\\n",
    "U_{\\beta}=R_si_{\\beta}+L_s\\frac{di_{\\beta}}{dt}+e_{\\beta  } \\\\\n",
    "$\\\n",
    "$\n",
    "\\frac{di_{\\alpha}}{dt}=-\\frac{R}{L}i_{\\alpha}-\\frac{1}{L}e_{\\alpha }+\\frac{1}{L}U_{\\alpha} \\\\\n",
    "\\frac{di_{\\beta}}{dt}=-\\frac{R}{L}i_{\\beta}-\\frac{1}{L}e_{\\beta }+\\frac{1}{L}U_{\\beta} \\\\\n",
    "$"
   ]
  },
  {
   "cell_type": "markdown",
   "metadata": {},
   "source": [
    "### $\\alpha$ $\\beta$ Power"
   ]
  },
  {
   "cell_type": "markdown",
   "metadata": {},
   "source": [
    "$\n",
    "U_{\\alpha}*I_{\\alpha} =R_{s}*I_{\\alpha }^2+L_{s}*I_{\\alpha }*\\frac{\\mathrm{d} I_{\\alpha }}{\\mathrm{d} t} -I_{\\alpha}*\\Psi_{p} \\omega_{e} *\\sin (\\omega_{e}t ) \\\\\n",
    "U_{\\beta}*I_{\\beta } =R_{s}*I_{\\beta  }^2+L_{s}*I_{\\beta }*\\frac{\\mathrm{d} I_{\\beta  }}{\\mathrm{d} t} +I_{\\beta }*\\Psi_{p} \\omega_{e} *\\cos(\\omega_{e}t ) \\\\\n",
    "$\n"
   ]
  },
  {
   "cell_type": "markdown",
   "metadata": {},
   "source": [
    "$\n",
    "P_{el} =P_{V} +\\frac{\\mathrm{d} E_{mag }}{\\mathrm{d} t} +P_{me} \\\\\n",
    "P_{el} =U_{\\alpha}*I_{\\alpha }+U_{\\beta}*I_{\\beta } \\\\\n",
    "P_{V} =R_{s}*I_{\\alpha }^2+R_{s}*I_{\\beta  }^2 \\\\\n",
    "P_{me} =\\omega_{e}*T=-I_{\\alpha}*\\Psi_{p} \\omega_{e} *\\sin (\\theta ) + I_{\\beta }*\\Psi_{p} \\omega_{e} *\\cos(\\theta ) \\\\\n",
    "T =-I_{\\alpha}*\\Psi_{p}  *\\sin (\\theta ) + I_{\\beta }*\\Psi_{p}  *\\cos(\\theta) \\\\\n",
    "T =-I_{\\alpha}*\\Psi_{p\\beta} + I_{\\beta }*\\Psi_{p\\alpha} \\\\\n",
    "$\n"
   ]
  },
  {
   "cell_type": "markdown",
   "metadata": {},
   "source": [
    "<img src=\"./Torque_alpha_beta.png\">"
   ]
  },
  {
   "cell_type": "markdown",
   "metadata": {},
   "source": [
    "* $\\Psi_{\\alpha, \\beta}$    --- flux linkage\n",
    "* $i_{\\alpha, \\beta}$       ---current\n",
    "* $e_{\\alpha, \\beta}$       ---electromotive force\n",
    "* $U_{\\alpha, \\beta}$       --- voltage for each phase in the stator fixed reference frame\n",
    "* $R$ and $L$               --- phase resistance and inductance\n",
    "* $\\Psi_{p} $               ---magnetic flux\n",
    "* $\\omega_{e} $             --- electric angular velocity\n",
    "* $\\theta{e} $              ---the rotor position(in electrical angle) of the PMSM\n",
    "* $p $                     ---pole pair number \n"
   ]
  },
  {
   "cell_type": "markdown",
   "metadata": {},
   "source": [
    "## D Q  axis\n",
    "\n",
    "\n",
    "\n"
   ]
  },
  {
   "cell_type": "markdown",
   "metadata": {},
   "source": [
    "### D Q Flux"
   ]
  },
  {
   "cell_type": "markdown",
   "metadata": {},
   "source": [
    "$\n",
    "\\Psi_{d}=L_{d}*I_{d}+\\Psi_{p} \\\\\n",
    "\\Psi_{q}=L_{q}*I_{q} \\\\\n",
    "$"
   ]
  },
  {
   "cell_type": "markdown",
   "metadata": {},
   "source": [
    "$\n",
    "\\frac{\\mathrm{d} \\Psi_{d }}{\\mathrm{d} t}=L_{d}*\\frac{\\mathrm{d} I_{d }}{\\mathrm{d} t}\\\\\n",
    "\\frac{\\mathrm{d} \\Psi_{q }}{\\mathrm{d} t}=L_{q}*\\frac{\\mathrm{d} I_{q }}{\\mathrm{d} t}\\\\\n",
    "$"
   ]
  },
  {
   "cell_type": "markdown",
   "metadata": {},
   "source": [
    "### D Q Voltage"
   ]
  },
  {
   "cell_type": "markdown",
   "metadata": {},
   "source": [
    "$\n",
    "U_d =R_{s}*I_d+\\frac{\\mathrm{d} \\Psi_{d }}{\\mathrm{d} t} - \\omega_{e} *\\Psi_{q } \\\\\n",
    "U_q =R_{s}*I_q+\\frac{\\mathrm{d} \\Psi_{q }}{\\mathrm{d} t} + \\omega_{e} *\\Psi_{d }\\\\\n",
    "$"
   ]
  },
  {
   "cell_type": "markdown",
   "metadata": {},
   "source": [
    "$\n",
    "U_d =R_{s}*I_d+L_{d}*\\frac{\\mathrm{d} I_{d }}{\\mathrm{d} t} - \\omega_{e} *L_{q}*I_{q} \\\\\n",
    "U_q =R_{s}*I_q+L_{q}*\\frac{\\mathrm{d} I_{q }}{\\mathrm{d} t} + \\omega_{e} *(L_{d}*I_{d}+\\Psi_{p})\\\\\n",
    "$"
   ]
  },
  {
   "cell_type": "markdown",
   "metadata": {},
   "source": [
    "<img src=\"./Voltage_d_q.png\">"
   ]
  },
  {
   "cell_type": "markdown",
   "metadata": {},
   "source": [
    "### Torque\n",
    "\n",
    "\n",
    "\n"
   ]
  },
  {
   "cell_type": "markdown",
   "metadata": {},
   "source": [
    "$\n",
    "T =\\frac{3}{2}p*(\\Psi_{p\\alpha}I_{\\beta} -\\Psi_{p\\beta}I_{\\alpha})=\\frac{3}{2}p*\\Psi_{p}I_{sq}  \\\\\n",
    "$"
   ]
  },
  {
   "cell_type": "markdown",
   "metadata": {},
   "source": [
    "## Moto Paramter"
   ]
  },
  {
   "cell_type": "markdown",
   "metadata": {},
   "source": [
    "* https://ww2.mathworks.cn/help/sps/ug/parameterize-a-permanent-magnet-synchronous-motor.html;jsessionid=45047ed607e68a4d1c3d8fde02bb"
   ]
  },
  {
   "cell_type": "markdown",
   "metadata": {},
   "source": [
    "### Voltage Constant"
   ]
  },
  {
   "cell_type": "markdown",
   "metadata": {},
   "source": [
    "$\n",
    "K_{e} =\\frac{V_{a\\_pk}}{\\omega_m}  \\\\\n",
    "K_{e} =\\frac{V_{a\\_pk}}{2*\\pi*f_m}=\\frac{V_{a\\_pk}}{2*\\pi*\\frac{f_e}{N}}=\\frac{V_{a\\_pk}*N*T_e}{2*\\pi}  \\\\\n",
    "$"
   ]
  },
  {
   "cell_type": "markdown",
   "metadata": {},
   "source": [
    "### Torque Constant"
   ]
  },
  {
   "cell_type": "markdown",
   "metadata": {},
   "source": [
    "$\n",
    "K_{t} =\\frac{2}{3}*\\frac{T}{I_{a\\_pk}}  \\\\\n",
    "$"
   ]
  },
  {
   "cell_type": "markdown",
   "metadata": {},
   "source": [
    "### Flux linkage"
   ]
  },
  {
   "cell_type": "markdown",
   "metadata": {},
   "source": [
    "$\n",
    "K_{e} =K_{t}=N*\\Psi_{m} \\\\\n",
    "$"
   ]
  },
  {
   "cell_type": "markdown",
   "metadata": {},
   "source": [
    "## Clark Park Transfer\n",
    "\n",
    "\n",
    "\n"
   ]
  },
  {
   "cell_type": "markdown",
   "metadata": {},
   "source": [
    "### Clark Transfer"
   ]
  },
  {
   "cell_type": "markdown",
   "metadata": {},
   "source": [
    "#### Equal Amplitude Transfer"
   ]
  },
  {
   "cell_type": "markdown",
   "metadata": {},
   "source": [
    "\n",
    "\n",
    "$\n",
    "    \\begin{bmatrix}\n",
    "        I\\alpha\\\\\n",
    "        I\\beta \\\\\n",
    "    \\end{bmatrix}\n",
    "    =\n",
    "    \\frac{2}{3}*\n",
    "    \\begin{bmatrix}\n",
    "        1&0 &0 &\\\\\n",
    "        0& \\frac{\\sqrt{3}}{2}  &-\\frac{\\sqrt{3}}{2} \\\\\n",
    "    \\end{bmatrix}*\n",
    "    \\begin{bmatrix}\n",
    "        I_A\\\\\n",
    "        I_B \\\\\n",
    "        I_C\\\\\n",
    "    \\end{bmatrix}\n",
    "$ "
   ]
  },
  {
   "cell_type": "markdown",
   "metadata": {},
   "source": [
    "$\n",
    "    T_{3\\_2}\n",
    "    =\n",
    "    \\begin{bmatrix}\n",
    "        1&0 &0 &\\\\\n",
    "        0& \\frac{\\sqrt{3}}{2}  &-\\frac{\\sqrt{3}}{2} \\\\\n",
    "    \\end{bmatrix}\n",
    "$"
   ]
  },
  {
   "cell_type": "markdown",
   "metadata": {},
   "source": [
    "$\n",
    "    T_{3\\_2}^T\n",
    "    =\n",
    "    \\frac{3}{2}*\n",
    "    \\begin{bmatrix}\n",
    "        1&0  \\\\\n",
    "        0& \\frac{\\sqrt{3}}{2} \\\\\n",
    "        0&-\\frac{\\sqrt{3}}{2} \\\\\n",
    "    \\end{bmatrix}\n",
    "$"
   ]
  },
  {
   "cell_type": "markdown",
   "metadata": {},
   "source": [
    "#### Equal Power Transfer"
   ]
  },
  {
   "cell_type": "markdown",
   "metadata": {},
   "source": [
    "\n",
    "\n",
    "$\n",
    "    \\begin{bmatrix}\n",
    "        I\\alpha\\\\\n",
    "        I\\beta \\\\\n",
    "    \\end{bmatrix}\n",
    "    =\n",
    "    \\sqrt\\frac{2}{3}*\n",
    "    \\begin{bmatrix}\n",
    "        1&0 &0 &\\\\\n",
    "        0& \\frac{\\sqrt{3}}{2}  &-\\frac{\\sqrt{3}}{2} \\\\\n",
    "    \\end{bmatrix}*\n",
    "    \\begin{bmatrix}\n",
    "        I_A\\\\\n",
    "        I_B \\\\\n",
    "        I_C\\\\\n",
    "    \\end{bmatrix}\n",
    "$\n"
   ]
  },
  {
   "cell_type": "markdown",
   "metadata": {},
   "source": [
    "$\n",
    "    T_{3\\_2}\n",
    "    =\n",
    "    \\sqrt\\frac{2}{3}*\n",
    "    \\begin{bmatrix}\n",
    "        1&0 &0 &\\\\\n",
    "        0& \\frac{\\sqrt{3}}{2}  &-\\frac{\\sqrt{3}}{2} \\\\\n",
    "    \\end{bmatrix}    \n",
    "$"
   ]
  },
  {
   "cell_type": "markdown",
   "metadata": {},
   "source": [
    "$\n",
    "    T_{3\\_2}^T\n",
    "    =\n",
    "    \\sqrt\\frac{3}{2}*\n",
    "    \\begin{bmatrix}\n",
    "        1&0\\\\\n",
    "        0& \\frac{\\sqrt{3}}{2} \\\\\n",
    "        0&-\\frac{\\sqrt{3}}{2} \\\\\n",
    "    \\end{bmatrix}    \n",
    "$"
   ]
  },
  {
   "cell_type": "code",
   "execution_count": 41,
   "metadata": {},
   "outputs": [
    {
     "name": "stdout",
     "output_type": "stream",
     "text": [
      "a = \n",
      " [[ 1.         0.         0.       ]\n",
      " [ 0.         0.8660254 -0.8660254]]\n",
      "b = \n",
      " [[ 1.         0.       ]\n",
      " [ 0.         0.8660254]\n",
      " [ 0.        -0.8660254]]\n"
     ]
    }
   ],
   "source": [
    "import numpy as np\n",
    "a = np.array([[1,0,0],[0,np.sqrt(3)/2,-np.sqrt(3)/2]])\n",
    "print(\"a = \\n\",a)\n",
    "b=np.transpose(a)\n",
    "print(\"b = \\n\",b)"
   ]
  },
  {
   "cell_type": "markdown",
   "metadata": {},
   "source": [
    "### Inverse Clark Transfer"
   ]
  },
  {
   "cell_type": "markdown",
   "metadata": {},
   "source": [
    "#### Equal Amplitude Transfer"
   ]
  },
  {
   "cell_type": "markdown",
   "metadata": {},
   "source": [
    "\n",
    "\n",
    "$\n",
    "\\begin{bmatrix}\n",
    "        I_A\\\\\n",
    "        I_B \\\\\n",
    "        I_C\\\\\n",
    "\\end{bmatrix}\n",
    "    =\n",
    "T_{2\\_3}*\n",
    "\\begin{bmatrix}\n",
    "        I\\alpha\\\\\n",
    "        I\\beta \\\\\n",
    "\\end{bmatrix}  \n",
    "$ "
   ]
  },
  {
   "cell_type": "markdown",
   "metadata": {},
   "source": [
    "$\n",
    "T_{2\\_3}   = T_{3\\_2}^T\n",
    "$ "
   ]
  },
  {
   "cell_type": "markdown",
   "metadata": {},
   "source": [
    "$\n",
    "\\begin{bmatrix}\n",
    "        I_A\\\\\n",
    "        I_B \\\\\n",
    "        I_C\\\\\n",
    "\\end{bmatrix}\n",
    "    =\n",
    "\\frac{3}{2}*\n",
    "    \\begin{bmatrix}\n",
    "        1&0  \\\\\n",
    "        0& \\frac{\\sqrt{3}}{2} \\\\\n",
    "        0&-\\frac{\\sqrt{3}}{2} \\\\\n",
    "    \\end{bmatrix}*\n",
    "\\begin{bmatrix}\n",
    "        I\\alpha\\\\\n",
    "        I\\beta \\\\\n",
    "\\end{bmatrix}  \n",
    "$ "
   ]
  },
  {
   "cell_type": "markdown",
   "metadata": {},
   "source": [
    "#### Equal Power Transfer"
   ]
  },
  {
   "cell_type": "markdown",
   "metadata": {},
   "source": [
    "\n",
    "\n",
    "$\n",
    "\\begin{bmatrix}\n",
    "        I_A\\\\\n",
    "        I_B \\\\\n",
    "        I_C\\\\\n",
    "\\end{bmatrix}\n",
    "    =\n",
    "T_{2\\_3}*\n",
    "\\begin{bmatrix}\n",
    "        I\\alpha\\\\\n",
    "        I\\beta \\\\\n",
    "\\end{bmatrix}  \n",
    "$ "
   ]
  },
  {
   "cell_type": "markdown",
   "metadata": {},
   "source": [
    "$\n",
    "T_{2\\_3}   = T_{3\\_2}^T\n",
    "$ "
   ]
  },
  {
   "cell_type": "markdown",
   "metadata": {},
   "source": [
    "$\n",
    "\\begin{bmatrix}\n",
    "        I_A\\\\\n",
    "        I_B \\\\\n",
    "        I_C\\\\\n",
    "\\end{bmatrix}\n",
    "    =\n",
    "\\sqrt\\frac{3}{2}*\n",
    "    \\begin{bmatrix}\n",
    "        1&0  \\\\\n",
    "        0& \\frac{\\sqrt{3}}{2} \\\\\n",
    "        0&-\\frac{\\sqrt{3}}{2} \\\\\n",
    "    \\end{bmatrix}*\n",
    "\\begin{bmatrix}\n",
    "        I\\alpha\\\\\n",
    "        I\\beta \\\\\n",
    "\\end{bmatrix}  \n",
    "$ "
   ]
  },
  {
   "cell_type": "markdown",
   "metadata": {},
   "source": [
    "### Park Transfer"
   ]
  },
  {
   "cell_type": "markdown",
   "metadata": {},
   "source": [
    "$\n",
    "    \\begin{bmatrix}\n",
    "        I_d \\\\\n",
    "        I_q \\\\\n",
    "    \\end{bmatrix}\n",
    "    =\n",
    "    \\begin{bmatrix}\n",
    "        cos(\\theta)  &sin(\\theta)\\\\\n",
    "        -sin(\\theta) &cos(\\theta)\\\\\n",
    "    \\end{bmatrix}*\n",
    "    \\begin{bmatrix}\n",
    "        I_\\alpha\\\\\n",
    "        I_\\beta \\\\\n",
    "    \\end{bmatrix}\n",
    "$ "
   ]
  },
  {
   "cell_type": "markdown",
   "metadata": {},
   "source": [
    "### Inverse Park Transfer"
   ]
  },
  {
   "cell_type": "markdown",
   "metadata": {},
   "source": [
    "$\n",
    "    \\begin{bmatrix}\n",
    "        I_\\alpha\\\\\n",
    "        I_\\beta \\\\\n",
    "    \\end{bmatrix}\n",
    "    =\n",
    "    \\begin{bmatrix}\n",
    "        cos(\\theta)  &-sin(\\theta)\\\\\n",
    "        sin(\\theta) &cos(\\theta)\\\\\n",
    "    \\end{bmatrix}*\n",
    "    \\begin{bmatrix}\n",
    "        I_d\\\\\n",
    "        I_q\\\\\n",
    "    \\end{bmatrix}\n",
    "$ "
   ]
  },
  {
   "cell_type": "markdown",
   "metadata": {},
   "source": [
    "$$\n",
    "\\begin{aligned}\n",
    "&y=x+b\\\\\n",
    "&y=x^2+b\\\\\n",
    "\\end{aligned}\n",
    "$$"
   ]
  },
  {
   "cell_type": "markdown",
   "metadata": {},
   "source": [
    "$$\n",
    "sign(x)=\n",
    "\\begin{cases}\n",
    "1,&x>0 \\\\ \n",
    "0,&x=0 \\\\\n",
    "-1,&x<0\n",
    "\\end{cases}\n",
    "$$\n"
   ]
  },
  {
   "cell_type": "markdown",
   "metadata": {},
   "source": [
    "$$\n",
    "\\begin{equation}\n",
    "\\begin{bmatrix}\n",
    "    a & b \\cr\n",
    "    c & d\n",
    "\\end{bmatrix}\n",
    "=\n",
    "\\begin{bmatrix}\n",
    "    a & b \\cr\n",
    "    c & d\n",
    "\\end{bmatrix}\n",
    "\\end{equation}\n",
    "$$"
   ]
  },
  {
   "cell_type": "markdown",
   "metadata": {},
   "source": []
  },
  {
   "cell_type": "markdown",
   "metadata": {},
   "source": [
    "$$\n",
    "\\begin{equation}\n",
    "\\begin{bmatrix}\n",
    "U\\alpha\\\\\n",
    "U\\beta \\\\\n",
    "\\end{bmatrix}\n",
    "=\n",
    "\\frac{3}{2}\n",
    "\\begin{bmatrix}\n",
    "1 & 0                & 0 \\\\\n",
    "0 &\\frac{\\sqrt3}{2}  &-\\frac{\\sqrt3}{2}\n",
    "\\end{bmatrix}\n",
    "\\begin{bmatrix}\n",
    "U_a\\\\\n",
    "U_b\\\\\n",
    "U_c\\\\\n",
    "\\end{bmatrix}\n",
    "\\end{equation}\n",
    "$$"
   ]
  },
  {
   "cell_type": "markdown",
   "metadata": {},
   "source": [
    "\\begin{equation}\n",
    "\\left\\{\n",
    "\\begin{array}{c}\n",
    "    a_{11}x_1+a_{12}x_2+\\cdots+a_{1n}x_n=b_1 \\\\\n",
    "    a_{21}x_1+a_{22}x_2+\\cdots+a_{2n}x_n=b_2 \\\\\n",
    "    \\cdots \\\\\n",
    "    a_{n1}x_1+a_{n2}x_2+\\cdots+a_{nn}x_n=b_n\n",
    "\\end{array}\n",
    "\\right.\n",
    "\\end{equation}\n"
   ]
  },
  {
   "cell_type": "markdown",
   "metadata": {},
   "source": [
    "$$A = \n",
    "    \\begin{pmatrix}\n",
    "        a_{11} & a_{12} & \\cdots & a_{1n}\\\\\n",
    "        a_{21} & a_{22} & \\cdots & a_{2n}\\\\\n",
    "        \\vdots & \\vdots & \\ddots & \\vdots\\\\\n",
    "        a_{n1} & a_{n2} & \\cdots & a_{nn}\\\\\n",
    "    \\end{pmatrix}$$"
   ]
  },
  {
   "cell_type": "markdown",
   "metadata": {},
   "source": [
    "​$\n",
    "\\begin{equation}\n",
    "(a) Sparsity  : \\hat{\\beta}_{nA^{C}}= 0\n",
    "\\end{equation}\n",
    "$ \n"
   ]
  },
  {
   "cell_type": "markdown",
   "metadata": {},
   "source": [
    "$\n",
    " \\hat{\\beta}_{nA^{C}}= 0\n",
    "$"
   ]
  },
  {
   "cell_type": "markdown",
   "metadata": {},
   "source": [
    "<p align=\"left\">诶嘿1</p><p align=\"right\">诶嘿3</p>"
   ]
  },
  {
   "cell_type": "markdown",
   "metadata": {},
   "source": [
    "\\begin{aligned}\n",
    "&KPI=(N+S)W \\\\\n",
    "&PI=N+S \\\\\n",
    "&I=W\n",
    "\\end{aligned}\n"
   ]
  },
  {
   "cell_type": "markdown",
   "metadata": {},
   "source": [
    "\\begin{aligned}\n",
    "KPI&=(N+S)W \\\\\n",
    "&=NW+SW\n",
    "\\end{aligned}\n"
   ]
  },
  {
   "cell_type": "markdown",
   "metadata": {},
   "source": [
    "\\begin{aligned}\n",
    " KPI&=(N+S)W\\\\\n",
    "PI&=N+S \\\\\n",
    "I&=W\n",
    "\\end{aligned}\n"
   ]
  }
 ],
 "metadata": {
  "kernelspec": {
   "display_name": "Python 3 (ipykernel)",
   "language": "python",
   "name": "python3"
  },
  "language_info": {
   "codemirror_mode": {
    "name": "ipython",
    "version": 3
   },
   "file_extension": ".py",
   "mimetype": "text/x-python",
   "name": "python",
   "nbconvert_exporter": "python",
   "pygments_lexer": "ipython3",
   "version": "3.10.5"
  },
  "vscode": {
   "interpreter": {
    "hash": "08436e1dada134e6f143ad49e4eee140dcced4b0aa01ee837effa9e93d0a4d35"
   }
  }
 },
 "nbformat": 4,
 "nbformat_minor": 2
}
