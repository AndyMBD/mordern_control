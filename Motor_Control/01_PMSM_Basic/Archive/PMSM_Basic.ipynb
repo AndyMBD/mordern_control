{
 "cells": [
  {
   "cell_type": "markdown",
   "metadata": {},
   "source": [
    "# PMSM Motor"
   ]
  },
  {
   "attachments": {},
   "cell_type": "markdown",
   "metadata": {},
   "source": [
    "* Controlled Three-Phase Drives Prof. Dr.-Ing. Joachim Böcker\n",
    "* Paderborn University Power Electronics and Electrical Drives\n",
    "* Lecture Notes Last Update 2016-01-26\n",
    "* New method of direct reactive energy and torque control for permanent magnet synchronous motor \n",
    "  * M. JANASZEK\n",
    "  * BULLETIN OF THE POLISH ACADEMY OF SCIENCES TECHNICAL SCIENCES\n",
    "  * Vol. 54, No. 3, 2006\n",
    "* 永磁同步电机高效V_F控制方法研究 朱明东\n",
    "  * ***Active current*** ***deactive Current**** Page 26"
   ]
  },
  {
   "cell_type": "markdown",
   "metadata": {},
   "source": [
    "## $\\alpha$ $\\beta$  axis\n",
    "\n",
    "\n",
    "\n"
   ]
  },
  {
   "cell_type": "markdown",
   "metadata": {},
   "source": [
    "### $\\alpha$ $\\beta$ Flux"
   ]
  },
  {
   "cell_type": "markdown",
   "metadata": {},
   "source": [
    "$\n",
    "\\Psi_{p}=2*N*r*l*b_p \\\\\n",
    "$\\\n",
    "$\n",
    "\\Psi_{p\\alpha }=\\Psi_{p} *\\cos(\\omega_{e}t ) \\\\\n",
    "\\Psi_{p\\beta } =\\Psi_{p} *\\sin(\\omega_{e}t ) \\\\\n",
    "$\\\n",
    "$\n",
    "\\Psi_{s\\alpha }=L_s*I_{\\alpha }+\\Psi_{p\\alpha } \\\\\n",
    "\\Psi_{s\\beta }=L_s*I_{\\beta }+\\Psi_{p\\beta }\\\\\n",
    "$\\\n",
    "$\n",
    "\\Psi_{s\\alpha }=L_s*I_{\\alpha }+\\Psi_{p} *\\cos(\\omega_{e}t ) \\\\\n",
    "\\Psi_{s\\beta } =L_s*I_{\\beta }+\\Psi_{p} *\\sin(\\omega_{e}t ) \\\\\n",
    "$"
   ]
  },
  {
   "cell_type": "markdown",
   "metadata": {},
   "source": [
    "### $\\alpha$ $\\beta$ Voltage"
   ]
  },
  {
   "attachments": {},
   "cell_type": "markdown",
   "metadata": {},
   "source": [
    "$\n",
    "U_{\\alpha } =R_{s}*I_{\\alpha }+\\frac{\\mathrm{d} \\Psi_{s\\alpha }}{\\mathrm{d} t} \\\\\n",
    "U_{\\beta } =R_{s}*I_{\\beta }+\\frac{\\mathrm{d} \\Psi_{s\\beta }}{\\mathrm{d} t} \\\\\n",
    "$\\\n",
    "$\n",
    "\\psi_{s\\alpha } =\\int (U_{\\alpha } -R_{s}*I_{\\alpha })dt \\\\\n",
    "\\psi_{s\\beta } =\\int (U_{\\beta } -R_{s}*I_{\\beta })dt \\\\\n",
    "$\n",
    "\n",
    "$\n",
    "U_{\\alpha } =R_{s}*I_{\\alpha }+L_{s}*\\frac{\\mathrm{d} I_{\\alpha }}{\\mathrm{d} t} -\\Psi_{p} \\omega_{e} *\\sin (\\omega_{e}t ) \\\\\n",
    "U_{\\beta  } =R_{s}*I_{\\beta  }+L_{s}*\\frac{\\mathrm{d} I_{\\beta  }}{\\mathrm{d} t} +\\Psi_{p} \\omega_{e} *\\cos(\\omega_{e}t ) \\\\\n",
    "$\\\n",
    "$\n",
    "\\theta=\\omega_{e}t \\\\\n",
    "$\\\n",
    "$\n",
    "U_{\\alpha } =R_{s}*I_{\\alpha }+L_{s}*\\frac{\\mathrm{d} I_{\\alpha }}{\\mathrm{d} t} -\\Psi_{p} \\omega_{e} *\\sin (\\theta ) \\\\\n",
    "U_{\\beta  } =R_{s}*I_{\\beta  }+L_{s}*\\frac{\\mathrm{d} I_{\\beta  }}{\\mathrm{d} t} +\\Psi_{p} \\omega_{e} *\\cos(\\theta ) \\\\\n",
    "$\n"
   ]
  },
  {
   "cell_type": "markdown",
   "metadata": {},
   "source": [
    "<img src=\"./Voltage_alpha_beta.png\">"
   ]
  },
  {
   "cell_type": "markdown",
   "metadata": {},
   "source": [
    "$\n",
    "e_{\\alpha } = -\\Psi_{p} \\omega_{e} *\\sin (\\theta ) \\\\\n",
    "e_{\\beta  } =\\Psi_{p} \\omega_{e} *\\cos(\\theta ) \\\\\n",
    "$\\\n",
    "$\n",
    "U_{\\alpha}=R_si_s+L_s\\frac{di_{\\alpha}}{dt}+e_{\\alpha } \\\\\n",
    "U_{\\beta}=R_si_{\\beta}+L_s\\frac{di_{\\beta}}{dt}+e_{\\beta  } \\\\\n",
    "$\\\n",
    "$\n",
    "\\frac{di_{\\alpha}}{dt}=-\\frac{R}{L}i_{\\alpha}-\\frac{1}{L}e_{\\alpha }+\\frac{1}{L}U_{\\alpha} \\\\\n",
    "\\frac{di_{\\beta}}{dt}=-\\frac{R}{L}i_{\\beta}-\\frac{1}{L}e_{\\beta }+\\frac{1}{L}U_{\\beta} \\\\\n",
    "$"
   ]
  },
  {
   "cell_type": "markdown",
   "metadata": {},
   "source": [
    "### $\\alpha$ $\\beta$ Power"
   ]
  },
  {
   "attachments": {},
   "cell_type": "markdown",
   "metadata": {},
   "source": [
    "#### $\\alpha$ $\\beta$ Active Power"
   ]
  },
  {
   "cell_type": "markdown",
   "metadata": {},
   "source": [
    "$P=I_s\\cdot U_{s}=I_{\\alpha} U_{\\alpha}+I_{\\beta}U_{\\beta}$\\\n",
    "$Q=I_s\\times U_{s}=I_{\\alpha} U_{\\beta}-I_{\\beta}U_{\\alpha}$"
   ]
  },
  {
   "attachments": {},
   "cell_type": "markdown",
   "metadata": {},
   "source": [
    "$ \\vec{U} =U_{\\alpha}+jU_{\\beta}=\\frac{2}{3}(U_A+aU_B+a^2U_C)$\\\n",
    "$U_A+U_B+U_C=0$\\\n",
    "$ \\vec{I} =I_{\\alpha}+jI_{\\beta}=\\frac{2}{3}(I_A+aI_B+a^2I_C)$\\\n",
    "$I_A+I_B+I_C=0$\\\n",
    "$ \\vec{\\psi} =\\psi_{\\alpha}+j\\psi_{\\beta}=\\frac{2}{3}(\\psi_A+a\\psi_B+a^2\\psi_C)$\\\n",
    "$\\psi_A+\\psi_B+psi_C=0$\\\n",
    "$a=e^{j\\frac{2}{3}\\pi}=cos(\\frac{2}{3}\\pi)+jsin(\\frac{2}{3}\\pi)=-0.5+j\\frac{\\sqrt{3}}{2}$\\\n",
    "$a^2=e^{j\\frac{4}{3}\\pi}=cos(\\frac{4}{3}\\pi)+jsin(\\frac{4}{3}\\pi)=-0.5-j\\frac{\\sqrt{3}}{2}$\\\n",
    "$P=\\frac{3}{2}p(\\psi_{\\alpha}+j\\psi_{\\beta})(I_{\\alpha}-jI_{\\beta})$\\\n",
    "$P=\\frac{3}{2}p[\\psi_{\\alpha}I_{\\alpha}+\\psi_{\\beta}I_{\\beta}-j(\\psi_{\\alpha}I_{\\beta}-\\psi_{\\beta}I_{\\alpha})]$\\\n",
    "***Reactive energy of magnetic circuit***:\\\n",
    "$Q=\\frac{3}{2}p(\\psi_{\\alpha}I_{\\alpha}+\\psi_{\\beta}I_{\\beta})$\\\n",
    "***Electromagnetic torque***:\\\n",
    "$T=\\frac{3}{2}p(\\psi_{\\alpha}I_{\\beta}-\\psi_{\\beta}I_{\\alpha})$\n",
    "\n"
   ]
  },
  {
   "attachments": {},
   "cell_type": "markdown",
   "metadata": {},
   "source": [
    "#### $\\alpha$ $\\beta$ Deactive Power"
   ]
  },
  {
   "attachments": {},
   "cell_type": "markdown",
   "metadata": {},
   "source": [
    "### $\\alpha$ $\\beta$ Torque"
   ]
  },
  {
   "cell_type": "markdown",
   "metadata": {},
   "source": [
    "$\n",
    "P_{el} =P_{V} +\\frac{\\mathrm{d} E_{mag }}{\\mathrm{d} t} +P_{me} \\\\\n",
    "P_{el} =U_{\\alpha}*I_{\\alpha }+U_{\\beta}*I_{\\beta } \\\\\n",
    "P_{V} =R_{s}*I_{\\alpha }^2+R_{s}*I_{\\beta  }^2 \\\\\n",
    "P_{me} =\\omega_{e}*T=-I_{\\alpha}*\\Psi_{p} \\omega_{e} *\\sin (\\theta ) + I_{\\beta }*\\Psi_{p} \\omega_{e} *\\cos(\\theta ) \\\\\n",
    "T =-I_{\\alpha}*\\Psi_{p}  *\\sin (\\theta ) + I_{\\beta }*\\Psi_{p}  *\\cos(\\theta) \\\\\n",
    "T =-I_{\\alpha}*\\Psi_{p\\beta} + I_{\\beta }*\\Psi_{p\\alpha} \\\\\n",
    "$\n"
   ]
  },
  {
   "attachments": {},
   "cell_type": "markdown",
   "metadata": {},
   "source": [
    "<img src=\"./Torque_alpha_beta.png\">"
   ]
  },
  {
   "cell_type": "markdown",
   "metadata": {},
   "source": [
    "* $\\Psi_{\\alpha, \\beta}$    --- flux linkage\n",
    "* $i_{\\alpha, \\beta}$       ---current\n",
    "* $e_{\\alpha, \\beta}$       ---electromotive force\n",
    "* $U_{\\alpha, \\beta}$       --- voltage for each phase in the stator fixed reference frame\n",
    "* $R$ and $L$               --- phase resistance and inductance\n",
    "* $\\Psi_{p} $               ---magnetic flux\n",
    "* $\\omega_{e} $             --- electric angular velocity\n",
    "* $\\theta{e} $              ---the rotor position(in electrical angle) of the PMSM\n",
    "* $p $                     ---pole pair number \n"
   ]
  },
  {
   "cell_type": "markdown",
   "metadata": {},
   "source": [
    "$\n",
    "U_{\\alpha}*I_{\\alpha} =R_{s}*I_{\\alpha }^2+L_{s}*I_{\\alpha }*\\frac{\\mathrm{d} I_{\\alpha }}{\\mathrm{d} t} -I_{\\alpha}*\\Psi_{p} \\omega_{e} *\\sin (\\omega_{e}t ) \\\\\n",
    "U_{\\beta}*I_{\\beta } =R_{s}*I_{\\beta  }^2+L_{s}*I_{\\beta }*\\frac{\\mathrm{d} I_{\\beta  }}{\\mathrm{d} t} +I_{\\beta }*\\Psi_{p} \\omega_{e} *\\cos(\\omega_{e}t ) \\\\\n",
    "$\n"
   ]
  },
  {
   "cell_type": "markdown",
   "metadata": {},
   "source": [
    "$\n",
    "P_{el} =P_{V} +\\frac{\\mathrm{d} E_{mag }}{\\mathrm{d} t} +P_{me} \\\\\n",
    "P_{el} =U_{\\alpha}*I_{\\alpha }+U_{\\beta}*I_{\\beta } \\\\\n",
    "P_{V} =R_{s}*I_{\\alpha }^2+R_{s}*I_{\\beta  }^2 \\\\\n",
    "P_{me} =\\omega_{e}*T=-I_{\\alpha}*\\Psi_{p} \\omega_{e} *\\sin (\\theta ) + I_{\\beta }*\\Psi_{p} \\omega_{e} *\\cos(\\theta ) \\\\\n",
    "T =-I_{\\alpha}*\\Psi_{p}  *\\sin (\\theta ) + I_{\\beta }*\\Psi_{p}  *\\cos(\\theta) \\\\\n",
    "T =-I_{\\alpha}*\\Psi_{p\\beta} + I_{\\beta }*\\Psi_{p\\alpha} \\\\\n",
    "$\n"
   ]
  },
  {
   "cell_type": "markdown",
   "metadata": {},
   "source": [
    "## D Q  axis\n",
    "\n",
    "\n",
    "\n"
   ]
  },
  {
   "cell_type": "markdown",
   "metadata": {},
   "source": [
    "### D Q Flux"
   ]
  },
  {
   "cell_type": "markdown",
   "metadata": {},
   "source": [
    "$\n",
    "\\Psi_{d}=L_{d}*I_{d}+\\Psi_{p} \\\\\n",
    "\\Psi_{q}=L_{q}*I_{q} \\\\\n",
    "$"
   ]
  },
  {
   "cell_type": "markdown",
   "metadata": {},
   "source": [
    "$\n",
    "\\frac{\\mathrm{d} \\Psi_{d }}{\\mathrm{d} t}=L_{d}*\\frac{\\mathrm{d} I_{d }}{\\mathrm{d} t}\\\\\n",
    "\\frac{\\mathrm{d} \\Psi_{q }}{\\mathrm{d} t}=L_{q}*\\frac{\\mathrm{d} I_{q }}{\\mathrm{d} t}\\\\\n",
    "$"
   ]
  },
  {
   "cell_type": "markdown",
   "metadata": {},
   "source": [
    "### D Q Voltage"
   ]
  },
  {
   "cell_type": "markdown",
   "metadata": {},
   "source": [
    "$\n",
    "U_d =R_{s}*I_d+\\frac{\\mathrm{d} \\Psi_{d }}{\\mathrm{d} t} - \\omega_{e} *\\Psi_{q } \\\\\n",
    "U_q =R_{s}*I_q+\\frac{\\mathrm{d} \\Psi_{q }}{\\mathrm{d} t} + \\omega_{e} *\\Psi_{d }\\\\\n",
    "$"
   ]
  },
  {
   "cell_type": "markdown",
   "metadata": {},
   "source": [
    "$\n",
    "U_d =R_{s}*I_d+L_{d}*\\frac{\\mathrm{d} I_{d }}{\\mathrm{d} t} - \\omega_{e} *L_{q}*I_{q} \\\\\n",
    "U_q =R_{s}*I_q+L_{q}*\\frac{\\mathrm{d} I_{q }}{\\mathrm{d} t} + \\omega_{e} *(L_{d}*I_{d}+\\Psi_{p})\\\\\n",
    "$"
   ]
  },
  {
   "cell_type": "markdown",
   "metadata": {},
   "source": [
    "<img src=\"./Voltage_d_q.png\">"
   ]
  },
  {
   "cell_type": "markdown",
   "metadata": {},
   "source": [
    "### Torque\n",
    "\n",
    "\n",
    "\n"
   ]
  },
  {
   "attachments": {},
   "cell_type": "markdown",
   "metadata": {},
   "source": [
    "### DQ Power\n",
    "\n",
    "\n",
    "\n"
   ]
  },
  {
   "attachments": {},
   "cell_type": "markdown",
   "metadata": {},
   "source": [
    "$\n",
    "U_d =R_{s}*I_s+e_{sp}+\\frac{\\mathrm{d} \\psi_{sp }}{\\mathrm{d} t} \\\\\n",
    "U_q =e_{sq}+\\frac{\\mathrm{d} \\psi_{sq }}{\\mathrm{d} t}\\\\\n",
    "$"
   ]
  },
  {
   "attachments": {},
   "cell_type": "markdown",
   "metadata": {},
   "source": [
    "$P=I_sU_{sp}=R_sI_s^2+e_{sp}I_s+\\frac{d\\psi_{sp}}{d_t}$\\\n",
    "$Q=I_sU_{sq}=e_{sq}I_s+\\frac{d\\psi_{sq}}{d_t}I_s$"
   ]
  },
  {
   "attachments": {},
   "cell_type": "markdown",
   "metadata": {},
   "source": [
    "## Torque"
   ]
  },
  {
   "attachments": {},
   "cell_type": "markdown",
   "metadata": {},
   "source": [
    "* ***DQ Axes***\\\n",
    "$T_e=\\frac{3}{2}n_p[\\Psi_p*i_q+(L_d-L_q)i_d*i_q]$\n",
    "* ***Mechnical Torque***\\\n",
    "$T_e=T_l+B*\\omega_m+J*\\frac{d}{dt}\\omega_m$"
   ]
  },
  {
   "attachments": {},
   "cell_type": "markdown",
   "metadata": {},
   "source": [
    "## $\\gamma \\delta$  axis\n",
    "\n",
    "\n",
    "\n"
   ]
  },
  {
   "attachments": {},
   "cell_type": "markdown",
   "metadata": {},
   "source": [
    "### $\\gamma \\delta$  axis voltage\n",
    "\n",
    "\n",
    "\n"
   ]
  },
  {
   "cell_type": "markdown",
   "metadata": {},
   "source": [
    "\n",
    "\n",
    "$\n",
    "    \\begin{bmatrix}\n",
    "        U\\gamma\\\\\n",
    "        U\\delta \\\\\n",
    "    \\end{bmatrix}\n",
    "    =\n",
    "    \\begin{bmatrix}\n",
    "        R+s*L_d                     & -\\omega_{\\gamma\\delta}L_q\\\\\n",
    "        \\omega_{\\gamma\\delta}L_q    &  R+s*L_d\\\\\n",
    "    \\end{bmatrix}*\n",
    "    \\begin{bmatrix}\n",
    "        I_{\\gamma} \\\\\n",
    "        I_{\\delta} \\\\\n",
    "    \\end{bmatrix}+K_v\\omega_{\\gamma\\delta}\n",
    "     \\begin{bmatrix}\n",
    "        -sin(\\theta_{err}) \\\\\n",
    "        cos(\\theta_{err}) \\\\\n",
    "    \\end{bmatrix}\n",
    "$ \n"
   ]
  },
  {
   "cell_type": "markdown",
   "metadata": {},
   "source": [
    "$\n",
    "U_{\\gamma} =R_{s}*I_{\\gamma}+L_{d}*\\frac{\\mathrm{d} I_{\\gamma }}{\\mathrm{d} t}-\\omega_{\\gamma\\delta}*L_q*I_{\\delta}-K_v\\omega_{\\gamma\\delta}sin(\\theta_{err})\\\\\n",
    "U_{\\delta} =R_{s}*I_{\\delta}+L_{d}*\\frac{\\mathrm{d} I_{\\delta }}{\\mathrm{d} t}+\\omega_{\\gamma\\delta}*L_q*I_{\\gamma}+K_v\\omega_{\\gamma\\delta}cos(\\theta_{err})\\\\\n",
    "$"
   ]
  },
  {
   "cell_type": "markdown",
   "metadata": {},
   "source": [
    "$\n",
    "U_{\\gamma}(t) =R_{s}*I_{\\gamma}(t)+L_{d}*\\frac{\\mathrm{d} I_{\\gamma }}{\\mathrm{d} t}-\\omega_{\\gamma\\delta}(t)*L_q*I_{\\delta}(t)-e_\\gamma(t)\\\\\n",
    "U_{\\delta}(t) =R_{s}*I_{\\delta}(t)+L_{d}*\\frac{\\mathrm{d} I_{\\delta }}{\\mathrm{d} t}+\\omega_{\\gamma\\delta}(t)*L_q*I_{\\gamma}(t)+e_\\delta(t)\\\\\n",
    "$\n"
   ]
  },
  {
   "cell_type": "markdown",
   "metadata": {},
   "source": [
    "$\n",
    "U_d =R_{s}*I_d+\\frac{\\mathrm{d} \\Psi_{d }}{\\mathrm{d} t} - \\omega_{e} *\\Psi_{q } \\\\\n",
    "U_q =R_{s}*I_q+\\frac{\\mathrm{d} \\Psi_{q }}{\\mathrm{d} t} + \\omega_{e} *\\Psi_{d }\\\\\n",
    "$"
   ]
  },
  {
   "cell_type": "markdown",
   "metadata": {},
   "source": [
    "## Moto Paramter"
   ]
  },
  {
   "cell_type": "markdown",
   "metadata": {},
   "source": [
    "* https://ww2.mathworks.cn/help/sps/ug/parameterize-a-permanent-magnet-synchronous-motor.html;jsessionid=45047ed607e68a4d1c3d8fde02bb"
   ]
  },
  {
   "cell_type": "markdown",
   "metadata": {},
   "source": [
    "### Voltage Constant"
   ]
  },
  {
   "attachments": {},
   "cell_type": "markdown",
   "metadata": {},
   "source": [
    "$\n",
    "U_{\\alpha } =R_{s}*I_{\\alpha }+L_{s}*\\frac{\\mathrm{d} I_{\\alpha }}{\\mathrm{d} t} -\\Psi_{p} \\omega_{e} *\\sin (\\omega_{e}t ) \\\\\n",
    "U_{\\beta  } =R_{s}*I_{\\beta  }+L_{s}*\\frac{\\mathrm{d} I_{\\beta  }}{\\mathrm{d} t} +\\Psi_{p} \\omega_{e} *\\cos(\\omega_{e}t ) \\\\\n",
    "$\\\n",
    "$\n",
    "U_{\\alpha } =R_{s}*I_{\\alpha }+L_{s}*\\frac{\\mathrm{d} I_{\\alpha }}{\\mathrm{d} t} -K_V \\omega_{e} *\\sin (\\omega_{e}t ) \\\\\n",
    "U_{\\beta  } =R_{s}*I_{\\beta  }+L_{s}*\\frac{\\mathrm{d} I_{\\beta  }}{\\mathrm{d} t} +K_V \\omega_{e} *\\cos(\\omega_{e}t ) \\\\\n",
    "$\\\n",
    "$\n",
    "e_{\\alpha } = -\\Psi_{p} \\omega_{e} *\\sin (\\theta )= -K_V \\omega_{e} *\\sin (\\theta )\\\\\n",
    "e_{\\beta  } =\\Psi_{p} \\omega_{e} *\\cos(\\theta )=K_V \\omega_{e} *\\cos(\\theta ) \\\\\n",
    "$\n",
    "\n",
    "\n"
   ]
  },
  {
   "attachments": {},
   "cell_type": "markdown",
   "metadata": {},
   "source": [
    "$\n",
    "K_{V} =\\frac{V_{a\\_pk}}{\\omega_m}  \\\\\n",
    "$\n",
    "* $K_V$ BEMF coeffactor [$\\frac{V}{\\frac{rad}{s}}$]"
   ]
  },
  {
   "cell_type": "markdown",
   "metadata": {},
   "source": [
    "$\n",
    "K_{e} =\\frac{V_{a\\_pk}}{\\omega_m}  \\\\\n",
    "K_{e} =\\frac{V_{a\\_pk}}{2*\\pi*f_m}=\\frac{V_{a\\_pk}}{2*\\pi*\\frac{f_e}{N}}=\\frac{V_{a\\_pk}*N*T_e}{2*\\pi}  \\\\\n",
    "$\\\n",
    "$\n",
    "K_e=\\frac{\\sqrt{3}*1000*P*2*\\pi*\\Psi_m}{60}\\\\\n",
    "Ke[V/krpm]\n",
    "$"
   ]
  },
  {
   "cell_type": "markdown",
   "metadata": {},
   "source": [
    "$\n",
    "K_{e} =\\frac{V_{a\\_pk}}{\\omega_m}  \\\\\n",
    "K_{e} =\\frac{V_{a\\_pk}}{2*\\pi*f_m}=\\frac{V_{a\\_pk}}{2*\\pi*\\frac{f_e}{N}}=\\frac{V_{a\\_pk}*N*T_e}{2*\\pi}  \\\\\n",
    "$\\\n",
    "$\n",
    "K_e=\\frac{\\sqrt{3}*1000*P*2*\\pi*\\Psi_m}{60}\\\\\n",
    "Ke[V/krpm]\n",
    "$"
   ]
  },
  {
   "cell_type": "markdown",
   "metadata": {},
   "source": [
    "### Torque Constant"
   ]
  },
  {
   "cell_type": "markdown",
   "metadata": {},
   "source": [
    "$\n",
    "K_{t} =\\frac{2}{3}*\\frac{T}{I_{a\\_pk}}  \\\\\n",
    "$"
   ]
  },
  {
   "cell_type": "markdown",
   "metadata": {},
   "source": [
    "### Flux linkage"
   ]
  },
  {
   "cell_type": "markdown",
   "metadata": {},
   "source": [
    "$\n",
    "K_{e} =K_{t}=N*\\Psi_{m} \\\\\n",
    "$"
   ]
  },
  {
   "cell_type": "markdown",
   "metadata": {},
   "source": [
    "## Clark Park Transfer\n",
    "\n",
    "\n",
    "\n"
   ]
  },
  {
   "cell_type": "markdown",
   "metadata": {},
   "source": [
    "### Clark Transfer"
   ]
  },
  {
   "cell_type": "markdown",
   "metadata": {},
   "source": [
    "#### Equal Amplitude Transfer"
   ]
  },
  {
   "attachments": {},
   "cell_type": "markdown",
   "metadata": {},
   "source": [
    "\n",
    "\n",
    "$\n",
    "    \\begin{bmatrix}\n",
    "        I_\\alpha\\\\\n",
    "        I_\\beta \\\\\n",
    "    \\end{bmatrix}\n",
    "    =\n",
    "    \\frac{2}{3}*\n",
    "    \\begin{bmatrix}\n",
    "        1&0          &0 &\\\\\n",
    "        0& \\frac{\\sqrt{3}}{2}  &-\\frac{\\sqrt{3}}{2} \\\\\n",
    "    \\end{bmatrix}*\n",
    "    \\begin{bmatrix}\n",
    "        I_A\\\\\n",
    "        I_B \\\\\n",
    "        I_C\\\\\n",
    "    \\end{bmatrix}\n",
    "$ "
   ]
  },
  {
   "cell_type": "markdown",
   "metadata": {},
   "source": [
    "$\n",
    "    T_{3\\_2}\n",
    "    =\\frac{2}{3}\n",
    "    \\begin{bmatrix}\n",
    "        1&0 &0\\\\\n",
    "        0& \\frac{\\sqrt{3}}{2}  &-\\frac{\\sqrt{3}}{2} \\\\\n",
    "    \\end{bmatrix}\n",
    "$"
   ]
  },
  {
   "cell_type": "markdown",
   "metadata": {},
   "source": [
    "$\n",
    "    T_{3\\_2}^T\n",
    "    =\n",
    "    \\frac{3}{2}\n",
    "    \\begin{bmatrix}\n",
    "        1&0  \\\\\n",
    "        0& \\frac{\\sqrt{3}}{2} \\\\\n",
    "        0&-\\frac{\\sqrt{3}}{2} \\\\\n",
    "    \\end{bmatrix}\n",
    "$"
   ]
  },
  {
   "cell_type": "markdown",
   "metadata": {},
   "source": [
    "#### Equal Power Transfer"
   ]
  },
  {
   "attachments": {},
   "cell_type": "markdown",
   "metadata": {},
   "source": [
    "\n",
    "\n",
    "$\n",
    "    \\begin{bmatrix}\n",
    "        I_\\alpha\\\\\n",
    "        I_\\beta \\\\\n",
    "        I_0\n",
    "    \\end{bmatrix}\n",
    "    =\n",
    "    \\sqrt\\frac{2}{3}*\n",
    "    \\begin{bmatrix}\n",
    "        1&0&0\\\\\n",
    "        0& \\frac{\\sqrt{3}}{2}  &-\\frac{\\sqrt{3}}{2} \\\\\n",
    "        \\frac{1}{\\sqrt{2}}& \\frac{1}{\\sqrt{2}}  &\\frac{1}{\\sqrt{2}} \\\\\n",
    "    \\end{bmatrix}*\n",
    "    \\begin{bmatrix}\n",
    "        I_A\\\\\n",
    "        I_B \\\\\n",
    "        I_C\\\\\n",
    "    \\end{bmatrix}\n",
    "$\n"
   ]
  },
  {
   "cell_type": "markdown",
   "metadata": {},
   "source": [
    "$\n",
    "    T_{3\\_2}\n",
    "    =\n",
    "    \\sqrt\\frac{2}{3}*\n",
    "    \\begin{bmatrix}\n",
    "        1&0 &0 &\\\\\n",
    "        0& \\frac{\\sqrt{3}}{2}  &-\\frac{\\sqrt{3}}{2} \\\\\n",
    "    \\end{bmatrix}    \n",
    "$"
   ]
  },
  {
   "cell_type": "markdown",
   "metadata": {},
   "source": [
    "$\n",
    "    T_{3\\_2}^T\n",
    "    =\n",
    "    \\sqrt\\frac{3}{2}*\n",
    "    \\begin{bmatrix}\n",
    "        1&0\\\\\n",
    "        0& \\frac{\\sqrt{3}}{2} \\\\\n",
    "        0&-\\frac{\\sqrt{3}}{2} \\\\\n",
    "    \\end{bmatrix}    \n",
    "$"
   ]
  },
  {
   "cell_type": "code",
   "execution_count": 1,
   "metadata": {},
   "outputs": [
    {
     "name": "stdout",
     "output_type": "stream",
     "text": [
      "a = \n",
      " [[ 1.         0.         0.       ]\n",
      " [ 0.         0.8660254 -0.8660254]]\n",
      "b = \n",
      " [[ 1.         0.       ]\n",
      " [ 0.         0.8660254]\n",
      " [ 0.        -0.8660254]]\n"
     ]
    }
   ],
   "source": [
    "import numpy as np\n",
    "a = np.array([[1,0,0],[0,np.sqrt(3)/2,-np.sqrt(3)/2]])\n",
    "print(\"a = \\n\",a)\n",
    "b=np.transpose(a)\n",
    "print(\"b = \\n\",b)"
   ]
  },
  {
   "cell_type": "markdown",
   "metadata": {},
   "source": [
    "### Inverse Clark Transfer"
   ]
  },
  {
   "cell_type": "markdown",
   "metadata": {},
   "source": [
    "#### Equal Amplitude Transfer"
   ]
  },
  {
   "cell_type": "markdown",
   "metadata": {},
   "source": [
    "\n",
    "\n",
    "$\n",
    "\\begin{bmatrix}\n",
    "        I_A\\\\\n",
    "        I_B \\\\\n",
    "        I_C\\\\\n",
    "\\end{bmatrix}\n",
    "    =\n",
    "T_{2\\_3}*\n",
    "\\begin{bmatrix}\n",
    "        I\\alpha\\\\\n",
    "        I\\beta \\\\\n",
    "\\end{bmatrix}  \n",
    "$ "
   ]
  },
  {
   "cell_type": "markdown",
   "metadata": {},
   "source": [
    "$\n",
    "T_{2\\_3}   = T_{3\\_2}^T\n",
    "$ "
   ]
  },
  {
   "cell_type": "markdown",
   "metadata": {},
   "source": [
    "$\n",
    "\\begin{bmatrix}\n",
    "        I_A\\\\\n",
    "        I_B \\\\\n",
    "        I_C\\\\\n",
    "\\end{bmatrix}\n",
    "    =\n",
    "\\frac{3}{2}*\n",
    "    \\begin{bmatrix}\n",
    "        1&0  \\\\\n",
    "        0& \\frac{\\sqrt{3}}{2} \\\\\n",
    "        0&-\\frac{\\sqrt{3}}{2} \\\\\n",
    "    \\end{bmatrix}*\n",
    "\\begin{bmatrix}\n",
    "        I\\alpha\\\\\n",
    "        I\\beta \\\\\n",
    "\\end{bmatrix}  \n",
    "$ "
   ]
  },
  {
   "cell_type": "markdown",
   "metadata": {},
   "source": [
    "#### Equal Power Transfer"
   ]
  },
  {
   "cell_type": "markdown",
   "metadata": {},
   "source": [
    "\n",
    "\n",
    "$\n",
    "\\begin{bmatrix}\n",
    "        I_A\\\\\n",
    "        I_B \\\\\n",
    "        I_C\\\\\n",
    "\\end{bmatrix}\n",
    "    =\n",
    "T_{2\\_3}*\n",
    "\\begin{bmatrix}\n",
    "        I\\alpha\\\\\n",
    "        I\\beta \\\\\n",
    "\\end{bmatrix}  \n",
    "$ "
   ]
  },
  {
   "cell_type": "markdown",
   "metadata": {},
   "source": [
    "$\n",
    "T_{2\\_3}   = T_{3\\_2}^T\n",
    "$ "
   ]
  },
  {
   "cell_type": "markdown",
   "metadata": {},
   "source": [
    "$\n",
    "\\begin{bmatrix}\n",
    "        I_A\\\\\n",
    "        I_B \\\\\n",
    "        I_C\\\\\n",
    "\\end{bmatrix}\n",
    "    =\n",
    "\\sqrt\\frac{3}{2}*\n",
    "    \\begin{bmatrix}\n",
    "        1&0  \\\\\n",
    "        0& \\frac{\\sqrt{3}}{2} \\\\\n",
    "        0&-\\frac{\\sqrt{3}}{2} \\\\\n",
    "    \\end{bmatrix}*\n",
    "\\begin{bmatrix}\n",
    "        I\\alpha\\\\\n",
    "        I\\beta \\\\\n",
    "\\end{bmatrix}  \n",
    "$ "
   ]
  },
  {
   "cell_type": "markdown",
   "metadata": {},
   "source": [
    "### Park Transfer"
   ]
  },
  {
   "cell_type": "markdown",
   "metadata": {},
   "source": [
    "$\n",
    "    \\begin{bmatrix}\n",
    "        I_d \\\\\n",
    "        I_q \\\\\n",
    "    \\end{bmatrix}\n",
    "    =\n",
    "    \\begin{bmatrix}\n",
    "        cos(\\theta)  &sin(\\theta)\\\\\n",
    "        -sin(\\theta) &cos(\\theta)\\\\\n",
    "    \\end{bmatrix}*\n",
    "    \\begin{bmatrix}\n",
    "        I_\\alpha\\\\\n",
    "        I_\\beta \\\\\n",
    "    \\end{bmatrix}\n",
    "$ "
   ]
  },
  {
   "cell_type": "markdown",
   "metadata": {},
   "source": [
    "### Inverse Park Transfer"
   ]
  },
  {
   "cell_type": "markdown",
   "metadata": {},
   "source": [
    "$\n",
    "    \\begin{bmatrix}\n",
    "        I_\\alpha\\\\\n",
    "        I_\\beta \\\\\n",
    "    \\end{bmatrix}\n",
    "    =\n",
    "    \\begin{bmatrix}\n",
    "        cos(\\theta)  &-sin(\\theta)\\\\\n",
    "        sin(\\theta) &cos(\\theta)\\\\\n",
    "    \\end{bmatrix}*\n",
    "    \\begin{bmatrix}\n",
    "        I_d\\\\\n",
    "        I_q\\\\\n",
    "    \\end{bmatrix}\n",
    "$ "
   ]
  },
  {
   "cell_type": "markdown",
   "metadata": {},
   "source": [
    "\\begin{aligned}\n",
    " KPI&=(N+S)W\\\\\n",
    "PI&=N+S \\\\\n",
    "I&=W\n",
    "\\end{aligned}\n"
   ]
  },
  {
   "attachments": {},
   "cell_type": "markdown",
   "metadata": {},
   "source": [
    "### 电机标幺\n"
   ]
  },
  {
   "attachments": {},
   "cell_type": "markdown",
   "metadata": {},
   "source": [
    "1. 功率基准值$S_b$：系统额定功率\n",
    "2. 电压基准值$U_b$：$U_b＝\\frac{U_{dc}}{\\sqrt{s}}$ $U_{dc}$为直流母线电压\n",
    "3. 电流基准值$I_b$：$I_b＝\\frac{2}{3}*\\frac{S_b}{U_b}$\n",
    "4. 阻抗基准值$Z_b$：$Z_b＝\\frac{U_b}{I_b}$\n",
    "5. 频率基准值$f_b$：电机供电额定频率\n",
    "6. 角频率基值$\\omega_e$：$\\omega_e＝2\\pi f_e$\n",
    "7. 电感基准值$L_b$：$L_b＝\\frac{z_b}{\\omega_b}$\n",
    "8. 电容基准值$C_b$：$C_b＝\\frac{1}{\\omega_b z_b}$\n",
    "9. 机械角速度基值$\\omega_m$：$\\omega_m＝\\frac{\\omega_e}{n_p}$\n",
    "10. 转矩基准值$T_b$：$T_b＝\\frac{S_b}{\\omega_m}$\n",
    "11. 磁链基准值$\\psi_b$：$\\psi_b＝L_bI_b=\\frac{U_b}{\\omega_e}$\n",
    "12. 转动惯量基值$J_b$：$J_b＝\\frac{S_b}{\\omega_e^2}$"
   ]
  }
 ],
 "metadata": {
  "kernelspec": {
   "display_name": "Python 3 (ipykernel)",
   "language": "python",
   "name": "python3"
  },
  "language_info": {
   "codemirror_mode": {
    "name": "ipython",
    "version": 3
   },
   "file_extension": ".py",
   "mimetype": "text/x-python",
   "name": "python",
   "nbconvert_exporter": "python",
   "pygments_lexer": "ipython3",
   "version": "3.10.5"
  },
  "vscode": {
   "interpreter": {
    "hash": "08436e1dada134e6f143ad49e4eee140dcced4b0aa01ee837effa9e93d0a4d35"
   }
  }
 },
 "nbformat": 4,
 "nbformat_minor": 2
}
