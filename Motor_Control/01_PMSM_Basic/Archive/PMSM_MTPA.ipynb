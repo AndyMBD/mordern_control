{
 "cells": [
  {
   "cell_type": "markdown",
   "metadata": {},
   "source": [
    "# Field Weaken (FW)"
   ]
  },
  {
   "cell_type": "markdown",
   "metadata": {},
   "source": [
    "* Controlled Three-Phase Drives Prof. Dr.-Ing. Joachim Böcker\n",
    "* Paderborn University Power Electronics and Electrical Drives\n",
    "* Lecture Notes Last Update 2016-01-26"
   ]
  },
  {
   "attachments": {},
   "cell_type": "markdown",
   "metadata": {},
   "source": [
    "## Torque\n",
    "\n",
    "\n",
    "\n"
   ]
  },
  {
   "cell_type": "markdown",
   "metadata": {},
   "source": [
    "$\n",
    "T =\\frac{3}{2}p*(\\Psi_{p\\alpha}I_{\\beta} -\\Psi_{p\\beta}I_{\\alpha})  \\\\\n",
    "$\\\n",
    "$\n",
    "T =\\frac{3}{2}p*\\Psi_{p}\\times I_{s}\\\\\n",
    "$\\\n",
    "$\n",
    "\\Psi_{s}=L_{s}I_{s}+\\Psi_{p} \\\\\n",
    "$\\\n",
    "$\n",
    "T =\\frac{3}{2}p*\\Psi_{p}\\times I_{s}=\\frac{3}{2}p*(\\Psi_{s}-L_{s}I_{s})\\times I_{s}=\\frac{3}{2}p\\Psi_{s}\\times I_{s}\\\\\n",
    "$\\\n",
    "$\n",
    "T =\\frac{3}{2}p*\\Psi_{p}\\times I_{s}=\\frac{3}{2L_{s}}p*\\Psi_{p}\\times (\\Psi_{s}-\\Psi_{p})\\\\\n",
    "$"
   ]
  },
  {
   "attachments": {},
   "cell_type": "markdown",
   "metadata": {},
   "source": [
    "$T_e-T_L=J\\frac{d_{\\omega_m}}{d_t}+B\\omega_m$\n",
    "* J is the inertia coefficient ($kg-m^2$).\n",
    "* B is the friction coefficient ($\\frac{kg-m^2}{sec} $)."
   ]
  },
  {
   "cell_type": "markdown",
   "metadata": {},
   "source": [
    "$a \\times b$ \\\n",
    "$a \\cdot b$"
   ]
  },
  {
   "cell_type": "markdown",
   "metadata": {},
   "source": [
    "<img src=\"./DTC_vector.png\">"
   ]
  },
  {
   "attachments": {},
   "cell_type": "markdown",
   "metadata": {},
   "source": [
    "$\n",
    "T =\\frac{3}{2}p*(\\Psi_{p}I_{q} +(L_d-L_q)i_di_q)  \\\\\n",
    "$"
   ]
  },
  {
   "attachments": {},
   "cell_type": "markdown",
   "metadata": {},
   "source": [
    "From the above equation\n",
    "1. for SPMSM, Ld = Lq and there is no reluctance torque; \n",
    "2. but for IPMSM, due to usually Ld < Lq, the reluctance torque should be positive if Id is negative."
   ]
  },
  {
   "attachments": {},
   "cell_type": "markdown",
   "metadata": {},
   "source": [
    "$i_d=-\\frac{\\psi_p}{2*(L_d-L_q)}-\\sqrt{(\\frac{\\psi_p}{2*(L_d-L_q)})^2+i_s^2}$\\\n",
    "$i_q=\\sqrt{i_s^2-i_d^2}$\\\n",
    "$i_d=i_s\\sin\\beta$\\\n",
    "$i_q=i_s\\cos\\beta$\\\n",
    "$\\beta$ can be obtained by the calculation or test bench."
   ]
  },
  {
   "attachments": {},
   "cell_type": "markdown",
   "metadata": {},
   "source": [
    "## MTPA\n",
    "\n",
    "\n",
    "\n"
   ]
  },
  {
   "attachments": {},
   "cell_type": "markdown",
   "metadata": {},
   "source": [
    "$\n",
    "U_d =R_{s}*I_d+\\frac{\\mathrm{d} \\Psi_{d }}{\\mathrm{d} t} - \\omega_{e} *\\Psi_{q } \\\\\n",
    "U_q =R_{s}*I_q+\\frac{\\mathrm{d} \\Psi_{q }}{\\mathrm{d} t} + \\omega_{e} *\\Psi_{d }\\\\\n",
    "$\\\n",
    "$\n",
    "U_d =R_{s}*I_d+L_{d}*\\frac{\\mathrm{d} I_{d }}{\\mathrm{d} t} - \\omega_{e} *L_{q}*I_{q} \\\\\n",
    "U_q =R_{s}*I_q+L_{q}*\\frac{\\mathrm{d} I_{q }}{\\mathrm{d} t} + \\omega_{e} *(L_{d}*I_{d}+\\Psi_{p})\\\\\n",
    "$\\\n",
    "$T_e=\\frac{3}{2}n_p[\\Psi_p*i_q+(L_d-L_q)i_d*i_q]$"
   ]
  },
  {
   "cell_type": "markdown",
   "metadata": {},
   "source": [
    "In steady state regime \n",
    "* the flux linkage variation is zero\n",
    "* for further simplification we are going to assume the stator winding resistance is neglectable.\n"
   ]
  },
  {
   "cell_type": "markdown",
   "metadata": {},
   "source": [
    "\n",
    "$\n",
    "U_d =- \\omega_{e} *L_{q}*I_{q} \\\\\n",
    "U_q =\\omega_{e} *(L_{d}*I_{d}+\\Psi_{p})\\\\\n",
    "$\n"
   ]
  },
  {
   "cell_type": "markdown",
   "metadata": {},
   "source": [
    "$i_s=\\sqrt{i_{d}^2+i_{q}^2}\\leq i_{max}^2$\\\n",
    "$u_s=\\sqrt{u_{d}^2+u_{q}^2}\\leq u_{max}^2$"
   ]
  },
  {
   "attachments": {},
   "cell_type": "markdown",
   "metadata": {},
   "source": [
    "### calculation 1"
   ]
  },
  {
   "attachments": {},
   "cell_type": "markdown",
   "metadata": {},
   "source": [
    "$i_s=\\sqrt{i_{d}^2+i_{q}^2}\\leq i_{max}^2$\\\n",
    "$u_s=\\sqrt{u_{d}^2+u_{q}^2}\\leq u_{max}^2$"
   ]
  },
  {
   "attachments": {},
   "cell_type": "markdown",
   "metadata": {},
   "source": [
    "\n",
    "\n",
    "To find the max value\\\n",
    "$H=\\sqrt{i_{d}^2+i_{q}^2}+\\lambda\\{T_e-\\frac{3}{2}n_p[\\Psi_p*i_q+(L_d-L_q)i_d*i_q]\\}$"
   ]
  },
  {
   "attachments": {},
   "cell_type": "markdown",
   "metadata": {},
   "source": [
    "$\\frac{\\partial{H}}{\\partial{i_d}}=\\frac{i_d}{\\sqrt{i_d^2+i_q^2}}-\\frac{3}{2}\\lambda n_p(L_d-L_q)i_q=0$ \n",
    "\n",
    "$\\frac{\\partial{H}}{\\partial{i_q}}=\\frac{i_q}{\\sqrt{i_d^2+i_q^2}}+\\frac{3}{2}\\lambda n_p(L_d-L_q)i_d=0$ \n",
    "\n",
    "$\\frac{\\partial{H}}{\\partial{\\lambda}}=T_e-\\frac{3}{2}n_p[\\psi_p+\\lambda n_p(L_d-L_q)]i_q=0$\n",
    "\n"
   ]
  },
  {
   "attachments": {},
   "cell_type": "markdown",
   "metadata": {},
   "source": [
    "Solve this 3 formula \\\n",
    "$i_d=\\frac{-\\psi_f+\\sqrt{\\psi_f^2+8(L_d-L_q)^2i_{s}^2}}{4(L_d-L_q)}$ \n",
    "\n",
    "$i_q=\\frac{(\\frac{8T_e\\psi_f}{3n_p})+\\sqrt{(\\frac{8T_e\\psi_f}{3n_p})^2-4[\\psi_f^2-4(L_d-L_q)^2][(\\frac{4T_e}{3n_p})^2-\\psi_f^2]}}{2[\\psi_f^2-4(L_d-L_q)^2]}$"
   ]
  },
  {
   "attachments": {},
   "cell_type": "markdown",
   "metadata": {},
   "source": [
    "### calculation 2"
   ]
  },
  {
   "attachments": {},
   "cell_type": "markdown",
   "metadata": {},
   "source": [
    "$\n",
    "T_e =\\frac{3}{2}p*(\\Psi_{p}I_{q} +(L_d-L_q)i_di_q)  \\\\\n",
    "$"
   ]
  },
  {
   "attachments": {},
   "cell_type": "markdown",
   "metadata": {},
   "source": [
    "$\\frac{d}{d_{i_d}}(T_e=f(i_d))=0$ "
   ]
  },
  {
   "cell_type": "markdown",
   "metadata": {},
   "source": [
    "$i_d=-\\frac{\\psi_p}{2*(L_d-L_q)}-\\sqrt{(\\frac{\\psi_p}{2*(L_d-L_q)})^2+i_s^2}$\\\n",
    "$i_q=\\sqrt{i_s^2-i_d^2}$\\\n",
    "$i_d=i_s\\sin\\beta$\\\n",
    "$i_q=i_s\\cos\\beta$\\\n",
    "$\\beta$ can be obtained by the calculation or test bench."
   ]
  },
  {
   "attachments": {},
   "cell_type": "markdown",
   "metadata": {},
   "source": [
    "### Natural Limitations"
   ]
  },
  {
   "attachments": {},
   "cell_type": "markdown",
   "metadata": {},
   "source": [
    "#### 1. Maximum current is limited to a Circle with Amplitude\\\n"
   ]
  },
  {
   "attachments": {},
   "cell_type": "markdown",
   "metadata": {},
   "source": [
    "$I_s=\\sqrt{i_d^2+i_q^2}$"
   ]
  },
  {
   "attachments": {},
   "cell_type": "markdown",
   "metadata": {},
   "source": [
    "#### 2. Maximum Voltage ellipse constraint imposed on current vector amplitude and angle"
   ]
  },
  {
   "attachments": {},
   "cell_type": "markdown",
   "metadata": {},
   "source": [
    "1. shrinks with increased speed\n",
    "\n",
    "$U_s=\\sqrt{U_d^2+U_q^2}$\\\n",
    "$\\frac{U_d^2}{\\omega_e^2} =L_{q}^2*I_{q}^2 $\\\n",
    "$\\frac{U_q^2}{\\omega_e^2} =(\\psi_p+L_{d}*I_{d})^2 $\\\n",
    "$\\frac{U_s^2}{\\omega_e^2}=L_q^2*I_q^2+(\\psi_p+L_d*I_d)^2$\\\n",
    "$U_{max}=\\frac{U_{dc}}{\\sqrt{3}}-R_sI_{max}\\geq \\sqrt{U_d^2+U_q^2}$"
   ]
  },
  {
   "attachments": {},
   "cell_type": "markdown",
   "metadata": {},
   "source": [
    "$\\omega_{e\\_base}=\\frac{U_{max}}{\\sqrt{(L_q*I_q)^2+(L_dI_d+\\psi_p)^2}}$\n",
    "\n"
   ]
  },
  {
   "attachments": {},
   "cell_type": "markdown",
   "metadata": {},
   "source": [
    "## Surface PMSM"
   ]
  },
  {
   "cell_type": "markdown",
   "metadata": {},
   "source": [
    "$\\omega_{e\\_base}=\\frac{U_{max}}{\\sqrt{(L_q*I_q)^2+(L_dI_d+\\psi_p)^2}}$\n",
    "\n"
   ]
  },
  {
   "cell_type": "markdown",
   "metadata": {},
   "source": [
    "### when $\\omega_e \\leq \\omega_{e\\_base}$"
   ]
  },
  {
   "attachments": {},
   "cell_type": "markdown",
   "metadata": {},
   "source": [
    "* $I_{d\\_mtpa}=0$\n",
    "* $I_{q\\_mtpa}=\\frac{T_{ref}}{\\frac{3}{2}n_p\\psi_p}$\n",
    "* $I_{d\\_sat}=I_{d\\_mtpa}=0$\n",
    "* $I_{q\\_sat}=sat(I_{q\\_mtpa},I_{max})$"
   ]
  },
  {
   "attachments": {},
   "cell_type": "markdown",
   "metadata": {},
   "source": [
    "### when $\\omega_e > \\omega_{e\\_base}$"
   ]
  },
  {
   "attachments": {},
   "cell_type": "markdown",
   "metadata": {},
   "source": [
    "* $I_{d\\_fw}=\\frac{(\\omega_{e\\_base-\\omega_e})\\psi_p}{\\omega_eL_d}$\n",
    "* $I_{d\\_sat}=max(I_{d\\_fw},I_{max})$\n",
    "* $I_{q\\_fw}=\\frac{T_{ref}}{\\frac{3}{2}n_p\\psi_p}$\n",
    "* $I_{q\\_lim}=\\sqrt{I_{max}^2-I_{d\\_sat}^2}$\n",
    "* $I_{q\\_sat}=sat(I_{q\\_fw},I_{q\\_lim})$"
   ]
  },
  {
   "attachments": {},
   "cell_type": "markdown",
   "metadata": {},
   "source": [
    "***sat*** **funciton** \\\n",
    "***If*** $I_{q\\_fw}<-I_{q\\_lim}$ \\\n",
    "$I_{q\\_sat}=-I_{q\\_lim}$ \\\n",
    "***If*** $I_{q\\_fw}>I_{q\\_lim}$ \\\n",
    "$I_{q\\_sat}=I_{q\\_lim}$ \\\n",
    "***If*** $-I_{q\\_lim} \\leq I_{q\\_fw}\\geq I_{q\\_lim}$ \\\n",
    "$I_{q\\_sat}=I_{q\\_fw}$ "
   ]
  },
  {
   "attachments": {},
   "cell_type": "markdown",
   "metadata": {},
   "source": [
    "## Interior PMSM"
   ]
  },
  {
   "attachments": {},
   "cell_type": "markdown",
   "metadata": {},
   "source": [
    "$I_{m\\_ref}=\\frac{2T_{ref}}{3n_p\\psi_p}$ \\\n",
    "$I_m=min(I_{m\\_ref},I_{max})$\\\n",
    "$I_{d\\_mtpa}=\\frac{\\psi_p}{4(L_q-L_d)}-\\sqrt{\\frac{\\psi_p^2}{16(L_q-L_d)^2}+\\frac{I_m^2}{2}}$\\\n",
    "$I_{q\\_mtpa}=\\sqrt{I_m^2-(I_{d\\_mtpa})^2}$\\\n",
    "$U_{d0}=-\\omega_eL_qI_q$\\\n",
    "$U_{q0}=\\omega_e(L_dI_d+\\psi_p)$\\\n",
    "$U_{d0}^2+U_{q0}^2=U_{max}^2$\\\n",
    "$(L_qI_q)^2+(L_dI_d+\\psi_p)^2\\leq \\frac{U_{max}^2}{\\omega_e^2}$\\\n",
    "$I_q=\\sqrt{I_{max}^2-I_d^2}$\\\n",
    "$(L_q^2-L_q^2)^2I_d^2+2\\psi_pL_dI_d+L_q^2I_{max}^2 - \\frac{U_{max}^2}{\\omega_e^2}=0$\n",
    "\n"
   ]
  },
  {
   "attachments": {},
   "cell_type": "markdown",
   "metadata": {},
   "source": [
    "* $U_{d0}$ is the d-axis voltage when $I_d$ is zero (Volts).\n",
    "* $U_{q0}$ is the q-axis voltage when $I_q$ is zero (Volts)."
   ]
  },
  {
   "attachments": {},
   "cell_type": "markdown",
   "metadata": {},
   "source": [
    "$I_{d\\_fw}=\\frac{-\\psi_pL_d+\\sqrt{(\\psi_pL_d)^2-(L_d^2-L_q^2)(\\psi_p^2+L_q^2I_{max}^2-\\frac{U_{max}^2}{\\omega_e^2})}}{(L_d^2-L_q^2)}$\n",
    "\n",
    "$I_{q\\_fw}=\\sqrt{I_{max}^2-I_{d\\_fw}^2}$"
   ]
  },
  {
   "attachments": {},
   "cell_type": "markdown",
   "metadata": {},
   "source": [
    "The following two equations describe computation of field-weakening currents for a given speed and torque value.\n",
    "\n"
   ]
  },
  {
   "attachments": {},
   "cell_type": "markdown",
   "metadata": {},
   "source": [
    "$I_{d\\_fw}=-\\frac{\\psi_p}{L_d}+\\frac{1}{L_d}\\sqrt{\\frac{U_{max}^2}{\\omega_e^2}-(L_qI_{q\\_fw})^2}$\n",
    "\n",
    "$\\begin{aligned}\n",
    "&9n_p^2(L_d-L_q)^2L_q^2 \\omega_e^2I_{q\\_fw}^4 \\\\\n",
    "&+(9n_p^2 \\psi_p^2L_q^2\\omega_e^2-9n_p^2(L_d-L_q)^2U_{max}^2 )I_{q\\_fw}^2\\\\\n",
    "&-12T_{ref}n_p\\psi_pL_dL_q\\omega_e^2I_{q\\_fw}\\\\\n",
    "&+4T_{ref}^2L_d^2\\omega_e^2\\\\\n",
    "&=0\n",
    "\\end{aligned}$"
   ]
  },
  {
   "attachments": {},
   "cell_type": "markdown",
   "metadata": {},
   "source": [
    "### To reduce the computation time, the block uses approximations to solve the preceding polynomial."
   ]
  },
  {
   "attachments": {},
   "cell_type": "markdown",
   "metadata": {},
   "source": [
    "#### when $\\omega_e \\leq \\omega_{e\\_base}$"
   ]
  },
  {
   "attachments": {},
   "cell_type": "markdown",
   "metadata": {},
   "source": [
    "* $I_{d\\_ref}=I_{d\\_mtpa}$\n",
    "* $I_{q\\_ref}=I_{q\\_mtpa}$"
   ]
  },
  {
   "attachments": {},
   "cell_type": "markdown",
   "metadata": {},
   "source": [
    "#### when $\\omega_e > \\omega_{e\\_base}$"
   ]
  },
  {
   "attachments": {},
   "cell_type": "markdown",
   "metadata": {},
   "source": [
    "* $I_{d\\_ref}=max(I_{d\\_fw},-I_{max})$\n",
    "* $I_{q\\_fw}=\\sqrt{I_{max}^2-I_{d\\_fw}^2}$"
   ]
  },
  {
   "attachments": {},
   "cell_type": "markdown",
   "metadata": {},
   "source": [
    "#### ***IF*** $I_{q\\_fw}<{I_{m}}$"
   ]
  },
  {
   "attachments": {},
   "cell_type": "markdown",
   "metadata": {},
   "source": [
    "* $I_{q\\_ref}=I_{q\\_fw}$"
   ]
  },
  {
   "attachments": {},
   "cell_type": "markdown",
   "metadata": {},
   "source": [
    "#### ***IF*** $I_{q\\_fw} \\geq{I_{m}}$"
   ]
  },
  {
   "attachments": {},
   "cell_type": "markdown",
   "metadata": {},
   "source": [
    "* $I_{q\\_ref}=I_{m}$"
   ]
  },
  {
   "cell_type": "markdown",
   "metadata": {},
   "source": [
    "***sat*** **funciton** \\\n",
    "***If*** $I_{q\\_fw}<-I_{q\\_lim}$ \\\n",
    "$I_{q\\_sat}=-I_{q\\_lim}$ \\\n",
    "***If*** $I_{q\\_fw}>I_{q\\_lim}$ \\\n",
    "$I_{q\\_sat}=I_{q\\_lim}$ \\\n",
    "***If*** $-I_{q\\_lim} \\leq I_{q\\_fw}\\geq I_{q\\_lim}$ \\\n",
    "$I_{q\\_sat}=I_{q\\_fw}$ "
   ]
  },
  {
   "attachments": {},
   "cell_type": "markdown",
   "metadata": {},
   "source": [
    "##### TODO MTPA plot"
   ]
  },
  {
   "cell_type": "code",
   "execution_count": 4,
   "metadata": {},
   "outputs": [
    {
     "data": {
      "image/png": "[encoded data removed]",
      "text/plain": [
       "<Figure size 432x288 with 1 Axes>"
      ]
     },
     "metadata": {
      "needs_background": "light"
     },
     "output_type": "display_data"
    }
   ],
   "source": [
    "from matplotlib.patches import Ellipse\n",
    "import matplotlib.pyplot as plt\n",
    "fig = plt.figure()\n",
    "ax = fig.add_subplot(111)\n",
    "ell1 = Ellipse(xy = (0.0, 0.0), width = 4, height = 8, angle = 90.0, facecolor= 'blue', alpha=0.3)\n",
    "ax.add_patch(ell1)\n",
    "x, y = 0, 0\n",
    "ax.plot(x, y, '.')\n",
    "plt.show()\n"
   ]
  },
  {
   "attachments": {},
   "cell_type": "markdown",
   "metadata": {},
   "source": [
    "#### 3.D-axis component of current vector is limited such as to avoid PM demagnetization\n"
   ]
  },
  {
   "attachments": {},
   "cell_type": "markdown",
   "metadata": {},
   "source": [
    "* Depends on motor magnetic design and used PMs\n",
    "* Current vector created by DQ-axis currents must lie within area surrounded by current limit circle,voltage limit ellipse and MTPA line\n",
    "* Voltage limit ellipse shrinks with increased rotor speed and constrains the MTPA\n",
    "* Amplitude of current limit circle is constant throughout the motor operation and depends on motor parameters\n",
    "* Depending on parameters of permanent magnets,maximum level of safe demagnetization can not be exceeded"
   ]
  },
  {
   "attachments": {},
   "cell_type": "markdown",
   "metadata": {},
   "source": [
    "### MTPA-Integration of FW-MTPA into FOC"
   ]
  },
  {
   "attachments": {},
   "cell_type": "markdown",
   "metadata": {},
   "source": [
    "Field weakening + MTPA provided by close loop regulation of stator d-axis current\n",
    "component and limitation of applied torque"
   ]
  },
  {
   "attachments": {},
   "cell_type": "markdown",
   "metadata": {},
   "source": [
    "***Pros***\n",
    "* Minimizes electrical losses\n",
    "* Optimizes drive and inverter efficiency\n",
    "* Maximum developed torque of FOC with MTPA is greater than that of conventional FOC\n",
    "  \n",
    "***Cons***\n",
    "* Motor parameters LdLq k E has to be identified\n",
    "* Requires additional calculation (MULT + SQRT)\n",
    "* Care must be taken to avoid irreversible demagnetization of permanent magnets"
   ]
  }
 ],
 "metadata": {
  "kernelspec": {
   "display_name": "Python 3.10.5 64-bit",
   "language": "python",
   "name": "python3"
  },
  "language_info": {
   "codemirror_mode": {
    "name": "ipython",
    "version": 3
   },
   "file_extension": ".py",
   "mimetype": "text/x-python",
   "name": "python",
   "nbconvert_exporter": "python",
   "pygments_lexer": "ipython3",
   "version": "3.10.5"
  },
  "orig_nbformat": 4,
  "vscode": {
   "interpreter": {
    "hash": "08436e1dada134e6f143ad49e4eee140dcced4b0aa01ee837effa9e93d0a4d35"
   }
  }
 },
 "nbformat": 4,
 "nbformat_minor": 2
}
