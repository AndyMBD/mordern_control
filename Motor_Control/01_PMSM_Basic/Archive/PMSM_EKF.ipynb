{
 "cells": [
  {
   "attachments": {},
   "cell_type": "markdown",
   "metadata": {},
   "source": [
    "# PMSM Motor EKF"
   ]
  },
  {
   "attachments": {},
   "cell_type": "markdown",
   "metadata": {},
   "source": [
    "* 方差\n",
    "* 标准差\n",
    "* 协方差"
   ]
  },
  {
   "attachments": {},
   "cell_type": "markdown",
   "metadata": {},
   "source": [
    "## 期望"
   ]
  },
  {
   "attachments": {},
   "cell_type": "markdown",
   "metadata": {},
   "source": [
    "### 离散型随机变量的数学期望"
   ]
  },
  {
   "attachments": {},
   "cell_type": "markdown",
   "metadata": {},
   "source": [
    "$E(X)=\\displaystyle\\sum_{i=1}^{N} x_i*p_i$"
   ]
  },
  {
   "attachments": {},
   "cell_type": "markdown",
   "metadata": {},
   "source": [
    "$p_{i}$是变量$x_{i}$发生的概率。"
   ]
  },
  {
   "attachments": {},
   "cell_type": "markdown",
   "metadata": {},
   "source": [
    "### 连续型随机变量的数学期望"
   ]
  },
  {
   "attachments": {},
   "cell_type": "markdown",
   "metadata": {},
   "source": [
    "$E(X)=\\displaystyle\\int_{-\\infty}^{+\\infty} xf(x)dx$"
   ]
  },
  {
   "attachments": {},
   "cell_type": "markdown",
   "metadata": {},
   "source": [
    "$f(x)$是概率密度。"
   ]
  },
  {
   "attachments": {},
   "cell_type": "markdown",
   "metadata": {},
   "source": [
    "<!--连加-->\n",
    "$\\sum_{i = 1}^{n}x_i$\n",
    "\n",
    "$\\displaystyle\\sum_{i = 1}^{n}x_i$\n",
    "\n",
    "<!--连乘-->\n",
    "$\\prod_{i = 1}^{n}x_i$\n",
    "\n",
    "$\\displaystyle\\prod_{i = 1}^{n}x_i$\n"
   ]
  },
  {
   "cell_type": "markdown",
   "metadata": {},
   "source": [
    "## 方差 Variance"
   ]
  },
  {
   "attachments": {},
   "cell_type": "markdown",
   "metadata": {},
   "source": [
    "$\\sigma^2=\\frac{\\displaystyle\\sum_{i=1}^{N}(X-\\mu)^2}{N}$"
   ]
  },
  {
   "attachments": {},
   "cell_type": "markdown",
   "metadata": {},
   "source": [
    "* $\\sigma$ sample variance\n",
    "* $X$ sample input\n",
    "* $\\mu$ sample average\n",
    "* $N$ sample number"
   ]
  },
  {
   "attachments": {},
   "cell_type": "markdown",
   "metadata": {},
   "source": [
    "## 标准差 Standard Deviation"
   ]
  },
  {
   "attachments": {},
   "cell_type": "markdown",
   "metadata": {},
   "source": [
    "$\\sigma=\\sqrt{\\frac{\\displaystyle\\sum_{i=1}^{N}(X-\\mu)^2}{N}}$"
   ]
  },
  {
   "attachments": {},
   "cell_type": "markdown",
   "metadata": {},
   "source": [
    "$C_{v}=\\frac{\\sigma}{\\mu}$ \\\n",
    "$C_v$变异系数"
   ]
  },
  {
   "attachments": {},
   "cell_type": "markdown",
   "metadata": {},
   "source": [
    "## 协方差 Covariance"
   ]
  },
  {
   "attachments": {},
   "cell_type": "markdown",
   "metadata": {},
   "source": [
    "* 协方差（Covariance）用于衡量两个变量的总体误差。\n",
    "* 如果两个变量的变化趋势一致，也就是说如果其中一个大于自身的期望值，另外一个也大于自身的期望值，那么两个变量之间的协方差就是正值。\n",
    "* 如果两个变量的变化趋势相反，即其中一个大于自身的期望值，另外一个却小于自身的期望值，那么两个变量之间的协方差就是负值。"
   ]
  },
  {
   "attachments": {},
   "cell_type": "markdown",
   "metadata": {},
   "source": [
    "$Cov(X,Y)=E[(X-E[X])*(Y-E[Y])]$\\\n",
    "$=E[XY]-2E[X]E[Y]+E[X]E[Y]$\\\n",
    "$=E[XY]-E[X]E[Y]$"
   ]
  },
  {
   "attachments": {},
   "cell_type": "markdown",
   "metadata": {},
   "source": [
    "$Cov=E[(X-\\mu_{x})(Y-\\mu_{y})]$"
   ]
  },
  {
   "attachments": {},
   "cell_type": "markdown",
   "metadata": {},
   "source": [
    "如果有X,Y两个变量，每个时刻的“X值与其均值之差”**乘以**“Y值与其均值之差”得到一个乘积，\n",
    "再对这每时刻的乘积求和并求出均值。"
   ]
  },
  {
   "attachments": {},
   "cell_type": "markdown",
   "metadata": {},
   "source": [
    "1. 协方差可以反应两个变量的协同关系， 变化趋势是否一致。同向还是方向变化。\n",
    "2. X变大，同时Y也变大，说明两个变量是同向变化的，这时协方差就是正的。\n",
    "3. X变大，同时Y变小，说明两个变量是反向变化的，这时协方差就是负的。\n",
    "4. 从数值来看，协方差的数值越大，两个变量同向程度也就越大。反之亦然。"
   ]
  },
  {
   "attachments": {},
   "cell_type": "markdown",
   "metadata": {},
   "source": [
    "## 相关系数 Correlation Coefficient"
   ]
  },
  {
   "attachments": {},
   "cell_type": "markdown",
   "metadata": {},
   "source": [
    "$p=\\frac{Cov(X,Y)}{\\sigma_{x}\\sigma_{y}}$"
   ]
  },
  {
   "attachments": {},
   "cell_type": "markdown",
   "metadata": {},
   "source": [
    "相关系数是协方差的归一化(normalization)， 消除了两个变量量纲/变化幅度不同的影响。单纯反映两个变量在每单位变化的相似程度。"
   ]
  },
  {
   "attachments": {},
   "cell_type": "markdown",
   "metadata": {},
   "source": [
    "## 协方差矩阵"
   ]
  },
  {
   "cell_type": "markdown",
   "metadata": {},
   "source": []
  }
 ],
 "metadata": {
  "kernelspec": {
   "display_name": "Python 3 (ipykernel)",
   "language": "python",
   "name": "python3"
  },
  "language_info": {
   "codemirror_mode": {
    "name": "ipython",
    "version": 3
   },
   "file_extension": ".py",
   "mimetype": "text/x-python",
   "name": "python",
   "nbconvert_exporter": "python",
   "pygments_lexer": "ipython3",
   "version": "3.10.5"
  },
  "vscode": {
   "interpreter": {
    "hash": "08436e1dada134e6f143ad49e4eee140dcced4b0aa01ee837effa9e93d0a4d35"
   }
  }
 },
 "nbformat": 4,
 "nbformat_minor": 2
}
