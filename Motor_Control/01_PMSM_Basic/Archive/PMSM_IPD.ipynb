{
 "cells": [
  {
   "cell_type": "markdown",
   "metadata": {},
   "source": [
    "# PMSM Initial Position Detection"
   ]
  },
  {
   "cell_type": "markdown",
   "metadata": {},
   "source": [
    "* Sensorless Control of PMSM Drive Using Sliding-Mode-Observers\n",
    "* Barna Marcell Temesi, Una Gudrun Gautadottir\n",
    "* Energy Technology, MCE3-921, 2020-05\n",
    "* Master’s Thesis\n"
   ]
  },
  {
   "cell_type": "markdown",
   "metadata": {},
   "source": [
    "## Sensorless control for low speeds"
   ]
  },
  {
   "cell_type": "markdown",
   "metadata": {},
   "source": [
    "Sensorless control for low speeds is notably problematic due to the low magnitude \\\n",
    "of the measured signals compared to the noise or the back-EMF, which eventually \\\n",
    "vanishing at zero speed. Methods based on rotor saliency and the change of the \\\n",
    "saliency were invented and researched."
   ]
  },
  {
   "cell_type": "markdown",
   "metadata": {},
   "source": [
    "The most popular method is called INFORM. It is based on the fact that the magnetic \\\n",
    "anisotropy of the rotor gives information about its position. The magnetic \\\n",
    "anisotropy is detected by injecting test voltages, then measuring the change in the \\\n",
    "stator current vector. Low-pass filters are needed to extract the high frequency \\\n",
    "current component which is fed back to the current controllers. Low-pass filters \\\n",
    "introduce phase delay into the system which in result, limits the bandwidth of the \\\n",
    "current controllers. In case the filtering is not adequate, torque ripples can occur \\\n",
    "in the system [7]."
   ]
  },
  {
   "cell_type": "markdown",
   "metadata": {},
   "source": [
    "There are several methods based on this estimation principle, they only differ in \\\n",
    "how the voltage vector is injected. \n",
    "There are two widely used types,\n",
    "* injects a rotating voltage vector in the stationary reference frame , \n",
    "* injects a pulsating voltage vector in the estimated d-axis or q-axis of the estimated rotor \\\n",
    "reference frame. \n",
    "\n",
    "Feeding the calculated difference signal through a PLL, the speed and position signals now can be acquired. "
   ]
  },
  {
   "cell_type": "markdown",
   "metadata": {},
   "source": [
    "The Square-wave type voltage injection method relies on the injection of highfrequency \\\n",
    "square-wave-type voltage. The frequency is chosen to be half the sampling   \\\n",
    "frequency. This frequency is much higher than the frequency of the injected \\\n",
    "voltage in other methods. Filtering is still needed in this case, but the cut-off frequency \\\n",
    "of the low-pass filters can be increased alongside with the bandwidth of the    \\\n",
    "current controllers. This enhances the overall performance of the system."
   ]
  },
  {
   "attachments": {},
   "cell_type": "markdown",
   "metadata": {},
   "source": [
    "Adaptive Compensation Method of Position Estimation Harmonic Error for EMF-Based Observer in Sensorless IPMSM Drives\n",
    "Effectiveness of Voltage Error Compensation and Parameter Identification for Model-Based Sensorless Control of IPMSM"
   ]
  },
  {
   "cell_type": "markdown",
   "metadata": {},
   "source": [
    "## Open-loop startup methods"
   ]
  },
  {
   "cell_type": "markdown",
   "metadata": {},
   "source": [
    "The two most used open-loop methods are V/ f control and I-f control. \n",
    "\n",
    "Openloop startup techniques are often used when the criteria of performance are not  \\\n",
    "strict. This results in a simpler system with fewer components. \n",
    "\n",
    "In the case of speed control, in open-loop control, the speed is not fed back to the \\\n",
    "controller. This means, an encoder is not needed, which saves weight and money. \n",
    "\n",
    "This heavily reduces the robustness of the system, because it is only assumed now that \\\n",
    "the speed matches the reference speed. The handling of load torques and the rejection   \\\n",
    "of disturbance torques have to be carefully considered during the design process    "
   ]
  },
  {
   "cell_type": "markdown",
   "metadata": {},
   "source": []
  },
  {
   "attachments": {},
   "cell_type": "markdown",
   "metadata": {},
   "source": [
    "## alignment algorithm"
   ]
  }
 ],
 "metadata": {
  "kernelspec": {
   "display_name": "Python 3 (ipykernel)",
   "language": "python",
   "name": "python3"
  },
  "language_info": {
   "codemirror_mode": {
    "name": "ipython",
    "version": 3
   },
   "file_extension": ".py",
   "mimetype": "text/x-python",
   "name": "python",
   "nbconvert_exporter": "python",
   "pygments_lexer": "ipython3",
   "version": "3.10.5"
  },
  "vscode": {
   "interpreter": {
    "hash": "08436e1dada134e6f143ad49e4eee140dcced4b0aa01ee837effa9e93d0a4d35"
   }
  }
 },
 "nbformat": 4,
 "nbformat_minor": 2
}
