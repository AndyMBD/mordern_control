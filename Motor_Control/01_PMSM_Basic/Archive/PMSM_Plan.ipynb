{
 "cells": [
  {
   "cell_type": "markdown",
   "metadata": {},
   "source": [
    "# <font size=4 face=\"Arial\">PMSM Plan</font>  "
   ]
  },
  {
   "cell_type": "markdown",
   "metadata": {},
   "source": [
    "## <font size=4 face=\"Arial\">PMSM Basic </font>  "
   ]
  },
  {
   "cell_type": "markdown",
   "metadata": {},
   "source": [
    "<input type=\"checkbox\">[PMSM_Basic](./PMSM_Basic.ipynb) "
   ]
  },
  {
   "cell_type": "markdown",
   "metadata": {},
   "source": [
    "<input type=\"checkbox\">[PMSM_Clark_Park_IClark_I_Park](./PMSM_Clark_Park_IClark_I_Park.ipynb) \n"
   ]
  },
  {
   "cell_type": "markdown",
   "metadata": {},
   "source": [
    "<input type=\"checkbox\">[PMSM_SVPWM](./PMSM_SVPWM.ipynb) "
   ]
  },
  {
   "cell_type": "markdown",
   "metadata": {},
   "source": [
    "<input type=\"checkbox\">[PMSM_Motor_Identification](./PMSM_Motor_Identification.ipynb) \n"
   ]
  },
  {
   "cell_type": "markdown",
   "metadata": {},
   "source": [
    "<input type=\"checkbox\">[PMSM_Estimation_RL](./PMSM_Estimation_RL.ipynb) \n"
   ]
  },
  {
   "cell_type": "markdown",
   "metadata": {},
   "source": [
    "<input type=\"checkbox\">[PMSM_Current_Reconstruction](./PMSM_Current_Reconstruction.ipynb) "
   ]
  },
  {
   "cell_type": "markdown",
   "metadata": {},
   "source": [
    "## <font size=4 face=\"Arial\">PMSM open loop Start</font>  "
   ]
  },
  {
   "cell_type": "markdown",
   "metadata": {},
   "source": [
    "<input type=\"checkbox\">[PMSM_IPD](./PMSM_IPD.ipynb) \n"
   ]
  },
  {
   "cell_type": "markdown",
   "metadata": {},
   "source": [
    "## <font size=4 face=\"Arial\">PMSM Tuning</font>  "
   ]
  },
  {
   "cell_type": "markdown",
   "metadata": {},
   "source": [
    "<input type=\"checkbox\">[PMSM_BEMF_Speed_Cal](./PMSM_BEMF_Speed_Cal.ipynb) "
   ]
  },
  {
   "cell_type": "markdown",
   "metadata": {},
   "source": [
    "## <font size=4 face=\"Arial\">PMSM Estimation</font>  "
   ]
  },
  {
   "cell_type": "markdown",
   "metadata": {},
   "source": [
    "<input type=\"checkbox\">[PMSM_DTC](./PMSM_DTC.ipynb) \n"
   ]
  },
  {
   "cell_type": "markdown",
   "metadata": {},
   "source": [
    "<input type=\"checkbox\">[PMSM_Estimation_BEMF](./PMSM_Estimation_BEMF.ipynb) \n"
   ]
  },
  {
   "cell_type": "markdown",
   "metadata": {},
   "source": [
    "<input type=\"checkbox\">[PMSM_Estimation_Flux](./PMSM_Estimation_Flux.ipynb) \n"
   ]
  },
  {
   "cell_type": "markdown",
   "metadata": {},
   "source": [
    " <input type=\"checkbox\">[PMSM_Observer_FLUX](./PMSM_Observer_FLUX.ipynb) \n"
   ]
  },
  {
   "cell_type": "markdown",
   "metadata": {},
   "source": [
    "## <font size=4 face=\"Arial\">PMSM Control</font>  "
   ]
  },
  {
   "cell_type": "markdown",
   "metadata": {},
   "source": [
    "<input type=\"checkbox\">[PMSM_FW](./PMSM_FW.ipynb) \n"
   ]
  },
  {
   "cell_type": "markdown",
   "metadata": {},
   "source": [
    "<input type=\"checkbox\">[PMSM_MTPA](./PMSM_MTPA.ipynb)"
   ]
  },
  {
   "cell_type": "markdown",
   "metadata": {},
   "source": [
    "https://community.nxp.com/t5/Model-Based-Design-Toolbox-MBDT/Module-8-Speed-Control/m-p/727476\n",
    "https://community.nxp.com/t5/Model-Based-Design-Toolbox-MBDT/Module-7-Torque-Control/m-p/736921"
   ]
  },
  {
   "cell_type": "markdown",
   "metadata": {},
   "source": [
    "<font size=8 face=\"Arial\">adfa</font>  \n",
    "<input type=\"checkbox\">[PMSM_Observer_FLUX](./PMSM_Observer_FLUX.ipynb)<br>\n",
    "<input type=\"checkbox\">[PMSM_Observer_FLUX](./PMSM_Observer_FLUX.ipynb)<br>\n",
    "\n",
    "\n"
   ]
  },
  {
   "cell_type": "markdown",
   "metadata": {},
   "source": [
    "<font size=8 face=\"Arial\">Aifval</font>\n",
    "<font size=5 color=white face=\"Arial\">Aifjfakjflajfal;jfaklfkalfjaklf<br>val</font>"
   ]
  },
  {
   "cell_type": "markdown",
   "metadata": {},
   "source": [
    "**字体加粗**\n",
    "__字体加粗__\\\n",
    "*字体倾斜*\n",
    "_字体倾斜_"
   ]
  }
 ],
 "metadata": {
  "kernelspec": {
   "display_name": "Python 3 (ipykernel)",
   "language": "python",
   "name": "python3"
  },
  "language_info": {
   "codemirror_mode": {
    "name": "ipython",
    "version": 3
   },
   "file_extension": ".py",
   "mimetype": "text/x-python",
   "name": "python",
   "nbconvert_exporter": "python",
   "pygments_lexer": "ipython3",
   "version": "3.10.5"
  },
  "vscode": {
   "interpreter": {
    "hash": "08436e1dada134e6f143ad49e4eee140dcced4b0aa01ee837effa9e93d0a4d35"
   }
  }
 },
 "nbformat": 4,
 "nbformat_minor": 2
}
