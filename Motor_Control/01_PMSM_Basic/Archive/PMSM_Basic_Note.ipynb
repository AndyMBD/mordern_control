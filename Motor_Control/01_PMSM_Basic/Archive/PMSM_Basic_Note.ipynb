{
 "cells": [
  {
   "cell_type": "markdown",
   "metadata": {},
   "source": [
    "# PMSM Motor"
   ]
  },
  {
   "attachments": {},
   "cell_type": "markdown",
   "metadata": {},
   "source": [
    "* Controlled Three-Phase Drives Prof. Dr.-Ing. Joachim Böcker\n",
    "* Paderborn University Power Electronics and Electrical Drives\n",
    "* Lecture Notes Last Update 2016-01-26\n",
    "* New method of direct reactive energy and torque control for permanent magnet synchronous motor \n",
    "  * M. JANASZEK\n",
    "  * BULLETIN OF THE POLISH ACADEMY OF SCIENCES TECHNICAL SCIENCES\n",
    "  * Vol. 54, No. 3, 2006\n"
   ]
  },
  {
   "attachments": {},
   "cell_type": "markdown",
   "metadata": {},
   "source": [
    "## VF"
   ]
  },
  {
   "attachments": {},
   "cell_type": "markdown",
   "metadata": {},
   "source": [
    "* 一种基于功率观测的永磁同步电机高效V_f控制_张幸浩_章玮\n",
    "* 一种稳定的高速永磁同步电机V_F控制方法\n",
    "* 永磁同步电机高效V_F控制方法研究 朱明东\n",
    "  * ***Active current*** ***deactive Current**** Page 26\n",
    "* ~~永磁同步电机开环V/F稳定控制方法 林东，彭惠 福州大学~~ ***错误很多***\n",
    "* 永磁同步电动机无位置传感器控制与高性能运行策略的研究 孙伟\n",
    "* 永磁同步电机无速度传感器控制综述  李永东, 朱昊 清华大学\n",
    "  * 主要讲现状和有哪些方法"
   ]
  },
  {
   "attachments": {},
   "cell_type": "markdown",
   "metadata": {},
   "source": [
    "## IF"
   ]
  },
  {
   "attachments": {},
   "cell_type": "markdown",
   "metadata": {},
   "source": [
    "* 永磁同步电机全速度范围无位置传感器控制策略研究 王子辉\n"
   ]
  },
  {
   "attachments": {},
   "cell_type": "markdown",
   "metadata": {},
   "source": [
    "用于提高VF控制稳定性的措施， \n",
    "* 如***有功电流前馈*** ***有功功率前馈***等***频率调节方式***， \n",
    "* 以及***无功功率闭环***、***直轴电流前馈***等***电压和相位调节方式***。\\\n",
    "通过这些措施， VF 控制方式可以获得较好的***控制稳定性 较高的电机效率、和较快的转速响应***\n",
    "48 49 52 56 57 58 60\n"
   ]
  },
  {
   "cell_type": "code",
   "execution_count": 13,
   "metadata": {},
   "outputs": [
    {
     "name": "stdout",
     "output_type": "stream",
     "text": [
      "U_A =  0.6666666666666666\n",
      "U_B =  -0.33333333333333315\n",
      "U_C =  -0.33333333333333315\n",
      "U_m =  0.9999999999999999\n",
      "U_1 =  1.0\n",
      "U_2 =  0.3333333333333333\n"
     ]
    }
   ],
   "source": [
    "import numpy as np\n",
    "U_DC=1\n",
    "Angle=0\n",
    "U_A=2/3*U_DC*np.cos(Angle)\n",
    "U_B=2/3*U_DC*np.cos(Angle-2/3*np.pi)\n",
    "U_C=2/3*U_DC*np.cos(Angle+2/3*np.pi)\n",
    "U_m_ABC=U_A-U_B*np.cos(1/3*np.pi)-U_C*np.cos(1/3*np.pi)\n",
    "print(\"U_A = \",U_A)\n",
    "print(\"U_B = \",U_B)\n",
    "print(\"U_C = \",U_C)\n",
    "print(\"U_m = \",U_m_ABC)\n",
    "# U_ABC_Vector=\n",
    "U_1=2/3*U_DC\n",
    "U_2=2/3*U_DC*0.5\n",
    "# U_m_12=\n",
    "print(\"U_1 = \",3/2*U_1)\n",
    "print(\"U_2 = \",U_2)\n",
    "# print(\"U_m_12 = \",U_m_12)\n",
    "# U_12_Vector="
   ]
  }
 ],
 "metadata": {
  "kernelspec": {
   "display_name": "Python 3 (ipykernel)",
   "language": "python",
   "name": "python3"
  },
  "language_info": {
   "codemirror_mode": {
    "name": "ipython",
    "version": 3
   },
   "file_extension": ".py",
   "mimetype": "text/x-python",
   "name": "python",
   "nbconvert_exporter": "python",
   "pygments_lexer": "ipython3",
   "version": "3.10.5"
  },
  "vscode": {
   "interpreter": {
    "hash": "08436e1dada134e6f143ad49e4eee140dcced4b0aa01ee837effa9e93d0a4d35"
   }
  }
 },
 "nbformat": 4,
 "nbformat_minor": 2
}
