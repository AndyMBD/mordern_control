{
 "cells": [
  {
   "cell_type": "markdown",
   "metadata": {},
   "source": [
    "# Direct Torque Control (DTC)"
   ]
  },
  {
   "cell_type": "markdown",
   "metadata": {},
   "source": [
    "* Controlled Three-Phase Drives Prof. Dr.-Ing. Joachim Böcker\n",
    "* Paderborn University Power Electronics and Electrical Drives\n",
    "* Lecture Notes Last Update 2016-01-26"
   ]
  },
  {
   "attachments": {},
   "cell_type": "markdown",
   "metadata": {},
   "source": [
    "## Torque\n",
    "\n",
    "\n",
    "\n"
   ]
  },
  {
   "cell_type": "markdown",
   "metadata": {},
   "source": [
    "$\n",
    "T =\\frac{3}{2}p*(\\Psi_{p\\alpha}I_{\\beta} -\\Psi_{p\\beta}I_{\\alpha})  \\\\\n",
    "$\\\n",
    "$\n",
    "T =\\frac{3}{2}p*\\Psi_{p}\\times I_{s}\\\\\n",
    "$\\\n",
    "$\n",
    "\\Psi_{s}=L_{s}I_{s}+\\Psi_{p} \\\\\n",
    "$\\\n",
    "$\n",
    "T =\\frac{3}{2}p*\\Psi_{p}\\times I_{s}=\\frac{3}{2}p*(\\Psi_{s}-L_{s}I_{s})\\times I_{s}=\\frac{3}{2}p\\Psi_{s}\\times I_{s}\\\\\n",
    "$\\\n",
    "$\n",
    "T =\\frac{3}{2}p*\\Psi_{p}\\times I_{s}=\\frac{3}{2L_{s}}p*\\Psi_{p}\\times (\\Psi_{s}-\\Psi_{p})\\\\\n",
    "$"
   ]
  },
  {
   "cell_type": "markdown",
   "metadata": {},
   "source": [
    "$a \\times b$ \\\n",
    "$a \\cdot b$"
   ]
  },
  {
   "cell_type": "markdown",
   "metadata": {},
   "source": [
    "<img src=\"./DTC_vector.png\">"
   ]
  }
 ],
 "metadata": {
  "kernelspec": {
   "display_name": "Python 3.10.5 64-bit",
   "language": "python",
   "name": "python3"
  },
  "language_info": {
   "codemirror_mode": {
    "name": "ipython",
    "version": 3
   },
   "file_extension": ".py",
   "mimetype": "text/x-python",
   "name": "python",
   "nbconvert_exporter": "python",
   "pygments_lexer": "ipython3",
   "version": "3.10.5"
  },
  "orig_nbformat": 4,
  "vscode": {
   "interpreter": {
    "hash": "08436e1dada134e6f143ad49e4eee140dcced4b0aa01ee837effa9e93d0a4d35"
   }
  }
 },
 "nbformat": 4,
 "nbformat_minor": 2
}
