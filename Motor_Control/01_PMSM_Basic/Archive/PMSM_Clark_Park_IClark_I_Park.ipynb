{
 "cells": [
  {
   "attachments": {},
   "cell_type": "markdown",
   "metadata": {},
   "source": [
    "# PMSM Clark Park I_Clark I_Park Transfmation\n",
    "\n"
   ]
  },
  {
   "cell_type": "markdown",
   "metadata": {},
   "source": [
    "## Clark"
   ]
  },
  {
   "attachments": {},
   "cell_type": "markdown",
   "metadata": {},
   "source": [
    "$I_A+I_B+I_C=0$\\\n",
    "$I_\\alpha=I_A-I_B*sin(\\pi/6)-I_C*sin(\\pi/6)=I_A-\\frac{1}{2}I_B-\\frac{1}{2}I_C$\\\n",
    "$I_\\beta=I_B*cos(\\pi/6)-I_C*cos(\\pi/6)=\\frac{\\sqrt{3}}{2}I_B-\\frac{\\sqrt{3}}{2}I_C$"
   ]
  },
  {
   "attachments": {},
   "cell_type": "markdown",
   "metadata": {},
   "source": [
    "$\n",
    "    \\begin{bmatrix}\n",
    "        I_{\\alpha}\\\\\n",
    "        I_{\\beta} \\\\\n",
    "    \\end{bmatrix}\n",
    "    =\n",
    "    \\begin{bmatrix}\n",
    "        1    & -\\frac{1}{2}         & -\\frac{1}{2}\\\\\n",
    "        0    & \\frac{\\sqrt{3}}{2}   &  -\\frac{\\sqrt{3}}{2}\\\\\n",
    "    \\end{bmatrix}*\n",
    "    \\begin{bmatrix}\n",
    "        I_{A} \\\\\n",
    "        I_{B} \\\\\n",
    "        I_{C} \\\\\n",
    "    \\end{bmatrix}\n",
    "$ "
   ]
  },
  {
   "attachments": {},
   "cell_type": "markdown",
   "metadata": {},
   "source": [
    "$I_\\alpha=I_A-\\frac{1}{2}I_B-\\frac{1}{2}I_C=I_A+\\frac{1}{2}I_A=\\frac{3}{2}I_A$\\\n",
    "$I_\\beta=\\frac{\\sqrt{3}}{2}I_B-\\frac{\\sqrt{3}}{2}I_C=\\frac{\\sqrt{3}}{2}(I_B-I_C)=\\frac{\\sqrt{3}}{2}(I_A+2*I_B)$"
   ]
  },
  {
   "attachments": {},
   "cell_type": "markdown",
   "metadata": {},
   "source": [
    "$\n",
    "    \\begin{bmatrix}\n",
    "        I_{\\alpha}\\\\\n",
    "        I_{\\beta} \\\\\n",
    "    \\end{bmatrix}\n",
    "    =\n",
    "    \\begin{bmatrix}\n",
    "        \\frac{3}{2}    & 0         & 0\\\\\n",
    "        \\frac{\\sqrt{3}}{2}    & 2*\\frac{\\sqrt{3}}{2}  & 0\\\\\n",
    "    \\end{bmatrix}*\n",
    "    \\begin{bmatrix}\n",
    "        I_{A} \\\\\n",
    "        I_{B} \\\\\n",
    "        I_{C} \\\\\n",
    "    \\end{bmatrix}\n",
    "$ "
   ]
  },
  {
   "attachments": {},
   "cell_type": "markdown",
   "metadata": {},
   "source": [
    "### Equal Amplitude transfer"
   ]
  },
  {
   "attachments": {},
   "cell_type": "markdown",
   "metadata": {},
   "source": [
    "$\n",
    "    \\begin{bmatrix}\n",
    "        I_{\\alpha}\\\\\n",
    "        I_{\\beta} \\\\\n",
    "    \\end{bmatrix}\n",
    "    =K*\n",
    "    \\begin{bmatrix}\n",
    "        1    & -\\frac{1}{2}         & -\\frac{1}{2}\\\\\n",
    "        0    & \\frac{\\sqrt{3}}{2}   &  -\\frac{\\sqrt{3}}{2}\\\\\n",
    "    \\end{bmatrix}*\n",
    "    \\begin{bmatrix}\n",
    "        I_{A} \\\\\n",
    "        I_{B} \\\\\n",
    "        I_{C} \\\\\n",
    "    \\end{bmatrix}\n",
    "$ "
   ]
  },
  {
   "attachments": {},
   "cell_type": "markdown",
   "metadata": {},
   "source": [
    "$\n",
    "    \\begin{bmatrix}\n",
    "        I_{\\alpha}\\\\\n",
    "        I_{\\beta} \\\\\n",
    "    \\end{bmatrix}\n",
    "    =\\frac{2}{3}*\n",
    "    \\begin{bmatrix}\n",
    "        1    & -\\frac{1}{2}         & -\\frac{1}{2}\\\\\n",
    "        0    & \\frac{\\sqrt{3}}{2}  &  -\\frac{\\sqrt{3}}{2}\\\\\n",
    "    \\end{bmatrix}*\n",
    "    \\begin{bmatrix}\n",
    "        I_{A} \\\\\n",
    "        I_{B} \\\\\n",
    "        I_{C} \\\\\n",
    "    \\end{bmatrix}\n",
    "    =\\begin{bmatrix}\n",
    "        \\frac{2}{3}    & -\\frac{1}{3}         & -\\frac{1}{3}\\\\\n",
    "        0    & \\frac{1}{\\sqrt{3}}  &  -\\frac{1}{\\sqrt{3}}\\\\\n",
    "    \\end{bmatrix}*\n",
    "    \\begin{bmatrix}\n",
    "        I_{A} \\\\\n",
    "        I_{B} \\\\\n",
    "        I_{C} \\\\\n",
    "    \\end{bmatrix}\n",
    "$ "
   ]
  },
  {
   "attachments": {},
   "cell_type": "markdown",
   "metadata": {},
   "source": [
    "$I_\\alpha=\\frac{2}{3}*\\frac{3}{2}I_A=I_A$\\\n",
    "$I_\\beta=\\frac{2}{3}*\\frac{\\sqrt{3}}{2}(I_A+2*I_B)=\\frac{1}{\\sqrt{3}}(I_A+2*I_B)$"
   ]
  },
  {
   "attachments": {},
   "cell_type": "markdown",
   "metadata": {},
   "source": [
    "$\n",
    "    \\begin{bmatrix}\n",
    "        I_{\\alpha}\\\\\n",
    "        I_{\\beta} \\\\\n",
    "    \\end{bmatrix}\n",
    "    =\\frac{2}{3}\n",
    "    \\begin{bmatrix}\n",
    "        \\frac{3}{2}    & 0         & 0\\\\\n",
    "        \\frac{\\sqrt{3}}{2}    & 2*\\frac{\\sqrt{3}}{2}  & 0\\\\\n",
    "    \\end{bmatrix}*\n",
    "    \\begin{bmatrix}\n",
    "        I_{A} \\\\\n",
    "        I_{B} \\\\\n",
    "        I_{C} \\\\\n",
    "    \\end{bmatrix}\n",
    "    =\\begin{bmatrix}\n",
    "        1    & 0         & 0\\\\\n",
    "        \\frac{1}{\\sqrt{3}}    & \\frac{2}{\\sqrt{3}}  & 0\\\\\n",
    "    \\end{bmatrix}*\n",
    "    \\begin{bmatrix}\n",
    "        I_{A} \\\\\n",
    "        I_{B} \\\\\n",
    "        I_{C} \\\\\n",
    "    \\end{bmatrix}\n",
    "$ "
   ]
  },
  {
   "attachments": {},
   "cell_type": "markdown",
   "metadata": {},
   "source": [
    "### Equal Power transfer"
   ]
  },
  {
   "attachments": {},
   "cell_type": "markdown",
   "metadata": {},
   "source": [
    "$\n",
    "    \\begin{bmatrix}\n",
    "        I_{\\alpha}\\\\\n",
    "        I_{\\beta} \\\\\n",
    "    \\end{bmatrix}\n",
    "    =K*\n",
    "    \\begin{bmatrix}\n",
    "        1    & -\\frac{1}{2}         & -\\frac{1}{2}\\\\\n",
    "        0    & \\frac{\\sqrt{3}}{2}  &  -\\frac{\\sqrt{3}}{2}\\\\\n",
    "    \\end{bmatrix}*\n",
    "    \\begin{bmatrix}\n",
    "        I_{A} \\\\\n",
    "        I_{B} \\\\\n",
    "        I_{C} \\\\\n",
    "    \\end{bmatrix}\n",
    "$ "
   ]
  },
  {
   "attachments": {},
   "cell_type": "markdown",
   "metadata": {},
   "source": [
    "$\n",
    "    \\begin{bmatrix}\n",
    "        I_{\\alpha}\\\\\n",
    "        I_{\\beta} \\\\\n",
    "    \\end{bmatrix}\n",
    "    =\\sqrt{\\frac{2}{3}}*\n",
    "    \\begin{bmatrix}\n",
    "        1    & -\\frac{1}{2}         & -\\frac{1}{2}\\\\\n",
    "        0    & \\frac{\\sqrt{3}}{2}  &  -\\frac{\\sqrt{3}}{2}\\\\\n",
    "    \\end{bmatrix}*\n",
    "    \\begin{bmatrix}\n",
    "        I_{A} \\\\\n",
    "        I_{B} \\\\\n",
    "        I_{C} \\\\\n",
    "    \\end{bmatrix}\n",
    "$ "
   ]
  },
  {
   "attachments": {},
   "cell_type": "markdown",
   "metadata": {},
   "source": [
    "$\n",
    "    \\begin{bmatrix}\n",
    "        I_{\\alpha}\\\\\n",
    "        I_{\\beta} \\\\\n",
    "    \\end{bmatrix}\n",
    "    =\\sqrt\\frac{2}{3}*\n",
    "    \\begin{bmatrix}\n",
    "        1    & -\\frac{1}{2}         & -\\frac{1}{2}\\\\\n",
    "        0    & \\frac{\\sqrt{3}}{2}  &  -\\frac{\\sqrt{3}}{2}\\\\\n",
    "    \\end{bmatrix}*\n",
    "    \\begin{bmatrix}\n",
    "        I_{A} \\\\\n",
    "        I_{B} \\\\\n",
    "        I_{C} \\\\\n",
    "    \\end{bmatrix}\n",
    "    =\\begin{bmatrix}\n",
    "        \\sqrt\\frac{2}{3}    & -\\sqrt\\frac{1}{6}        & -\\sqrt\\frac{1}{6}\\\\\n",
    "        0                   & \\sqrt\\frac{1}{2}         &  -\\sqrt\\frac{1}{2}\\\\\n",
    "    \\end{bmatrix}*\n",
    "    \\begin{bmatrix}\n",
    "        I_{A} \\\\\n",
    "        I_{B} \\\\\n",
    "        I_{C} \\\\\n",
    "    \\end{bmatrix}\n",
    "$ "
   ]
  },
  {
   "attachments": {},
   "cell_type": "markdown",
   "metadata": {},
   "source": [
    "$\n",
    "    \\begin{bmatrix}\n",
    "        I_{\\alpha}\\\\\n",
    "        I_{\\beta} \\\\\n",
    "    \\end{bmatrix}\n",
    "    =\\sqrt{\\frac{2}{3}}\n",
    "    \\begin{bmatrix}\n",
    "        \\frac{3}{2}    & 0         & 0\\\\\n",
    "        \\frac{\\sqrt{3}}{2}    & 2*\\frac{\\sqrt{3}}{2}  & 0\\\\\n",
    "    \\end{bmatrix}*\n",
    "    \\begin{bmatrix}\n",
    "        I_{A} \\\\\n",
    "        I_{B} \\\\\n",
    "        I_{C} \\\\\n",
    "    \\end{bmatrix}\n",
    "    =\\begin{bmatrix}\n",
    "        \\sqrt{\\frac{3}{2}}    & 0         & 0\\\\\n",
    "        \\sqrt{\\frac{1}{2}}    & 1         & 0\\\\\n",
    "    \\end{bmatrix}*\n",
    "    \\begin{bmatrix}\n",
    "        I_{A} \\\\\n",
    "        I_{B} \\\\\n",
    "        I_{C} \\\\\n",
    "    \\end{bmatrix}\n",
    "$ "
   ]
  },
  {
   "cell_type": "markdown",
   "metadata": {},
   "source": [
    "## Park"
   ]
  }
 ],
 "metadata": {
  "kernelspec": {
   "display_name": "Python 3.10.5 64-bit",
   "language": "python",
   "name": "python3"
  },
  "language_info": {
   "codemirror_mode": {
    "name": "ipython",
    "version": 3
   },
   "file_extension": ".py",
   "mimetype": "text/x-python",
   "name": "python",
   "nbconvert_exporter": "python",
   "pygments_lexer": "ipython3",
   "version": "3.10.5"
  },
  "orig_nbformat": 4,
  "vscode": {
   "interpreter": {
    "hash": "08436e1dada134e6f143ad49e4eee140dcced4b0aa01ee837effa9e93d0a4d35"
   }
  }
 },
 "nbformat": 4,
 "nbformat_minor": 2
}
