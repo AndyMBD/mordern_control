{
 "cells": [
  {
   "cell_type": "code",
   "execution_count": 2,
   "id": "7a2d4d30",
   "metadata": {},
   "outputs": [],
   "source": [
    "import nbformat\n",
    "from nbconvert import MarkdownExporter\n",
    "\n",
    "def convert_ipynb_to_md(ipynb_file, md_file):\n",
    "    with open(ipynb_file, 'r', encoding='utf-8') as f:\n",
    "        nb = nbformat.read(f, as_version=4)\n",
    "    \n",
    "    exporter = MarkdownExporter()\n",
    "    body, _ = exporter.from_notebook_node(nb)\n",
    "    \n",
    "    with open(md_file, 'w', encoding='utf-8') as f:\n",
    "        f.write(body)\n",
    "\n",
    "# 使用示例\n",
    "# convert_ipynb_to_md('PMSM_Basic_Note.ipynb', 'output.md')\n",
    "convert_ipynb_to_md('Controlled_Three_Phase_Drives_Prof._Dr_Ing_Joachim.ipynb' ,'Controlled_Three_Phase_Drives_Prof._Dr_Ing_Joachim.md')\n",
    "# convert_ipynb_to_md('Observer_SM.ipynb' ,'Observer_SM.md')\n",
    "# convert_ipynb_to_md('PMSM_Estimation_BEMF.ipynb' ,'PMSM_Estimation_BEMF.md')\n",
    "# convert_ipynb_to_md('PMSM_Estimation_BEMF_Luenberger.ipynb' ,'PMSM_Estimation_BEMF_Luenberger.md')\n",
    "# convert_ipynb_to_md('PMSM_Estimation_BEMF_NXP.ipynb' ,'PMSM_Estimation_BEMF_NXP.md')\n",
    "# convert_ipynb_to_md('PMSM_Estimation_Infineon_Flux_001.ipynb' ,'PMSM_Estimation_Infineon_Flux_001.md')\n",
    "# convert_ipynb_to_md('PMSM_Estimation_Infineon_Flux_002.ipynb' ,'PMSM_Estimation_Infineon_Flux_002.md')\n",
    "# convert_ipynb_to_md('PMSM_Estimation_Renesas.ipynb' ,'PMSM_Estimation_Renesas.md')\n",
    "# convert_ipynb_to_md('PMSM_Estimation_RL.ipynb' ,'PMSM_Estimation_RL.md')\n"
   ]
  }
 ],
 "metadata": {
  "kernelspec": {
   "display_name": "Python 3",
   "language": "python",
   "name": "python3"
  },
  "language_info": {
   "codemirror_mode": {
    "name": "ipython",
    "version": 3
   },
   "file_extension": ".py",
   "mimetype": "text/x-python",
   "name": "python",
   "nbconvert_exporter": "python",
   "pygments_lexer": "ipython3",
   "version": "3.12.1"
  }
 },
 "nbformat": 4,
 "nbformat_minor": 5
}
