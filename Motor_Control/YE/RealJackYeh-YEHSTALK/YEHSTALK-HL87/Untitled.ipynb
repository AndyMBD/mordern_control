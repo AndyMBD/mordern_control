{
 "cells": [
  {
   "cell_type": "code",
   "execution_count": 1,
   "id": "f0715f41-3d72-403c-b4ab-5a6a6f2e8f0b",
   "metadata": {},
   "outputs": [],
   "source": [
    "x=1+0.5j"
   ]
  },
  {
   "cell_type": "code",
   "execution_count": 2,
   "id": "1af45ee7-a935-466f-b9a6-4988489afc3a",
   "metadata": {},
   "outputs": [
    {
     "data": {
      "text/plain": [
       "(1+0.5j)"
      ]
     },
     "execution_count": 2,
     "metadata": {},
     "output_type": "execute_result"
    }
   ],
   "source": [
    "x"
   ]
  },
  {
   "cell_type": "code",
   "execution_count": 3,
   "id": "fdbcbe40-309d-4c6c-b791-f01eddbebe37",
   "metadata": {},
   "outputs": [
    {
     "data": {
      "text/plain": [
       "(1-0.5j)"
      ]
     },
     "execution_count": 3,
     "metadata": {},
     "output_type": "execute_result"
    }
   ],
   "source": [
    "x.conjugate()"
   ]
  },
  {
   "cell_type": "code",
   "execution_count": 4,
   "id": "c1bea56f-fc78-4617-85a2-ab2614469eea",
   "metadata": {},
   "outputs": [
    {
     "ename": "NameError",
     "evalue": "name 'np' is not defined",
     "output_type": "error",
     "traceback": [
      "\u001b[0;31m---------------------------------------------------------------------------\u001b[0m",
      "\u001b[0;31mNameError\u001b[0m                                 Traceback (most recent call last)",
      "Cell \u001b[0;32mIn[4], line 1\u001b[0m\n\u001b[0;32m----> 1\u001b[0m \u001b[43mnp\u001b[49m\u001b[38;5;241m.\u001b[39mconj(x)\n",
      "\u001b[0;31mNameError\u001b[0m: name 'np' is not defined"
     ]
    }
   ],
   "source": [
    "np.conj(x)"
   ]
  },
  {
   "cell_type": "code",
   "execution_count": 5,
   "id": "c13a04d3-f5cd-4edd-b59a-06a8e5d651a6",
   "metadata": {},
   "outputs": [],
   "source": [
    "import numpy as np"
   ]
  },
  {
   "cell_type": "code",
   "execution_count": 6,
   "id": "abd246cd-f17e-49e1-b43a-dead2ea15832",
   "metadata": {},
   "outputs": [
    {
     "data": {
      "text/plain": [
       "(1-0.5j)"
      ]
     },
     "execution_count": 6,
     "metadata": {},
     "output_type": "execute_result"
    }
   ],
   "source": [
    "np.conj(x)"
   ]
  },
  {
   "cell_type": "code",
   "execution_count": null,
   "id": "81ab941d-59e5-4367-8a32-052532842b66",
   "metadata": {},
   "outputs": [],
   "source": []
  }
 ],
 "metadata": {
  "kernelspec": {
   "display_name": "Python 3 (ipykernel)",
   "language": "python",
   "name": "python3"
  },
  "language_info": {
   "codemirror_mode": {
    "name": "ipython",
    "version": 3
   },
   "file_extension": ".py",
   "mimetype": "text/x-python",
   "name": "python",
   "nbconvert_exporter": "python",
   "pygments_lexer": "ipython3",
   "version": "3.11.4"
  }
 },
 "nbformat": 4,
 "nbformat_minor": 5
}
