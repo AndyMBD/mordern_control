{
 "cells": [
  {
   "cell_type": "markdown",
   "metadata": {},
   "source": [
    "# PMSM Motor Start"
   ]
  },
  {
   "cell_type": "markdown",
   "metadata": {},
   "source": [
    "* Controlled Three-Phase Drives Prof. Dr.-Ing. Joachim Böcker\n",
    "* Paderborn University Power Electronics and Electrical Drives\n",
    "* Lecture Notes Last Update 2016-01-26"
   ]
  },
  {
   "cell_type": "markdown",
   "metadata": {},
   "source": [
    "## V/F Scalar Control\n",
    "\n",
    "\n",
    "\n"
   ]
  },
  {
   "cell_type": "markdown",
   "metadata": {},
   "source": [
    "### V/F Scalar Control Principle\n",
    "\n",
    "\n",
    "\n"
   ]
  },
  {
   "cell_type": "markdown",
   "metadata": {},
   "source": [
    "https://community.nxp.com/t5/Model-Based-Design-Toolbox-MBDT/Module-5-V-F-Scalar-Control/m-p/726087"
   ]
  },
  {
   "cell_type": "markdown",
   "metadata": {},
   "source": [
    "$\n",
    "U_d =R_{s}*I_d+\\frac{\\mathrm{d} \\Psi_{d }}{\\mathrm{d} t} - \\omega_{e} *\\Psi_{q } \\\\\n",
    "U_q =R_{s}*I_q+\\frac{\\mathrm{d} \\Psi_{q }}{\\mathrm{d} t} + \\omega_{e} *\\Psi_{d }\\\\\n",
    "$"
   ]
  },
  {
   "cell_type": "markdown",
   "metadata": {},
   "source": [
    "$\n",
    "U_d =R_{s}*I_d+L_{d}*\\frac{\\mathrm{d} I_{d }}{\\mathrm{d} t} - \\omega_{e} *L_{q}*I_{q} \\\\\n",
    "U_q =R_{s}*I_q+L_{q}*\\frac{\\mathrm{d} I_{q }}{\\mathrm{d} t} + \\omega_{e} *(L_{d}*I_{d}+\\Psi_{p})\\\\\n",
    "$"
   ]
  },
  {
   "cell_type": "markdown",
   "metadata": {},
   "source": [
    "In steady state region, \n",
    "* the flux linkage variation is zero, \n",
    "* for further simplification we are going to assume the stator winding resistance is neglectable. <br>\n",
    "\n",
    "Taking into consideration these simplifications and the flux linkage equation (eq. 2) then the equations (eq. 3) becomes:"
   ]
  },
  {
   "cell_type": "markdown",
   "metadata": {},
   "source": [
    "$\n",
    "U_d =- \\omega_{e} *L_{q}*I_{q} \\\\\n",
    "U_q =  \\omega_{e} *(L_{d}*I_{d}+\\Psi_{p})\\\\\n",
    "$"
   ]
  },
  {
   "cell_type": "markdown",
   "metadata": {},
   "source": [
    "At this point we can transform the electric speed in frequency and rewrite the equation as a ratio of V/F"
   ]
  },
  {
   "cell_type": "markdown",
   "metadata": {},
   "source": [
    "$\n",
    "\\frac{U_d}{f} =- (2*\\pi) *L_{q}*I_{q} \\\\\n",
    "\\frac{U_q}{f} =  (2*\\pi)  *(L_{d}*I_{d}+\\Psi_{p})\\\\\n",
    "$"
   ]
  },
  {
   "cell_type": "markdown",
   "metadata": {},
   "source": [
    "In V/F scalar control method the frequency of the stator magnetic flux is set according with the desired synchronous rotor speed while the magnitude of the stator voltage is adjusted to keep the ratio between them constant. No control over voltage or current vectors angles is utilized, hence the name scalar control. <br>\n",
    "The V/F ratio is calculated from the nominal values of the PMSM voltage and frequency parameters. By maintaining a constant V/F ratio between the amplitude and frequency of 3-phase voltage waveforms, then the stator flux of the PMSM can be maintained relatively constant in steady state. However, in practice a typical V/F profile is not constant over the entire range of motor speed.<br>"
   ]
  },
  {
   "cell_type": "markdown",
   "metadata": {},
   "source": [
    "the V/F profile may be divided in three main regions:\n",
    "* Compensation – a higher than normal voltage is required to compensate the voltage drop across the stator resistance that was neglected for simplified mathematical model\n",
    "* Linear - follows the constant V/f relationship as derived from\n",
    "* Field weakening - constant V/f ratio cannot be satisfied due to the stator voltages limitation at the rated value in order to avoid insulation breakdown"
   ]
  },
  {
   "cell_type": "markdown",
   "metadata": {},
   "source": [
    "<img src=\"./VF_Start.png\">"
   ]
  },
  {
   "cell_type": "markdown",
   "metadata": {},
   "source": [
    "The V/F scalar control is the most common control strategy used for induction motor drives.<br>\n",
    "* In case of PMSM, the V/F scalar control is a good alternative in applications where good dynamic performance is not required (e.g.: HVAC, fans, pumps or blowers). \n",
    "* In such cases the V/F scalar control is performed without the need of a position/speed sensor.<br>\n",
    "\n",
    "By using V/F scalar control there is no need for high capability CPU as in the case of FOC, but keep in mind that this kind of simplicity also comes with some disadvantages:\n",
    "\n",
    "* instability of the system after exceeding a certain applied frequency\n",
    "* systems low dynamic performance, which limits the use of this control method\n",
    "* poor fault protection against stall detection and over-currents\n",
    "\n"
   ]
  },
  {
   "cell_type": "markdown",
   "metadata": {},
   "source": [
    "In case of PMSM, both open and closed-loop control of the speed can be implemented based on the V/F scalar control. Open-loop control is used in applications where system dynamic response is not a concern. For such use cases, the frequency is determined based on the desired speed and the assumption that the rotor will ultimately follow the synchronous speed. "
   ]
  },
  {
   "cell_type": "markdown",
   "metadata": {},
   "source": [
    "### Simulation"
   ]
  },
  {
   "cell_type": "markdown",
   "metadata": {},
   "source": [
    "### Validation"
   ]
  }
 ],
 "metadata": {
  "kernelspec": {
   "display_name": "Python 3 (ipykernel)",
   "language": "python",
   "name": "python3"
  },
  "language_info": {
   "codemirror_mode": {
    "name": "ipython",
    "version": 3
   },
   "file_extension": ".py",
   "mimetype": "text/x-python",
   "name": "python",
   "nbconvert_exporter": "python",
   "pygments_lexer": "ipython3",
   "version": "3.10.5"
  },
  "vscode": {
   "interpreter": {
    "hash": "08436e1dada134e6f143ad49e4eee140dcced4b0aa01ee837effa9e93d0a4d35"
   }
  }
 },
 "nbformat": 4,
 "nbformat_minor": 2
}
