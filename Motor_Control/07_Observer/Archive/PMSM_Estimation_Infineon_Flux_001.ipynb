{
 "cells": [
  {
   "cell_type": "markdown",
   "metadata": {},
   "source": [
    "# PMSM Estimation Flux"
   ]
  },
  {
   "cell_type": "markdown",
   "metadata": {},
   "source": [
    "## Flux Estimation"
   ]
  },
  {
   "cell_type": "markdown",
   "metadata": {},
   "source": [
    "$\n",
    "\\Psi_{p\\alpha }=\\Psi_{p} *\\cos(\\omega_{e}t ) \\\\\n",
    "\\Psi_{p\\beta } =\\Psi_{p} *\\sin(\\omega_{e}t ) \\\\\n",
    "$"
   ]
  },
  {
   "cell_type": "markdown",
   "metadata": {},
   "source": [
    "$\n",
    "\\theta =\\arctan(\\frac{\\Psi_{p\\alpha }}{\\Psi_{p\\beta}}) \\\\\n",
    "$"
   ]
  },
  {
   "cell_type": "markdown",
   "metadata": {},
   "source": [
    "$\n",
    "\\Psi_{p\\alpha }=\\Psi_{p} *\\cos(\\theta ) \\\\\n",
    "\\Psi_{p\\beta } =\\Psi_{p} *\\sin(\\theta ) \\\\\n",
    "$\n"
   ]
  },
  {
   "cell_type": "markdown",
   "metadata": {},
   "source": [
    "$\n",
    "\\Psi_{s\\alpha }=L_s*I_{\\alpha }+\\Psi_{p\\alpha } \\\\\n",
    "\\Psi_{s\\beta } =L_s*I_{\\beta }+\\Psi_{p\\beta } \\\\\n",
    "$"
   ]
  },
  {
   "cell_type": "markdown",
   "metadata": {},
   "source": [
    "$\n",
    "U_{\\alpha } =R_{s}*I_{\\alpha }+\\frac{\\mathrm{d} \\Psi_{s\\alpha }}{\\mathrm{d} t} \\\\\n",
    "U_{\\beta } =R_{s}*I_{\\beta }+\\frac{\\mathrm{d} \\Psi_{s\\beta }}{\\mathrm{d} t} \\\\\n",
    "$\n"
   ]
  },
  {
   "cell_type": "markdown",
   "metadata": {},
   "source": [
    "\n",
    "$\n",
    "\\Psi_{s\\alpha }=\\int(U_{\\alpha }-R_{s}*I_{\\alpha })dt \\\\\n",
    "\\Psi_{s\\beta }=\\int(U_{\\beta }-R_{s}*I_{\\beta })dt \\\\\n",
    "$\n"
   ]
  },
  {
   "cell_type": "markdown",
   "metadata": {},
   "source": [
    "$\n",
    "\\Psi_{p\\alpha }= \\Psi_{s\\alpha }-L_s*I_{\\alpha }\\\\\n",
    "\\Psi_{p\\beta }=\\Psi_{s\\beta } -L_s*I_{\\beta } \\\\\n",
    "$"
   ]
  },
  {
   "cell_type": "markdown",
   "metadata": {},
   "source": [
    "Flux . Real \\\n",
    "$\n",
    "\\Psi_{p\\alpha }= \\int(U_{\\alpha }-R_{s}*I_{\\alpha })dt-L_s*I_{\\alpha }\\\\\n",
    "$\\\n",
    "Flux . Imag \\\n",
    "$\n",
    "\\Psi_{p\\beta }=\\int(U_{\\beta }-R_{s}*I_{\\beta })dt -L_s*I_{\\beta } \\\\\n",
    "$\\\n",
    "Flux Angle \\\n",
    "$\n",
    "\\theta =\\arctan(\\frac{\\Psi_{p\\alpha }}{\\Psi_{p\\beta}}) \\\\\n",
    "$\\\n",
    "Flux Amp \\\n",
    "$\n",
    "FluxAmp =\\sqrt{(\\Psi_{p\\alpha })^2+(\\Psi_{p\\beta })^2 }  \\\\\n",
    "$"
   ]
  },
  {
   "cell_type": "markdown",
   "metadata": {},
   "source": [
    "From \"Sensorless Field Oriented Control with Embedded Power SoC\" TLE9879"
   ]
  },
  {
   "cell_type": "markdown",
   "metadata": {},
   "source": [
    "<img src=\"./Flux_Estimator_Diagram.png\">"
   ]
  },
  {
   "cell_type": "markdown",
   "metadata": {},
   "source": [
    "### Angle PLL Observer"
   ]
  },
  {
   "cell_type": "markdown",
   "metadata": {},
   "source": [
    "The main purpose of the PLL is to stabilize the angle position during the next PWM cycle based on measured\n",
    "angle position, last known angle position and estimated speed. As shown in Equation 30, the PLL is\n",
    "implemented via a regulation loop, which filters the angle output. \\\n",
    "The P-Controller of the PLL should be dimensioned as follows: fast enough to follow the maximum expected\n",
    "system dynamics, but slow enough to filter out angle errors caused by high frequency disturbances. Getting an\n",
    "optimal solution to this problem usually requires testing on the complete system."
   ]
  },
  {
   "cell_type": "markdown",
   "metadata": {},
   "source": [
    "<img src=\"./Angle_PLL_Observer.png\">"
   ]
  },
  {
   "cell_type": "markdown",
   "metadata": {},
   "source": [
    "Flux Observer\n",
    "1. Closed-loop flux observer\n",
    "2. first order sliding mode observer\n",
    "3. second order sliding mode observer\n",
    "4. first-order sliding mode observer in dq-reference frame \n",
    "\n",
    "Two compensation methods\n",
    "1. a VSI voltage error compensator,\n",
    "2. a feedforward load torque compensator are introduced"
   ]
  },
  {
   "cell_type": "markdown",
   "metadata": {},
   "source": [
    "$K_p$"
   ]
  },
  {
   "attachments": {},
   "cell_type": "markdown",
   "metadata": {},
   "source": [
    "<font color=Red>英飞凌的PLL Estimator</font>\\\n",
    "在英飞凌的Eval-M1-1302开发套件中也有一套无位置传感器控制方案，具体细节也是不知道，但是使用手册上有这么一句话：\n",
    "PLL Estimator, the sensorless feedback mechanism which requires only one motor parameter – stator inductance L, for rotor speed and position feedback\n",
    "从这句话来看，该观测器用到了PLL，且只需要电机的电感参数，更多细节就不知道了，相关代码也是闭源的。"
   ]
  }
 ],
 "metadata": {
  "kernelspec": {
   "display_name": "Python 3.10.5 64-bit",
   "language": "python",
   "name": "python3"
  },
  "language_info": {
   "codemirror_mode": {
    "name": "ipython",
    "version": 3
   },
   "file_extension": ".py",
   "mimetype": "text/x-python",
   "name": "python",
   "nbconvert_exporter": "python",
   "pygments_lexer": "ipython3",
   "version": "3.10.5"
  },
  "orig_nbformat": 4,
  "vscode": {
   "interpreter": {
    "hash": "08436e1dada134e6f143ad49e4eee140dcced4b0aa01ee837effa9e93d0a4d35"
   }
  }
 },
 "nbformat": 4,
 "nbformat_minor": 2
}
