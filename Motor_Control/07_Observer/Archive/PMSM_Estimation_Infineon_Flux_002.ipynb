{
 "cells": [
  {
   "cell_type": "markdown",
   "metadata": {},
   "source": [
    "# PMSM Estimation Flux"
   ]
  },
  {
   "attachments": {},
   "cell_type": "markdown",
   "metadata": {},
   "source": [
    "* Infineon Patent No.: US 2005/0081647 A1 Pub. Date: Apr. 21, 2005\n",
    "* Infineon-AP32370 PMSM FOC for MC1000-ApplicationNotes-v01_05-EN\n",
    "* 永磁同步电机高效V／F控制方法研究  朱明东 湖南大学\n",
    "* Sensorless V／F Control of high-speed surface Permanent synchronous Motor drivers with two novel stabilising loops\n",
    "for fast dynamics and robustness．"
   ]
  },
  {
   "cell_type": "markdown",
   "metadata": {},
   "source": [
    "## Flux Estimation"
   ]
  },
  {
   "cell_type": "markdown",
   "metadata": {},
   "source": [
    "$\n",
    "\\Psi_{p\\alpha }=\\Psi_{p} *\\cos(\\omega_{e}t ) \\\\\n",
    "\\Psi_{p\\beta } =\\Psi_{p} *\\sin(\\omega_{e}t ) \\\\\n",
    "$"
   ]
  },
  {
   "cell_type": "markdown",
   "metadata": {},
   "source": [
    "$\n",
    "\\theta =\\arctan(\\frac{\\Psi_{p\\alpha }}{\\Psi_{p\\beta}}) \\\\\n",
    "$"
   ]
  },
  {
   "cell_type": "markdown",
   "metadata": {},
   "source": [
    "$\n",
    "\\Psi_{p\\alpha }=\\Psi_{p} *\\cos(\\theta ) \\\\\n",
    "\\Psi_{p\\beta } =\\Psi_{p} *\\sin(\\theta ) \\\\\n",
    "$\n"
   ]
  },
  {
   "cell_type": "markdown",
   "metadata": {},
   "source": [
    "$\n",
    "\\Psi_{s\\alpha }=L_s*I_{\\alpha }+\\Psi_{p\\alpha } \\\\\n",
    "\\Psi_{s\\beta } =L_s*I_{\\beta }+\\Psi_{p\\beta } \\\\\n",
    "$"
   ]
  },
  {
   "cell_type": "markdown",
   "metadata": {},
   "source": [
    "$\n",
    "U_{\\alpha } =R_{s}*I_{\\alpha }+\\frac{\\mathrm{d} \\Psi_{s\\alpha }}{\\mathrm{d} t} \\\\\n",
    "U_{\\beta } =R_{s}*I_{\\beta }+\\frac{\\mathrm{d} \\Psi_{s\\beta }}{\\mathrm{d} t} \\\\\n",
    "$\n"
   ]
  },
  {
   "cell_type": "markdown",
   "metadata": {},
   "source": [
    "\n",
    "$\n",
    "\\Psi_{s\\alpha }=\\int(U_{\\alpha }-R_{s}*I_{\\alpha })dt \\\\\n",
    "\\Psi_{s\\beta }=\\int(U_{\\beta }-R_{s}*I_{\\beta })dt \\\\\n",
    "$\n"
   ]
  },
  {
   "cell_type": "markdown",
   "metadata": {},
   "source": [
    "$\n",
    "\\Psi_{p\\alpha }= \\Psi_{s\\alpha }-L_s*I_{\\alpha }\\\\\n",
    "\\Psi_{p\\beta }=\\Psi_{s\\beta } -L_s*I_{\\beta } \\\\\n",
    "$"
   ]
  },
  {
   "cell_type": "markdown",
   "metadata": {},
   "source": [
    "Flux . Real \\\n",
    "$\n",
    "\\Psi_{p\\alpha }= \\int(U_{\\alpha }-R_{s}*I_{\\alpha })dt-L_s*I_{\\alpha }\\\\\n",
    "$\\\n",
    "Flux . Imag \\\n",
    "$\n",
    "\\Psi_{p\\beta }=\\int(U_{\\beta }-R_{s}*I_{\\beta })dt -L_s*I_{\\beta } \\\\\n",
    "$\\\n",
    "Flux Angle \\\n",
    "$\n",
    "\\theta =\\arctan(\\frac{\\Psi_{p\\alpha }}{\\Psi_{p\\beta}}) \\\\\n",
    "$\\\n",
    "Flux Amp \\\n",
    "$\n",
    "FluxAmp =\\sqrt{(\\Psi_{p\\alpha })^2+(\\Psi_{p\\beta })^2 }  \\\\\n",
    "$"
   ]
  },
  {
   "attachments": {},
   "cell_type": "markdown",
   "metadata": {},
   "source": [
    "$T_e =-I_{\\alpha}*\\Psi_{p\\beta} + I_{\\beta }*\\Psi_{p\\alpha} $"
   ]
  },
  {
   "attachments": {},
   "cell_type": "markdown",
   "metadata": {},
   "source": [
    "$T_e=U_q*I_d-U_d*I_q$"
   ]
  },
  {
   "attachments": {},
   "cell_type": "markdown",
   "metadata": {},
   "source": [
    "$T_e=T_L+B\\omega_m+J\\frac{d\\omega_m}{d_t}$"
   ]
  },
  {
   "attachments": {},
   "cell_type": "markdown",
   "metadata": {},
   "source": [
    "$T_e=\\frac{3}{2}p(\\psi_p*I_q+(L_d-L_q)I_dI_q)$"
   ]
  },
  {
   "attachments": {},
   "cell_type": "markdown",
   "metadata": {},
   "source": [
    "## Estimator"
   ]
  },
  {
   "attachments": {},
   "cell_type": "markdown",
   "metadata": {},
   "source": [
    "***Estimator Process***\n",
    "1. Determining a rotor magnetic flux in the motor\n",
    "   1. May include the step of non-ideal integration of Stator Voltage and current values.\n",
    "2. Estimating the rotor angle on the basis of the rotor magnetic flux\n",
    "   1. may include the Step of correcting phase errors caused by Said non-ideal integration via a PLL circuit with phase compensation\n",
    "3. Correcting the estimated rotor angle on the basis of reactive power input to the motor\n",
    "   1. calculating a first ***reactive power*** input value as $\\frac{3}{2}\\omega_e(L_q*I*I)$ and a second ***reactive power*** input value as $\\frac{3}{2}(U_q*I_d-U_d*I_q)$\n",
    "   2. determining a difference between said first and Second reactive power input values\n",
    "   3. applying said difference to the rotor angle estimated Step (b) to obtain a corrected rotor angle.\n"
   ]
  }
 ],
 "metadata": {
  "kernelspec": {
   "display_name": "Python 3.10.5 64-bit",
   "language": "python",
   "name": "python3"
  },
  "language_info": {
   "codemirror_mode": {
    "name": "ipython",
    "version": 3
   },
   "file_extension": ".py",
   "mimetype": "text/x-python",
   "name": "python",
   "nbconvert_exporter": "python",
   "pygments_lexer": "ipython3",
   "version": "3.10.5"
  },
  "orig_nbformat": 4,
  "vscode": {
   "interpreter": {
    "hash": "08436e1dada134e6f143ad49e4eee140dcced4b0aa01ee837effa9e93d0a4d35"
   }
  }
 },
 "nbformat": 4,
 "nbformat_minor": 2
}
