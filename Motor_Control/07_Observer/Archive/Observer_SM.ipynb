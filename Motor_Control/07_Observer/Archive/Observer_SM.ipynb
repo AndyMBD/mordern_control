{
 "cells": [
  {
   "cell_type": "markdown",
   "metadata": {},
   "source": [
    "## Sliding Mode Observer\n",
    "### These equations describe the discrete-time operation of a PMSM:\n",
    "$\n",
    "\\begin{array}{l}\n",
    "\\left.i_{\\alpha \\beta(k+1)}=A i_{\\alpha \\beta(k)}+B v_{\\alpha \\beta(k)}-B e_{\\alpha \\beta(k)}\\right. \\\\\n",
    "e_{\\alpha \\beta(k+1)}=e_{\\alpha \\beta(k)}+T_{s}\\left(\\omega_{e(k)} J e_{\\alpha \\beta(k)}\\right. \\\\\n",
    "J=\\left[\\begin{array}{cc}\n",
    "0 & -1 \\\\\n",
    "1 & 0\n",
    "\\end{array}\\right] \\\\\n",
    "\\Phi=\\left[\\begin{array}{cc}\n",
    "-\\frac{R}{L} & 0 \\\\\n",
    "0 & -\\frac{R}{L}\n",
    "\\end{array}\\right] \\\\\n",
    "A=e^{\\Phi T_{s}} \\\\\n",
    "B=\\int_{0}^{T_{s}} e^{\\Phi} \\tau d \\tau=\\left[\\begin{array}{ll}\n",
    "b & 0 \\\\\n",
    "0 & b\n",
    "\\end{array}\\right] \\\\\n",
    "b=\\frac{1-e^{-R T_{s} / L}}{R}\n",
    "\\end{array}\n",
    "$\n",
    "### These equations describe the discrete-time sliding mode observer operation of a surface mount PMSM:\n",
    "$\n",
    "\\begin{array}{l}\n",
    "\\hat{i}_{\\alpha \\beta(k+1)}=A \\hat{i}_{\\alpha \\beta(k)}+B v_{\\alpha \\beta(k)}-B \\hat{e}_{\\alpha \\beta(k)}-\\eta \\operatorname{Sign}\\left(\\tilde{i}_{\\alpha \\beta(k)}\\right) \\\\\n",
    "\\hat{e}_{\\alpha \\beta(k+1)}=\\hat{e}_{\\alpha \\beta(k)}+B^{-1} g\\left(\\tilde{i}_{\\alpha \\beta(k)}-A \\tilde{i}_{\\alpha \\beta(k-1)}+\\eta \\operatorname{Sign}\\left(\\tilde{i}_{\\alpha \\beta(k-1)}\\right)\\right) \\\\\n",
    "\\tilde{i}_{\\alpha \\beta(k)}=\\hat{i}_{\\alpha \\beta(k)}-i_{\\alpha \\beta(k)} \\\\\n",
    "\\tilde{e}_{\\alpha \\beta(k)}=\\hat{e}_{\\alpha \\beta(k)}-e_{\\alpha \\beta(k)} \n",
    "\\end{array}\n",
    "$\n",
    "\n",
    "If the back EMF observer fulfils the conditions  $\\left|e_{\\alpha \\beta(k+1)}-e_{\\alpha \\beta(k)}\\right| \\leq m $ and  $g \\in(0,1)$ , there exists a $ K_{0}$, such that:\\\n",
    "$\\tilde{e}_{\\alpha \\beta(k)} \\leq \\frac{m}{g} $ \\\n",
    "If the sliding mode observer fulfils these conditions:\n",
    "- $g \\in(0,1)$\n",
    "- $\\left|e_{\\alpha \\beta(k+1)}-e_{\\alpha \\beta(k)}\\right| \\leq m $\n",
    "- $\\eta>b \\frac{m}{g} $ <br>\n",
    "then there exists a $k=k_{0}$, such that for $k \\geqslant k_{0}$ \n",
    "$\\left|\\tilde{i}_{\\alpha \\beta(k)}\\right| \\leq\\eta+b \\frac{m}{g} $ \n",
    "\n",
    "where:\n",
    "* $e_{\\alpha}$ and $i_{\\alpha}$ are the stator back EMF and current for the $\\alpha$ axis\n",
    "* $e_{\\beta}$ and $i_{\\beta}$ are the stator back EMF and current for the $\\beta$ axis\n",
    "* $\\tilde{e}_{\\alpha}$ and $\\tilde{i}_{\\alpha}$ are the errors in the stator back EMF and current for the $\\alpha$ axis\n",
    "* $\\tilde{e}_{\\beta}$ and $\\tilde{i}_{\\beta}$ are the errors in the stator back EMF and current for the $\\beta$ axis\n",
    "* $V_{\\alpha}$ and $V_{\\beta}$ are the stator supply voltages\n",
    "* $R$ is the stator resistance\n",
    "* $L$ is the stator inductance\n",
    "* $g$ is the back EMF observer gain\n",
    "* $\\eta$ is the current observer gain\n",
    "* $\\omega_{e}$ is the electrical angular velocity\n",
    "* $T_{s}$ is the sampling period\n",
    "* $k$ is the sample count\n",
    "### Tuning\n",
    "Use these steps to tune the block using the Current observer gain $\\eta$ and Back-emf observer gain ($g$) parameters.\n",
    "\n",
    "* Select a back-emf observer gain ($g$) value such that $g \\in(0,1)$. Bringing g close to the value 1, results in less error in the estimated back-emf. However, this makes convergence slow.\n",
    "\n",
    "* Select a value of $m$ based on the block sample time and maximum slope of the operating back-emf (such that $\\left|e_{\\alpha \\beta(k+1)}-e_{\\alpha \\beta(k)}\\right| \\leq m $)\n",
    "\n",
    "* Select a current observer gain ($\\eta$) value based on $b$, $m$, and $g$ (such that $\\eta>b \\frac{m}{g} $)."
   ]
  },
  {
   "cell_type": "code",
   "execution_count": 1,
   "metadata": {},
   "outputs": [
    {
     "data": {
      "text/latex": [
       "$\\displaystyle -1$"
      ],
      "text/plain": [
       "-1"
      ]
     },
     "execution_count": 1,
     "metadata": {},
     "output_type": "execute_result"
    }
   ],
   "source": [
    "import sympy\n",
    "from sympy import *\n",
    "exp(I*pi)\n",
    "# eqn1=sympy.exp(sympy.I * 2*sympy.pi) + 1\n",
    "# print(eqn1)"
   ]
  },
  {
   "cell_type": "markdown",
   "metadata": {},
   "source": [
    "$\n",
    "B=\\int_{0}^{T_{s}} e^{\\Phi} \\tau d \\tau=\\left[\\begin{array}{ll}\n",
    "b & 0 \\\\\n",
    "0 & b\n",
    "\\end{array}\\right]\n",
    "$"
   ]
  }
 ],
 "metadata": {
  "kernelspec": {
   "display_name": "Python 3.10.5 64-bit",
   "language": "python",
   "name": "python3"
  },
  "language_info": {
   "codemirror_mode": {
    "name": "ipython",
    "version": 3
   },
   "file_extension": ".py",
   "mimetype": "text/x-python",
   "name": "python",
   "nbconvert_exporter": "python",
   "pygments_lexer": "ipython3",
   "version": "3.10.5"
  },
  "orig_nbformat": 4,
  "vscode": {
   "interpreter": {
    "hash": "08436e1dada134e6f143ad49e4eee140dcced4b0aa01ee837effa9e93d0a4d35"
   }
  }
 },
 "nbformat": 4,
 "nbformat_minor": 2
}
