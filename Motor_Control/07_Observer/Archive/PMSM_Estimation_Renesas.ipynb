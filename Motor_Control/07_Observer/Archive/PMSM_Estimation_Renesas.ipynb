{
 "cells": [
  {
   "attachments": {},
   "cell_type": "markdown",
   "metadata": {},
   "source": [
    "# Renesas PMSM Estimation"
   ]
  },
  {
   "attachments": {},
   "cell_type": "markdown",
   "metadata": {},
   "source": [
    "* Renesas R01AN3786EJ0102 Rev.1.02 Oct. 31,2018\n",
    "* Renesas BEMF estimator is almost same as NXP estimator\n",
    "  * Renesas estimate $\\gamma \\delta$ asix BEMF\n",
    "  * NXP estimate $\\gamma \\delta$ asix flux"
   ]
  },
  {
   "cell_type": "markdown",
   "metadata": {},
   "source": [
    "### D Q Voltage"
   ]
  },
  {
   "cell_type": "markdown",
   "metadata": {},
   "source": [
    "$\n",
    "U_d =R_{s}*I_d+\\frac{\\mathrm{d} \\Psi_{d }}{\\mathrm{d} t} - \\omega_{e} *\\Psi_{q } \\\\\n",
    "U_q =R_{s}*I_q+\\frac{\\mathrm{d} \\Psi_{q }}{\\mathrm{d} t} + \\omega_{e} *\\Psi_{d }\\\\\n",
    "$"
   ]
  },
  {
   "cell_type": "markdown",
   "metadata": {},
   "source": [
    "$\n",
    "U_d =R_{s}*I_d+L_{d}*\\frac{\\mathrm{d} I_{d }}{\\mathrm{d} t} - \\omega_{e} *L_{q}*I_{q} \\\\\n",
    "U_q =R_{s}*I_q+L_{q}*\\frac{\\mathrm{d} I_{q }}{\\mathrm{d} t} + \\omega_{e} *(L_{d}*I_{d}+\\Psi_{p})\\\\\n",
    "$"
   ]
  },
  {
   "cell_type": "markdown",
   "metadata": {},
   "source": [
    "* ***DQ Axes***\\\n",
    "$T_e=\\frac{3}{2}n_p[\\Psi_p*i_q+(L_d-L_q)i_d*i_q]$\n",
    "* ***Mechnical Torque***\\\n",
    "$T_e=T_l+B*\\omega_m+J*\\frac{d}{dt}\\omega_m$"
   ]
  },
  {
   "attachments": {},
   "cell_type": "markdown",
   "metadata": {},
   "source": [
    "## BEMF Estimation"
   ]
  },
  {
   "attachments": {},
   "cell_type": "markdown",
   "metadata": {},
   "source": [
    "$U_d^\\ast=(R+sL_d)I_d-\\omega^\\ast L_qI_q+e_d$\\\n",
    "$U_q^\\ast=(R+sL_q)I_q-\\omega^\\ast L_dI_d+e_q$\n",
    "* Furthermore, by considering $−\\omega^\\ast L_qI_q+e_d$ and $\\omega^\\ast L_dI_d+e_q$ as the voltage disturbance, they are written as $-d_d$  $-d_q$ respectively.\n",
    "\n",
    "$U_d^\\ast=(R+sL_d)I_d-d_d$\\\n",
    "$U_q^\\ast=(R+sL_q)I_q-d_q$\n"
   ]
  },
  {
   "attachments": {},
   "cell_type": "markdown",
   "metadata": {},
   "source": [
    "<img src=\"./Renesas_BEMF.png\">"
   ]
  },
  {
   "attachments": {},
   "cell_type": "markdown",
   "metadata": {},
   "source": [
    "### d-Axis"
   ]
  },
  {
   "attachments": {},
   "cell_type": "markdown",
   "metadata": {},
   "source": [
    "d-axis q-axis voltage equation is rewritten as follows\n",
    "\n",
    "$sI_d=\\frac{U_d^\\ast}{L_d}-\\frac{R}{L_d}I_d+\\frac{d_d}{L_d}$\\\n",
    "$sd=sd_d$\n",
    "\n"
   ]
  },
  {
   "attachments": {},
   "cell_type": "markdown",
   "metadata": {},
   "source": [
    "If the estimated $Id$ is $\\hat{I_d}$ and the estimated $d$ is $\\hat{d}$, the estimated state equation is written as follows.\\\n",
    "$K_{Ed1}$ and $K_{Ed2}$ are estimation gains"
   ]
  },
  {
   "attachments": {},
   "cell_type": "markdown",
   "metadata": {},
   "source": [
    "$s\\hat{l_{d}}=-\\frac{R}{L_d}\\hat{l_{d}}+\\frac{\\hat{d}}{L_d}+\\frac{U_d^\\ast}{L_d}+K_{Ed1}(I_d-\\hat{I_d})$\\\n",
    "$s\\hat{d}=K_{Ed2}(I_d-\\hat{l_d})$"
   ]
  },
  {
   "attachments": {},
   "cell_type": "markdown",
   "metadata": {},
   "source": [
    "$\\hat{l_d}=\\frac{\\frac{K_{Ed2}}{L_d}}{s^2+(\\frac{R}{L_d}+K_{Ed1})s+\\frac{K_{Ed2}}{L_d}} \\{ (1+\\frac{K_{Ed1}}{K_{Ed2}}L_d s)I_d+\\frac{s}{K_{Ed2}}U_d^\\ast \\} $\n",
    "\n",
    "$\\hat{d}=\\hat{d_d}=\\frac{\\frac{K_{Ed2}}{L_d}}{s^2+(\\frac{R}{L_d}+K_{Ed1})s+\\frac{K_{Ed2}}{L_d}} \\{ (L_d s+R)I_d-U_d^\\ast \\}$"
   ]
  },
  {
   "attachments": {},
   "cell_type": "markdown",
   "metadata": {},
   "source": [
    "$\\omega_n=\\sqrt{\\frac{K_{Ed2}}{L_d}}$\n",
    "\n",
    "$\\xi=\\frac{\\frac{R}{L_d}+K_{Ed1}}{2\\sqrt{\\frac{K_{Ed2}}{L_d}}}$"
   ]
  },
  {
   "attachments": {},
   "cell_type": "markdown",
   "metadata": {},
   "source": [
    "$K_{Ed1}=2\\xi_{EG} \\omega_{EG}-\\frac{R}{L_d}$\n",
    "\n",
    "$K_{Ed2}=\\omega_{EG}^2L_d$\n",
    "\n",
    "* $\\omega_{EG}$ : Desired natural frequency of BEMF estimation system\n",
    "* $\\xi_{EG}$ :Desired damping ratio of BEMF estimation system"
   ]
  },
  {
   "attachments": {},
   "cell_type": "markdown",
   "metadata": {},
   "source": [
    "Furthermore, the estimated state equation is rewritten as follows.\n",
    "\n",
    "$\\hat{l_d}=\\frac{1}{s} \\{-\\frac{R}{L_d}\\hat{l_d}+\\frac{\\hat{d_d}}{L_d}+\\frac{U_d\\ast}{L_d}+K_{Ed1}(I_d-\\hat{l_d})\\} $\n",
    "\n",
    "$\\hat{d_d}=\\frac{1}{s} \\{K_{Ed2}(I_d-\\hat{l_d})\\} $"
   ]
  },
  {
   "attachments": {},
   "cell_type": "markdown",
   "metadata": {},
   "source": [
    "### q-Axis"
   ]
  },
  {
   "attachments": {},
   "cell_type": "markdown",
   "metadata": {},
   "source": [
    "$sI_q=\\frac{U_q^\\ast}{L_q}-\\frac{R}{L_q}I_q+\\frac{d_q}{L_q}$\\\n",
    "$sq=sd_q$"
   ]
  },
  {
   "attachments": {},
   "cell_type": "markdown",
   "metadata": {},
   "source": [
    "$\\hat{l_q}=\\frac{\\frac{K_{Eq2}}{L_q}}{s^2+(\\frac{R}{L_q}+K_{Eq1})s+\\frac{K_{Eq2}}{L_q}} \\{ (1+\\frac{K_{Eq1}}{K_{Eq2}}L_q s)I_q+\\frac{s}{K_{Eq2}}U_q^\\ast \\} $\n",
    "\n",
    "$\\hat{d}=\\hat{d_q}=\\frac{\\frac{K_{Eq2}}{L_q}}{s^2+(\\frac{R}{L_q}+K_{Eq1})s+\\frac{K_{Eq2}}{L_q}} \\{ (L_q s+R)I_q-U_q^\\ast \\}$"
   ]
  },
  {
   "attachments": {},
   "cell_type": "markdown",
   "metadata": {},
   "source": [
    "$\\omega_n=\\sqrt{\\frac{K_{Eq2}}{L_q}}$\n",
    "\n",
    "$\\xi=\\frac{\\frac{R}{L_q}+K_{Eq1}}{2\\sqrt{\\frac{K_{Eq2}}{L_q}}}$"
   ]
  },
  {
   "attachments": {},
   "cell_type": "markdown",
   "metadata": {},
   "source": [
    "$K_{Eq1}=2\\xi_{EG} \\omega_{EG}-\\frac{R}{L_q}$\n",
    "\n",
    "$K_{Eq2}=\\omega_{EG}^2L_q$\n",
    "\n",
    "* $\\omega_{EG}$ : Desired natural frequency of BEMF estimation system\n",
    "* $\\xi_{EG}$ :Desired damping ratio of BEMF estimation system"
   ]
  },
  {
   "attachments": {},
   "cell_type": "markdown",
   "metadata": {},
   "source": [
    "Furthermore, the estimated state equation is rewritten as follows.\n",
    "\n",
    "$\\hat{l_q}=\\frac{1}{s} \\{-\\frac{R}{L_q}\\hat{l_q}+\\frac{\\hat{d_q}}{L_q}+\\frac{U_q\\ast}{L_q}+K_{Eq1}(I_q-\\hat{l_q})\\} $\n",
    "\n",
    "$\\hat{d_q}=\\frac{1}{s} \\{K_{Eq2}(I_q-\\hat{l_q})\\} $"
   ]
  },
  {
   "attachments": {},
   "cell_type": "markdown",
   "metadata": {},
   "source": [
    "BEMF is calculated from the estimated voltage disturbance $\\hat{d_d}$ $\\hat{d_q}$ as follows"
   ]
  },
  {
   "attachments": {},
   "cell_type": "markdown",
   "metadata": {},
   "source": [
    "$e_d=-\\hat{d_d}+\\omega^\\ast L_q I_q$\n",
    "\n",
    "$e_q=-\\hat{d_d}-\\omega^\\ast L_d I_d$\n",
    "\n",
    "$\\Delta \\theta=atan(\\frac{e_d}{e_q})$"
   ]
  },
  {
   "attachments": {},
   "cell_type": "markdown",
   "metadata": {},
   "source": [
    "As shown in the above equations, the phase error between the real axis and the estimated axis are calculated"
   ]
  },
  {
   "attachments": {},
   "cell_type": "markdown",
   "metadata": {},
   "source": [
    "<img src=\"./Renesas_Theta_Delta.png\">"
   ]
  },
  {
   "attachments": {},
   "cell_type": "markdown",
   "metadata": {},
   "source": [
    "According to the above block diagram, the closed-loop transfer function of this system is\n",
    "\n",
    "$\\frac{\\theta_{est}(s)}{\\theta(s)}=\\frac{K_i(s\\frac{K_p}{K_i}+1)}{s^2+K_p s+K_i}$\n",
    "\n",
    "This system is a 2nd order lag system. The natural frequency $\\omega_m$ , damping ratio $\\xi$ are written as follows.\n",
    "\n",
    "$\\omega_n=\\sqrt{K_i}$\n",
    "\n",
    "$\\xi=\\frac{K_p}{2\\sqrt{K_i}}$"
   ]
  },
  {
   "attachments": {},
   "cell_type": "markdown",
   "metadata": {},
   "source": [
    "The control gains of this system ($K_{P\\_phase\\_error}$ , $K_{𝐼\\_phase𝑒\\_error}$) are written as follows\n",
    "\n",
    "$K_{P\\_phase\\_error}=2\\xi_{\\Delta\\theta}\\omega_{\\Delta\\theta}$\n",
    "\n",
    "$L_{I\\_phase\\_error}=\\omega_{\\Delta\\theta}^2$\n",
    "\n",
    "* $\\omega_{\\Delta\\theta}$: Desired natural frequency of position estimation system\n",
    "* $\\xi_{\\Delta\\theta}$: Desired damping ratio of position estimation system"
   ]
  }
 ],
 "metadata": {
  "kernelspec": {
   "display_name": "Python 3.10.5 64-bit",
   "language": "python",
   "name": "python3"
  },
  "language_info": {
   "codemirror_mode": {
    "name": "ipython",
    "version": 3
   },
   "file_extension": ".py",
   "mimetype": "text/x-python",
   "name": "python",
   "nbconvert_exporter": "python",
   "pygments_lexer": "ipython3",
   "version": "3.10.5"
  },
  "orig_nbformat": 4,
  "vscode": {
   "interpreter": {
    "hash": "08436e1dada134e6f143ad49e4eee140dcced4b0aa01ee837effa9e93d0a4d35"
   }
  }
 },
 "nbformat": 4,
 "nbformat_minor": 2
}
