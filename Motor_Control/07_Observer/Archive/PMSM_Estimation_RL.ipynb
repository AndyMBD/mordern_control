{
 "cells": [
  {
   "cell_type": "markdown",
   "metadata": {},
   "source": [
    "# PMSM resistance and inductance"
   ]
  },
  {
   "cell_type": "markdown",
   "metadata": {},
   "source": [
    "## PMSM resistance"
   ]
  },
  {
   "cell_type": "markdown",
   "metadata": {},
   "source": [
    "The stator resistance of the motor’s coils, also noted as Rs, can vary drastically \\\n",
    "depending on the operating temperature of the coils (also known as motor windings). \\\n",
    "This temperature might increase due to several factors.\\\n",
    "The following examples list a few of those conditions where the stator coils temperature might be affected:\n",
    "* Excessive currents through the coils.\n",
    "* Motor's enclosure does not allow self cooling.\n",
    "* Harsh operation environment leading to temperature increase\n",
    "* Other heating elements in motor's proximity.\n",
    "\n",
    "As a result of the temperature increase, there is a resistance increase on the motor's windings. \\\n",
    "This resistance to temperature relationship is well defined depending on the materials used for the windings themselves."
   ]
  },
  {
   "cell_type": "markdown",
   "metadata": {},
   "source": [
    "## Resistance vs. Temperature"
   ]
  },
  {
   "cell_type": "markdown",
   "metadata": {},
   "source": [
    "From InstaSPIN-FOC"
   ]
  },
  {
   "cell_type": "markdown",
   "metadata": {},
   "source": [
    "A common material for the windings is copper. The following equation represents a linear approximation of the\n",
    "resistance and temperature relationship:\\\n",
    "$R = R_0[1 + \\alpha(T − T_0)] $ \\\n",
    "Where:\n",
    "* $R$: Resistance in Ohms at temperature T, in Ohms ($\\Omega$)\n",
    "* $R_0$: Resistance in Ohms at temperature T0, in Ohms (Ω)\n",
    "* $\\alpha$: Temperature coefficient of the material, in inverse Celsius ($^{\\circ}C-1$)\n",
    "* T: Final temperature of the material, in Celsius ($^{\\circ}C$)\n",
    "* $T_0$: Reference temperature of the material, in Celsius ($^{\\circ}C$) \n",
    "\n",
    "For example, consider a stator resistance, Rs, to be $10\\Omega$ at $20^{\\circ}C$, \\\n",
    "and the windings are made out of copper,with temperature coefficient of $0.00393^{\\circ}C-1$. \\\n",
    "If the motor heats up to $150^{\\circ}C$, the new stator resistance will be:\\\n",
    "R = R0[1 + α(T − T0)]\\\n",
    "R = 10 Ω[1 + 0.00393°C−1($150^{\\circ}C-20^{\\circ}C$)]\\\n",
    "R = 15.109 Ω \\\n",
    "As can be seen, there is a significant resistance change depending on the temperature, \\\n",
    "in the example, almost 52% percent increase."
   ]
  },
  {
   "cell_type": "markdown",
   "metadata": {},
   "source": [
    "### Accurate Rs Knowledge Needed at Low Speeds Including Startup"
   ]
  },
  {
   "cell_type": "markdown",
   "metadata": {},
   "source": [
    "The motor model used for FAST is affected by this resistance change, especially at low speeds. This is because\\\n",
    "at low speeds the majority of the voltage drop inside of the motor model is governed by the stator resistance and\\\n",
    "the DC component of the current:\\\n",
    "$R_si_s$\\\n",
    "On the other hand, stator resistance changes outside of the low speed range do not affect the performance of\\\n",
    "the motor model significantly since at medium to high speeds the internal voltage drop of the model is governed\\\n",
    "by the back EMF and the inductance times the derivative of the current, or:\\\n",
    "$R_s\\frac{di_{s}}{dt}+e_s$\\\n",
    "It is then required for low speed performance to have an accurate knowledge of the stator resistance, \\\n",
    "especially when operating at full loads, including starting up the motor from stand still at full load."
   ]
  },
  {
   "cell_type": "markdown",
   "metadata": {},
   "source": [
    "### Rs Online vs. Rs Offline"
   ]
  },
  {
   "cell_type": "markdown",
   "metadata": {},
   "source": [
    "#### Rs Online"
   ]
  },
  {
   "cell_type": "markdown",
   "metadata": {},
   "source": [
    "Several parameters can be tuned and modified within the Rs Online feature of InstaSPIN-FOC. \\\n",
    "The following list of parameters will be discussed in further detail in this section:\n",
    "* Injected Current Magnitude\n",
    "* Slow Rotating Angle\n",
    "* Delta Increments and Decrements of the Rs Online Value\n",
    "* Filter Parameters"
   ]
  },
  {
   "cell_type": "markdown",
   "metadata": {},
   "source": [
    "#### Using the Rs Online Feature as a Temperature Sensor"
   ]
  },
  {
   "cell_type": "markdown",
   "metadata": {},
   "source": [
    "This unique feature to monitor the resistance of the motor while spinning, \\\n",
    "allows the user to monitor the temperature of the coils based on the resistance increment.\\\n",
    "To show an example of a temperature sensor implementation"
   ]
  },
  {
   "cell_type": "markdown",
   "metadata": {},
   "source": [
    "Once the Rs Online feature is enabled, consider a resistance increase from 10.0 Ω to 12.0 Ω.\\\n",
    "The temperature of the motor windings can be calculated based on the following equation, \\\n",
    "derived from the equation listed in the previous section:"
   ]
  },
  {
   "cell_type": "markdown",
   "metadata": {},
   "source": [
    "This code example can be executed in the background outside of the interrupts. \\\n",
    "The execution time is not critical at all, since temperature changes are much slower\\\n",
    "compared to the CPU timing. So by using Rs Online, users can set a same temperature limit \\\n",
    "to their motor to avoid damage and malfunction of the system. For easier computation of the \\\n",
    "temperature, a look up table is recommended, to avoid the execution penalty of this equation \\\n",
    "in real time."
   ]
  },
  {
   "cell_type": "markdown",
   "metadata": {},
   "source": [
    "#### Rs Offline"
   ]
  },
  {
   "cell_type": "markdown",
   "metadata": {},
   "source": [
    "\n",
    "InstaSPIN-FOC includes another resistance recalibration, which is done before the motor is spun, \\\\\n",
    "known as Rs Offline. Rs Offline requires the motor to be at standstill, injecting a DC current into Id. \\\n",
    "On the other hand, Rs Online requires the motor to be spinning in order to recalibrate the resistance, \\\n",
    "injecting an AC current into Id.\\\n",
    "Both Rs Offline and Rs Online are critical portions of InstaSPIN-FOC to provide the best low speed performance.\\\n",
    "In a typical application, Figure 15-7 shows the use of both Rs offline and Rs online.\n"
   ]
  }
 ],
 "metadata": {
  "kernelspec": {
   "display_name": "Python 3 (ipykernel)",
   "language": "python",
   "name": "python3"
  },
  "language_info": {
   "codemirror_mode": {
    "name": "ipython",
    "version": 3
   },
   "file_extension": ".py",
   "mimetype": "text/x-python",
   "name": "python",
   "nbconvert_exporter": "python",
   "pygments_lexer": "ipython3",
   "version": "3.10.5"
  },
  "vscode": {
   "interpreter": {
    "hash": "08436e1dada134e6f143ad49e4eee140dcced4b0aa01ee837effa9e93d0a4d35"
   }
  }
 },
 "nbformat": 4,
 "nbformat_minor": 2
}
