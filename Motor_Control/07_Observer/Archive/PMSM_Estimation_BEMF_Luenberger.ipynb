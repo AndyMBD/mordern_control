{
 "cells": [
  {
   "cell_type": "markdown",
   "metadata": {},
   "source": [
    "# ***Luenberger Observer***"
   ]
  },
  {
   "cell_type": "markdown",
   "metadata": {},
   "source": [
    "## Luenbeger Based Methods"
   ]
  },
  {
   "cell_type": "markdown",
   "metadata": {},
   "source": [
    "$\\dot{x}=A*x+B*u$\\\n",
    "$y=C*x+D*u$"
   ]
  },
  {
   "cell_type": "markdown",
   "metadata": {},
   "source": [
    "$\\dot{\\hat{x}}=A*\\hat{x}+B*u$\\\n",
    "$\\hat{y}=C*\\hat{x}+D*u$"
   ]
  },
  {
   "cell_type": "markdown",
   "metadata": {},
   "source": [
    "$\\dot{x}-\\dot{\\hat{x}}=A*(x-\\hat{x})$\\\n",
    "$y-\\hat{y}=C*(x-\\hat{x})$\\\n",
    "$\\dot{e}=A*e$\\\n",
    "$y-\\hat{y}=C*e$\\\n",
    "***Import a pole*** \\\n",
    "$\\begin{aligned}\n",
    "\\dot{e}\n",
    "        &=A*e+L(y-\\hat{y})\\\\\n",
    "        &=A*e+L*C*e\\\\\n",
    "        &=(A+L*C*)e\\\\\n",
    "\\end{aligned}\\hspace*{50cm}$"
   ]
  },
  {
   "cell_type": "markdown",
   "metadata": {},
   "source": [
    "$\\dot{\\hat{x}}=A*\\hat{x}+B*u+L(y-\\hat{y})$\\\n",
    "$\\hat{y}=C*\\hat{x}+D*u$"
   ]
  }
 ],
 "metadata": {
  "kernelspec": {
   "display_name": "Python 3.10.5 64-bit",
   "language": "python",
   "name": "python3"
  },
  "language_info": {
   "codemirror_mode": {
    "name": "ipython",
    "version": 3
   },
   "file_extension": ".py",
   "mimetype": "text/x-python",
   "name": "python",
   "nbconvert_exporter": "python",
   "pygments_lexer": "ipython3",
   "version": "3.10.5"
  },
  "orig_nbformat": 4,
  "vscode": {
   "interpreter": {
    "hash": "08436e1dada134e6f143ad49e4eee140dcced4b0aa01ee837effa9e93d0a4d35"
   }
  }
 },
 "nbformat": 4,
 "nbformat_minor": 2
}
