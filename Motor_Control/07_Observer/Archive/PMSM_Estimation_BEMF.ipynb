{
 "cells": [
  {
   "cell_type": "markdown",
   "metadata": {},
   "source": [
    "# PMSM Motor"
   ]
  },
  {
   "cell_type": "markdown",
   "metadata": {},
   "source": [
    "From \"Sensorless Field Oriented Control with Embedded Power SoC\" TLE9879"
   ]
  },
  {
   "attachments": {},
   "cell_type": "markdown",
   "metadata": {},
   "source": [
    "## $\\alpha$ $\\beta$  axis\n",
    "\n",
    "\n",
    "\n"
   ]
  },
  {
   "cell_type": "markdown",
   "metadata": {},
   "source": [
    "### $\\alpha$ $\\beta$ Flux"
   ]
  },
  {
   "cell_type": "markdown",
   "metadata": {},
   "source": [
    "\n",
    "$\n",
    "\\Psi_{p}=2*N*r*l*b_p \\\\\n",
    "$\\\n",
    "$\n",
    "\\Psi_{p\\alpha }=\\Psi_{p} *\\cos(\\omega_{e}t ) \\\\\n",
    "\\Psi_{p\\beta } =\\Psi_{p} *\\sin(\\omega_{e}t ) \\\\\n",
    "$\\\n",
    "$\n",
    "\\Psi_{s\\alpha }=L_s*I_{\\alpha }+\\Psi_{p\\alpha } \\\\\n",
    "\\Psi_{s\\beta }=L_s*I_{\\beta }+\\Psi_{p\\beta }\\\\\n",
    "$\\\n",
    "$\n",
    "\\Psi_{s\\alpha }=L_s*I_{\\alpha }+\\Psi_{p} *\\cos(\\omega_{e}t ) \\\\\n",
    "\\Psi_{s\\beta } =L_s*I_{\\beta }+\\Psi_{p} *\\sin(\\omega_{e}t ) \\\\\n",
    "$"
   ]
  },
  {
   "cell_type": "markdown",
   "metadata": {},
   "source": [
    "### $\\alpha$ $\\beta$ Voltage"
   ]
  },
  {
   "cell_type": "markdown",
   "metadata": {},
   "source": [
    "$\n",
    "U_{\\alpha } =R_{s}*I_{\\alpha }+\\frac{\\mathrm{d} \\Psi_{s\\alpha }}{\\mathrm{d} t} \\\\\n",
    "U_{\\beta } =R_{s}*I_{\\beta }+\\frac{\\mathrm{d} \\Psi_{s\\beta }}{\\mathrm{d} t} \\\\\n",
    "$\\\n",
    "$\n",
    "U_{\\alpha } =R_{s}*I_{\\alpha }+L_{s}*\\frac{\\mathrm{d} I_{\\alpha }}{\\mathrm{d} t} -\\Psi_{p} \\omega_{e} *\\sin (\\omega_{e}t ) \\\\\n",
    "U_{\\beta  } =R_{s}*I_{\\beta  }+L_{s}*\\frac{\\mathrm{d} I_{\\beta  }}{\\mathrm{d} t} +\\Psi_{p} \\omega_{e} *\\cos(\\omega_{e}t ) \\\\\n",
    "$\n"
   ]
  },
  {
   "cell_type": "markdown",
   "metadata": {},
   "source": [
    "$\n",
    "e_{\\alpha } = -\\Psi_{p} \\omega_{e} *\\sin (\\theta ) \\\\\n",
    "e_{\\beta  } =\\Psi_{p} \\omega_{e} *\\cos(\\theta ) \\\\\n",
    "$\\\n",
    "$\n",
    "U_{\\alpha}=R_si_s+L_s\\frac{di_{\\alpha}}{dt}+e_{\\alpha } \\\\\n",
    "U_{\\beta}=R_si_{\\beta}+L_s\\frac{di_{\\beta}}{dt}+e_{\\beta  } \\\\\n",
    "$\\\n",
    "$\n",
    "\\frac{di_{\\alpha}}{dt}=-\\frac{R}{L}i_{\\alpha}-\\frac{1}{L}e_{\\alpha }+\\frac{1}{L}U_{\\alpha} \\\\\n",
    "\\frac{di_{\\beta}}{dt}=-\\frac{R}{L}i_{\\beta}-\\frac{1}{L}e_{\\beta }+\\frac{1}{L}U_{\\beta} \\\\\n",
    "$"
   ]
  },
  {
   "cell_type": "markdown",
   "metadata": {},
   "source": [
    "* $\\Psi_{\\alpha, \\beta}$ --- flux linkage\n",
    "* $i_{\\alpha, \\beta}$       ---current\n",
    "* $e_{\\alpha, \\beta}$       ---electromotive force\n",
    "* $U_{\\alpha, \\beta}$       --- voltage for each phase in the stator fixed reference frame\n",
    "* $R$ and $L$               --- phase resistance and inductance\n",
    "* $\\Psi_{p} $               ---magnetic flux\n",
    "* $\\omega_{e} $             --- electric angular velocity\n",
    "* $\\theta{e} $              ---the rotor position(in electrical angle) of the PMSM\n"
   ]
  },
  {
   "cell_type": "markdown",
   "metadata": {},
   "source": [
    "## BEMF Estimation"
   ]
  },
  {
   "cell_type": "markdown",
   "metadata": {},
   "source": [
    "$\n",
    "U_{\\alpha}=R_si_s+L_s\\frac{di_{\\alpha}}{dt}+e_{\\alpha } \\\\\n",
    "U_{\\beta}=R_si_{\\beta}+L_s\\frac{di_{\\beta}}{dt}+e_{\\beta  } \\\\\n",
    "$\\\n",
    "$\n",
    "e_{\\alpha }=U_{\\alpha}-R_si_s-L_s\\frac{di_{\\alpha}}{dt} \\\\\n",
    "e_{\\beta  }=U_{\\beta}-R_si_{\\beta}-L_s\\frac{di_{\\beta}}{dt} \\\\\n",
    "$"
   ]
  },
  {
   "cell_type": "markdown",
   "metadata": {},
   "source": [
    "$\n",
    "e_{\\alpha } = -\\Psi_{p} \\omega_{e} *\\sin (\\theta ) \\\\\n",
    "e_{\\beta  } =\\Psi_{p} \\omega_{e} *\\cos(\\theta ) \\\\\n",
    "$\\\n",
    "$\n",
    "\\theta =-\\arctan(\\frac{e_{\\alpha }}{e_{\\beta}}) \\\\\n",
    "$"
   ]
  },
  {
   "cell_type": "markdown",
   "metadata": {},
   "source": [
    "## Basic Principles of Conventional Luenberger Observer(CLBG)\n",
    "\n",
    "\n"
   ]
  },
  {
   "cell_type": "markdown",
   "metadata": {},
   "source": [
    "$\n",
    "\\left\\{\\begin{array}{l}\n",
    "\\dot{\\hat{x}}(t)=F \\hat{x}(t)+G u(t)+k(y(t)-\\hat{y}(t)) \\\\\n",
    "\\hat{y}(t)=C \\hat{x}(t)\n",
    "\\end{array}\\right.\n",
    "$"
   ]
  },
  {
   "cell_type": "markdown",
   "metadata": {},
   "source": [
    "\n",
    "$\n",
    "\\begin{array}{l}\n",
    "\\left\\{\\begin{array}{l}\n",
    "\\hat{i}_{\\alpha}(k+1)=\\hat{i}_{\\alpha}(k)-\\frac{R T_{s}}{L} \\hat{i}_{\\alpha}(k)+k{ }_{1} T_{s}\\left(i_{\\alpha}(k)-\\hat{i}_{\\alpha}(k)\\right)-\\frac{T_{s}}{L} \\hat{e}_{\\alpha}(k)+\\frac{T_{s}}{L} v_{\\alpha}(k) \\\\\n",
    "\\hat{i}_{\\beta}(k+1)=\\hat{i}_{\\beta}(k)-\\frac{R T_{s}}{L} \\hat{i}_{\\beta}(k)+k 1_{s} T_{s}\\left(i_{\\beta}(k)-\\hat{i}_{\\beta}(k)\\right)-\\frac{T_{s}}{L} \\hat{e}_{\\beta}(k)+\\frac{T_{s}}{L} v_{\\beta}(k) \\\\\n",
    "\\hat{e}_{\\alpha}(k+1)=\\hat{e}_{\\alpha}(k)+k{ }_{2} T_{s}\\left(i_{\\alpha}(k)-\\hat{i}_{\\alpha}(k)\\right)-\\omega_{e} T_{s} \\hat{e}_{\\beta}(k) \\\\\n",
    "\\hat{e}_{\\beta}(k+1)=\\hat{e}_{\\beta}(k)+k 2^{T_{s}}\\left(i_{\\beta}(k)-\\hat{i}_{\\beta}(k)\\right)+\\omega_{e} T_{s} \\hat{e}_{\\alpha}(k)\n",
    "\\end{array}\\right. \\\\\n",
    "\\theta_{e}=\\omega_{e} t=\\operatorname{arctg}\\left(-\\frac{\\hat{e}_{\\alpha}}{\\hat{e}_{\\beta}}\\right)\n",
    "\\end{array}\n",
    "$ "
   ]
  },
  {
   "cell_type": "markdown",
   "metadata": {},
   "source": [
    "$\n",
    "\\frac{di_{\\alpha}}{dt}=-\\frac{R}{L}*i_{\\alpha}-\\frac{1}{L}*e_{\\alpha }+\\frac{1}{L}V_{\\alpha} \\\\\n",
    "$\\\n",
    "$\n",
    "\\frac{di_{\\beta}}{dt}=-\\frac{R}{L}*i_{\\beta}-\\frac{1}{L}*e_{\\beta }+\\frac{1}{L}V_{\\beta} \\\\\n",
    "$\\\n",
    "$\n",
    "\\left\\{\\begin{array}{l}\n",
    "\\frac{d \\hat{i}_{\\alpha}}{d t}=-\\frac{R \\hat{i}_{\\alpha}}{L}-\\frac{\\hat{e}_{\\alpha}}{L}+\\frac{v_{\\alpha}}{L}+k_{1}\\left(i_{\\alpha}-\\hat{i}_{\\alpha}\\right) \\\\\n",
    "\\frac{d \\hat{i}_{\\beta}}{d t}=-\\frac{R \\hat{i}_{\\beta}}{L}-\\frac{\\hat{e}_{\\beta}}{L}+\\frac{v_{\\beta}}{L}+k_{1}\\left(i_{\\beta}-\\hat{i}_{\\beta}\\right) \\\\\n",
    "\\frac{d \\hat{e}_{\\alpha}}{d t}=-\\omega_{e} \\hat{e}_{\\beta}+k_{2}\\left(i_{\\alpha}-\\hat{i}_{\\alpha}\\right) \\\\\n",
    "\\frac{d \\hat{e}_{\\beta}}{d t}=\\omega_{e} \\hat{e}_{\\alpha}+k_{2}\\left(i_{\\beta}-\\hat{i}_{\\beta}\\right)\n",
    "\\end{array}\\right.\n",
    "$"
   ]
  }
 ],
 "metadata": {
  "kernelspec": {
   "display_name": "Python 3.10.5 64-bit",
   "language": "python",
   "name": "python3"
  },
  "language_info": {
   "codemirror_mode": {
    "name": "ipython",
    "version": 3
   },
   "file_extension": ".py",
   "mimetype": "text/x-python",
   "name": "python",
   "nbconvert_exporter": "python",
   "pygments_lexer": "ipython3",
   "version": "3.10.5"
  },
  "orig_nbformat": 4,
  "vscode": {
   "interpreter": {
    "hash": "08436e1dada134e6f143ad49e4eee140dcced4b0aa01ee837effa9e93d0a4d35"
   }
  }
 },
 "nbformat": 4,
 "nbformat_minor": 2
}
