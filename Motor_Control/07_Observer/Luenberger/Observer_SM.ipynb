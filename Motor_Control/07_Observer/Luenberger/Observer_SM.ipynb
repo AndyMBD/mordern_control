{
 "cells": [
  {
   "attachments": {},
   "cell_type": "markdown",
   "metadata": {},
   "source": [
    "# ***Slide Mode Observer***"
   ]
  },
  {
   "cell_type": "markdown",
   "metadata": {},
   "source": [
    "## Luenbeger Based Methods"
   ]
  },
  {
   "attachments": {},
   "cell_type": "markdown",
   "metadata": {},
   "source": [
    "$\\dot{i_{s}}=A*i_{s}+B*(u_s-e_s)$\\\n",
    "$\\dot{e_s}=K*e_s$"
   ]
  },
  {
   "attachments": {},
   "cell_type": "markdown",
   "metadata": {},
   "source": [
    "system state is $x=\\begin{bmatrix}I_s\\\\e_s\\end{bmatrix}$\n",
    "output is $y=\\begin{bmatrix}I_s\\end{bmatrix}$"
   ]
  },
  {
   "attachments": {},
   "cell_type": "markdown",
   "metadata": {},
   "source": [
    "$\\dot{\\hat{i_{s}}}=A*\\hat{i_{s}}+B*(u_s-\\hat{e_s})+L_1f(i_s-\\hat{i_s})$\\\n",
    "$\\dot{\\hat{e_s}}=K*\\hat{e_s}+L_2f(i_s-\\hat{i_s})$"
   ]
  },
  {
   "attachments": {},
   "cell_type": "markdown",
   "metadata": {},
   "source": [
    "等速趋近率"
   ]
  },
  {
   "attachments": {},
   "cell_type": "markdown",
   "metadata": {},
   "source": [
    "$\\dot{s}=-k_1sgn(s)$  \n",
    "$K_1>0$"
   ]
  },
  {
   "attachments": {},
   "cell_type": "markdown",
   "metadata": {},
   "source": [
    "指数趋近率"
   ]
  },
  {
   "attachments": {},
   "cell_type": "markdown",
   "metadata": {},
   "source": [
    "$\\dot{s}=-k_1sgn(s)-k_2s$  \n",
    "$K_1>0,K_2>0$"
   ]
  },
  {
   "cell_type": "markdown",
   "metadata": {},
   "source": [
    "$\\dot{\\hat{x}}=A*\\hat{x}+B*u+L(y-\\hat{y})$\\\n",
    "$\\hat{y}=C*\\hat{x}+D*u$"
   ]
  },
  {
   "attachments": {},
   "cell_type": "markdown",
   "metadata": {},
   "source": [
    "Nonlinear Speed Control for PMSM System Using Sliding-Mode Control and Disturbance Compensation Techniques"
   ]
  }
 ],
 "metadata": {
  "kernelspec": {
   "display_name": "Python 3 (ipykernel)",
   "language": "python",
   "name": "python3"
  },
  "language_info": {
   "codemirror_mode": {
    "name": "ipython",
    "version": 3
   },
   "file_extension": ".py",
   "mimetype": "text/x-python",
   "name": "python",
   "nbconvert_exporter": "python",
   "pygments_lexer": "ipython3",
   "version": "3.10.5"
  },
  "toc": {
   "base_numbering": 1,
   "nav_menu": {},
   "number_sections": true,
   "sideBar": true,
   "skip_h1_title": false,
   "title_cell": "Table of Contents",
   "title_sidebar": "Contents",
   "toc_cell": false,
   "toc_position": {},
   "toc_section_display": true,
   "toc_window_display": true
  },
  "vscode": {
   "interpreter": {
    "hash": "08436e1dada134e6f143ad49e4eee140dcced4b0aa01ee837effa9e93d0a4d35"
   }
  }
 },
 "nbformat": 4,
 "nbformat_minor": 2
}
