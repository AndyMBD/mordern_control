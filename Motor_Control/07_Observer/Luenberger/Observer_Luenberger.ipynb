{
 "cells": [
  {
   "cell_type": "markdown",
   "metadata": {},
   "source": [
    "# ***Luenberger Observer***"
   ]
  },
  {
   "cell_type": "markdown",
   "metadata": {},
   "source": [
    "## Luenbeger Based Methods"
   ]
  },
  {
   "cell_type": "markdown",
   "metadata": {},
   "source": [
    "<img src=./Observer_Luenberger.png width=\"500\" height =\"450\">"
   ]
  },
  {
   "cell_type": "markdown",
   "metadata": {},
   "source": [
    "## Solution 1"
   ]
  },
  {
   "cell_type": "markdown",
   "metadata": {},
   "source": [
    "$\\dot{\\hat{x}}=A*\\hat{x}+B*u+L(y-\\hat{y})$\\\n",
    "$\\hat{y}=C*\\hat{x}+D*u$"
   ]
  },
  {
   "cell_type": "markdown",
   "metadata": {},
   "source": [
    "$\\dot{x}=A*x+B*u$\\\n",
    "$y=C*x+D*u$"
   ]
  },
  {
   "cell_type": "markdown",
   "metadata": {},
   "source": [
    "$\\begin{aligned}\n",
    " \\dot{e}&=\\dot{x}-\\dot{\\hat{x}} \\\\\n",
    "        &=A*x+B*u-A*\\hat{x}-B*u-L(y-\\hat{y})\\\\\n",
    "        &=A*(x-\\hat{x})-L(C*x+D*u-C*\\hat{x}-D*u)\\\\\n",
    "        &=A*(x-\\hat{x})-L*C(x-\\hat{x})\\\\\n",
    "        &=(A-L*C)(x-\\hat{x})\\\\\n",
    "        &=(A-L*C)*e\\\\\n",
    "\\end{aligned}$"
   ]
  },
  {
   "attachments": {},
   "cell_type": "markdown",
   "metadata": {},
   "source": [
    "$x(t)-\\hat{x}(t)=e^{\\begin{bmatrix}A-LC\\end{bmatrix}}e_0$\\\n",
    "if we want to let $x(t)-\\hat{x}(t)$ to $Zero$,the eginvalue  $[A-LC]$shall be in left side"
   ]
  },
  {
   "cell_type": "markdown",
   "metadata": {},
   "source": [
    "## Solution 2"
   ]
  },
  {
   "cell_type": "markdown",
   "metadata": {},
   "source": [
    "$\\dot{x}=A*x+B*u$\\\n",
    "$y=C*x+D*u$"
   ]
  },
  {
   "cell_type": "markdown",
   "metadata": {},
   "source": [
    "$\\dot{\\hat{x}}=A*\\hat{x}+B*u$\\\n",
    "$\\hat{y}=C*\\hat{x}+D*u$"
   ]
  },
  {
   "cell_type": "markdown",
   "metadata": {},
   "source": [
    "$\\dot{x}-\\dot{\\hat{x}}=A*(x-\\hat{x})$\\\n",
    "$y-\\hat{y}=C*(x-\\hat{x})$\\\n",
    "$\\dot{e}=A*e$\\\n",
    "$y-\\hat{y}=C*e$\n"
   ]
  },
  {
   "cell_type": "markdown",
   "metadata": {},
   "source": [
    "**Use output error as negative feedback to make e close to zero with time increase**"
   ]
  },
  {
   "cell_type": "markdown",
   "metadata": {},
   "source": [
    "$\\begin{aligned}\n",
    "\\dot{e}\n",
    "        &=A*e-L(y-\\hat{y})\\\\\n",
    "        &=A*e-L*C*e\\\\\n",
    "        &=(A-L*C)e\\\\\n",
    "\\end{aligned}\\hspace*{50cm}$"
   ]
  },
  {
   "attachments": {},
   "cell_type": "markdown",
   "metadata": {},
   "source": [
    "To make the e limit to $zero$,eigvalue of $A-L*C$ shall have all negative"
   ]
  },
  {
   "cell_type": "markdown",
   "metadata": {},
   "source": [
    "## Motor Model"
   ]
  },
  {
   "attachments": {},
   "cell_type": "markdown",
   "metadata": {},
   "source": [
    "### Transfer function （$\\alpha \\beta$）"
   ]
  },
  {
   "cell_type": "markdown",
   "metadata": {},
   "source": [
    "$\n",
    "U_{\\alpha}=R_si_\\alpha +L_s\\frac{di_{\\alpha}}{dt} +e_{\\alpha}   \\\\\n",
    "U_{\\beta} =R_si_{\\beta}+L_s\\frac{di_{\\beta}}{dt}  +e_{\\beta  }  \\\\\n",
    "$"
   ]
  },
  {
   "cell_type": "markdown",
   "metadata": {},
   "source": [
    "$\n",
    "e_{\\alpha} =U_{\\alpha}-R_si_\\alpha -L_s\\frac{di_{\\alpha}}{dt}\\\\\n",
    "e_{\\beta  }=U_{\\beta} -R_si_{\\beta}-L_s\\frac{di_{\\beta}}{dt}   \\\\\n",
    "$"
   ]
  },
  {
   "cell_type": "markdown",
   "metadata": {},
   "source": [
    "$\n",
    "\\begin{aligned}\n",
    "\\frac{de_{\\alpha }}{dt}&=-\\zeta\\omega_e^2 cos(\\omega_e*\\theta)\\\\\n",
    "                       &=-\\omega_e e_{\\beta  }\\\\\n",
    "\\frac{de_{\\beta }}{dt}&=-\\zeta\\omega_e^2 sin(\\omega_e*\\theta) \\\\\n",
    "                      &=\\omega_e e_{\\alpha  }\\\\\n",
    "\\end{aligned}\n",
    "$\n"
   ]
  },
  {
   "cell_type": "markdown",
   "metadata": {},
   "source": [
    "$\n",
    "L_s\\frac{di_{\\alpha}}{dt}=U_{\\alpha} - R_si_\\alpha-e_{\\alpha } \\\\\n",
    "L_s\\frac{di_{\\beta}}{dt} =U_{\\beta}  - R_si_\\beta-e_{\\beta  } \\\\\n",
    "$"
   ]
  },
  {
   "cell_type": "markdown",
   "metadata": {},
   "source": [
    "$\n",
    "L_s\\frac{di_{\\alpha}}{dt}+R_si_\\alpha=U_{\\alpha}-e_{\\alpha } \\\\\n",
    "L_s\\frac{di_{\\beta}}{dt}+R_si_{\\beta}=U_{\\beta}-e_{\\beta  } \\\\\n",
    "$"
   ]
  },
  {
   "cell_type": "markdown",
   "metadata": {},
   "source": [
    "$\n",
    "L_s\\frac{d\\hat{i}_{\\alpha}}{dt}+R_s\\hat{i}_\\alpha=U_{\\alpha}-\\hat{e}_{\\alpha } \\\\\n",
    "L_s\\frac{d\\hat{i}_{\\beta}}{dt}+R_s\\hat{i}_{\\beta}=U_{\\beta}-\\hat{e}_{\\beta  } \\\\\n",
    "$"
   ]
  },
  {
   "cell_type": "markdown",
   "metadata": {},
   "source": [
    "$\n",
    "L_s\\frac{di_{\\alpha}}{dt}+R_si_\\alpha-L_s\\frac{d\\hat{i_{\\alpha}}}{dt}-R_s\\hat{i_\\alpha}=U_{\\alpha}-e_{\\alpha }-U_{\\alpha}+\\hat{e_{\\alpha }} \\\\\n",
    "L_s\\frac{di_{\\beta}}{dt}+R_si_{\\beta}-L_s\\frac{d\\hat{i_{\\beta}}}{dt}-R_s\\hat{i_{\\beta}}=U_{\\beta}-e_{\\beta  }-U_{\\beta}+\\hat{e_{\\beta  }} \\\\\n",
    "$"
   ]
  },
  {
   "cell_type": "markdown",
   "metadata": {},
   "source": [
    "$\n",
    "L_s(\\frac{di_{\\alpha}}{dt}-\\frac{d\\hat{i_{\\alpha}}}{dt})+R_s(i_\\alpha-\\hat{i_\\alpha})=-e_{\\alpha }+\\hat{e_{\\alpha }} \\\\\n",
    "L_s(\\frac{di_{\\beta}}{dt}-\\frac{d\\hat{i_{\\beta}}}{dt})+R_s(i_{\\beta}-\\hat{i_{\\beta}})=-e_{\\beta  }+\\hat{e_{\\beta  }} \\\\\n",
    "$"
   ]
  },
  {
   "cell_type": "markdown",
   "metadata": {},
   "source": [
    "$\n",
    "L_s(\\frac{di_{\\alpha}}{dt}-\\frac{d\\hat{i_{\\alpha}}}{dt})+R_s(i_\\alpha-\\hat{i_\\alpha})=-e_{\\alpha }+L(i_\\alpha-\\hat{i_\\alpha}) \\\\\n",
    "L_s(\\frac{di_{\\beta}}{dt}-\\frac{d\\hat{i_{\\beta}}}{dt})+R_s(i_{\\beta}-\\hat{i_{\\beta}})=-e_{\\beta  }+L(i_\\beta-\\hat{i_\\beta}) \\\\\n",
    "$"
   ]
  },
  {
   "cell_type": "markdown",
   "metadata": {},
   "source": [
    "$\n",
    "L_s(\\frac{di_{\\alpha}}{dt}-\\frac{d\\hat{i_{\\alpha}}}{dt})+(R_s-L)(i_\\alpha-\\hat{i_\\alpha})=-e_{\\alpha }\\\\\n",
    "L_s(\\frac{di_{\\beta}}{dt}-\\frac{d\\hat{i_{\\beta}}}{dt})+(R_s-L)(i_{\\beta}-\\hat{i_{\\beta}})=-e_{\\beta  } \\\\\n",
    "$"
   ]
  },
  {
   "cell_type": "markdown",
   "metadata": {},
   "source": [
    "$\n",
    "E_\\alpha=i_\\alpha-\\hat{i_\\alpha}\\\\\n",
    "E_\\beta=i_\\beta-\\hat{i_\\beta}\\\\\n",
    "$"
   ]
  },
  {
   "cell_type": "markdown",
   "metadata": {},
   "source": [
    "$\n",
    "L_s\\dot{E_\\alpha}+(R_s-L)E_\\alpha=-e_{\\alpha }\\\\\n",
    "L_s\\dot{E_\\beta} +(R_s-L)E_\\beta=-e_{\\beta  } \\\\\n",
    "$"
   ]
  },
  {
   "attachments": {},
   "cell_type": "markdown",
   "metadata": {},
   "source": [
    "at steady state,$e_\\alpha$ is a constant, laplace at 2 side"
   ]
  },
  {
   "attachments": {},
   "cell_type": "markdown",
   "metadata": {},
   "source": [
    "$Tf_L=K_p+K_d s$"
   ]
  },
  {
   "attachments": {},
   "cell_type": "markdown",
   "metadata": {},
   "source": [
    "$\n",
    "L_s s+(R_s-(K_p+K_d s))=0\\\\\n",
    "$"
   ]
  },
  {
   "attachments": {},
   "cell_type": "markdown",
   "metadata": {},
   "source": [
    "$(L_s-K_d)s+R_s-K_p=0$"
   ]
  },
  {
   "attachments": {},
   "cell_type": "markdown",
   "metadata": {},
   "source": [
    "$Root=\\frac{K_p-R_s}{L_s-K_d}<0$"
   ]
  },
  {
   "attachments": {},
   "cell_type": "markdown",
   "metadata": {},
   "source": [
    "### Transfer function （$D Q$）"
   ]
  },
  {
   "cell_type": "markdown",
   "metadata": {},
   "source": [
    "$\n",
    "U_{d}=R_si_d +L_s\\frac{di_{\\alpha}}{dt} +e_{\\alpha}   \\\\\n",
    "U_{q}=R_si_q +L_s\\frac{di_{\\beta}}{dt}  +e_{\\beta  }  \\\\\n",
    "$"
   ]
  },
  {
   "attachments": {},
   "cell_type": "markdown",
   "metadata": {},
   "source": [
    "$U_d=(R+sL_d)I_d-\\omega*L_qI_q$  \n",
    "$U_q=(R+sL_q)I_q+\\omega*L_dI_d+\\omega*\\psi I_d$  "
   ]
  },
  {
   "attachments": {},
   "cell_type": "markdown",
   "metadata": {},
   "source": [
    "$U_d=(R+sL_d)I_d-\\omega*L_qI_q+e_d$  \n",
    "$U_q=(R+sL_q)I_q+\\omega*L_dI_d+e_q$  \n",
    "$e_d=e*sin(\\Delta\\theta)$  \n",
    "$e_q=e*cos(\\Delta\\theta)$  \n",
    "$e=\\omega*\\psi I_d $  "
   ]
  },
  {
   "attachments": {},
   "cell_type": "markdown",
   "metadata": {},
   "source": [
    "$U_d=(R+sL_d)I_d-\\omega*L_qI_q+e_d$  \n",
    "$U_q=(R+sL_q)I_q+\\omega*L_dI_d+e_q$  \n",
    "Set $d_d d_q$ as voltage disturbance  \n",
    "$d_d=\\omega*L_qI_q-e_d$  \n",
    "$d_q=-\\omega*L_dI_d-e_q$  \n",
    "$U_d=(R+sL_d)I_d-d_d$  \n",
    "$U_q=(R+sL_q)I_q-d_q$   "
   ]
  },
  {
   "attachments": {},
   "cell_type": "markdown",
   "metadata": {},
   "source": [
    "$s I_d=\\frac{U_d}{L_d}-\\frac{R}{L_d}I_d+\\frac{d_d}{L_d}$  \n",
    "$s I_q=\\frac{U_q}{L_q}-\\frac{R}{L_q}I_q+\\frac{d_q}{L_q}$  "
   ]
  },
  {
   "attachments": {},
   "cell_type": "markdown",
   "metadata": {},
   "source": [
    "$s \\hat{I_d}=-\\frac{R}{L_d}\\hat{I_d}+\\frac{U_d}{L_d}+\\frac{\\hat{d_d}}{L_d}+K_1(I_d-\\hat{I_d})$   \n",
    "$s\\hat{d}=K_2(I_d-\\hat{I_d})$  \n",
    "$s I_q=-\\frac{R}{L_q}I_q+\\frac{U_q}{L_q}+\\frac{\\hat{d_q}}{L_q}+K_1(I_d-\\hat{I_d})$  \n",
    "$s\\hat{q}=K_2(I_q-\\hat{I_q})$  "
   ]
  },
  {
   "attachments": {},
   "cell_type": "markdown",
   "metadata": {},
   "source": [
    "$s \\hat{I_d}=-\\frac{R}{L_d}\\hat{I_d}+\\frac{U_d}{L_d}+\\frac{\\hat{d_d}}{L_d}+K_1(I_d-\\hat{I_d})$   \n",
    "$s\\hat{d}=K_2(I_d-\\hat{I_d})$  \n"
   ]
  },
  {
   "attachments": {},
   "cell_type": "markdown",
   "metadata": {},
   "source": [
    "$(s+K_1+ \\frac{R}{L_d})\\hat{I_d}=\\frac{U_d}{L_d}+\\frac{\\hat{d_d}}{L_d}+K_1I_d$   \n",
    "$\\hat{d}=\\frac{K_2(I_d-\\hat{I_d})}{s}$  \n"
   ]
  },
  {
   "attachments": {},
   "cell_type": "markdown",
   "metadata": {},
   "source": [
    "$(s+K_1+ \\frac{R}{L_d})\\hat{I_d}=\\frac{U_d}{L_d}+\\frac{K_2(I_d-\\hat{I_d})}{s L_d}+K_1I_d$   \n",
    "$\\hat{d}=\\frac{K_2(I_d-\\hat{I_d})}{s}$  \n"
   ]
  },
  {
   "attachments": {},
   "cell_type": "markdown",
   "metadata": {},
   "source": [
    "$(s+K_1+ \\frac{R}{L_d}+\\frac{K_2}{s L_d})\\hat{I_d}=\\frac{U_d}{L_d}+\\frac{K_2I_d}{s L_d}+K_1I_d$   \n",
    "$\\hat{d_d}=\\frac{K_2(I_d-\\hat{I_d})}{s}$  \n"
   ]
  },
  {
   "attachments": {},
   "cell_type": "markdown",
   "metadata": {},
   "source": [
    "$(s^2 +s (K_1 + \\frac{R}{L_d})+\\frac{K_2}{L_d})\\hat{I_d}=s(\\frac{U_d}{L_d}+K_1I_d)+\\frac{K_2I_d}{L_d}$   \n",
    "$\\hat{I_d}=\\frac{s(\\frac{U_d}{L_d}+K_1I_d)+\\frac{K_2I_d}{L_d}}{(s^2 +s (K_1 + \\frac{R}{L_d})+\\frac{K_2}{L_d})}$\n",
    "\n"
   ]
  },
  {
   "attachments": {},
   "cell_type": "markdown",
   "metadata": {},
   "source": [
    "$\\hat{I_d}=\\frac{1}{(s^2 +s (K_1 + \\frac{R}{L_d})+\\frac{K_2}{L_d})}\\{s(\\frac{U_d}{L_d}+K_1I_d)+\\frac{K_2I_d}{L_d}\\}$"
   ]
  },
  {
   "attachments": {},
   "cell_type": "markdown",
   "metadata": {},
   "source": [
    "$\\hat{I_d}=\\frac{\\frac{K_2}{L_d}}{(s^2 +s (K_1 + \\frac{R}{L_d})+\\frac{K_2}{L_d})}\\{\\frac{s}{K_2}U_d+(1+\\frac{K_1}{K_2}L_ds)I_d\\}$"
   ]
  },
  {
   "attachments": {},
   "cell_type": "markdown",
   "metadata": {},
   "source": [
    "$\\hat{I_d}=\\frac{\\frac{K_2}{L_d}}{(s^2 +s (K_1 + \\frac{R}{L_d})+\\frac{K_2}{L_d})}\\{(1+\\frac{K_1}{K_2}L_ds)I_d+\\frac{s}{K_2}U_d\\}$"
   ]
  },
  {
   "attachments": {},
   "cell_type": "markdown",
   "metadata": {},
   "source": [
    "$\\hat{d_d}=\\frac{\\frac{K_2}{L_d}}{(s^2 +s (K_1 + \\frac{R}{L_d})+\\frac{K_2}{L_d})}\\{(L_ds+R)I_d-U_d\\}$  "
   ]
  },
  {
   "attachments": {},
   "cell_type": "markdown",
   "metadata": {},
   "source": [
    "$\\omega_n=\\sqrt{\\frac{K_2}{L_d}}$  \n",
    "$\\zeta=\\frac{\\frac{R}{L_d}+K_1}{2\\sqrt{\\frac{K_2}{L_d}}}$"
   ]
  },
  {
   "attachments": {},
   "cell_type": "markdown",
   "metadata": {},
   "source": [
    "$K_1=2*\\zeta_{EG}\\omega_{EG}-\\frac{R}{L_d}$  \n",
    "$K_2=\\omega_{EG}^2L_d$"
   ]
  },
  {
   "attachments": {},
   "cell_type": "markdown",
   "metadata": {},
   "source": [
    "$\\hat{I_d}=\\frac{1}{s}\\{-\\frac{R}{L_d}\\hat{I_d}+\\frac{\\hat{d_d}}{L_d}+\\frac{U_d}{L_d}+K_1(I_d-\\hat{I_d})\\}$  \n",
    "$\\hat{d_d}=\\frac{1}{s}\\{K_2(I_d-\\hat{I_d})\\}$"
   ]
  },
  {
   "attachments": {},
   "cell_type": "markdown",
   "metadata": {},
   "source": [
    "$\\omega_{𝐸𝐺}$ : Desired natural frequency of BEMF estimation system  \n",
    "$\\zeta_{𝐸𝐺}$ : Desired damping ratio of BEMF estimation system"
   ]
  },
  {
   "attachments": {},
   "cell_type": "markdown",
   "metadata": {},
   "source": [
    "$\\hat{d_d}=\\frac{K_2(I_d-\\hat{I_d})}{s}$  \n",
    "$\\hat{d_d}=\\frac{K_2(I_d-\\frac{\\frac{K_2}{L_d}}{(s^2 +s (K_1 + \\frac{R}{L_d})+\\frac{K_2}{L_d})}\\{(1+\\frac{K_1}{K_2}L_ds)I_d+\\frac{s}{K_2}U_d\\})}{s}$  \n"
   ]
  },
  {
   "attachments": {},
   "cell_type": "markdown",
   "metadata": {},
   "source": [
    "$\\hat{d_d}=\\frac{K_2(I_d-\\hat{I_d})}{s}$  \n",
    "\n"
   ]
  },
  {
   "cell_type": "markdown",
   "metadata": {},
   "source": [
    "### State states"
   ]
  },
  {
   "cell_type": "markdown",
   "metadata": {},
   "source": [
    "<img src=./Observer_Luenberger_2.png width=\"500\" height =\"550\">"
   ]
  },
  {
   "cell_type": "markdown",
   "metadata": {},
   "source": [
    "$\\dot{x}=A*x+B*u$\\\n",
    "$y=C*x+D*u$"
   ]
  },
  {
   "cell_type": "markdown",
   "metadata": {},
   "source": [
    "$\\dot{\\hat{x}}=A*\\hat{x}+B*u+L(y-\\hat{y})$\\\n",
    "$\\hat{y}=C*\\hat{x}+D*u$"
   ]
  },
  {
   "attachments": {},
   "cell_type": "markdown",
   "metadata": {},
   "source": [
    "$\n",
    "L_s\\frac{di_{\\alpha}}{dt}+R_si_\\alpha=U_{\\alpha}-e_{\\alpha } \\\\\n",
    "L_s\\frac{di_{\\beta}}{dt}+R_si_{\\beta}=U_{\\beta}-e_{\\beta  } \\\\\n",
    "\\frac{de_{\\alpha }}{dt}=-\\omega_e e_{\\beta  }\\\\\n",
    "\\frac{de_{\\beta }}{dt}=\\omega_e e_{\\alpha  }\\\\\n",
    "$"
   ]
  },
  {
   "attachments": {},
   "cell_type": "markdown",
   "metadata": {},
   "source": [
    "$\n",
    "\\frac{di_{\\alpha}}{dt}=-\\frac{R_s}{L_s}i_\\alpha+\\frac{1}{L_s}U_{\\alpha}-\\frac{1}{L_s}e_{\\alpha } \\\\\n",
    "\\frac{di_{\\beta}}{dt}=-\\frac{R_s}{L_s}i_{\\beta}+\\frac{1}{L_s}U_{\\beta}-\\frac{1}{L_s}e_{\\beta  } \\\\\n",
    "\\frac{de_{\\alpha }}{dt}=-\\omega_e e_{\\beta  }\\\\\n",
    "\\frac{de_{\\beta }}{dt}=\\omega_e e_{\\alpha  }\\\\\n",
    "$"
   ]
  },
  {
   "attachments": {},
   "cell_type": "markdown",
   "metadata": {},
   "source": [
    "$\\begin{bmatrix}\n",
    "\\frac{di_{\\alpha}}{dt} \\\\\n",
    "\\frac{di_{\\beta}}{dt}\\\\\n",
    "\\frac{de_{\\alpha }}{dt}\\\\\n",
    "\\frac{de_{\\beta }}{dt}\\\\\n",
    "\\end{bmatrix}=\n",
    "\\begin{bmatrix}\n",
    "-\\frac{R_s}{L_s}    &0                  &-\\frac{1}{L_s} &0\\\\\n",
    "0                   &-\\frac{R_s}{L_s}   &0              &-\\frac{1}{L_s}\\\\\n",
    "0                   &0                  &0              &-\\omega_e\\\\\n",
    "0                   &0                  &\\omega_e       &0\n",
    "\\end{bmatrix}*\n",
    "\\begin{bmatrix}\n",
    "i_\\alpha\\\\\n",
    "i_{\\beta}\\\\\n",
    "e_{\\alpha }\\\\\n",
    "e_{\\beta }\n",
    "\\end{bmatrix}+\n",
    "\\begin{bmatrix}\n",
    "\\frac{1}{L_s}   &   0\\\\\n",
    "0               &   \\frac{1}{L_s}\\\\\n",
    "0               &0\\\\\n",
    "0               &0\n",
    "\\end{bmatrix}*\n",
    "\\begin{bmatrix}\n",
    "U_{\\alpha}\\\\\n",
    "U_{\\beta}\n",
    "\\end{bmatrix}\\\\$"
   ]
  },
  {
   "cell_type": "markdown",
   "metadata": {},
   "source": [
    "$\n",
    "e_{\\alpha }=-\\zeta\\omega_e sin(\\omega_e*\\theta)\\\\\n",
    "e_{\\beta  }=\\zeta\\omega_e cos(\\omega_e*\\theta) \\\\\n",
    "$"
   ]
  },
  {
   "cell_type": "markdown",
   "metadata": {},
   "source": [
    "$\n",
    "e_{\\alpha }=-\\omega_e e_{\\beta  }\\\\\n",
    "e_{\\beta  }=\\omega_e e_{\\alpha  } \\\\\n",
    "$\n"
   ]
  },
  {
   "attachments": {},
   "cell_type": "markdown",
   "metadata": {},
   "source": [
    "$x=\n",
    "\\begin{bmatrix}\n",
    "i_\\alpha\\\\\n",
    "i_{\\beta}\\\\\n",
    "e_{\\alpha }\\\\\n",
    "e_{\\beta }\n",
    "\\end{bmatrix}\\\\$"
   ]
  },
  {
   "attachments": {},
   "cell_type": "markdown",
   "metadata": {},
   "source": [
    "$A=\n",
    "\\begin{bmatrix}\n",
    "-\\frac{R_s}{L_s}    &0                  &-\\frac{1}{L_s} &0\\\\\n",
    "0                   &-\\frac{R_s}{L_s}   &0              &-\\frac{1}{L_s}\\\\\n",
    "0                   &0                  &0              &-\\omega_e\\\\\n",
    "0                   &0                  &\\omega_e       &0\n",
    "\\end{bmatrix}\\\\$"
   ]
  },
  {
   "attachments": {},
   "cell_type": "markdown",
   "metadata": {},
   "source": [
    "$B=\n",
    "\\begin{bmatrix}\n",
    "\\frac{1}{L_s}   &   0\\\\\n",
    "0               &   \\frac{1}{L_s}\\\\\n",
    "0               &0\\\\\n",
    "0               &0\n",
    "\\end{bmatrix}\\\\$"
   ]
  },
  {
   "attachments": {},
   "cell_type": "markdown",
   "metadata": {},
   "source": [
    "$u=\n",
    "\\begin{bmatrix}\n",
    "U_{\\alpha}\\\\\n",
    "U_{\\beta}\n",
    "\\end{bmatrix}\\\\$"
   ]
  },
  {
   "attachments": {},
   "cell_type": "markdown",
   "metadata": {},
   "source": [
    "$C=\n",
    "\\begin{bmatrix}\n",
    "0 &0 &1 &0\\\\\n",
    "0 &0 &0 &1\\\\\n",
    "0 &0 &0 &0\\\\\n",
    "0 &0 &0 &0\n",
    "\\end{bmatrix}\\\\$"
   ]
  },
  {
   "cell_type": "markdown",
   "metadata": {},
   "source": [
    "$\n",
    "\\frac{di_{\\alpha}}{dt}=-\\frac{R_s}{L_s}i_\\alpha+\\frac{1}{L_s}U_{\\alpha}-\\frac{1}{L_s}e_{\\alpha } \\\\\n",
    "\\frac{di_{\\beta}}{dt}=-\\frac{R_s}{L_s}i_{\\beta}+\\frac{1}{L_s}U_{\\beta}-\\frac{1}{L_s}e_{\\beta  } \\\\\n",
    "\\frac{de_{\\alpha }}{dt}=-\\omega_e e_{\\beta  }\\\\\n",
    "\\frac{de_{\\beta }}{dt}=\\omega_e e_{\\alpha  }\\\\\n",
    "$"
   ]
  },
  {
   "cell_type": "markdown",
   "metadata": {},
   "source": [
    "Luenberger Observer"
   ]
  },
  {
   "cell_type": "markdown",
   "metadata": {},
   "source": [
    "$\n",
    "T_{LO}=L(\\frac{\\Delta I}{\\hat{e}})=K_p+K_ds\\\\\n",
    "$"
   ]
  },
  {
   "attachments": {},
   "cell_type": "markdown",
   "metadata": {},
   "source": [
    "### Forward difference discretization"
   ]
  },
  {
   "attachments": {},
   "cell_type": "markdown",
   "metadata": {},
   "source": [
    "#### Forward difference"
   ]
  },
  {
   "attachments": {},
   "cell_type": "markdown",
   "metadata": {},
   "source": [
    "https://math.libretexts.org/Bookshelves/Differential_Equations/Numerically_Solving_Ordinary_Differential_Equations_(Brorson)/01%3A_Chapters/1.02%3A_Forward_Euler_method\n",
    "\n",
    "$I'(t0) = \\frac{I_1-I_0} { t_1 - t_0}$"
   ]
  },
  {
   "attachments": {},
   "cell_type": "markdown",
   "metadata": {},
   "source": [
    "#### Backward difference"
   ]
  },
  {
   "attachments": {},
   "cell_type": "markdown",
   "metadata": {},
   "source": [
    "$I'(t0) = \\frac{I_0-I_{-1}} { t_0 - t_{-1}}$"
   ]
  },
  {
   "attachments": {},
   "cell_type": "markdown",
   "metadata": {},
   "source": [
    "### Central difference"
   ]
  },
  {
   "attachments": {},
   "cell_type": "markdown",
   "metadata": {},
   "source": [
    "$I'(t0) = \\frac{I_1-I_{-1}} { t_1 - t_{-1}}$"
   ]
  }
 ],
 "metadata": {
  "kernelspec": {
   "display_name": "Python 3 (ipykernel)",
   "language": "python",
   "name": "python3"
  },
  "language_info": {
   "codemirror_mode": {
    "name": "ipython",
    "version": 3
   },
   "file_extension": ".py",
   "mimetype": "text/x-python",
   "name": "python",
   "nbconvert_exporter": "python",
   "pygments_lexer": "ipython3",
   "version": "3.10.5"
  },
  "toc": {
   "base_numbering": 1,
   "nav_menu": {},
   "number_sections": true,
   "sideBar": true,
   "skip_h1_title": false,
   "title_cell": "Table of Contents",
   "title_sidebar": "Contents",
   "toc_cell": false,
   "toc_position": {},
   "toc_section_display": true,
   "toc_window_display": true
  },
  "vscode": {
   "interpreter": {
    "hash": "08436e1dada134e6f143ad49e4eee140dcced4b0aa01ee837effa9e93d0a4d35"
   }
  }
 },
 "nbformat": 4,
 "nbformat_minor": 2
}
